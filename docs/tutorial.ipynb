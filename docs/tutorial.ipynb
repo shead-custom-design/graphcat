{
 "cells": [
  {
   "cell_type": "raw",
   "metadata": {
    "raw_mimetype": "text/restructuredtext"
   },
   "source": [
    ".. image:: ../artwork/logo.png\n",
    "    :width: 300px\n",
    "    :align: right\n",
    "\n",
    "Tutorial\n",
    "========\n",
    "\n",
    "Imagine that you have a workflow made up of three tasks \"A\", \"B\", and \"C\", and the tasks need to always happen in the right order: task \"C\" depends on the output of task \"A\", and also depends on the output of task \"B\".  Further, imagine that the individual tasks are time-consuming, so that you don't want to execute a task unless it's really necessary: if something has changed that only affects task \"C\", and tasks \"A\" and \"B\" have already been completed, then you only need to execute task \"C\".  Over time, keeping track of which tasks need to be executed can become extremely complex as your workflow grows, branches, and merges.\n",
    "\n",
    "Graphcat is a tool that allows you to explicitly capture this kind of workflow in a *computational graph*, managing the details of executing each task in the proper order and at the proper time, no matter the state of the graph or the complexity of the workflow.  Graphcat doesn't care what kind of data your graph manages, doesn't dictate how you name the entities in the graph, provides advanced functionality like loops and expression-based tasks, and is easy to learn.\n",
    "\n",
    "Intrigued?  Let's look at some code!"
   ]
  },
  {
   "cell_type": "markdown",
   "metadata": {},
   "source": [
    "## The Basics"
   ]
  },
  {
   "cell_type": "raw",
   "metadata": {
    "raw_mimetype": "text/restructuredtext"
   },
   "source": [
    "First, we import :mod:`graphcat`, which includes all of the functionality for managing computational graphs.  If you're using Graphcat in your scripts, this will likely be all you need.  For this tutorial we also import :mod:`graphcat.notebook`, so we can see the state of our graphs as we work."
   ]
  },
  {
   "cell_type": "code",
   "execution_count": 1,
   "metadata": {},
   "outputs": [],
   "source": [
    "import graphcat\n",
    "import graphcat.notebook"
   ]
  },
  {
   "cell_type": "markdown",
   "metadata": {},
   "source": [
    "Next, let's reproduce the example workflow from above, starting with an (initially empty) computational graph:"
   ]
  },
  {
   "cell_type": "code",
   "execution_count": 2,
   "metadata": {},
   "outputs": [],
   "source": [
    "graph = graphcat.StaticGraph()"
   ]
  },
  {
   "cell_type": "markdown",
   "metadata": {},
   "source": [
    "Next, we will add tasks to the graph, identified using unique string names:"
   ]
  },
  {
   "cell_type": "code",
   "execution_count": 3,
   "metadata": {},
   "outputs": [],
   "source": [
    "graph.add_task(\"A\")\n",
    "graph.add_task(\"B\")\n",
    "graph.add_task(\"C\")"
   ]
  },
  {
   "cell_type": "markdown",
   "metadata": {},
   "source": [
    "Note that a task name can be any hashable object, not just a string - we used strings in this case because they map well to our particular problem.\n",
    "\n",
    "Now, we can define the links that determine which tasks depend on previous tasks:"
   ]
  },
  {
   "cell_type": "code",
   "execution_count": 4,
   "metadata": {},
   "outputs": [],
   "source": [
    "graph.add_links(source=\"A\", targets=\"C\")\n",
    "graph.add_links(source=\"B\", targets=\"C\")"
   ]
  },
  {
   "cell_type": "markdown",
   "metadata": {},
   "source": [
    "There are two ways to think about links.  One way is to picture data \"flowing\" through the links from the source tasks to the target tasks, which is why we sometimes call the sources \"upstream\" and the targets \"downstream\".  Alternatively, you can say that the target of a link \"depends on\" the source - anytime the source changes, the target needs to change, along with all of *its* targets, and-so-on.  Both viewpoints are completely valid, and you will find that both are useful, depending on the context.\n",
    "\n",
    "Finally, because a picture is worth $1\\times10^3$ words, let's see what the graph looks like so far:"
   ]
  },
  {
   "cell_type": "code",
   "execution_count": 5,
   "metadata": {},
   "outputs": [
    {
     "data": {
      "image/svg+xml": [
       "<svg height=\"54pt\" viewBox=\"0.00 0.00 95.00 54.00\" width=\"95pt\" xmlns=\"http://www.w3.org/2000/svg\" xmlns:xlink=\"http://www.w3.org/1999/xlink\">\n",
       "<g class=\"graph\" id=\"graph0\" transform=\"scale(1 1) rotate(0) translate(4 50)\">\n",
       "<title>%3</title>\n",
       "<polygon fill=\"white\" points=\"-4,4 -4,-50 91,-50 91,4 -4,4\" stroke=\"none\"/>\n",
       "<!-- A -->\n",
       "<g class=\"node\" id=\"node1\"><title>A</title>\n",
       "<polygon fill=\"white\" points=\"29,-46 0,-46 0,-32 29,-32 29,-46\" stroke=\"#494744\"/>\n",
       "<text fill=\"#494744\" font-family=\"Helvetica,sans-Serif\" font-size=\"8.00\" text-anchor=\"middle\" x=\"14.5\" y=\"-36.6\">A</text>\n",
       "</g>\n",
       "<!-- C -->\n",
       "<g class=\"node\" id=\"node2\"><title>C</title>\n",
       "<polygon fill=\"white\" points=\"87,-30 58,-30 58,-16 87,-16 87,-30\" stroke=\"#494744\"/>\n",
       "<text fill=\"#494744\" font-family=\"Helvetica,sans-Serif\" font-size=\"8.00\" text-anchor=\"middle\" x=\"72.5\" y=\"-20.6\">C</text>\n",
       "</g>\n",
       "<!-- A&#45;&gt;C -->\n",
       "<g class=\"edge\" id=\"edge1\"><title>A-&gt;C</title>\n",
       "<path d=\"M29.056,-35.1268C34.7491,-33.5003 41.5392,-31.5602 48.0009,-29.714\" fill=\"none\" stroke=\"#494744\"/>\n",
       "<polygon fill=\"#494744\" points=\"49.0261,-33.0613 57.6798,-26.9486 47.103,-26.3306 49.0261,-33.0613\" stroke=\"#494744\"/>\n",
       "</g>\n",
       "<!-- B -->\n",
       "<g class=\"node\" id=\"node3\"><title>B</title>\n",
       "<polygon fill=\"white\" points=\"29,-14 0,-14 0,-0 29,-0 29,-14\" stroke=\"#494744\"/>\n",
       "<text fill=\"#494744\" font-family=\"Helvetica,sans-Serif\" font-size=\"8.00\" text-anchor=\"middle\" x=\"14.5\" y=\"-4.6\">B</text>\n",
       "</g>\n",
       "<!-- B&#45;&gt;C -->\n",
       "<g class=\"edge\" id=\"edge2\"><title>B-&gt;C</title>\n",
       "<path d=\"M29.056,-10.8732C34.7491,-12.4997 41.5392,-14.4398 48.0009,-16.286\" fill=\"none\" stroke=\"#494744\"/>\n",
       "<polygon fill=\"#494744\" points=\"47.103,-19.6694 57.6798,-19.0514 49.0261,-12.9387 47.103,-19.6694\" stroke=\"#494744\"/>\n",
       "</g>\n",
       "</g>\n",
       "</svg>"
      ],
      "text/plain": [
       "<IPython.core.display.SVG object>"
      ]
     },
     "metadata": {},
     "output_type": "display_data"
    }
   ],
   "source": [
    "graphcat.notebook.display(graph)"
   ]
  },
  {
   "cell_type": "raw",
   "metadata": {
    "raw_mimetype": "text/restructuredtext"
   },
   "source": [
    "Notice that each task is drawn as a box, labelled with the task name, and the links are drawn as arrows that point from sources to targets, i.e. the arrows point in the direction of data flow. \n",
    "\n",
    "Of course, all we've done so far is define how our tasks relate to one another - we haven't actually executed any of them.  Before we do so, let's introduce some logging so we can see what Graphcat's doing under the hood.  We'll import the standard Python :mod:`logging` module and configure it to log informational messages.  Then, we create a special :class:`graphcat.Logger` object that will watch the computational graph and log events as they happen:"
   ]
  },
  {
   "cell_type": "code",
   "execution_count": 6,
   "metadata": {},
   "outputs": [],
   "source": [
    "import logging\n",
    "logging.basicConfig(level=logging.INFO)\n",
    "logger = graphcat.Logger(graph)"
   ]
  },
  {
   "cell_type": "markdown",
   "metadata": {},
   "source": [
    "By default, newly-created tasks are marked as *unfinished*, because they haven't been executed yet.  Let's begin by finishing task \"A\" - Graphcat refers to this as *updating* the task:"
   ]
  },
  {
   "cell_type": "code",
   "execution_count": 7,
   "metadata": {},
   "outputs": [
    {
     "name": "stderr",
     "output_type": "stream",
     "text": [
      "INFO:graphcat:Task A executing. Inputs: {}\n",
      "INFO:graphcat:Task A finished. Output: None\n"
     ]
    },
    {
     "data": {
      "image/svg+xml": [
       "<svg height=\"54pt\" viewBox=\"0.00 0.00 95.00 54.00\" width=\"95pt\" xmlns=\"http://www.w3.org/2000/svg\" xmlns:xlink=\"http://www.w3.org/1999/xlink\">\n",
       "<g class=\"graph\" id=\"graph0\" transform=\"scale(1 1) rotate(0) translate(4 50)\">\n",
       "<title>%3</title>\n",
       "<polygon fill=\"white\" points=\"-4,4 -4,-50 91,-50 91,4 -4,4\" stroke=\"none\"/>\n",
       "<!-- A -->\n",
       "<g class=\"node\" id=\"node1\"><title>A</title>\n",
       "<polygon fill=\"#494744\" points=\"29,-46 0,-46 0,-32 29,-32 29,-46\" stroke=\"#494744\"/>\n",
       "<text fill=\"white\" font-family=\"Helvetica,sans-Serif\" font-size=\"8.00\" text-anchor=\"middle\" x=\"14.5\" y=\"-36.6\">A</text>\n",
       "</g>\n",
       "<!-- C -->\n",
       "<g class=\"node\" id=\"node2\"><title>C</title>\n",
       "<polygon fill=\"white\" points=\"87,-30 58,-30 58,-16 87,-16 87,-30\" stroke=\"#494744\"/>\n",
       "<text fill=\"#494744\" font-family=\"Helvetica,sans-Serif\" font-size=\"8.00\" text-anchor=\"middle\" x=\"72.5\" y=\"-20.6\">C</text>\n",
       "</g>\n",
       "<!-- A&#45;&gt;C -->\n",
       "<g class=\"edge\" id=\"edge1\"><title>A-&gt;C</title>\n",
       "<path d=\"M29.056,-35.1268C34.7491,-33.5003 41.5392,-31.5602 48.0009,-29.714\" fill=\"none\" stroke=\"#494744\"/>\n",
       "<polygon fill=\"#494744\" points=\"49.0261,-33.0613 57.6798,-26.9486 47.103,-26.3306 49.0261,-33.0613\" stroke=\"#494744\"/>\n",
       "</g>\n",
       "<!-- B -->\n",
       "<g class=\"node\" id=\"node3\"><title>B</title>\n",
       "<polygon fill=\"white\" points=\"29,-14 0,-14 0,-0 29,-0 29,-14\" stroke=\"#494744\"/>\n",
       "<text fill=\"#494744\" font-family=\"Helvetica,sans-Serif\" font-size=\"8.00\" text-anchor=\"middle\" x=\"14.5\" y=\"-4.6\">B</text>\n",
       "</g>\n",
       "<!-- B&#45;&gt;C -->\n",
       "<g class=\"edge\" id=\"edge2\"><title>B-&gt;C</title>\n",
       "<path d=\"M29.056,-10.8732C34.7491,-12.4997 41.5392,-14.4398 48.0009,-16.286\" fill=\"none\" stroke=\"#494744\"/>\n",
       "<polygon fill=\"#494744\" points=\"47.103,-19.6694 57.6798,-19.0514 49.0261,-12.9387 47.103,-19.6694\" stroke=\"#494744\"/>\n",
       "</g>\n",
       "</g>\n",
       "</svg>"
      ],
      "text/plain": [
       "<IPython.core.display.SVG object>"
      ]
     },
     "metadata": {},
     "output_type": "display_data"
    }
   ],
   "source": [
    "graph.update(\"A\")\n",
    "graphcat.notebook.display(graph)"
   ]
  },
  {
   "cell_type": "raw",
   "metadata": {
    "raw_mimetype": "text/restructuredtext"
   },
   "source": [
    "The call to :meth:`graphcat.StaticGraph.update` *executes* the unfinished task, which we see in the first line of logging; once the task has been executed, the second line in the log shows that its state is now *finished* (ignore the \"Inputs: ...\" and \"Output: ...\" text in the log, we will explain their meaning shortly).  Note that in our visualization task \"A\" is now rendered with a black background to show that the task is now finished.\n",
    "\n",
    "Continuing on, let's update task \"C\" and see what happens:"
   ]
  },
  {
   "cell_type": "code",
   "execution_count": 8,
   "metadata": {},
   "outputs": [
    {
     "name": "stderr",
     "output_type": "stream",
     "text": [
      "INFO:graphcat:Task B executing. Inputs: {}\n",
      "INFO:graphcat:Task B finished. Output: None\n",
      "INFO:graphcat:Task C executing. Inputs: {None: [None, None]}\n",
      "INFO:graphcat:Task C finished. Output: None\n"
     ]
    },
    {
     "data": {
      "image/svg+xml": [
       "<svg height=\"54pt\" viewBox=\"0.00 0.00 95.00 54.00\" width=\"95pt\" xmlns=\"http://www.w3.org/2000/svg\" xmlns:xlink=\"http://www.w3.org/1999/xlink\">\n",
       "<g class=\"graph\" id=\"graph0\" transform=\"scale(1 1) rotate(0) translate(4 50)\">\n",
       "<title>%3</title>\n",
       "<polygon fill=\"white\" points=\"-4,4 -4,-50 91,-50 91,4 -4,4\" stroke=\"none\"/>\n",
       "<!-- A -->\n",
       "<g class=\"node\" id=\"node1\"><title>A</title>\n",
       "<polygon fill=\"#494744\" points=\"29,-46 0,-46 0,-32 29,-32 29,-46\" stroke=\"#494744\"/>\n",
       "<text fill=\"white\" font-family=\"Helvetica,sans-Serif\" font-size=\"8.00\" text-anchor=\"middle\" x=\"14.5\" y=\"-36.6\">A</text>\n",
       "</g>\n",
       "<!-- C -->\n",
       "<g class=\"node\" id=\"node2\"><title>C</title>\n",
       "<polygon fill=\"#494744\" points=\"87,-30 58,-30 58,-16 87,-16 87,-30\" stroke=\"#494744\"/>\n",
       "<text fill=\"white\" font-family=\"Helvetica,sans-Serif\" font-size=\"8.00\" text-anchor=\"middle\" x=\"72.5\" y=\"-20.6\">C</text>\n",
       "</g>\n",
       "<!-- A&#45;&gt;C -->\n",
       "<g class=\"edge\" id=\"edge1\"><title>A-&gt;C</title>\n",
       "<path d=\"M29.056,-35.1268C34.7491,-33.5003 41.5392,-31.5602 48.0009,-29.714\" fill=\"none\" stroke=\"#494744\"/>\n",
       "<polygon fill=\"#494744\" points=\"49.0261,-33.0613 57.6798,-26.9486 47.103,-26.3306 49.0261,-33.0613\" stroke=\"#494744\"/>\n",
       "</g>\n",
       "<!-- B -->\n",
       "<g class=\"node\" id=\"node3\"><title>B</title>\n",
       "<polygon fill=\"#494744\" points=\"29,-14 0,-14 0,-0 29,-0 29,-14\" stroke=\"#494744\"/>\n",
       "<text fill=\"white\" font-family=\"Helvetica,sans-Serif\" font-size=\"8.00\" text-anchor=\"middle\" x=\"14.5\" y=\"-4.6\">B</text>\n",
       "</g>\n",
       "<!-- B&#45;&gt;C -->\n",
       "<g class=\"edge\" id=\"edge2\"><title>B-&gt;C</title>\n",
       "<path d=\"M29.056,-10.8732C34.7491,-12.4997 41.5392,-14.4398 48.0009,-16.286\" fill=\"none\" stroke=\"#494744\"/>\n",
       "<polygon fill=\"#494744\" points=\"47.103,-19.6694 57.6798,-19.0514 49.0261,-12.9387 47.103,-19.6694\" stroke=\"#494744\"/>\n",
       "</g>\n",
       "</g>\n",
       "</svg>"
      ],
      "text/plain": [
       "<IPython.core.display.SVG object>"
      ]
     },
     "metadata": {},
     "output_type": "display_data"
    }
   ],
   "source": [
    "graph.update(\"C\")\n",
    "graphcat.notebook.display(graph)"
   ]
  },
  {
   "cell_type": "raw",
   "metadata": {
    "raw_mimetype": "text/restructuredtext"
   },
   "source": [
    "Looking closely at the log, we see that Task \"C\" is executed, but only *after* Task \"B\". Task \"A\" doesn't appear in the log at all, because it was already finished before :meth:`graphcat.StaticGraph.update` was called.  Note that this conforms to our original goals for our workflow: tasks \"A\" and \"B\" must be completed before task \"C\", and we never re-execute tasks that are already finished.\n",
    "\n",
    "To reinforce this point, let's look at what happens if a task becomes *unfinished* again.  Imagine that some outside change has made the results of task \"A\" obsolete.  We can notify Graphcat that this has happened using :meth:`graphcat.StaticGraphGraph.mark_unfinished`:"
   ]
  },
  {
   "cell_type": "code",
   "execution_count": 9,
   "metadata": {},
   "outputs": [
    {
     "data": {
      "image/svg+xml": [
       "<svg height=\"54pt\" viewBox=\"0.00 0.00 95.00 54.00\" width=\"95pt\" xmlns=\"http://www.w3.org/2000/svg\" xmlns:xlink=\"http://www.w3.org/1999/xlink\">\n",
       "<g class=\"graph\" id=\"graph0\" transform=\"scale(1 1) rotate(0) translate(4 50)\">\n",
       "<title>%3</title>\n",
       "<polygon fill=\"white\" points=\"-4,4 -4,-50 91,-50 91,4 -4,4\" stroke=\"none\"/>\n",
       "<!-- A -->\n",
       "<g class=\"node\" id=\"node1\"><title>A</title>\n",
       "<polygon fill=\"white\" points=\"29,-46 0,-46 0,-32 29,-32 29,-46\" stroke=\"#494744\"/>\n",
       "<text fill=\"#494744\" font-family=\"Helvetica,sans-Serif\" font-size=\"8.00\" text-anchor=\"middle\" x=\"14.5\" y=\"-36.6\">A</text>\n",
       "</g>\n",
       "<!-- C -->\n",
       "<g class=\"node\" id=\"node2\"><title>C</title>\n",
       "<polygon fill=\"white\" points=\"87,-30 58,-30 58,-16 87,-16 87,-30\" stroke=\"#494744\"/>\n",
       "<text fill=\"#494744\" font-family=\"Helvetica,sans-Serif\" font-size=\"8.00\" text-anchor=\"middle\" x=\"72.5\" y=\"-20.6\">C</text>\n",
       "</g>\n",
       "<!-- A&#45;&gt;C -->\n",
       "<g class=\"edge\" id=\"edge1\"><title>A-&gt;C</title>\n",
       "<path d=\"M29.056,-35.1268C34.7491,-33.5003 41.5392,-31.5602 48.0009,-29.714\" fill=\"none\" stroke=\"#494744\"/>\n",
       "<polygon fill=\"#494744\" points=\"49.0261,-33.0613 57.6798,-26.9486 47.103,-26.3306 49.0261,-33.0613\" stroke=\"#494744\"/>\n",
       "</g>\n",
       "<!-- B -->\n",
       "<g class=\"node\" id=\"node3\"><title>B</title>\n",
       "<polygon fill=\"#494744\" points=\"29,-14 0,-14 0,-0 29,-0 29,-14\" stroke=\"#494744\"/>\n",
       "<text fill=\"white\" font-family=\"Helvetica,sans-Serif\" font-size=\"8.00\" text-anchor=\"middle\" x=\"14.5\" y=\"-4.6\">B</text>\n",
       "</g>\n",
       "<!-- B&#45;&gt;C -->\n",
       "<g class=\"edge\" id=\"edge2\"><title>B-&gt;C</title>\n",
       "<path d=\"M29.056,-10.8732C34.7491,-12.4997 41.5392,-14.4398 48.0009,-16.286\" fill=\"none\" stroke=\"#494744\"/>\n",
       "<polygon fill=\"#494744\" points=\"47.103,-19.6694 57.6798,-19.0514 49.0261,-12.9387 47.103,-19.6694\" stroke=\"#494744\"/>\n",
       "</g>\n",
       "</g>\n",
       "</svg>"
      ],
      "text/plain": [
       "<IPython.core.display.SVG object>"
      ]
     },
     "metadata": {},
     "output_type": "display_data"
    }
   ],
   "source": [
    "graph.mark_unfinished(\"A\")\n",
    "graphcat.notebook.display(graph)"
   ]
  },
  {
   "cell_type": "markdown",
   "metadata": {},
   "source": [
    "Notice that both \"A\" and \"C\" have become unfinished: because \"A\" is unfinished and \"C\" depends on \"A\", \"C\" becomes unfinished too.  \"B\" is unaffected because it doesn't depend on \"A\".  Let's update \"C\" again:"
   ]
  },
  {
   "cell_type": "code",
   "execution_count": 10,
   "metadata": {},
   "outputs": [
    {
     "name": "stderr",
     "output_type": "stream",
     "text": [
      "INFO:graphcat:Task A executing. Inputs: {}\n",
      "INFO:graphcat:Task A finished. Output: None\n",
      "INFO:graphcat:Task C executing. Inputs: {None: [None, None]}\n",
      "INFO:graphcat:Task C finished. Output: None\n"
     ]
    },
    {
     "data": {
      "image/svg+xml": [
       "<svg height=\"54pt\" viewBox=\"0.00 0.00 95.00 54.00\" width=\"95pt\" xmlns=\"http://www.w3.org/2000/svg\" xmlns:xlink=\"http://www.w3.org/1999/xlink\">\n",
       "<g class=\"graph\" id=\"graph0\" transform=\"scale(1 1) rotate(0) translate(4 50)\">\n",
       "<title>%3</title>\n",
       "<polygon fill=\"white\" points=\"-4,4 -4,-50 91,-50 91,4 -4,4\" stroke=\"none\"/>\n",
       "<!-- A -->\n",
       "<g class=\"node\" id=\"node1\"><title>A</title>\n",
       "<polygon fill=\"#494744\" points=\"29,-46 0,-46 0,-32 29,-32 29,-46\" stroke=\"#494744\"/>\n",
       "<text fill=\"white\" font-family=\"Helvetica,sans-Serif\" font-size=\"8.00\" text-anchor=\"middle\" x=\"14.5\" y=\"-36.6\">A</text>\n",
       "</g>\n",
       "<!-- C -->\n",
       "<g class=\"node\" id=\"node2\"><title>C</title>\n",
       "<polygon fill=\"#494744\" points=\"87,-30 58,-30 58,-16 87,-16 87,-30\" stroke=\"#494744\"/>\n",
       "<text fill=\"white\" font-family=\"Helvetica,sans-Serif\" font-size=\"8.00\" text-anchor=\"middle\" x=\"72.5\" y=\"-20.6\">C</text>\n",
       "</g>\n",
       "<!-- A&#45;&gt;C -->\n",
       "<g class=\"edge\" id=\"edge1\"><title>A-&gt;C</title>\n",
       "<path d=\"M29.056,-35.1268C34.7491,-33.5003 41.5392,-31.5602 48.0009,-29.714\" fill=\"none\" stroke=\"#494744\"/>\n",
       "<polygon fill=\"#494744\" points=\"49.0261,-33.0613 57.6798,-26.9486 47.103,-26.3306 49.0261,-33.0613\" stroke=\"#494744\"/>\n",
       "</g>\n",
       "<!-- B -->\n",
       "<g class=\"node\" id=\"node3\"><title>B</title>\n",
       "<polygon fill=\"#494744\" points=\"29,-14 0,-14 0,-0 29,-0 29,-14\" stroke=\"#494744\"/>\n",
       "<text fill=\"white\" font-family=\"Helvetica,sans-Serif\" font-size=\"8.00\" text-anchor=\"middle\" x=\"14.5\" y=\"-4.6\">B</text>\n",
       "</g>\n",
       "<!-- B&#45;&gt;C -->\n",
       "<g class=\"edge\" id=\"edge2\"><title>B-&gt;C</title>\n",
       "<path d=\"M29.056,-10.8732C34.7491,-12.4997 41.5392,-14.4398 48.0009,-16.286\" fill=\"none\" stroke=\"#494744\"/>\n",
       "<polygon fill=\"#494744\" points=\"47.103,-19.6694 57.6798,-19.0514 49.0261,-12.9387 47.103,-19.6694\" stroke=\"#494744\"/>\n",
       "</g>\n",
       "</g>\n",
       "</svg>"
      ],
      "text/plain": [
       "<IPython.core.display.SVG object>"
      ]
     },
     "metadata": {},
     "output_type": "display_data"
    }
   ],
   "source": [
    "graph.update(\"C\")\n",
    "graphcat.notebook.display(graph)"
   ]
  },
  {
   "cell_type": "markdown",
   "metadata": {},
   "source": [
    "This time \"C\" is executed, but only after \"A\".  As expected, \"B\" isn't executed because it was already finished.\n",
    "\n",
    "By now, you should be convinced that Graphcat always knows which tasks to execute, and in what order.  This is true no matter how complex your computational graph.  In the next section, we will explore how to configure the graph to perform real work."
   ]
  },
  {
   "cell_type": "markdown",
   "metadata": {},
   "source": [
    "## Task Functions\n",
    "\n",
    "In the previous section, we learned how to represent our workflow using tasks and links, but the tasks themselves didn't actually do anything when executed.  To rectify this, we will assign *task functions* that define what a task does when executed.  A task function is simply a Python function that is called when a task is executed, returning a value that is stored as the *output* for the task.  When downstream tasks are executed, their task functions have access to the outputs from their upstream dependencies.  Thus, upstream task function outputs become downstream task function *inputs*.\n",
    "\n",
    "Let's continue with our example, by turning it into a simple calculator.  Tasks \"A\" and \"B\" will have task functions that return numbers, and task \"C\" will return the sum of its inputs.  First, we define the task functions for each task:"
   ]
  },
  {
   "cell_type": "code",
   "execution_count": 11,
   "metadata": {},
   "outputs": [],
   "source": [
    "def task_a(graph, name, inputs):\n",
    "    return 2\n",
    "\n",
    "def task_b(graph, name, inputs):\n",
    "    return 3\n",
    "\n",
    "def add(graph, name, inputs):\n",
    "    result = 0\n",
    "    for key, values in inputs.items():\n",
    "        for value in values:\n",
    "            result += value\n",
    "    return result"
   ]
  },
  {
   "cell_type": "markdown",
   "metadata": {},
   "source": [
    "Note that every task function must accept three keyword arguments: `graph`, `name` and `inputs`.  The `graph` argument is the graph that this task is a part of; `name` is the name of the task being executed, and is useful for logging and/or changing the function's behavior based on the task's identity; `inputs` is an object that behaves like a Python dict and contains the outputs from upstream tasks.\n",
    "\n",
    "Don't worry too much about how `add()` is implemented, we'll come back to the subject in a bit.\n",
    "\n",
    "Now, we can assign task functions to each task in the graph:"
   ]
  },
  {
   "cell_type": "code",
   "execution_count": 12,
   "metadata": {},
   "outputs": [
    {
     "data": {
      "image/svg+xml": [
       "<svg height=\"54pt\" viewBox=\"0.00 0.00 95.00 54.00\" width=\"95pt\" xmlns=\"http://www.w3.org/2000/svg\" xmlns:xlink=\"http://www.w3.org/1999/xlink\">\n",
       "<g class=\"graph\" id=\"graph0\" transform=\"scale(1 1) rotate(0) translate(4 50)\">\n",
       "<title>%3</title>\n",
       "<polygon fill=\"white\" points=\"-4,4 -4,-50 91,-50 91,4 -4,4\" stroke=\"none\"/>\n",
       "<!-- A -->\n",
       "<g class=\"node\" id=\"node1\"><title>A</title>\n",
       "<polygon fill=\"white\" points=\"29,-46 0,-46 0,-32 29,-32 29,-46\" stroke=\"#494744\"/>\n",
       "<text fill=\"#494744\" font-family=\"Helvetica,sans-Serif\" font-size=\"8.00\" text-anchor=\"middle\" x=\"14.5\" y=\"-36.6\">A</text>\n",
       "</g>\n",
       "<!-- C -->\n",
       "<g class=\"node\" id=\"node2\"><title>C</title>\n",
       "<polygon fill=\"white\" points=\"87,-30 58,-30 58,-16 87,-16 87,-30\" stroke=\"#494744\"/>\n",
       "<text fill=\"#494744\" font-family=\"Helvetica,sans-Serif\" font-size=\"8.00\" text-anchor=\"middle\" x=\"72.5\" y=\"-20.6\">C</text>\n",
       "</g>\n",
       "<!-- A&#45;&gt;C -->\n",
       "<g class=\"edge\" id=\"edge1\"><title>A-&gt;C</title>\n",
       "<path d=\"M29.056,-35.1268C34.7491,-33.5003 41.5392,-31.5602 48.0009,-29.714\" fill=\"none\" stroke=\"#494744\"/>\n",
       "<polygon fill=\"#494744\" points=\"49.0261,-33.0613 57.6798,-26.9486 47.103,-26.3306 49.0261,-33.0613\" stroke=\"#494744\"/>\n",
       "</g>\n",
       "<!-- B -->\n",
       "<g class=\"node\" id=\"node3\"><title>B</title>\n",
       "<polygon fill=\"white\" points=\"29,-14 0,-14 0,-0 29,-0 29,-14\" stroke=\"#494744\"/>\n",
       "<text fill=\"#494744\" font-family=\"Helvetica,sans-Serif\" font-size=\"8.00\" text-anchor=\"middle\" x=\"14.5\" y=\"-4.6\">B</text>\n",
       "</g>\n",
       "<!-- B&#45;&gt;C -->\n",
       "<g class=\"edge\" id=\"edge2\"><title>B-&gt;C</title>\n",
       "<path d=\"M29.056,-10.8732C34.7491,-12.4997 41.5392,-14.4398 48.0009,-16.286\" fill=\"none\" stroke=\"#494744\"/>\n",
       "<polygon fill=\"#494744\" points=\"47.103,-19.6694 57.6798,-19.0514 49.0261,-12.9387 47.103,-19.6694\" stroke=\"#494744\"/>\n",
       "</g>\n",
       "</g>\n",
       "</svg>"
      ],
      "text/plain": [
       "<IPython.core.display.SVG object>"
      ]
     },
     "metadata": {},
     "output_type": "display_data"
    }
   ],
   "source": [
    "graph.set_task(\"A\", task_a)\n",
    "graph.set_task(\"B\", task_b)\n",
    "graph.set_task(\"C\", add)\n",
    "graphcat.notebook.display(graph)"
   ]
  },
  {
   "cell_type": "raw",
   "metadata": {
    "raw_mimetype": "text/restructuredtext"
   },
   "source": [
    "Notice that changing the functions with :meth:`graphcat.StaticGraphGraph.set_task` also marks the tasks as unfinished.  This is an example of how Graphcat always ensures that changes to the graph will propagate to its results. Let's update the graph and see what happens:"
   ]
  },
  {
   "cell_type": "code",
   "execution_count": 13,
   "metadata": {},
   "outputs": [
    {
     "name": "stderr",
     "output_type": "stream",
     "text": [
      "INFO:graphcat:Task A executing. Inputs: {}\n",
      "INFO:graphcat:Task A finished. Output: 2\n",
      "INFO:graphcat:Task B executing. Inputs: {}\n",
      "INFO:graphcat:Task B finished. Output: 3\n",
      "INFO:graphcat:Task C executing. Inputs: {None: [2, 3]}\n",
      "INFO:graphcat:Task C finished. Output: 5\n"
     ]
    },
    {
     "data": {
      "image/svg+xml": [
       "<svg height=\"54pt\" viewBox=\"0.00 0.00 95.00 54.00\" width=\"95pt\" xmlns=\"http://www.w3.org/2000/svg\" xmlns:xlink=\"http://www.w3.org/1999/xlink\">\n",
       "<g class=\"graph\" id=\"graph0\" transform=\"scale(1 1) rotate(0) translate(4 50)\">\n",
       "<title>%3</title>\n",
       "<polygon fill=\"white\" points=\"-4,4 -4,-50 91,-50 91,4 -4,4\" stroke=\"none\"/>\n",
       "<!-- A -->\n",
       "<g class=\"node\" id=\"node1\"><title>A</title>\n",
       "<polygon fill=\"#494744\" points=\"29,-46 0,-46 0,-32 29,-32 29,-46\" stroke=\"#494744\"/>\n",
       "<text fill=\"white\" font-family=\"Helvetica,sans-Serif\" font-size=\"8.00\" text-anchor=\"middle\" x=\"14.5\" y=\"-36.6\">A</text>\n",
       "</g>\n",
       "<!-- C -->\n",
       "<g class=\"node\" id=\"node2\"><title>C</title>\n",
       "<polygon fill=\"#494744\" points=\"87,-30 58,-30 58,-16 87,-16 87,-30\" stroke=\"#494744\"/>\n",
       "<text fill=\"white\" font-family=\"Helvetica,sans-Serif\" font-size=\"8.00\" text-anchor=\"middle\" x=\"72.5\" y=\"-20.6\">C</text>\n",
       "</g>\n",
       "<!-- A&#45;&gt;C -->\n",
       "<g class=\"edge\" id=\"edge1\"><title>A-&gt;C</title>\n",
       "<path d=\"M29.056,-35.1268C34.7491,-33.5003 41.5392,-31.5602 48.0009,-29.714\" fill=\"none\" stroke=\"#494744\"/>\n",
       "<polygon fill=\"#494744\" points=\"49.0261,-33.0613 57.6798,-26.9486 47.103,-26.3306 49.0261,-33.0613\" stroke=\"#494744\"/>\n",
       "</g>\n",
       "<!-- B -->\n",
       "<g class=\"node\" id=\"node3\"><title>B</title>\n",
       "<polygon fill=\"#494744\" points=\"29,-14 0,-14 0,-0 29,-0 29,-14\" stroke=\"#494744\"/>\n",
       "<text fill=\"white\" font-family=\"Helvetica,sans-Serif\" font-size=\"8.00\" text-anchor=\"middle\" x=\"14.5\" y=\"-4.6\">B</text>\n",
       "</g>\n",
       "<!-- B&#45;&gt;C -->\n",
       "<g class=\"edge\" id=\"edge2\"><title>B-&gt;C</title>\n",
       "<path d=\"M29.056,-10.8732C34.7491,-12.4997 41.5392,-14.4398 48.0009,-16.286\" fill=\"none\" stroke=\"#494744\"/>\n",
       "<polygon fill=\"#494744\" points=\"47.103,-19.6694 57.6798,-19.0514 49.0261,-12.9387 47.103,-19.6694\" stroke=\"#494744\"/>\n",
       "</g>\n",
       "</g>\n",
       "</svg>"
      ],
      "text/plain": [
       "<IPython.core.display.SVG object>"
      ]
     },
     "metadata": {},
     "output_type": "display_data"
    }
   ],
   "source": [
    "graph.update(\"C\")\n",
    "graphcat.notebook.display(graph)"
   ]
  },
  {
   "cell_type": "raw",
   "metadata": {
    "raw_mimetype": "text/restructuredtext"
   },
   "source": [
    "Now, the full meaning of the log messages should be clearer - tasks \"A\" and \"B\" have no inputs when they execute, returning 2 and 3 respectively as their outputs.  Those outputs become inputs to \"C\" when it executes, where they are summed, so that the output of \"C\" is 5, as expected.\n",
    "\n",
    "Of course, you normally want to retrieve outputs from your graph so you can do something with them.  So far, we've only seen the outputs in log messages when we call :meth:`graphcat.StaticGraph.update`.  To retrieve the most recent output for a task, use :meth:`graphcat.StaticGraphGraph.output` instead:"
   ]
  },
  {
   "cell_type": "code",
   "execution_count": 14,
   "metadata": {},
   "outputs": [
    {
     "name": "stdout",
     "output_type": "stream",
     "text": [
      "Result: 5\n"
     ]
    }
   ],
   "source": [
    "print(\"Result:\", graph.output(\"C\"))"
   ]
  },
  {
   "cell_type": "raw",
   "metadata": {
    "raw_mimetype": "text/restructuredtext"
   },
   "source": [
    "Note that :meth:`graphcat.StaticGraphGraph.output` automatically calls :meth:`graphcat.StaticGraph.update` for you, so you can  just use the former whenever you need to execute your graph and retrieve an output.\n",
    "\n",
    "Now that our graph is peforming a real (albeit trivial) task, let's look at some ways to simplify setting it up:\n",
    "\n",
    "First, it is extremely common for a graph to have \"parameter\" tasks that simply return a value, as tasks \"A\" and \"B\" do in our example.  Having to create a separate function for every parameter, as we did for this example, would be perverse.  Fortunately, Graphcat provides a helper function, :func:`graphcat.constant`, that you can use instead:"
   ]
  },
  {
   "cell_type": "code",
   "execution_count": 15,
   "metadata": {},
   "outputs": [
    {
     "name": "stderr",
     "output_type": "stream",
     "text": [
      "INFO:graphcat:Task A executing. Inputs: {}\n",
      "INFO:graphcat:Task A finished. Output: 4\n",
      "INFO:graphcat:Task B executing. Inputs: {}\n",
      "INFO:graphcat:Task B finished. Output: 5\n",
      "INFO:graphcat:Task C executing. Inputs: {None: [4, 5]}\n",
      "INFO:graphcat:Task C finished. Output: 9\n"
     ]
    },
    {
     "name": "stdout",
     "output_type": "stream",
     "text": [
      "Result: 9\n"
     ]
    }
   ],
   "source": [
    "graph.set_task(\"A\", graphcat.constant(4))\n",
    "graph.set_task(\"B\", graphcat.constant(5))\n",
    "print(\"Result:\", graph.output(\"C\"))"
   ]
  },
  {
   "cell_type": "raw",
   "metadata": {
    "raw_mimetype": "text/restructuredtext"
   },
   "source": [
    ":func:`graphcat.constant` is a factory for task functions that always return a value you provide, eliminating the need to create dedicated task functions of your own for parameters.  This also means that you can easily change your workflow parameters with :meth:`graphcat.StaticGraph.set_task` any time that the inputs to your workflow change, whether due to user input, changes in the environment, network traffic, or anything else that your workflow depends upon.\n",
    "\n",
    "Next, you may wonder why it's necessary to call both :meth:`graphcat.StaticGraphGraph.add_task` and :meth:`graphcat.StaticGraph.set_task` just to create a working task.  In fact, you don't - either method can create a task and assign its function in a single step:"
   ]
  },
  {
   "cell_type": "code",
   "execution_count": 16,
   "metadata": {},
   "outputs": [],
   "source": [
    "graph.set_task(\"D\", graphcat.constant(1.5))"
   ]
  },
  {
   "cell_type": "markdown",
   "metadata": {},
   "source": [
    "which, when we connect it to \"C\", integrates nicely with the rest of the computation:"
   ]
  },
  {
   "cell_type": "code",
   "execution_count": 17,
   "metadata": {},
   "outputs": [
    {
     "name": "stderr",
     "output_type": "stream",
     "text": [
      "INFO:graphcat:Task D executing. Inputs: {}\n",
      "INFO:graphcat:Task D finished. Output: 1.5\n",
      "INFO:graphcat:Task C executing. Inputs: {None: [4, 5, 1.5]}\n",
      "INFO:graphcat:Task C finished. Output: 10.5\n"
     ]
    },
    {
     "name": "stdout",
     "output_type": "stream",
     "text": [
      "Result: 10.5\n"
     ]
    },
    {
     "data": {
      "image/svg+xml": [
       "<svg height=\"86pt\" viewBox=\"0.00 0.00 95.00 86.00\" width=\"95pt\" xmlns=\"http://www.w3.org/2000/svg\" xmlns:xlink=\"http://www.w3.org/1999/xlink\">\n",
       "<g class=\"graph\" id=\"graph0\" transform=\"scale(1 1) rotate(0) translate(4 82)\">\n",
       "<title>%3</title>\n",
       "<polygon fill=\"white\" points=\"-4,4 -4,-82 91,-82 91,4 -4,4\" stroke=\"none\"/>\n",
       "<!-- A -->\n",
       "<g class=\"node\" id=\"node1\"><title>A</title>\n",
       "<polygon fill=\"#494744\" points=\"29,-78 0,-78 0,-64 29,-64 29,-78\" stroke=\"#494744\"/>\n",
       "<text fill=\"white\" font-family=\"Helvetica,sans-Serif\" font-size=\"8.00\" text-anchor=\"middle\" x=\"14.5\" y=\"-68.6\">A</text>\n",
       "</g>\n",
       "<!-- C -->\n",
       "<g class=\"node\" id=\"node2\"><title>C</title>\n",
       "<polygon fill=\"#494744\" points=\"87,-46 58,-46 58,-32 87,-32 87,-46\" stroke=\"#494744\"/>\n",
       "<text fill=\"white\" font-family=\"Helvetica,sans-Serif\" font-size=\"8.00\" text-anchor=\"middle\" x=\"72.5\" y=\"-36.6\">C</text>\n",
       "</g>\n",
       "<!-- A&#45;&gt;C -->\n",
       "<g class=\"edge\" id=\"edge1\"><title>A-&gt;C</title>\n",
       "<path d=\"M27.9282,-63.8982C34.4533,-60.1695 42.6327,-55.4956 50.1372,-51.2073\" fill=\"none\" stroke=\"#494744\"/>\n",
       "<polygon fill=\"#494744\" points=\"52.1606,-54.0823 59.1065,-46.082 48.6876,-48.0046 52.1606,-54.0823\" stroke=\"#494744\"/>\n",
       "</g>\n",
       "<!-- B -->\n",
       "<g class=\"node\" id=\"node3\"><title>B</title>\n",
       "<polygon fill=\"#494744\" points=\"29,-46 0,-46 0,-32 29,-32 29,-46\" stroke=\"#494744\"/>\n",
       "<text fill=\"white\" font-family=\"Helvetica,sans-Serif\" font-size=\"8.00\" text-anchor=\"middle\" x=\"14.5\" y=\"-36.6\">B</text>\n",
       "</g>\n",
       "<!-- B&#45;&gt;C -->\n",
       "<g class=\"edge\" id=\"edge2\"><title>B-&gt;C</title>\n",
       "<path d=\"M29.056,-39C34.6135,-39 41.2165,-39 47.5388,-39\" fill=\"none\" stroke=\"#494744\"/>\n",
       "<polygon fill=\"#494744\" points=\"47.6798,-42.5001 57.6798,-39 47.6797,-35.5001 47.6798,-42.5001\" stroke=\"#494744\"/>\n",
       "</g>\n",
       "<!-- D -->\n",
       "<g class=\"node\" id=\"node4\"><title>D</title>\n",
       "<polygon fill=\"#494744\" points=\"29,-14 0,-14 0,-0 29,-0 29,-14\" stroke=\"#494744\"/>\n",
       "<text fill=\"white\" font-family=\"Helvetica,sans-Serif\" font-size=\"8.00\" text-anchor=\"middle\" x=\"14.5\" y=\"-4.6\">D</text>\n",
       "</g>\n",
       "<!-- D&#45;&gt;C -->\n",
       "<g class=\"edge\" id=\"edge3\"><title>D-&gt;C</title>\n",
       "<path d=\"M27.9282,-14.1018C34.4533,-17.8305 42.6327,-22.5044 50.1372,-26.7927\" fill=\"none\" stroke=\"#494744\"/>\n",
       "<polygon fill=\"#494744\" points=\"48.6876,-29.9954 59.1065,-31.918 52.1606,-23.9177 48.6876,-29.9954\" stroke=\"#494744\"/>\n",
       "</g>\n",
       "</g>\n",
       "</svg>"
      ],
      "text/plain": [
       "<IPython.core.display.SVG object>"
      ]
     },
     "metadata": {},
     "output_type": "display_data"
    }
   ],
   "source": [
    "graph.set_links(source=\"D\", targets=\"C\")\n",
    "print(\"Result:\", graph.output(\"C\"))\n",
    "graphcat.notebook.display(graph)"
   ]
  },
  {
   "cell_type": "markdown",
   "metadata": {},
   "source": [
    "## Named Inputs\n",
    "\n",
    "By now, you should have questions about the way inputs are passed to task functions.  From the log message in the preceding example - `{None: [4, 5, 1.5]}` - it's obvious that the results from \"A\", \"B\", and \"D\" are passed to \"C\" using a list - `[4, 5, 1.5]`, but why is the list part of a dict, and why is the key `None`?"
   ]
  },
  {
   "cell_type": "raw",
   "metadata": {
    "raw_mimetype": "text/restructuredtext"
   },
   "source": [
    "What's happening is that when you create a link between a source and a target, you also specify a *named input* for the edge.  The named input becomes the key in the task function's input dict.  This makes it easier for task functions with multiple inputs to tell those inputs apart.  If you don't specify a named input when you create a link, it defaults to :any:`None`.\n",
    "\n",
    "Let's change our current example to see what this looks like.  Instead of addition, we will create a new task function that can be used to generate a common greeting:"
   ]
  },
  {
   "cell_type": "code",
   "execution_count": 18,
   "metadata": {},
   "outputs": [],
   "source": [
    "def greeting(graph, name, inputs):\n",
    "    return f\"{inputs['greeting'][0]}, {inputs['subject'][0]}!\""
   ]
  },
  {
   "cell_type": "markdown",
   "metadata": {},
   "source": [
    "Note that the `greeting()` task function expects the input dict to contain inputs named \"greeting\" and \"subject\".  Also note that because input dict values are always lists, the function uses `[0]` to get the first value in each list.\n",
    "\n",
    "Now we can setup the parameter and greeting task functions for our existing graph:"
   ]
  },
  {
   "cell_type": "code",
   "execution_count": 19,
   "metadata": {},
   "outputs": [],
   "source": [
    "graph.set_task(\"A\", graphcat.constant(\"Hello\"))\n",
    "graph.set_task(\"B\", graphcat.constant(\"World\"))\n",
    "graph.set_task(\"C\", greeting)"
   ]
  },
  {
   "cell_type": "markdown",
   "metadata": {},
   "source": [
    "And we'll replace our existing links with links that connect to the named inputs required by \"C\"'s task function:"
   ]
  },
  {
   "cell_type": "code",
   "execution_count": 20,
   "metadata": {},
   "outputs": [],
   "source": [
    "graph.set_links(\"A\", (\"C\", \"greeting\"))\n",
    "graph.set_links(\"B\", (\"C\", \"subject\"))"
   ]
  },
  {
   "cell_type": "markdown",
   "metadata": {},
   "source": [
    "... instead of passing just a task name as the target for :meth:`graphcat.StaticGraph.set_links`, we pass a `(task name, input name)` tuple instead.  Like task names, input names don't have to be strings - they can be any hashable object.  Let's see the result:"
   ]
  },
  {
   "cell_type": "code",
   "execution_count": 21,
   "metadata": {},
   "outputs": [
    {
     "name": "stderr",
     "output_type": "stream",
     "text": [
      "INFO:graphcat:Task A executing. Inputs: {}\n",
      "INFO:graphcat:Task A finished. Output: Hello\n",
      "INFO:graphcat:Task B executing. Inputs: {}\n",
      "INFO:graphcat:Task B finished. Output: World\n",
      "INFO:graphcat:Task C executing. Inputs: {None: [1.5], 'greeting': ['Hello'], 'subject': ['World']}\n",
      "INFO:graphcat:Task C finished. Output: Hello, World!\n"
     ]
    },
    {
     "name": "stdout",
     "output_type": "stream",
     "text": [
      "Result: Hello, World!\n"
     ]
    },
    {
     "data": {
      "image/svg+xml": [
       "<svg height=\"87pt\" viewBox=\"0.00 0.00 124.91 87.00\" width=\"125pt\" xmlns=\"http://www.w3.org/2000/svg\" xmlns:xlink=\"http://www.w3.org/1999/xlink\">\n",
       "<g class=\"graph\" id=\"graph0\" transform=\"scale(1 1) rotate(0) translate(4 83)\">\n",
       "<title>%3</title>\n",
       "<polygon fill=\"white\" points=\"-4,4 -4,-83 120.91,-83 120.91,4 -4,4\" stroke=\"none\"/>\n",
       "<!-- A -->\n",
       "<g class=\"node\" id=\"node1\"><title>A</title>\n",
       "<polygon fill=\"#494744\" points=\"29,-79 0,-79 0,-65 29,-65 29,-79\" stroke=\"#494744\"/>\n",
       "<text fill=\"white\" font-family=\"Helvetica,sans-Serif\" font-size=\"8.00\" text-anchor=\"middle\" x=\"14.5\" y=\"-69.6\">A</text>\n",
       "</g>\n",
       "<!-- C -->\n",
       "<g class=\"node\" id=\"node2\"><title>C</title>\n",
       "<polygon fill=\"#494744\" points=\"116.91,-47 87.9102,-47 87.9102,-33 116.91,-33 116.91,-47\" stroke=\"#494744\"/>\n",
       "<text fill=\"white\" font-family=\"Helvetica,sans-Serif\" font-size=\"8.00\" text-anchor=\"middle\" x=\"102.41\" y=\"-37.6\">C</text>\n",
       "</g>\n",
       "<!-- A&#45;&gt;C -->\n",
       "<g class=\"edge\" id=\"edge1\"><title>A-&gt;C</title>\n",
       "<path d=\"M29.303,-66.8586C42.454,-61.9601 62.5077,-54.4905 78.1313,-48.671\" fill=\"none\" stroke=\"#494744\"/>\n",
       "<polygon fill=\"#494744\" points=\"79.4921,-51.8991 87.6415,-45.1286 77.0487,-45.3393 79.4921,-51.8991\" stroke=\"#494744\"/>\n",
       "<text font-family=\"Helvetica,sans-Serif\" font-size=\"8.00\" text-anchor=\"middle\" x=\"58.4551\" y=\"-61.6\">greeting</text>\n",
       "</g>\n",
       "<!-- B -->\n",
       "<g class=\"node\" id=\"node3\"><title>B</title>\n",
       "<polygon fill=\"#494744\" points=\"29,-47 0,-47 0,-33 29,-33 29,-47\" stroke=\"#494744\"/>\n",
       "<text fill=\"white\" font-family=\"Helvetica,sans-Serif\" font-size=\"8.00\" text-anchor=\"middle\" x=\"14.5\" y=\"-37.6\">B</text>\n",
       "</g>\n",
       "<!-- B&#45;&gt;C -->\n",
       "<g class=\"edge\" id=\"edge2\"><title>B-&gt;C</title>\n",
       "<path d=\"M29.303,-40C42.2035,-40 61.7462,-40 77.2338,-40\" fill=\"none\" stroke=\"#494744\"/>\n",
       "<polygon fill=\"#494744\" points=\"77.6415,-43.5001 87.6415,-40 77.6414,-36.5001 77.6415,-43.5001\" stroke=\"#494744\"/>\n",
       "<text font-family=\"Helvetica,sans-Serif\" font-size=\"8.00\" text-anchor=\"middle\" x=\"58.4551\" y=\"-41.6\">subject</text>\n",
       "</g>\n",
       "<!-- D -->\n",
       "<g class=\"node\" id=\"node4\"><title>D</title>\n",
       "<polygon fill=\"#494744\" points=\"29,-14 0,-14 0,-0 29,-0 29,-14\" stroke=\"#494744\"/>\n",
       "<text fill=\"white\" font-family=\"Helvetica,sans-Serif\" font-size=\"8.00\" text-anchor=\"middle\" x=\"14.5\" y=\"-4.6\">D</text>\n",
       "</g>\n",
       "<!-- D&#45;&gt;C -->\n",
       "<g class=\"edge\" id=\"edge3\"><title>D-&gt;C</title>\n",
       "<path d=\"M29.303,-12.302C42.454,-17.3536 62.5077,-25.0567 78.1313,-31.0581\" fill=\"none\" stroke=\"#494744\"/>\n",
       "<polygon fill=\"#494744\" points=\"77.0514,-34.3925 87.6415,-34.7111 79.5615,-27.858 77.0514,-34.3925\" stroke=\"#494744\"/>\n",
       "</g>\n",
       "</g>\n",
       "</svg>"
      ],
      "text/plain": [
       "<IPython.core.display.SVG object>"
      ]
     },
     "metadata": {},
     "output_type": "display_data"
    }
   ],
   "source": [
    "print(\"Result:\", graph.output(\"C\"))\n",
    "graphcat.notebook.display(graph)"
   ]
  },
  {
   "cell_type": "raw",
   "metadata": {
    "raw_mimetype": "text/restructuredtext"
   },
   "source": [
    "Note that the notebook diagram links are labelled when they're connected to any input other than :any:`None`.\n",
    "\n",
    "Now, the input dict for \"C\" printed to the log should make more sense - it contains a list of outputs for each named input: in our case, \"greeting\" and \"subject\".  Task \"D\" is still connected to :any:`None`, but it's ignored by the `greeting` implementation.  It should also be clear now why each named input is associated with a list of values: you can connect multiple tasks to a single input, one task to multiple inputs, or any combination of the two.\n",
    "\n",
    "By examining the input dict, a task function can implement any desired behavior, from very strict (failing unless the dict contains a specific set of named inputs with explicit requirements on number of inputs and types) to very permissive (adjusting functionality based on names, numbers, and types of values in the input dict)."
   ]
  },
  {
   "cell_type": "markdown",
   "metadata": {},
   "source": [
    "## Errors\n",
    "\n",
    "What happens when things go wrong and your task function fails?  Let's find out, using a special Graphcat helper function for generating task functions that throw exceptions:"
   ]
  },
  {
   "cell_type": "code",
   "execution_count": 22,
   "metadata": {},
   "outputs": [],
   "source": [
    "graph.set_task(\"D\", graphcat.raise_exception(RuntimeError(\"Whoops!\")))"
   ]
  },
  {
   "cell_type": "markdown",
   "metadata": {},
   "source": [
    "(In case you're wondering, we use this for testing and debugging)"
   ]
  },
  {
   "cell_type": "code",
   "execution_count": 23,
   "metadata": {},
   "outputs": [
    {
     "name": "stderr",
     "output_type": "stream",
     "text": [
      "INFO:graphcat:Task D executing. Inputs: {}\n",
      "ERROR:graphcat:Task D failed. Exception: Whoops!\n"
     ]
    },
    {
     "name": "stdout",
     "output_type": "stream",
     "text": [
      "Exception: RuntimeError('Whoops!')\n"
     ]
    },
    {
     "data": {
      "image/svg+xml": [
       "<svg height=\"87pt\" viewBox=\"0.00 0.00 124.91 87.00\" width=\"125pt\" xmlns=\"http://www.w3.org/2000/svg\" xmlns:xlink=\"http://www.w3.org/1999/xlink\">\n",
       "<g class=\"graph\" id=\"graph0\" transform=\"scale(1 1) rotate(0) translate(4 83)\">\n",
       "<title>%3</title>\n",
       "<polygon fill=\"white\" points=\"-4,4 -4,-83 120.91,-83 120.91,4 -4,4\" stroke=\"none\"/>\n",
       "<!-- A -->\n",
       "<g class=\"node\" id=\"node1\"><title>A</title>\n",
       "<polygon fill=\"#494744\" points=\"29,-79 0,-79 0,-65 29,-65 29,-79\" stroke=\"#494744\"/>\n",
       "<text fill=\"white\" font-family=\"Helvetica,sans-Serif\" font-size=\"8.00\" text-anchor=\"middle\" x=\"14.5\" y=\"-69.6\">A</text>\n",
       "</g>\n",
       "<!-- C -->\n",
       "<g class=\"node\" id=\"node2\"><title>C</title>\n",
       "<polygon fill=\"crimson\" points=\"116.91,-47 87.9102,-47 87.9102,-33 116.91,-33 116.91,-47\" stroke=\"crimson\"/>\n",
       "<text fill=\"white\" font-family=\"Helvetica,sans-Serif\" font-size=\"8.00\" text-anchor=\"middle\" x=\"102.41\" y=\"-37.6\">C</text>\n",
       "</g>\n",
       "<!-- A&#45;&gt;C -->\n",
       "<g class=\"edge\" id=\"edge1\"><title>A-&gt;C</title>\n",
       "<path d=\"M29.303,-66.8586C42.454,-61.9601 62.5077,-54.4905 78.1313,-48.671\" fill=\"none\" stroke=\"#494744\"/>\n",
       "<polygon fill=\"#494744\" points=\"79.4921,-51.8991 87.6415,-45.1286 77.0487,-45.3393 79.4921,-51.8991\" stroke=\"#494744\"/>\n",
       "<text font-family=\"Helvetica,sans-Serif\" font-size=\"8.00\" text-anchor=\"middle\" x=\"58.4551\" y=\"-61.6\">greeting</text>\n",
       "</g>\n",
       "<!-- B -->\n",
       "<g class=\"node\" id=\"node3\"><title>B</title>\n",
       "<polygon fill=\"#494744\" points=\"29,-47 0,-47 0,-33 29,-33 29,-47\" stroke=\"#494744\"/>\n",
       "<text fill=\"white\" font-family=\"Helvetica,sans-Serif\" font-size=\"8.00\" text-anchor=\"middle\" x=\"14.5\" y=\"-37.6\">B</text>\n",
       "</g>\n",
       "<!-- B&#45;&gt;C -->\n",
       "<g class=\"edge\" id=\"edge2\"><title>B-&gt;C</title>\n",
       "<path d=\"M29.303,-40C42.2035,-40 61.7462,-40 77.2338,-40\" fill=\"none\" stroke=\"#494744\"/>\n",
       "<polygon fill=\"#494744\" points=\"77.6415,-43.5001 87.6415,-40 77.6414,-36.5001 77.6415,-43.5001\" stroke=\"#494744\"/>\n",
       "<text font-family=\"Helvetica,sans-Serif\" font-size=\"8.00\" text-anchor=\"middle\" x=\"58.4551\" y=\"-41.6\">subject</text>\n",
       "</g>\n",
       "<!-- D -->\n",
       "<g class=\"node\" id=\"node4\"><title>D</title>\n",
       "<polygon fill=\"crimson\" points=\"29,-14 0,-14 0,-0 29,-0 29,-14\" stroke=\"crimson\"/>\n",
       "<text fill=\"white\" font-family=\"Helvetica,sans-Serif\" font-size=\"8.00\" text-anchor=\"middle\" x=\"14.5\" y=\"-4.6\">D</text>\n",
       "</g>\n",
       "<!-- D&#45;&gt;C -->\n",
       "<g class=\"edge\" id=\"edge3\"><title>D-&gt;C</title>\n",
       "<path d=\"M29.303,-12.302C42.454,-17.3536 62.5077,-25.0567 78.1313,-31.0581\" fill=\"none\" stroke=\"#494744\"/>\n",
       "<polygon fill=\"#494744\" points=\"77.0514,-34.3925 87.6415,-34.7111 79.5615,-27.858 77.0514,-34.3925\" stroke=\"#494744\"/>\n",
       "</g>\n",
       "</g>\n",
       "</svg>"
      ],
      "text/plain": [
       "<IPython.core.display.SVG object>"
      ]
     },
     "metadata": {},
     "output_type": "display_data"
    }
   ],
   "source": [
    "try:\n",
    "    print(\"Result:\", graph.output(\"C\"))\n",
    "except Exception as e:\n",
    "    print(f\"Exception: {e!r}\")\n",
    "graphcat.notebook.display(graph)"
   ]
  },
  {
   "cell_type": "raw",
   "metadata": {
    "raw_mimetype": "text/restructuredtext"
   },
   "source": [
    "As always, Graphcat ensures that task states are always consistent - in this case, when the function for \"D\" fails, execution stops, the task and its dependents are marked as being in the \"error\" state, and the :meth:`graphcat.StaticGraph.update` and :meth:`graphcat.StaticGraph.output` methods re-raise the exception.  This will keep happening as long as the error condition persists:"
   ]
  },
  {
   "cell_type": "code",
   "execution_count": 24,
   "metadata": {},
   "outputs": [
    {
     "name": "stderr",
     "output_type": "stream",
     "text": [
      "INFO:graphcat:Task D executing. Inputs: {}\n",
      "ERROR:graphcat:Task D failed. Exception: Whoops!\n"
     ]
    },
    {
     "name": "stdout",
     "output_type": "stream",
     "text": [
      "Exception: RuntimeError('Whoops!')\n"
     ]
    },
    {
     "data": {
      "image/svg+xml": [
       "<svg height=\"87pt\" viewBox=\"0.00 0.00 124.91 87.00\" width=\"125pt\" xmlns=\"http://www.w3.org/2000/svg\" xmlns:xlink=\"http://www.w3.org/1999/xlink\">\n",
       "<g class=\"graph\" id=\"graph0\" transform=\"scale(1 1) rotate(0) translate(4 83)\">\n",
       "<title>%3</title>\n",
       "<polygon fill=\"white\" points=\"-4,4 -4,-83 120.91,-83 120.91,4 -4,4\" stroke=\"none\"/>\n",
       "<!-- A -->\n",
       "<g class=\"node\" id=\"node1\"><title>A</title>\n",
       "<polygon fill=\"#494744\" points=\"29,-79 0,-79 0,-65 29,-65 29,-79\" stroke=\"#494744\"/>\n",
       "<text fill=\"white\" font-family=\"Helvetica,sans-Serif\" font-size=\"8.00\" text-anchor=\"middle\" x=\"14.5\" y=\"-69.6\">A</text>\n",
       "</g>\n",
       "<!-- C -->\n",
       "<g class=\"node\" id=\"node2\"><title>C</title>\n",
       "<polygon fill=\"crimson\" points=\"116.91,-47 87.9102,-47 87.9102,-33 116.91,-33 116.91,-47\" stroke=\"crimson\"/>\n",
       "<text fill=\"white\" font-family=\"Helvetica,sans-Serif\" font-size=\"8.00\" text-anchor=\"middle\" x=\"102.41\" y=\"-37.6\">C</text>\n",
       "</g>\n",
       "<!-- A&#45;&gt;C -->\n",
       "<g class=\"edge\" id=\"edge1\"><title>A-&gt;C</title>\n",
       "<path d=\"M29.303,-66.8586C42.454,-61.9601 62.5077,-54.4905 78.1313,-48.671\" fill=\"none\" stroke=\"#494744\"/>\n",
       "<polygon fill=\"#494744\" points=\"79.4921,-51.8991 87.6415,-45.1286 77.0487,-45.3393 79.4921,-51.8991\" stroke=\"#494744\"/>\n",
       "<text font-family=\"Helvetica,sans-Serif\" font-size=\"8.00\" text-anchor=\"middle\" x=\"58.4551\" y=\"-61.6\">greeting</text>\n",
       "</g>\n",
       "<!-- B -->\n",
       "<g class=\"node\" id=\"node3\"><title>B</title>\n",
       "<polygon fill=\"#494744\" points=\"29,-47 0,-47 0,-33 29,-33 29,-47\" stroke=\"#494744\"/>\n",
       "<text fill=\"white\" font-family=\"Helvetica,sans-Serif\" font-size=\"8.00\" text-anchor=\"middle\" x=\"14.5\" y=\"-37.6\">B</text>\n",
       "</g>\n",
       "<!-- B&#45;&gt;C -->\n",
       "<g class=\"edge\" id=\"edge2\"><title>B-&gt;C</title>\n",
       "<path d=\"M29.303,-40C42.2035,-40 61.7462,-40 77.2338,-40\" fill=\"none\" stroke=\"#494744\"/>\n",
       "<polygon fill=\"#494744\" points=\"77.6415,-43.5001 87.6415,-40 77.6414,-36.5001 77.6415,-43.5001\" stroke=\"#494744\"/>\n",
       "<text font-family=\"Helvetica,sans-Serif\" font-size=\"8.00\" text-anchor=\"middle\" x=\"58.4551\" y=\"-41.6\">subject</text>\n",
       "</g>\n",
       "<!-- D -->\n",
       "<g class=\"node\" id=\"node4\"><title>D</title>\n",
       "<polygon fill=\"crimson\" points=\"29,-14 0,-14 0,-0 29,-0 29,-14\" stroke=\"crimson\"/>\n",
       "<text fill=\"white\" font-family=\"Helvetica,sans-Serif\" font-size=\"8.00\" text-anchor=\"middle\" x=\"14.5\" y=\"-4.6\">D</text>\n",
       "</g>\n",
       "<!-- D&#45;&gt;C -->\n",
       "<g class=\"edge\" id=\"edge3\"><title>D-&gt;C</title>\n",
       "<path d=\"M29.303,-12.302C42.454,-17.3536 62.5077,-25.0567 78.1313,-31.0581\" fill=\"none\" stroke=\"#494744\"/>\n",
       "<polygon fill=\"#494744\" points=\"77.0514,-34.3925 87.6415,-34.7111 79.5615,-27.858 77.0514,-34.3925\" stroke=\"#494744\"/>\n",
       "</g>\n",
       "</g>\n",
       "</svg>"
      ],
      "text/plain": [
       "<IPython.core.display.SVG object>"
      ]
     },
     "metadata": {},
     "output_type": "display_data"
    }
   ],
   "source": [
    "try:\n",
    "    print(\"Result:\", graph.output(\"C\"))\n",
    "except Exception as e:\n",
    "    print(f\"Exception: {e!r}\")\n",
    "graphcat.notebook.display(graph)"
   ]
  },
  {
   "cell_type": "markdown",
   "metadata": {},
   "source": [
    "Once, the error is cleared-up, things will return to normal:"
   ]
  },
  {
   "cell_type": "code",
   "execution_count": 25,
   "metadata": {},
   "outputs": [
    {
     "name": "stderr",
     "output_type": "stream",
     "text": [
      "INFO:graphcat:Task D executing. Inputs: {}\n",
      "INFO:graphcat:Task D finished. Output: 42\n",
      "INFO:graphcat:Task C executing. Inputs: {None: [42], 'greeting': ['Hello'], 'subject': ['World']}\n",
      "INFO:graphcat:Task C finished. Output: Hello, World!\n"
     ]
    },
    {
     "name": "stdout",
     "output_type": "stream",
     "text": [
      "Result: Hello, World!\n"
     ]
    },
    {
     "data": {
      "image/svg+xml": [
       "<svg height=\"87pt\" viewBox=\"0.00 0.00 124.91 87.00\" width=\"125pt\" xmlns=\"http://www.w3.org/2000/svg\" xmlns:xlink=\"http://www.w3.org/1999/xlink\">\n",
       "<g class=\"graph\" id=\"graph0\" transform=\"scale(1 1) rotate(0) translate(4 83)\">\n",
       "<title>%3</title>\n",
       "<polygon fill=\"white\" points=\"-4,4 -4,-83 120.91,-83 120.91,4 -4,4\" stroke=\"none\"/>\n",
       "<!-- A -->\n",
       "<g class=\"node\" id=\"node1\"><title>A</title>\n",
       "<polygon fill=\"#494744\" points=\"29,-79 0,-79 0,-65 29,-65 29,-79\" stroke=\"#494744\"/>\n",
       "<text fill=\"white\" font-family=\"Helvetica,sans-Serif\" font-size=\"8.00\" text-anchor=\"middle\" x=\"14.5\" y=\"-69.6\">A</text>\n",
       "</g>\n",
       "<!-- C -->\n",
       "<g class=\"node\" id=\"node2\"><title>C</title>\n",
       "<polygon fill=\"#494744\" points=\"116.91,-47 87.9102,-47 87.9102,-33 116.91,-33 116.91,-47\" stroke=\"#494744\"/>\n",
       "<text fill=\"white\" font-family=\"Helvetica,sans-Serif\" font-size=\"8.00\" text-anchor=\"middle\" x=\"102.41\" y=\"-37.6\">C</text>\n",
       "</g>\n",
       "<!-- A&#45;&gt;C -->\n",
       "<g class=\"edge\" id=\"edge1\"><title>A-&gt;C</title>\n",
       "<path d=\"M29.303,-66.8586C42.454,-61.9601 62.5077,-54.4905 78.1313,-48.671\" fill=\"none\" stroke=\"#494744\"/>\n",
       "<polygon fill=\"#494744\" points=\"79.4921,-51.8991 87.6415,-45.1286 77.0487,-45.3393 79.4921,-51.8991\" stroke=\"#494744\"/>\n",
       "<text font-family=\"Helvetica,sans-Serif\" font-size=\"8.00\" text-anchor=\"middle\" x=\"58.4551\" y=\"-61.6\">greeting</text>\n",
       "</g>\n",
       "<!-- B -->\n",
       "<g class=\"node\" id=\"node3\"><title>B</title>\n",
       "<polygon fill=\"#494744\" points=\"29,-47 0,-47 0,-33 29,-33 29,-47\" stroke=\"#494744\"/>\n",
       "<text fill=\"white\" font-family=\"Helvetica,sans-Serif\" font-size=\"8.00\" text-anchor=\"middle\" x=\"14.5\" y=\"-37.6\">B</text>\n",
       "</g>\n",
       "<!-- B&#45;&gt;C -->\n",
       "<g class=\"edge\" id=\"edge2\"><title>B-&gt;C</title>\n",
       "<path d=\"M29.303,-40C42.2035,-40 61.7462,-40 77.2338,-40\" fill=\"none\" stroke=\"#494744\"/>\n",
       "<polygon fill=\"#494744\" points=\"77.6415,-43.5001 87.6415,-40 77.6414,-36.5001 77.6415,-43.5001\" stroke=\"#494744\"/>\n",
       "<text font-family=\"Helvetica,sans-Serif\" font-size=\"8.00\" text-anchor=\"middle\" x=\"58.4551\" y=\"-41.6\">subject</text>\n",
       "</g>\n",
       "<!-- D -->\n",
       "<g class=\"node\" id=\"node4\"><title>D</title>\n",
       "<polygon fill=\"#494744\" points=\"29,-14 0,-14 0,-0 29,-0 29,-14\" stroke=\"#494744\"/>\n",
       "<text fill=\"white\" font-family=\"Helvetica,sans-Serif\" font-size=\"8.00\" text-anchor=\"middle\" x=\"14.5\" y=\"-4.6\">D</text>\n",
       "</g>\n",
       "<!-- D&#45;&gt;C -->\n",
       "<g class=\"edge\" id=\"edge3\"><title>D-&gt;C</title>\n",
       "<path d=\"M29.303,-12.302C42.454,-17.3536 62.5077,-25.0567 78.1313,-31.0581\" fill=\"none\" stroke=\"#494744\"/>\n",
       "<polygon fill=\"#494744\" points=\"77.0514,-34.3925 87.6415,-34.7111 79.5615,-27.858 77.0514,-34.3925\" stroke=\"#494744\"/>\n",
       "</g>\n",
       "</g>\n",
       "</svg>"
      ],
      "text/plain": [
       "<IPython.core.display.SVG object>"
      ]
     },
     "metadata": {},
     "output_type": "display_data"
    }
   ],
   "source": [
    "graph.set_task(\"D\", graphcat.constant(42))\n",
    "print(\"Result:\", graph.output(\"C\"))\n",
    "graphcat.notebook.display(graph)"
   ]
  }
 ],
 "metadata": {
  "celltoolbar": "Raw Cell Format",
  "kernelspec": {
   "display_name": "Python 3",
   "language": "python",
   "name": "python3"
  },
  "language_info": {
   "codemirror_mode": {
    "name": "ipython",
    "version": 3
   },
   "file_extension": ".py",
   "mimetype": "text/x-python",
   "name": "python",
   "nbconvert_exporter": "python",
   "pygments_lexer": "ipython3",
   "version": "3.7.7"
  }
 },
 "nbformat": 4,
 "nbformat_minor": 4
}
