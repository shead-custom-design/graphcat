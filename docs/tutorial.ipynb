{
 "cells": [
  {
   "cell_type": "raw",
   "metadata": {
    "raw_mimetype": "text/restructuredtext"
   },
   "source": [
    ".. image:: ../artwork/logo.png\n",
    "    :width: 300px\n",
    "    :align: right\n",
    "\n",
    ".. _tutorial:\n",
    "\n",
    "Tutorial\n",
    "========\n",
    "\n",
    "Imagine that you have a workflow made up of three tasks \"A\", \"B\", and \"C\", and the tasks must always be perfomed in the right order, because task \"C\" depends on the output of task \"A\", and also depends on the output of task \"B\".  Further, imagine that the individual tasks are time-consuming, so that you don't want to execute a task unless it's really necessary: if something has changed that only affects task \"C\", and tasks \"A\" and \"B\" have already been completed, then you should only need to redo task \"C\".  Over time, keeping track of which tasks need to be executed can become extremely complex as your workflow grows, branches, and merges.\n",
    "\n",
    "Graphcat is a tool that allows you to explicitly capture a workflow in a *computational graph*, managing the details of executing each task in the proper order and at the proper time, no matter the state of the tasks or the complexity of the workflow.  Graphcat doesn't care what kind of data your graph manages, doesn't dictate how you name the entities in the graph, provides advanced functionality like expression-based tasks, and is easy to learn.\n",
    "\n",
    "Intrigued?  Let's look at some code!"
   ]
  },
  {
   "cell_type": "markdown",
   "metadata": {},
   "source": [
    "## The Basics"
   ]
  },
  {
   "cell_type": "raw",
   "metadata": {
    "raw_mimetype": "text/restructuredtext"
   },
   "source": [
    "First, we import :mod:`graphcat`, which includes all of the functionality for managing computational graphs.  If you're using Graphcat in your scripts, this will likely be all you need.  For this tutorial we also import :mod:`graphcat.notebook`, so we can see the state of our graphs as we work."
   ]
  },
  {
   "cell_type": "code",
   "execution_count": 1,
   "metadata": {},
   "outputs": [],
   "source": [
    "import graphcat\n",
    "import graphcat.notebook"
   ]
  },
  {
   "cell_type": "markdown",
   "metadata": {},
   "source": [
    "Next, let's reproduce the example workflow from above, starting with an (initially empty) computational graph:"
   ]
  },
  {
   "cell_type": "code",
   "execution_count": 2,
   "metadata": {},
   "outputs": [],
   "source": [
    "graph = graphcat.StaticGraph()"
   ]
  },
  {
   "cell_type": "markdown",
   "metadata": {},
   "source": [
    "Next, we will add tasks to the graph, identified using unique string names:"
   ]
  },
  {
   "cell_type": "code",
   "execution_count": 3,
   "metadata": {},
   "outputs": [],
   "source": [
    "graph.add_task(\"A\")\n",
    "graph.add_task(\"B\")\n",
    "graph.add_task(\"C\")"
   ]
  },
  {
   "cell_type": "markdown",
   "metadata": {},
   "source": [
    "Note that a task name can be any hashable object, not just a string - we used strings in this case because they map well to our particular problem.\n",
    "\n",
    "Now, we can define the links that determine which tasks depend on previous tasks:"
   ]
  },
  {
   "cell_type": "code",
   "execution_count": 4,
   "metadata": {},
   "outputs": [],
   "source": [
    "graph.add_links(source=\"A\", targets=\"C\")\n",
    "graph.add_links(source=\"B\", targets=\"C\")"
   ]
  },
  {
   "cell_type": "markdown",
   "metadata": {},
   "source": [
    "There are two ways to think about links.  One way is to picture data \"flowing\" through the links from the source tasks to the target tasks, which is why we sometimes call the sources \"upstream\" and the targets \"downstream\".  Alternatively, you can say that the target of a link \"depends on\" the source - anytime the source changes, the target needs to change, along with all of *its* targets, and-so-on.  Both viewpoints are completely valid, and you will find that both are useful, depending on the context.\n",
    "\n",
    "Finally, because a picture is worth $1\\times10^3$ words, let's see what the graph looks like so far:"
   ]
  },
  {
   "cell_type": "code",
   "execution_count": 5,
   "metadata": {},
   "outputs": [
    {
     "data": {
      "image/svg+xml": [
       "<svg xmlns=\"http://www.w3.org/2000/svg\" xmlns:xlink=\"http://www.w3.org/1999/xlink\" width=\"105pt\" height=\"56pt\" viewBox=\"0.00 0.00 105.00 56.00\">\n",
       "<g id=\"graph0\" class=\"graph\" transform=\"scale(1 1) rotate(0) translate(4 52)\">\n",
       "<polygon fill=\"#ffffff\" stroke=\"transparent\" points=\"-4,4 -4,-52 101,-52 101,4 -4,4\"/>\n",
       "<!-- A -->\n",
       "<g id=\"node1\" class=\"node\">\n",
       "<title>A</title>\n",
       "<polygon fill=\"#ffffff\" stroke=\"#494744\" points=\"29,-48 0,-48 0,-33 29,-33 29,-48\"/>\n",
       "<text text-anchor=\"middle\" x=\"14.5\" y=\"-38.6\" font-family=\"Helvetica,sans-Serif\" font-size=\"8.00\" fill=\"#494744\">A</text>\n",
       "</g>\n",
       "<!-- C -->\n",
       "<g id=\"node2\" class=\"node\">\n",
       "<title>C</title>\n",
       "<polygon fill=\"#ffffff\" stroke=\"#494744\" points=\"97,-31 68,-31 68,-16 97,-16 97,-31\"/>\n",
       "<text text-anchor=\"middle\" x=\"82.5\" y=\"-21.6\" font-family=\"Helvetica,sans-Serif\" font-size=\"8.00\" fill=\"#494744\">C</text>\n",
       "</g>\n",
       "<!-- A&#45;&gt;C -->\n",
       "<g id=\"edge1\" class=\"edge\">\n",
       "<title>A-&gt;C</title>\n",
       "<path fill=\"none\" stroke=\"#494744\" d=\"M29.255,-36.8113C37.6312,-34.7172 48.3309,-32.0423 57.9387,-29.6403\"/>\n",
       "<polygon fill=\"#494744\" stroke=\"#494744\" points=\"58.9213,-33.0025 67.7738,-27.1815 57.2235,-26.2115 58.9213,-33.0025\"/>\n",
       "<text text-anchor=\"middle\" x=\"48.5\" y=\"-35.1\" font-family=\"Helvetica,sans-Serif\" font-size=\"8.00\" fill=\"#000000\">    </text>\n",
       "</g>\n",
       "<!-- B -->\n",
       "<g id=\"node3\" class=\"node\">\n",
       "<title>B</title>\n",
       "<polygon fill=\"#ffffff\" stroke=\"#494744\" points=\"29,-15 0,-15 0,0 29,0 29,-15\"/>\n",
       "<text text-anchor=\"middle\" x=\"14.5\" y=\"-5.6\" font-family=\"Helvetica,sans-Serif\" font-size=\"8.00\" fill=\"#494744\">B</text>\n",
       "</g>\n",
       "<!-- B&#45;&gt;C -->\n",
       "<g id=\"edge2\" class=\"edge\">\n",
       "<title>B-&gt;C</title>\n",
       "<path fill=\"none\" stroke=\"#494744\" d=\"M29.3261,-6.9302C36.5648,-6.9891 45.3429,-7.5652 53,-9.5 55.3651,-10.0976 57.7686,-10.8899 60.1308,-11.7945\"/>\n",
       "<polygon fill=\"#494744\" stroke=\"#494744\" points=\"58.8457,-15.0537 69.4039,-15.9344 61.6994,-8.6618 58.8457,-15.0537\"/>\n",
       "<text text-anchor=\"middle\" x=\"48.5\" y=\"-12.1\" font-family=\"Helvetica,sans-Serif\" font-size=\"8.00\" fill=\"#000000\">    </text>\n",
       "</g>\n",
       "</g>\n",
       "</svg>"
      ],
      "text/plain": [
       "<IPython.core.display.SVG object>"
      ]
     },
     "metadata": {},
     "output_type": "display_data"
    }
   ],
   "source": [
    "graphcat.notebook.display(graph)"
   ]
  },
  {
   "cell_type": "raw",
   "metadata": {
    "raw_mimetype": "text/restructuredtext"
   },
   "source": [
    "Notice that each task is drawn as a box, labelled with the task name, and the links are drawn as arrows that point from sources to targets, i.e. the arrows point in the direction of data flow. \n",
    "\n",
    "Of course, all we've done so far is define how our tasks relate to one another - we haven't actually executed any of them.  Before we do so, let's introduce some logging so we can see what Graphcat is doing under the hood.  We'll import the standard Python :mod:`logging` module and configure it to log informational messages.  Then, we create a special :class:`graphcat.Logger<graphcat.common.Logger>` object that will watch the computational graph and log events as they happen:"
   ]
  },
  {
   "cell_type": "code",
   "execution_count": 6,
   "metadata": {},
   "outputs": [],
   "source": [
    "import logging\n",
    "logging.basicConfig(level=logging.INFO)\n",
    "logger = graphcat.Logger(graph)"
   ]
  },
  {
   "cell_type": "markdown",
   "metadata": {},
   "source": [
    "By default, newly-created tasks are considered *unfinished*, because they haven't been executed yet.  Let's finish task \"A\" by *updating* it:"
   ]
  },
  {
   "cell_type": "code",
   "execution_count": 7,
   "metadata": {},
   "outputs": [
    {
     "name": "stderr",
     "output_type": "stream",
     "text": [
      "INFO:graphcat.common:Task A updating.\n",
      "INFO:graphcat.common:Task A executing. Inputs: {}\n",
      "INFO:graphcat.common:Task A finished. Output: None\n"
     ]
    },
    {
     "data": {
      "image/svg+xml": [
       "<svg xmlns=\"http://www.w3.org/2000/svg\" xmlns:xlink=\"http://www.w3.org/1999/xlink\" width=\"105pt\" height=\"56pt\" viewBox=\"0.00 0.00 105.00 56.00\">\n",
       "<g id=\"graph0\" class=\"graph\" transform=\"scale(1 1) rotate(0) translate(4 52)\">\n",
       "<polygon fill=\"#ffffff\" stroke=\"transparent\" points=\"-4,4 -4,-52 101,-52 101,4 -4,4\"/>\n",
       "<!-- A -->\n",
       "<g id=\"node1\" class=\"node\">\n",
       "<title>A</title>\n",
       "<polygon fill=\"#494744\" stroke=\"#494744\" points=\"29,-48 0,-48 0,-33 29,-33 29,-48\"/>\n",
       "<text text-anchor=\"middle\" x=\"14.5\" y=\"-38.6\" font-family=\"Helvetica,sans-Serif\" font-size=\"8.00\" fill=\"#ffffff\">A</text>\n",
       "</g>\n",
       "<!-- C -->\n",
       "<g id=\"node2\" class=\"node\">\n",
       "<title>C</title>\n",
       "<polygon fill=\"#ffffff\" stroke=\"#494744\" points=\"97,-31 68,-31 68,-16 97,-16 97,-31\"/>\n",
       "<text text-anchor=\"middle\" x=\"82.5\" y=\"-21.6\" font-family=\"Helvetica,sans-Serif\" font-size=\"8.00\" fill=\"#494744\">C</text>\n",
       "</g>\n",
       "<!-- A&#45;&gt;C -->\n",
       "<g id=\"edge1\" class=\"edge\">\n",
       "<title>A-&gt;C</title>\n",
       "<path fill=\"none\" stroke=\"#494744\" d=\"M29.255,-36.8113C37.6312,-34.7172 48.3309,-32.0423 57.9387,-29.6403\"/>\n",
       "<polygon fill=\"#494744\" stroke=\"#494744\" points=\"58.9213,-33.0025 67.7738,-27.1815 57.2235,-26.2115 58.9213,-33.0025\"/>\n",
       "<text text-anchor=\"middle\" x=\"48.5\" y=\"-35.1\" font-family=\"Helvetica,sans-Serif\" font-size=\"8.00\" fill=\"#000000\">    </text>\n",
       "</g>\n",
       "<!-- B -->\n",
       "<g id=\"node3\" class=\"node\">\n",
       "<title>B</title>\n",
       "<polygon fill=\"#ffffff\" stroke=\"#494744\" points=\"29,-15 0,-15 0,0 29,0 29,-15\"/>\n",
       "<text text-anchor=\"middle\" x=\"14.5\" y=\"-5.6\" font-family=\"Helvetica,sans-Serif\" font-size=\"8.00\" fill=\"#494744\">B</text>\n",
       "</g>\n",
       "<!-- B&#45;&gt;C -->\n",
       "<g id=\"edge2\" class=\"edge\">\n",
       "<title>B-&gt;C</title>\n",
       "<path fill=\"none\" stroke=\"#494744\" d=\"M29.3261,-6.9302C36.5648,-6.9891 45.3429,-7.5652 53,-9.5 55.3651,-10.0976 57.7686,-10.8899 60.1308,-11.7945\"/>\n",
       "<polygon fill=\"#494744\" stroke=\"#494744\" points=\"58.8457,-15.0537 69.4039,-15.9344 61.6994,-8.6618 58.8457,-15.0537\"/>\n",
       "<text text-anchor=\"middle\" x=\"48.5\" y=\"-12.1\" font-family=\"Helvetica,sans-Serif\" font-size=\"8.00\" fill=\"#000000\">    </text>\n",
       "</g>\n",
       "</g>\n",
       "</svg>"
      ],
      "text/plain": [
       "<IPython.core.display.SVG object>"
      ]
     },
     "metadata": {},
     "output_type": "display_data"
    }
   ],
   "source": [
    "graph.update(\"A\")\n",
    "graphcat.notebook.display(graph)"
   ]
  },
  {
   "cell_type": "raw",
   "metadata": {
    "raw_mimetype": "text/restructuredtext"
   },
   "source": [
    "The call to :meth:`update<graphcat.graph.Graph.update>` *executes* the unfinished task, which we see in the second line of logging; once the task has been executed, the third line in the log shows that its state is now *finished* (ignore the \"Inputs: ...\" and \"Output: ...\" text in the log, we will explain their meaning shortly).  Note that in our visualization task \"A\" is now rendered with a black background to show that the task is finished.\n",
    "\n",
    "Continuing on, let's update task \"C\" and see what happens:"
   ]
  },
  {
   "cell_type": "code",
   "execution_count": 8,
   "metadata": {},
   "outputs": [
    {
     "name": "stderr",
     "output_type": "stream",
     "text": [
      "INFO:graphcat.common:Task A updating.\n",
      "INFO:graphcat.common:Task B updating.\n",
      "INFO:graphcat.common:Task B executing. Inputs: {}\n",
      "INFO:graphcat.common:Task B finished. Output: None\n",
      "INFO:graphcat.common:Task C updating.\n",
      "INFO:graphcat.common:Task C executing. Inputs: {None: None, None: None}\n",
      "INFO:graphcat.common:Task C finished. Output: None\n"
     ]
    },
    {
     "data": {
      "image/svg+xml": [
       "<svg xmlns=\"http://www.w3.org/2000/svg\" xmlns:xlink=\"http://www.w3.org/1999/xlink\" width=\"105pt\" height=\"56pt\" viewBox=\"0.00 0.00 105.00 56.00\">\n",
       "<g id=\"graph0\" class=\"graph\" transform=\"scale(1 1) rotate(0) translate(4 52)\">\n",
       "<polygon fill=\"#ffffff\" stroke=\"transparent\" points=\"-4,4 -4,-52 101,-52 101,4 -4,4\"/>\n",
       "<!-- A -->\n",
       "<g id=\"node1\" class=\"node\">\n",
       "<title>A</title>\n",
       "<polygon fill=\"#494744\" stroke=\"#494744\" points=\"29,-48 0,-48 0,-33 29,-33 29,-48\"/>\n",
       "<text text-anchor=\"middle\" x=\"14.5\" y=\"-38.6\" font-family=\"Helvetica,sans-Serif\" font-size=\"8.00\" fill=\"#ffffff\">A</text>\n",
       "</g>\n",
       "<!-- C -->\n",
       "<g id=\"node2\" class=\"node\">\n",
       "<title>C</title>\n",
       "<polygon fill=\"#494744\" stroke=\"#494744\" points=\"97,-31 68,-31 68,-16 97,-16 97,-31\"/>\n",
       "<text text-anchor=\"middle\" x=\"82.5\" y=\"-21.6\" font-family=\"Helvetica,sans-Serif\" font-size=\"8.00\" fill=\"#ffffff\">C</text>\n",
       "</g>\n",
       "<!-- A&#45;&gt;C -->\n",
       "<g id=\"edge1\" class=\"edge\">\n",
       "<title>A-&gt;C</title>\n",
       "<path fill=\"none\" stroke=\"#494744\" d=\"M29.255,-36.8113C37.6312,-34.7172 48.3309,-32.0423 57.9387,-29.6403\"/>\n",
       "<polygon fill=\"#494744\" stroke=\"#494744\" points=\"58.9213,-33.0025 67.7738,-27.1815 57.2235,-26.2115 58.9213,-33.0025\"/>\n",
       "<text text-anchor=\"middle\" x=\"48.5\" y=\"-35.1\" font-family=\"Helvetica,sans-Serif\" font-size=\"8.00\" fill=\"#000000\">    </text>\n",
       "</g>\n",
       "<!-- B -->\n",
       "<g id=\"node3\" class=\"node\">\n",
       "<title>B</title>\n",
       "<polygon fill=\"#494744\" stroke=\"#494744\" points=\"29,-15 0,-15 0,0 29,0 29,-15\"/>\n",
       "<text text-anchor=\"middle\" x=\"14.5\" y=\"-5.6\" font-family=\"Helvetica,sans-Serif\" font-size=\"8.00\" fill=\"#ffffff\">B</text>\n",
       "</g>\n",
       "<!-- B&#45;&gt;C -->\n",
       "<g id=\"edge2\" class=\"edge\">\n",
       "<title>B-&gt;C</title>\n",
       "<path fill=\"none\" stroke=\"#494744\" d=\"M29.3261,-6.9302C36.5648,-6.9891 45.3429,-7.5652 53,-9.5 55.3651,-10.0976 57.7686,-10.8899 60.1308,-11.7945\"/>\n",
       "<polygon fill=\"#494744\" stroke=\"#494744\" points=\"58.8457,-15.0537 69.4039,-15.9344 61.6994,-8.6618 58.8457,-15.0537\"/>\n",
       "<text text-anchor=\"middle\" x=\"48.5\" y=\"-12.1\" font-family=\"Helvetica,sans-Serif\" font-size=\"8.00\" fill=\"#000000\">    </text>\n",
       "</g>\n",
       "</g>\n",
       "</svg>"
      ],
      "text/plain": [
       "<IPython.core.display.SVG object>"
      ]
     },
     "metadata": {},
     "output_type": "display_data"
    }
   ],
   "source": [
    "graph.update(\"C\")\n",
    "graphcat.notebook.display(graph)"
   ]
  },
  {
   "cell_type": "raw",
   "metadata": {
    "raw_mimetype": "text/restructuredtext"
   },
   "source": [
    "Looking closely at the log, we see that Task \"C\" is executed, but only *after* Task \"B\". Task \"A\" isn't executed, because it was already finished before :meth:`update<graphcat.graph.Graph.update>` was called.  Note that this conforms to our original goals for our workflow: tasks \"A\" and \"B\" must be completed before task \"C\", and we never re-execute tasks that are already finished.\n",
    "\n",
    "To reinforce this point, let's look at what happens if a task becomes *unfinished* again.  Imagine that some outside change has made the results of task \"A\" obsolete.  We can notify Graphcat that this has happened using :meth:`mark_unfinished<graphcat.graph.Graph.mark_unfinished>`:"
   ]
  },
  {
   "cell_type": "code",
   "execution_count": 9,
   "metadata": {},
   "outputs": [
    {
     "data": {
      "image/svg+xml": [
       "<svg xmlns=\"http://www.w3.org/2000/svg\" xmlns:xlink=\"http://www.w3.org/1999/xlink\" width=\"105pt\" height=\"56pt\" viewBox=\"0.00 0.00 105.00 56.00\">\n",
       "<g id=\"graph0\" class=\"graph\" transform=\"scale(1 1) rotate(0) translate(4 52)\">\n",
       "<polygon fill=\"#ffffff\" stroke=\"transparent\" points=\"-4,4 -4,-52 101,-52 101,4 -4,4\"/>\n",
       "<!-- A -->\n",
       "<g id=\"node1\" class=\"node\">\n",
       "<title>A</title>\n",
       "<polygon fill=\"#ffffff\" stroke=\"#494744\" points=\"29,-48 0,-48 0,-33 29,-33 29,-48\"/>\n",
       "<text text-anchor=\"middle\" x=\"14.5\" y=\"-38.6\" font-family=\"Helvetica,sans-Serif\" font-size=\"8.00\" fill=\"#494744\">A</text>\n",
       "</g>\n",
       "<!-- C -->\n",
       "<g id=\"node2\" class=\"node\">\n",
       "<title>C</title>\n",
       "<polygon fill=\"#ffffff\" stroke=\"#494744\" points=\"97,-31 68,-31 68,-16 97,-16 97,-31\"/>\n",
       "<text text-anchor=\"middle\" x=\"82.5\" y=\"-21.6\" font-family=\"Helvetica,sans-Serif\" font-size=\"8.00\" fill=\"#494744\">C</text>\n",
       "</g>\n",
       "<!-- A&#45;&gt;C -->\n",
       "<g id=\"edge1\" class=\"edge\">\n",
       "<title>A-&gt;C</title>\n",
       "<path fill=\"none\" stroke=\"#494744\" d=\"M29.255,-36.8113C37.6312,-34.7172 48.3309,-32.0423 57.9387,-29.6403\"/>\n",
       "<polygon fill=\"#494744\" stroke=\"#494744\" points=\"58.9213,-33.0025 67.7738,-27.1815 57.2235,-26.2115 58.9213,-33.0025\"/>\n",
       "<text text-anchor=\"middle\" x=\"48.5\" y=\"-35.1\" font-family=\"Helvetica,sans-Serif\" font-size=\"8.00\" fill=\"#000000\">    </text>\n",
       "</g>\n",
       "<!-- B -->\n",
       "<g id=\"node3\" class=\"node\">\n",
       "<title>B</title>\n",
       "<polygon fill=\"#494744\" stroke=\"#494744\" points=\"29,-15 0,-15 0,0 29,0 29,-15\"/>\n",
       "<text text-anchor=\"middle\" x=\"14.5\" y=\"-5.6\" font-family=\"Helvetica,sans-Serif\" font-size=\"8.00\" fill=\"#ffffff\">B</text>\n",
       "</g>\n",
       "<!-- B&#45;&gt;C -->\n",
       "<g id=\"edge2\" class=\"edge\">\n",
       "<title>B-&gt;C</title>\n",
       "<path fill=\"none\" stroke=\"#494744\" d=\"M29.3261,-6.9302C36.5648,-6.9891 45.3429,-7.5652 53,-9.5 55.3651,-10.0976 57.7686,-10.8899 60.1308,-11.7945\"/>\n",
       "<polygon fill=\"#494744\" stroke=\"#494744\" points=\"58.8457,-15.0537 69.4039,-15.9344 61.6994,-8.6618 58.8457,-15.0537\"/>\n",
       "<text text-anchor=\"middle\" x=\"48.5\" y=\"-12.1\" font-family=\"Helvetica,sans-Serif\" font-size=\"8.00\" fill=\"#000000\">    </text>\n",
       "</g>\n",
       "</g>\n",
       "</svg>"
      ],
      "text/plain": [
       "<IPython.core.display.SVG object>"
      ]
     },
     "metadata": {},
     "output_type": "display_data"
    }
   ],
   "source": [
    "graph.mark_unfinished(\"A\")\n",
    "graphcat.notebook.display(graph)"
   ]
  },
  {
   "cell_type": "markdown",
   "metadata": {},
   "source": [
    "Notice that both \"A\" and \"C\" have become unfinished: because \"A\" is unfinished and \"C\" depends on \"A\", \"C\" becomes unfinished too.  \"B\" is unaffected because it doesn't depend on \"A\".  Let's update \"C\" again:"
   ]
  },
  {
   "cell_type": "code",
   "execution_count": 10,
   "metadata": {},
   "outputs": [
    {
     "name": "stderr",
     "output_type": "stream",
     "text": [
      "INFO:graphcat.common:Task A updating.\n",
      "INFO:graphcat.common:Task A executing. Inputs: {}\n",
      "INFO:graphcat.common:Task A finished. Output: None\n",
      "INFO:graphcat.common:Task B updating.\n",
      "INFO:graphcat.common:Task C updating.\n",
      "INFO:graphcat.common:Task C executing. Inputs: {None: None, None: None}\n",
      "INFO:graphcat.common:Task C finished. Output: None\n"
     ]
    },
    {
     "data": {
      "image/svg+xml": [
       "<svg xmlns=\"http://www.w3.org/2000/svg\" xmlns:xlink=\"http://www.w3.org/1999/xlink\" width=\"105pt\" height=\"56pt\" viewBox=\"0.00 0.00 105.00 56.00\">\n",
       "<g id=\"graph0\" class=\"graph\" transform=\"scale(1 1) rotate(0) translate(4 52)\">\n",
       "<polygon fill=\"#ffffff\" stroke=\"transparent\" points=\"-4,4 -4,-52 101,-52 101,4 -4,4\"/>\n",
       "<!-- A -->\n",
       "<g id=\"node1\" class=\"node\">\n",
       "<title>A</title>\n",
       "<polygon fill=\"#494744\" stroke=\"#494744\" points=\"29,-48 0,-48 0,-33 29,-33 29,-48\"/>\n",
       "<text text-anchor=\"middle\" x=\"14.5\" y=\"-38.6\" font-family=\"Helvetica,sans-Serif\" font-size=\"8.00\" fill=\"#ffffff\">A</text>\n",
       "</g>\n",
       "<!-- C -->\n",
       "<g id=\"node2\" class=\"node\">\n",
       "<title>C</title>\n",
       "<polygon fill=\"#494744\" stroke=\"#494744\" points=\"97,-31 68,-31 68,-16 97,-16 97,-31\"/>\n",
       "<text text-anchor=\"middle\" x=\"82.5\" y=\"-21.6\" font-family=\"Helvetica,sans-Serif\" font-size=\"8.00\" fill=\"#ffffff\">C</text>\n",
       "</g>\n",
       "<!-- A&#45;&gt;C -->\n",
       "<g id=\"edge1\" class=\"edge\">\n",
       "<title>A-&gt;C</title>\n",
       "<path fill=\"none\" stroke=\"#494744\" d=\"M29.255,-36.8113C37.6312,-34.7172 48.3309,-32.0423 57.9387,-29.6403\"/>\n",
       "<polygon fill=\"#494744\" stroke=\"#494744\" points=\"58.9213,-33.0025 67.7738,-27.1815 57.2235,-26.2115 58.9213,-33.0025\"/>\n",
       "<text text-anchor=\"middle\" x=\"48.5\" y=\"-35.1\" font-family=\"Helvetica,sans-Serif\" font-size=\"8.00\" fill=\"#000000\">    </text>\n",
       "</g>\n",
       "<!-- B -->\n",
       "<g id=\"node3\" class=\"node\">\n",
       "<title>B</title>\n",
       "<polygon fill=\"#494744\" stroke=\"#494744\" points=\"29,-15 0,-15 0,0 29,0 29,-15\"/>\n",
       "<text text-anchor=\"middle\" x=\"14.5\" y=\"-5.6\" font-family=\"Helvetica,sans-Serif\" font-size=\"8.00\" fill=\"#ffffff\">B</text>\n",
       "</g>\n",
       "<!-- B&#45;&gt;C -->\n",
       "<g id=\"edge2\" class=\"edge\">\n",
       "<title>B-&gt;C</title>\n",
       "<path fill=\"none\" stroke=\"#494744\" d=\"M29.3261,-6.9302C36.5648,-6.9891 45.3429,-7.5652 53,-9.5 55.3651,-10.0976 57.7686,-10.8899 60.1308,-11.7945\"/>\n",
       "<polygon fill=\"#494744\" stroke=\"#494744\" points=\"58.8457,-15.0537 69.4039,-15.9344 61.6994,-8.6618 58.8457,-15.0537\"/>\n",
       "<text text-anchor=\"middle\" x=\"48.5\" y=\"-12.1\" font-family=\"Helvetica,sans-Serif\" font-size=\"8.00\" fill=\"#000000\">    </text>\n",
       "</g>\n",
       "</g>\n",
       "</svg>"
      ],
      "text/plain": [
       "<IPython.core.display.SVG object>"
      ]
     },
     "metadata": {},
     "output_type": "display_data"
    }
   ],
   "source": [
    "graph.update(\"C\")\n",
    "graphcat.notebook.display(graph)"
   ]
  },
  {
   "cell_type": "markdown",
   "metadata": {},
   "source": [
    "This time \"C\" is executed, but only after \"A\".  As expected, \"B\" isn't executed because it was already finished.\n",
    "\n",
    "Hopefully, we've convinced you that Graphcat always knows which tasks to execute, and in what order.  This is true no matter how complex your computational graph becomes.  In the next section, we will explore how to configure the graph to perform real work."
   ]
  },
  {
   "cell_type": "markdown",
   "metadata": {},
   "source": [
    "## Task Functions\n",
    "\n",
    "In the previous section, we learned how to represent our workflow using tasks and links, but the tasks themselves didn't actually do anything when executed.  To rectify this, we will assign *task functions* that define what a task does when executed.  A task function is simply a Python function (technically: a Python *callable*) that is called when a task is executed, returning a value that is stored as the *output* for the task.  When downstream tasks are executed, their task functions have access to the outputs from their upstream dependencies.  Thus, upstream task function *outputs* become downstream task function *inputs*.\n",
    "\n",
    "Let's turn our current example into a simple calculator.  Tasks \"A\" and \"B\" will have task functions that return numbers, and task \"C\" will return the sum of its inputs.  First, we define the task functions for each task:"
   ]
  },
  {
   "cell_type": "code",
   "execution_count": 11,
   "metadata": {},
   "outputs": [],
   "source": [
    "def task_a(graph, name, inputs):\n",
    "    return 2\n",
    "\n",
    "def task_b(graph, name, inputs):\n",
    "    return 3\n",
    "\n",
    "def add(graph, name, inputs):\n",
    "    return sum([value() for value in inputs.values()])"
   ]
  },
  {
   "cell_type": "markdown",
   "metadata": {},
   "source": [
    "Note that every task function must accept three keyword arguments: `graph`, `name` and `inputs`.  The `graph` argument is the graph that this task is a part of; `name` is the name of the task being executed, and is useful for logging or changing the function's behavior based on the task's identity; `inputs` is an object that behaves like a Python dict and contains the outputs from upstream tasks.\n",
    "\n",
    "Don't worry too much about how `add()` is implemented, we'll discuss that in detail in a bit.  Let's assign our task functions to each task in the graph:"
   ]
  },
  {
   "cell_type": "code",
   "execution_count": 12,
   "metadata": {},
   "outputs": [
    {
     "data": {
      "image/svg+xml": [
       "<svg xmlns=\"http://www.w3.org/2000/svg\" xmlns:xlink=\"http://www.w3.org/1999/xlink\" width=\"105pt\" height=\"56pt\" viewBox=\"0.00 0.00 105.00 56.00\">\n",
       "<g id=\"graph0\" class=\"graph\" transform=\"scale(1 1) rotate(0) translate(4 52)\">\n",
       "<polygon fill=\"#ffffff\" stroke=\"transparent\" points=\"-4,4 -4,-52 101,-52 101,4 -4,4\"/>\n",
       "<!-- A -->\n",
       "<g id=\"node1\" class=\"node\">\n",
       "<title>A</title>\n",
       "<polygon fill=\"#ffffff\" stroke=\"#494744\" points=\"29,-48 0,-48 0,-33 29,-33 29,-48\"/>\n",
       "<text text-anchor=\"middle\" x=\"14.5\" y=\"-38.6\" font-family=\"Helvetica,sans-Serif\" font-size=\"8.00\" fill=\"#494744\">A</text>\n",
       "</g>\n",
       "<!-- C -->\n",
       "<g id=\"node2\" class=\"node\">\n",
       "<title>C</title>\n",
       "<polygon fill=\"#ffffff\" stroke=\"#494744\" points=\"97,-31 68,-31 68,-16 97,-16 97,-31\"/>\n",
       "<text text-anchor=\"middle\" x=\"82.5\" y=\"-21.6\" font-family=\"Helvetica,sans-Serif\" font-size=\"8.00\" fill=\"#494744\">C</text>\n",
       "</g>\n",
       "<!-- A&#45;&gt;C -->\n",
       "<g id=\"edge1\" class=\"edge\">\n",
       "<title>A-&gt;C</title>\n",
       "<path fill=\"none\" stroke=\"#494744\" d=\"M29.255,-36.8113C37.6312,-34.7172 48.3309,-32.0423 57.9387,-29.6403\"/>\n",
       "<polygon fill=\"#494744\" stroke=\"#494744\" points=\"58.9213,-33.0025 67.7738,-27.1815 57.2235,-26.2115 58.9213,-33.0025\"/>\n",
       "<text text-anchor=\"middle\" x=\"48.5\" y=\"-35.1\" font-family=\"Helvetica,sans-Serif\" font-size=\"8.00\" fill=\"#000000\">    </text>\n",
       "</g>\n",
       "<!-- B -->\n",
       "<g id=\"node3\" class=\"node\">\n",
       "<title>B</title>\n",
       "<polygon fill=\"#ffffff\" stroke=\"#494744\" points=\"29,-15 0,-15 0,0 29,0 29,-15\"/>\n",
       "<text text-anchor=\"middle\" x=\"14.5\" y=\"-5.6\" font-family=\"Helvetica,sans-Serif\" font-size=\"8.00\" fill=\"#494744\">B</text>\n",
       "</g>\n",
       "<!-- B&#45;&gt;C -->\n",
       "<g id=\"edge2\" class=\"edge\">\n",
       "<title>B-&gt;C</title>\n",
       "<path fill=\"none\" stroke=\"#494744\" d=\"M29.3261,-6.9302C36.5648,-6.9891 45.3429,-7.5652 53,-9.5 55.3651,-10.0976 57.7686,-10.8899 60.1308,-11.7945\"/>\n",
       "<polygon fill=\"#494744\" stroke=\"#494744\" points=\"58.8457,-15.0537 69.4039,-15.9344 61.6994,-8.6618 58.8457,-15.0537\"/>\n",
       "<text text-anchor=\"middle\" x=\"48.5\" y=\"-12.1\" font-family=\"Helvetica,sans-Serif\" font-size=\"8.00\" fill=\"#000000\">    </text>\n",
       "</g>\n",
       "</g>\n",
       "</svg>"
      ],
      "text/plain": [
       "<IPython.core.display.SVG object>"
      ]
     },
     "metadata": {},
     "output_type": "display_data"
    }
   ],
   "source": [
    "graph.set_task(\"A\", task_a)\n",
    "graph.set_task(\"B\", task_b)\n",
    "graph.set_task(\"C\", add)\n",
    "graphcat.notebook.display(graph)"
   ]
  },
  {
   "cell_type": "raw",
   "metadata": {
    "raw_mimetype": "text/restructuredtext"
   },
   "source": [
    "Notice that changing the task functions with :meth:`set_task<graphcat.static.StaticGraph.set_task>` also marks the tasks as unfinished.  This is an example of how Graphcat always ensures that changes to the graph will propagate to its results. Let's update the graph and see what happens:"
   ]
  },
  {
   "cell_type": "code",
   "execution_count": 13,
   "metadata": {},
   "outputs": [
    {
     "name": "stderr",
     "output_type": "stream",
     "text": [
      "INFO:graphcat.common:Task A updating.\n",
      "INFO:graphcat.common:Task A executing. Inputs: {}\n",
      "INFO:graphcat.common:Task A finished. Output: 2\n",
      "INFO:graphcat.common:Task B updating.\n",
      "INFO:graphcat.common:Task B executing. Inputs: {}\n",
      "INFO:graphcat.common:Task B finished. Output: 3\n",
      "INFO:graphcat.common:Task C updating.\n",
      "INFO:graphcat.common:Task C executing. Inputs: {None: 2, None: 3}\n",
      "INFO:graphcat.common:Task C finished. Output: 5\n"
     ]
    },
    {
     "data": {
      "image/svg+xml": [
       "<svg xmlns=\"http://www.w3.org/2000/svg\" xmlns:xlink=\"http://www.w3.org/1999/xlink\" width=\"105pt\" height=\"56pt\" viewBox=\"0.00 0.00 105.00 56.00\">\n",
       "<g id=\"graph0\" class=\"graph\" transform=\"scale(1 1) rotate(0) translate(4 52)\">\n",
       "<polygon fill=\"#ffffff\" stroke=\"transparent\" points=\"-4,4 -4,-52 101,-52 101,4 -4,4\"/>\n",
       "<!-- A -->\n",
       "<g id=\"node1\" class=\"node\">\n",
       "<title>A</title>\n",
       "<polygon fill=\"#494744\" stroke=\"#494744\" points=\"29,-48 0,-48 0,-33 29,-33 29,-48\"/>\n",
       "<text text-anchor=\"middle\" x=\"14.5\" y=\"-38.6\" font-family=\"Helvetica,sans-Serif\" font-size=\"8.00\" fill=\"#ffffff\">A</text>\n",
       "</g>\n",
       "<!-- C -->\n",
       "<g id=\"node2\" class=\"node\">\n",
       "<title>C</title>\n",
       "<polygon fill=\"#494744\" stroke=\"#494744\" points=\"97,-31 68,-31 68,-16 97,-16 97,-31\"/>\n",
       "<text text-anchor=\"middle\" x=\"82.5\" y=\"-21.6\" font-family=\"Helvetica,sans-Serif\" font-size=\"8.00\" fill=\"#ffffff\">C</text>\n",
       "</g>\n",
       "<!-- A&#45;&gt;C -->\n",
       "<g id=\"edge1\" class=\"edge\">\n",
       "<title>A-&gt;C</title>\n",
       "<path fill=\"none\" stroke=\"#494744\" d=\"M29.255,-36.8113C37.6312,-34.7172 48.3309,-32.0423 57.9387,-29.6403\"/>\n",
       "<polygon fill=\"#494744\" stroke=\"#494744\" points=\"58.9213,-33.0025 67.7738,-27.1815 57.2235,-26.2115 58.9213,-33.0025\"/>\n",
       "<text text-anchor=\"middle\" x=\"48.5\" y=\"-35.1\" font-family=\"Helvetica,sans-Serif\" font-size=\"8.00\" fill=\"#000000\">    </text>\n",
       "</g>\n",
       "<!-- B -->\n",
       "<g id=\"node3\" class=\"node\">\n",
       "<title>B</title>\n",
       "<polygon fill=\"#494744\" stroke=\"#494744\" points=\"29,-15 0,-15 0,0 29,0 29,-15\"/>\n",
       "<text text-anchor=\"middle\" x=\"14.5\" y=\"-5.6\" font-family=\"Helvetica,sans-Serif\" font-size=\"8.00\" fill=\"#ffffff\">B</text>\n",
       "</g>\n",
       "<!-- B&#45;&gt;C -->\n",
       "<g id=\"edge2\" class=\"edge\">\n",
       "<title>B-&gt;C</title>\n",
       "<path fill=\"none\" stroke=\"#494744\" d=\"M29.3261,-6.9302C36.5648,-6.9891 45.3429,-7.5652 53,-9.5 55.3651,-10.0976 57.7686,-10.8899 60.1308,-11.7945\"/>\n",
       "<polygon fill=\"#494744\" stroke=\"#494744\" points=\"58.8457,-15.0537 69.4039,-15.9344 61.6994,-8.6618 58.8457,-15.0537\"/>\n",
       "<text text-anchor=\"middle\" x=\"48.5\" y=\"-12.1\" font-family=\"Helvetica,sans-Serif\" font-size=\"8.00\" fill=\"#000000\">    </text>\n",
       "</g>\n",
       "</g>\n",
       "</svg>"
      ],
      "text/plain": [
       "<IPython.core.display.SVG object>"
      ]
     },
     "metadata": {},
     "output_type": "display_data"
    }
   ],
   "source": [
    "graph.update(\"C\")\n",
    "graphcat.notebook.display(graph)"
   ]
  },
  {
   "cell_type": "raw",
   "metadata": {
    "raw_mimetype": "text/restructuredtext"
   },
   "source": [
    "Now, the full meaning of the log messages should be clearer - tasks \"A\" and \"B\" have no inputs when they execute, returning the values `2` and `3` respectively as their outputs.  Those outputs become the inputs to \"C\" when it executes, where they are summed, so that the output of \"C\" is `5`, as expected.\n",
    "\n",
    "Of course, you normally want to retrieve the outputs from your graph so you can do something with them.  So far, all we've seen are log messages.  To retrieve the most recent output for a task, use :meth:`output<graphcat.graph.Graph.output>` instead of :meth:`update<graphcat.graph.Graph.update>`:"
   ]
  },
  {
   "cell_type": "code",
   "execution_count": 14,
   "metadata": {},
   "outputs": [
    {
     "name": "stderr",
     "output_type": "stream",
     "text": [
      "INFO:graphcat.common:Task A updating.\n",
      "INFO:graphcat.common:Task B updating.\n",
      "INFO:graphcat.common:Task C updating.\n"
     ]
    },
    {
     "name": "stdout",
     "output_type": "stream",
     "text": [
      "Result: 5\n"
     ]
    }
   ],
   "source": [
    "print(\"Result:\", graph.output(\"C\"))"
   ]
  },
  {
   "cell_type": "raw",
   "metadata": {
    "raw_mimetype": "text/restructuredtext"
   },
   "source": [
    "Note that :meth:`output<graphcat.graph.Graph.output>` implicitly calls :meth:`update<graphcat.graph.Graph.update>` for you, so you can simply use it whenever you need to execute your graph and retrieve an output.\n",
    "\n",
    "Now that our graph is performing a real (albeit trivial) task, let's look at some ways to simplify setting it up:\n",
    "\n",
    "First, it is extremely common for a graph to have \"parameter\" tasks that simply return a value, as tasks \"A\" and \"B\" do in our example.  Having to create a separate function for every parameter would be perverse.  Fortunately, Graphcat provides a helper function, :func:`graphcat.constant<graphcat.common.constant>`, that you can use instead:"
   ]
  },
  {
   "cell_type": "code",
   "execution_count": 15,
   "metadata": {},
   "outputs": [
    {
     "name": "stderr",
     "output_type": "stream",
     "text": [
      "INFO:graphcat.common:Task A updating.\n",
      "INFO:graphcat.common:Task A executing. Inputs: {}\n",
      "INFO:graphcat.common:Task A finished. Output: 4\n",
      "INFO:graphcat.common:Task B updating.\n",
      "INFO:graphcat.common:Task B executing. Inputs: {}\n",
      "INFO:graphcat.common:Task B finished. Output: 5\n",
      "INFO:graphcat.common:Task C updating.\n",
      "INFO:graphcat.common:Task C executing. Inputs: {None: 4, None: 5}\n",
      "INFO:graphcat.common:Task C finished. Output: 9\n"
     ]
    },
    {
     "name": "stdout",
     "output_type": "stream",
     "text": [
      "Result: 9\n"
     ]
    }
   ],
   "source": [
    "graph.set_task(\"A\", graphcat.constant(4))\n",
    "graph.set_task(\"B\", graphcat.constant(5))\n",
    "print(\"Result:\", graph.output(\"C\"))"
   ]
  },
  {
   "cell_type": "raw",
   "metadata": {
    "raw_mimetype": "text/restructuredtext"
   },
   "source": [
    ":func:`graphcat.constant<graphcat.common.constant>` is a factory for task functions that always return a value you provide, eliminating the need to create dedicated task functions of your own for parameters.  Use :func:`graphcat.constant<graphcat.common.constant>` with :meth:`set_task<graphcat.graph.Graph.set_task>` any time you need to change the parameters in your workflow, whether due to user input, changes in the environment, network traffic, or any other externality that affects your workflow outputs.\n",
    "\n",
    "Next, you may wonder why we had to call both :meth:`add_task<graphcat.static.StaticGraph.add_task>` and :meth:`set_task<graphcat.static.StaticGraph.set_task>` just to create a working task.  In fact, we didn't - either method can create a task and assign its function in a single step:"
   ]
  },
  {
   "cell_type": "code",
   "execution_count": 16,
   "metadata": {},
   "outputs": [],
   "source": [
    "graph.set_task(\"D\", graphcat.constant(6))"
   ]
  },
  {
   "cell_type": "raw",
   "metadata": {
    "raw_mimetype": "text/restructuredtext"
   },
   "source": [
    "The difference between :meth:`add_task<graphcat.graph.Graph.add_task>` and :meth:`set_task<graphcat.graph.Graph.set_task>` is that the former will fail if a task with the given name already exists, while the latter will quietly overwrite it.\n",
    "\n",
    "Let's connect our newly created task \"D\" to \"C\", and see that it integrates nicely with the rest of the computation:"
   ]
  },
  {
   "cell_type": "code",
   "execution_count": 17,
   "metadata": {},
   "outputs": [
    {
     "name": "stderr",
     "output_type": "stream",
     "text": [
      "INFO:graphcat.common:Task A updating.\n",
      "INFO:graphcat.common:Task B updating.\n",
      "INFO:graphcat.common:Task D updating.\n",
      "INFO:graphcat.common:Task D executing. Inputs: {}\n",
      "INFO:graphcat.common:Task D finished. Output: 6\n",
      "INFO:graphcat.common:Task C updating.\n",
      "INFO:graphcat.common:Task C executing. Inputs: {None: 4, None: 5, None: 6}\n",
      "INFO:graphcat.common:Task C finished. Output: 15\n"
     ]
    },
    {
     "name": "stdout",
     "output_type": "stream",
     "text": [
      "Result: 15\n"
     ]
    },
    {
     "data": {
      "image/svg+xml": [
       "<svg xmlns=\"http://www.w3.org/2000/svg\" xmlns:xlink=\"http://www.w3.org/1999/xlink\" width=\"105pt\" height=\"89pt\" viewBox=\"0.00 0.00 105.00 89.00\">\n",
       "<g id=\"graph0\" class=\"graph\" transform=\"scale(1 1) rotate(0) translate(4 85)\">\n",
       "<polygon fill=\"#ffffff\" stroke=\"transparent\" points=\"-4,4 -4,-85 101,-85 101,4 -4,4\"/>\n",
       "<!-- A -->\n",
       "<g id=\"node1\" class=\"node\">\n",
       "<title>A</title>\n",
       "<polygon fill=\"#494744\" stroke=\"#494744\" points=\"29,-81 0,-81 0,-66 29,-66 29,-81\"/>\n",
       "<text text-anchor=\"middle\" x=\"14.5\" y=\"-71.6\" font-family=\"Helvetica,sans-Serif\" font-size=\"8.00\" fill=\"#ffffff\">A</text>\n",
       "</g>\n",
       "<!-- C -->\n",
       "<g id=\"node2\" class=\"node\">\n",
       "<title>C</title>\n",
       "<polygon fill=\"#494744\" stroke=\"#494744\" points=\"97,-48 68,-48 68,-33 97,-33 97,-48\"/>\n",
       "<text text-anchor=\"middle\" x=\"82.5\" y=\"-38.6\" font-family=\"Helvetica,sans-Serif\" font-size=\"8.00\" fill=\"#ffffff\">C</text>\n",
       "</g>\n",
       "<!-- A&#45;&gt;C -->\n",
       "<g id=\"edge1\" class=\"edge\">\n",
       "<title>A-&gt;C</title>\n",
       "<path fill=\"none\" stroke=\"#494744\" d=\"M29.255,-66.3395C37.8094,-62.1881 48.7873,-56.8606 58.5504,-52.1226\"/>\n",
       "<polygon fill=\"#494744\" stroke=\"#494744\" points=\"60.3053,-55.1614 67.7738,-47.6465 57.2491,-48.8638 60.3053,-55.1614\"/>\n",
       "<text text-anchor=\"middle\" x=\"48.5\" y=\"-61.1\" font-family=\"Helvetica,sans-Serif\" font-size=\"8.00\" fill=\"#000000\">    </text>\n",
       "</g>\n",
       "<!-- B -->\n",
       "<g id=\"node3\" class=\"node\">\n",
       "<title>B</title>\n",
       "<polygon fill=\"#494744\" stroke=\"#494744\" points=\"29,-48 0,-48 0,-33 29,-33 29,-48\"/>\n",
       "<text text-anchor=\"middle\" x=\"14.5\" y=\"-38.6\" font-family=\"Helvetica,sans-Serif\" font-size=\"8.00\" fill=\"#ffffff\">B</text>\n",
       "</g>\n",
       "<!-- B&#45;&gt;C -->\n",
       "<g id=\"edge2\" class=\"edge\">\n",
       "<title>B-&gt;C</title>\n",
       "<path fill=\"none\" stroke=\"#494744\" d=\"M29.255,-40.5C37.5421,-40.5 48.1036,-40.5 57.6317,-40.5\"/>\n",
       "<polygon fill=\"#494744\" stroke=\"#494744\" points=\"57.7738,-44.0001 67.7738,-40.5 57.7738,-37.0001 57.7738,-44.0001\"/>\n",
       "<text text-anchor=\"middle\" x=\"48.5\" y=\"-43.1\" font-family=\"Helvetica,sans-Serif\" font-size=\"8.00\" fill=\"#000000\">    </text>\n",
       "</g>\n",
       "<!-- D -->\n",
       "<g id=\"node4\" class=\"node\">\n",
       "<title>D</title>\n",
       "<polygon fill=\"#494744\" stroke=\"#494744\" points=\"29,-15 0,-15 0,0 29,0 29,-15\"/>\n",
       "<text text-anchor=\"middle\" x=\"14.5\" y=\"-5.6\" font-family=\"Helvetica,sans-Serif\" font-size=\"8.00\" fill=\"#ffffff\">D</text>\n",
       "</g>\n",
       "<!-- D&#45;&gt;C -->\n",
       "<g id=\"edge3\" class=\"edge\">\n",
       "<title>D-&gt;C</title>\n",
       "<path fill=\"none\" stroke=\"#494744\" d=\"M29.255,-14.6605C37.8094,-18.8119 48.7873,-24.1394 58.5504,-28.8774\"/>\n",
       "<polygon fill=\"#494744\" stroke=\"#494744\" points=\"57.2491,-32.1362 67.7738,-33.3535 60.3053,-25.8386 57.2491,-32.1362\"/>\n",
       "<text text-anchor=\"middle\" x=\"48.5\" y=\"-28.1\" font-family=\"Helvetica,sans-Serif\" font-size=\"8.00\" fill=\"#000000\">    </text>\n",
       "</g>\n",
       "</g>\n",
       "</svg>"
      ],
      "text/plain": [
       "<IPython.core.display.SVG object>"
      ]
     },
     "metadata": {},
     "output_type": "display_data"
    }
   ],
   "source": [
    "graph.set_links(source=\"D\", targets=\"C\")\n",
    "print(\"Result:\", graph.output(\"C\"))\n",
    "graphcat.notebook.display(graph)"
   ]
  },
  {
   "cell_type": "markdown",
   "metadata": {},
   "source": [
    "## Named Inputs\n",
    "\n",
    "By now, you should have questions about the way inputs are passed to task functions.  From the log message in the preceding example - `{None: 4, None: 5, None: 6}` - it's obvious that the results from \"A\", \"B\", and \"D\" are passed to \"C\" using something that looks like a dict, but what's with the key `None`, and why does it appear multiple times (something that can't happen with an actual dict)?"
   ]
  },
  {
   "cell_type": "raw",
   "metadata": {
    "raw_mimetype": "text/restructuredtext"
   },
   "source": [
    "What's happening is that when you create a link between a source and a target, you also - implicitly or explicitly - specify a *named input* on the target.  When the target task function is executed, the named inputs become the keys used to access the corresponding values.  This makes it possible for task functions with multiple inputs to tell those inputs apart.  If you don't specify a named input when you create a link, the name defaults to :any:`None`.\n",
    "\n",
    "Let's look back at the implementation of the ``add()`` function::\n",
    "\n",
    "    def add(graph, name, inputs):\n",
    "      return sum([value() for value in inputs.values()])\n",
    "\n",
    "Here, the function doesn't need to know the names of its inputs, since all it does is add them together.  That is why it uses the ``values()`` method of the `inputs` object - like a normal Python dict, ``values()`` provides access to just the values, ignoring the input names.  Note though, that *unlike* a Python dict, the objects returned by ``values()`` aren't the values themselves - they are callables that have to be executed to return the values - which is why the code is ``sum([value() ...`` instead of ``sum([value ...``.\n",
    "\n",
    "Let's modify our current example to access inputs by name.  Instead of adding values, we'll create a new task function that generates a familiar greeting:"
   ]
  },
  {
   "cell_type": "code",
   "execution_count": 18,
   "metadata": {},
   "outputs": [],
   "source": [
    "def greeting(graph, name, inputs):\n",
    "    return f\"{inputs.getone('greeting')}, {inputs.getone('subject')}!\""
   ]
  },
  {
   "cell_type": "markdown",
   "metadata": {},
   "source": [
    "Note that the `greeting()` task function uses two inputs named `\"greeting\"` and `\"subject\"`.  Each call to ``inputs.getone(<name>)`` will return the value of the named input.  If there isn't an input with the given name, or there's more than one, the call will fail.\n",
    "\n",
    "Now we can setup the parameter and greeting task functions for our existing graph:"
   ]
  },
  {
   "cell_type": "code",
   "execution_count": 19,
   "metadata": {},
   "outputs": [],
   "source": [
    "graph.set_task(\"A\", graphcat.constant(\"Hello\"))\n",
    "graph.set_task(\"B\", graphcat.constant(\"World\"))\n",
    "graph.set_task(\"C\", greeting)"
   ]
  },
  {
   "cell_type": "raw",
   "metadata": {
    "raw_mimetype": "text/restructuredtext"
   },
   "source": [
    "And we'll replace our existing links with links that connect to the named inputs required by the ``greeting()`` function (note that :meth:`set_links<graphcat.graph.Graph.set_links>` replaces all of the outgoing links for a given source, instead of :meth:`add_links<graphcat.graph.Graph.add_links>`, which adds new links):"
   ]
  },
  {
   "cell_type": "code",
   "execution_count": 20,
   "metadata": {},
   "outputs": [],
   "source": [
    "graph.set_links(source=\"A\", targets=(\"C\", \"greeting\"))\n",
    "graph.set_links(source=\"B\", targets=(\"C\", \"subject\"))"
   ]
  },
  {
   "cell_type": "raw",
   "metadata": {
    "raw_mimetype": "text/restructuredtext"
   },
   "source": [
    "... instead of passing just a task name as the target for :meth:`set_links<graphcat.graph.Graph.set_links>`, we pass a ``(task name, input name)`` tuple instead.  Like task names, input names don't have to be strings - they can be any hashable object.  Let's see the result:"
   ]
  },
  {
   "cell_type": "code",
   "execution_count": 21,
   "metadata": {},
   "outputs": [
    {
     "name": "stderr",
     "output_type": "stream",
     "text": [
      "INFO:graphcat.common:Task D updating.\n",
      "INFO:graphcat.common:Task A updating.\n",
      "INFO:graphcat.common:Task A executing. Inputs: {}\n",
      "INFO:graphcat.common:Task A finished. Output: Hello\n",
      "INFO:graphcat.common:Task B updating.\n",
      "INFO:graphcat.common:Task B executing. Inputs: {}\n",
      "INFO:graphcat.common:Task B finished. Output: World\n",
      "INFO:graphcat.common:Task C updating.\n",
      "INFO:graphcat.common:Task C executing. Inputs: {None: 6, greeting: Hello, subject: World}\n",
      "INFO:graphcat.common:Task C finished. Output: Hello, World!\n"
     ]
    },
    {
     "name": "stdout",
     "output_type": "stream",
     "text": [
      "Result: Hello, World!\n"
     ]
    },
    {
     "data": {
      "image/svg+xml": [
       "<svg xmlns=\"http://www.w3.org/2000/svg\" xmlns:xlink=\"http://www.w3.org/1999/xlink\" width=\"134pt\" height=\"89pt\" viewBox=\"0.00 0.00 134.00 89.00\">\n",
       "<g id=\"graph0\" class=\"graph\" transform=\"scale(1 1) rotate(0) translate(4 85)\">\n",
       "<polygon fill=\"#ffffff\" stroke=\"transparent\" points=\"-4,4 -4,-85 130,-85 130,4 -4,4\"/>\n",
       "<!-- A -->\n",
       "<g id=\"node1\" class=\"node\">\n",
       "<title>A</title>\n",
       "<polygon fill=\"#494744\" stroke=\"#494744\" points=\"29,-81 0,-81 0,-66 29,-66 29,-81\"/>\n",
       "<text text-anchor=\"middle\" x=\"14.5\" y=\"-71.6\" font-family=\"Helvetica,sans-Serif\" font-size=\"8.00\" fill=\"#ffffff\">A</text>\n",
       "</g>\n",
       "<!-- C -->\n",
       "<g id=\"node2\" class=\"node\">\n",
       "<title>C</title>\n",
       "<polygon fill=\"#494744\" stroke=\"#494744\" points=\"126,-48 97,-48 97,-33 126,-33 126,-48\"/>\n",
       "<text text-anchor=\"middle\" x=\"111.5\" y=\"-38.6\" font-family=\"Helvetica,sans-Serif\" font-size=\"8.00\" fill=\"#ffffff\">C</text>\n",
       "</g>\n",
       "<!-- A&#45;&gt;C -->\n",
       "<g id=\"edge1\" class=\"edge\">\n",
       "<title>A-&gt;C</title>\n",
       "<path fill=\"none\" stroke=\"#494744\" d=\"M29.0428,-68.9538C42.753,-64.6221 63.8474,-57.8395 82,-51.5 83.6674,-50.9177 85.3839,-50.3071 87.1105,-49.6847\"/>\n",
       "<polygon fill=\"#494744\" stroke=\"#494744\" points=\"88.6628,-52.843 96.8387,-46.1047 86.2452,-46.2737 88.6628,-52.843\"/>\n",
       "<text text-anchor=\"middle\" x=\"63\" y=\"-66.1\" font-family=\"Helvetica,sans-Serif\" font-size=\"8.00\" fill=\"#000000\">  greeting  </text>\n",
       "</g>\n",
       "<!-- B -->\n",
       "<g id=\"node3\" class=\"node\">\n",
       "<title>B</title>\n",
       "<polygon fill=\"#494744\" stroke=\"#494744\" points=\"29,-48 0,-48 0,-33 29,-33 29,-48\"/>\n",
       "<text text-anchor=\"middle\" x=\"14.5\" y=\"-38.6\" font-family=\"Helvetica,sans-Serif\" font-size=\"8.00\" fill=\"#ffffff\">B</text>\n",
       "</g>\n",
       "<!-- B&#45;&gt;C -->\n",
       "<g id=\"edge2\" class=\"edge\">\n",
       "<title>B-&gt;C</title>\n",
       "<path fill=\"none\" stroke=\"#494744\" d=\"M29.2322,-40.5C44.4897,-40.5 68.5984,-40.5 86.781,-40.5\"/>\n",
       "<polygon fill=\"#494744\" stroke=\"#494744\" points=\"86.947,-44.0001 96.947,-40.5 86.9469,-37.0001 86.947,-44.0001\"/>\n",
       "<text text-anchor=\"middle\" x=\"63\" y=\"-43.1\" font-family=\"Helvetica,sans-Serif\" font-size=\"8.00\" fill=\"#000000\">  subject  </text>\n",
       "</g>\n",
       "<!-- D -->\n",
       "<g id=\"node4\" class=\"node\">\n",
       "<title>D</title>\n",
       "<polygon fill=\"#494744\" stroke=\"#494744\" points=\"29,-15 0,-15 0,0 29,0 29,-15\"/>\n",
       "<text text-anchor=\"middle\" x=\"14.5\" y=\"-5.6\" font-family=\"Helvetica,sans-Serif\" font-size=\"8.00\" fill=\"#ffffff\">D</text>\n",
       "</g>\n",
       "<!-- D&#45;&gt;C -->\n",
       "<g id=\"edge3\" class=\"edge\">\n",
       "<title>D-&gt;C</title>\n",
       "<path fill=\"none\" stroke=\"#494744\" d=\"M29.1582,-11.2654C42.9498,-14.9436 64.0994,-20.934 82,-27.5 83.8522,-28.1794 85.7536,-28.9182 87.6556,-29.6871\"/>\n",
       "<polygon fill=\"#494744\" stroke=\"#494744\" points=\"86.3734,-32.9452 96.945,-33.6476 89.1188,-26.506 86.3734,-32.9452\"/>\n",
       "<text text-anchor=\"middle\" x=\"63\" y=\"-30.1\" font-family=\"Helvetica,sans-Serif\" font-size=\"8.00\" fill=\"#000000\">    </text>\n",
       "</g>\n",
       "</g>\n",
       "</svg>"
      ],
      "text/plain": [
       "<IPython.core.display.SVG object>"
      ]
     },
     "metadata": {},
     "output_type": "display_data"
    }
   ],
   "source": [
    "print(\"Result:\", graph.output(\"C\"))\n",
    "graphcat.notebook.display(graph)"
   ]
  },
  {
   "cell_type": "raw",
   "metadata": {
    "raw_mimetype": "text/restructuredtext"
   },
   "source": [
    "Note that the notebook diagram links are labelled when they're connected to inputs with names other than :any:`None`.\n",
    "\n",
    "Now, the input dict for \"C\" printed to the log should make more sense - it contains all of the named inputs and corresponding upstream outputs for the task.  Note that task \"D\" is still connected to input :any:`None`, but it's ignored by the ``greeting()`` implementation.\n",
    "\n",
    "It should also be clear now why a name can appear more than once in a task's inputs: you can connect multiple tasks to a single input, one task to multiple inputs, or any combination of the two.\n",
    "\n",
    "By examining the input object, a task function can implement any desired behavior, from very strict (failing unless the input contains a specific set of names, numbers, and types of values) to very permissive (adjusting functionality based on names, numbers, and types of values in the input dict), or anywhere in-between."
   ]
  },
  {
   "cell_type": "markdown",
   "metadata": {},
   "source": [
    "## Errors\n",
    "\n",
    "What happens when things go wrong and your task function fails?  Let's find out, using a special Graphcat helper function for generating task functions that throw exceptions:"
   ]
  },
  {
   "cell_type": "code",
   "execution_count": 22,
   "metadata": {},
   "outputs": [],
   "source": [
    "graph.set_task(\"D\", graphcat.raise_exception(RuntimeError(\"Whoops!\")))"
   ]
  },
  {
   "cell_type": "markdown",
   "metadata": {},
   "source": [
    "(In case you're wondering, we use this for testing and debugging)"
   ]
  },
  {
   "cell_type": "code",
   "execution_count": 23,
   "metadata": {},
   "outputs": [
    {
     "name": "stderr",
     "output_type": "stream",
     "text": [
      "INFO:graphcat.common:Task D updating.\n",
      "INFO:graphcat.common:Task D executing. Inputs: {}\n",
      "ERROR:graphcat.common:Task D failed. Exception: Whoops!\n",
      "INFO:graphcat.common:Task A updating.\n",
      "INFO:graphcat.common:Task B updating.\n",
      "INFO:graphcat.common:Task C updating.\n"
     ]
    },
    {
     "name": "stdout",
     "output_type": "stream",
     "text": [
      "Exception: RuntimeError('Whoops!')\n"
     ]
    },
    {
     "data": {
      "image/svg+xml": [
       "<svg xmlns=\"http://www.w3.org/2000/svg\" xmlns:xlink=\"http://www.w3.org/1999/xlink\" width=\"134pt\" height=\"89pt\" viewBox=\"0.00 0.00 134.00 89.00\">\n",
       "<g id=\"graph0\" class=\"graph\" transform=\"scale(1 1) rotate(0) translate(4 85)\">\n",
       "<polygon fill=\"#ffffff\" stroke=\"transparent\" points=\"-4,4 -4,-85 130,-85 130,4 -4,4\"/>\n",
       "<!-- A -->\n",
       "<g id=\"node1\" class=\"node\">\n",
       "<title>A</title>\n",
       "<polygon fill=\"#494744\" stroke=\"#494744\" points=\"29,-81 0,-81 0,-66 29,-66 29,-81\"/>\n",
       "<text text-anchor=\"middle\" x=\"14.5\" y=\"-71.6\" font-family=\"Helvetica,sans-Serif\" font-size=\"8.00\" fill=\"#ffffff\">A</text>\n",
       "</g>\n",
       "<!-- C -->\n",
       "<g id=\"node2\" class=\"node\">\n",
       "<title>C</title>\n",
       "<polygon fill=\"#dc143c\" stroke=\"#dc143c\" points=\"126,-48 97,-48 97,-33 126,-33 126,-48\"/>\n",
       "<text text-anchor=\"middle\" x=\"111.5\" y=\"-38.6\" font-family=\"Helvetica,sans-Serif\" font-size=\"8.00\" fill=\"#ffffff\">C</text>\n",
       "</g>\n",
       "<!-- A&#45;&gt;C -->\n",
       "<g id=\"edge1\" class=\"edge\">\n",
       "<title>A-&gt;C</title>\n",
       "<path fill=\"none\" stroke=\"#494744\" d=\"M29.0428,-68.9538C42.753,-64.6221 63.8474,-57.8395 82,-51.5 83.6674,-50.9177 85.3839,-50.3071 87.1105,-49.6847\"/>\n",
       "<polygon fill=\"#494744\" stroke=\"#494744\" points=\"88.6628,-52.843 96.8387,-46.1047 86.2452,-46.2737 88.6628,-52.843\"/>\n",
       "<text text-anchor=\"middle\" x=\"63\" y=\"-66.1\" font-family=\"Helvetica,sans-Serif\" font-size=\"8.00\" fill=\"#000000\">  greeting  </text>\n",
       "</g>\n",
       "<!-- B -->\n",
       "<g id=\"node3\" class=\"node\">\n",
       "<title>B</title>\n",
       "<polygon fill=\"#494744\" stroke=\"#494744\" points=\"29,-48 0,-48 0,-33 29,-33 29,-48\"/>\n",
       "<text text-anchor=\"middle\" x=\"14.5\" y=\"-38.6\" font-family=\"Helvetica,sans-Serif\" font-size=\"8.00\" fill=\"#ffffff\">B</text>\n",
       "</g>\n",
       "<!-- B&#45;&gt;C -->\n",
       "<g id=\"edge2\" class=\"edge\">\n",
       "<title>B-&gt;C</title>\n",
       "<path fill=\"none\" stroke=\"#494744\" d=\"M29.2322,-40.5C44.4897,-40.5 68.5984,-40.5 86.781,-40.5\"/>\n",
       "<polygon fill=\"#494744\" stroke=\"#494744\" points=\"86.947,-44.0001 96.947,-40.5 86.9469,-37.0001 86.947,-44.0001\"/>\n",
       "<text text-anchor=\"middle\" x=\"63\" y=\"-43.1\" font-family=\"Helvetica,sans-Serif\" font-size=\"8.00\" fill=\"#000000\">  subject  </text>\n",
       "</g>\n",
       "<!-- D -->\n",
       "<g id=\"node4\" class=\"node\">\n",
       "<title>D</title>\n",
       "<polygon fill=\"#dc143c\" stroke=\"#dc143c\" points=\"29,-15 0,-15 0,0 29,0 29,-15\"/>\n",
       "<text text-anchor=\"middle\" x=\"14.5\" y=\"-5.6\" font-family=\"Helvetica,sans-Serif\" font-size=\"8.00\" fill=\"#ffffff\">D</text>\n",
       "</g>\n",
       "<!-- D&#45;&gt;C -->\n",
       "<g id=\"edge3\" class=\"edge\">\n",
       "<title>D-&gt;C</title>\n",
       "<path fill=\"none\" stroke=\"#494744\" d=\"M29.1582,-11.2654C42.9498,-14.9436 64.0994,-20.934 82,-27.5 83.8522,-28.1794 85.7536,-28.9182 87.6556,-29.6871\"/>\n",
       "<polygon fill=\"#494744\" stroke=\"#494744\" points=\"86.3734,-32.9452 96.945,-33.6476 89.1188,-26.506 86.3734,-32.9452\"/>\n",
       "<text text-anchor=\"middle\" x=\"63\" y=\"-30.1\" font-family=\"Helvetica,sans-Serif\" font-size=\"8.00\" fill=\"#000000\">    </text>\n",
       "</g>\n",
       "</g>\n",
       "</svg>"
      ],
      "text/plain": [
       "<IPython.core.display.SVG object>"
      ]
     },
     "metadata": {},
     "output_type": "display_data"
    }
   ],
   "source": [
    "try:\n",
    "    print(\"Result:\", graph.output(\"C\"))\n",
    "except Exception as e:\n",
    "    print(f\"Exception: {e!r}\")\n",
    "graphcat.notebook.display(graph)"
   ]
  },
  {
   "cell_type": "raw",
   "metadata": {
    "raw_mimetype": "text/restructuredtext"
   },
   "source": [
    "As always, Graphcat ensures that task states are always consistent - when a task functions fails (\"D\" in this case), execution stops, the task and its dependents are marked as being in the \"error\" state, and the :meth:`update<graphcat.graph.Graph.update>` or :meth:`output<graphcat.graph.Graph.output>` methods that initiated the update re-raise the exception.  This will keep happening as long as the error condition persists:"
   ]
  },
  {
   "cell_type": "code",
   "execution_count": 24,
   "metadata": {},
   "outputs": [
    {
     "name": "stderr",
     "output_type": "stream",
     "text": [
      "INFO:graphcat.common:Task D updating.\n",
      "INFO:graphcat.common:Task D executing. Inputs: {}\n",
      "ERROR:graphcat.common:Task D failed. Exception: Whoops!\n",
      "INFO:graphcat.common:Task A updating.\n",
      "INFO:graphcat.common:Task B updating.\n",
      "INFO:graphcat.common:Task C updating.\n"
     ]
    },
    {
     "name": "stdout",
     "output_type": "stream",
     "text": [
      "Exception: RuntimeError('Whoops!')\n"
     ]
    },
    {
     "data": {
      "image/svg+xml": [
       "<svg xmlns=\"http://www.w3.org/2000/svg\" xmlns:xlink=\"http://www.w3.org/1999/xlink\" width=\"134pt\" height=\"89pt\" viewBox=\"0.00 0.00 134.00 89.00\">\n",
       "<g id=\"graph0\" class=\"graph\" transform=\"scale(1 1) rotate(0) translate(4 85)\">\n",
       "<polygon fill=\"#ffffff\" stroke=\"transparent\" points=\"-4,4 -4,-85 130,-85 130,4 -4,4\"/>\n",
       "<!-- A -->\n",
       "<g id=\"node1\" class=\"node\">\n",
       "<title>A</title>\n",
       "<polygon fill=\"#494744\" stroke=\"#494744\" points=\"29,-81 0,-81 0,-66 29,-66 29,-81\"/>\n",
       "<text text-anchor=\"middle\" x=\"14.5\" y=\"-71.6\" font-family=\"Helvetica,sans-Serif\" font-size=\"8.00\" fill=\"#ffffff\">A</text>\n",
       "</g>\n",
       "<!-- C -->\n",
       "<g id=\"node2\" class=\"node\">\n",
       "<title>C</title>\n",
       "<polygon fill=\"#dc143c\" stroke=\"#dc143c\" points=\"126,-48 97,-48 97,-33 126,-33 126,-48\"/>\n",
       "<text text-anchor=\"middle\" x=\"111.5\" y=\"-38.6\" font-family=\"Helvetica,sans-Serif\" font-size=\"8.00\" fill=\"#ffffff\">C</text>\n",
       "</g>\n",
       "<!-- A&#45;&gt;C -->\n",
       "<g id=\"edge1\" class=\"edge\">\n",
       "<title>A-&gt;C</title>\n",
       "<path fill=\"none\" stroke=\"#494744\" d=\"M29.0428,-68.9538C42.753,-64.6221 63.8474,-57.8395 82,-51.5 83.6674,-50.9177 85.3839,-50.3071 87.1105,-49.6847\"/>\n",
       "<polygon fill=\"#494744\" stroke=\"#494744\" points=\"88.6628,-52.843 96.8387,-46.1047 86.2452,-46.2737 88.6628,-52.843\"/>\n",
       "<text text-anchor=\"middle\" x=\"63\" y=\"-66.1\" font-family=\"Helvetica,sans-Serif\" font-size=\"8.00\" fill=\"#000000\">  greeting  </text>\n",
       "</g>\n",
       "<!-- B -->\n",
       "<g id=\"node3\" class=\"node\">\n",
       "<title>B</title>\n",
       "<polygon fill=\"#494744\" stroke=\"#494744\" points=\"29,-48 0,-48 0,-33 29,-33 29,-48\"/>\n",
       "<text text-anchor=\"middle\" x=\"14.5\" y=\"-38.6\" font-family=\"Helvetica,sans-Serif\" font-size=\"8.00\" fill=\"#ffffff\">B</text>\n",
       "</g>\n",
       "<!-- B&#45;&gt;C -->\n",
       "<g id=\"edge2\" class=\"edge\">\n",
       "<title>B-&gt;C</title>\n",
       "<path fill=\"none\" stroke=\"#494744\" d=\"M29.2322,-40.5C44.4897,-40.5 68.5984,-40.5 86.781,-40.5\"/>\n",
       "<polygon fill=\"#494744\" stroke=\"#494744\" points=\"86.947,-44.0001 96.947,-40.5 86.9469,-37.0001 86.947,-44.0001\"/>\n",
       "<text text-anchor=\"middle\" x=\"63\" y=\"-43.1\" font-family=\"Helvetica,sans-Serif\" font-size=\"8.00\" fill=\"#000000\">  subject  </text>\n",
       "</g>\n",
       "<!-- D -->\n",
       "<g id=\"node4\" class=\"node\">\n",
       "<title>D</title>\n",
       "<polygon fill=\"#dc143c\" stroke=\"#dc143c\" points=\"29,-15 0,-15 0,0 29,0 29,-15\"/>\n",
       "<text text-anchor=\"middle\" x=\"14.5\" y=\"-5.6\" font-family=\"Helvetica,sans-Serif\" font-size=\"8.00\" fill=\"#ffffff\">D</text>\n",
       "</g>\n",
       "<!-- D&#45;&gt;C -->\n",
       "<g id=\"edge3\" class=\"edge\">\n",
       "<title>D-&gt;C</title>\n",
       "<path fill=\"none\" stroke=\"#494744\" d=\"M29.1582,-11.2654C42.9498,-14.9436 64.0994,-20.934 82,-27.5 83.8522,-28.1794 85.7536,-28.9182 87.6556,-29.6871\"/>\n",
       "<polygon fill=\"#494744\" stroke=\"#494744\" points=\"86.3734,-32.9452 96.945,-33.6476 89.1188,-26.506 86.3734,-32.9452\"/>\n",
       "<text text-anchor=\"middle\" x=\"63\" y=\"-30.1\" font-family=\"Helvetica,sans-Serif\" font-size=\"8.00\" fill=\"#000000\">    </text>\n",
       "</g>\n",
       "</g>\n",
       "</svg>"
      ],
      "text/plain": [
       "<IPython.core.display.SVG object>"
      ]
     },
     "metadata": {},
     "output_type": "display_data"
    }
   ],
   "source": [
    "try:\n",
    "    print(\"Result:\", graph.output(\"C\"))\n",
    "except Exception as e:\n",
    "    print(f\"Exception: {e!r}\")\n",
    "graphcat.notebook.display(graph)"
   ]
  },
  {
   "cell_type": "markdown",
   "metadata": {},
   "source": [
    "Once, the error is cleared-up, things will return to normal:"
   ]
  },
  {
   "cell_type": "code",
   "execution_count": 25,
   "metadata": {},
   "outputs": [
    {
     "name": "stderr",
     "output_type": "stream",
     "text": [
      "INFO:graphcat.common:Task D updating.\n",
      "INFO:graphcat.common:Task D executing. Inputs: {}\n",
      "INFO:graphcat.common:Task D finished. Output: 42\n",
      "INFO:graphcat.common:Task A updating.\n",
      "INFO:graphcat.common:Task B updating.\n",
      "INFO:graphcat.common:Task C updating.\n",
      "INFO:graphcat.common:Task C executing. Inputs: {None: 42, greeting: Hello, subject: World}\n",
      "INFO:graphcat.common:Task C finished. Output: Hello, World!\n"
     ]
    },
    {
     "name": "stdout",
     "output_type": "stream",
     "text": [
      "Result: Hello, World!\n"
     ]
    },
    {
     "data": {
      "image/svg+xml": [
       "<svg xmlns=\"http://www.w3.org/2000/svg\" xmlns:xlink=\"http://www.w3.org/1999/xlink\" width=\"134pt\" height=\"89pt\" viewBox=\"0.00 0.00 134.00 89.00\">\n",
       "<g id=\"graph0\" class=\"graph\" transform=\"scale(1 1) rotate(0) translate(4 85)\">\n",
       "<polygon fill=\"#ffffff\" stroke=\"transparent\" points=\"-4,4 -4,-85 130,-85 130,4 -4,4\"/>\n",
       "<!-- A -->\n",
       "<g id=\"node1\" class=\"node\">\n",
       "<title>A</title>\n",
       "<polygon fill=\"#494744\" stroke=\"#494744\" points=\"29,-81 0,-81 0,-66 29,-66 29,-81\"/>\n",
       "<text text-anchor=\"middle\" x=\"14.5\" y=\"-71.6\" font-family=\"Helvetica,sans-Serif\" font-size=\"8.00\" fill=\"#ffffff\">A</text>\n",
       "</g>\n",
       "<!-- C -->\n",
       "<g id=\"node2\" class=\"node\">\n",
       "<title>C</title>\n",
       "<polygon fill=\"#494744\" stroke=\"#494744\" points=\"126,-48 97,-48 97,-33 126,-33 126,-48\"/>\n",
       "<text text-anchor=\"middle\" x=\"111.5\" y=\"-38.6\" font-family=\"Helvetica,sans-Serif\" font-size=\"8.00\" fill=\"#ffffff\">C</text>\n",
       "</g>\n",
       "<!-- A&#45;&gt;C -->\n",
       "<g id=\"edge1\" class=\"edge\">\n",
       "<title>A-&gt;C</title>\n",
       "<path fill=\"none\" stroke=\"#494744\" d=\"M29.0428,-68.9538C42.753,-64.6221 63.8474,-57.8395 82,-51.5 83.6674,-50.9177 85.3839,-50.3071 87.1105,-49.6847\"/>\n",
       "<polygon fill=\"#494744\" stroke=\"#494744\" points=\"88.6628,-52.843 96.8387,-46.1047 86.2452,-46.2737 88.6628,-52.843\"/>\n",
       "<text text-anchor=\"middle\" x=\"63\" y=\"-66.1\" font-family=\"Helvetica,sans-Serif\" font-size=\"8.00\" fill=\"#000000\">  greeting  </text>\n",
       "</g>\n",
       "<!-- B -->\n",
       "<g id=\"node3\" class=\"node\">\n",
       "<title>B</title>\n",
       "<polygon fill=\"#494744\" stroke=\"#494744\" points=\"29,-48 0,-48 0,-33 29,-33 29,-48\"/>\n",
       "<text text-anchor=\"middle\" x=\"14.5\" y=\"-38.6\" font-family=\"Helvetica,sans-Serif\" font-size=\"8.00\" fill=\"#ffffff\">B</text>\n",
       "</g>\n",
       "<!-- B&#45;&gt;C -->\n",
       "<g id=\"edge2\" class=\"edge\">\n",
       "<title>B-&gt;C</title>\n",
       "<path fill=\"none\" stroke=\"#494744\" d=\"M29.2322,-40.5C44.4897,-40.5 68.5984,-40.5 86.781,-40.5\"/>\n",
       "<polygon fill=\"#494744\" stroke=\"#494744\" points=\"86.947,-44.0001 96.947,-40.5 86.9469,-37.0001 86.947,-44.0001\"/>\n",
       "<text text-anchor=\"middle\" x=\"63\" y=\"-43.1\" font-family=\"Helvetica,sans-Serif\" font-size=\"8.00\" fill=\"#000000\">  subject  </text>\n",
       "</g>\n",
       "<!-- D -->\n",
       "<g id=\"node4\" class=\"node\">\n",
       "<title>D</title>\n",
       "<polygon fill=\"#494744\" stroke=\"#494744\" points=\"29,-15 0,-15 0,0 29,0 29,-15\"/>\n",
       "<text text-anchor=\"middle\" x=\"14.5\" y=\"-5.6\" font-family=\"Helvetica,sans-Serif\" font-size=\"8.00\" fill=\"#ffffff\">D</text>\n",
       "</g>\n",
       "<!-- D&#45;&gt;C -->\n",
       "<g id=\"edge3\" class=\"edge\">\n",
       "<title>D-&gt;C</title>\n",
       "<path fill=\"none\" stroke=\"#494744\" d=\"M29.1582,-11.2654C42.9498,-14.9436 64.0994,-20.934 82,-27.5 83.8522,-28.1794 85.7536,-28.9182 87.6556,-29.6871\"/>\n",
       "<polygon fill=\"#494744\" stroke=\"#494744\" points=\"86.3734,-32.9452 96.945,-33.6476 89.1188,-26.506 86.3734,-32.9452\"/>\n",
       "<text text-anchor=\"middle\" x=\"63\" y=\"-30.1\" font-family=\"Helvetica,sans-Serif\" font-size=\"8.00\" fill=\"#000000\">    </text>\n",
       "</g>\n",
       "</g>\n",
       "</svg>"
      ],
      "text/plain": [
       "<IPython.core.display.SVG object>"
      ]
     },
     "metadata": {},
     "output_type": "display_data"
    }
   ],
   "source": [
    "graph.set_task(\"D\", graphcat.constant(42))\n",
    "print(\"Result:\", graph.output(\"C\"))\n",
    "graphcat.notebook.display(graph)"
   ]
  }
 ],
 "metadata": {
  "celltoolbar": "Tags",
  "kernelspec": {
   "display_name": "Python 3",
   "language": "python",
   "name": "python3"
  },
  "language_info": {
   "codemirror_mode": {
    "name": "ipython",
    "version": 3
   },
   "file_extension": ".py",
   "mimetype": "text/x-python",
   "name": "python",
   "nbconvert_exporter": "python",
   "pygments_lexer": "ipython3",
   "version": "3.8.2"
  }
 },
 "nbformat": 4,
 "nbformat_minor": 4
}
