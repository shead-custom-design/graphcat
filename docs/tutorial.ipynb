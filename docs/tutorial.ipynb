{
 "cells": [
  {
   "cell_type": "raw",
   "metadata": {
    "raw_mimetype": "text/restructuredtext"
   },
   "source": [
    ".. image:: ../artwork/graphcat.png\n",
    "    :width: 300px\n",
    "    :align: right\n",
    "\n",
    "Tutorial\n",
    "========\n",
    "\n",
    "Imagine that you have a workflow made up of three tasks \"A\", \"B\", and \"C\", and the tasks need to always happen in the right order: task \"C\" depends on the output of task \"A\", and also depends on the output of task \"B\".  Further, imagine that the individual tasks are time-consuming, so that you don't want to execute a task unless it's really necessary: if something has changed that only affects task \"C\", and tasks \"A\" and \"B\" have already been completed, then you only need to execute task \"C\".  Over time, keeping track of which tasks need to be executed can become extremely complex as your workflow grows, branches, and merges.\n",
    "\n",
    "Graphcat is a tool that allows you to explicitly capture this kind of workflow in a *computational graph*, managing the details of executing each task in the proper order and at the proper time, no matter the state of the graph or the complexity of the workflow.  Graphcat doesn't care what kind of data your graph manages, doesn't dictate how you name the entities in the graph, provides advanced functionality like loops and expression-based tasks, and is easy to learn.\n",
    "\n",
    "Intrigued?  Let's look at some code!"
   ]
  },
  {
   "cell_type": "markdown",
   "metadata": {},
   "source": [
    "## The Basics"
   ]
  },
  {
   "cell_type": "raw",
   "metadata": {
    "raw_mimetype": "text/restructuredtext"
   },
   "source": [
    "First, we import :mod:`graphcat`, which includes all of the functionality for managing computational graphs.  If you're using Graphcat in your scripts, this will likely be all you need.  For this tutorial we also import :mod:`graphcat.notebook`, so we can see the state of our graphs as we work."
   ]
  },
  {
   "cell_type": "code",
   "execution_count": 1,
   "metadata": {},
   "outputs": [
    {
     "name": "stderr",
     "output_type": "stream",
     "text": [
      "/Users/tshead/src/graphcat/graphcat/__init__.py:708: DeprecationWarning: graphcat.VariableTask is deprecated, use Graph.set_task() or Graph.set_parameter() instead.\n",
      "  class VariableTask(object):\n"
     ]
    }
   ],
   "source": [
    "import graphcat\n",
    "import graphcat.notebook"
   ]
  },
  {
   "cell_type": "markdown",
   "metadata": {},
   "source": [
    "Next, let's reproduce the example workflow from above, starting with an (initially empty) computational graph:"
   ]
  },
  {
   "cell_type": "code",
   "execution_count": 2,
   "metadata": {},
   "outputs": [],
   "source": [
    "graph = graphcat.Graph()"
   ]
  },
  {
   "cell_type": "markdown",
   "metadata": {},
   "source": [
    "Next, we will add tasks to the graph, identified using unique string names:"
   ]
  },
  {
   "cell_type": "code",
   "execution_count": 3,
   "metadata": {},
   "outputs": [],
   "source": [
    "graph.add_task(\"A\")\n",
    "graph.add_task(\"B\")\n",
    "graph.add_task(\"C\")"
   ]
  },
  {
   "cell_type": "markdown",
   "metadata": {},
   "source": [
    "Note that a task name can be any hashable object, not just a string - we used strings in this case because they map well to the description of our problem above.\n",
    "\n",
    "Now, we can define the links that determine which tasks depend on previous tasks:"
   ]
  },
  {
   "cell_type": "code",
   "execution_count": 4,
   "metadata": {},
   "outputs": [],
   "source": [
    "graph.add_links(source=\"A\", targets=\"C\")\n",
    "graph.add_links(source=\"B\", targets=\"C\")"
   ]
  },
  {
   "cell_type": "markdown",
   "metadata": {},
   "source": [
    "There are two ways to think about links.  One way is to picture data \"flowing\" through the links from the source tasks to the target tasks, which is why we sometimes call the sources \"upstream\" and the targets \"downstream\".  Alternatively, you can say that the target of a link \"depends on\" the source - anytime the source changes, the target needs to change, along with all of *its* targets, and-so-on.  Both viewpoints are completely valid, and you will find that both are useful, depending on the context.\n",
    "\n",
    "Finally, because a picture is worth $1\\times10^3$ words, let's see what the graph looks like so far:"
   ]
  },
  {
   "cell_type": "code",
   "execution_count": 5,
   "metadata": {},
   "outputs": [
    {
     "data": {
      "image/svg+xml": [
       "<svg height=\"81pt\" viewBox=\"0.00 0.00 84.00 81.00\" width=\"84pt\" xmlns=\"http://www.w3.org/2000/svg\" xmlns:xlink=\"http://www.w3.org/1999/xlink\">\n",
       "<g class=\"graph\" id=\"graph0\" transform=\"scale(1 1) rotate(0) translate(4 77)\">\n",
       "<title>%3</title>\n",
       "<polygon fill=\"white\" points=\"-4,4 -4,-77 80,-77 80,4 -4,4\" stroke=\"none\"/>\n",
       "<!-- A -->\n",
       "<g class=\"node\" id=\"node1\"><title>A</title>\n",
       "<polygon fill=\"white\" points=\"29,-73 0,-73 0,-51 29,-51 29,-73\" stroke=\"#494744\"/>\n",
       "<text fill=\"#494744\" font-family=\"Helvetica,sans-Serif\" font-size=\"14.00\" text-anchor=\"middle\" x=\"14.5\" y=\"-57.8\">A</text>\n",
       "</g>\n",
       "<!-- C -->\n",
       "<g class=\"node\" id=\"node2\"><title>C</title>\n",
       "<polygon fill=\"white\" points=\"52,-22 23,-22 23,-0 52,-0 52,-22\" stroke=\"#494744\"/>\n",
       "<text fill=\"#494744\" font-family=\"Helvetica,sans-Serif\" font-size=\"14.00\" text-anchor=\"middle\" x=\"37.5\" y=\"-6.8\">C</text>\n",
       "</g>\n",
       "<!-- A&#45;&gt;C -->\n",
       "<g class=\"edge\" id=\"edge1\"><title>A-&gt;C</title>\n",
       "<path d=\"M19.3777,-50.6084C22.0356,-44.9459 25.4094,-37.7582 28.5235,-31.1238\" fill=\"none\" stroke=\"#494744\"/>\n",
       "<polygon fill=\"#494744\" points=\"31.7058,-32.5811 32.7866,-22.0415 25.3692,-29.6067 31.7058,-32.5811\" stroke=\"#494744\"/>\n",
       "</g>\n",
       "<!-- B -->\n",
       "<g class=\"node\" id=\"node3\"><title>B</title>\n",
       "<polygon fill=\"white\" points=\"76,-73 47,-73 47,-51 76,-51 76,-73\" stroke=\"#494744\"/>\n",
       "<text fill=\"#494744\" font-family=\"Helvetica,sans-Serif\" font-size=\"14.00\" text-anchor=\"middle\" x=\"61.5\" y=\"-57.8\">B</text>\n",
       "</g>\n",
       "<!-- B&#45;&gt;C -->\n",
       "<g class=\"edge\" id=\"edge2\"><title>B-&gt;C</title>\n",
       "<path d=\"M56.4102,-50.6084C53.6368,-44.9459 50.1163,-37.7582 46.8668,-31.1238\" fill=\"none\" stroke=\"#494744\"/>\n",
       "<polygon fill=\"#494744\" points=\"49.9603,-29.4826 42.4183,-22.0415 43.6738,-32.5617 49.9603,-29.4826\" stroke=\"#494744\"/>\n",
       "</g>\n",
       "</g>\n",
       "</svg>"
      ],
      "text/plain": [
       "<IPython.core.display.SVG object>"
      ]
     },
     "metadata": {},
     "output_type": "display_data"
    }
   ],
   "source": [
    "graphcat.notebook.display(graph)"
   ]
  },
  {
   "cell_type": "raw",
   "metadata": {
    "raw_mimetype": "text/restructuredtext"
   },
   "source": [
    "Notice that each task is drawn as a box with the name we provided, and the links are drawn as arrows that point from sources to targets, i.e. the arrows point in the direction of data flow. \n",
    "\n",
    "Of course, all we've done so far is define how our tasks relate to one another - we haven't actually executed any of them.  Before we do so, let's introduce some logging so we can see what Graphcat's doing under the hood.  We'll import the standard Python :mod:`logging` module and configure it to log informational messages.  Then, we create a special :class:`graphcat.Logger` object that will watch the computational graph and log events as they happen:"
   ]
  },
  {
   "cell_type": "code",
   "execution_count": 6,
   "metadata": {},
   "outputs": [],
   "source": [
    "import logging\n",
    "logging.basicConfig(level=logging.INFO)\n",
    "logger = graphcat.Logger(graph)"
   ]
  },
  {
   "cell_type": "markdown",
   "metadata": {},
   "source": [
    "By default, newly-created tasks are marked as *unfinished*, because they haven't been executed yet.  Let's begin by finishing task \"A\" - Graphcat refers to this as *updating* the task:"
   ]
  },
  {
   "cell_type": "code",
   "execution_count": 7,
   "metadata": {},
   "outputs": [
    {
     "name": "stderr",
     "output_type": "stream",
     "text": [
      "INFO:graphcat:Task A executing. Inputs: {}\n",
      "INFO:graphcat:Task A finished. Output: None\n"
     ]
    },
    {
     "data": {
      "image/svg+xml": [
       "<svg height=\"81pt\" viewBox=\"0.00 0.00 84.00 81.00\" width=\"84pt\" xmlns=\"http://www.w3.org/2000/svg\" xmlns:xlink=\"http://www.w3.org/1999/xlink\">\n",
       "<g class=\"graph\" id=\"graph0\" transform=\"scale(1 1) rotate(0) translate(4 77)\">\n",
       "<title>%3</title>\n",
       "<polygon fill=\"white\" points=\"-4,4 -4,-77 80,-77 80,4 -4,4\" stroke=\"none\"/>\n",
       "<!-- A -->\n",
       "<g class=\"node\" id=\"node1\"><title>A</title>\n",
       "<polygon fill=\"#494744\" points=\"29,-73 0,-73 0,-51 29,-51 29,-73\" stroke=\"#494744\"/>\n",
       "<text fill=\"white\" font-family=\"Helvetica,sans-Serif\" font-size=\"14.00\" text-anchor=\"middle\" x=\"14.5\" y=\"-57.8\">A</text>\n",
       "</g>\n",
       "<!-- C -->\n",
       "<g class=\"node\" id=\"node2\"><title>C</title>\n",
       "<polygon fill=\"white\" points=\"52,-22 23,-22 23,-0 52,-0 52,-22\" stroke=\"#494744\"/>\n",
       "<text fill=\"#494744\" font-family=\"Helvetica,sans-Serif\" font-size=\"14.00\" text-anchor=\"middle\" x=\"37.5\" y=\"-6.8\">C</text>\n",
       "</g>\n",
       "<!-- A&#45;&gt;C -->\n",
       "<g class=\"edge\" id=\"edge1\"><title>A-&gt;C</title>\n",
       "<path d=\"M19.3777,-50.6084C22.0356,-44.9459 25.4094,-37.7582 28.5235,-31.1238\" fill=\"none\" stroke=\"#494744\"/>\n",
       "<polygon fill=\"#494744\" points=\"31.7058,-32.5811 32.7866,-22.0415 25.3692,-29.6067 31.7058,-32.5811\" stroke=\"#494744\"/>\n",
       "</g>\n",
       "<!-- B -->\n",
       "<g class=\"node\" id=\"node3\"><title>B</title>\n",
       "<polygon fill=\"white\" points=\"76,-73 47,-73 47,-51 76,-51 76,-73\" stroke=\"#494744\"/>\n",
       "<text fill=\"#494744\" font-family=\"Helvetica,sans-Serif\" font-size=\"14.00\" text-anchor=\"middle\" x=\"61.5\" y=\"-57.8\">B</text>\n",
       "</g>\n",
       "<!-- B&#45;&gt;C -->\n",
       "<g class=\"edge\" id=\"edge2\"><title>B-&gt;C</title>\n",
       "<path d=\"M56.4102,-50.6084C53.6368,-44.9459 50.1163,-37.7582 46.8668,-31.1238\" fill=\"none\" stroke=\"#494744\"/>\n",
       "<polygon fill=\"#494744\" points=\"49.9603,-29.4826 42.4183,-22.0415 43.6738,-32.5617 49.9603,-29.4826\" stroke=\"#494744\"/>\n",
       "</g>\n",
       "</g>\n",
       "</svg>"
      ],
      "text/plain": [
       "<IPython.core.display.SVG object>"
      ]
     },
     "metadata": {},
     "output_type": "display_data"
    }
   ],
   "source": [
    "graph.update(\"A\")\n",
    "graphcat.notebook.display(graph)"
   ]
  },
  {
   "cell_type": "raw",
   "metadata": {
    "raw_mimetype": "text/restructuredtext"
   },
   "source": [
    "The call to :meth:`graphcat.Graph.update` *executes* the unfinished task, which we see in the first line of logging; once the task has been executed, the second line in the log shows that its state is now *finished* (ignore the \"Inputs: ...\" and \"Output: ...\" text in the log, we will explain their meaning shortly).  Note that task \"A\" is rendered differently (with a black background) to show that the task is now finished.\n",
    "\n",
    "Continuing on, let's update task \"C\" and see what happens:"
   ]
  },
  {
   "cell_type": "code",
   "execution_count": 8,
   "metadata": {},
   "outputs": [
    {
     "name": "stderr",
     "output_type": "stream",
     "text": [
      "INFO:graphcat:Task B executing. Inputs: {}\n",
      "INFO:graphcat:Task B finished. Output: None\n",
      "INFO:graphcat:Task C executing. Inputs: {None: [None, None]}\n",
      "INFO:graphcat:Task C finished. Output: None\n"
     ]
    },
    {
     "data": {
      "image/svg+xml": [
       "<svg height=\"81pt\" viewBox=\"0.00 0.00 84.00 81.00\" width=\"84pt\" xmlns=\"http://www.w3.org/2000/svg\" xmlns:xlink=\"http://www.w3.org/1999/xlink\">\n",
       "<g class=\"graph\" id=\"graph0\" transform=\"scale(1 1) rotate(0) translate(4 77)\">\n",
       "<title>%3</title>\n",
       "<polygon fill=\"white\" points=\"-4,4 -4,-77 80,-77 80,4 -4,4\" stroke=\"none\"/>\n",
       "<!-- A -->\n",
       "<g class=\"node\" id=\"node1\"><title>A</title>\n",
       "<polygon fill=\"#494744\" points=\"29,-73 0,-73 0,-51 29,-51 29,-73\" stroke=\"#494744\"/>\n",
       "<text fill=\"white\" font-family=\"Helvetica,sans-Serif\" font-size=\"14.00\" text-anchor=\"middle\" x=\"14.5\" y=\"-57.8\">A</text>\n",
       "</g>\n",
       "<!-- C -->\n",
       "<g class=\"node\" id=\"node2\"><title>C</title>\n",
       "<polygon fill=\"#494744\" points=\"52,-22 23,-22 23,-0 52,-0 52,-22\" stroke=\"#494744\"/>\n",
       "<text fill=\"white\" font-family=\"Helvetica,sans-Serif\" font-size=\"14.00\" text-anchor=\"middle\" x=\"37.5\" y=\"-6.8\">C</text>\n",
       "</g>\n",
       "<!-- A&#45;&gt;C -->\n",
       "<g class=\"edge\" id=\"edge1\"><title>A-&gt;C</title>\n",
       "<path d=\"M19.3777,-50.6084C22.0356,-44.9459 25.4094,-37.7582 28.5235,-31.1238\" fill=\"none\" stroke=\"#494744\"/>\n",
       "<polygon fill=\"#494744\" points=\"31.7058,-32.5811 32.7866,-22.0415 25.3692,-29.6067 31.7058,-32.5811\" stroke=\"#494744\"/>\n",
       "</g>\n",
       "<!-- B -->\n",
       "<g class=\"node\" id=\"node3\"><title>B</title>\n",
       "<polygon fill=\"#494744\" points=\"76,-73 47,-73 47,-51 76,-51 76,-73\" stroke=\"#494744\"/>\n",
       "<text fill=\"white\" font-family=\"Helvetica,sans-Serif\" font-size=\"14.00\" text-anchor=\"middle\" x=\"61.5\" y=\"-57.8\">B</text>\n",
       "</g>\n",
       "<!-- B&#45;&gt;C -->\n",
       "<g class=\"edge\" id=\"edge2\"><title>B-&gt;C</title>\n",
       "<path d=\"M56.4102,-50.6084C53.6368,-44.9459 50.1163,-37.7582 46.8668,-31.1238\" fill=\"none\" stroke=\"#494744\"/>\n",
       "<polygon fill=\"#494744\" points=\"49.9603,-29.4826 42.4183,-22.0415 43.6738,-32.5617 49.9603,-29.4826\" stroke=\"#494744\"/>\n",
       "</g>\n",
       "</g>\n",
       "</svg>"
      ],
      "text/plain": [
       "<IPython.core.display.SVG object>"
      ]
     },
     "metadata": {},
     "output_type": "display_data"
    }
   ],
   "source": [
    "graph.update(\"C\")\n",
    "graphcat.notebook.display(graph)"
   ]
  },
  {
   "cell_type": "raw",
   "metadata": {
    "raw_mimetype": "text/restructuredtext"
   },
   "source": [
    "Looking closely at the log, we see that Task \"C\" is executed, but only *after* Task \"B\". Task \"A\" doesn't appear in the log at all, because it was already finished before :any:`graphcat.Graph.update` was called.  Note that this conforms to our original goals for our workflow: tasks \"A\" and \"B\" must be completed before task \"C\", and we never re-execute tasks that are already finished.\n",
    "\n",
    "To reinforce this point, let's look at what happens if a task becomes *unfinished* again.  Imagine that some outside change has made the results of task \"A\" obsolete.  We can notify Graphcat that this has happened using :meth:`graphcat.Graph.mark_unfinished`:"
   ]
  },
  {
   "cell_type": "code",
   "execution_count": 9,
   "metadata": {},
   "outputs": [
    {
     "data": {
      "image/svg+xml": [
       "<svg height=\"81pt\" viewBox=\"0.00 0.00 84.00 81.00\" width=\"84pt\" xmlns=\"http://www.w3.org/2000/svg\" xmlns:xlink=\"http://www.w3.org/1999/xlink\">\n",
       "<g class=\"graph\" id=\"graph0\" transform=\"scale(1 1) rotate(0) translate(4 77)\">\n",
       "<title>%3</title>\n",
       "<polygon fill=\"white\" points=\"-4,4 -4,-77 80,-77 80,4 -4,4\" stroke=\"none\"/>\n",
       "<!-- A -->\n",
       "<g class=\"node\" id=\"node1\"><title>A</title>\n",
       "<polygon fill=\"white\" points=\"29,-73 0,-73 0,-51 29,-51 29,-73\" stroke=\"#494744\"/>\n",
       "<text fill=\"#494744\" font-family=\"Helvetica,sans-Serif\" font-size=\"14.00\" text-anchor=\"middle\" x=\"14.5\" y=\"-57.8\">A</text>\n",
       "</g>\n",
       "<!-- C -->\n",
       "<g class=\"node\" id=\"node2\"><title>C</title>\n",
       "<polygon fill=\"white\" points=\"52,-22 23,-22 23,-0 52,-0 52,-22\" stroke=\"#494744\"/>\n",
       "<text fill=\"#494744\" font-family=\"Helvetica,sans-Serif\" font-size=\"14.00\" text-anchor=\"middle\" x=\"37.5\" y=\"-6.8\">C</text>\n",
       "</g>\n",
       "<!-- A&#45;&gt;C -->\n",
       "<g class=\"edge\" id=\"edge1\"><title>A-&gt;C</title>\n",
       "<path d=\"M19.3777,-50.6084C22.0356,-44.9459 25.4094,-37.7582 28.5235,-31.1238\" fill=\"none\" stroke=\"#494744\"/>\n",
       "<polygon fill=\"#494744\" points=\"31.7058,-32.5811 32.7866,-22.0415 25.3692,-29.6067 31.7058,-32.5811\" stroke=\"#494744\"/>\n",
       "</g>\n",
       "<!-- B -->\n",
       "<g class=\"node\" id=\"node3\"><title>B</title>\n",
       "<polygon fill=\"#494744\" points=\"76,-73 47,-73 47,-51 76,-51 76,-73\" stroke=\"#494744\"/>\n",
       "<text fill=\"white\" font-family=\"Helvetica,sans-Serif\" font-size=\"14.00\" text-anchor=\"middle\" x=\"61.5\" y=\"-57.8\">B</text>\n",
       "</g>\n",
       "<!-- B&#45;&gt;C -->\n",
       "<g class=\"edge\" id=\"edge2\"><title>B-&gt;C</title>\n",
       "<path d=\"M56.4102,-50.6084C53.6368,-44.9459 50.1163,-37.7582 46.8668,-31.1238\" fill=\"none\" stroke=\"#494744\"/>\n",
       "<polygon fill=\"#494744\" points=\"49.9603,-29.4826 42.4183,-22.0415 43.6738,-32.5617 49.9603,-29.4826\" stroke=\"#494744\"/>\n",
       "</g>\n",
       "</g>\n",
       "</svg>"
      ],
      "text/plain": [
       "<IPython.core.display.SVG object>"
      ]
     },
     "metadata": {},
     "output_type": "display_data"
    }
   ],
   "source": [
    "graph.mark_unfinished(\"A\")\n",
    "graphcat.notebook.display(graph)"
   ]
  },
  {
   "cell_type": "markdown",
   "metadata": {},
   "source": [
    "Notice that both \"A\" and \"C\" have become unfinished: because \"A\" is unfinished and \"C\" depends on \"A\", \"C\" becomes unfinished too.  \"B\" is unaffected because it doesn't depend on \"A\".  Let's update \"C\" again:"
   ]
  },
  {
   "cell_type": "code",
   "execution_count": 10,
   "metadata": {},
   "outputs": [
    {
     "name": "stderr",
     "output_type": "stream",
     "text": [
      "INFO:graphcat:Task A executing. Inputs: {}\n",
      "INFO:graphcat:Task A finished. Output: None\n",
      "INFO:graphcat:Task C executing. Inputs: {None: [None, None]}\n",
      "INFO:graphcat:Task C finished. Output: None\n"
     ]
    },
    {
     "data": {
      "image/svg+xml": [
       "<svg height=\"81pt\" viewBox=\"0.00 0.00 84.00 81.00\" width=\"84pt\" xmlns=\"http://www.w3.org/2000/svg\" xmlns:xlink=\"http://www.w3.org/1999/xlink\">\n",
       "<g class=\"graph\" id=\"graph0\" transform=\"scale(1 1) rotate(0) translate(4 77)\">\n",
       "<title>%3</title>\n",
       "<polygon fill=\"white\" points=\"-4,4 -4,-77 80,-77 80,4 -4,4\" stroke=\"none\"/>\n",
       "<!-- A -->\n",
       "<g class=\"node\" id=\"node1\"><title>A</title>\n",
       "<polygon fill=\"#494744\" points=\"29,-73 0,-73 0,-51 29,-51 29,-73\" stroke=\"#494744\"/>\n",
       "<text fill=\"white\" font-family=\"Helvetica,sans-Serif\" font-size=\"14.00\" text-anchor=\"middle\" x=\"14.5\" y=\"-57.8\">A</text>\n",
       "</g>\n",
       "<!-- C -->\n",
       "<g class=\"node\" id=\"node2\"><title>C</title>\n",
       "<polygon fill=\"#494744\" points=\"52,-22 23,-22 23,-0 52,-0 52,-22\" stroke=\"#494744\"/>\n",
       "<text fill=\"white\" font-family=\"Helvetica,sans-Serif\" font-size=\"14.00\" text-anchor=\"middle\" x=\"37.5\" y=\"-6.8\">C</text>\n",
       "</g>\n",
       "<!-- A&#45;&gt;C -->\n",
       "<g class=\"edge\" id=\"edge1\"><title>A-&gt;C</title>\n",
       "<path d=\"M19.3777,-50.6084C22.0356,-44.9459 25.4094,-37.7582 28.5235,-31.1238\" fill=\"none\" stroke=\"#494744\"/>\n",
       "<polygon fill=\"#494744\" points=\"31.7058,-32.5811 32.7866,-22.0415 25.3692,-29.6067 31.7058,-32.5811\" stroke=\"#494744\"/>\n",
       "</g>\n",
       "<!-- B -->\n",
       "<g class=\"node\" id=\"node3\"><title>B</title>\n",
       "<polygon fill=\"#494744\" points=\"76,-73 47,-73 47,-51 76,-51 76,-73\" stroke=\"#494744\"/>\n",
       "<text fill=\"white\" font-family=\"Helvetica,sans-Serif\" font-size=\"14.00\" text-anchor=\"middle\" x=\"61.5\" y=\"-57.8\">B</text>\n",
       "</g>\n",
       "<!-- B&#45;&gt;C -->\n",
       "<g class=\"edge\" id=\"edge2\"><title>B-&gt;C</title>\n",
       "<path d=\"M56.4102,-50.6084C53.6368,-44.9459 50.1163,-37.7582 46.8668,-31.1238\" fill=\"none\" stroke=\"#494744\"/>\n",
       "<polygon fill=\"#494744\" points=\"49.9603,-29.4826 42.4183,-22.0415 43.6738,-32.5617 49.9603,-29.4826\" stroke=\"#494744\"/>\n",
       "</g>\n",
       "</g>\n",
       "</svg>"
      ],
      "text/plain": [
       "<IPython.core.display.SVG object>"
      ]
     },
     "metadata": {},
     "output_type": "display_data"
    }
   ],
   "source": [
    "graph.update(\"C\")\n",
    "graphcat.notebook.display(graph)"
   ]
  },
  {
   "cell_type": "markdown",
   "metadata": {},
   "source": [
    "This time \"C\" is executed, but only after \"A\".  As expected, \"B\" isn't executed because it was already finished.\n",
    "\n",
    "By now, you should be convinced that Graphcat always knows which tasks to execute, and in what order.  This is true no matter how complex your computational graph.  In the next section, we will explore how to configure the graph to perform real work."
   ]
  },
  {
   "cell_type": "markdown",
   "metadata": {},
   "source": [
    "## Task Functions\n",
    "\n",
    "In the previous section, we learned how to represent our workflow using tasks and links, but the tasks themselves didn't actually do anything when executed.  To rectify this, we will assign *task functions* that define what a task does when executed.  A task function is simply a Python function that is called when a task is executed, returning a value that is stored as the *output* for the task.  When downstream tasks are executed, their task functions have access to the outputs from their upstream dependencies.  Thus, upstream task function outputs become downstream task function *inputs*.\n",
    "\n",
    "Let's continue with our example, by turning it into a simple calculator.  Tasks \"A\" and \"B\" will have task functions that return numbers, and task \"C\" will return the sum of its inputs.  First, we define the task functions for each task:"
   ]
  },
  {
   "cell_type": "code",
   "execution_count": 11,
   "metadata": {},
   "outputs": [],
   "source": [
    "def task_a(name, inputs):\n",
    "    return 2\n",
    "\n",
    "def task_b(name, inputs):\n",
    "    return 3\n",
    "\n",
    "import itertools\n",
    "\n",
    "def add(name, inputs):\n",
    "    return sum(itertools.chain.from_iterable(inputs.values()))"
   ]
  },
  {
   "cell_type": "markdown",
   "metadata": {},
   "source": [
    "Note that task functions must always accept two keyword arguments: `name` and `inputs`.  The `name` argument is the name of the task that is executing the task function, and is useful for logging and/or changing the function's behavior based on the task's identity.  The `inputs` argument is a Python dict containing the outputs from upstream tasks.\n",
    "\n",
    "Now, we can assign task functions to each task in the graph:"
   ]
  },
  {
   "cell_type": "code",
   "execution_count": 12,
   "metadata": {},
   "outputs": [
    {
     "data": {
      "image/svg+xml": [
       "<svg height=\"81pt\" viewBox=\"0.00 0.00 84.00 81.00\" width=\"84pt\" xmlns=\"http://www.w3.org/2000/svg\" xmlns:xlink=\"http://www.w3.org/1999/xlink\">\n",
       "<g class=\"graph\" id=\"graph0\" transform=\"scale(1 1) rotate(0) translate(4 77)\">\n",
       "<title>%3</title>\n",
       "<polygon fill=\"white\" points=\"-4,4 -4,-77 80,-77 80,4 -4,4\" stroke=\"none\"/>\n",
       "<!-- A -->\n",
       "<g class=\"node\" id=\"node1\"><title>A</title>\n",
       "<polygon fill=\"white\" points=\"29,-73 0,-73 0,-51 29,-51 29,-73\" stroke=\"#494744\"/>\n",
       "<text fill=\"#494744\" font-family=\"Helvetica,sans-Serif\" font-size=\"14.00\" text-anchor=\"middle\" x=\"14.5\" y=\"-57.8\">A</text>\n",
       "</g>\n",
       "<!-- C -->\n",
       "<g class=\"node\" id=\"node2\"><title>C</title>\n",
       "<polygon fill=\"white\" points=\"52,-22 23,-22 23,-0 52,-0 52,-22\" stroke=\"#494744\"/>\n",
       "<text fill=\"#494744\" font-family=\"Helvetica,sans-Serif\" font-size=\"14.00\" text-anchor=\"middle\" x=\"37.5\" y=\"-6.8\">C</text>\n",
       "</g>\n",
       "<!-- A&#45;&gt;C -->\n",
       "<g class=\"edge\" id=\"edge1\"><title>A-&gt;C</title>\n",
       "<path d=\"M19.3777,-50.6084C22.0356,-44.9459 25.4094,-37.7582 28.5235,-31.1238\" fill=\"none\" stroke=\"#494744\"/>\n",
       "<polygon fill=\"#494744\" points=\"31.7058,-32.5811 32.7866,-22.0415 25.3692,-29.6067 31.7058,-32.5811\" stroke=\"#494744\"/>\n",
       "</g>\n",
       "<!-- B -->\n",
       "<g class=\"node\" id=\"node3\"><title>B</title>\n",
       "<polygon fill=\"white\" points=\"76,-73 47,-73 47,-51 76,-51 76,-73\" stroke=\"#494744\"/>\n",
       "<text fill=\"#494744\" font-family=\"Helvetica,sans-Serif\" font-size=\"14.00\" text-anchor=\"middle\" x=\"61.5\" y=\"-57.8\">B</text>\n",
       "</g>\n",
       "<!-- B&#45;&gt;C -->\n",
       "<g class=\"edge\" id=\"edge2\"><title>B-&gt;C</title>\n",
       "<path d=\"M56.4102,-50.6084C53.6368,-44.9459 50.1163,-37.7582 46.8668,-31.1238\" fill=\"none\" stroke=\"#494744\"/>\n",
       "<polygon fill=\"#494744\" points=\"49.9603,-29.4826 42.4183,-22.0415 43.6738,-32.5617 49.9603,-29.4826\" stroke=\"#494744\"/>\n",
       "</g>\n",
       "</g>\n",
       "</svg>"
      ],
      "text/plain": [
       "<IPython.core.display.SVG object>"
      ]
     },
     "metadata": {},
     "output_type": "display_data"
    }
   ],
   "source": [
    "graph.set_task(\"A\", task_a)\n",
    "graph.set_task(\"B\", task_b)\n",
    "graph.set_task(\"C\", add)\n",
    "graphcat.notebook.display(graph)"
   ]
  },
  {
   "cell_type": "raw",
   "metadata": {
    "raw_mimetype": "text/restructuredtext"
   },
   "source": [
    "Notice that changing the functions with :meth:`graphcat.Graph.set_task` also marks the tasks as unfinished.  This is an example of how Graphcat always ensures that changes to the graph will propagate to its results. Let's update the graph and see what happens:"
   ]
  },
  {
   "cell_type": "code",
   "execution_count": 13,
   "metadata": {},
   "outputs": [
    {
     "name": "stderr",
     "output_type": "stream",
     "text": [
      "INFO:graphcat:Task A executing. Inputs: {}\n",
      "INFO:graphcat:Task A finished. Output: 2\n",
      "INFO:graphcat:Task B executing. Inputs: {}\n",
      "INFO:graphcat:Task B finished. Output: 3\n",
      "INFO:graphcat:Task C executing. Inputs: {None: [2, 3]}\n",
      "INFO:graphcat:Task C finished. Output: 5\n"
     ]
    },
    {
     "data": {
      "image/svg+xml": [
       "<svg height=\"81pt\" viewBox=\"0.00 0.00 84.00 81.00\" width=\"84pt\" xmlns=\"http://www.w3.org/2000/svg\" xmlns:xlink=\"http://www.w3.org/1999/xlink\">\n",
       "<g class=\"graph\" id=\"graph0\" transform=\"scale(1 1) rotate(0) translate(4 77)\">\n",
       "<title>%3</title>\n",
       "<polygon fill=\"white\" points=\"-4,4 -4,-77 80,-77 80,4 -4,4\" stroke=\"none\"/>\n",
       "<!-- A -->\n",
       "<g class=\"node\" id=\"node1\"><title>A</title>\n",
       "<polygon fill=\"#494744\" points=\"29,-73 0,-73 0,-51 29,-51 29,-73\" stroke=\"#494744\"/>\n",
       "<text fill=\"white\" font-family=\"Helvetica,sans-Serif\" font-size=\"14.00\" text-anchor=\"middle\" x=\"14.5\" y=\"-57.8\">A</text>\n",
       "</g>\n",
       "<!-- C -->\n",
       "<g class=\"node\" id=\"node2\"><title>C</title>\n",
       "<polygon fill=\"#494744\" points=\"52,-22 23,-22 23,-0 52,-0 52,-22\" stroke=\"#494744\"/>\n",
       "<text fill=\"white\" font-family=\"Helvetica,sans-Serif\" font-size=\"14.00\" text-anchor=\"middle\" x=\"37.5\" y=\"-6.8\">C</text>\n",
       "</g>\n",
       "<!-- A&#45;&gt;C -->\n",
       "<g class=\"edge\" id=\"edge1\"><title>A-&gt;C</title>\n",
       "<path d=\"M19.3777,-50.6084C22.0356,-44.9459 25.4094,-37.7582 28.5235,-31.1238\" fill=\"none\" stroke=\"#494744\"/>\n",
       "<polygon fill=\"#494744\" points=\"31.7058,-32.5811 32.7866,-22.0415 25.3692,-29.6067 31.7058,-32.5811\" stroke=\"#494744\"/>\n",
       "</g>\n",
       "<!-- B -->\n",
       "<g class=\"node\" id=\"node3\"><title>B</title>\n",
       "<polygon fill=\"#494744\" points=\"76,-73 47,-73 47,-51 76,-51 76,-73\" stroke=\"#494744\"/>\n",
       "<text fill=\"white\" font-family=\"Helvetica,sans-Serif\" font-size=\"14.00\" text-anchor=\"middle\" x=\"61.5\" y=\"-57.8\">B</text>\n",
       "</g>\n",
       "<!-- B&#45;&gt;C -->\n",
       "<g class=\"edge\" id=\"edge2\"><title>B-&gt;C</title>\n",
       "<path d=\"M56.4102,-50.6084C53.6368,-44.9459 50.1163,-37.7582 46.8668,-31.1238\" fill=\"none\" stroke=\"#494744\"/>\n",
       "<polygon fill=\"#494744\" points=\"49.9603,-29.4826 42.4183,-22.0415 43.6738,-32.5617 49.9603,-29.4826\" stroke=\"#494744\"/>\n",
       "</g>\n",
       "</g>\n",
       "</svg>"
      ],
      "text/plain": [
       "<IPython.core.display.SVG object>"
      ]
     },
     "metadata": {},
     "output_type": "display_data"
    }
   ],
   "source": [
    "graph.update(\"C\")\n",
    "graphcat.notebook.display(graph)"
   ]
  },
  {
   "cell_type": "raw",
   "metadata": {
    "raw_mimetype": "text/restructuredtext"
   },
   "source": [
    "Now, the full meaning of the log messages should be clearer - tasks \"A\" and \"B\" have no inputs when they execute, returning 2 and 3 respectively as their outputs.  Those outputs become inputs to \"C\" when it executes, where they are summed, so that the output of \"C\" is 5, as expected.\n",
    "\n",
    "Of course, you normally want to retrieve outputs from your graph so you can do something with them.  So far, we've only seen the outputs in log messages when we call :meth:`graphcat.Graph.update`.  To retrieve the most recent output for a task, use :meth:`graphcat.Graph.output` instead:"
   ]
  },
  {
   "cell_type": "code",
   "execution_count": 14,
   "metadata": {},
   "outputs": [
    {
     "name": "stdout",
     "output_type": "stream",
     "text": [
      "Result: 5\n"
     ]
    }
   ],
   "source": [
    "print(\"Result:\", graph.output(\"C\"))"
   ]
  },
  {
   "cell_type": "raw",
   "metadata": {
    "raw_mimetype": "text/restructuredtext"
   },
   "source": [
    "Note that :meth:`graphcat.Graph.output` automatically calls :meth:`graphcat.Graph.update` for you, so you can  just use the former whenever you need to execute your graph and retrieve an output.\n",
    "\n",
    "Now that our graph is peforming a real (albeit trivial) task, let's look at some ways to simplify setting it up:\n",
    "\n",
    "First, it is extremely common for a graph to have \"parameter\" tasks that simply return a value, as tasks \"A\" and \"B\" do in our example.  Having to create a separate function for every parameter, as we did for this example, would be perverse.  Fortunately, Graphcat provides a helper function, :func:`graphcat.constant`, that you can use instead:"
   ]
  },
  {
   "cell_type": "code",
   "execution_count": 15,
   "metadata": {},
   "outputs": [
    {
     "name": "stderr",
     "output_type": "stream",
     "text": [
      "INFO:graphcat:Task A executing. Inputs: {}\n",
      "INFO:graphcat:Task A finished. Output: 4\n",
      "INFO:graphcat:Task B executing. Inputs: {}\n",
      "INFO:graphcat:Task B finished. Output: 5\n",
      "INFO:graphcat:Task C executing. Inputs: {None: [4, 5]}\n",
      "INFO:graphcat:Task C finished. Output: 9\n"
     ]
    },
    {
     "name": "stdout",
     "output_type": "stream",
     "text": [
      "Result: 9\n"
     ]
    }
   ],
   "source": [
    "graph.set_task(\"A\", graphcat.constant(4))\n",
    "graph.set_task(\"B\", graphcat.constant(5))\n",
    "print(\"Result:\", graph.output(\"C\"))"
   ]
  },
  {
   "cell_type": "raw",
   "metadata": {
    "raw_mimetype": "text/restructuredtext"
   },
   "source": [
    ":func:`graphcat.constant` acts as a factory for task functions that always return the value you provide, eliminating the need to create dedicated task functions of your own for parameters.  This also means that you can easily change your workflow parameters with :meth:`graphcat.Graph.set_task` any time that the inputs to your workflow change, whether due to user input, changes in the environment, network traffic, or anything else that your workflow depends upon.\n",
    "\n",
    "Next, you may wonder why it's necessary to call both :meth:`graphcat.Graph.add_task` and :any:`graphcat.Graph.set_task` just to create a working task.  In fact, you don't - either method can create a task and assign its function in a single step:"
   ]
  },
  {
   "cell_type": "code",
   "execution_count": 16,
   "metadata": {},
   "outputs": [],
   "source": [
    "graph.set_task(\"D\", graphcat.constant(1.5))"
   ]
  },
  {
   "cell_type": "markdown",
   "metadata": {},
   "source": [
    "which, when we connect it to \"C\", integrates nicely with the rest of the computation:"
   ]
  },
  {
   "cell_type": "code",
   "execution_count": 17,
   "metadata": {},
   "outputs": [
    {
     "name": "stderr",
     "output_type": "stream",
     "text": [
      "INFO:graphcat:Task D executing. Inputs: {}\n",
      "INFO:graphcat:Task D finished. Output: 1.5\n",
      "INFO:graphcat:Task C executing. Inputs: {None: [4, 5, 1.5]}\n",
      "INFO:graphcat:Task C finished. Output: 10.5\n"
     ]
    },
    {
     "name": "stdout",
     "output_type": "stream",
     "text": [
      "Result: 10.5\n"
     ]
    },
    {
     "data": {
      "image/svg+xml": [
       "<svg height=\"81pt\" viewBox=\"0.00 0.00 131.00 81.00\" width=\"131pt\" xmlns=\"http://www.w3.org/2000/svg\" xmlns:xlink=\"http://www.w3.org/1999/xlink\">\n",
       "<g class=\"graph\" id=\"graph0\" transform=\"scale(1 1) rotate(0) translate(4 77)\">\n",
       "<title>%3</title>\n",
       "<polygon fill=\"white\" points=\"-4,4 -4,-77 127,-77 127,4 -4,4\" stroke=\"none\"/>\n",
       "<!-- A -->\n",
       "<g class=\"node\" id=\"node1\"><title>A</title>\n",
       "<polygon fill=\"#494744\" points=\"29,-73 0,-73 0,-51 29,-51 29,-73\" stroke=\"#494744\"/>\n",
       "<text fill=\"white\" font-family=\"Helvetica,sans-Serif\" font-size=\"14.00\" text-anchor=\"middle\" x=\"14.5\" y=\"-57.8\">A</text>\n",
       "</g>\n",
       "<!-- C -->\n",
       "<g class=\"node\" id=\"node2\"><title>C</title>\n",
       "<polygon fill=\"#494744\" points=\"76,-22 47,-22 47,-0 76,-0 76,-22\" stroke=\"#494744\"/>\n",
       "<text fill=\"white\" font-family=\"Helvetica,sans-Serif\" font-size=\"14.00\" text-anchor=\"middle\" x=\"61.5\" y=\"-6.8\">C</text>\n",
       "</g>\n",
       "<!-- A&#45;&gt;C -->\n",
       "<g class=\"edge\" id=\"edge1\"><title>A-&gt;C</title>\n",
       "<path d=\"M24.4675,-50.6084C30.4041,-44.4192 38.0884,-36.4078 44.9173,-29.2884\" fill=\"none\" stroke=\"#494744\"/>\n",
       "<polygon fill=\"#494744\" points=\"47.4719,-31.6812 51.8683,-22.0415 42.4202,-26.8356 47.4719,-31.6812\" stroke=\"#494744\"/>\n",
       "</g>\n",
       "<!-- B -->\n",
       "<g class=\"node\" id=\"node3\"><title>B</title>\n",
       "<polygon fill=\"#494744\" points=\"76,-73 47,-73 47,-51 76,-51 76,-73\" stroke=\"#494744\"/>\n",
       "<text fill=\"white\" font-family=\"Helvetica,sans-Serif\" font-size=\"14.00\" text-anchor=\"middle\" x=\"61.5\" y=\"-57.8\">B</text>\n",
       "</g>\n",
       "<!-- B&#45;&gt;C -->\n",
       "<g class=\"edge\" id=\"edge2\"><title>B-&gt;C</title>\n",
       "<path d=\"M61.5,-50.6084C61.5,-45.2093 61.5,-38.4236 61.5,-32.0529\" fill=\"none\" stroke=\"#494744\"/>\n",
       "<polygon fill=\"#494744\" points=\"65.0001,-32.0415 61.5,-22.0415 58.0001,-32.0416 65.0001,-32.0415\" stroke=\"#494744\"/>\n",
       "</g>\n",
       "<!-- D -->\n",
       "<g class=\"node\" id=\"node4\"><title>D</title>\n",
       "<polygon fill=\"#494744\" points=\"123,-73 94,-73 94,-51 123,-51 123,-73\" stroke=\"#494744\"/>\n",
       "<text fill=\"white\" font-family=\"Helvetica,sans-Serif\" font-size=\"14.00\" text-anchor=\"middle\" x=\"108.5\" y=\"-57.8\">D</text>\n",
       "</g>\n",
       "<!-- D&#45;&gt;C -->\n",
       "<g class=\"edge\" id=\"edge3\"><title>D-&gt;C</title>\n",
       "<path d=\"M98.5325,-50.6084C92.5959,-44.4192 84.9116,-36.4078 78.0827,-29.2884\" fill=\"none\" stroke=\"#494744\"/>\n",
       "<polygon fill=\"#494744\" points=\"80.5798,-26.8356 71.1317,-22.0415 75.5281,-31.6812 80.5798,-26.8356\" stroke=\"#494744\"/>\n",
       "</g>\n",
       "</g>\n",
       "</svg>"
      ],
      "text/plain": [
       "<IPython.core.display.SVG object>"
      ]
     },
     "metadata": {},
     "output_type": "display_data"
    }
   ],
   "source": [
    "graph.set_links(source=\"D\", targets=\"C\")\n",
    "print(\"Result:\", graph.output(\"C\"))\n",
    "graphcat.notebook.display(graph)"
   ]
  },
  {
   "cell_type": "markdown",
   "metadata": {},
   "source": [
    "## Named Inputs\n",
    "\n",
    "By now, you should have questions about the way inputs are passed to task functions.  From the log message in the preceding example - `{None: [4, 5, 1.5]}` - it's obvious that the results from \"A\", \"B\", and \"D\" are passed to \"C\" using a list - `[4, 5, 1.5]`, but why is the list part of a dict, and why is the key `None`?"
   ]
  },
  {
   "cell_type": "raw",
   "metadata": {
    "raw_mimetype": "text/restructuredtext"
   },
   "source": [
    "What's happening is that when you create a link between a source and a target, you also specify a *named input* for the edge.  The named input becomes the key in the task function's input dict.  This makes it easier for task functions with multiple inputs to tell those inputs apart.  If you don't specify a named input when you create a link, it defaults to :any:`None`.\n",
    "\n",
    "Let's change our current example to see what this looks like.  Instead of addition, we will create a new task function that can be used to generate a common greeting:"
   ]
  },
  {
   "cell_type": "code",
   "execution_count": 18,
   "metadata": {},
   "outputs": [],
   "source": [
    "def greeting(name, inputs):\n",
    "    return f\"{inputs['greeting'][0]}, {inputs['subject'][0]}!\""
   ]
  },
  {
   "cell_type": "markdown",
   "metadata": {},
   "source": [
    "Note that the `greeting()` task function expects the input dict to contain inputs named \"greeting\" and \"subject\".  Also note that because input dict values are always lists, the function uses `[0]` to get the first value in each list.\n",
    "\n",
    "Now we can setup the parameter and greeting task functions for our existing graph:"
   ]
  },
  {
   "cell_type": "code",
   "execution_count": 19,
   "metadata": {},
   "outputs": [],
   "source": [
    "graph.set_task(\"A\", graphcat.constant(\"Hello\"))\n",
    "graph.set_task(\"B\", graphcat.constant(\"World\"))\n",
    "graph.set_task(\"C\", greeting)"
   ]
  },
  {
   "cell_type": "markdown",
   "metadata": {},
   "source": [
    "And we will replace our existing links with links that connect to the named inputs required by \"C\"'s task function:"
   ]
  },
  {
   "cell_type": "code",
   "execution_count": 20,
   "metadata": {},
   "outputs": [],
   "source": [
    "graph.set_links(\"A\", (\"C\", \"greeting\"))\n",
    "graph.set_links(\"B\", (\"C\", \"subject\"))"
   ]
  },
  {
   "cell_type": "markdown",
   "metadata": {},
   "source": [
    "... instead of passing the target name to :meth:`graphcat.Graph.set_links`, we pass a `(task name, input name)` tuple instead.  Like task names, input names don't have to be strings - they can be any hashable object.  Let's see the result:"
   ]
  },
  {
   "cell_type": "code",
   "execution_count": 21,
   "metadata": {},
   "outputs": [
    {
     "name": "stderr",
     "output_type": "stream",
     "text": [
      "INFO:graphcat:Task A executing. Inputs: {}\n",
      "INFO:graphcat:Task A finished. Output: Hello\n",
      "INFO:graphcat:Task B executing. Inputs: {}\n",
      "INFO:graphcat:Task B finished. Output: World\n",
      "INFO:graphcat:Task C executing. Inputs: {None: [1.5], 'greeting': ['Hello'], 'subject': ['World']}\n",
      "INFO:graphcat:Task C finished. Output: Hello, World!\n"
     ]
    },
    {
     "name": "stdout",
     "output_type": "stream",
     "text": [
      "Result: Hello, World!\n"
     ]
    },
    {
     "data": {
      "image/svg+xml": [
       "<svg height=\"90pt\" viewBox=\"0.00 0.00 136.00 90.00\" width=\"136pt\" xmlns=\"http://www.w3.org/2000/svg\" xmlns:xlink=\"http://www.w3.org/1999/xlink\">\n",
       "<g class=\"graph\" id=\"graph0\" transform=\"scale(1 1) rotate(0) translate(4 86)\">\n",
       "<title>%3</title>\n",
       "<polygon fill=\"white\" points=\"-4,4 -4,-86 132,-86 132,4 -4,4\" stroke=\"none\"/>\n",
       "<!-- A -->\n",
       "<g class=\"node\" id=\"node1\"><title>A</title>\n",
       "<polygon fill=\"#494744\" points=\"29,-82 0,-82 0,-60 29,-60 29,-82\" stroke=\"#494744\"/>\n",
       "<text fill=\"white\" font-family=\"Helvetica,sans-Serif\" font-size=\"14.00\" text-anchor=\"middle\" x=\"14.5\" y=\"-66.8\">A</text>\n",
       "</g>\n",
       "<!-- C -->\n",
       "<g class=\"node\" id=\"node2\"><title>C</title>\n",
       "<polygon fill=\"#494744\" points=\"81,-22 52,-22 52,-0 81,-0 81,-22\" stroke=\"#494744\"/>\n",
       "<text fill=\"white\" font-family=\"Helvetica,sans-Serif\" font-size=\"14.00\" text-anchor=\"middle\" x=\"66.5\" y=\"-6.8\">C</text>\n",
       "</g>\n",
       "<!-- A&#45;&gt;C -->\n",
       "<g class=\"edge\" id=\"edge1\"><title>A-&gt;C</title>\n",
       "<path d=\"M19.0776,-59.7958C22.4727,-52.9042 27.5479,-43.85 33.5898,-37 36.5266,-33.6705 39.9663,-30.49 43.4942,-27.581\" fill=\"none\" stroke=\"#494744\"/>\n",
       "<polygon fill=\"#494744\" points=\"45.8526,-30.1845 51.6912,-21.3436 41.6137,-24.6139 45.8526,-30.1845\" stroke=\"#494744\"/>\n",
       "<text font-family=\"Helvetica,sans-Serif\" font-size=\"8.00\" text-anchor=\"middle\" x=\"48.9551\" y=\"-38.6\">greeting</text>\n",
       "</g>\n",
       "<!-- B -->\n",
       "<g class=\"node\" id=\"node3\"><title>B</title>\n",
       "<polygon fill=\"#494744\" points=\"81,-82 52,-82 52,-60 81,-60 81,-82\" stroke=\"#494744\"/>\n",
       "<text fill=\"white\" font-family=\"Helvetica,sans-Serif\" font-size=\"14.00\" text-anchor=\"middle\" x=\"66.5\" y=\"-66.8\">B</text>\n",
       "</g>\n",
       "<!-- B&#45;&gt;C -->\n",
       "<g class=\"edge\" id=\"edge2\"><title>B-&gt;C</title>\n",
       "<path d=\"M66.5,-59.8972C66.5,-52.339 66.5,-41.7476 66.5,-32.4458\" fill=\"none\" stroke=\"#494744\"/>\n",
       "<polygon fill=\"#494744\" points=\"70.0001,-32.3776 66.5,-22.3776 63.0001,-32.3776 70.0001,-32.3776\" stroke=\"#494744\"/>\n",
       "<text font-family=\"Helvetica,sans-Serif\" font-size=\"8.00\" text-anchor=\"middle\" x=\"79.1738\" y=\"-38.6\">subject</text>\n",
       "</g>\n",
       "<!-- D -->\n",
       "<g class=\"node\" id=\"node4\"><title>D</title>\n",
       "<polygon fill=\"#494744\" points=\"128,-82 99,-82 99,-60 128,-60 128,-82\" stroke=\"#494744\"/>\n",
       "<text fill=\"white\" font-family=\"Helvetica,sans-Serif\" font-size=\"14.00\" text-anchor=\"middle\" x=\"113.5\" y=\"-66.8\">D</text>\n",
       "</g>\n",
       "<!-- D&#45;&gt;C -->\n",
       "<g class=\"edge\" id=\"edge3\"><title>D-&gt;C</title>\n",
       "<path d=\"M109.159,-59.8955C105.947,-53.0485 101.158,-44.0065 95.5,-37 93.2865,-34.2591 90.7466,-31.5816 88.1102,-29.0586\" fill=\"none\" stroke=\"#494744\"/>\n",
       "<polygon fill=\"#494744\" points=\"89.9608,-26.0248 80.1419,-22.0449 85.3357,-31.2793 89.9608,-26.0248\" stroke=\"#494744\"/>\n",
       "</g>\n",
       "</g>\n",
       "</svg>"
      ],
      "text/plain": [
       "<IPython.core.display.SVG object>"
      ]
     },
     "metadata": {},
     "output_type": "display_data"
    }
   ],
   "source": [
    "print(\"Result:\", graph.output(\"C\"))\n",
    "graphcat.notebook.display(graph)"
   ]
  },
  {
   "cell_type": "raw",
   "metadata": {
    "raw_mimetype": "text/restructuredtext"
   },
   "source": [
    "Observe that the notebook diagram includes the names of the inputs when they aren't :any:`None`.\n",
    "\n",
    "Now, the input dict for \"C\" printed to the log should make more sense - it contains a list of outputs for each named input: in our case, \"greeting\" and \"subject\".  Task \"D\" is still connected to :any:`None`, which is ignored by the task function in this case.  It should also be clear now why each named input is associated with a list of values: you can connect multiple tasks to a single input, one task to multiple inputs, or any combination of the two.\n",
    "\n",
    "By examining the input dict, a task function can implement any desired behavior, from very strict (failing unless the dict contains a specific set of named inputs with explicit requirements on number of inputs and types) to very permissive (adjusting functionality based on names, numbers, and types of inputs in the dict)."
   ]
  },
  {
   "cell_type": "markdown",
   "metadata": {},
   "source": [
    "## Errors\n",
    "\n",
    "What happens when things go wrong and your task function fails?  Let's find out, using a special Graphcat helper function for generating task functions that throw exceptions:"
   ]
  },
  {
   "cell_type": "code",
   "execution_count": 22,
   "metadata": {},
   "outputs": [],
   "source": [
    "graph.set_task(\"D\", graphcat.raise_exception(RuntimeError(\"Whoops!\")))"
   ]
  },
  {
   "cell_type": "markdown",
   "metadata": {},
   "source": [
    "(In case you're wondering, we use this for testing and debugging)."
   ]
  },
  {
   "cell_type": "code",
   "execution_count": 23,
   "metadata": {},
   "outputs": [
    {
     "name": "stderr",
     "output_type": "stream",
     "text": [
      "INFO:graphcat:Task D executing. Inputs: {}\n",
      "ERROR:graphcat:Task D failed. Exception: Whoops!\n"
     ]
    },
    {
     "name": "stdout",
     "output_type": "stream",
     "text": [
      "Exception: RuntimeError('Whoops!')\n"
     ]
    },
    {
     "data": {
      "image/svg+xml": [
       "<svg height=\"90pt\" viewBox=\"0.00 0.00 136.00 90.00\" width=\"136pt\" xmlns=\"http://www.w3.org/2000/svg\" xmlns:xlink=\"http://www.w3.org/1999/xlink\">\n",
       "<g class=\"graph\" id=\"graph0\" transform=\"scale(1 1) rotate(0) translate(4 86)\">\n",
       "<title>%3</title>\n",
       "<polygon fill=\"white\" points=\"-4,4 -4,-86 132,-86 132,4 -4,4\" stroke=\"none\"/>\n",
       "<!-- A -->\n",
       "<g class=\"node\" id=\"node1\"><title>A</title>\n",
       "<polygon fill=\"#494744\" points=\"29,-82 0,-82 0,-60 29,-60 29,-82\" stroke=\"#494744\"/>\n",
       "<text fill=\"white\" font-family=\"Helvetica,sans-Serif\" font-size=\"14.00\" text-anchor=\"middle\" x=\"14.5\" y=\"-66.8\">A</text>\n",
       "</g>\n",
       "<!-- C -->\n",
       "<g class=\"node\" id=\"node2\"><title>C</title>\n",
       "<polygon fill=\"crimson\" points=\"81,-22 52,-22 52,-0 81,-0 81,-22\" stroke=\"crimson\"/>\n",
       "<text fill=\"white\" font-family=\"Helvetica,sans-Serif\" font-size=\"14.00\" text-anchor=\"middle\" x=\"66.5\" y=\"-6.8\">C</text>\n",
       "</g>\n",
       "<!-- A&#45;&gt;C -->\n",
       "<g class=\"edge\" id=\"edge1\"><title>A-&gt;C</title>\n",
       "<path d=\"M19.0776,-59.7958C22.4727,-52.9042 27.5479,-43.85 33.5898,-37 36.5266,-33.6705 39.9663,-30.49 43.4942,-27.581\" fill=\"none\" stroke=\"#494744\"/>\n",
       "<polygon fill=\"#494744\" points=\"45.8526,-30.1845 51.6912,-21.3436 41.6137,-24.6139 45.8526,-30.1845\" stroke=\"#494744\"/>\n",
       "<text font-family=\"Helvetica,sans-Serif\" font-size=\"8.00\" text-anchor=\"middle\" x=\"48.9551\" y=\"-38.6\">greeting</text>\n",
       "</g>\n",
       "<!-- B -->\n",
       "<g class=\"node\" id=\"node3\"><title>B</title>\n",
       "<polygon fill=\"#494744\" points=\"81,-82 52,-82 52,-60 81,-60 81,-82\" stroke=\"#494744\"/>\n",
       "<text fill=\"white\" font-family=\"Helvetica,sans-Serif\" font-size=\"14.00\" text-anchor=\"middle\" x=\"66.5\" y=\"-66.8\">B</text>\n",
       "</g>\n",
       "<!-- B&#45;&gt;C -->\n",
       "<g class=\"edge\" id=\"edge2\"><title>B-&gt;C</title>\n",
       "<path d=\"M66.5,-59.8972C66.5,-52.339 66.5,-41.7476 66.5,-32.4458\" fill=\"none\" stroke=\"#494744\"/>\n",
       "<polygon fill=\"#494744\" points=\"70.0001,-32.3776 66.5,-22.3776 63.0001,-32.3776 70.0001,-32.3776\" stroke=\"#494744\"/>\n",
       "<text font-family=\"Helvetica,sans-Serif\" font-size=\"8.00\" text-anchor=\"middle\" x=\"79.1738\" y=\"-38.6\">subject</text>\n",
       "</g>\n",
       "<!-- D -->\n",
       "<g class=\"node\" id=\"node4\"><title>D</title>\n",
       "<polygon fill=\"crimson\" points=\"128,-82 99,-82 99,-60 128,-60 128,-82\" stroke=\"crimson\"/>\n",
       "<text fill=\"white\" font-family=\"Helvetica,sans-Serif\" font-size=\"14.00\" text-anchor=\"middle\" x=\"113.5\" y=\"-66.8\">D</text>\n",
       "</g>\n",
       "<!-- D&#45;&gt;C -->\n",
       "<g class=\"edge\" id=\"edge3\"><title>D-&gt;C</title>\n",
       "<path d=\"M109.159,-59.8955C105.947,-53.0485 101.158,-44.0065 95.5,-37 93.2865,-34.2591 90.7466,-31.5816 88.1102,-29.0586\" fill=\"none\" stroke=\"#494744\"/>\n",
       "<polygon fill=\"#494744\" points=\"89.9608,-26.0248 80.1419,-22.0449 85.3357,-31.2793 89.9608,-26.0248\" stroke=\"#494744\"/>\n",
       "</g>\n",
       "</g>\n",
       "</svg>"
      ],
      "text/plain": [
       "<IPython.core.display.SVG object>"
      ]
     },
     "metadata": {},
     "output_type": "display_data"
    }
   ],
   "source": [
    "try:\n",
    "    print(\"Result:\", graph.output(\"C\"))\n",
    "except Exception as e:\n",
    "    print(f\"Exception: {e!r}\")\n",
    "graphcat.notebook.display(graph)"
   ]
  },
  {
   "cell_type": "raw",
   "metadata": {
    "raw_mimetype": "text/restructuredtext"
   },
   "source": [
    "As always, Graphcat ensures that task states are always consistent - in this case, when the function for \"D\" fails, execution stops, the task and its dependents are marked as being in the \"error\" state, and :any:`update` / :any:`output` re-raises the exception.  This will keep happening as long as the error condition persists:"
   ]
  },
  {
   "cell_type": "code",
   "execution_count": 24,
   "metadata": {},
   "outputs": [
    {
     "name": "stderr",
     "output_type": "stream",
     "text": [
      "INFO:graphcat:Task D executing. Inputs: {}\n",
      "ERROR:graphcat:Task D failed. Exception: Whoops!\n"
     ]
    },
    {
     "name": "stdout",
     "output_type": "stream",
     "text": [
      "Exception: RuntimeError('Whoops!')\n"
     ]
    },
    {
     "data": {
      "image/svg+xml": [
       "<svg height=\"90pt\" viewBox=\"0.00 0.00 136.00 90.00\" width=\"136pt\" xmlns=\"http://www.w3.org/2000/svg\" xmlns:xlink=\"http://www.w3.org/1999/xlink\">\n",
       "<g class=\"graph\" id=\"graph0\" transform=\"scale(1 1) rotate(0) translate(4 86)\">\n",
       "<title>%3</title>\n",
       "<polygon fill=\"white\" points=\"-4,4 -4,-86 132,-86 132,4 -4,4\" stroke=\"none\"/>\n",
       "<!-- A -->\n",
       "<g class=\"node\" id=\"node1\"><title>A</title>\n",
       "<polygon fill=\"#494744\" points=\"29,-82 0,-82 0,-60 29,-60 29,-82\" stroke=\"#494744\"/>\n",
       "<text fill=\"white\" font-family=\"Helvetica,sans-Serif\" font-size=\"14.00\" text-anchor=\"middle\" x=\"14.5\" y=\"-66.8\">A</text>\n",
       "</g>\n",
       "<!-- C -->\n",
       "<g class=\"node\" id=\"node2\"><title>C</title>\n",
       "<polygon fill=\"crimson\" points=\"81,-22 52,-22 52,-0 81,-0 81,-22\" stroke=\"crimson\"/>\n",
       "<text fill=\"white\" font-family=\"Helvetica,sans-Serif\" font-size=\"14.00\" text-anchor=\"middle\" x=\"66.5\" y=\"-6.8\">C</text>\n",
       "</g>\n",
       "<!-- A&#45;&gt;C -->\n",
       "<g class=\"edge\" id=\"edge1\"><title>A-&gt;C</title>\n",
       "<path d=\"M19.0776,-59.7958C22.4727,-52.9042 27.5479,-43.85 33.5898,-37 36.5266,-33.6705 39.9663,-30.49 43.4942,-27.581\" fill=\"none\" stroke=\"#494744\"/>\n",
       "<polygon fill=\"#494744\" points=\"45.8526,-30.1845 51.6912,-21.3436 41.6137,-24.6139 45.8526,-30.1845\" stroke=\"#494744\"/>\n",
       "<text font-family=\"Helvetica,sans-Serif\" font-size=\"8.00\" text-anchor=\"middle\" x=\"48.9551\" y=\"-38.6\">greeting</text>\n",
       "</g>\n",
       "<!-- B -->\n",
       "<g class=\"node\" id=\"node3\"><title>B</title>\n",
       "<polygon fill=\"#494744\" points=\"81,-82 52,-82 52,-60 81,-60 81,-82\" stroke=\"#494744\"/>\n",
       "<text fill=\"white\" font-family=\"Helvetica,sans-Serif\" font-size=\"14.00\" text-anchor=\"middle\" x=\"66.5\" y=\"-66.8\">B</text>\n",
       "</g>\n",
       "<!-- B&#45;&gt;C -->\n",
       "<g class=\"edge\" id=\"edge2\"><title>B-&gt;C</title>\n",
       "<path d=\"M66.5,-59.8972C66.5,-52.339 66.5,-41.7476 66.5,-32.4458\" fill=\"none\" stroke=\"#494744\"/>\n",
       "<polygon fill=\"#494744\" points=\"70.0001,-32.3776 66.5,-22.3776 63.0001,-32.3776 70.0001,-32.3776\" stroke=\"#494744\"/>\n",
       "<text font-family=\"Helvetica,sans-Serif\" font-size=\"8.00\" text-anchor=\"middle\" x=\"79.1738\" y=\"-38.6\">subject</text>\n",
       "</g>\n",
       "<!-- D -->\n",
       "<g class=\"node\" id=\"node4\"><title>D</title>\n",
       "<polygon fill=\"crimson\" points=\"128,-82 99,-82 99,-60 128,-60 128,-82\" stroke=\"crimson\"/>\n",
       "<text fill=\"white\" font-family=\"Helvetica,sans-Serif\" font-size=\"14.00\" text-anchor=\"middle\" x=\"113.5\" y=\"-66.8\">D</text>\n",
       "</g>\n",
       "<!-- D&#45;&gt;C -->\n",
       "<g class=\"edge\" id=\"edge3\"><title>D-&gt;C</title>\n",
       "<path d=\"M109.159,-59.8955C105.947,-53.0485 101.158,-44.0065 95.5,-37 93.2865,-34.2591 90.7466,-31.5816 88.1102,-29.0586\" fill=\"none\" stroke=\"#494744\"/>\n",
       "<polygon fill=\"#494744\" points=\"89.9608,-26.0248 80.1419,-22.0449 85.3357,-31.2793 89.9608,-26.0248\" stroke=\"#494744\"/>\n",
       "</g>\n",
       "</g>\n",
       "</svg>"
      ],
      "text/plain": [
       "<IPython.core.display.SVG object>"
      ]
     },
     "metadata": {},
     "output_type": "display_data"
    }
   ],
   "source": [
    "try:\n",
    "    print(\"Result:\", graph.output(\"C\"))\n",
    "except Exception as e:\n",
    "    print(f\"Exception: {e!r}\")\n",
    "graphcat.notebook.display(graph)"
   ]
  },
  {
   "cell_type": "markdown",
   "metadata": {},
   "source": [
    "Once, the error is cleared-up, things will return to normal:"
   ]
  },
  {
   "cell_type": "code",
   "execution_count": 25,
   "metadata": {},
   "outputs": [
    {
     "name": "stderr",
     "output_type": "stream",
     "text": [
      "INFO:graphcat:Task D executing. Inputs: {}\n",
      "INFO:graphcat:Task D finished. Output: 42\n",
      "INFO:graphcat:Task C executing. Inputs: {None: [42], 'greeting': ['Hello'], 'subject': ['World']}\n",
      "INFO:graphcat:Task C finished. Output: Hello, World!\n"
     ]
    },
    {
     "name": "stdout",
     "output_type": "stream",
     "text": [
      "Result: Hello, World!\n"
     ]
    },
    {
     "data": {
      "image/svg+xml": [
       "<svg height=\"90pt\" viewBox=\"0.00 0.00 136.00 90.00\" width=\"136pt\" xmlns=\"http://www.w3.org/2000/svg\" xmlns:xlink=\"http://www.w3.org/1999/xlink\">\n",
       "<g class=\"graph\" id=\"graph0\" transform=\"scale(1 1) rotate(0) translate(4 86)\">\n",
       "<title>%3</title>\n",
       "<polygon fill=\"white\" points=\"-4,4 -4,-86 132,-86 132,4 -4,4\" stroke=\"none\"/>\n",
       "<!-- A -->\n",
       "<g class=\"node\" id=\"node1\"><title>A</title>\n",
       "<polygon fill=\"#494744\" points=\"29,-82 0,-82 0,-60 29,-60 29,-82\" stroke=\"#494744\"/>\n",
       "<text fill=\"white\" font-family=\"Helvetica,sans-Serif\" font-size=\"14.00\" text-anchor=\"middle\" x=\"14.5\" y=\"-66.8\">A</text>\n",
       "</g>\n",
       "<!-- C -->\n",
       "<g class=\"node\" id=\"node2\"><title>C</title>\n",
       "<polygon fill=\"#494744\" points=\"81,-22 52,-22 52,-0 81,-0 81,-22\" stroke=\"#494744\"/>\n",
       "<text fill=\"white\" font-family=\"Helvetica,sans-Serif\" font-size=\"14.00\" text-anchor=\"middle\" x=\"66.5\" y=\"-6.8\">C</text>\n",
       "</g>\n",
       "<!-- A&#45;&gt;C -->\n",
       "<g class=\"edge\" id=\"edge1\"><title>A-&gt;C</title>\n",
       "<path d=\"M19.0776,-59.7958C22.4727,-52.9042 27.5479,-43.85 33.5898,-37 36.5266,-33.6705 39.9663,-30.49 43.4942,-27.581\" fill=\"none\" stroke=\"#494744\"/>\n",
       "<polygon fill=\"#494744\" points=\"45.8526,-30.1845 51.6912,-21.3436 41.6137,-24.6139 45.8526,-30.1845\" stroke=\"#494744\"/>\n",
       "<text font-family=\"Helvetica,sans-Serif\" font-size=\"8.00\" text-anchor=\"middle\" x=\"48.9551\" y=\"-38.6\">greeting</text>\n",
       "</g>\n",
       "<!-- B -->\n",
       "<g class=\"node\" id=\"node3\"><title>B</title>\n",
       "<polygon fill=\"#494744\" points=\"81,-82 52,-82 52,-60 81,-60 81,-82\" stroke=\"#494744\"/>\n",
       "<text fill=\"white\" font-family=\"Helvetica,sans-Serif\" font-size=\"14.00\" text-anchor=\"middle\" x=\"66.5\" y=\"-66.8\">B</text>\n",
       "</g>\n",
       "<!-- B&#45;&gt;C -->\n",
       "<g class=\"edge\" id=\"edge2\"><title>B-&gt;C</title>\n",
       "<path d=\"M66.5,-59.8972C66.5,-52.339 66.5,-41.7476 66.5,-32.4458\" fill=\"none\" stroke=\"#494744\"/>\n",
       "<polygon fill=\"#494744\" points=\"70.0001,-32.3776 66.5,-22.3776 63.0001,-32.3776 70.0001,-32.3776\" stroke=\"#494744\"/>\n",
       "<text font-family=\"Helvetica,sans-Serif\" font-size=\"8.00\" text-anchor=\"middle\" x=\"79.1738\" y=\"-38.6\">subject</text>\n",
       "</g>\n",
       "<!-- D -->\n",
       "<g class=\"node\" id=\"node4\"><title>D</title>\n",
       "<polygon fill=\"#494744\" points=\"128,-82 99,-82 99,-60 128,-60 128,-82\" stroke=\"#494744\"/>\n",
       "<text fill=\"white\" font-family=\"Helvetica,sans-Serif\" font-size=\"14.00\" text-anchor=\"middle\" x=\"113.5\" y=\"-66.8\">D</text>\n",
       "</g>\n",
       "<!-- D&#45;&gt;C -->\n",
       "<g class=\"edge\" id=\"edge3\"><title>D-&gt;C</title>\n",
       "<path d=\"M109.159,-59.8955C105.947,-53.0485 101.158,-44.0065 95.5,-37 93.2865,-34.2591 90.7466,-31.5816 88.1102,-29.0586\" fill=\"none\" stroke=\"#494744\"/>\n",
       "<polygon fill=\"#494744\" points=\"89.9608,-26.0248 80.1419,-22.0449 85.3357,-31.2793 89.9608,-26.0248\" stroke=\"#494744\"/>\n",
       "</g>\n",
       "</g>\n",
       "</svg>"
      ],
      "text/plain": [
       "<IPython.core.display.SVG object>"
      ]
     },
     "metadata": {},
     "output_type": "display_data"
    }
   ],
   "source": [
    "graph.set_task(\"D\", graphcat.constant(42))\n",
    "print(\"Result:\", graph.output(\"C\"))\n",
    "graphcat.notebook.display(graph)"
   ]
  }
 ],
 "metadata": {
  "celltoolbar": "Raw Cell Format",
  "kernelspec": {
   "display_name": "Python 3",
   "language": "python",
   "name": "python3"
  },
  "language_info": {
   "codemirror_mode": {
    "name": "ipython",
    "version": 3
   },
   "file_extension": ".py",
   "mimetype": "text/x-python",
   "name": "python",
   "nbconvert_exporter": "python",
   "pygments_lexer": "ipython3",
   "version": "3.7.7"
  }
 },
 "nbformat": 4,
 "nbformat_minor": 4
}
