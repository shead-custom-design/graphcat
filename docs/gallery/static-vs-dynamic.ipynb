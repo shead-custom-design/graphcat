{
 "cells": [
  {
   "cell_type": "raw",
   "metadata": {
    "raw_mimetype": "text/restructuredtext"
   },
   "source": [
    "Static vs. Dynamic Graphs\n",
    "=========================\n",
    "\n",
    "(This notebook assumes you have a good working knowledge of Graphcat, and completely understand the :ref:`tutorial`)\n",
    "\n",
    "Graphcat always ensures that tasks are executed when they're needed and in the correct order, but there can be more than way to define \"when a task is needed\", and those definitions have different tradeoffs in time and space.  Graphcat allows you to select among those tradeoffs by providing two main types of graph: static and dynamic.  To illustrate the difference between the two, we will setup a simple static graph:"
   ]
  },
  {
   "cell_type": "code",
   "execution_count": 1,
   "metadata": {},
   "outputs": [
    {
     "data": {
      "image/svg+xml": [
       "<svg height=\"54pt\" viewBox=\"0.00 0.00 100.45 54.00\" width=\"100pt\" xmlns=\"http://www.w3.org/2000/svg\" xmlns:xlink=\"http://www.w3.org/1999/xlink\">\n",
       "<g class=\"graph\" id=\"graph0\" transform=\"scale(1 1) rotate(0) translate(4 50)\">\n",
       "<polygon fill=\"white\" points=\"-4,4 -4,-50 96.45,-50 96.45,4 -4,4\" stroke=\"transparent\"/>\n",
       "<!-- A -->\n",
       "<g class=\"node\" id=\"node1\">\n",
       "<title>A</title>\n",
       "<polygon fill=\"white\" points=\"29,-46 0,-46 0,-32 29,-32 29,-46\" stroke=\"#494744\"/>\n",
       "<text fill=\"#494744\" font-family=\"Helvetica,sans-Serif\" font-size=\"8.00\" text-anchor=\"middle\" x=\"14.5\" y=\"-36.6\">A</text>\n",
       "</g>\n",
       "<!-- C -->\n",
       "<g class=\"node\" id=\"node2\">\n",
       "<title>C</title>\n",
       "<polygon fill=\"white\" points=\"92.45,-30 63.45,-30 63.45,-16 92.45,-16 92.45,-30\" stroke=\"#494744\"/>\n",
       "<text fill=\"#494744\" font-family=\"Helvetica,sans-Serif\" font-size=\"8.00\" text-anchor=\"middle\" x=\"77.95\" y=\"-20.6\">C</text>\n",
       "</g>\n",
       "<!-- A&#45;&gt;C -->\n",
       "<g class=\"edge\" id=\"edge1\">\n",
       "<title>A-&gt;C</title>\n",
       "<path d=\"M29.14,-35.45C36.3,-33.58 45.27,-31.25 53.51,-29.1\" fill=\"none\" stroke=\"#494744\"/>\n",
       "<polygon fill=\"#494744\" points=\"54.55,-32.45 63.35,-26.54 52.79,-25.67 54.55,-32.45\" stroke=\"#494744\"/>\n",
       "<text font-family=\"Helvetica,sans-Serif\" font-size=\"8.00\" text-anchor=\"middle\" x=\"46.22\" y=\"-32.6\">0</text>\n",
       "</g>\n",
       "<!-- B -->\n",
       "<g class=\"node\" id=\"node3\">\n",
       "<title>B</title>\n",
       "<polygon fill=\"white\" points=\"29,-14 0,-14 0,0 29,0 29,-14\" stroke=\"#494744\"/>\n",
       "<text fill=\"#494744\" font-family=\"Helvetica,sans-Serif\" font-size=\"8.00\" text-anchor=\"middle\" x=\"14.5\" y=\"-4.6\">B</text>\n",
       "</g>\n",
       "<!-- B&#45;&gt;C -->\n",
       "<g class=\"edge\" id=\"edge2\">\n",
       "<title>B-&gt;C</title>\n",
       "<path d=\"M29.14,-10.55C36.3,-12.42 45.27,-14.75 53.51,-16.9\" fill=\"none\" stroke=\"#494744\"/>\n",
       "<polygon fill=\"#494744\" points=\"52.79,-20.33 63.35,-19.46 54.55,-13.55 52.79,-20.33\" stroke=\"#494744\"/>\n",
       "<text font-family=\"Helvetica,sans-Serif\" font-size=\"8.00\" text-anchor=\"middle\" x=\"46.22\" y=\"-16.6\">1</text>\n",
       "</g>\n",
       "</g>\n",
       "</svg>"
      ],
      "text/plain": [
       "<IPython.core.display.SVG object>"
      ]
     },
     "metadata": {},
     "output_type": "display_data"
    }
   ],
   "source": [
    "import graphcat.notebook\n",
    "\n",
    "graph = graphcat.StaticGraph()\n",
    "graph.add_task(\"A\", graphcat.constant(\"a\"))\n",
    "graph.add_task(\"B\", graphcat.constant(\"b\"))\n",
    "graph.add_task(\"C\", graphcat.passthrough(input=0))\n",
    "graph.add_links(\"A\", (\"C\", 0))\n",
    "graph.add_links(\"B\", (\"C\", 1))\n",
    "\n",
    "graphcat.notebook.display(graph)"
   ]
  },
  {
   "cell_type": "raw",
   "metadata": {
    "raw_mimetype": "text/restructuredtext"
   },
   "source": [
    "Note that there are two tasks \"A\" and \"B\" that produce the strings ``\"a\"`` and ``\"b\"`` respectively, connected to inputs ``0`` and ``1`` of task \"C\".  In turn, task \"C\" uses the :func:`graphcat.common.passthrough` function to return whatever value it receives on input ``0``:  "
   ]
  },
  {
   "cell_type": "code",
   "execution_count": 2,
   "metadata": {},
   "outputs": [
    {
     "name": "stdout",
     "output_type": "stream",
     "text": [
      "C output: a\n"
     ]
    },
    {
     "data": {
      "image/svg+xml": [
       "<svg height=\"54pt\" viewBox=\"0.00 0.00 100.45 54.00\" width=\"100pt\" xmlns=\"http://www.w3.org/2000/svg\" xmlns:xlink=\"http://www.w3.org/1999/xlink\">\n",
       "<g class=\"graph\" id=\"graph0\" transform=\"scale(1 1) rotate(0) translate(4 50)\">\n",
       "<polygon fill=\"white\" points=\"-4,4 -4,-50 96.45,-50 96.45,4 -4,4\" stroke=\"transparent\"/>\n",
       "<!-- A -->\n",
       "<g class=\"node\" id=\"node1\">\n",
       "<title>A</title>\n",
       "<polygon fill=\"#494744\" points=\"29,-46 0,-46 0,-32 29,-32 29,-46\" stroke=\"#494744\"/>\n",
       "<text fill=\"white\" font-family=\"Helvetica,sans-Serif\" font-size=\"8.00\" text-anchor=\"middle\" x=\"14.5\" y=\"-36.6\">A</text>\n",
       "</g>\n",
       "<!-- C -->\n",
       "<g class=\"node\" id=\"node2\">\n",
       "<title>C</title>\n",
       "<polygon fill=\"#494744\" points=\"92.45,-30 63.45,-30 63.45,-16 92.45,-16 92.45,-30\" stroke=\"#494744\"/>\n",
       "<text fill=\"white\" font-family=\"Helvetica,sans-Serif\" font-size=\"8.00\" text-anchor=\"middle\" x=\"77.95\" y=\"-20.6\">C</text>\n",
       "</g>\n",
       "<!-- A&#45;&gt;C -->\n",
       "<g class=\"edge\" id=\"edge1\">\n",
       "<title>A-&gt;C</title>\n",
       "<path d=\"M29.14,-35.45C36.3,-33.58 45.27,-31.25 53.51,-29.1\" fill=\"none\" stroke=\"#494744\"/>\n",
       "<polygon fill=\"#494744\" points=\"54.55,-32.45 63.35,-26.54 52.79,-25.67 54.55,-32.45\" stroke=\"#494744\"/>\n",
       "<text font-family=\"Helvetica,sans-Serif\" font-size=\"8.00\" text-anchor=\"middle\" x=\"46.22\" y=\"-32.6\">0</text>\n",
       "</g>\n",
       "<!-- B -->\n",
       "<g class=\"node\" id=\"node3\">\n",
       "<title>B</title>\n",
       "<polygon fill=\"#494744\" points=\"29,-14 0,-14 0,0 29,0 29,-14\" stroke=\"#494744\"/>\n",
       "<text fill=\"white\" font-family=\"Helvetica,sans-Serif\" font-size=\"8.00\" text-anchor=\"middle\" x=\"14.5\" y=\"-4.6\">B</text>\n",
       "</g>\n",
       "<!-- B&#45;&gt;C -->\n",
       "<g class=\"edge\" id=\"edge2\">\n",
       "<title>B-&gt;C</title>\n",
       "<path d=\"M29.14,-10.55C36.3,-12.42 45.27,-14.75 53.51,-16.9\" fill=\"none\" stroke=\"#494744\"/>\n",
       "<polygon fill=\"#494744\" points=\"52.79,-20.33 63.35,-19.46 54.55,-13.55 52.79,-20.33\" stroke=\"#494744\"/>\n",
       "<text font-family=\"Helvetica,sans-Serif\" font-size=\"8.00\" text-anchor=\"middle\" x=\"46.22\" y=\"-16.6\">1</text>\n",
       "</g>\n",
       "</g>\n",
       "</svg>"
      ],
      "text/plain": [
       "<IPython.core.display.SVG object>"
      ]
     },
     "metadata": {},
     "output_type": "display_data"
    }
   ],
   "source": [
    "print(\"C output:\", graph.output(\"C\"))\n",
    "graphcat.notebook.display(graph)"
   ]
  },
  {
   "cell_type": "raw",
   "metadata": {
    "raw_mimetype": "text/restructuredtext"
   },
   "source": [
    "... as expected, task \"C\" returns ``\"a\"``, and all three tasks are finished (solid boxes), because tasks \"A\" and \"B\" are inputs to task \"C\".  This is what we mean when we say that the graph is static: it performs a static analysis of the graph topology to determine which tasks are inputs to \"C\", and then executes them in the correct order.\n",
    "\n",
    "However, a static analysis can be suboptimal: in this case, even though task \"B\" is an input to \"C\", it isn't really needed, since \"C\" is only using its first input.  What if task \"B\" were time consuming?  All of that effort is wasted if the output from \"B\" is never actually used by \"C\".\n",
    "\n",
    "Fortunately, we can use dynamic analysis to determine which tasks need to be executed during updates based on whether or not they actually get used.  To do so, we simply use an instance of :class:`DynamicGraph<graphcat.dynamic.DynamicGraph>` instead of :class:`StaticGraph<graphcat.static.StaticGraph>`:\n"
   ]
  },
  {
   "cell_type": "code",
   "execution_count": 3,
   "metadata": {},
   "outputs": [
    {
     "data": {
      "image/svg+xml": [
       "<svg height=\"54pt\" viewBox=\"0.00 0.00 100.45 54.00\" width=\"100pt\" xmlns=\"http://www.w3.org/2000/svg\" xmlns:xlink=\"http://www.w3.org/1999/xlink\">\n",
       "<g class=\"graph\" id=\"graph0\" transform=\"scale(1 1) rotate(0) translate(4 50)\">\n",
       "<polygon fill=\"white\" points=\"-4,4 -4,-50 96.45,-50 96.45,4 -4,4\" stroke=\"transparent\"/>\n",
       "<!-- A -->\n",
       "<g class=\"node\" id=\"node1\">\n",
       "<title>A</title>\n",
       "<polygon fill=\"white\" points=\"29,-46 0,-46 0,-32 29,-32 29,-46\" stroke=\"#494744\"/>\n",
       "<text fill=\"#494744\" font-family=\"Helvetica,sans-Serif\" font-size=\"8.00\" text-anchor=\"middle\" x=\"14.5\" y=\"-36.6\">A</text>\n",
       "</g>\n",
       "<!-- C -->\n",
       "<g class=\"node\" id=\"node2\">\n",
       "<title>C</title>\n",
       "<polygon fill=\"white\" points=\"92.45,-30 63.45,-30 63.45,-16 92.45,-16 92.45,-30\" stroke=\"#494744\"/>\n",
       "<text fill=\"#494744\" font-family=\"Helvetica,sans-Serif\" font-size=\"8.00\" text-anchor=\"middle\" x=\"77.95\" y=\"-20.6\">C</text>\n",
       "</g>\n",
       "<!-- A&#45;&gt;C -->\n",
       "<g class=\"edge\" id=\"edge1\">\n",
       "<title>A-&gt;C</title>\n",
       "<path d=\"M29.14,-35.45C36.3,-33.58 45.27,-31.25 53.51,-29.1\" fill=\"none\" stroke=\"#494744\"/>\n",
       "<polygon fill=\"none\" points=\"54.55,-32.45 63.35,-26.54 52.79,-25.67 54.55,-32.45\" stroke=\"#494744\"/>\n",
       "<text font-family=\"Helvetica,sans-Serif\" font-size=\"8.00\" text-anchor=\"middle\" x=\"46.22\" y=\"-32.6\">0</text>\n",
       "</g>\n",
       "<!-- B -->\n",
       "<g class=\"node\" id=\"node3\">\n",
       "<title>B</title>\n",
       "<polygon fill=\"white\" points=\"29,-14 0,-14 0,0 29,0 29,-14\" stroke=\"#494744\"/>\n",
       "<text fill=\"#494744\" font-family=\"Helvetica,sans-Serif\" font-size=\"8.00\" text-anchor=\"middle\" x=\"14.5\" y=\"-4.6\">B</text>\n",
       "</g>\n",
       "<!-- B&#45;&gt;C -->\n",
       "<g class=\"edge\" id=\"edge2\">\n",
       "<title>B-&gt;C</title>\n",
       "<path d=\"M29.14,-10.55C36.3,-12.42 45.27,-14.75 53.51,-16.9\" fill=\"none\" stroke=\"#494744\"/>\n",
       "<polygon fill=\"none\" points=\"52.79,-20.33 63.35,-19.46 54.55,-13.55 52.79,-20.33\" stroke=\"#494744\"/>\n",
       "<text font-family=\"Helvetica,sans-Serif\" font-size=\"8.00\" text-anchor=\"middle\" x=\"46.22\" y=\"-16.6\">1</text>\n",
       "</g>\n",
       "</g>\n",
       "</svg>"
      ],
      "text/plain": [
       "<IPython.core.display.SVG object>"
      ]
     },
     "metadata": {},
     "output_type": "display_data"
    }
   ],
   "source": [
    "graph = graphcat.DynamicGraph()\n",
    "graph.add_task(\"A\", graphcat.constant(\"a\"))\n",
    "graph.add_task(\"B\", graphcat.constant(\"b\"))\n",
    "graph.add_task(\"C\", graphcat.passthrough(input=0))\n",
    "graph.add_links(\"A\", (\"C\", 0))\n",
    "graph.add_links(\"B\", (\"C\", 1))\n",
    "\n",
    "graphcat.notebook.display(graph)"
   ]
  },
  {
   "cell_type": "raw",
   "metadata": {
    "raw_mimetype": "text/restructuredtext"
   },
   "source": [
    ".. note::\n",
    "\n",
    "  The arrow heads in the diagram are open instead of solid, which indicates that this is a :class:`DynamicGraph<graphcat.dynamic.DynamicGraph>`.\n",
    "\n",
    "Now, when we get the output from \"C\", we should still get the same answer:"
   ]
  },
  {
   "cell_type": "code",
   "execution_count": 4,
   "metadata": {
    "tags": [
     "nbsphinx-thumbnail"
    ]
   },
   "outputs": [
    {
     "name": "stdout",
     "output_type": "stream",
     "text": [
      "C output: a\n"
     ]
    },
    {
     "data": {
      "image/svg+xml": [
       "<svg height=\"54pt\" viewBox=\"0.00 0.00 100.45 54.00\" width=\"100pt\" xmlns=\"http://www.w3.org/2000/svg\" xmlns:xlink=\"http://www.w3.org/1999/xlink\">\n",
       "<g class=\"graph\" id=\"graph0\" transform=\"scale(1 1) rotate(0) translate(4 50)\">\n",
       "<polygon fill=\"white\" points=\"-4,4 -4,-50 96.45,-50 96.45,4 -4,4\" stroke=\"transparent\"/>\n",
       "<!-- A -->\n",
       "<g class=\"node\" id=\"node1\">\n",
       "<title>A</title>\n",
       "<polygon fill=\"#494744\" points=\"29,-46 0,-46 0,-32 29,-32 29,-46\" stroke=\"#494744\"/>\n",
       "<text fill=\"white\" font-family=\"Helvetica,sans-Serif\" font-size=\"8.00\" text-anchor=\"middle\" x=\"14.5\" y=\"-36.6\">A</text>\n",
       "</g>\n",
       "<!-- C -->\n",
       "<g class=\"node\" id=\"node2\">\n",
       "<title>C</title>\n",
       "<polygon fill=\"#494744\" points=\"92.45,-30 63.45,-30 63.45,-16 92.45,-16 92.45,-30\" stroke=\"#494744\"/>\n",
       "<text fill=\"white\" font-family=\"Helvetica,sans-Serif\" font-size=\"8.00\" text-anchor=\"middle\" x=\"77.95\" y=\"-20.6\">C</text>\n",
       "</g>\n",
       "<!-- A&#45;&gt;C -->\n",
       "<g class=\"edge\" id=\"edge1\">\n",
       "<title>A-&gt;C</title>\n",
       "<path d=\"M29.14,-35.45C36.3,-33.58 45.27,-31.25 53.51,-29.1\" fill=\"none\" stroke=\"#494744\"/>\n",
       "<polygon fill=\"none\" points=\"54.55,-32.45 63.35,-26.54 52.79,-25.67 54.55,-32.45\" stroke=\"#494744\"/>\n",
       "<text font-family=\"Helvetica,sans-Serif\" font-size=\"8.00\" text-anchor=\"middle\" x=\"46.22\" y=\"-32.6\">0</text>\n",
       "</g>\n",
       "<!-- B -->\n",
       "<g class=\"node\" id=\"node3\">\n",
       "<title>B</title>\n",
       "<polygon fill=\"white\" points=\"29,-14 0,-14 0,0 29,0 29,-14\" stroke=\"#494744\"/>\n",
       "<text fill=\"#494744\" font-family=\"Helvetica,sans-Serif\" font-size=\"8.00\" text-anchor=\"middle\" x=\"14.5\" y=\"-4.6\">B</text>\n",
       "</g>\n",
       "<!-- B&#45;&gt;C -->\n",
       "<g class=\"edge\" id=\"edge2\">\n",
       "<title>B-&gt;C</title>\n",
       "<path d=\"M29.14,-10.55C36.3,-12.42 45.27,-14.75 53.51,-16.9\" fill=\"none\" stroke=\"#494744\"/>\n",
       "<polygon fill=\"none\" points=\"52.79,-20.33 63.35,-19.46 54.55,-13.55 52.79,-20.33\" stroke=\"#494744\"/>\n",
       "<text font-family=\"Helvetica,sans-Serif\" font-size=\"8.00\" text-anchor=\"middle\" x=\"46.22\" y=\"-16.6\">1</text>\n",
       "</g>\n",
       "</g>\n",
       "</svg>"
      ],
      "text/plain": [
       "<IPython.core.display.SVG object>"
      ]
     },
     "metadata": {},
     "output_type": "display_data"
    }
   ],
   "source": [
    "print(\"C output:\", graph.output(\"C\"))\n",
    "graphcat.notebook.display(graph)"
   ]
  },
  {
   "cell_type": "markdown",
   "metadata": {},
   "source": [
    "... but task \"B\" hasn't executed, because it isn't needed *in this case*.  If we were to change task \"C\" so that it uses its second input, the output from \"B\" will be computed:"
   ]
  },
  {
   "cell_type": "code",
   "execution_count": 5,
   "metadata": {},
   "outputs": [
    {
     "name": "stdout",
     "output_type": "stream",
     "text": [
      "C output: b\n"
     ]
    },
    {
     "data": {
      "image/svg+xml": [
       "<svg height=\"54pt\" viewBox=\"0.00 0.00 100.45 54.00\" width=\"100pt\" xmlns=\"http://www.w3.org/2000/svg\" xmlns:xlink=\"http://www.w3.org/1999/xlink\">\n",
       "<g class=\"graph\" id=\"graph0\" transform=\"scale(1 1) rotate(0) translate(4 50)\">\n",
       "<polygon fill=\"white\" points=\"-4,4 -4,-50 96.45,-50 96.45,4 -4,4\" stroke=\"transparent\"/>\n",
       "<!-- A -->\n",
       "<g class=\"node\" id=\"node1\">\n",
       "<title>A</title>\n",
       "<polygon fill=\"#494744\" points=\"29,-46 0,-46 0,-32 29,-32 29,-46\" stroke=\"#494744\"/>\n",
       "<text fill=\"white\" font-family=\"Helvetica,sans-Serif\" font-size=\"8.00\" text-anchor=\"middle\" x=\"14.5\" y=\"-36.6\">A</text>\n",
       "</g>\n",
       "<!-- C -->\n",
       "<g class=\"node\" id=\"node2\">\n",
       "<title>C</title>\n",
       "<polygon fill=\"#494744\" points=\"92.45,-30 63.45,-30 63.45,-16 92.45,-16 92.45,-30\" stroke=\"#494744\"/>\n",
       "<text fill=\"white\" font-family=\"Helvetica,sans-Serif\" font-size=\"8.00\" text-anchor=\"middle\" x=\"77.95\" y=\"-20.6\">C</text>\n",
       "</g>\n",
       "<!-- A&#45;&gt;C -->\n",
       "<g class=\"edge\" id=\"edge1\">\n",
       "<title>A-&gt;C</title>\n",
       "<path d=\"M29.14,-35.45C36.3,-33.58 45.27,-31.25 53.51,-29.1\" fill=\"none\" stroke=\"#494744\"/>\n",
       "<polygon fill=\"none\" points=\"54.55,-32.45 63.35,-26.54 52.79,-25.67 54.55,-32.45\" stroke=\"#494744\"/>\n",
       "<text font-family=\"Helvetica,sans-Serif\" font-size=\"8.00\" text-anchor=\"middle\" x=\"46.22\" y=\"-32.6\">0</text>\n",
       "</g>\n",
       "<!-- B -->\n",
       "<g class=\"node\" id=\"node3\">\n",
       "<title>B</title>\n",
       "<polygon fill=\"#494744\" points=\"29,-14 0,-14 0,0 29,0 29,-14\" stroke=\"#494744\"/>\n",
       "<text fill=\"white\" font-family=\"Helvetica,sans-Serif\" font-size=\"8.00\" text-anchor=\"middle\" x=\"14.5\" y=\"-4.6\">B</text>\n",
       "</g>\n",
       "<!-- B&#45;&gt;C -->\n",
       "<g class=\"edge\" id=\"edge2\">\n",
       "<title>B-&gt;C</title>\n",
       "<path d=\"M29.14,-10.55C36.3,-12.42 45.27,-14.75 53.51,-16.9\" fill=\"none\" stroke=\"#494744\"/>\n",
       "<polygon fill=\"none\" points=\"52.79,-20.33 63.35,-19.46 54.55,-13.55 52.79,-20.33\" stroke=\"#494744\"/>\n",
       "<text font-family=\"Helvetica,sans-Serif\" font-size=\"8.00\" text-anchor=\"middle\" x=\"46.22\" y=\"-16.6\">1</text>\n",
       "</g>\n",
       "</g>\n",
       "</svg>"
      ],
      "text/plain": [
       "<IPython.core.display.SVG object>"
      ]
     },
     "metadata": {},
     "output_type": "display_data"
    }
   ],
   "source": [
    "graph.set_task(\"C\", graphcat.passthrough(input=1))\n",
    "print(\"C output:\", graph.output(\"C\"))\n",
    "graphcat.notebook.display(graph)"
   ]
  },
  {
   "cell_type": "markdown",
   "metadata": {},
   "source": [
    "Given that dynamic graphs are potentially more efficient by eliminating unneeded computation, why have static graphs at all?  This is because dynamic graphs use more resources to run, and may exceed the Python interpreter stack limits on large, complex graphs.  In those cases you can increase the maximum stack size, or switch back to static graphs, which may waste some computation, but can never run out of stack space."
   ]
  }
 ],
 "metadata": {
  "celltoolbar": "Tags",
  "kernelspec": {
   "display_name": "Python 3",
   "language": "python",
   "name": "python3"
  },
  "language_info": {
   "codemirror_mode": {
    "name": "ipython",
    "version": 3
   },
   "file_extension": ".py",
   "mimetype": "text/x-python",
   "name": "python",
   "nbconvert_exporter": "python",
   "pygments_lexer": "ipython3",
   "version": "3.7.7"
  }
 },
 "nbformat": 4,
 "nbformat_minor": 4
}
