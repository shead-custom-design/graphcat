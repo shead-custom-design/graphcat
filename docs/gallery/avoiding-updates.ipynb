{
 "cells": [
  {
   "cell_type": "markdown",
   "metadata": {},
   "source": [
    "# Avoiding Updates\n",
    "\n",
    "Consider the following, trivial graph:"
   ]
  },
  {
   "cell_type": "code",
   "execution_count": 1,
   "metadata": {},
   "outputs": [
    {
     "data": {
      "image/svg+xml": [
       "<svg height=\"22pt\" viewBox=\"0.00 0.00 95.00 22.00\" width=\"95pt\" xmlns=\"http://www.w3.org/2000/svg\" xmlns:xlink=\"http://www.w3.org/1999/xlink\">\n",
       "<g class=\"graph\" id=\"graph0\" transform=\"scale(1 1) rotate(0) translate(4 18)\">\n",
       "<polygon fill=\"white\" points=\"-4,4 -4,-18 91,-18 91,4 -4,4\" stroke=\"transparent\"/>\n",
       "<!-- a -->\n",
       "<g class=\"node\" id=\"node1\">\n",
       "<title>a</title>\n",
       "<polygon fill=\"white\" points=\"29,-14 0,-14 0,0 29,0 29,-14\" stroke=\"#494744\"/>\n",
       "<text fill=\"#494744\" font-family=\"Helvetica,sans-Serif\" font-size=\"8.00\" text-anchor=\"middle\" x=\"14.5\" y=\"-4.6\">a</text>\n",
       "</g>\n",
       "<!-- b -->\n",
       "<g class=\"node\" id=\"node2\">\n",
       "<title>b</title>\n",
       "<polygon fill=\"white\" points=\"87,-14 58,-14 58,0 87,0 87,-14\" stroke=\"#494744\"/>\n",
       "<text fill=\"#494744\" font-family=\"Helvetica,sans-Serif\" font-size=\"8.00\" text-anchor=\"middle\" x=\"72.5\" y=\"-4.6\">b</text>\n",
       "</g>\n",
       "<!-- a&#45;&gt;b -->\n",
       "<g class=\"edge\" id=\"edge1\">\n",
       "<title>a-&gt;b</title>\n",
       "<path d=\"M29.06,-7C34.61,-7 41.22,-7 47.54,-7\" fill=\"none\" stroke=\"#494744\"/>\n",
       "<polygon fill=\"#494744\" points=\"47.68,-10.5 57.68,-7 47.68,-3.5 47.68,-10.5\" stroke=\"#494744\"/>\n",
       "</g>\n",
       "</g>\n",
       "</svg>"
      ],
      "text/plain": [
       "<IPython.core.display.SVG object>"
      ]
     },
     "metadata": {},
     "output_type": "display_data"
    }
   ],
   "source": [
    "import logging\n",
    "logging.basicConfig(level=logging.DEBUG)\n",
    "\n",
    "import graphcat.notebook\n",
    "\n",
    "graph = graphcat.StaticGraph()\n",
    "logger = graphcat.Logger(graph)\n",
    "\n",
    "graph.add_task(\"a\", graphcat.constant(3.14))\n",
    "graph.add_task(\"b\", graphcat.passthrough())\n",
    "graph.add_links(\"a\", \"b\")\n",
    "\n",
    "graphcat.notebook.display(graph)"
   ]
  },
  {
   "cell_type": "markdown",
   "metadata": {},
   "source": [
    "When the task \"b\" output is requested, both tasks are executed and the value is returned:"
   ]
  },
  {
   "cell_type": "code",
   "execution_count": 2,
   "metadata": {},
   "outputs": [
    {
     "name": "stderr",
     "output_type": "stream",
     "text": [
      "INFO:graphcat.common:Task a updating.\n",
      "INFO:graphcat.common:Task a executing. Inputs: {}\n",
      "INFO:graphcat.common:Task a finished. Output: 3.14\n",
      "INFO:graphcat.common:Task b updating.\n",
      "INFO:graphcat.common:Task b executing. Inputs: {None: 3.14}\n",
      "INFO:graphcat.common:Task b finished. Output: 3.14\n"
     ]
    },
    {
     "name": "stdout",
     "output_type": "stream",
     "text": [
      "3.14\n"
     ]
    },
    {
     "data": {
      "image/svg+xml": [
       "<svg height=\"22pt\" viewBox=\"0.00 0.00 95.00 22.00\" width=\"95pt\" xmlns=\"http://www.w3.org/2000/svg\" xmlns:xlink=\"http://www.w3.org/1999/xlink\">\n",
       "<g class=\"graph\" id=\"graph0\" transform=\"scale(1 1) rotate(0) translate(4 18)\">\n",
       "<polygon fill=\"white\" points=\"-4,4 -4,-18 91,-18 91,4 -4,4\" stroke=\"transparent\"/>\n",
       "<!-- a -->\n",
       "<g class=\"node\" id=\"node1\">\n",
       "<title>a</title>\n",
       "<polygon fill=\"#494744\" points=\"29,-14 0,-14 0,0 29,0 29,-14\" stroke=\"#494744\"/>\n",
       "<text fill=\"white\" font-family=\"Helvetica,sans-Serif\" font-size=\"8.00\" text-anchor=\"middle\" x=\"14.5\" y=\"-4.6\">a</text>\n",
       "</g>\n",
       "<!-- b -->\n",
       "<g class=\"node\" id=\"node2\">\n",
       "<title>b</title>\n",
       "<polygon fill=\"#494744\" points=\"87,-14 58,-14 58,0 87,0 87,-14\" stroke=\"#494744\"/>\n",
       "<text fill=\"white\" font-family=\"Helvetica,sans-Serif\" font-size=\"8.00\" text-anchor=\"middle\" x=\"72.5\" y=\"-4.6\">b</text>\n",
       "</g>\n",
       "<!-- a&#45;&gt;b -->\n",
       "<g class=\"edge\" id=\"edge1\">\n",
       "<title>a-&gt;b</title>\n",
       "<path d=\"M29.06,-7C34.61,-7 41.22,-7 47.54,-7\" fill=\"none\" stroke=\"#494744\"/>\n",
       "<polygon fill=\"#494744\" points=\"47.68,-10.5 57.68,-7 47.68,-3.5 47.68,-10.5\" stroke=\"#494744\"/>\n",
       "</g>\n",
       "</g>\n",
       "</svg>"
      ],
      "text/plain": [
       "<IPython.core.display.SVG object>"
      ]
     },
     "metadata": {},
     "output_type": "display_data"
    }
   ],
   "source": [
    "print(graph.output(\"b\"))\n",
    "graphcat.notebook.display(graph)"
   ]
  },
  {
   "cell_type": "markdown",
   "metadata": {},
   "source": [
    "When the task \"a\" task function is modified, both tasks become unfinished:"
   ]
  },
  {
   "cell_type": "code",
   "execution_count": 3,
   "metadata": {},
   "outputs": [
    {
     "data": {
      "image/svg+xml": [
       "<svg height=\"22pt\" viewBox=\"0.00 0.00 95.00 22.00\" width=\"95pt\" xmlns=\"http://www.w3.org/2000/svg\" xmlns:xlink=\"http://www.w3.org/1999/xlink\">\n",
       "<g class=\"graph\" id=\"graph0\" transform=\"scale(1 1) rotate(0) translate(4 18)\">\n",
       "<polygon fill=\"white\" points=\"-4,4 -4,-18 91,-18 91,4 -4,4\" stroke=\"transparent\"/>\n",
       "<!-- a -->\n",
       "<g class=\"node\" id=\"node1\">\n",
       "<title>a</title>\n",
       "<polygon fill=\"white\" points=\"29,-14 0,-14 0,0 29,0 29,-14\" stroke=\"#494744\"/>\n",
       "<text fill=\"#494744\" font-family=\"Helvetica,sans-Serif\" font-size=\"8.00\" text-anchor=\"middle\" x=\"14.5\" y=\"-4.6\">a</text>\n",
       "</g>\n",
       "<!-- b -->\n",
       "<g class=\"node\" id=\"node2\">\n",
       "<title>b</title>\n",
       "<polygon fill=\"white\" points=\"87,-14 58,-14 58,0 87,0 87,-14\" stroke=\"#494744\"/>\n",
       "<text fill=\"#494744\" font-family=\"Helvetica,sans-Serif\" font-size=\"8.00\" text-anchor=\"middle\" x=\"72.5\" y=\"-4.6\">b</text>\n",
       "</g>\n",
       "<!-- a&#45;&gt;b -->\n",
       "<g class=\"edge\" id=\"edge1\">\n",
       "<title>a-&gt;b</title>\n",
       "<path d=\"M29.06,-7C34.61,-7 41.22,-7 47.54,-7\" fill=\"none\" stroke=\"#494744\"/>\n",
       "<polygon fill=\"#494744\" points=\"47.68,-10.5 57.68,-7 47.68,-3.5 47.68,-10.5\" stroke=\"#494744\"/>\n",
       "</g>\n",
       "</g>\n",
       "</svg>"
      ],
      "text/plain": [
       "<IPython.core.display.SVG object>"
      ]
     },
     "metadata": {},
     "output_type": "display_data"
    }
   ],
   "source": [
    "graph.set_task(\"a\", graphcat.constant(42))\n",
    "graphcat.notebook.display(graph)"
   ]
  },
  {
   "cell_type": "markdown",
   "metadata": {},
   "source": [
    "Retrieving the task \"b\" output executes both tasks again before they become finished:"
   ]
  },
  {
   "cell_type": "code",
   "execution_count": 4,
   "metadata": {},
   "outputs": [
    {
     "name": "stderr",
     "output_type": "stream",
     "text": [
      "INFO:graphcat.common:Task a updating.\n",
      "INFO:graphcat.common:Task a executing. Inputs: {}\n",
      "INFO:graphcat.common:Task a finished. Output: 42\n",
      "INFO:graphcat.common:Task b updating.\n",
      "INFO:graphcat.common:Task b executing. Inputs: {None: 42}\n",
      "INFO:graphcat.common:Task b finished. Output: 42\n"
     ]
    },
    {
     "name": "stdout",
     "output_type": "stream",
     "text": [
      "42\n"
     ]
    },
    {
     "data": {
      "image/svg+xml": [
       "<svg height=\"22pt\" viewBox=\"0.00 0.00 95.00 22.00\" width=\"95pt\" xmlns=\"http://www.w3.org/2000/svg\" xmlns:xlink=\"http://www.w3.org/1999/xlink\">\n",
       "<g class=\"graph\" id=\"graph0\" transform=\"scale(1 1) rotate(0) translate(4 18)\">\n",
       "<polygon fill=\"white\" points=\"-4,4 -4,-18 91,-18 91,4 -4,4\" stroke=\"transparent\"/>\n",
       "<!-- a -->\n",
       "<g class=\"node\" id=\"node1\">\n",
       "<title>a</title>\n",
       "<polygon fill=\"#494744\" points=\"29,-14 0,-14 0,0 29,0 29,-14\" stroke=\"#494744\"/>\n",
       "<text fill=\"white\" font-family=\"Helvetica,sans-Serif\" font-size=\"8.00\" text-anchor=\"middle\" x=\"14.5\" y=\"-4.6\">a</text>\n",
       "</g>\n",
       "<!-- b -->\n",
       "<g class=\"node\" id=\"node2\">\n",
       "<title>b</title>\n",
       "<polygon fill=\"#494744\" points=\"87,-14 58,-14 58,0 87,0 87,-14\" stroke=\"#494744\"/>\n",
       "<text fill=\"white\" font-family=\"Helvetica,sans-Serif\" font-size=\"8.00\" text-anchor=\"middle\" x=\"72.5\" y=\"-4.6\">b</text>\n",
       "</g>\n",
       "<!-- a&#45;&gt;b -->\n",
       "<g class=\"edge\" id=\"edge1\">\n",
       "<title>a-&gt;b</title>\n",
       "<path d=\"M29.06,-7C34.61,-7 41.22,-7 47.54,-7\" fill=\"none\" stroke=\"#494744\"/>\n",
       "<polygon fill=\"#494744\" points=\"47.68,-10.5 57.68,-7 47.68,-3.5 47.68,-10.5\" stroke=\"#494744\"/>\n",
       "</g>\n",
       "</g>\n",
       "</svg>"
      ],
      "text/plain": [
       "<IPython.core.display.SVG object>"
      ]
     },
     "metadata": {},
     "output_type": "display_data"
    }
   ],
   "source": [
    "print(graph.output(\"b\"))\n",
    "graphcat.notebook.display(graph)"
   ]
  },
  {
   "cell_type": "markdown",
   "metadata": {},
   "source": [
    "All this is expected.  But what if we were to assign a task function to \"a\" that returns the same value as the current function?  What if task \"b\" takes a long time to execute?  You may be concerned that this could lead to lots of unnecessary computation, if downstream tasks have to execute even though the upstream value hasn't actually changed.\n",
    "\n",
    "Not to worry, Graphcat has your back!  Let's try assigning the same task function as before:"
   ]
  },
  {
   "cell_type": "code",
   "execution_count": 5,
   "metadata": {},
   "outputs": [
    {
     "data": {
      "image/svg+xml": [
       "<svg height=\"22pt\" viewBox=\"0.00 0.00 95.00 22.00\" width=\"95pt\" xmlns=\"http://www.w3.org/2000/svg\" xmlns:xlink=\"http://www.w3.org/1999/xlink\">\n",
       "<g class=\"graph\" id=\"graph0\" transform=\"scale(1 1) rotate(0) translate(4 18)\">\n",
       "<polygon fill=\"white\" points=\"-4,4 -4,-18 91,-18 91,4 -4,4\" stroke=\"transparent\"/>\n",
       "<!-- a -->\n",
       "<g class=\"node\" id=\"node1\">\n",
       "<title>a</title>\n",
       "<polygon fill=\"#494744\" points=\"29,-14 0,-14 0,0 29,0 29,-14\" stroke=\"#494744\"/>\n",
       "<text fill=\"white\" font-family=\"Helvetica,sans-Serif\" font-size=\"8.00\" text-anchor=\"middle\" x=\"14.5\" y=\"-4.6\">a</text>\n",
       "</g>\n",
       "<!-- b -->\n",
       "<g class=\"node\" id=\"node2\">\n",
       "<title>b</title>\n",
       "<polygon fill=\"#494744\" points=\"87,-14 58,-14 58,0 87,0 87,-14\" stroke=\"#494744\"/>\n",
       "<text fill=\"white\" font-family=\"Helvetica,sans-Serif\" font-size=\"8.00\" text-anchor=\"middle\" x=\"72.5\" y=\"-4.6\">b</text>\n",
       "</g>\n",
       "<!-- a&#45;&gt;b -->\n",
       "<g class=\"edge\" id=\"edge1\">\n",
       "<title>a-&gt;b</title>\n",
       "<path d=\"M29.06,-7C34.61,-7 41.22,-7 47.54,-7\" fill=\"none\" stroke=\"#494744\"/>\n",
       "<polygon fill=\"#494744\" points=\"47.68,-10.5 57.68,-7 47.68,-3.5 47.68,-10.5\" stroke=\"#494744\"/>\n",
       "</g>\n",
       "</g>\n",
       "</svg>"
      ],
      "text/plain": [
       "<IPython.core.display.SVG object>"
      ]
     },
     "metadata": {},
     "output_type": "display_data"
    }
   ],
   "source": [
    "graph.set_task(\"a\", graphcat.constant(42))\n",
    "graphcat.notebook.display(graph)"
   ]
  },
  {
   "cell_type": "markdown",
   "metadata": {},
   "source": [
    "Notice that even though we assigned a new task function to \"a\", both tasks are still marked as finished.  Continuing on:"
   ]
  },
  {
   "cell_type": "code",
   "execution_count": 6,
   "metadata": {},
   "outputs": [
    {
     "name": "stderr",
     "output_type": "stream",
     "text": [
      "INFO:graphcat.common:Task a updating.\n",
      "INFO:graphcat.common:Task b updating.\n"
     ]
    },
    {
     "name": "stdout",
     "output_type": "stream",
     "text": [
      "42\n"
     ]
    },
    {
     "data": {
      "image/svg+xml": [
       "<svg height=\"22pt\" viewBox=\"0.00 0.00 95.00 22.00\" width=\"95pt\" xmlns=\"http://www.w3.org/2000/svg\" xmlns:xlink=\"http://www.w3.org/1999/xlink\">\n",
       "<g class=\"graph\" id=\"graph0\" transform=\"scale(1 1) rotate(0) translate(4 18)\">\n",
       "<polygon fill=\"white\" points=\"-4,4 -4,-18 91,-18 91,4 -4,4\" stroke=\"transparent\"/>\n",
       "<!-- a -->\n",
       "<g class=\"node\" id=\"node1\">\n",
       "<title>a</title>\n",
       "<polygon fill=\"#494744\" points=\"29,-14 0,-14 0,0 29,0 29,-14\" stroke=\"#494744\"/>\n",
       "<text fill=\"white\" font-family=\"Helvetica,sans-Serif\" font-size=\"8.00\" text-anchor=\"middle\" x=\"14.5\" y=\"-4.6\">a</text>\n",
       "</g>\n",
       "<!-- b -->\n",
       "<g class=\"node\" id=\"node2\">\n",
       "<title>b</title>\n",
       "<polygon fill=\"#494744\" points=\"87,-14 58,-14 58,0 87,0 87,-14\" stroke=\"#494744\"/>\n",
       "<text fill=\"white\" font-family=\"Helvetica,sans-Serif\" font-size=\"8.00\" text-anchor=\"middle\" x=\"72.5\" y=\"-4.6\">b</text>\n",
       "</g>\n",
       "<!-- a&#45;&gt;b -->\n",
       "<g class=\"edge\" id=\"edge1\">\n",
       "<title>a-&gt;b</title>\n",
       "<path d=\"M29.06,-7C34.61,-7 41.22,-7 47.54,-7\" fill=\"none\" stroke=\"#494744\"/>\n",
       "<polygon fill=\"#494744\" points=\"47.68,-10.5 57.68,-7 47.68,-3.5 47.68,-10.5\" stroke=\"#494744\"/>\n",
       "</g>\n",
       "</g>\n",
       "</svg>"
      ],
      "text/plain": [
       "<IPython.core.display.SVG object>"
      ]
     },
     "metadata": {},
     "output_type": "display_data"
    }
   ],
   "source": [
    "print(graph.output(\"b\"))\n",
    "graphcat.notebook.display(graph)"
   ]
  },
  {
   "cell_type": "raw",
   "metadata": {
    "raw_mimetype": "text/restructuredtext"
   },
   "source": [
    "Neither task is executed, and the returned value is the same.  What's going on here?  How does Graphcat know?\n",
    "\n",
    "In a nutshell, when setting the function for a task, Graphcat only marks the task as unfinished if the new task function compares unequal to the old function.  The :func:`constant<graphcat.common.constant>` function returns instances of a callable class - :class:`Constant<graphcat.common.Constant>`, which is what is executed by the graph.  Normally, two instances of a Python object will always compare unequal, even when they're of the same type, but :class:`Constant<graphcat.common.Constant>` overloads the equality operator ``__eq__`` so that two instances compare equal if their return values compare equal.  Thus, multiple calls to ``set_task()`` using :func:`constant<graphcat.common.constant>` won't necessarily trigger execution.\n",
    "\n",
    "You can apply this approach to your own task functions to (carefully!) suppress unnecessary updates.  For example, you might create your own version of :class:`Constant<graphcat.common.Constant>` that only considers two floating point values unequal if they differ by more than some threshold.  Then, you could feed incoming data continuously from a sensor to the graph, with the graph executing only when the data changes significantly, using your own definition of significance. "
   ]
  }
 ],
 "metadata": {
  "celltoolbar": "Raw Cell Format",
  "kernelspec": {
   "display_name": "Python 3",
   "language": "python",
   "name": "python3"
  },
  "language_info": {
   "codemirror_mode": {
    "name": "ipython",
    "version": 3
   },
   "file_extension": ".py",
   "mimetype": "text/x-python",
   "name": "python",
   "nbconvert_exporter": "python",
   "pygments_lexer": "ipython3",
   "version": "3.7.7"
  }
 },
 "nbformat": 4,
 "nbformat_minor": 4
}
