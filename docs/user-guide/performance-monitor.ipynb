{
 "cells": [
  {
   "cell_type": "markdown",
   "metadata": {},
   "source": [
    "# Performance Monitoring\n",
    "\n",
    "As your computational graphs become more complex, it can be helpful to see which tasks are being executed, and how long it takes.  To demonstrate how to do this, let's start with a simple graph that simulates some long-running tasks:"
   ]
  },
  {
   "cell_type": "code",
   "execution_count": 1,
   "metadata": {},
   "outputs": [],
   "source": [
    "import graphcat\n",
    "\n",
    "graph = graphcat.StaticGraph()\n",
    "graph.set_task(\"A\", graphcat.delay(2))\n",
    "graph.set_task(\"B\", graphcat.delay(1))\n",
    "graph.set_task(\"C\", graphcat.delay(0.1))\n",
    "graph.set_task(\"D\", graphcat.null)\n",
    "graph.add_links(\"A\", \"B\")\n",
    "graph.add_links(\"B\", [\"C\", \"D\"])"
   ]
  },
  {
   "cell_type": "raw",
   "metadata": {
    "raw_mimetype": "text/restructuredtext"
   },
   "source": [
    "Note that we've used :func:`graphcat.delay<graphcat.common.delay>` - which simply sleeps for the given time in seconds - as the task functions.  Now, before we update the graph, we'll create an instance of :class:`graphcat.PerformanceMonitor<graphcat.common.PerformanceMonitor>`, which will handle gathering information about each task as it executes: "
   ]
  },
  {
   "cell_type": "code",
   "execution_count": 2,
   "metadata": {},
   "outputs": [],
   "source": [
    "monitor = graphcat.PerformanceMonitor(graph)"
   ]
  },
  {
   "cell_type": "markdown",
   "metadata": {},
   "source": [
    "Now, we're ready to execute the graph and visualize the results:"
   ]
  },
  {
   "cell_type": "code",
   "execution_count": 3,
   "metadata": {},
   "outputs": [],
   "source": [
    "graph.update(\"C\")"
   ]
  },
  {
   "cell_type": "code",
   "execution_count": 4,
   "metadata": {
    "tags": [
     "nbsphinx-thumbnail"
    ]
   },
   "outputs": [
    {
     "data": {
      "image/svg+xml": [
       "<svg xmlns=\"http://www.w3.org/2000/svg\" xmlns:xlink=\"http://www.w3.org/1999/xlink\" width=\"126pt\" height=\"120pt\" viewBox=\"0.00 0.00 126.00 120.00\">\n",
       "<g id=\"graph0\" class=\"graph\" transform=\"scale(1 1) rotate(0) translate(4 116)\">\n",
       "<polygon fill=\"#ffffff\" stroke=\"transparent\" points=\"-4,4 -4,-116 122,-116 122,4 -4,4\"/>\n",
       "<!-- A -->\n",
       "<g id=\"node1\" class=\"node\">\n",
       "<title>A</title>\n",
       "<polygon fill=\"#494744\" stroke=\"#494744\" points=\"94,-103 65,-103 65,-88 94,-88 94,-103\"/>\n",
       "<text text-anchor=\"middle\" x=\"79.5\" y=\"-93.6\" font-family=\"Helvetica,sans-Serif\" font-size=\"8.00\" fill=\"#ffffff\">A</text>\n",
       "<text text-anchor=\"start\" x=\"23\" y=\"-106.6\" font-family=\"Helvetica,sans-Serif\" font-size=\"8.00\" fill=\"#ff0000\">⬤</text>\n",
       "<text text-anchor=\"start\" x=\"33\" y=\"-106.6\" font-family=\"Helvetica,sans-Serif\" font-size=\"8.00\" fill=\"#ffffff\"> </text>\n",
       "<text text-anchor=\"start\" x=\"36\" y=\"-106.6\" font-family=\"Helvetica,sans-Serif\" font-size=\"8.00\" fill=\"#000000\">2.0008s</text>\n",
       "</g>\n",
       "<!-- B -->\n",
       "<g id=\"node2\" class=\"node\">\n",
       "<title>B</title>\n",
       "<polygon fill=\"#494744\" stroke=\"#494744\" points=\"94,-59 65,-59 65,-44 94,-44 94,-59\"/>\n",
       "<text text-anchor=\"middle\" x=\"79.5\" y=\"-49.6\" font-family=\"Helvetica,sans-Serif\" font-size=\"8.00\" fill=\"#ffffff\">B</text>\n",
       "<text text-anchor=\"start\" x=\"23\" y=\"-62.6\" font-family=\"Helvetica,sans-Serif\" font-size=\"8.00\" fill=\"#ffaa00\">⬤</text>\n",
       "<text text-anchor=\"start\" x=\"33\" y=\"-62.6\" font-family=\"Helvetica,sans-Serif\" font-size=\"8.00\" fill=\"#ffffff\"> </text>\n",
       "<text text-anchor=\"start\" x=\"36\" y=\"-62.6\" font-family=\"Helvetica,sans-Serif\" font-size=\"8.00\" fill=\"#000000\">1.0007s</text>\n",
       "</g>\n",
       "<!-- A&#45;&#45;B -->\n",
       "<g id=\"edge1\" class=\"edge\">\n",
       "<title>A--B</title>\n",
       "<path fill=\"none\" stroke=\"#494744\" d=\"M79.5,-87.8358C79.5,-79.7599 79.5,-67.119 79.5,-59.0764\"/>\n",
       "</g>\n",
       "<!-- C -->\n",
       "<g id=\"node3\" class=\"node\">\n",
       "<title>C</title>\n",
       "<polygon fill=\"#494744\" stroke=\"#494744\" points=\"71,-15 42,-15 42,0 71,0 71,-15\"/>\n",
       "<text text-anchor=\"middle\" x=\"56.5\" y=\"-5.6\" font-family=\"Helvetica,sans-Serif\" font-size=\"8.00\" fill=\"#ffffff\">C</text>\n",
       "<text text-anchor=\"start\" x=\"0\" y=\"-18.6\" font-family=\"Helvetica,sans-Serif\" font-size=\"8.00\" fill=\"#00ff00\">⬤</text>\n",
       "<text text-anchor=\"start\" x=\"10\" y=\"-18.6\" font-family=\"Helvetica,sans-Serif\" font-size=\"8.00\" fill=\"#ffffff\"> </text>\n",
       "<text text-anchor=\"start\" x=\"13\" y=\"-18.6\" font-family=\"Helvetica,sans-Serif\" font-size=\"8.00\" fill=\"#000000\">0.1036s</text>\n",
       "</g>\n",
       "<!-- B&#45;&#45;C -->\n",
       "<g id=\"edge2\" class=\"edge\">\n",
       "<title>B--C</title>\n",
       "<path fill=\"none\" stroke=\"#494744\" d=\"M75.4937,-43.8358C71.2722,-35.7599 64.6645,-23.119 60.4604,-15.0764\"/>\n",
       "</g>\n",
       "<!-- D -->\n",
       "<g id=\"node4\" class=\"node\">\n",
       "<title>D</title>\n",
       "<polygon fill=\"#ffffff\" stroke=\"#494744\" points=\"118,-15 89,-15 89,0 118,0 118,-15\"/>\n",
       "<text text-anchor=\"middle\" x=\"103.5\" y=\"-5.6\" font-family=\"Helvetica,sans-Serif\" font-size=\"8.00\" fill=\"#494744\">D</text>\n",
       "</g>\n",
       "<!-- B&#45;&#45;D -->\n",
       "<g id=\"edge3\" class=\"edge\">\n",
       "<title>B--D</title>\n",
       "<path fill=\"none\" stroke=\"#494744\" d=\"M83.6805,-43.8358C88.0855,-35.7599 94.9805,-23.119 99.3674,-15.0764\"/>\n",
       "</g>\n",
       "</g>\n",
       "</svg>"
      ],
      "text/plain": [
       "<IPython.core.display.SVG object>"
      ]
     },
     "metadata": {},
     "output_type": "display_data"
    }
   ],
   "source": [
    "import graphcat.diagram\n",
    "import graphcat.notebook\n",
    "\n",
    "agraph = graphcat.diagram.draw(graph, rankdir=\"TB\")\n",
    "agraph = graphcat.diagram.performance(agraph, monitor)\n",
    "graphcat.notebook.display(agraph)"
   ]
  },
  {
   "cell_type": "raw",
   "metadata": {
    "raw_mimetype": "text/restructuredtext"
   },
   "source": [
    "Note that :func:`graphcat.diagram.performance` operates by supplementing the data in the original diagram.  See :ref:`visualization` for more details.\n",
    "\n",
    "As you can see, when we merge the performance data into our graph diagram, every task that executes displays the time it took, with a color coded dot highlighting which tasks were the slowest.\n",
    "\n",
    "You can also access the performance data manually, as a mapping from tasks to execution times:"
   ]
  },
  {
   "cell_type": "code",
   "execution_count": 5,
   "metadata": {},
   "outputs": [
    {
     "data": {
      "text/plain": [
       "{'A': [2.0007550716400146],\n",
       " 'B': [1.0006828308105469],\n",
       " 'C': [0.10363316535949707]}"
      ]
     },
     "execution_count": 5,
     "metadata": {},
     "output_type": "execute_result"
    }
   ],
   "source": [
    "monitor.tasks"
   ]
  },
  {
   "cell_type": "markdown",
   "metadata": {},
   "source": [
    "Note that the execution times are stored in a list, so you can track multiple times, not just the most recent.  For example, if we force task \"C\" to execute again:"
   ]
  },
  {
   "cell_type": "code",
   "execution_count": 6,
   "metadata": {},
   "outputs": [
    {
     "data": {
      "text/plain": [
       "{'A': [2.0007550716400146],\n",
       " 'B': [1.0006828308105469],\n",
       " 'C': [0.10363316535949707, 0.10011696815490723]}"
      ]
     },
     "execution_count": 6,
     "metadata": {},
     "output_type": "execute_result"
    }
   ],
   "source": [
    "graph.mark_unfinished(\"C\")\n",
    "graph.update(\"C\")\n",
    "monitor.tasks"
   ]
  },
  {
   "cell_type": "markdown",
   "metadata": {},
   "source": [
    "Finally, the monitor can be reset to begin recording times from scratch:"
   ]
  },
  {
   "cell_type": "code",
   "execution_count": 7,
   "metadata": {},
   "outputs": [
    {
     "data": {
      "text/plain": [
       "{'C': [0.1026008129119873]}"
      ]
     },
     "execution_count": 7,
     "metadata": {},
     "output_type": "execute_result"
    }
   ],
   "source": [
    "monitor.reset()\n",
    "graph.mark_unfinished(\"C\")\n",
    "graph.update(\"C\")\n",
    "monitor.tasks"
   ]
  }
 ],
 "metadata": {
  "celltoolbar": "Raw Cell Format",
  "kernelspec": {
   "display_name": "Python 3",
   "language": "python",
   "name": "python3"
  },
  "language_info": {
   "codemirror_mode": {
    "name": "ipython",
    "version": 3
   },
   "file_extension": ".py",
   "mimetype": "text/x-python",
   "name": "python",
   "nbconvert_exporter": "python",
   "pygments_lexer": "ipython3",
   "version": "3.8.2"
  }
 },
 "nbformat": 4,
 "nbformat_minor": 4
}
