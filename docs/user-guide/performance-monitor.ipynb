{
 "cells": [
  {
   "cell_type": "markdown",
   "metadata": {},
   "source": [
    "# Performance Monitoring\n",
    "\n",
    "As your computational graphs become more complex, it can be helpful to see which tasks are being executed, and how long it takes.  To demonstrate how to do this, let's start with a simple graph that simulates some long-running tasks:"
   ]
  },
  {
   "cell_type": "code",
   "execution_count": 1,
   "metadata": {},
   "outputs": [],
   "source": [
    "import graphcat\n",
    "\n",
    "graph = graphcat.StaticGraph()\n",
    "graph.set_task(\"A\", graphcat.delay(2))\n",
    "graph.set_task(\"B\", graphcat.delay(1))\n",
    "graph.set_task(\"C\", graphcat.delay(0.1))\n",
    "graph.set_task(\"D\", graphcat.null)\n",
    "graph.add_links(\"A\", \"B\")\n",
    "graph.add_links(\"B\", [\"C\", \"D\"])"
   ]
  },
  {
   "cell_type": "raw",
   "metadata": {
    "raw_mimetype": "text/restructuredtext"
   },
   "source": [
    "Note that we've used :func:`graphcat.delay<graphcat.common.delay>` - which simply sleeps for the given time in seconds - as the task functions.  Now, before we update the graph, we'll create an instance of :class:`graphcat.PerformanceMonitor<graphcat.common.PerformanceMonitor>`, which will handle gathering information about each task as it executes: "
   ]
  },
  {
   "cell_type": "code",
   "execution_count": 2,
   "metadata": {},
   "outputs": [],
   "source": [
    "monitor = graphcat.PerformanceMonitor(graph)"
   ]
  },
  {
   "cell_type": "markdown",
   "metadata": {},
   "source": [
    "Now, we're ready to execute the graph and visualize the results:"
   ]
  },
  {
   "cell_type": "code",
   "execution_count": 3,
   "metadata": {},
   "outputs": [],
   "source": [
    "graph.update(\"C\")"
   ]
  },
  {
   "cell_type": "code",
   "execution_count": 4,
   "metadata": {
    "tags": [
     "nbsphinx-thumbnail"
    ]
   },
   "outputs": [
    {
     "data": {
      "image/svg+xml": [
       "<svg height=\"120pt\" viewBox=\"0.00 0.00 124.35 120.08\" width=\"124pt\" xmlns=\"http://www.w3.org/2000/svg\" xmlns:xlink=\"http://www.w3.org/1999/xlink\">\n",
       "<g class=\"graph\" id=\"graph0\" transform=\"scale(1 1) rotate(0) translate(4 116.08)\">\n",
       "<polygon fill=\"white\" points=\"-4,4 -4,-116.08 120.35,-116.08 120.35,4 -4,4\" stroke=\"transparent\"/>\n",
       "<!-- A -->\n",
       "<g class=\"node\" id=\"node1\">\n",
       "<title>A</title>\n",
       "<polygon fill=\"#494744\" points=\"92.35,-100 63.35,-100 63.35,-86 92.35,-86 92.35,-100\" stroke=\"#494744\"/>\n",
       "<text fill=\"white\" font-family=\"Helvetica,sans-Serif\" font-size=\"8.00\" text-anchor=\"middle\" x=\"77.85\" y=\"-90.6\">A</text>\n",
       "<text fill=\"red\" font-family=\"Helvetica,sans-Serif\" font-size=\"8.00\" text-anchor=\"start\" x=\"23\" y=\"-106.68\">⬤</text>\n",
       "<text fill=\"white\" font-family=\"Helvetica,sans-Serif\" font-size=\"8.00\" text-anchor=\"start\" x=\"32.66\" y=\"-106.68\"> </text>\n",
       "<text font-family=\"Helvetica,sans-Serif\" font-size=\"8.00\" text-anchor=\"start\" x=\"34.88\" y=\"-106.68\">2.0040s</text>\n",
       "</g>\n",
       "<!-- B -->\n",
       "<g class=\"node\" id=\"node2\">\n",
       "<title>B</title>\n",
       "<polygon fill=\"#494744\" points=\"92.35,-57 63.35,-57 63.35,-43 92.35,-43 92.35,-57\" stroke=\"#494744\"/>\n",
       "<text fill=\"white\" font-family=\"Helvetica,sans-Serif\" font-size=\"8.00\" text-anchor=\"middle\" x=\"77.85\" y=\"-47.6\">B</text>\n",
       "<text fill=\"#ffaa00\" font-family=\"Helvetica,sans-Serif\" font-size=\"8.00\" text-anchor=\"start\" x=\"23\" y=\"-63.68\">⬤</text>\n",
       "<text fill=\"white\" font-family=\"Helvetica,sans-Serif\" font-size=\"8.00\" text-anchor=\"start\" x=\"32.66\" y=\"-63.68\"> </text>\n",
       "<text font-family=\"Helvetica,sans-Serif\" font-size=\"8.00\" text-anchor=\"start\" x=\"34.88\" y=\"-63.68\">1.0020s</text>\n",
       "</g>\n",
       "<!-- A&#45;&gt;B -->\n",
       "<g class=\"edge\" id=\"edge1\">\n",
       "<title>A-&gt;B</title>\n",
       "<path d=\"M77.85,-85.95C77.85,-80.98 77.85,-73.72 77.85,-67.09\" fill=\"none\" stroke=\"#494744\"/>\n",
       "<polygon fill=\"#494744\" points=\"81.35,-67.07 77.85,-57.07 74.35,-67.07 81.35,-67.07\" stroke=\"#494744\"/>\n",
       "</g>\n",
       "<!-- C -->\n",
       "<g class=\"node\" id=\"node3\">\n",
       "<title>C</title>\n",
       "<polygon fill=\"#494744\" points=\"69.35,-14 40.35,-14 40.35,0 69.35,0 69.35,-14\" stroke=\"#494744\"/>\n",
       "<text fill=\"white\" font-family=\"Helvetica,sans-Serif\" font-size=\"8.00\" text-anchor=\"middle\" x=\"54.85\" y=\"-4.6\">C</text>\n",
       "<text fill=\"green\" font-family=\"Helvetica,sans-Serif\" font-size=\"8.00\" text-anchor=\"start\" x=\"0\" y=\"-20.68\">⬤</text>\n",
       "<text fill=\"white\" font-family=\"Helvetica,sans-Serif\" font-size=\"8.00\" text-anchor=\"start\" x=\"9.66\" y=\"-20.68\"> </text>\n",
       "<text font-family=\"Helvetica,sans-Serif\" font-size=\"8.00\" text-anchor=\"start\" x=\"11.88\" y=\"-20.68\">0.1032s</text>\n",
       "</g>\n",
       "<!-- B&#45;&gt;C -->\n",
       "<g class=\"edge\" id=\"edge2\">\n",
       "<title>B-&gt;C</title>\n",
       "<path d=\"M74.45,-42.95C71.53,-37.74 67.19,-30 63.33,-23.13\" fill=\"none\" stroke=\"#494744\"/>\n",
       "<polygon fill=\"#494744\" points=\"66.2,-21.08 58.26,-14.07 60.1,-24.51 66.2,-21.08\" stroke=\"#494744\"/>\n",
       "</g>\n",
       "<!-- D -->\n",
       "<g class=\"node\" id=\"node4\">\n",
       "<title>D</title>\n",
       "<polygon fill=\"white\" points=\"116.35,-14 87.35,-14 87.35,0 116.35,0 116.35,-14\" stroke=\"#494744\"/>\n",
       "<text fill=\"#494744\" font-family=\"Helvetica,sans-Serif\" font-size=\"8.00\" text-anchor=\"middle\" x=\"101.85\" y=\"-4.6\">D</text>\n",
       "</g>\n",
       "<!-- B&#45;&gt;D -->\n",
       "<g class=\"edge\" id=\"edge3\">\n",
       "<title>B-&gt;D</title>\n",
       "<path d=\"M81.39,-42.95C84.44,-37.74 88.97,-30 92.99,-23.13\" fill=\"none\" stroke=\"#494744\"/>\n",
       "<polygon fill=\"#494744\" points=\"96.26,-24.47 98.29,-14.07 90.22,-20.94 96.26,-24.47\" stroke=\"#494744\"/>\n",
       "</g>\n",
       "</g>\n",
       "</svg>"
      ],
      "text/plain": [
       "<IPython.core.display.SVG object>"
      ]
     },
     "metadata": {},
     "output_type": "display_data"
    }
   ],
   "source": [
    "import IPython.display\n",
    "import graphcat.diagram\n",
    "\n",
    "agraph = graphcat.diagram.draw(graph, rankdir=\"TB\")\n",
    "agraph = graphcat.diagram.performance(agraph, monitor)\n",
    "IPython.display.display(IPython.display.SVG(data=agraph.draw(prog=\"dot\", format=\"svg\")))"
   ]
  },
  {
   "cell_type": "raw",
   "metadata": {
    "raw_mimetype": "text/restructuredtext"
   },
   "source": [
    "(Note how :func:`graphcat.diagram.performance` operates by supplementing the data in the original diagram.  See :ref:`visualization` for more details.)\n",
    "\n",
    "As you can see, when we merge the performance data into our graph diagram, every task that executes displays the time it took, with a color coded dot highlighting which tasks were the slowest.\n",
    "\n",
    "You can also access the performance data manually, as a mapping from tasks to execution times:"
   ]
  },
  {
   "cell_type": "code",
   "execution_count": 5,
   "metadata": {},
   "outputs": [
    {
     "data": {
      "text/plain": [
       "{'A': [2.0040459632873535],\n",
       " 'B': [1.0019850730895996],\n",
       " 'C': [0.1031801700592041]}"
      ]
     },
     "execution_count": 5,
     "metadata": {},
     "output_type": "execute_result"
    }
   ],
   "source": [
    "monitor.tasks"
   ]
  },
  {
   "cell_type": "markdown",
   "metadata": {},
   "source": [
    "Note that the execution times are stored in a list, so you can track multiple times, not just the most recent.  For example, if we force task \"C\" to execute again:"
   ]
  },
  {
   "cell_type": "code",
   "execution_count": 6,
   "metadata": {},
   "outputs": [
    {
     "data": {
      "text/plain": [
       "{'A': [2.0040459632873535],\n",
       " 'B': [1.0019850730895996],\n",
       " 'C': [0.1031801700592041, 0.10486292839050293]}"
      ]
     },
     "execution_count": 6,
     "metadata": {},
     "output_type": "execute_result"
    }
   ],
   "source": [
    "graph.mark_unfinished(\"C\")\n",
    "graph.update(\"C\")\n",
    "monitor.tasks"
   ]
  },
  {
   "cell_type": "markdown",
   "metadata": {},
   "source": [
    "Finally, the monitor can be reset to begin recording times from scratch:"
   ]
  },
  {
   "cell_type": "code",
   "execution_count": 7,
   "metadata": {},
   "outputs": [
    {
     "data": {
      "text/plain": [
       "{'C': [0.10482525825500488]}"
      ]
     },
     "execution_count": 7,
     "metadata": {},
     "output_type": "execute_result"
    }
   ],
   "source": [
    "monitor.reset()\n",
    "graph.mark_unfinished(\"C\")\n",
    "graph.update(\"C\")\n",
    "monitor.tasks"
   ]
  }
 ],
 "metadata": {
  "celltoolbar": "Raw Cell Format",
  "kernelspec": {
   "display_name": "Python 3",
   "language": "python",
   "name": "python3"
  },
  "language_info": {
   "codemirror_mode": {
    "name": "ipython",
    "version": 3
   },
   "file_extension": ".py",
   "mimetype": "text/x-python",
   "name": "python",
   "nbconvert_exporter": "python",
   "pygments_lexer": "ipython3",
   "version": "3.7.7"
  }
 },
 "nbformat": 4,
 "nbformat_minor": 4
}
