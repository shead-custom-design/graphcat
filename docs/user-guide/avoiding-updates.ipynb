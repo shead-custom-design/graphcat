{
 "cells": [
  {
   "cell_type": "raw",
   "metadata": {
    "raw_mimetype": "text/restructuredtext"
   },
   "source": [
    ".. _avoiding-updates:\n",
    "\n",
    "Avoiding Updates\n",
    "================\n",
    "\n",
    "Consider the following, trivial graph:"
   ]
  },
  {
   "cell_type": "code",
   "execution_count": 1,
   "metadata": {},
   "outputs": [
    {
     "data": {
      "image/svg+xml": [
       "<svg height=\"22pt\" viewBox=\"0.00 0.00 95.00 22.00\" width=\"95pt\" xmlns=\"http://www.w3.org/2000/svg\" xmlns:xlink=\"http://www.w3.org/1999/xlink\">\n",
       "<g class=\"graph\" id=\"graph0\" transform=\"scale(1 1) rotate(0) translate(4 18)\">\n",
       "<polygon fill=\"white\" points=\"-4,4 -4,-18 91,-18 91,4 -4,4\" stroke=\"transparent\"/>\n",
       "<!-- A -->\n",
       "<g class=\"node\" id=\"node1\">\n",
       "<title>A</title>\n",
       "<polygon fill=\"white\" points=\"29,-14 0,-14 0,0 29,0 29,-14\" stroke=\"#494744\"/>\n",
       "<text fill=\"#494744\" font-family=\"Helvetica,sans-Serif\" font-size=\"8.00\" text-anchor=\"middle\" x=\"14.5\" y=\"-4.6\">A</text>\n",
       "</g>\n",
       "<!-- B -->\n",
       "<g class=\"node\" id=\"node2\">\n",
       "<title>B</title>\n",
       "<polygon fill=\"white\" points=\"87,-14 58,-14 58,0 87,0 87,-14\" stroke=\"#494744\"/>\n",
       "<text fill=\"#494744\" font-family=\"Helvetica,sans-Serif\" font-size=\"8.00\" text-anchor=\"middle\" x=\"72.5\" y=\"-4.6\">B</text>\n",
       "</g>\n",
       "<!-- A&#45;&gt;B -->\n",
       "<g class=\"edge\" id=\"edge1\">\n",
       "<title>A-&gt;B</title>\n",
       "<path d=\"M29.06,-7C34.61,-7 41.22,-7 47.54,-7\" fill=\"none\" stroke=\"#494744\"/>\n",
       "<polygon fill=\"#494744\" points=\"47.68,-10.5 57.68,-7 47.68,-3.5 47.68,-10.5\" stroke=\"#494744\"/>\n",
       "</g>\n",
       "</g>\n",
       "</svg>"
      ],
      "text/plain": [
       "<IPython.core.display.SVG object>"
      ]
     },
     "metadata": {},
     "output_type": "display_data"
    }
   ],
   "source": [
    "import logging\n",
    "logging.basicConfig(level=logging.DEBUG)\n",
    "\n",
    "import graphcat.notebook\n",
    "\n",
    "graph = graphcat.StaticGraph()\n",
    "logger = graphcat.Logger(graph)\n",
    "\n",
    "graph.add_task(\"A\", graphcat.constant(3.14))\n",
    "graph.add_task(\"B\", graphcat.passthrough())\n",
    "graph.add_links(\"A\", \"B\")\n",
    "\n",
    "graphcat.notebook.display(graph)"
   ]
  },
  {
   "cell_type": "raw",
   "metadata": {
    "raw_mimetype": "text/restructuredtext"
   },
   "source": [
    "The :func:`graphcat.passthrough<graphcat.common.passthrough>` task function simply copies one of its inputs to its output.  When we request the output from \"B\", both tasks are executed and the value from \"A\" is returned:"
   ]
  },
  {
   "cell_type": "code",
   "execution_count": 2,
   "metadata": {},
   "outputs": [
    {
     "name": "stderr",
     "output_type": "stream",
     "text": [
      "INFO:graphcat.common:Task A updating.\n",
      "INFO:graphcat.common:Task A executing. Inputs: {}\n",
      "INFO:graphcat.common:Task A finished. Output: 3.14\n",
      "INFO:graphcat.common:Task B updating.\n",
      "INFO:graphcat.common:Task B executing. Inputs: {None: 3.14}\n",
      "INFO:graphcat.common:Task B finished. Output: 3.14\n"
     ]
    },
    {
     "name": "stdout",
     "output_type": "stream",
     "text": [
      "Output: 3.14\n"
     ]
    },
    {
     "data": {
      "image/svg+xml": [
       "<svg height=\"22pt\" viewBox=\"0.00 0.00 95.00 22.00\" width=\"95pt\" xmlns=\"http://www.w3.org/2000/svg\" xmlns:xlink=\"http://www.w3.org/1999/xlink\">\n",
       "<g class=\"graph\" id=\"graph0\" transform=\"scale(1 1) rotate(0) translate(4 18)\">\n",
       "<polygon fill=\"white\" points=\"-4,4 -4,-18 91,-18 91,4 -4,4\" stroke=\"transparent\"/>\n",
       "<!-- A -->\n",
       "<g class=\"node\" id=\"node1\">\n",
       "<title>A</title>\n",
       "<polygon fill=\"#494744\" points=\"29,-14 0,-14 0,0 29,0 29,-14\" stroke=\"#494744\"/>\n",
       "<text fill=\"white\" font-family=\"Helvetica,sans-Serif\" font-size=\"8.00\" text-anchor=\"middle\" x=\"14.5\" y=\"-4.6\">A</text>\n",
       "</g>\n",
       "<!-- B -->\n",
       "<g class=\"node\" id=\"node2\">\n",
       "<title>B</title>\n",
       "<polygon fill=\"#494744\" points=\"87,-14 58,-14 58,0 87,0 87,-14\" stroke=\"#494744\"/>\n",
       "<text fill=\"white\" font-family=\"Helvetica,sans-Serif\" font-size=\"8.00\" text-anchor=\"middle\" x=\"72.5\" y=\"-4.6\">B</text>\n",
       "</g>\n",
       "<!-- A&#45;&gt;B -->\n",
       "<g class=\"edge\" id=\"edge1\">\n",
       "<title>A-&gt;B</title>\n",
       "<path d=\"M29.06,-7C34.61,-7 41.22,-7 47.54,-7\" fill=\"none\" stroke=\"#494744\"/>\n",
       "<polygon fill=\"#494744\" points=\"47.68,-10.5 57.68,-7 47.68,-3.5 47.68,-10.5\" stroke=\"#494744\"/>\n",
       "</g>\n",
       "</g>\n",
       "</svg>"
      ],
      "text/plain": [
       "<IPython.core.display.SVG object>"
      ]
     },
     "metadata": {},
     "output_type": "display_data"
    }
   ],
   "source": [
    "print(\"Output:\", graph.output(\"B\"))\n",
    "graphcat.notebook.display(graph)"
   ]
  },
  {
   "cell_type": "markdown",
   "metadata": {},
   "source": [
    "If we replace the task \"A\" function, both tasks become unfinished:"
   ]
  },
  {
   "cell_type": "code",
   "execution_count": 3,
   "metadata": {},
   "outputs": [
    {
     "data": {
      "image/svg+xml": [
       "<svg height=\"22pt\" viewBox=\"0.00 0.00 95.00 22.00\" width=\"95pt\" xmlns=\"http://www.w3.org/2000/svg\" xmlns:xlink=\"http://www.w3.org/1999/xlink\">\n",
       "<g class=\"graph\" id=\"graph0\" transform=\"scale(1 1) rotate(0) translate(4 18)\">\n",
       "<polygon fill=\"white\" points=\"-4,4 -4,-18 91,-18 91,4 -4,4\" stroke=\"transparent\"/>\n",
       "<!-- A -->\n",
       "<g class=\"node\" id=\"node1\">\n",
       "<title>A</title>\n",
       "<polygon fill=\"white\" points=\"29,-14 0,-14 0,0 29,0 29,-14\" stroke=\"#494744\"/>\n",
       "<text fill=\"#494744\" font-family=\"Helvetica,sans-Serif\" font-size=\"8.00\" text-anchor=\"middle\" x=\"14.5\" y=\"-4.6\">A</text>\n",
       "</g>\n",
       "<!-- B -->\n",
       "<g class=\"node\" id=\"node2\">\n",
       "<title>B</title>\n",
       "<polygon fill=\"white\" points=\"87,-14 58,-14 58,0 87,0 87,-14\" stroke=\"#494744\"/>\n",
       "<text fill=\"#494744\" font-family=\"Helvetica,sans-Serif\" font-size=\"8.00\" text-anchor=\"middle\" x=\"72.5\" y=\"-4.6\">B</text>\n",
       "</g>\n",
       "<!-- A&#45;&gt;B -->\n",
       "<g class=\"edge\" id=\"edge1\">\n",
       "<title>A-&gt;B</title>\n",
       "<path d=\"M29.06,-7C34.61,-7 41.22,-7 47.54,-7\" fill=\"none\" stroke=\"#494744\"/>\n",
       "<polygon fill=\"#494744\" points=\"47.68,-10.5 57.68,-7 47.68,-3.5 47.68,-10.5\" stroke=\"#494744\"/>\n",
       "</g>\n",
       "</g>\n",
       "</svg>"
      ],
      "text/plain": [
       "<IPython.core.display.SVG object>"
      ]
     },
     "metadata": {},
     "output_type": "display_data"
    }
   ],
   "source": [
    "graph.set_task(\"A\", graphcat.constant(42))\n",
    "graphcat.notebook.display(graph)"
   ]
  },
  {
   "cell_type": "markdown",
   "metadata": {},
   "source": [
    "And retrieving the task \"B\" output executes both tasks again:"
   ]
  },
  {
   "cell_type": "code",
   "execution_count": 4,
   "metadata": {},
   "outputs": [
    {
     "name": "stderr",
     "output_type": "stream",
     "text": [
      "INFO:graphcat.common:Task A updating.\n",
      "INFO:graphcat.common:Task A executing. Inputs: {}\n",
      "INFO:graphcat.common:Task A finished. Output: 42\n",
      "INFO:graphcat.common:Task B updating.\n",
      "INFO:graphcat.common:Task B executing. Inputs: {None: 42}\n",
      "INFO:graphcat.common:Task B finished. Output: 42\n"
     ]
    },
    {
     "name": "stdout",
     "output_type": "stream",
     "text": [
      "Output: 42\n"
     ]
    },
    {
     "data": {
      "image/svg+xml": [
       "<svg height=\"22pt\" viewBox=\"0.00 0.00 95.00 22.00\" width=\"95pt\" xmlns=\"http://www.w3.org/2000/svg\" xmlns:xlink=\"http://www.w3.org/1999/xlink\">\n",
       "<g class=\"graph\" id=\"graph0\" transform=\"scale(1 1) rotate(0) translate(4 18)\">\n",
       "<polygon fill=\"white\" points=\"-4,4 -4,-18 91,-18 91,4 -4,4\" stroke=\"transparent\"/>\n",
       "<!-- A -->\n",
       "<g class=\"node\" id=\"node1\">\n",
       "<title>A</title>\n",
       "<polygon fill=\"#494744\" points=\"29,-14 0,-14 0,0 29,0 29,-14\" stroke=\"#494744\"/>\n",
       "<text fill=\"white\" font-family=\"Helvetica,sans-Serif\" font-size=\"8.00\" text-anchor=\"middle\" x=\"14.5\" y=\"-4.6\">A</text>\n",
       "</g>\n",
       "<!-- B -->\n",
       "<g class=\"node\" id=\"node2\">\n",
       "<title>B</title>\n",
       "<polygon fill=\"#494744\" points=\"87,-14 58,-14 58,0 87,0 87,-14\" stroke=\"#494744\"/>\n",
       "<text fill=\"white\" font-family=\"Helvetica,sans-Serif\" font-size=\"8.00\" text-anchor=\"middle\" x=\"72.5\" y=\"-4.6\">B</text>\n",
       "</g>\n",
       "<!-- A&#45;&gt;B -->\n",
       "<g class=\"edge\" id=\"edge1\">\n",
       "<title>A-&gt;B</title>\n",
       "<path d=\"M29.06,-7C34.61,-7 41.22,-7 47.54,-7\" fill=\"none\" stroke=\"#494744\"/>\n",
       "<polygon fill=\"#494744\" points=\"47.68,-10.5 57.68,-7 47.68,-3.5 47.68,-10.5\" stroke=\"#494744\"/>\n",
       "</g>\n",
       "</g>\n",
       "</svg>"
      ],
      "text/plain": [
       "<IPython.core.display.SVG object>"
      ]
     },
     "metadata": {},
     "output_type": "display_data"
    }
   ],
   "source": [
    "print(\"Output:\", graph.output(\"B\"))\n",
    "graphcat.notebook.display(graph)"
   ]
  },
  {
   "cell_type": "raw",
   "metadata": {
    "raw_mimetype": "text/restructuredtext"
   },
   "source": [
    "All this is as expected.  But what if we were to re-assign the same task function returning ``42`` to \"A\"?  What if task \"B\" takes a long time to execute?  What if there are many expensive tasks downstream from \"B\"?  You may be concerned (rightly so) that this would lead to lots of unnecessary computation, if downstream tasks have to be re-executed even when the upstream value hasn't actually changed.\n",
    "\n",
    "Not to worry, Graphcat has your back!  Let's try re-assigning the same task function to see what happens:"
   ]
  },
  {
   "cell_type": "code",
   "execution_count": 5,
   "metadata": {},
   "outputs": [
    {
     "data": {
      "image/svg+xml": [
       "<svg height=\"22pt\" viewBox=\"0.00 0.00 95.00 22.00\" width=\"95pt\" xmlns=\"http://www.w3.org/2000/svg\" xmlns:xlink=\"http://www.w3.org/1999/xlink\">\n",
       "<g class=\"graph\" id=\"graph0\" transform=\"scale(1 1) rotate(0) translate(4 18)\">\n",
       "<polygon fill=\"white\" points=\"-4,4 -4,-18 91,-18 91,4 -4,4\" stroke=\"transparent\"/>\n",
       "<!-- A -->\n",
       "<g class=\"node\" id=\"node1\">\n",
       "<title>A</title>\n",
       "<polygon fill=\"#494744\" points=\"29,-14 0,-14 0,0 29,0 29,-14\" stroke=\"#494744\"/>\n",
       "<text fill=\"white\" font-family=\"Helvetica,sans-Serif\" font-size=\"8.00\" text-anchor=\"middle\" x=\"14.5\" y=\"-4.6\">A</text>\n",
       "</g>\n",
       "<!-- B -->\n",
       "<g class=\"node\" id=\"node2\">\n",
       "<title>B</title>\n",
       "<polygon fill=\"#494744\" points=\"87,-14 58,-14 58,0 87,0 87,-14\" stroke=\"#494744\"/>\n",
       "<text fill=\"white\" font-family=\"Helvetica,sans-Serif\" font-size=\"8.00\" text-anchor=\"middle\" x=\"72.5\" y=\"-4.6\">B</text>\n",
       "</g>\n",
       "<!-- A&#45;&gt;B -->\n",
       "<g class=\"edge\" id=\"edge1\">\n",
       "<title>A-&gt;B</title>\n",
       "<path d=\"M29.06,-7C34.61,-7 41.22,-7 47.54,-7\" fill=\"none\" stroke=\"#494744\"/>\n",
       "<polygon fill=\"#494744\" points=\"47.68,-10.5 57.68,-7 47.68,-3.5 47.68,-10.5\" stroke=\"#494744\"/>\n",
       "</g>\n",
       "</g>\n",
       "</svg>"
      ],
      "text/plain": [
       "<IPython.core.display.SVG object>"
      ]
     },
     "metadata": {},
     "output_type": "display_data"
    }
   ],
   "source": [
    "graph.set_task(\"A\", graphcat.constant(42))\n",
    "graphcat.notebook.display(graph)"
   ]
  },
  {
   "cell_type": "markdown",
   "metadata": {},
   "source": [
    "Notice that even though we assigned the new task function to \"A\", both tasks are still marked as finished."
   ]
  },
  {
   "cell_type": "code",
   "execution_count": 6,
   "metadata": {},
   "outputs": [
    {
     "name": "stderr",
     "output_type": "stream",
     "text": [
      "INFO:graphcat.common:Task A updating.\n",
      "INFO:graphcat.common:Task B updating.\n"
     ]
    },
    {
     "name": "stdout",
     "output_type": "stream",
     "text": [
      "Output: 42\n"
     ]
    },
    {
     "data": {
      "image/svg+xml": [
       "<svg height=\"22pt\" viewBox=\"0.00 0.00 95.00 22.00\" width=\"95pt\" xmlns=\"http://www.w3.org/2000/svg\" xmlns:xlink=\"http://www.w3.org/1999/xlink\">\n",
       "<g class=\"graph\" id=\"graph0\" transform=\"scale(1 1) rotate(0) translate(4 18)\">\n",
       "<polygon fill=\"white\" points=\"-4,4 -4,-18 91,-18 91,4 -4,4\" stroke=\"transparent\"/>\n",
       "<!-- A -->\n",
       "<g class=\"node\" id=\"node1\">\n",
       "<title>A</title>\n",
       "<polygon fill=\"#494744\" points=\"29,-14 0,-14 0,0 29,0 29,-14\" stroke=\"#494744\"/>\n",
       "<text fill=\"white\" font-family=\"Helvetica,sans-Serif\" font-size=\"8.00\" text-anchor=\"middle\" x=\"14.5\" y=\"-4.6\">A</text>\n",
       "</g>\n",
       "<!-- B -->\n",
       "<g class=\"node\" id=\"node2\">\n",
       "<title>B</title>\n",
       "<polygon fill=\"#494744\" points=\"87,-14 58,-14 58,0 87,0 87,-14\" stroke=\"#494744\"/>\n",
       "<text fill=\"white\" font-family=\"Helvetica,sans-Serif\" font-size=\"8.00\" text-anchor=\"middle\" x=\"72.5\" y=\"-4.6\">B</text>\n",
       "</g>\n",
       "<!-- A&#45;&gt;B -->\n",
       "<g class=\"edge\" id=\"edge1\">\n",
       "<title>A-&gt;B</title>\n",
       "<path d=\"M29.06,-7C34.61,-7 41.22,-7 47.54,-7\" fill=\"none\" stroke=\"#494744\"/>\n",
       "<polygon fill=\"#494744\" points=\"47.68,-10.5 57.68,-7 47.68,-3.5 47.68,-10.5\" stroke=\"#494744\"/>\n",
       "</g>\n",
       "</g>\n",
       "</svg>"
      ],
      "text/plain": [
       "<IPython.core.display.SVG object>"
      ]
     },
     "metadata": {},
     "output_type": "display_data"
    }
   ],
   "source": [
    "print(\"Output:\", graph.output(\"B\"))\n",
    "graphcat.notebook.display(graph)"
   ]
  },
  {
   "cell_type": "raw",
   "metadata": {
    "raw_mimetype": "text/restructuredtext"
   },
   "source": [
    "Neither task is executed, and the returned value is the same.  What's going on here?  How does Graphcat know?\n",
    "\n",
    "In a nutshell, when setting the function for a task, Graphcat only marks the task as unfinished if the new task function compares unequal to the old function.  The :func:`constant<graphcat.common.constant>` function returns instances of a callable class - :class:`Constant<graphcat.common.Constant>` - which is what is executed by the graph.  Normally, two instances of a Python object will always compare unequal, even when they're the same type and contain the same data, but :class:`Constant<graphcat.common.Constant>` overloads the equality operator ``__eq__`` so that two instances compare equal if their return values compare equal.  Thus, multiple calls to ``set_task()`` using :func:`constant<graphcat.common.constant>` won't trigger execution if their values are the same.\n",
    "\n",
    "This behavior applies to all of the builtin task functions provided with Graphcat, and you can apply the same technique to your own task functions to suppress unnecessary updates.  For example, you might create your own version of :class:`Constant<graphcat.common.Constant>` that only considers two floating point values unequal if they differ by more than some threshold.  Then, you could feed continous incoming sensor data to the graph, with the graph only executing when the data changes enough to trigger it, using your own definition of what constitutes a significant change. "
   ]
  }
 ],
 "metadata": {
  "celltoolbar": "Raw Cell Format",
  "kernelspec": {
   "display_name": "Python 3",
   "language": "python",
   "name": "python3"
  },
  "language_info": {
   "codemirror_mode": {
    "name": "ipython",
    "version": 3
   },
   "file_extension": ".py",
   "mimetype": "text/x-python",
   "name": "python",
   "nbconvert_exporter": "python",
   "pygments_lexer": "ipython3",
   "version": "3.8.2"
  }
 },
 "nbformat": 4,
 "nbformat_minor": 4
}
