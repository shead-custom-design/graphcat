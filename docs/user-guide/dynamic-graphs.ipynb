{
 "cells": [
  {
   "cell_type": "raw",
   "metadata": {
    "raw_mimetype": "text/restructuredtext"
   },
   "source": [
    ".. _dynamic-graphs:\n",
    "\n",
    "Dynamic Graphs\n",
    "==============\n",
    "\n",
    "This section assumes you've completed the :ref:`tutorial` and have a good working knowledge of Graphcat.\n",
    "\n",
    "Graphcat always ensures that tasks are executed when they're needed and in the correct order, but there can be more than way to define \"when a task is needed\", and those definitions have different tradeoffs in time and space.  Graphcat allows you to select among those tradeoffs by providing two main types of graph: static and dynamic.  To illustrate the difference between the two, we will setup a simple static graph:"
   ]
  },
  {
   "cell_type": "code",
   "execution_count": 1,
   "metadata": {},
   "outputs": [
    {
     "data": {
      "image/svg+xml": [
       "<svg xmlns=\"http://www.w3.org/2000/svg\" xmlns:xlink=\"http://www.w3.org/1999/xlink\" width=\"101pt\" height=\"56pt\" viewBox=\"0.00 0.00 101.00 56.00\">\n",
       "<g id=\"graph0\" class=\"graph\" transform=\"scale(1 1) rotate(0) translate(4 52)\">\n",
       "<polygon fill=\"#ffffff\" stroke=\"transparent\" points=\"-4,4 -4,-52 97,-52 97,4 -4,4\"/>\n",
       "<!-- A -->\n",
       "<g id=\"node1\" class=\"node\">\n",
       "<title>A</title>\n",
       "<polygon fill=\"#ffffff\" stroke=\"#494744\" points=\"29,-48 0,-48 0,-33 29,-33 29,-48\"/>\n",
       "<text text-anchor=\"middle\" x=\"14.5\" y=\"-38.6\" font-family=\"Helvetica,sans-Serif\" font-size=\"8.00\" fill=\"#494744\">A</text>\n",
       "</g>\n",
       "<!-- C -->\n",
       "<g id=\"node2\" class=\"node\">\n",
       "<title>C</title>\n",
       "<polygon fill=\"#ffffff\" stroke=\"#494744\" points=\"93,-31 64,-31 64,-16 93,-16 93,-31\"/>\n",
       "<text text-anchor=\"middle\" x=\"78.5\" y=\"-21.6\" font-family=\"Helvetica,sans-Serif\" font-size=\"8.00\" fill=\"#494744\">C</text>\n",
       "</g>\n",
       "<!-- A&#45;&gt;C -->\n",
       "<g id=\"edge1\" class=\"edge\">\n",
       "<title>A-&gt;C</title>\n",
       "<path fill=\"none\" stroke=\"#494744\" d=\"M29.0226,-36.6424C36.3641,-34.6924 45.4759,-32.272 53.8718,-30.0419\"/>\n",
       "<polygon fill=\"#494744\" stroke=\"#494744\" points=\"54.8244,-33.4103 63.5907,-27.4603 53.0273,-26.6449 54.8244,-33.4103\"/>\n",
       "<text text-anchor=\"middle\" x=\"46.5\" y=\"-35.1\" font-family=\"Helvetica,sans-Serif\" font-size=\"8.00\" fill=\"#000000\">0</text>\n",
       "</g>\n",
       "<!-- B -->\n",
       "<g id=\"node3\" class=\"node\">\n",
       "<title>B</title>\n",
       "<polygon fill=\"#ffffff\" stroke=\"#494744\" points=\"29,-15 0,-15 0,0 29,0 29,-15\"/>\n",
       "<text text-anchor=\"middle\" x=\"14.5\" y=\"-5.6\" font-family=\"Helvetica,sans-Serif\" font-size=\"8.00\" fill=\"#494744\">B</text>\n",
       "</g>\n",
       "<!-- B&#45;&gt;C -->\n",
       "<g id=\"edge2\" class=\"edge\">\n",
       "<title>B-&gt;C</title>\n",
       "<path fill=\"none\" stroke=\"#494744\" d=\"M29.126,-7.1132C35.3375,-7.2647 42.6064,-7.864 49,-9.5 51.3633,-10.1047 53.7656,-10.9017 56.1271,-11.8092\"/>\n",
       "<polygon fill=\"#494744\" stroke=\"#494744\" points=\"54.8414,-15.0683 65.3993,-15.9527 57.6973,-8.6773 54.8414,-15.0683\"/>\n",
       "<text text-anchor=\"middle\" x=\"46.5\" y=\"-12.1\" font-family=\"Helvetica,sans-Serif\" font-size=\"8.00\" fill=\"#000000\">1</text>\n",
       "</g>\n",
       "</g>\n",
       "</svg>"
      ],
      "text/plain": [
       "<IPython.core.display.SVG object>"
      ]
     },
     "metadata": {},
     "output_type": "display_data"
    }
   ],
   "source": [
    "import graphcat.notebook\n",
    "\n",
    "graph = graphcat.StaticGraph()\n",
    "graph.add_task(\"A\", graphcat.constant(\"A\"))\n",
    "graph.add_task(\"B\", graphcat.constant(\"B\"))\n",
    "graph.add_task(\"C\", graphcat.passthrough(input=0))\n",
    "graph.add_links(\"A\", (\"C\", 0))\n",
    "graph.add_links(\"B\", (\"C\", 1))\n",
    "\n",
    "graphcat.notebook.display(graph)"
   ]
  },
  {
   "cell_type": "raw",
   "metadata": {
    "raw_mimetype": "text/restructuredtext"
   },
   "source": [
    "Note that there are two tasks \"A\" and \"B\" that produce the strings ``\"A\"`` and ``\"B\"`` respectively, connected to inputs ``0`` and ``1`` of task \"C\".  In turn, task \"C\" uses the :func:`graphcat.common.passthrough` function to return whatever value it receives from input ``0``:  "
   ]
  },
  {
   "cell_type": "code",
   "execution_count": 2,
   "metadata": {},
   "outputs": [
    {
     "name": "stdout",
     "output_type": "stream",
     "text": [
      "Output: A\n"
     ]
    },
    {
     "data": {
      "image/svg+xml": [
       "<svg xmlns=\"http://www.w3.org/2000/svg\" xmlns:xlink=\"http://www.w3.org/1999/xlink\" width=\"101pt\" height=\"56pt\" viewBox=\"0.00 0.00 101.00 56.00\">\n",
       "<g id=\"graph0\" class=\"graph\" transform=\"scale(1 1) rotate(0) translate(4 52)\">\n",
       "<polygon fill=\"#ffffff\" stroke=\"transparent\" points=\"-4,4 -4,-52 97,-52 97,4 -4,4\"/>\n",
       "<!-- A -->\n",
       "<g id=\"node1\" class=\"node\">\n",
       "<title>A</title>\n",
       "<polygon fill=\"#494744\" stroke=\"#494744\" points=\"29,-48 0,-48 0,-33 29,-33 29,-48\"/>\n",
       "<text text-anchor=\"middle\" x=\"14.5\" y=\"-38.6\" font-family=\"Helvetica,sans-Serif\" font-size=\"8.00\" fill=\"#ffffff\">A</text>\n",
       "</g>\n",
       "<!-- C -->\n",
       "<g id=\"node2\" class=\"node\">\n",
       "<title>C</title>\n",
       "<polygon fill=\"#494744\" stroke=\"#494744\" points=\"93,-31 64,-31 64,-16 93,-16 93,-31\"/>\n",
       "<text text-anchor=\"middle\" x=\"78.5\" y=\"-21.6\" font-family=\"Helvetica,sans-Serif\" font-size=\"8.00\" fill=\"#ffffff\">C</text>\n",
       "</g>\n",
       "<!-- A&#45;&gt;C -->\n",
       "<g id=\"edge1\" class=\"edge\">\n",
       "<title>A-&gt;C</title>\n",
       "<path fill=\"none\" stroke=\"#494744\" d=\"M29.0226,-36.6424C36.3641,-34.6924 45.4759,-32.272 53.8718,-30.0419\"/>\n",
       "<polygon fill=\"#494744\" stroke=\"#494744\" points=\"54.8244,-33.4103 63.5907,-27.4603 53.0273,-26.6449 54.8244,-33.4103\"/>\n",
       "<text text-anchor=\"middle\" x=\"46.5\" y=\"-35.1\" font-family=\"Helvetica,sans-Serif\" font-size=\"8.00\" fill=\"#000000\">0</text>\n",
       "</g>\n",
       "<!-- B -->\n",
       "<g id=\"node3\" class=\"node\">\n",
       "<title>B</title>\n",
       "<polygon fill=\"#494744\" stroke=\"#494744\" points=\"29,-15 0,-15 0,0 29,0 29,-15\"/>\n",
       "<text text-anchor=\"middle\" x=\"14.5\" y=\"-5.6\" font-family=\"Helvetica,sans-Serif\" font-size=\"8.00\" fill=\"#ffffff\">B</text>\n",
       "</g>\n",
       "<!-- B&#45;&gt;C -->\n",
       "<g id=\"edge2\" class=\"edge\">\n",
       "<title>B-&gt;C</title>\n",
       "<path fill=\"none\" stroke=\"#494744\" d=\"M29.126,-7.1132C35.3375,-7.2647 42.6064,-7.864 49,-9.5 51.3633,-10.1047 53.7656,-10.9017 56.1271,-11.8092\"/>\n",
       "<polygon fill=\"#494744\" stroke=\"#494744\" points=\"54.8414,-15.0683 65.3993,-15.9527 57.6973,-8.6773 54.8414,-15.0683\"/>\n",
       "<text text-anchor=\"middle\" x=\"46.5\" y=\"-12.1\" font-family=\"Helvetica,sans-Serif\" font-size=\"8.00\" fill=\"#000000\">1</text>\n",
       "</g>\n",
       "</g>\n",
       "</svg>"
      ],
      "text/plain": [
       "<IPython.core.display.SVG object>"
      ]
     },
     "metadata": {},
     "output_type": "display_data"
    }
   ],
   "source": [
    "print(\"Output:\", graph.output(\"C\"))\n",
    "graphcat.notebook.display(graph)"
   ]
  },
  {
   "cell_type": "raw",
   "metadata": {
    "raw_mimetype": "text/restructuredtext"
   },
   "source": [
    "... as expected, task \"C\" returns ``\"A\"``, and all three tasks are finished (solid boxes), because tasks \"A\" and \"B\" are inputs to task \"C\".  This is what we mean when we say that the graph is static: it performs a static analysis of the graph topology to determine which tasks are inputs to \"C\", and then executes them first.\n",
    "\n",
    "However, a static analysis can be suboptimal: in this case, even though task \"B\" is an input to \"C\", it isn't really needed, since \"C\" is only using the input named ``0``.  What if task \"B\" were time consuming?  All of that effort is wasted if the output from \"B\" is never actually used by \"C\".\n",
    "\n",
    "Fortunately, we can use dynamic analysis to determine which tasks need to be executed during updates based on whether or not they actually get used.  To do so, we simply use an instance of :class:`DynamicGraph<graphcat.dynamic.DynamicGraph>` instead of :class:`StaticGraph<graphcat.static.StaticGraph>`:\n"
   ]
  },
  {
   "cell_type": "code",
   "execution_count": 3,
   "metadata": {},
   "outputs": [
    {
     "data": {
      "image/svg+xml": [
       "<svg xmlns=\"http://www.w3.org/2000/svg\" xmlns:xlink=\"http://www.w3.org/1999/xlink\" width=\"101pt\" height=\"56pt\" viewBox=\"0.00 0.00 101.00 56.00\">\n",
       "<g id=\"graph0\" class=\"graph\" transform=\"scale(1 1) rotate(0) translate(4 52)\">\n",
       "<polygon fill=\"#ffffff\" stroke=\"transparent\" points=\"-4,4 -4,-52 97,-52 97,4 -4,4\"/>\n",
       "<!-- A -->\n",
       "<g id=\"node1\" class=\"node\">\n",
       "<title>A</title>\n",
       "<polygon fill=\"#ffffff\" stroke=\"#494744\" points=\"29,-48 0,-48 0,-33 29,-33 29,-48\"/>\n",
       "<text text-anchor=\"middle\" x=\"14.5\" y=\"-38.6\" font-family=\"Helvetica,sans-Serif\" font-size=\"8.00\" fill=\"#494744\">A</text>\n",
       "</g>\n",
       "<!-- C -->\n",
       "<g id=\"node2\" class=\"node\">\n",
       "<title>C</title>\n",
       "<polygon fill=\"#ffffff\" stroke=\"#494744\" points=\"93,-31 64,-31 64,-16 93,-16 93,-31\"/>\n",
       "<text text-anchor=\"middle\" x=\"78.5\" y=\"-21.6\" font-family=\"Helvetica,sans-Serif\" font-size=\"8.00\" fill=\"#494744\">C</text>\n",
       "</g>\n",
       "<!-- A&#45;&gt;C -->\n",
       "<g id=\"edge1\" class=\"edge\">\n",
       "<title>A-&gt;C</title>\n",
       "<path fill=\"none\" stroke=\"#494744\" d=\"M29.0226,-36.6424C36.3641,-34.6924 45.4759,-32.272 53.8718,-30.0419\"/>\n",
       "<polygon fill=\"none\" stroke=\"#494744\" points=\"54.8244,-33.4103 63.5907,-27.4603 53.0273,-26.6449 54.8244,-33.4103\"/>\n",
       "<text text-anchor=\"middle\" x=\"46.5\" y=\"-35.1\" font-family=\"Helvetica,sans-Serif\" font-size=\"8.00\" fill=\"#000000\">0</text>\n",
       "</g>\n",
       "<!-- B -->\n",
       "<g id=\"node3\" class=\"node\">\n",
       "<title>B</title>\n",
       "<polygon fill=\"#ffffff\" stroke=\"#494744\" points=\"29,-15 0,-15 0,0 29,0 29,-15\"/>\n",
       "<text text-anchor=\"middle\" x=\"14.5\" y=\"-5.6\" font-family=\"Helvetica,sans-Serif\" font-size=\"8.00\" fill=\"#494744\">B</text>\n",
       "</g>\n",
       "<!-- B&#45;&gt;C -->\n",
       "<g id=\"edge2\" class=\"edge\">\n",
       "<title>B-&gt;C</title>\n",
       "<path fill=\"none\" stroke=\"#494744\" d=\"M29.126,-7.1132C35.3375,-7.2647 42.6064,-7.864 49,-9.5 51.3633,-10.1047 53.7656,-10.9017 56.1271,-11.8092\"/>\n",
       "<polygon fill=\"none\" stroke=\"#494744\" points=\"54.8414,-15.0683 65.3993,-15.9527 57.6973,-8.6773 54.8414,-15.0683\"/>\n",
       "<text text-anchor=\"middle\" x=\"46.5\" y=\"-12.1\" font-family=\"Helvetica,sans-Serif\" font-size=\"8.00\" fill=\"#000000\">1</text>\n",
       "</g>\n",
       "</g>\n",
       "</svg>"
      ],
      "text/plain": [
       "<IPython.core.display.SVG object>"
      ]
     },
     "metadata": {},
     "output_type": "display_data"
    }
   ],
   "source": [
    "graph = graphcat.DynamicGraph()\n",
    "graph.add_task(\"A\", graphcat.constant(\"A\"))\n",
    "graph.add_task(\"B\", graphcat.constant(\"B\"))\n",
    "graph.add_task(\"C\", graphcat.passthrough(input=0))\n",
    "graph.add_links(\"A\", (\"C\", 0))\n",
    "graph.add_links(\"B\", (\"C\", 1))\n",
    "\n",
    "graphcat.notebook.display(graph)"
   ]
  },
  {
   "cell_type": "raw",
   "metadata": {
    "raw_mimetype": "text/restructuredtext"
   },
   "source": [
    ".. note::\n",
    "\n",
    "  The arrow heads in the diagram are open instead of solid, which indicates that this is a :class:`DynamicGraph<graphcat.dynamic.DynamicGraph>`.\n",
    "\n",
    "Now, when we get the output from \"C\", we should still get the same answer:"
   ]
  },
  {
   "cell_type": "code",
   "execution_count": 4,
   "metadata": {
    "tags": [
     "nbsphinx-thumbnail"
    ]
   },
   "outputs": [
    {
     "name": "stdout",
     "output_type": "stream",
     "text": [
      "Output: A\n"
     ]
    },
    {
     "data": {
      "image/svg+xml": [
       "<svg xmlns=\"http://www.w3.org/2000/svg\" xmlns:xlink=\"http://www.w3.org/1999/xlink\" width=\"101pt\" height=\"56pt\" viewBox=\"0.00 0.00 101.00 56.00\">\n",
       "<g id=\"graph0\" class=\"graph\" transform=\"scale(1 1) rotate(0) translate(4 52)\">\n",
       "<polygon fill=\"#ffffff\" stroke=\"transparent\" points=\"-4,4 -4,-52 97,-52 97,4 -4,4\"/>\n",
       "<!-- A -->\n",
       "<g id=\"node1\" class=\"node\">\n",
       "<title>A</title>\n",
       "<polygon fill=\"#494744\" stroke=\"#494744\" points=\"29,-48 0,-48 0,-33 29,-33 29,-48\"/>\n",
       "<text text-anchor=\"middle\" x=\"14.5\" y=\"-38.6\" font-family=\"Helvetica,sans-Serif\" font-size=\"8.00\" fill=\"#ffffff\">A</text>\n",
       "</g>\n",
       "<!-- C -->\n",
       "<g id=\"node2\" class=\"node\">\n",
       "<title>C</title>\n",
       "<polygon fill=\"#494744\" stroke=\"#494744\" points=\"93,-31 64,-31 64,-16 93,-16 93,-31\"/>\n",
       "<text text-anchor=\"middle\" x=\"78.5\" y=\"-21.6\" font-family=\"Helvetica,sans-Serif\" font-size=\"8.00\" fill=\"#ffffff\">C</text>\n",
       "</g>\n",
       "<!-- A&#45;&gt;C -->\n",
       "<g id=\"edge1\" class=\"edge\">\n",
       "<title>A-&gt;C</title>\n",
       "<path fill=\"none\" stroke=\"#494744\" d=\"M29.0226,-36.6424C36.3641,-34.6924 45.4759,-32.272 53.8718,-30.0419\"/>\n",
       "<polygon fill=\"none\" stroke=\"#494744\" points=\"54.8244,-33.4103 63.5907,-27.4603 53.0273,-26.6449 54.8244,-33.4103\"/>\n",
       "<text text-anchor=\"middle\" x=\"46.5\" y=\"-35.1\" font-family=\"Helvetica,sans-Serif\" font-size=\"8.00\" fill=\"#000000\">0</text>\n",
       "</g>\n",
       "<!-- B -->\n",
       "<g id=\"node3\" class=\"node\">\n",
       "<title>B</title>\n",
       "<polygon fill=\"#ffffff\" stroke=\"#494744\" points=\"29,-15 0,-15 0,0 29,0 29,-15\"/>\n",
       "<text text-anchor=\"middle\" x=\"14.5\" y=\"-5.6\" font-family=\"Helvetica,sans-Serif\" font-size=\"8.00\" fill=\"#494744\">B</text>\n",
       "</g>\n",
       "<!-- B&#45;&gt;C -->\n",
       "<g id=\"edge2\" class=\"edge\">\n",
       "<title>B-&gt;C</title>\n",
       "<path fill=\"none\" stroke=\"#494744\" d=\"M29.126,-7.1132C35.3375,-7.2647 42.6064,-7.864 49,-9.5 51.3633,-10.1047 53.7656,-10.9017 56.1271,-11.8092\"/>\n",
       "<polygon fill=\"none\" stroke=\"#494744\" points=\"54.8414,-15.0683 65.3993,-15.9527 57.6973,-8.6773 54.8414,-15.0683\"/>\n",
       "<text text-anchor=\"middle\" x=\"46.5\" y=\"-12.1\" font-family=\"Helvetica,sans-Serif\" font-size=\"8.00\" fill=\"#000000\">1</text>\n",
       "</g>\n",
       "</g>\n",
       "</svg>"
      ],
      "text/plain": [
       "<IPython.core.display.SVG object>"
      ]
     },
     "metadata": {},
     "output_type": "display_data"
    }
   ],
   "source": [
    "print(\"Output:\", graph.output(\"C\"))\n",
    "graphcat.notebook.display(graph)"
   ]
  },
  {
   "cell_type": "markdown",
   "metadata": {},
   "source": [
    "... which we do, but task \"B\" hasn't been executed, because it isn't needed *in this case*.  If we alter task \"C\" so that it uses its other input, we should see that task \"B\" gets executed:"
   ]
  },
  {
   "cell_type": "code",
   "execution_count": 5,
   "metadata": {},
   "outputs": [
    {
     "name": "stdout",
     "output_type": "stream",
     "text": [
      "Output: B\n"
     ]
    },
    {
     "data": {
      "image/svg+xml": [
       "<svg xmlns=\"http://www.w3.org/2000/svg\" xmlns:xlink=\"http://www.w3.org/1999/xlink\" width=\"101pt\" height=\"56pt\" viewBox=\"0.00 0.00 101.00 56.00\">\n",
       "<g id=\"graph0\" class=\"graph\" transform=\"scale(1 1) rotate(0) translate(4 52)\">\n",
       "<polygon fill=\"#ffffff\" stroke=\"transparent\" points=\"-4,4 -4,-52 97,-52 97,4 -4,4\"/>\n",
       "<!-- A -->\n",
       "<g id=\"node1\" class=\"node\">\n",
       "<title>A</title>\n",
       "<polygon fill=\"#494744\" stroke=\"#494744\" points=\"29,-48 0,-48 0,-33 29,-33 29,-48\"/>\n",
       "<text text-anchor=\"middle\" x=\"14.5\" y=\"-38.6\" font-family=\"Helvetica,sans-Serif\" font-size=\"8.00\" fill=\"#ffffff\">A</text>\n",
       "</g>\n",
       "<!-- C -->\n",
       "<g id=\"node2\" class=\"node\">\n",
       "<title>C</title>\n",
       "<polygon fill=\"#494744\" stroke=\"#494744\" points=\"93,-31 64,-31 64,-16 93,-16 93,-31\"/>\n",
       "<text text-anchor=\"middle\" x=\"78.5\" y=\"-21.6\" font-family=\"Helvetica,sans-Serif\" font-size=\"8.00\" fill=\"#ffffff\">C</text>\n",
       "</g>\n",
       "<!-- A&#45;&gt;C -->\n",
       "<g id=\"edge1\" class=\"edge\">\n",
       "<title>A-&gt;C</title>\n",
       "<path fill=\"none\" stroke=\"#494744\" d=\"M29.0226,-36.6424C36.3641,-34.6924 45.4759,-32.272 53.8718,-30.0419\"/>\n",
       "<polygon fill=\"none\" stroke=\"#494744\" points=\"54.8244,-33.4103 63.5907,-27.4603 53.0273,-26.6449 54.8244,-33.4103\"/>\n",
       "<text text-anchor=\"middle\" x=\"46.5\" y=\"-35.1\" font-family=\"Helvetica,sans-Serif\" font-size=\"8.00\" fill=\"#000000\">0</text>\n",
       "</g>\n",
       "<!-- B -->\n",
       "<g id=\"node3\" class=\"node\">\n",
       "<title>B</title>\n",
       "<polygon fill=\"#494744\" stroke=\"#494744\" points=\"29,-15 0,-15 0,0 29,0 29,-15\"/>\n",
       "<text text-anchor=\"middle\" x=\"14.5\" y=\"-5.6\" font-family=\"Helvetica,sans-Serif\" font-size=\"8.00\" fill=\"#ffffff\">B</text>\n",
       "</g>\n",
       "<!-- B&#45;&gt;C -->\n",
       "<g id=\"edge2\" class=\"edge\">\n",
       "<title>B-&gt;C</title>\n",
       "<path fill=\"none\" stroke=\"#494744\" d=\"M29.126,-7.1132C35.3375,-7.2647 42.6064,-7.864 49,-9.5 51.3633,-10.1047 53.7656,-10.9017 56.1271,-11.8092\"/>\n",
       "<polygon fill=\"none\" stroke=\"#494744\" points=\"54.8414,-15.0683 65.3993,-15.9527 57.6973,-8.6773 54.8414,-15.0683\"/>\n",
       "<text text-anchor=\"middle\" x=\"46.5\" y=\"-12.1\" font-family=\"Helvetica,sans-Serif\" font-size=\"8.00\" fill=\"#000000\">1</text>\n",
       "</g>\n",
       "</g>\n",
       "</svg>"
      ],
      "text/plain": [
       "<IPython.core.display.SVG object>"
      ]
     },
     "metadata": {},
     "output_type": "display_data"
    }
   ],
   "source": [
    "graph.set_task(\"C\", graphcat.passthrough(input=1))\n",
    "print(\"Output:\", graph.output(\"C\"))\n",
    "graphcat.notebook.display(graph)"
   ]
  },
  {
   "cell_type": "raw",
   "metadata": {
    "raw_mimetype": "text/restructuredtext"
   },
   "source": [
    "Voila!  We see that task \"B\" is executed, because its output is now used by task \"C\".\n",
    "\n",
    "Given that dynamic graphs are potentially more efficient by eliminating unneeded computation, why have static graphs at all?  This is because dynamic graphs use more resources to run, and may exceed the Python interpreter stack limits for large, complex graphs.  As of this writing, Python has a default stack recursion limit of 1000, which means that updating a dynamic graph will fail as the number of tasks upstream from the task being updated nears a thousand. In those cases you can increase the recursion limit using :func:`sys.setrecursionlimit`, or switch back to static graphs, which may waste some computation, but will never run out of stack space."
   ]
  }
 ],
 "metadata": {
  "celltoolbar": "Raw Cell Format",
  "kernelspec": {
   "display_name": "Python 3",
   "language": "python",
   "name": "python3"
  },
  "language_info": {
   "codemirror_mode": {
    "name": "ipython",
    "version": 3
   },
   "file_extension": ".py",
   "mimetype": "text/x-python",
   "name": "python",
   "nbconvert_exporter": "python",
   "pygments_lexer": "ipython3",
   "version": "3.8.2"
  }
 },
 "nbformat": 4,
 "nbformat_minor": 4
}
