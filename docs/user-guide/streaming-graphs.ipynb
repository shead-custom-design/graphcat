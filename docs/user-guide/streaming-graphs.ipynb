{
 "cells": [
  {
   "cell_type": "raw",
   "metadata": {
    "raw_mimetype": "text/restructuredtext"
   },
   "source": [
    ".. _streaming-graphs:\n",
    "\n",
    "Streaming Graphs\n",
    "================\n",
    "\n",
    "This section assumes you've completed the :ref:`tutorial` and have a good working knowledge of Graphcat.\n",
    "\n",
    "As you've seen so far, computational graphs capture the dependencies in a process so that individual tasks can be executed only when they're needed.  Static graphs identify those tasks based solely on the topology of the graph.  :ref:`Dynamic graphs<dynamic-graphs>` improve on this by detecting which task outputs are actually used, so that tasks with unused outputs can be skipped.  The section on :ref:`avoiding unnecessary updates<avoiding-updates>` describes how Graphcat takes this a step further by ensuring that irrelevant upstream changes don't trigger downstream execution.\n",
    "\n",
    "In this section, we introduce *streaming graphs*, which make it possible to retrieve a subset of a task's total output.  This can be useful in several ways: first, you might want to improve interactivity by reducing the work performed when there are minor upstream changes.  An example of this might be a paint program where only the region under a brush stroke is updated, instead of an entire image.  Another reason to use streaming is when you have a problem so large that it can't be loaded into memory all at once: you can split the problem into smaller pieces and work on them one at a time, only accumulating the final result.  Finally, you can use streaming to implement parallelism, using multiple threads or processes to each work on one piece of a problem.\n",
    "\n",
    "But before we can get to all that, let's begin with a simple streaming graph that computes the squares of values in a :class:`Numpy array<numpy.ndarray>`:"
   ]
  },
  {
   "cell_type": "code",
   "execution_count": 1,
   "metadata": {
    "tags": [
     "nbsphinx-thumbnail"
    ]
   },
   "outputs": [
    {
     "data": {
      "image/svg+xml": [
       "<svg height=\"22pt\" viewBox=\"0.00 0.00 95.00 22.00\" width=\"95pt\" xmlns=\"http://www.w3.org/2000/svg\" xmlns:xlink=\"http://www.w3.org/1999/xlink\">\n",
       "<g class=\"graph\" id=\"graph0\" transform=\"scale(1 1) rotate(0) translate(4 18)\">\n",
       "<polygon fill=\"white\" points=\"-4,4 -4,-18 91,-18 91,4 -4,4\" stroke=\"transparent\"/>\n",
       "<!-- A -->\n",
       "<g class=\"node\" id=\"node1\">\n",
       "<title>A</title>\n",
       "<polygon fill=\"white\" points=\"29,-14 0,-14 0,0 29,0 29,-14\" stroke=\"#494744\"/>\n",
       "<text fill=\"#494744\" font-family=\"Helvetica,sans-Serif\" font-size=\"8.00\" text-anchor=\"middle\" x=\"14.5\" y=\"-4.6\">A</text>\n",
       "</g>\n",
       "<!-- B -->\n",
       "<g class=\"node\" id=\"node2\">\n",
       "<title>B</title>\n",
       "<polygon fill=\"white\" points=\"87,-14 58,-14 58,0 87,0 87,-14\" stroke=\"#494744\"/>\n",
       "<text fill=\"#494744\" font-family=\"Helvetica,sans-Serif\" font-size=\"8.00\" text-anchor=\"middle\" x=\"72.5\" y=\"-4.6\">B</text>\n",
       "</g>\n",
       "<!-- A&#45;&gt;B -->\n",
       "<g class=\"edge\" id=\"edge1\">\n",
       "<title>A-&gt;B</title>\n",
       "<path d=\"M29.06,-7C34.61,-7 41.22,-7 47.54,-7\" fill=\"none\" stroke=\"#494744\"/>\n",
       "<polygon fill=\"none\" points=\"47.68,-7 47.68,-10.5 57.68,-7 47.68,-7\" stroke=\"#494744\"/>\n",
       "</g>\n",
       "</g>\n",
       "</svg>"
      ],
      "text/plain": [
       "<IPython.core.display.SVG object>"
      ]
     },
     "metadata": {},
     "output_type": "display_data"
    }
   ],
   "source": [
    "import logging\n",
    "logging.basicConfig(level=logging.DEBUG)\n",
    "\n",
    "import graphcat.notebook\n",
    "import numpy\n",
    "\n",
    "def squared(graph, name, inputs, extent):\n",
    "    return numpy.power(inputs.getone(None, extent), 2)\n",
    "\n",
    "graph = graphcat.StreamingGraph()\n",
    "logger = graphcat.Logger(graph)\n",
    "graph.set_task(\"A\", graphcat.array(numpy.arange(8)))\n",
    "graph.set_task(\"B\", squared)\n",
    "graph.set_links(\"A\", \"B\")\n",
    "\n",
    "graphcat.notebook.display(graph)"
   ]
  },
  {
   "cell_type": "raw",
   "metadata": {
    "raw_mimetype": "text/restructuredtext"
   },
   "source": [
    ".. note::\n",
    "    Since this is a streaming graph, the arrows are drawn with partial arrow heads to suggest that the tasks can retrieve partial data.\n",
    "\n",
    "Note that we used :func:`graphcat.array<graphcat.common.array>` to provide the source data instead of :func:`graphcat.constant<graphcat.common.constant>`.  Although the latter can certainly be used to provide a Numpy array as an output, the former provides additional functionality when used with streaming graphs.\n",
    "\n",
    "Our `squared` task function simply uses numpy to compute the square of its inputs.\n",
    "\n",
    "Let's confirm that the default behavior of the graph is what we would normally expect:"
   ]
  },
  {
   "cell_type": "code",
   "execution_count": 2,
   "metadata": {},
   "outputs": [
    {
     "name": "stderr",
     "output_type": "stream",
     "text": [
      "INFO:graphcat.common:Task B updating.\n",
      "INFO:graphcat.common:Task B executing. Inputs: {None} Extent: None\n",
      "INFO:graphcat.common:Task A updating.\n",
      "INFO:graphcat.common:Task A executing. Inputs: {} Extent: None\n",
      "INFO:graphcat.common:Task A finished. Output: [0 1 2 3 4 5 6 7]\n",
      "INFO:graphcat.common:Task B finished. Output: [ 0  1  4  9 16 25 36 49]\n"
     ]
    },
    {
     "data": {
      "text/plain": [
       "array([ 0,  1,  4,  9, 16, 25, 36, 49])"
      ]
     },
     "execution_count": 2,
     "metadata": {},
     "output_type": "execute_result"
    }
   ],
   "source": [
    "graph.output(\"B\")"
   ]
  },
  {
   "cell_type": "markdown",
   "metadata": {},
   "source": [
    "That looks pretty familiar - when requested, task \"A\" returns the array we used to initialize it, and task \"B\" computes the square of each value from \"A\".  We can see some new output in the logs, but otherwise everything is working the way it would with static and dynamic graphs.\n",
    "\n",
    "What if the array was much larger, or task \"B\" was something truly time consuming, so that we wanted to perform an operation on just a subset? This is what streaming graphs were meant for. To do so, they allow us to specify \"extents\", which define the subset of a task's output that we want:"
   ]
  },
  {
   "cell_type": "code",
   "execution_count": 3,
   "metadata": {},
   "outputs": [
    {
     "name": "stderr",
     "output_type": "stream",
     "text": [
      "INFO:graphcat.common:Task B updating.\n",
      "INFO:graphcat.common:Task B executing. Inputs: {None} Extent: slice(0, 4, None)\n",
      "INFO:graphcat.common:Task A updating.\n",
      "INFO:graphcat.common:Task A executing. Inputs: {} Extent: slice(0, 4, None)\n",
      "INFO:graphcat.common:Task A finished. Output: [0 1 2 3]\n",
      "INFO:graphcat.common:Task B finished. Output: [0 1 4 9]\n"
     ]
    },
    {
     "data": {
      "text/plain": [
       "array([0, 1, 4, 9])"
      ]
     },
     "execution_count": 3,
     "metadata": {},
     "output_type": "execute_result"
    }
   ],
   "source": [
    "graph.output(\"B\", extent=graphcat.ArrayExtent[0:4])"
   ]
  },
  {
   "cell_type": "raw",
   "metadata": {
    "raw_mimetype": "text/restructuredtext"
   },
   "source": [
    "There's a lot to unpack here.  First, we specified an extent when we called :meth:`output<graphcat.graph.Graph.output>`.  An extent (which can only be used in streaming graphs) is any Python object that can be used by a task to specify a subset of its output.  In this case, we used :class:`graphcat.ArrayExtent<graphcat.common.ArrayExtent>`, which can be thought of as a factory for creating extents that request a subset of an array using standard `Numpy indexing <https://numpy.org/doc/stable/reference/arrays.indexing.html>`_.  Here, we are requesting the first four values from the array (``ArrayExtent[0:4]``).\n",
    "\n",
    "Next, the extent is passed to the task function, which in this case is our `squared` function.  Looking back at the function source::\n",
    "\n",
    "    def squared(graph, name, inputs, extent):\n",
    "        return numpy.power(inputs.getone(None, extent), 2)\n",
    "\n",
    "... we see that the function takes a mandatory fourth argument - ``extent``.  This is an important point when working with streaming graphs: the task functions must be written to accept the \"extent\" argument along with the standard \"graph\", \"name\", and \"inputs\" arguments, and do something with the extent information.\n",
    "\n",
    "In the case of the `squared` function, the extent is simply passed-along in the call to `inputs.getone(None, extent)` ... in other words, `squared` is counting on the upstream task providing its input to know what to do with the extents object.\n",
    "\n",
    "This is why we used :func:`graphcat.array<graphcat.common.array>` to implement task \"A\", because it knows how to use the extent returned by :class:`graphcat.ArrayExtent<graphcat.common.ArrayExtent>`, using it to return a subset of the stored array.\n",
    "\n",
    "That subset is returned by task \"A\", and task \"B\" computes the squares as requested.\n",
    "\n",
    "Note that, as with static and dynamic graphs, streaming graphs don't execute tasks unless they have to.  For example, if we ask for the same data again, using the same extent:"
   ]
  },
  {
   "cell_type": "code",
   "execution_count": 4,
   "metadata": {},
   "outputs": [
    {
     "name": "stderr",
     "output_type": "stream",
     "text": [
      "INFO:graphcat.common:Task A updating.\n"
     ]
    },
    {
     "data": {
      "text/plain": [
       "array([0, 1, 2, 3])"
      ]
     },
     "execution_count": 4,
     "metadata": {},
     "output_type": "execute_result"
    }
   ],
   "source": [
    "graph.output(\"A\", extent=graphcat.ArrayExtent[0:4])"
   ]
  },
  {
   "cell_type": "markdown",
   "metadata": {},
   "source": [
    "... we get the same result, but the tasks haven't been executed again.  If we use a different extent:"
   ]
  },
  {
   "cell_type": "code",
   "execution_count": 5,
   "metadata": {},
   "outputs": [
    {
     "name": "stderr",
     "output_type": "stream",
     "text": [
      "INFO:graphcat.common:Task A updating.\n",
      "INFO:graphcat.common:Task A executing. Inputs: {} Extent: None\n",
      "INFO:graphcat.common:Task A finished. Output: [0 1 2 3 4 5 6 7]\n"
     ]
    },
    {
     "data": {
      "text/plain": [
       "array([0, 1, 2, 3, 4, 5, 6, 7])"
      ]
     },
     "execution_count": 5,
     "metadata": {},
     "output_type": "execute_result"
    }
   ],
   "source": [
    "graph.output(\"A\", extent=None)"
   ]
  },
  {
   "cell_type": "raw",
   "metadata": {
    "raw_mimetype": "text/restructuredtext"
   },
   "source": [
    "... then the tasks are executed.  Note from the above that when you use :any:`None` as an extent, it means \"return everything\".  :any:`None` is the default extent everywhere in the API that extents are used, so the default behavior of streaming graph methods is to behave exactly like static and dynamic graphs.\n",
    "\n",
    "Note that :class:`ArrayExtent<graphcat.common.ArrayExtent>` is just one example of an extent.  You can use any Python object as an extent, so long as your task functions know how to make use of it.  You could use a string containing an filepath or an SQL query as an extent, or a tuple containing a range of timestamps.\n",
    "\n",
    "Furthermore, your task functions are free to modify or replace extents - for example, a task function that performs convolutional filtering on arrays would need to grow an incoming extent to avoid edge effects."
   ]
  }
 ],
 "metadata": {
  "celltoolbar": "Raw Cell Format",
  "kernelspec": {
   "display_name": "Python 3",
   "language": "python",
   "name": "python3"
  },
  "language_info": {
   "codemirror_mode": {
    "name": "ipython",
    "version": 3
   },
   "file_extension": ".py",
   "mimetype": "text/x-python",
   "name": "python",
   "nbconvert_exporter": "python",
   "pygments_lexer": "ipython3",
   "version": "3.8.2"
  }
 },
 "nbformat": 4,
 "nbformat_minor": 4
}
