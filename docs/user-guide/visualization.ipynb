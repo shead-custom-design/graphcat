{
 "cells": [
  {
   "cell_type": "raw",
   "metadata": {
    "raw_mimetype": "text/restructuredtext"
   },
   "source": [
    ".. _visualization:\n",
    "\n",
    "Visualizing Graphs\n",
    "==================\n",
    "\n",
    "As you've probably noticed, visualizing computational graphs as diagrams plays a big role in this documentation, and these diagrams are extremely useful to understand and debug your own graphs.  This section will demonstrate how you can customize the standard visualization for your own work.\n",
    "\n",
    "First, let's create a sample graph, and see the default visualization style:"
   ]
  },
  {
   "cell_type": "code",
   "execution_count": 1,
   "metadata": {},
   "outputs": [],
   "source": [
    "import contextlib\n",
    "\n",
    "import graphcat\n",
    "\n",
    "def sample_graph(graph):\n",
    "    graph.add_task(\"A\")\n",
    "    graph.add_task(\"B\")\n",
    "    graph.add_task(\"C\")\n",
    "    graph.add_task(\"D\")\n",
    "    graph.add_task(\"E\")\n",
    "    graph.add_task(\"F\")\n",
    "    graph.add_task(\"G\", graphcat.raise_exception(RuntimeError()))\n",
    "\n",
    "    graph.set_links(\"A\", \"B\")\n",
    "    graph.set_links(\"B\", \"D\")\n",
    "    graph.set_links(\"C\", \"D\")\n",
    "    graph.set_links(\"D\", [\"E\", \"G\"])\n",
    "    graph.set_links(\"E\", \"F\")\n",
    "\n",
    "    return graph    \n",
    "\n",
    "graph = sample_graph(graphcat.StaticGraph())"
   ]
  },
  {
   "cell_type": "markdown",
   "metadata": {},
   "source": [
    "The easiest way to visualize our new graph is to use Graphcat's builtin functionality to display it in a notebook:"
   ]
  },
  {
   "cell_type": "code",
   "execution_count": 2,
   "metadata": {},
   "outputs": [
    {
     "data": {
      "image/svg+xml": [
       "<svg height=\"54pt\" viewBox=\"0.00 0.00 269.00 54.00\" width=\"269pt\" xmlns=\"http://www.w3.org/2000/svg\" xmlns:xlink=\"http://www.w3.org/1999/xlink\">\n",
       "<g class=\"graph\" id=\"graph0\" transform=\"scale(1 1) rotate(0) translate(4 50)\">\n",
       "<polygon fill=\"white\" points=\"-4,4 -4,-50 265,-50 265,4 -4,4\" stroke=\"transparent\"/>\n",
       "<!-- A -->\n",
       "<g class=\"node\" id=\"node1\">\n",
       "<title>A</title>\n",
       "<polygon fill=\"white\" points=\"29,-46 0,-46 0,-32 29,-32 29,-46\" stroke=\"#494744\"/>\n",
       "<text fill=\"#494744\" font-family=\"Helvetica,sans-Serif\" font-size=\"8.00\" text-anchor=\"middle\" x=\"14.5\" y=\"-36.6\">A</text>\n",
       "</g>\n",
       "<!-- B -->\n",
       "<g class=\"node\" id=\"node2\">\n",
       "<title>B</title>\n",
       "<polygon fill=\"white\" points=\"87,-46 58,-46 58,-32 87,-32 87,-46\" stroke=\"#494744\"/>\n",
       "<text fill=\"#494744\" font-family=\"Helvetica,sans-Serif\" font-size=\"8.00\" text-anchor=\"middle\" x=\"72.5\" y=\"-36.6\">B</text>\n",
       "</g>\n",
       "<!-- A&#45;&gt;B -->\n",
       "<g class=\"edge\" id=\"edge1\">\n",
       "<title>A-&gt;B</title>\n",
       "<path d=\"M29.06,-39C34.61,-39 41.22,-39 47.54,-39\" fill=\"none\" stroke=\"#494744\"/>\n",
       "<polygon fill=\"#494744\" points=\"47.68,-42.5 57.68,-39 47.68,-35.5 47.68,-42.5\" stroke=\"#494744\"/>\n",
       "</g>\n",
       "<!-- D -->\n",
       "<g class=\"node\" id=\"node3\">\n",
       "<title>D</title>\n",
       "<polygon fill=\"white\" points=\"145,-30 116,-30 116,-16 145,-16 145,-30\" stroke=\"#494744\"/>\n",
       "<text fill=\"#494744\" font-family=\"Helvetica,sans-Serif\" font-size=\"8.00\" text-anchor=\"middle\" x=\"130.5\" y=\"-20.6\">D</text>\n",
       "</g>\n",
       "<!-- B&#45;&gt;D -->\n",
       "<g class=\"edge\" id=\"edge2\">\n",
       "<title>B-&gt;D</title>\n",
       "<path d=\"M87.06,-35.13C92.75,-33.5 99.54,-31.56 106,-29.71\" fill=\"none\" stroke=\"#494744\"/>\n",
       "<polygon fill=\"#494744\" points=\"107.03,-33.06 115.68,-26.95 105.1,-26.33 107.03,-33.06\" stroke=\"#494744\"/>\n",
       "</g>\n",
       "<!-- E -->\n",
       "<g class=\"node\" id=\"node5\">\n",
       "<title>E</title>\n",
       "<polygon fill=\"white\" points=\"203,-46 174,-46 174,-32 203,-32 203,-46\" stroke=\"#494744\"/>\n",
       "<text fill=\"#494744\" font-family=\"Helvetica,sans-Serif\" font-size=\"8.00\" text-anchor=\"middle\" x=\"188.5\" y=\"-36.6\">E</text>\n",
       "</g>\n",
       "<!-- D&#45;&gt;E -->\n",
       "<g class=\"edge\" id=\"edge4\">\n",
       "<title>D-&gt;E</title>\n",
       "<path d=\"M145.06,-26.87C150.75,-28.5 157.54,-30.44 164,-32.29\" fill=\"none\" stroke=\"#494744\"/>\n",
       "<polygon fill=\"#494744\" points=\"163.1,-35.67 173.68,-35.05 165.03,-28.94 163.1,-35.67\" stroke=\"#494744\"/>\n",
       "</g>\n",
       "<!-- G -->\n",
       "<g class=\"node\" id=\"node6\">\n",
       "<title>G</title>\n",
       "<polygon fill=\"white\" points=\"203,-14 174,-14 174,0 203,0 203,-14\" stroke=\"#494744\"/>\n",
       "<text fill=\"#494744\" font-family=\"Helvetica,sans-Serif\" font-size=\"8.00\" text-anchor=\"middle\" x=\"188.5\" y=\"-4.6\">G</text>\n",
       "</g>\n",
       "<!-- D&#45;&gt;G -->\n",
       "<g class=\"edge\" id=\"edge5\">\n",
       "<title>D-&gt;G</title>\n",
       "<path d=\"M145.06,-19.13C150.75,-17.5 157.54,-15.56 164,-13.71\" fill=\"none\" stroke=\"#494744\"/>\n",
       "<polygon fill=\"#494744\" points=\"165.03,-17.06 173.68,-10.95 163.1,-10.33 165.03,-17.06\" stroke=\"#494744\"/>\n",
       "</g>\n",
       "<!-- C -->\n",
       "<g class=\"node\" id=\"node4\">\n",
       "<title>C</title>\n",
       "<polygon fill=\"white\" points=\"87,-14 58,-14 58,0 87,0 87,-14\" stroke=\"#494744\"/>\n",
       "<text fill=\"#494744\" font-family=\"Helvetica,sans-Serif\" font-size=\"8.00\" text-anchor=\"middle\" x=\"72.5\" y=\"-4.6\">C</text>\n",
       "</g>\n",
       "<!-- C&#45;&gt;D -->\n",
       "<g class=\"edge\" id=\"edge3\">\n",
       "<title>C-&gt;D</title>\n",
       "<path d=\"M87.06,-10.87C92.75,-12.5 99.54,-14.44 106,-16.29\" fill=\"none\" stroke=\"#494744\"/>\n",
       "<polygon fill=\"#494744\" points=\"105.1,-19.67 115.68,-19.05 107.03,-12.94 105.1,-19.67\" stroke=\"#494744\"/>\n",
       "</g>\n",
       "<!-- F -->\n",
       "<g class=\"node\" id=\"node7\">\n",
       "<title>F</title>\n",
       "<polygon fill=\"white\" points=\"261,-46 232,-46 232,-32 261,-32 261,-46\" stroke=\"#494744\"/>\n",
       "<text fill=\"#494744\" font-family=\"Helvetica,sans-Serif\" font-size=\"8.00\" text-anchor=\"middle\" x=\"246.5\" y=\"-36.6\">F</text>\n",
       "</g>\n",
       "<!-- E&#45;&gt;F -->\n",
       "<g class=\"edge\" id=\"edge6\">\n",
       "<title>E-&gt;F</title>\n",
       "<path d=\"M203.06,-39C208.61,-39 215.22,-39 221.54,-39\" fill=\"none\" stroke=\"#494744\"/>\n",
       "<polygon fill=\"#494744\" points=\"221.68,-42.5 231.68,-39 221.68,-35.5 221.68,-42.5\" stroke=\"#494744\"/>\n",
       "</g>\n",
       "</g>\n",
       "</svg>"
      ],
      "text/plain": [
       "<IPython.core.display.SVG object>"
      ]
     },
     "metadata": {},
     "output_type": "display_data"
    }
   ],
   "source": [
    "import graphcat.notebook\n",
    "graphcat.notebook.display(graph)"
   ]
  },
  {
   "cell_type": "markdown",
   "metadata": {},
   "source": [
    "The diagram represents each task as a box labelled with the task name.  Arrows point in the direction of data flow, from upstream tasks to the downstream tasks that depend on them.  The tasks are drawn as outlines because they haven't been executed yet:"
   ]
  },
  {
   "cell_type": "code",
   "execution_count": 3,
   "metadata": {},
   "outputs": [
    {
     "data": {
      "image/svg+xml": [
       "<svg height=\"54pt\" viewBox=\"0.00 0.00 269.00 54.00\" width=\"269pt\" xmlns=\"http://www.w3.org/2000/svg\" xmlns:xlink=\"http://www.w3.org/1999/xlink\">\n",
       "<g class=\"graph\" id=\"graph0\" transform=\"scale(1 1) rotate(0) translate(4 50)\">\n",
       "<polygon fill=\"white\" points=\"-4,4 -4,-50 265,-50 265,4 -4,4\" stroke=\"transparent\"/>\n",
       "<!-- A -->\n",
       "<g class=\"node\" id=\"node1\">\n",
       "<title>A</title>\n",
       "<polygon fill=\"#494744\" points=\"29,-46 0,-46 0,-32 29,-32 29,-46\" stroke=\"#494744\"/>\n",
       "<text fill=\"white\" font-family=\"Helvetica,sans-Serif\" font-size=\"8.00\" text-anchor=\"middle\" x=\"14.5\" y=\"-36.6\">A</text>\n",
       "</g>\n",
       "<!-- B -->\n",
       "<g class=\"node\" id=\"node2\">\n",
       "<title>B</title>\n",
       "<polygon fill=\"#494744\" points=\"87,-46 58,-46 58,-32 87,-32 87,-46\" stroke=\"#494744\"/>\n",
       "<text fill=\"white\" font-family=\"Helvetica,sans-Serif\" font-size=\"8.00\" text-anchor=\"middle\" x=\"72.5\" y=\"-36.6\">B</text>\n",
       "</g>\n",
       "<!-- A&#45;&gt;B -->\n",
       "<g class=\"edge\" id=\"edge1\">\n",
       "<title>A-&gt;B</title>\n",
       "<path d=\"M29.06,-39C34.61,-39 41.22,-39 47.54,-39\" fill=\"none\" stroke=\"#494744\"/>\n",
       "<polygon fill=\"#494744\" points=\"47.68,-42.5 57.68,-39 47.68,-35.5 47.68,-42.5\" stroke=\"#494744\"/>\n",
       "</g>\n",
       "<!-- D -->\n",
       "<g class=\"node\" id=\"node3\">\n",
       "<title>D</title>\n",
       "<polygon fill=\"#494744\" points=\"145,-30 116,-30 116,-16 145,-16 145,-30\" stroke=\"#494744\"/>\n",
       "<text fill=\"white\" font-family=\"Helvetica,sans-Serif\" font-size=\"8.00\" text-anchor=\"middle\" x=\"130.5\" y=\"-20.6\">D</text>\n",
       "</g>\n",
       "<!-- B&#45;&gt;D -->\n",
       "<g class=\"edge\" id=\"edge2\">\n",
       "<title>B-&gt;D</title>\n",
       "<path d=\"M87.06,-35.13C92.75,-33.5 99.54,-31.56 106,-29.71\" fill=\"none\" stroke=\"#494744\"/>\n",
       "<polygon fill=\"#494744\" points=\"107.03,-33.06 115.68,-26.95 105.1,-26.33 107.03,-33.06\" stroke=\"#494744\"/>\n",
       "</g>\n",
       "<!-- E -->\n",
       "<g class=\"node\" id=\"node5\">\n",
       "<title>E</title>\n",
       "<polygon fill=\"#494744\" points=\"203,-46 174,-46 174,-32 203,-32 203,-46\" stroke=\"#494744\"/>\n",
       "<text fill=\"white\" font-family=\"Helvetica,sans-Serif\" font-size=\"8.00\" text-anchor=\"middle\" x=\"188.5\" y=\"-36.6\">E</text>\n",
       "</g>\n",
       "<!-- D&#45;&gt;E -->\n",
       "<g class=\"edge\" id=\"edge4\">\n",
       "<title>D-&gt;E</title>\n",
       "<path d=\"M145.06,-26.87C150.75,-28.5 157.54,-30.44 164,-32.29\" fill=\"none\" stroke=\"#494744\"/>\n",
       "<polygon fill=\"#494744\" points=\"163.1,-35.67 173.68,-35.05 165.03,-28.94 163.1,-35.67\" stroke=\"#494744\"/>\n",
       "</g>\n",
       "<!-- G -->\n",
       "<g class=\"node\" id=\"node6\">\n",
       "<title>G</title>\n",
       "<polygon fill=\"crimson\" points=\"203,-14 174,-14 174,0 203,0 203,-14\" stroke=\"crimson\"/>\n",
       "<text fill=\"white\" font-family=\"Helvetica,sans-Serif\" font-size=\"8.00\" text-anchor=\"middle\" x=\"188.5\" y=\"-4.6\">G</text>\n",
       "</g>\n",
       "<!-- D&#45;&gt;G -->\n",
       "<g class=\"edge\" id=\"edge5\">\n",
       "<title>D-&gt;G</title>\n",
       "<path d=\"M145.06,-19.13C150.75,-17.5 157.54,-15.56 164,-13.71\" fill=\"none\" stroke=\"#494744\"/>\n",
       "<polygon fill=\"#494744\" points=\"165.03,-17.06 173.68,-10.95 163.1,-10.33 165.03,-17.06\" stroke=\"#494744\"/>\n",
       "</g>\n",
       "<!-- C -->\n",
       "<g class=\"node\" id=\"node4\">\n",
       "<title>C</title>\n",
       "<polygon fill=\"#494744\" points=\"87,-14 58,-14 58,0 87,0 87,-14\" stroke=\"#494744\"/>\n",
       "<text fill=\"white\" font-family=\"Helvetica,sans-Serif\" font-size=\"8.00\" text-anchor=\"middle\" x=\"72.5\" y=\"-4.6\">C</text>\n",
       "</g>\n",
       "<!-- C&#45;&gt;D -->\n",
       "<g class=\"edge\" id=\"edge3\">\n",
       "<title>C-&gt;D</title>\n",
       "<path d=\"M87.06,-10.87C92.75,-12.5 99.54,-14.44 106,-16.29\" fill=\"none\" stroke=\"#494744\"/>\n",
       "<polygon fill=\"#494744\" points=\"105.1,-19.67 115.68,-19.05 107.03,-12.94 105.1,-19.67\" stroke=\"#494744\"/>\n",
       "</g>\n",
       "<!-- F -->\n",
       "<g class=\"node\" id=\"node7\">\n",
       "<title>F</title>\n",
       "<polygon fill=\"white\" points=\"261,-46 232,-46 232,-32 261,-32 261,-46\" stroke=\"#494744\"/>\n",
       "<text fill=\"#494744\" font-family=\"Helvetica,sans-Serif\" font-size=\"8.00\" text-anchor=\"middle\" x=\"246.5\" y=\"-36.6\">F</text>\n",
       "</g>\n",
       "<!-- E&#45;&gt;F -->\n",
       "<g class=\"edge\" id=\"edge6\">\n",
       "<title>E-&gt;F</title>\n",
       "<path d=\"M203.06,-39C208.61,-39 215.22,-39 221.54,-39\" fill=\"none\" stroke=\"#494744\"/>\n",
       "<polygon fill=\"#494744\" points=\"221.68,-42.5 231.68,-39 221.68,-35.5 221.68,-42.5\" stroke=\"#494744\"/>\n",
       "</g>\n",
       "</g>\n",
       "</svg>"
      ],
      "text/plain": [
       "<IPython.core.display.SVG object>"
      ]
     },
     "metadata": {},
     "output_type": "display_data"
    }
   ],
   "source": [
    "graph.update(\"E\")\n",
    "with contextlib.suppress(RuntimeError):\n",
    "    graph.update(\"G\")\n",
    "graphcat.notebook.display(graph)"
   ]
  },
  {
   "cell_type": "markdown",
   "metadata": {},
   "source": [
    "As you can see, the tasks that executed successfully are drawn as solid boxes, to suggest that they're finished, while failed tasks (tasks that raise an exception), are highlighted in red."
   ]
  },
  {
   "cell_type": "raw",
   "metadata": {
    "raw_mimetype": "text/restructuredtext"
   },
   "source": [
    "Keep in mind that we've been looking at a :class:`StaticGraph<graphcat.static.StaticGraph>`.  Let's see what the same topology looks like when we use a :class:`DynamicGraph<graphcat.dynamic.DynamicGraph>`:"
   ]
  },
  {
   "cell_type": "code",
   "execution_count": 4,
   "metadata": {},
   "outputs": [
    {
     "data": {
      "image/svg+xml": [
       "<svg height=\"54pt\" viewBox=\"0.00 0.00 269.00 54.00\" width=\"269pt\" xmlns=\"http://www.w3.org/2000/svg\" xmlns:xlink=\"http://www.w3.org/1999/xlink\">\n",
       "<g class=\"graph\" id=\"graph0\" transform=\"scale(1 1) rotate(0) translate(4 50)\">\n",
       "<polygon fill=\"white\" points=\"-4,4 -4,-50 265,-50 265,4 -4,4\" stroke=\"transparent\"/>\n",
       "<!-- A -->\n",
       "<g class=\"node\" id=\"node1\">\n",
       "<title>A</title>\n",
       "<polygon fill=\"white\" points=\"29,-46 0,-46 0,-32 29,-32 29,-46\" stroke=\"#494744\"/>\n",
       "<text fill=\"#494744\" font-family=\"Helvetica,sans-Serif\" font-size=\"8.00\" text-anchor=\"middle\" x=\"14.5\" y=\"-36.6\">A</text>\n",
       "</g>\n",
       "<!-- B -->\n",
       "<g class=\"node\" id=\"node2\">\n",
       "<title>B</title>\n",
       "<polygon fill=\"white\" points=\"87,-46 58,-46 58,-32 87,-32 87,-46\" stroke=\"#494744\"/>\n",
       "<text fill=\"#494744\" font-family=\"Helvetica,sans-Serif\" font-size=\"8.00\" text-anchor=\"middle\" x=\"72.5\" y=\"-36.6\">B</text>\n",
       "</g>\n",
       "<!-- A&#45;&gt;B -->\n",
       "<g class=\"edge\" id=\"edge1\">\n",
       "<title>A-&gt;B</title>\n",
       "<path d=\"M29.06,-39C34.61,-39 41.22,-39 47.54,-39\" fill=\"none\" stroke=\"#494744\"/>\n",
       "<polygon fill=\"none\" points=\"47.68,-42.5 57.68,-39 47.68,-35.5 47.68,-42.5\" stroke=\"#494744\"/>\n",
       "</g>\n",
       "<!-- D -->\n",
       "<g class=\"node\" id=\"node3\">\n",
       "<title>D</title>\n",
       "<polygon fill=\"white\" points=\"145,-30 116,-30 116,-16 145,-16 145,-30\" stroke=\"#494744\"/>\n",
       "<text fill=\"#494744\" font-family=\"Helvetica,sans-Serif\" font-size=\"8.00\" text-anchor=\"middle\" x=\"130.5\" y=\"-20.6\">D</text>\n",
       "</g>\n",
       "<!-- B&#45;&gt;D -->\n",
       "<g class=\"edge\" id=\"edge2\">\n",
       "<title>B-&gt;D</title>\n",
       "<path d=\"M87.06,-35.13C92.75,-33.5 99.54,-31.56 106,-29.71\" fill=\"none\" stroke=\"#494744\"/>\n",
       "<polygon fill=\"none\" points=\"107.03,-33.06 115.68,-26.95 105.1,-26.33 107.03,-33.06\" stroke=\"#494744\"/>\n",
       "</g>\n",
       "<!-- E -->\n",
       "<g class=\"node\" id=\"node5\">\n",
       "<title>E</title>\n",
       "<polygon fill=\"#494744\" points=\"203,-46 174,-46 174,-32 203,-32 203,-46\" stroke=\"#494744\"/>\n",
       "<text fill=\"white\" font-family=\"Helvetica,sans-Serif\" font-size=\"8.00\" text-anchor=\"middle\" x=\"188.5\" y=\"-36.6\">E</text>\n",
       "</g>\n",
       "<!-- D&#45;&gt;E -->\n",
       "<g class=\"edge\" id=\"edge4\">\n",
       "<title>D-&gt;E</title>\n",
       "<path d=\"M145.06,-26.87C150.75,-28.5 157.54,-30.44 164,-32.29\" fill=\"none\" stroke=\"#494744\"/>\n",
       "<polygon fill=\"none\" points=\"163.1,-35.67 173.68,-35.05 165.03,-28.94 163.1,-35.67\" stroke=\"#494744\"/>\n",
       "</g>\n",
       "<!-- G -->\n",
       "<g class=\"node\" id=\"node6\">\n",
       "<title>G</title>\n",
       "<polygon fill=\"crimson\" points=\"203,-14 174,-14 174,0 203,0 203,-14\" stroke=\"crimson\"/>\n",
       "<text fill=\"white\" font-family=\"Helvetica,sans-Serif\" font-size=\"8.00\" text-anchor=\"middle\" x=\"188.5\" y=\"-4.6\">G</text>\n",
       "</g>\n",
       "<!-- D&#45;&gt;G -->\n",
       "<g class=\"edge\" id=\"edge5\">\n",
       "<title>D-&gt;G</title>\n",
       "<path d=\"M145.06,-19.13C150.75,-17.5 157.54,-15.56 164,-13.71\" fill=\"none\" stroke=\"#494744\"/>\n",
       "<polygon fill=\"none\" points=\"165.03,-17.06 173.68,-10.95 163.1,-10.33 165.03,-17.06\" stroke=\"#494744\"/>\n",
       "</g>\n",
       "<!-- C -->\n",
       "<g class=\"node\" id=\"node4\">\n",
       "<title>C</title>\n",
       "<polygon fill=\"white\" points=\"87,-14 58,-14 58,0 87,0 87,-14\" stroke=\"#494744\"/>\n",
       "<text fill=\"#494744\" font-family=\"Helvetica,sans-Serif\" font-size=\"8.00\" text-anchor=\"middle\" x=\"72.5\" y=\"-4.6\">C</text>\n",
       "</g>\n",
       "<!-- C&#45;&gt;D -->\n",
       "<g class=\"edge\" id=\"edge3\">\n",
       "<title>C-&gt;D</title>\n",
       "<path d=\"M87.06,-10.87C92.75,-12.5 99.54,-14.44 106,-16.29\" fill=\"none\" stroke=\"#494744\"/>\n",
       "<polygon fill=\"none\" points=\"105.1,-19.67 115.68,-19.05 107.03,-12.94 105.1,-19.67\" stroke=\"#494744\"/>\n",
       "</g>\n",
       "<!-- F -->\n",
       "<g class=\"node\" id=\"node7\">\n",
       "<title>F</title>\n",
       "<polygon fill=\"white\" points=\"261,-46 232,-46 232,-32 261,-32 261,-46\" stroke=\"#494744\"/>\n",
       "<text fill=\"#494744\" font-family=\"Helvetica,sans-Serif\" font-size=\"8.00\" text-anchor=\"middle\" x=\"246.5\" y=\"-36.6\">F</text>\n",
       "</g>\n",
       "<!-- E&#45;&gt;F -->\n",
       "<g class=\"edge\" id=\"edge6\">\n",
       "<title>E-&gt;F</title>\n",
       "<path d=\"M203.06,-39C208.61,-39 215.22,-39 221.54,-39\" fill=\"none\" stroke=\"#494744\"/>\n",
       "<polygon fill=\"none\" points=\"221.68,-42.5 231.68,-39 221.68,-35.5 221.68,-42.5\" stroke=\"#494744\"/>\n",
       "</g>\n",
       "</g>\n",
       "</svg>"
      ],
      "text/plain": [
       "<IPython.core.display.SVG object>"
      ]
     },
     "metadata": {},
     "output_type": "display_data"
    }
   ],
   "source": [
    "graph = sample_graph(graphcat.DynamicGraph())\n",
    "\n",
    "graph.update(\"E\")\n",
    "with contextlib.suppress(RuntimeError):\n",
    "    graph.update(\"G\")\n",
    "\n",
    "graphcat.notebook.display(graph)"
   ]
  },
  {
   "cell_type": "raw",
   "metadata": {
    "raw_mimetype": "text/restructuredtext"
   },
   "source": [
    "The new diagram is different in two ways: first, because this is a dynamic graph and task \"E\" doesn't use any of its inputs (it's using the default :func:`graphcat.null<graphcat.common.null>` task function), none of the upstream tasks have been executed.  This is expected behavior for a dynamic graph, see :ref:`dynamic-graphs` for details.\n",
    "\n",
    "Second, the arrows are drawn as outlines instead of solid.  This is meant to suggest that the relationships are conditional and dynamic rather than static: an upstream task is only executed if the downstream task actually uses its output.\n",
    "\n",
    "Let's look at the equivalent :class:`StreamingGraph<graphcat.streaming.StreamingGraph>`:"
   ]
  },
  {
   "cell_type": "code",
   "execution_count": 5,
   "metadata": {},
   "outputs": [
    {
     "data": {
      "image/svg+xml": [
       "<svg height=\"54pt\" viewBox=\"0.00 0.00 269.00 54.00\" width=\"269pt\" xmlns=\"http://www.w3.org/2000/svg\" xmlns:xlink=\"http://www.w3.org/1999/xlink\">\n",
       "<g class=\"graph\" id=\"graph0\" transform=\"scale(1 1) rotate(0) translate(4 50)\">\n",
       "<polygon fill=\"white\" points=\"-4,4 -4,-50 265,-50 265,4 -4,4\" stroke=\"transparent\"/>\n",
       "<!-- A -->\n",
       "<g class=\"node\" id=\"node1\">\n",
       "<title>A</title>\n",
       "<polygon fill=\"white\" points=\"29,-46 0,-46 0,-32 29,-32 29,-46\" stroke=\"#494744\"/>\n",
       "<text fill=\"#494744\" font-family=\"Helvetica,sans-Serif\" font-size=\"8.00\" text-anchor=\"middle\" x=\"14.5\" y=\"-36.6\">A</text>\n",
       "</g>\n",
       "<!-- B -->\n",
       "<g class=\"node\" id=\"node2\">\n",
       "<title>B</title>\n",
       "<polygon fill=\"white\" points=\"87,-46 58,-46 58,-32 87,-32 87,-46\" stroke=\"#494744\"/>\n",
       "<text fill=\"#494744\" font-family=\"Helvetica,sans-Serif\" font-size=\"8.00\" text-anchor=\"middle\" x=\"72.5\" y=\"-36.6\">B</text>\n",
       "</g>\n",
       "<!-- A&#45;&gt;B -->\n",
       "<g class=\"edge\" id=\"edge1\">\n",
       "<title>A-&gt;B</title>\n",
       "<path d=\"M29.06,-39C34.61,-39 41.22,-39 47.54,-39\" fill=\"none\" stroke=\"#494744\"/>\n",
       "<polygon fill=\"none\" points=\"47.68,-39 47.68,-42.5 57.68,-39 47.68,-39\" stroke=\"#494744\"/>\n",
       "</g>\n",
       "<!-- D -->\n",
       "<g class=\"node\" id=\"node3\">\n",
       "<title>D</title>\n",
       "<polygon fill=\"white\" points=\"145,-30 116,-30 116,-16 145,-16 145,-30\" stroke=\"#494744\"/>\n",
       "<text fill=\"#494744\" font-family=\"Helvetica,sans-Serif\" font-size=\"8.00\" text-anchor=\"middle\" x=\"130.5\" y=\"-20.6\">D</text>\n",
       "</g>\n",
       "<!-- B&#45;&gt;D -->\n",
       "<g class=\"edge\" id=\"edge2\">\n",
       "<title>B-&gt;D</title>\n",
       "<path d=\"M87.06,-35.13C92.75,-33.5 99.54,-31.56 106,-29.71\" fill=\"none\" stroke=\"#494744\"/>\n",
       "<polygon fill=\"none\" points=\"106.06,-29.7 107.03,-33.06 115.68,-26.95 106.06,-29.7\" stroke=\"#494744\"/>\n",
       "</g>\n",
       "<!-- E -->\n",
       "<g class=\"node\" id=\"node5\">\n",
       "<title>E</title>\n",
       "<polygon fill=\"#494744\" points=\"203,-46 174,-46 174,-32 203,-32 203,-46\" stroke=\"#494744\"/>\n",
       "<text fill=\"white\" font-family=\"Helvetica,sans-Serif\" font-size=\"8.00\" text-anchor=\"middle\" x=\"188.5\" y=\"-36.6\">E</text>\n",
       "</g>\n",
       "<!-- D&#45;&gt;E -->\n",
       "<g class=\"edge\" id=\"edge4\">\n",
       "<title>D-&gt;E</title>\n",
       "<path d=\"M145.06,-26.87C150.75,-28.5 157.54,-30.44 164,-32.29\" fill=\"none\" stroke=\"#494744\"/>\n",
       "<polygon fill=\"none\" points=\"164.06,-32.3 163.1,-35.67 173.68,-35.05 164.06,-32.3\" stroke=\"#494744\"/>\n",
       "</g>\n",
       "<!-- G -->\n",
       "<g class=\"node\" id=\"node6\">\n",
       "<title>G</title>\n",
       "<polygon fill=\"crimson\" points=\"203,-14 174,-14 174,0 203,0 203,-14\" stroke=\"crimson\"/>\n",
       "<text fill=\"white\" font-family=\"Helvetica,sans-Serif\" font-size=\"8.00\" text-anchor=\"middle\" x=\"188.5\" y=\"-4.6\">G</text>\n",
       "</g>\n",
       "<!-- D&#45;&gt;G -->\n",
       "<g class=\"edge\" id=\"edge5\">\n",
       "<title>D-&gt;G</title>\n",
       "<path d=\"M145.06,-19.13C150.75,-17.5 157.54,-15.56 164,-13.71\" fill=\"none\" stroke=\"#494744\"/>\n",
       "<polygon fill=\"none\" points=\"164.06,-13.7 165.03,-17.06 173.68,-10.95 164.06,-13.7\" stroke=\"#494744\"/>\n",
       "</g>\n",
       "<!-- C -->\n",
       "<g class=\"node\" id=\"node4\">\n",
       "<title>C</title>\n",
       "<polygon fill=\"white\" points=\"87,-14 58,-14 58,0 87,0 87,-14\" stroke=\"#494744\"/>\n",
       "<text fill=\"#494744\" font-family=\"Helvetica,sans-Serif\" font-size=\"8.00\" text-anchor=\"middle\" x=\"72.5\" y=\"-4.6\">C</text>\n",
       "</g>\n",
       "<!-- C&#45;&gt;D -->\n",
       "<g class=\"edge\" id=\"edge3\">\n",
       "<title>C-&gt;D</title>\n",
       "<path d=\"M87.06,-10.87C92.75,-12.5 99.54,-14.44 106,-16.29\" fill=\"none\" stroke=\"#494744\"/>\n",
       "<polygon fill=\"none\" points=\"106.06,-16.3 105.1,-19.67 115.68,-19.05 106.06,-16.3\" stroke=\"#494744\"/>\n",
       "</g>\n",
       "<!-- F -->\n",
       "<g class=\"node\" id=\"node7\">\n",
       "<title>F</title>\n",
       "<polygon fill=\"white\" points=\"261,-46 232,-46 232,-32 261,-32 261,-46\" stroke=\"#494744\"/>\n",
       "<text fill=\"#494744\" font-family=\"Helvetica,sans-Serif\" font-size=\"8.00\" text-anchor=\"middle\" x=\"246.5\" y=\"-36.6\">F</text>\n",
       "</g>\n",
       "<!-- E&#45;&gt;F -->\n",
       "<g class=\"edge\" id=\"edge6\">\n",
       "<title>E-&gt;F</title>\n",
       "<path d=\"M203.06,-39C208.61,-39 215.22,-39 221.54,-39\" fill=\"none\" stroke=\"#494744\"/>\n",
       "<polygon fill=\"none\" points=\"221.68,-39 221.68,-42.5 231.68,-39 221.68,-39\" stroke=\"#494744\"/>\n",
       "</g>\n",
       "</g>\n",
       "</svg>"
      ],
      "text/plain": [
       "<IPython.core.display.SVG object>"
      ]
     },
     "metadata": {},
     "output_type": "display_data"
    }
   ],
   "source": [
    "graph = sample_graph(graphcat.StreamingGraph())\n",
    "\n",
    "graph.update(\"E\", extent=None)\n",
    "with contextlib.suppress(RuntimeError):\n",
    "    graph.update(\"G\", extent=None)\n",
    "\n",
    "graphcat.notebook.display(graph)"
   ]
  },
  {
   "cell_type": "markdown",
   "metadata": {},
   "source": [
    "You can see that the streaming graph arrows are drawn as outlined half arrows, to suggest that the streaming graph is dynamic *and* that downstream tasks can request partial results from upstream tasks.\n",
    "\n",
    "Now that we've seen the default behavior for diagrams, let's look at the ways with which we can customize them.\n",
    "\n",
    "First, depending on the size of your graph, the lengths of its task names, and the width of your screen, you may wish to display the graph with the data flowing top-to-bottom instead of the default left-to-right:"
   ]
  },
  {
   "cell_type": "code",
   "execution_count": 6,
   "metadata": {},
   "outputs": [
    {
     "data": {
      "image/svg+xml": [
       "<svg height=\"194pt\" viewBox=\"0.00 0.00 84.00 194.00\" width=\"84pt\" xmlns=\"http://www.w3.org/2000/svg\" xmlns:xlink=\"http://www.w3.org/1999/xlink\">\n",
       "<g class=\"graph\" id=\"graph0\" transform=\"scale(1 1) rotate(0) translate(4 190)\">\n",
       "<polygon fill=\"white\" points=\"-4,4 -4,-190 80,-190 80,4 -4,4\" stroke=\"transparent\"/>\n",
       "<!-- A -->\n",
       "<g class=\"node\" id=\"node1\">\n",
       "<title>A</title>\n",
       "<polygon fill=\"white\" points=\"29,-186 0,-186 0,-172 29,-172 29,-186\" stroke=\"#494744\"/>\n",
       "<text fill=\"#494744\" font-family=\"Helvetica,sans-Serif\" font-size=\"8.00\" text-anchor=\"middle\" x=\"14.5\" y=\"-176.6\">A</text>\n",
       "</g>\n",
       "<!-- B -->\n",
       "<g class=\"node\" id=\"node2\">\n",
       "<title>B</title>\n",
       "<polygon fill=\"white\" points=\"29,-143 0,-143 0,-129 29,-129 29,-143\" stroke=\"#494744\"/>\n",
       "<text fill=\"#494744\" font-family=\"Helvetica,sans-Serif\" font-size=\"8.00\" text-anchor=\"middle\" x=\"14.5\" y=\"-133.6\">B</text>\n",
       "</g>\n",
       "<!-- A&#45;&gt;B -->\n",
       "<g class=\"edge\" id=\"edge1\">\n",
       "<title>A-&gt;B</title>\n",
       "<path d=\"M14.5,-171.95C14.5,-166.98 14.5,-159.72 14.5,-153.09\" fill=\"none\" stroke=\"#494744\"/>\n",
       "<polygon fill=\"none\" points=\"14.5,-153.07 18,-153.07 14.5,-143.07 14.5,-153.07\" stroke=\"#494744\"/>\n",
       "</g>\n",
       "<!-- D -->\n",
       "<g class=\"node\" id=\"node3\">\n",
       "<title>D</title>\n",
       "<polygon fill=\"white\" points=\"52,-100 23,-100 23,-86 52,-86 52,-100\" stroke=\"#494744\"/>\n",
       "<text fill=\"#494744\" font-family=\"Helvetica,sans-Serif\" font-size=\"8.00\" text-anchor=\"middle\" x=\"37.5\" y=\"-90.6\">D</text>\n",
       "</g>\n",
       "<!-- B&#45;&gt;D -->\n",
       "<g class=\"edge\" id=\"edge2\">\n",
       "<title>B-&gt;D</title>\n",
       "<path d=\"M17.89,-128.95C20.82,-123.74 25.16,-116 29.01,-109.13\" fill=\"none\" stroke=\"#494744\"/>\n",
       "<polygon fill=\"none\" points=\"29.2,-108.8 32.25,-110.51 34.09,-100.07 29.2,-108.8\" stroke=\"#494744\"/>\n",
       "</g>\n",
       "<!-- E -->\n",
       "<g class=\"node\" id=\"node5\">\n",
       "<title>E</title>\n",
       "<polygon fill=\"#494744\" points=\"29,-57 0,-57 0,-43 29,-43 29,-57\" stroke=\"#494744\"/>\n",
       "<text fill=\"white\" font-family=\"Helvetica,sans-Serif\" font-size=\"8.00\" text-anchor=\"middle\" x=\"14.5\" y=\"-47.6\">E</text>\n",
       "</g>\n",
       "<!-- D&#45;&gt;E -->\n",
       "<g class=\"edge\" id=\"edge4\">\n",
       "<title>D-&gt;E</title>\n",
       "<path d=\"M34.11,-85.95C31.18,-80.74 26.84,-73 22.99,-66.13\" fill=\"none\" stroke=\"#494744\"/>\n",
       "<polygon fill=\"none\" points=\"22.8,-65.8 25.85,-64.08 17.91,-57.07 22.8,-65.8\" stroke=\"#494744\"/>\n",
       "</g>\n",
       "<!-- G -->\n",
       "<g class=\"node\" id=\"node6\">\n",
       "<title>G</title>\n",
       "<polygon fill=\"crimson\" points=\"76,-57 47,-57 47,-43 76,-43 76,-57\" stroke=\"crimson\"/>\n",
       "<text fill=\"white\" font-family=\"Helvetica,sans-Serif\" font-size=\"8.00\" text-anchor=\"middle\" x=\"61.5\" y=\"-47.6\">G</text>\n",
       "</g>\n",
       "<!-- D&#45;&gt;G -->\n",
       "<g class=\"edge\" id=\"edge5\">\n",
       "<title>D-&gt;G</title>\n",
       "<path d=\"M41.04,-85.95C44.09,-80.74 48.62,-73 52.64,-66.13\" fill=\"none\" stroke=\"#494744\"/>\n",
       "<polygon fill=\"none\" points=\"52.89,-65.7 55.91,-67.47 57.94,-57.07 52.89,-65.7\" stroke=\"#494744\"/>\n",
       "</g>\n",
       "<!-- C -->\n",
       "<g class=\"node\" id=\"node4\">\n",
       "<title>C</title>\n",
       "<polygon fill=\"white\" points=\"76,-143 47,-143 47,-129 76,-129 76,-143\" stroke=\"#494744\"/>\n",
       "<text fill=\"#494744\" font-family=\"Helvetica,sans-Serif\" font-size=\"8.00\" text-anchor=\"middle\" x=\"61.5\" y=\"-133.6\">C</text>\n",
       "</g>\n",
       "<!-- C&#45;&gt;D -->\n",
       "<g class=\"edge\" id=\"edge3\">\n",
       "<title>C-&gt;D</title>\n",
       "<path d=\"M57.96,-128.95C54.91,-123.74 50.38,-116 46.36,-109.13\" fill=\"none\" stroke=\"#494744\"/>\n",
       "<polygon fill=\"none\" points=\"46.11,-108.7 49.13,-106.94 41.06,-100.07 46.11,-108.7\" stroke=\"#494744\"/>\n",
       "</g>\n",
       "<!-- F -->\n",
       "<g class=\"node\" id=\"node7\">\n",
       "<title>F</title>\n",
       "<polygon fill=\"white\" points=\"29,-14 0,-14 0,0 29,0 29,-14\" stroke=\"#494744\"/>\n",
       "<text fill=\"#494744\" font-family=\"Helvetica,sans-Serif\" font-size=\"8.00\" text-anchor=\"middle\" x=\"14.5\" y=\"-4.6\">F</text>\n",
       "</g>\n",
       "<!-- E&#45;&gt;F -->\n",
       "<g class=\"edge\" id=\"edge6\">\n",
       "<title>E-&gt;F</title>\n",
       "<path d=\"M14.5,-42.95C14.5,-37.98 14.5,-30.72 14.5,-24.09\" fill=\"none\" stroke=\"#494744\"/>\n",
       "<polygon fill=\"none\" points=\"14.5,-24.07 18,-24.07 14.5,-14.07 14.5,-24.07\" stroke=\"#494744\"/>\n",
       "</g>\n",
       "</g>\n",
       "</svg>"
      ],
      "text/plain": [
       "<IPython.core.display.SVG object>"
      ]
     },
     "metadata": {},
     "output_type": "display_data"
    }
   ],
   "source": [
    "graphcat.notebook.display(graph, rankdir=\"TB\")"
   ]
  },
  {
   "cell_type": "markdown",
   "metadata": {},
   "source": [
    "Depending on the reading direction of your language, you might also prefer right-to-left flow:"
   ]
  },
  {
   "cell_type": "code",
   "execution_count": 7,
   "metadata": {},
   "outputs": [
    {
     "data": {
      "image/svg+xml": [
       "<svg height=\"54pt\" viewBox=\"0.00 0.00 269.00 54.00\" width=\"269pt\" xmlns=\"http://www.w3.org/2000/svg\" xmlns:xlink=\"http://www.w3.org/1999/xlink\">\n",
       "<g class=\"graph\" id=\"graph0\" transform=\"scale(1 1) rotate(0) translate(4 50)\">\n",
       "<polygon fill=\"white\" points=\"-4,4 -4,-50 265,-50 265,4 -4,4\" stroke=\"transparent\"/>\n",
       "<!-- A -->\n",
       "<g class=\"node\" id=\"node1\">\n",
       "<title>A</title>\n",
       "<polygon fill=\"white\" points=\"261,-46 232,-46 232,-32 261,-32 261,-46\" stroke=\"#494744\"/>\n",
       "<text fill=\"#494744\" font-family=\"Helvetica,sans-Serif\" font-size=\"8.00\" text-anchor=\"middle\" x=\"246.5\" y=\"-36.6\">A</text>\n",
       "</g>\n",
       "<!-- B -->\n",
       "<g class=\"node\" id=\"node2\">\n",
       "<title>B</title>\n",
       "<polygon fill=\"white\" points=\"203,-46 174,-46 174,-32 203,-32 203,-46\" stroke=\"#494744\"/>\n",
       "<text fill=\"#494744\" font-family=\"Helvetica,sans-Serif\" font-size=\"8.00\" text-anchor=\"middle\" x=\"188.5\" y=\"-36.6\">B</text>\n",
       "</g>\n",
       "<!-- A&#45;&gt;B -->\n",
       "<g class=\"edge\" id=\"edge1\">\n",
       "<title>A-&gt;B</title>\n",
       "<path d=\"M231.94,-39C226.39,-39 219.78,-39 213.46,-39\" fill=\"none\" stroke=\"#494744\"/>\n",
       "<polygon fill=\"none\" points=\"213.32,-39 213.32,-35.5 203.32,-39 213.32,-39\" stroke=\"#494744\"/>\n",
       "</g>\n",
       "<!-- D -->\n",
       "<g class=\"node\" id=\"node3\">\n",
       "<title>D</title>\n",
       "<polygon fill=\"white\" points=\"145,-30 116,-30 116,-16 145,-16 145,-30\" stroke=\"#494744\"/>\n",
       "<text fill=\"#494744\" font-family=\"Helvetica,sans-Serif\" font-size=\"8.00\" text-anchor=\"middle\" x=\"130.5\" y=\"-20.6\">D</text>\n",
       "</g>\n",
       "<!-- B&#45;&gt;D -->\n",
       "<g class=\"edge\" id=\"edge2\">\n",
       "<title>B-&gt;D</title>\n",
       "<path d=\"M173.94,-35.13C168.25,-33.5 161.46,-31.56 155,-29.71\" fill=\"none\" stroke=\"#494744\"/>\n",
       "<polygon fill=\"none\" points=\"154.94,-29.7 155.9,-26.33 145.32,-26.95 154.94,-29.7\" stroke=\"#494744\"/>\n",
       "</g>\n",
       "<!-- E -->\n",
       "<g class=\"node\" id=\"node5\">\n",
       "<title>E</title>\n",
       "<polygon fill=\"#494744\" points=\"87,-46 58,-46 58,-32 87,-32 87,-46\" stroke=\"#494744\"/>\n",
       "<text fill=\"white\" font-family=\"Helvetica,sans-Serif\" font-size=\"8.00\" text-anchor=\"middle\" x=\"72.5\" y=\"-36.6\">E</text>\n",
       "</g>\n",
       "<!-- D&#45;&gt;E -->\n",
       "<g class=\"edge\" id=\"edge4\">\n",
       "<title>D-&gt;E</title>\n",
       "<path d=\"M115.94,-26.87C110.25,-28.5 103.46,-30.44 97,-32.29\" fill=\"none\" stroke=\"#494744\"/>\n",
       "<polygon fill=\"none\" points=\"96.94,-32.3 95.97,-28.94 87.32,-35.05 96.94,-32.3\" stroke=\"#494744\"/>\n",
       "</g>\n",
       "<!-- G -->\n",
       "<g class=\"node\" id=\"node6\">\n",
       "<title>G</title>\n",
       "<polygon fill=\"crimson\" points=\"87,-14 58,-14 58,0 87,0 87,-14\" stroke=\"crimson\"/>\n",
       "<text fill=\"white\" font-family=\"Helvetica,sans-Serif\" font-size=\"8.00\" text-anchor=\"middle\" x=\"72.5\" y=\"-4.6\">G</text>\n",
       "</g>\n",
       "<!-- D&#45;&gt;G -->\n",
       "<g class=\"edge\" id=\"edge5\">\n",
       "<title>D-&gt;G</title>\n",
       "<path d=\"M115.94,-19.13C110.25,-17.5 103.46,-15.56 97,-13.71\" fill=\"none\" stroke=\"#494744\"/>\n",
       "<polygon fill=\"none\" points=\"96.94,-13.7 97.9,-10.33 87.32,-10.95 96.94,-13.7\" stroke=\"#494744\"/>\n",
       "</g>\n",
       "<!-- C -->\n",
       "<g class=\"node\" id=\"node4\">\n",
       "<title>C</title>\n",
       "<polygon fill=\"white\" points=\"203,-14 174,-14 174,0 203,0 203,-14\" stroke=\"#494744\"/>\n",
       "<text fill=\"#494744\" font-family=\"Helvetica,sans-Serif\" font-size=\"8.00\" text-anchor=\"middle\" x=\"188.5\" y=\"-4.6\">C</text>\n",
       "</g>\n",
       "<!-- C&#45;&gt;D -->\n",
       "<g class=\"edge\" id=\"edge3\">\n",
       "<title>C-&gt;D</title>\n",
       "<path d=\"M173.94,-10.87C168.25,-12.5 161.46,-14.44 155,-16.29\" fill=\"none\" stroke=\"#494744\"/>\n",
       "<polygon fill=\"none\" points=\"154.94,-16.3 153.97,-12.94 145.32,-19.05 154.94,-16.3\" stroke=\"#494744\"/>\n",
       "</g>\n",
       "<!-- F -->\n",
       "<g class=\"node\" id=\"node7\">\n",
       "<title>F</title>\n",
       "<polygon fill=\"white\" points=\"29,-46 0,-46 0,-32 29,-32 29,-46\" stroke=\"#494744\"/>\n",
       "<text fill=\"#494744\" font-family=\"Helvetica,sans-Serif\" font-size=\"8.00\" text-anchor=\"middle\" x=\"14.5\" y=\"-36.6\">F</text>\n",
       "</g>\n",
       "<!-- E&#45;&gt;F -->\n",
       "<g class=\"edge\" id=\"edge6\">\n",
       "<title>E-&gt;F</title>\n",
       "<path d=\"M57.94,-39C52.39,-39 45.78,-39 39.46,-39\" fill=\"none\" stroke=\"#494744\"/>\n",
       "<polygon fill=\"none\" points=\"39.32,-39 39.32,-35.5 29.32,-39 39.32,-39\" stroke=\"#494744\"/>\n",
       "</g>\n",
       "</g>\n",
       "</svg>"
      ],
      "text/plain": [
       "<IPython.core.display.SVG object>"
      ]
     },
     "metadata": {},
     "output_type": "display_data"
    }
   ],
   "source": [
    "graphcat.notebook.display(graph, rankdir=\"RL\")"
   ]
  },
  {
   "cell_type": "markdown",
   "metadata": {},
   "source": [
    "You could also render the flow bottom-to-top, if you've been working on your [Tagbanwa](https://en.wikipedia.org/wiki/Tagbanwa_script):"
   ]
  },
  {
   "cell_type": "code",
   "execution_count": 8,
   "metadata": {},
   "outputs": [
    {
     "data": {
      "image/svg+xml": [
       "<svg height=\"194pt\" viewBox=\"0.00 0.00 84.00 194.00\" width=\"84pt\" xmlns=\"http://www.w3.org/2000/svg\" xmlns:xlink=\"http://www.w3.org/1999/xlink\">\n",
       "<g class=\"graph\" id=\"graph0\" transform=\"scale(1 1) rotate(0) translate(4 190)\">\n",
       "<polygon fill=\"white\" points=\"-4,4 -4,-190 80,-190 80,4 -4,4\" stroke=\"transparent\"/>\n",
       "<!-- A -->\n",
       "<g class=\"node\" id=\"node1\">\n",
       "<title>A</title>\n",
       "<polygon fill=\"white\" points=\"29,-14 0,-14 0,0 29,0 29,-14\" stroke=\"#494744\"/>\n",
       "<text fill=\"#494744\" font-family=\"Helvetica,sans-Serif\" font-size=\"8.00\" text-anchor=\"middle\" x=\"14.5\" y=\"-4.6\">A</text>\n",
       "</g>\n",
       "<!-- B -->\n",
       "<g class=\"node\" id=\"node2\">\n",
       "<title>B</title>\n",
       "<polygon fill=\"white\" points=\"29,-57 0,-57 0,-43 29,-43 29,-57\" stroke=\"#494744\"/>\n",
       "<text fill=\"#494744\" font-family=\"Helvetica,sans-Serif\" font-size=\"8.00\" text-anchor=\"middle\" x=\"14.5\" y=\"-47.6\">B</text>\n",
       "</g>\n",
       "<!-- A&#45;&gt;B -->\n",
       "<g class=\"edge\" id=\"edge1\">\n",
       "<title>A-&gt;B</title>\n",
       "<path d=\"M14.5,-14.05C14.5,-19.02 14.5,-26.28 14.5,-32.91\" fill=\"none\" stroke=\"#494744\"/>\n",
       "<polygon fill=\"none\" points=\"14.5,-32.93 11,-32.93 14.5,-42.93 14.5,-32.93\" stroke=\"#494744\"/>\n",
       "</g>\n",
       "<!-- D -->\n",
       "<g class=\"node\" id=\"node3\">\n",
       "<title>D</title>\n",
       "<polygon fill=\"white\" points=\"52,-100 23,-100 23,-86 52,-86 52,-100\" stroke=\"#494744\"/>\n",
       "<text fill=\"#494744\" font-family=\"Helvetica,sans-Serif\" font-size=\"8.00\" text-anchor=\"middle\" x=\"37.5\" y=\"-90.6\">D</text>\n",
       "</g>\n",
       "<!-- B&#45;&gt;D -->\n",
       "<g class=\"edge\" id=\"edge2\">\n",
       "<title>B-&gt;D</title>\n",
       "<path d=\"M17.89,-57.05C20.82,-62.26 25.16,-70 29.01,-76.87\" fill=\"none\" stroke=\"#494744\"/>\n",
       "<polygon fill=\"none\" points=\"29.2,-77.2 26.15,-78.92 34.09,-85.93 29.2,-77.2\" stroke=\"#494744\"/>\n",
       "</g>\n",
       "<!-- E -->\n",
       "<g class=\"node\" id=\"node5\">\n",
       "<title>E</title>\n",
       "<polygon fill=\"#494744\" points=\"29,-143 0,-143 0,-129 29,-129 29,-143\" stroke=\"#494744\"/>\n",
       "<text fill=\"white\" font-family=\"Helvetica,sans-Serif\" font-size=\"8.00\" text-anchor=\"middle\" x=\"14.5\" y=\"-133.6\">E</text>\n",
       "</g>\n",
       "<!-- D&#45;&gt;E -->\n",
       "<g class=\"edge\" id=\"edge4\">\n",
       "<title>D-&gt;E</title>\n",
       "<path d=\"M34.11,-100.05C31.18,-105.26 26.84,-113 22.99,-119.87\" fill=\"none\" stroke=\"#494744\"/>\n",
       "<polygon fill=\"none\" points=\"22.8,-120.2 19.75,-118.49 17.91,-128.93 22.8,-120.2\" stroke=\"#494744\"/>\n",
       "</g>\n",
       "<!-- G -->\n",
       "<g class=\"node\" id=\"node6\">\n",
       "<title>G</title>\n",
       "<polygon fill=\"crimson\" points=\"76,-143 47,-143 47,-129 76,-129 76,-143\" stroke=\"crimson\"/>\n",
       "<text fill=\"white\" font-family=\"Helvetica,sans-Serif\" font-size=\"8.00\" text-anchor=\"middle\" x=\"61.5\" y=\"-133.6\">G</text>\n",
       "</g>\n",
       "<!-- D&#45;&gt;G -->\n",
       "<g class=\"edge\" id=\"edge5\">\n",
       "<title>D-&gt;G</title>\n",
       "<path d=\"M41.04,-100.05C44.09,-105.26 48.62,-113 52.64,-119.87\" fill=\"none\" stroke=\"#494744\"/>\n",
       "<polygon fill=\"none\" points=\"52.89,-120.3 49.87,-122.06 57.94,-128.93 52.89,-120.3\" stroke=\"#494744\"/>\n",
       "</g>\n",
       "<!-- C -->\n",
       "<g class=\"node\" id=\"node4\">\n",
       "<title>C</title>\n",
       "<polygon fill=\"white\" points=\"76,-57 47,-57 47,-43 76,-43 76,-57\" stroke=\"#494744\"/>\n",
       "<text fill=\"#494744\" font-family=\"Helvetica,sans-Serif\" font-size=\"8.00\" text-anchor=\"middle\" x=\"61.5\" y=\"-47.6\">C</text>\n",
       "</g>\n",
       "<!-- C&#45;&gt;D -->\n",
       "<g class=\"edge\" id=\"edge3\">\n",
       "<title>C-&gt;D</title>\n",
       "<path d=\"M57.96,-57.05C54.91,-62.26 50.38,-70 46.36,-76.87\" fill=\"none\" stroke=\"#494744\"/>\n",
       "<polygon fill=\"none\" points=\"46.11,-77.3 43.09,-75.53 41.06,-85.93 46.11,-77.3\" stroke=\"#494744\"/>\n",
       "</g>\n",
       "<!-- F -->\n",
       "<g class=\"node\" id=\"node7\">\n",
       "<title>F</title>\n",
       "<polygon fill=\"white\" points=\"29,-186 0,-186 0,-172 29,-172 29,-186\" stroke=\"#494744\"/>\n",
       "<text fill=\"#494744\" font-family=\"Helvetica,sans-Serif\" font-size=\"8.00\" text-anchor=\"middle\" x=\"14.5\" y=\"-176.6\">F</text>\n",
       "</g>\n",
       "<!-- E&#45;&gt;F -->\n",
       "<g class=\"edge\" id=\"edge6\">\n",
       "<title>E-&gt;F</title>\n",
       "<path d=\"M14.5,-143.05C14.5,-148.02 14.5,-155.28 14.5,-161.91\" fill=\"none\" stroke=\"#494744\"/>\n",
       "<polygon fill=\"none\" points=\"14.5,-161.93 11,-161.93 14.5,-171.93 14.5,-161.93\" stroke=\"#494744\"/>\n",
       "</g>\n",
       "</g>\n",
       "</svg>"
      ],
      "text/plain": [
       "<IPython.core.display.SVG object>"
      ]
     },
     "metadata": {},
     "output_type": "display_data"
    }
   ],
   "source": [
    "graphcat.notebook.display(graph, rankdir=\"BT\")"
   ]
  },
  {
   "cell_type": "raw",
   "metadata": {
    "raw_mimetype": "text/restructuredtext"
   },
   "source": [
    "Next, let's start to modify the appearance of the graph, not just the layout.  To do so, we'll need to import a new module, :mod:`graphcat.diagram`, which is where all of Graphcat's drawing actually takes place:"
   ]
  },
  {
   "cell_type": "code",
   "execution_count": 9,
   "metadata": {},
   "outputs": [],
   "source": [
    "import graphcat.diagram\n",
    "\n",
    "agraph = graphcat.diagram.draw(graph)"
   ]
  },
  {
   "cell_type": "raw",
   "metadata": {
    "raw_mimetype": "text/restructuredtext"
   },
   "source": [
    "The call to :func:`graphcat.diagram.draw()` returns an :class:`AGraph<pygraphviz.AGraph>`, which is provided by the `PyGraphviz <https://pygraphviz.github.io/documentation.html>`_ library.  Once you have an AGraph created by graphcat, you can use its API to make modifications.  For example, you might want to change the appearance of a key task:"
   ]
  },
  {
   "cell_type": "code",
   "execution_count": 10,
   "metadata": {},
   "outputs": [],
   "source": [
    "agraph.get_node(\"C\").attr.update(color=\"royalblue\", fillcolor=\"royalblue\", fontcolor=\"white\", shape=\"circle\")"
   ]
  },
  {
   "cell_type": "markdown",
   "metadata": {},
   "source": [
    "To render the modified graph, pass it to the usual display function:"
   ]
  },
  {
   "cell_type": "code",
   "execution_count": 11,
   "metadata": {},
   "outputs": [
    {
     "data": {
      "image/svg+xml": [
       "<svg height=\"70pt\" viewBox=\"0.00 0.00 269.00 69.50\" width=\"269pt\" xmlns=\"http://www.w3.org/2000/svg\" xmlns:xlink=\"http://www.w3.org/1999/xlink\">\n",
       "<g class=\"graph\" id=\"graph0\" transform=\"scale(1 1) rotate(0) translate(4 65.5)\">\n",
       "<polygon fill=\"white\" points=\"-4,4 -4,-65.5 265,-65.5 265,4 -4,4\" stroke=\"transparent\"/>\n",
       "<!-- A -->\n",
       "<g class=\"node\" id=\"node1\">\n",
       "<title>A</title>\n",
       "<polygon fill=\"white\" points=\"29,-61.5 0,-61.5 0,-47.5 29,-47.5 29,-61.5\" stroke=\"#494744\"/>\n",
       "<text fill=\"#494744\" font-family=\"Helvetica,sans-Serif\" font-size=\"8.00\" text-anchor=\"middle\" x=\"14.5\" y=\"-52.1\">A</text>\n",
       "</g>\n",
       "<!-- B -->\n",
       "<g class=\"node\" id=\"node2\">\n",
       "<title>B</title>\n",
       "<polygon fill=\"white\" points=\"87,-61.5 58,-61.5 58,-47.5 87,-47.5 87,-61.5\" stroke=\"#494744\"/>\n",
       "<text fill=\"#494744\" font-family=\"Helvetica,sans-Serif\" font-size=\"8.00\" text-anchor=\"middle\" x=\"72.5\" y=\"-52.1\">B</text>\n",
       "</g>\n",
       "<!-- A&#45;&gt;B -->\n",
       "<g class=\"edge\" id=\"edge1\">\n",
       "<title>A-&gt;B</title>\n",
       "<path d=\"M29.06,-54.5C34.61,-54.5 41.22,-54.5 47.54,-54.5\" fill=\"none\" stroke=\"#494744\"/>\n",
       "<polygon fill=\"none\" points=\"47.68,-54.5 47.68,-58 57.68,-54.5 47.68,-54.5\" stroke=\"#494744\"/>\n",
       "</g>\n",
       "<!-- D -->\n",
       "<g class=\"node\" id=\"node3\">\n",
       "<title>D</title>\n",
       "<polygon fill=\"white\" points=\"145,-41.5 116,-41.5 116,-27.5 145,-27.5 145,-41.5\" stroke=\"#494744\"/>\n",
       "<text fill=\"#494744\" font-family=\"Helvetica,sans-Serif\" font-size=\"8.00\" text-anchor=\"middle\" x=\"130.5\" y=\"-32.1\">D</text>\n",
       "</g>\n",
       "<!-- B&#45;&gt;D -->\n",
       "<g class=\"edge\" id=\"edge2\">\n",
       "<title>B-&gt;D</title>\n",
       "<path d=\"M87.06,-49.66C92.75,-47.63 99.54,-45.2 106,-42.89\" fill=\"none\" stroke=\"#494744\"/>\n",
       "<polygon fill=\"none\" points=\"106.26,-42.8 107.44,-46.1 115.68,-39.44 106.26,-42.8\" stroke=\"#494744\"/>\n",
       "</g>\n",
       "<!-- E -->\n",
       "<g class=\"node\" id=\"node5\">\n",
       "<title>E</title>\n",
       "<polygon fill=\"#494744\" points=\"203,-57.5 174,-57.5 174,-43.5 203,-43.5 203,-57.5\" stroke=\"#494744\"/>\n",
       "<text fill=\"white\" font-family=\"Helvetica,sans-Serif\" font-size=\"8.00\" text-anchor=\"middle\" x=\"188.5\" y=\"-48.1\">E</text>\n",
       "</g>\n",
       "<!-- D&#45;&gt;E -->\n",
       "<g class=\"edge\" id=\"edge4\">\n",
       "<title>D-&gt;E</title>\n",
       "<path d=\"M145.06,-38.37C150.75,-40 157.54,-41.94 164,-43.79\" fill=\"none\" stroke=\"#494744\"/>\n",
       "<polygon fill=\"none\" points=\"164.06,-43.8 163.1,-47.17 173.68,-46.55 164.06,-43.8\" stroke=\"#494744\"/>\n",
       "</g>\n",
       "<!-- G -->\n",
       "<g class=\"node\" id=\"node6\">\n",
       "<title>G</title>\n",
       "<polygon fill=\"crimson\" points=\"203,-25.5 174,-25.5 174,-11.5 203,-11.5 203,-25.5\" stroke=\"crimson\"/>\n",
       "<text fill=\"white\" font-family=\"Helvetica,sans-Serif\" font-size=\"8.00\" text-anchor=\"middle\" x=\"188.5\" y=\"-16.1\">G</text>\n",
       "</g>\n",
       "<!-- D&#45;&gt;G -->\n",
       "<g class=\"edge\" id=\"edge5\">\n",
       "<title>D-&gt;G</title>\n",
       "<path d=\"M145.06,-30.63C150.75,-29 157.54,-27.06 164,-25.21\" fill=\"none\" stroke=\"#494744\"/>\n",
       "<polygon fill=\"none\" points=\"164.06,-25.2 165.03,-28.56 173.68,-22.45 164.06,-25.2\" stroke=\"#494744\"/>\n",
       "</g>\n",
       "<!-- C -->\n",
       "<g class=\"node\" id=\"node4\">\n",
       "<title>C</title>\n",
       "<ellipse cx=\"72.5\" cy=\"-14.5\" fill=\"royalblue\" rx=\"14.5\" ry=\"14.5\" stroke=\"royalblue\"/>\n",
       "<text fill=\"white\" font-family=\"Helvetica,sans-Serif\" font-size=\"8.00\" text-anchor=\"middle\" x=\"72.5\" y=\"-12.1\">C</text>\n",
       "</g>\n",
       "<!-- C&#45;&gt;D -->\n",
       "<g class=\"edge\" id=\"edge3\">\n",
       "<title>C-&gt;D</title>\n",
       "<path d=\"M86.49,-19.14C92.39,-21.25 99.56,-23.81 106.34,-26.23\" fill=\"none\" stroke=\"#494744\"/>\n",
       "<polygon fill=\"none\" points=\"106.38,-26.24 105.21,-29.54 115.8,-29.61 106.38,-26.24\" stroke=\"#494744\"/>\n",
       "</g>\n",
       "<!-- F -->\n",
       "<g class=\"node\" id=\"node7\">\n",
       "<title>F</title>\n",
       "<polygon fill=\"white\" points=\"261,-57.5 232,-57.5 232,-43.5 261,-43.5 261,-57.5\" stroke=\"#494744\"/>\n",
       "<text fill=\"#494744\" font-family=\"Helvetica,sans-Serif\" font-size=\"8.00\" text-anchor=\"middle\" x=\"246.5\" y=\"-48.1\">F</text>\n",
       "</g>\n",
       "<!-- E&#45;&gt;F -->\n",
       "<g class=\"edge\" id=\"edge6\">\n",
       "<title>E-&gt;F</title>\n",
       "<path d=\"M203.06,-50.5C208.61,-50.5 215.22,-50.5 221.54,-50.5\" fill=\"none\" stroke=\"#494744\"/>\n",
       "<polygon fill=\"none\" points=\"221.68,-50.5 221.68,-54 231.68,-50.5 221.68,-50.5\" stroke=\"#494744\"/>\n",
       "</g>\n",
       "</g>\n",
       "</svg>"
      ],
      "text/plain": [
       "<IPython.core.display.SVG object>"
      ]
     },
     "metadata": {},
     "output_type": "display_data"
    }
   ],
   "source": [
    "graphcat.notebook.display(agraph)"
   ]
  },
  {
   "cell_type": "markdown",
   "metadata": {},
   "source": [
    "You could also highlight an important relationship:"
   ]
  },
  {
   "cell_type": "code",
   "execution_count": 12,
   "metadata": {},
   "outputs": [
    {
     "data": {
      "image/svg+xml": [
       "<svg height=\"70pt\" viewBox=\"0.00 0.00 269.00 69.50\" width=\"269pt\" xmlns=\"http://www.w3.org/2000/svg\" xmlns:xlink=\"http://www.w3.org/1999/xlink\">\n",
       "<g class=\"graph\" id=\"graph0\" transform=\"scale(1 1) rotate(0) translate(4 65.5)\">\n",
       "<polygon fill=\"white\" points=\"-4,4 -4,-65.5 265,-65.5 265,4 -4,4\" stroke=\"transparent\"/>\n",
       "<!-- A -->\n",
       "<g class=\"node\" id=\"node1\">\n",
       "<title>A</title>\n",
       "<polygon fill=\"white\" points=\"29,-61.5 0,-61.5 0,-47.5 29,-47.5 29,-61.5\" stroke=\"#494744\"/>\n",
       "<text fill=\"#494744\" font-family=\"Helvetica,sans-Serif\" font-size=\"8.00\" text-anchor=\"middle\" x=\"14.5\" y=\"-52.1\">A</text>\n",
       "</g>\n",
       "<!-- B -->\n",
       "<g class=\"node\" id=\"node2\">\n",
       "<title>B</title>\n",
       "<polygon fill=\"white\" points=\"87,-61.5 58,-61.5 58,-47.5 87,-47.5 87,-61.5\" stroke=\"#494744\"/>\n",
       "<text fill=\"#494744\" font-family=\"Helvetica,sans-Serif\" font-size=\"8.00\" text-anchor=\"middle\" x=\"72.5\" y=\"-52.1\">B</text>\n",
       "</g>\n",
       "<!-- A&#45;&gt;B -->\n",
       "<g class=\"edge\" id=\"edge1\">\n",
       "<title>A-&gt;B</title>\n",
       "<path d=\"M29.06,-54.5C34.61,-54.5 41.22,-54.5 47.54,-54.5\" fill=\"none\" stroke=\"seagreen\" stroke-width=\"2\"/>\n",
       "<polygon fill=\"seagreen\" points=\"47.68,-58 57.68,-54.5 47.68,-51 47.68,-58\" stroke=\"seagreen\" stroke-width=\"2\"/>\n",
       "</g>\n",
       "<!-- D -->\n",
       "<g class=\"node\" id=\"node3\">\n",
       "<title>D</title>\n",
       "<polygon fill=\"white\" points=\"145,-41.5 116,-41.5 116,-27.5 145,-27.5 145,-41.5\" stroke=\"#494744\"/>\n",
       "<text fill=\"#494744\" font-family=\"Helvetica,sans-Serif\" font-size=\"8.00\" text-anchor=\"middle\" x=\"130.5\" y=\"-32.1\">D</text>\n",
       "</g>\n",
       "<!-- B&#45;&gt;D -->\n",
       "<g class=\"edge\" id=\"edge2\">\n",
       "<title>B-&gt;D</title>\n",
       "<path d=\"M87.06,-49.66C92.75,-47.63 99.54,-45.2 106,-42.89\" fill=\"none\" stroke=\"#494744\"/>\n",
       "<polygon fill=\"none\" points=\"106.26,-42.8 107.44,-46.1 115.68,-39.44 106.26,-42.8\" stroke=\"#494744\"/>\n",
       "</g>\n",
       "<!-- E -->\n",
       "<g class=\"node\" id=\"node5\">\n",
       "<title>E</title>\n",
       "<polygon fill=\"#494744\" points=\"203,-57.5 174,-57.5 174,-43.5 203,-43.5 203,-57.5\" stroke=\"#494744\"/>\n",
       "<text fill=\"white\" font-family=\"Helvetica,sans-Serif\" font-size=\"8.00\" text-anchor=\"middle\" x=\"188.5\" y=\"-48.1\">E</text>\n",
       "</g>\n",
       "<!-- D&#45;&gt;E -->\n",
       "<g class=\"edge\" id=\"edge4\">\n",
       "<title>D-&gt;E</title>\n",
       "<path d=\"M145.06,-38.37C150.75,-40 157.54,-41.94 164,-43.79\" fill=\"none\" stroke=\"#494744\"/>\n",
       "<polygon fill=\"none\" points=\"164.06,-43.8 163.1,-47.17 173.68,-46.55 164.06,-43.8\" stroke=\"#494744\"/>\n",
       "</g>\n",
       "<!-- G -->\n",
       "<g class=\"node\" id=\"node6\">\n",
       "<title>G</title>\n",
       "<polygon fill=\"crimson\" points=\"203,-25.5 174,-25.5 174,-11.5 203,-11.5 203,-25.5\" stroke=\"crimson\"/>\n",
       "<text fill=\"white\" font-family=\"Helvetica,sans-Serif\" font-size=\"8.00\" text-anchor=\"middle\" x=\"188.5\" y=\"-16.1\">G</text>\n",
       "</g>\n",
       "<!-- D&#45;&gt;G -->\n",
       "<g class=\"edge\" id=\"edge5\">\n",
       "<title>D-&gt;G</title>\n",
       "<path d=\"M145.06,-30.63C150.75,-29 157.54,-27.06 164,-25.21\" fill=\"none\" stroke=\"#494744\"/>\n",
       "<polygon fill=\"none\" points=\"164.06,-25.2 165.03,-28.56 173.68,-22.45 164.06,-25.2\" stroke=\"#494744\"/>\n",
       "</g>\n",
       "<!-- C -->\n",
       "<g class=\"node\" id=\"node4\">\n",
       "<title>C</title>\n",
       "<ellipse cx=\"72.5\" cy=\"-14.5\" fill=\"royalblue\" rx=\"14.5\" ry=\"14.5\" stroke=\"royalblue\"/>\n",
       "<text fill=\"white\" font-family=\"Helvetica,sans-Serif\" font-size=\"8.00\" text-anchor=\"middle\" x=\"72.5\" y=\"-12.1\">C</text>\n",
       "</g>\n",
       "<!-- C&#45;&gt;D -->\n",
       "<g class=\"edge\" id=\"edge3\">\n",
       "<title>C-&gt;D</title>\n",
       "<path d=\"M86.49,-19.14C92.39,-21.25 99.56,-23.81 106.34,-26.23\" fill=\"none\" stroke=\"#494744\"/>\n",
       "<polygon fill=\"none\" points=\"106.38,-26.24 105.21,-29.54 115.8,-29.61 106.38,-26.24\" stroke=\"#494744\"/>\n",
       "</g>\n",
       "<!-- F -->\n",
       "<g class=\"node\" id=\"node7\">\n",
       "<title>F</title>\n",
       "<polygon fill=\"white\" points=\"261,-57.5 232,-57.5 232,-43.5 261,-43.5 261,-57.5\" stroke=\"#494744\"/>\n",
       "<text fill=\"#494744\" font-family=\"Helvetica,sans-Serif\" font-size=\"8.00\" text-anchor=\"middle\" x=\"246.5\" y=\"-48.1\">F</text>\n",
       "</g>\n",
       "<!-- E&#45;&gt;F -->\n",
       "<g class=\"edge\" id=\"edge6\">\n",
       "<title>E-&gt;F</title>\n",
       "<path d=\"M203.06,-50.5C208.61,-50.5 215.22,-50.5 221.54,-50.5\" fill=\"none\" stroke=\"#494744\"/>\n",
       "<polygon fill=\"none\" points=\"221.68,-50.5 221.68,-54 231.68,-50.5 221.68,-50.5\" stroke=\"#494744\"/>\n",
       "</g>\n",
       "</g>\n",
       "</svg>"
      ],
      "text/plain": [
       "<IPython.core.display.SVG object>"
      ]
     },
     "metadata": {},
     "output_type": "display_data"
    }
   ],
   "source": [
    "agraph.get_edge(\"A\", \"B\").attr.update(color=\"seagreen\", penwidth=\"2\", arrowhead=\"normal\")\n",
    "graphcat.notebook.display(agraph)"
   ]
  },
  {
   "cell_type": "markdown",
   "metadata": {},
   "source": [
    "Or you could add a supplemental label to a task:"
   ]
  },
  {
   "cell_type": "code",
   "execution_count": 13,
   "metadata": {
    "tags": [
     "nbsphinx-thumbnail"
    ]
   },
   "outputs": [
    {
     "data": {
      "image/svg+xml": [
       "<svg height=\"217pt\" viewBox=\"0.00 0.00 126.26 217.00\" width=\"126pt\" xmlns=\"http://www.w3.org/2000/svg\" xmlns:xlink=\"http://www.w3.org/1999/xlink\">\n",
       "<g class=\"graph\" id=\"graph0\" transform=\"scale(1 1) rotate(0) translate(4 213)\">\n",
       "<polygon fill=\"white\" points=\"-4,4 -4,-213 122.26,-213 122.26,4 -4,4\" stroke=\"transparent\"/>\n",
       "<!-- A -->\n",
       "<g class=\"node\" id=\"node1\">\n",
       "<title>A</title>\n",
       "<polygon fill=\"white\" points=\"71.26,-201 42.26,-201 42.26,-187 71.26,-187 71.26,-201\" stroke=\"#494744\"/>\n",
       "<text fill=\"#494744\" font-family=\"Helvetica,sans-Serif\" font-size=\"8.00\" text-anchor=\"middle\" x=\"56.76\" y=\"-191.6\">A</text>\n",
       "<text fill=\"#494744\" font-family=\"Helvetica,sans-Serif\" font-size=\"8.00\" text-anchor=\"middle\" x=\"21.13\" y=\"-202.6\">192.168.0.1</text>\n",
       "</g>\n",
       "<!-- B -->\n",
       "<g class=\"node\" id=\"node2\">\n",
       "<title>B</title>\n",
       "<polygon fill=\"white\" points=\"71.26,-150.5 42.26,-150.5 42.26,-136.5 71.26,-136.5 71.26,-150.5\" stroke=\"#494744\"/>\n",
       "<text fill=\"#494744\" font-family=\"Helvetica,sans-Serif\" font-size=\"8.00\" text-anchor=\"middle\" x=\"56.76\" y=\"-141.1\">B</text>\n",
       "</g>\n",
       "<!-- A&#45;&gt;B -->\n",
       "<g class=\"edge\" id=\"edge1\">\n",
       "<title>A-&gt;B</title>\n",
       "<path d=\"M56.76,-186.66C56.76,-180.16 56.76,-169.79 56.76,-160.95\" fill=\"none\" stroke=\"seagreen\" stroke-width=\"2\"/>\n",
       "<polygon fill=\"seagreen\" points=\"60.26,-160.69 56.76,-150.69 53.26,-160.69 60.26,-160.69\" stroke=\"seagreen\" stroke-width=\"2\"/>\n",
       "</g>\n",
       "<!-- D -->\n",
       "<g class=\"node\" id=\"node3\">\n",
       "<title>D</title>\n",
       "<polygon fill=\"white\" points=\"94.26,-100 65.26,-100 65.26,-86 94.26,-86 94.26,-100\" stroke=\"#494744\"/>\n",
       "<text fill=\"#494744\" font-family=\"Helvetica,sans-Serif\" font-size=\"8.00\" text-anchor=\"middle\" x=\"79.76\" y=\"-90.6\">D</text>\n",
       "</g>\n",
       "<!-- B&#45;&gt;D -->\n",
       "<g class=\"edge\" id=\"edge2\">\n",
       "<title>B-&gt;D</title>\n",
       "<path d=\"M59.77,-136.16C62.99,-129.37 68.22,-118.34 72.52,-109.27\" fill=\"none\" stroke=\"#494744\"/>\n",
       "<polygon fill=\"none\" points=\"72.54,-109.22 75.7,-110.72 76.83,-100.19 72.54,-109.22\" stroke=\"#494744\"/>\n",
       "</g>\n",
       "<!-- E -->\n",
       "<g class=\"node\" id=\"node5\">\n",
       "<title>E</title>\n",
       "<polygon fill=\"#494744\" points=\"71.26,-57 42.26,-57 42.26,-43 71.26,-43 71.26,-57\" stroke=\"#494744\"/>\n",
       "<text fill=\"white\" font-family=\"Helvetica,sans-Serif\" font-size=\"8.00\" text-anchor=\"middle\" x=\"56.76\" y=\"-47.6\">E</text>\n",
       "</g>\n",
       "<!-- D&#45;&gt;E -->\n",
       "<g class=\"edge\" id=\"edge4\">\n",
       "<title>D-&gt;E</title>\n",
       "<path d=\"M76.37,-85.95C73.45,-80.74 69.1,-73 65.25,-66.13\" fill=\"none\" stroke=\"#494744\"/>\n",
       "<polygon fill=\"none\" points=\"65.06,-65.8 68.11,-64.08 60.17,-57.07 65.06,-65.8\" stroke=\"#494744\"/>\n",
       "</g>\n",
       "<!-- G -->\n",
       "<g class=\"node\" id=\"node6\">\n",
       "<title>G</title>\n",
       "<polygon fill=\"crimson\" points=\"118.26,-57 89.26,-57 89.26,-43 118.26,-43 118.26,-57\" stroke=\"crimson\"/>\n",
       "<text fill=\"white\" font-family=\"Helvetica,sans-Serif\" font-size=\"8.00\" text-anchor=\"middle\" x=\"103.76\" y=\"-47.6\">G</text>\n",
       "</g>\n",
       "<!-- D&#45;&gt;G -->\n",
       "<g class=\"edge\" id=\"edge5\">\n",
       "<title>D-&gt;G</title>\n",
       "<path d=\"M83.3,-85.95C86.35,-80.74 90.88,-73 94.91,-66.13\" fill=\"none\" stroke=\"#494744\"/>\n",
       "<polygon fill=\"none\" points=\"95.15,-65.7 98.17,-67.47 100.21,-57.07 95.15,-65.7\" stroke=\"#494744\"/>\n",
       "</g>\n",
       "<!-- C -->\n",
       "<g class=\"node\" id=\"node4\">\n",
       "<title>C</title>\n",
       "<ellipse cx=\"103.76\" cy=\"-143.5\" fill=\"royalblue\" rx=\"14.5\" ry=\"14.5\" stroke=\"royalblue\"/>\n",
       "<text fill=\"white\" font-family=\"Helvetica,sans-Serif\" font-size=\"8.00\" text-anchor=\"middle\" x=\"103.76\" y=\"-141.1\">C</text>\n",
       "</g>\n",
       "<!-- C&#45;&gt;D -->\n",
       "<g class=\"edge\" id=\"edge3\">\n",
       "<title>C-&gt;D</title>\n",
       "<path d=\"M97.71,-130.26C94.57,-123.93 90.71,-116.13 87.38,-109.39\" fill=\"none\" stroke=\"#494744\"/>\n",
       "<polygon fill=\"none\" points=\"87.18,-108.99 90.32,-107.44 82.75,-100.03 87.18,-108.99\" stroke=\"#494744\"/>\n",
       "</g>\n",
       "<!-- F -->\n",
       "<g class=\"node\" id=\"node7\">\n",
       "<title>F</title>\n",
       "<polygon fill=\"white\" points=\"71.26,-14 42.26,-14 42.26,0 71.26,0 71.26,-14\" stroke=\"#494744\"/>\n",
       "<text fill=\"#494744\" font-family=\"Helvetica,sans-Serif\" font-size=\"8.00\" text-anchor=\"middle\" x=\"56.76\" y=\"-4.6\">F</text>\n",
       "</g>\n",
       "<!-- E&#45;&gt;F -->\n",
       "<g class=\"edge\" id=\"edge6\">\n",
       "<title>E-&gt;F</title>\n",
       "<path d=\"M56.76,-42.95C56.76,-37.98 56.76,-30.72 56.76,-24.09\" fill=\"none\" stroke=\"#494744\"/>\n",
       "<polygon fill=\"none\" points=\"56.76,-24.07 60.26,-24.07 56.76,-14.07 56.76,-24.07\" stroke=\"#494744\"/>\n",
       "</g>\n",
       "</g>\n",
       "</svg>"
      ],
      "text/plain": [
       "<IPython.core.display.SVG object>"
      ]
     },
     "metadata": {},
     "output_type": "display_data"
    }
   ],
   "source": [
    "agraph.get_node(\"A\").attr.update(xlabel=\"192.168.0.1\")\n",
    "agraph.graph_attr[\"rankdir\"] = \"TB\"\n",
    "graphcat.notebook.display(agraph)"
   ]
  },
  {
   "cell_type": "raw",
   "metadata": {
    "raw_mimetype": "text/restructuredtext"
   },
   "source": [
    "Finally, you might want to render your graph as a bitmap image instead of an SVG, which can be done directly using the :class:`pygraphviz.AGraph` API:"
   ]
  },
  {
   "cell_type": "code",
   "execution_count": 14,
   "metadata": {},
   "outputs": [
    {
     "data": {
      "image/png": "[encoded data removed]",
      "text/plain": [
       "<IPython.core.display.Image object>"
      ]
     },
     "metadata": {},
     "output_type": "display_data"
    }
   ],
   "source": [
    "import IPython.display\n",
    "IPython.display.display(IPython.display.Image(data=agraph.draw(prog=\"dot\", format=\"png\")))"
   ]
  },
  {
   "cell_type": "markdown",
   "metadata": {},
   "source": [
    "Or, you might want to write the image directly to disk:"
   ]
  },
  {
   "cell_type": "code",
   "execution_count": 15,
   "metadata": {},
   "outputs": [],
   "source": [
    "agraph.draw(path=\"test.svg\", prog=\"dot\", format=\"svg\")"
   ]
  }
 ],
 "metadata": {
  "celltoolbar": "Raw Cell Format",
  "kernelspec": {
   "display_name": "Python 3",
   "language": "python",
   "name": "python3"
  },
  "language_info": {
   "codemirror_mode": {
    "name": "ipython",
    "version": 3
   },
   "file_extension": ".py",
   "mimetype": "text/x-python",
   "name": "python",
   "nbconvert_exporter": "python",
   "pygments_lexer": "ipython3",
   "version": "3.8.2"
  }
 },
 "nbformat": 4,
 "nbformat_minor": 4
}
