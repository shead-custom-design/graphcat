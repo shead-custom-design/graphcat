{
 "cells": [
  {
   "cell_type": "raw",
   "metadata": {
    "raw_mimetype": "text/restructuredtext"
   },
   "source": [
    ".. _expression-tasks:\n",
    "\n",
    "Expression Tasks\n",
    "================\n",
    "\n",
    "As your computational graphs grow in complexity, you may find that creating individual task functions for simple operations becomes onerous.  These operations are typically \"computational duct tape\" ... one-offs and special cases like type-conversion, arithmetic, and string formatting that don't lend themselves to dedicated task functions.\n",
    "\n",
    "To address this, Graphcat includes special support for *expression tasks*, which are tasks that execute a Python expression.  Expression tasks are also incredibly useful if you're using Graphcat in a GUI application and your end-users aren't software developers - using expression tasks, they can supplement the domain specific functionality you provide with their own custom tasks. \n",
    "\n",
    "Let's start with a simple example:"
   ]
  },
  {
   "cell_type": "code",
   "execution_count": 1,
   "metadata": {},
   "outputs": [
    {
     "data": {
      "image/svg+xml": [
       "<svg xmlns=\"http://www.w3.org/2000/svg\" xmlns:xlink=\"http://www.w3.org/1999/xlink\" width=\"37pt\" height=\"23pt\" viewBox=\"0.00 0.00 37.00 23.00\">\n",
       "<g id=\"graph0\" class=\"graph\" transform=\"scale(1 1) rotate(0) translate(4 19)\">\n",
       "<polygon fill=\"#ffffff\" stroke=\"transparent\" points=\"-4,4 -4,-19 33,-19 33,4 -4,4\"/>\n",
       "<!-- expr -->\n",
       "<g id=\"node1\" class=\"node\">\n",
       "<title>expr</title>\n",
       "<polygon fill=\"#ffffff\" stroke=\"#494744\" points=\"29,-15 0,-15 0,0 29,0 29,-15\"/>\n",
       "<text text-anchor=\"middle\" x=\"14.5\" y=\"-5.6\" font-family=\"Helvetica,sans-Serif\" font-size=\"8.00\" fill=\"#494744\">expr</text>\n",
       "</g>\n",
       "</g>\n",
       "</svg>"
      ],
      "text/plain": [
       "<IPython.core.display.SVG object>"
      ]
     },
     "metadata": {},
     "output_type": "display_data"
    }
   ],
   "source": [
    "import logging\n",
    "logging.basicConfig(level=logging.DEBUG)\n",
    "\n",
    "import graphcat.notebook\n",
    "\n",
    "graph = graphcat.StaticGraph()\n",
    "logger = graphcat.Logger(graph)\n",
    "\n",
    "graph.set_expression(\"expr\", \"3 + 4\")\n",
    "graphcat.notebook.display(graph)"
   ]
  },
  {
   "cell_type": "markdown",
   "metadata": {},
   "source": [
    "Here, we've created a single task that will return the value of the expression `3 + 4`:"
   ]
  },
  {
   "cell_type": "code",
   "execution_count": 2,
   "metadata": {},
   "outputs": [
    {
     "name": "stderr",
     "output_type": "stream",
     "text": [
      "INFO:graphcat.common:Task expr updating.\n",
      "INFO:graphcat.common:Task expr executing. Inputs: {}\n",
      "INFO:graphcat.common:Task expr finished. Output: 7\n"
     ]
    },
    {
     "name": "stdout",
     "output_type": "stream",
     "text": [
      "Output: 7\n"
     ]
    },
    {
     "data": {
      "image/svg+xml": [
       "<svg xmlns=\"http://www.w3.org/2000/svg\" xmlns:xlink=\"http://www.w3.org/1999/xlink\" width=\"37pt\" height=\"23pt\" viewBox=\"0.00 0.00 37.00 23.00\">\n",
       "<g id=\"graph0\" class=\"graph\" transform=\"scale(1 1) rotate(0) translate(4 19)\">\n",
       "<polygon fill=\"#ffffff\" stroke=\"transparent\" points=\"-4,4 -4,-19 33,-19 33,4 -4,4\"/>\n",
       "<!-- expr -->\n",
       "<g id=\"node1\" class=\"node\">\n",
       "<title>expr</title>\n",
       "<polygon fill=\"#494744\" stroke=\"#494744\" points=\"29,-15 0,-15 0,0 29,0 29,-15\"/>\n",
       "<text text-anchor=\"middle\" x=\"14.5\" y=\"-5.6\" font-family=\"Helvetica,sans-Serif\" font-size=\"8.00\" fill=\"#ffffff\">expr</text>\n",
       "</g>\n",
       "</g>\n",
       "</svg>"
      ],
      "text/plain": [
       "<IPython.core.display.SVG object>"
      ]
     },
     "metadata": {},
     "output_type": "display_data"
    }
   ],
   "source": [
    "print(\"Output:\", graph.output(\"expr\"))\n",
    "graphcat.notebook.display(graph)"
   ]
  },
  {
   "cell_type": "markdown",
   "metadata": {},
   "source": [
    "If we change the expression, the task becomes unfinished until the next time it's executed, just as you'd normally expect:"
   ]
  },
  {
   "cell_type": "code",
   "execution_count": 3,
   "metadata": {},
   "outputs": [
    {
     "data": {
      "image/svg+xml": [
       "<svg xmlns=\"http://www.w3.org/2000/svg\" xmlns:xlink=\"http://www.w3.org/1999/xlink\" width=\"37pt\" height=\"23pt\" viewBox=\"0.00 0.00 37.00 23.00\">\n",
       "<g id=\"graph0\" class=\"graph\" transform=\"scale(1 1) rotate(0) translate(4 19)\">\n",
       "<polygon fill=\"#ffffff\" stroke=\"transparent\" points=\"-4,4 -4,-19 33,-19 33,4 -4,4\"/>\n",
       "<!-- expr -->\n",
       "<g id=\"node1\" class=\"node\">\n",
       "<title>expr</title>\n",
       "<polygon fill=\"#ffffff\" stroke=\"#494744\" points=\"29,-15 0,-15 0,0 29,0 29,-15\"/>\n",
       "<text text-anchor=\"middle\" x=\"14.5\" y=\"-5.6\" font-family=\"Helvetica,sans-Serif\" font-size=\"8.00\" fill=\"#494744\">expr</text>\n",
       "</g>\n",
       "</g>\n",
       "</svg>"
      ],
      "text/plain": [
       "<IPython.core.display.SVG object>"
      ]
     },
     "metadata": {},
     "output_type": "display_data"
    }
   ],
   "source": [
    "graph.set_expression(\"expr\", \"'Hello' + ' ' + 'World!'\")\n",
    "graphcat.notebook.display(graph)"
   ]
  },
  {
   "cell_type": "code",
   "execution_count": 4,
   "metadata": {},
   "outputs": [
    {
     "name": "stderr",
     "output_type": "stream",
     "text": [
      "INFO:graphcat.common:Task expr updating.\n",
      "INFO:graphcat.common:Task expr executing. Inputs: {}\n",
      "INFO:graphcat.common:Task expr finished. Output: Hello World!\n"
     ]
    },
    {
     "name": "stdout",
     "output_type": "stream",
     "text": [
      "Output: Hello World!\n"
     ]
    }
   ],
   "source": [
    "print(\"Output:\", graph.output(\"expr\"))"
   ]
  },
  {
   "cell_type": "markdown",
   "metadata": {},
   "source": [
    "Of course, an expression task wouldn't be of much use if it didn't have inputs ... let's create an expression task that converts its input to an integer:"
   ]
  },
  {
   "cell_type": "code",
   "execution_count": 5,
   "metadata": {},
   "outputs": [
    {
     "name": "stderr",
     "output_type": "stream",
     "text": [
      "INFO:graphcat.common:Task A updating.\n",
      "INFO:graphcat.common:Task A executing. Inputs: {}\n",
      "INFO:graphcat.common:Task A finished. Output: 3.141592653589793\n",
      "INFO:graphcat.common:Task expr updating.\n",
      "INFO:graphcat.common:Task expr executing. Inputs: {None: 3.141592653589793}\n",
      "INFO:graphcat.common:Task expr finished. Output: 3\n"
     ]
    },
    {
     "name": "stdout",
     "output_type": "stream",
     "text": [
      "Output: 3\n"
     ]
    },
    {
     "data": {
      "image/svg+xml": [
       "<svg xmlns=\"http://www.w3.org/2000/svg\" xmlns:xlink=\"http://www.w3.org/1999/xlink\" width=\"95pt\" height=\"23pt\" viewBox=\"0.00 0.00 95.00 23.00\">\n",
       "<g id=\"graph0\" class=\"graph\" transform=\"scale(1 1) rotate(0) translate(4 19)\">\n",
       "<polygon fill=\"#ffffff\" stroke=\"transparent\" points=\"-4,4 -4,-19 91,-19 91,4 -4,4\"/>\n",
       "<!-- expr -->\n",
       "<g id=\"node1\" class=\"node\">\n",
       "<title>expr</title>\n",
       "<polygon fill=\"#494744\" stroke=\"#494744\" points=\"87,-15 58,-15 58,0 87,0 87,-15\"/>\n",
       "<text text-anchor=\"middle\" x=\"72.5\" y=\"-5.6\" font-family=\"Helvetica,sans-Serif\" font-size=\"8.00\" fill=\"#ffffff\">expr</text>\n",
       "</g>\n",
       "<!-- A -->\n",
       "<g id=\"node2\" class=\"node\">\n",
       "<title>A</title>\n",
       "<polygon fill=\"#494744\" stroke=\"#494744\" points=\"29,-15 0,-15 0,0 29,0 29,-15\"/>\n",
       "<text text-anchor=\"middle\" x=\"14.5\" y=\"-5.6\" font-family=\"Helvetica,sans-Serif\" font-size=\"8.00\" fill=\"#ffffff\">A</text>\n",
       "</g>\n",
       "<!-- A&#45;&gt;expr -->\n",
       "<g id=\"edge1\" class=\"edge\">\n",
       "<title>A-&gt;expr</title>\n",
       "<path fill=\"none\" stroke=\"#494744\" d=\"M29.1358,-7.5C34.7255,-7.5 41.2676,-7.5 47.5509,-7.5\"/>\n",
       "<polygon fill=\"#494744\" stroke=\"#494744\" points=\"47.6671,-11.0001 57.6671,-7.5 47.6671,-4.0001 47.6671,-11.0001\"/>\n",
       "</g>\n",
       "</g>\n",
       "</svg>"
      ],
      "text/plain": [
       "<IPython.core.display.SVG object>"
      ]
     },
     "metadata": {},
     "output_type": "display_data"
    }
   ],
   "source": [
    "import math\n",
    "\n",
    "graph.set_expression(\"expr\", \"int(inputs.getone(None))\")\n",
    "graph.set_task(\"A\", graphcat.constant(math.pi))\n",
    "graph.set_links(\"A\", \"expr\")\n",
    "\n",
    "print(\"Output:\", graph.output(\"expr\"))\n",
    "graphcat.notebook.display(graph)"
   ]
  },
  {
   "cell_type": "raw",
   "metadata": {},
   "source": [
    "Note that the expression has access to the same `inputs` argument as any task - in fact, it has access to the same arguments as every task function, including `graph`, `name`, `inputs`, and - for :ref:`streaming <streaming-graphs>` graphs - `extent`.  Here's an expression that converts its input into a nicely formatted string, using both `name` and `inputs`:"
   ]
  },
  {
   "cell_type": "code",
   "execution_count": 6,
   "metadata": {},
   "outputs": [
    {
     "name": "stderr",
     "output_type": "stream",
     "text": [
      "INFO:graphcat.common:Task A updating.\n",
      "INFO:graphcat.common:Task expr updating.\n",
      "INFO:graphcat.common:Task expr executing. Inputs: {None: 3.141592653589793}\n",
      "INFO:graphcat.common:Task expr finished. Output: Task 'expr' input: 3.1416\n"
     ]
    },
    {
     "name": "stdout",
     "output_type": "stream",
     "text": [
      "Output: Task 'expr' input: 3.1416\n"
     ]
    },
    {
     "data": {
      "image/svg+xml": [
       "<svg xmlns=\"http://www.w3.org/2000/svg\" xmlns:xlink=\"http://www.w3.org/1999/xlink\" width=\"95pt\" height=\"23pt\" viewBox=\"0.00 0.00 95.00 23.00\">\n",
       "<g id=\"graph0\" class=\"graph\" transform=\"scale(1 1) rotate(0) translate(4 19)\">\n",
       "<polygon fill=\"#ffffff\" stroke=\"transparent\" points=\"-4,4 -4,-19 91,-19 91,4 -4,4\"/>\n",
       "<!-- expr -->\n",
       "<g id=\"node1\" class=\"node\">\n",
       "<title>expr</title>\n",
       "<polygon fill=\"#494744\" stroke=\"#494744\" points=\"87,-15 58,-15 58,0 87,0 87,-15\"/>\n",
       "<text text-anchor=\"middle\" x=\"72.5\" y=\"-5.6\" font-family=\"Helvetica,sans-Serif\" font-size=\"8.00\" fill=\"#ffffff\">expr</text>\n",
       "</g>\n",
       "<!-- A -->\n",
       "<g id=\"node2\" class=\"node\">\n",
       "<title>A</title>\n",
       "<polygon fill=\"#494744\" stroke=\"#494744\" points=\"29,-15 0,-15 0,0 29,0 29,-15\"/>\n",
       "<text text-anchor=\"middle\" x=\"14.5\" y=\"-5.6\" font-family=\"Helvetica,sans-Serif\" font-size=\"8.00\" fill=\"#ffffff\">A</text>\n",
       "</g>\n",
       "<!-- A&#45;&gt;expr -->\n",
       "<g id=\"edge1\" class=\"edge\">\n",
       "<title>A-&gt;expr</title>\n",
       "<path fill=\"none\" stroke=\"#494744\" d=\"M29.1358,-7.5C34.7255,-7.5 41.2676,-7.5 47.5509,-7.5\"/>\n",
       "<polygon fill=\"#494744\" stroke=\"#494744\" points=\"47.6671,-11.0001 57.6671,-7.5 47.6671,-4.0001 47.6671,-11.0001\"/>\n",
       "</g>\n",
       "</g>\n",
       "</svg>"
      ],
      "text/plain": [
       "<IPython.core.display.SVG object>"
      ]
     },
     "metadata": {},
     "output_type": "display_data"
    }
   ],
   "source": [
    "graph.set_expression(\"expr\", \"f'Task {name!r} input: {inputs.getone(None):.4f}'\")\n",
    "\n",
    "print(\"Output:\", graph.output(\"expr\"))\n",
    "graphcat.notebook.display(graph)"
   ]
  },
  {
   "cell_type": "raw",
   "metadata": {
    "raw_mimetype": "text/restructuredtext"
   },
   "source": [
    "Here's an expression in a dynamic graph that returns one of its inputs - similar to the :func:`passthrough<graphcat.common.passthrough>` function - but the choice of which input is *itself* an input:"
   ]
  },
  {
   "cell_type": "code",
   "execution_count": 7,
   "metadata": {},
   "outputs": [
    {
     "name": "stderr",
     "output_type": "stream",
     "text": [
      "INFO:graphcat.common:Task expr updating.\n",
      "INFO:graphcat.common:Task expr executing. Inputs: {0, 1, 'choice'}\n",
      "INFO:graphcat.common:Task choice updating.\n",
      "INFO:graphcat.common:Task choice executing. Inputs: {}\n",
      "INFO:graphcat.common:Task choice finished. Output: 0\n",
      "INFO:graphcat.common:Task A updating.\n",
      "INFO:graphcat.common:Task A executing. Inputs: {}\n",
      "INFO:graphcat.common:Task A finished. Output: A\n",
      "INFO:graphcat.common:Task expr finished. Output: A\n"
     ]
    },
    {
     "name": "stdout",
     "output_type": "stream",
     "text": [
      "Output: A\n"
     ]
    },
    {
     "data": {
      "image/svg+xml": [
       "<svg xmlns=\"http://www.w3.org/2000/svg\" xmlns:xlink=\"http://www.w3.org/1999/xlink\" width=\"127pt\" height=\"89pt\" viewBox=\"0.00 0.00 127.00 89.00\">\n",
       "<g id=\"graph0\" class=\"graph\" transform=\"scale(1 1) rotate(0) translate(4 85)\">\n",
       "<polygon fill=\"#ffffff\" stroke=\"transparent\" points=\"-4,4 -4,-85 123,-85 123,4 -4,4\"/>\n",
       "<!-- A -->\n",
       "<g id=\"node1\" class=\"node\">\n",
       "<title>A</title>\n",
       "<polygon fill=\"#494744\" stroke=\"#494744\" points=\"32.5,-81 3.5,-81 3.5,-66 32.5,-66 32.5,-81\"/>\n",
       "<text text-anchor=\"middle\" x=\"18\" y=\"-71.6\" font-family=\"Helvetica,sans-Serif\" font-size=\"8.00\" fill=\"#ffffff\">A</text>\n",
       "</g>\n",
       "<!-- expr -->\n",
       "<g id=\"node2\" class=\"node\">\n",
       "<title>expr</title>\n",
       "<polygon fill=\"#494744\" stroke=\"#494744\" points=\"119,-48 90,-48 90,-33 119,-33 119,-48\"/>\n",
       "<text text-anchor=\"middle\" x=\"104.5\" y=\"-38.6\" font-family=\"Helvetica,sans-Serif\" font-size=\"8.00\" fill=\"#ffffff\">expr</text>\n",
       "</g>\n",
       "<!-- A&#45;&gt;expr -->\n",
       "<g id=\"edge1\" class=\"edge\">\n",
       "<title>A-&gt;expr</title>\n",
       "<path fill=\"none\" stroke=\"#494744\" d=\"M32.6735,-67.902C45.7217,-62.9241 65.0507,-55.55 80.3716,-49.7051\"/>\n",
       "<polygon fill=\"none\" stroke=\"#494744\" points=\"81.6589,-52.9601 89.7545,-46.1255 79.1637,-46.4199 81.6589,-52.9601\"/>\n",
       "<text text-anchor=\"middle\" x=\"63\" y=\"-62.1\" font-family=\"Helvetica,sans-Serif\" font-size=\"8.00\" fill=\"#000000\">0</text>\n",
       "</g>\n",
       "<!-- B -->\n",
       "<g id=\"node3\" class=\"node\">\n",
       "<title>B</title>\n",
       "<polygon fill=\"#ffffff\" stroke=\"#494744\" points=\"32.5,-48 3.5,-48 3.5,-33 32.5,-33 32.5,-48\"/>\n",
       "<text text-anchor=\"middle\" x=\"18\" y=\"-38.6\" font-family=\"Helvetica,sans-Serif\" font-size=\"8.00\" fill=\"#494744\">B</text>\n",
       "</g>\n",
       "<!-- B&#45;&gt;expr -->\n",
       "<g id=\"edge2\" class=\"edge\">\n",
       "<title>B-&gt;expr</title>\n",
       "<path fill=\"none\" stroke=\"#494744\" d=\"M32.6735,-40.5C45.4731,-40.5 64.3167,-40.5 79.4918,-40.5\"/>\n",
       "<polygon fill=\"none\" stroke=\"#494744\" points=\"79.7545,-44.0001 89.7545,-40.5 79.7544,-37.0001 79.7545,-44.0001\"/>\n",
       "<text text-anchor=\"middle\" x=\"63\" y=\"-43.1\" font-family=\"Helvetica,sans-Serif\" font-size=\"8.00\" fill=\"#000000\">1</text>\n",
       "</g>\n",
       "<!-- choice -->\n",
       "<g id=\"node4\" class=\"node\">\n",
       "<title>choice</title>\n",
       "<polygon fill=\"#494744\" stroke=\"#494744\" points=\"36,-15 0,-15 0,0 36,0 36,-15\"/>\n",
       "<text text-anchor=\"middle\" x=\"18\" y=\"-5.6\" font-family=\"Helvetica,sans-Serif\" font-size=\"8.00\" fill=\"#ffffff\">choice</text>\n",
       "</g>\n",
       "<!-- choice&#45;&gt;expr -->\n",
       "<g id=\"edge3\" class=\"edge\">\n",
       "<title>choice-&gt;expr</title>\n",
       "<path fill=\"none\" stroke=\"#494744\" d=\"M36.1025,-13.4511C47.373,-17.2549 62.1252,-22.4133 75,-27.5 76.8348,-28.2249 78.7237,-28.9967 80.6169,-29.7887\"/>\n",
       "<polygon fill=\"none\" stroke=\"#494744\" points=\"79.3213,-33.0415 89.8894,-33.7935 82.0968,-26.6153 79.3213,-33.0415\"/>\n",
       "<text text-anchor=\"middle\" x=\"63\" y=\"-30.1\" font-family=\"Helvetica,sans-Serif\" font-size=\"8.00\" fill=\"#000000\">choice</text>\n",
       "</g>\n",
       "</g>\n",
       "</svg>"
      ],
      "text/plain": [
       "<IPython.core.display.SVG object>"
      ]
     },
     "metadata": {},
     "output_type": "display_data"
    }
   ],
   "source": [
    "graph = graphcat.DynamicGraph()\n",
    "logger = graphcat.Logger(graph)\n",
    "\n",
    "graph.set_task(\"A\", graphcat.constant(\"A\"))\n",
    "graph.set_task(\"B\", graphcat.constant(\"B\"))\n",
    "graph.set_task(\"choice\", graphcat.constant(0))\n",
    "graph.set_expression(\"expr\", \"inputs.getone(inputs.getone('choice'))\")\n",
    "\n",
    "graph.add_links(\"A\", (\"expr\", 0))\n",
    "graph.add_links(\"B\", (\"expr\", 1))\n",
    "graph.add_links(\"choice\", (\"expr\", \"choice\"))\n",
    "\n",
    "print(\"Output:\", graph.output(\"expr\"))\n",
    "graphcat.notebook.display(graph)"
   ]
  },
  {
   "cell_type": "markdown",
   "metadata": {},
   "source": [
    "... and if we change the value of the \"choice\" task:"
   ]
  },
  {
   "cell_type": "code",
   "execution_count": 8,
   "metadata": {},
   "outputs": [
    {
     "name": "stderr",
     "output_type": "stream",
     "text": [
      "INFO:graphcat.common:Task expr updating.\n",
      "INFO:graphcat.common:Task expr executing. Inputs: {0, 1, 'choice'}\n",
      "INFO:graphcat.common:Task choice updating.\n",
      "INFO:graphcat.common:Task choice executing. Inputs: {}\n",
      "INFO:graphcat.common:Task choice finished. Output: 1\n",
      "INFO:graphcat.common:Task B updating.\n",
      "INFO:graphcat.common:Task B executing. Inputs: {}\n",
      "INFO:graphcat.common:Task B finished. Output: B\n",
      "INFO:graphcat.common:Task expr finished. Output: B\n"
     ]
    },
    {
     "name": "stdout",
     "output_type": "stream",
     "text": [
      "Output: B\n"
     ]
    },
    {
     "data": {
      "image/svg+xml": [
       "<svg xmlns=\"http://www.w3.org/2000/svg\" xmlns:xlink=\"http://www.w3.org/1999/xlink\" width=\"127pt\" height=\"89pt\" viewBox=\"0.00 0.00 127.00 89.00\">\n",
       "<g id=\"graph0\" class=\"graph\" transform=\"scale(1 1) rotate(0) translate(4 85)\">\n",
       "<polygon fill=\"#ffffff\" stroke=\"transparent\" points=\"-4,4 -4,-85 123,-85 123,4 -4,4\"/>\n",
       "<!-- A -->\n",
       "<g id=\"node1\" class=\"node\">\n",
       "<title>A</title>\n",
       "<polygon fill=\"#494744\" stroke=\"#494744\" points=\"32.5,-81 3.5,-81 3.5,-66 32.5,-66 32.5,-81\"/>\n",
       "<text text-anchor=\"middle\" x=\"18\" y=\"-71.6\" font-family=\"Helvetica,sans-Serif\" font-size=\"8.00\" fill=\"#ffffff\">A</text>\n",
       "</g>\n",
       "<!-- expr -->\n",
       "<g id=\"node2\" class=\"node\">\n",
       "<title>expr</title>\n",
       "<polygon fill=\"#494744\" stroke=\"#494744\" points=\"119,-48 90,-48 90,-33 119,-33 119,-48\"/>\n",
       "<text text-anchor=\"middle\" x=\"104.5\" y=\"-38.6\" font-family=\"Helvetica,sans-Serif\" font-size=\"8.00\" fill=\"#ffffff\">expr</text>\n",
       "</g>\n",
       "<!-- A&#45;&gt;expr -->\n",
       "<g id=\"edge1\" class=\"edge\">\n",
       "<title>A-&gt;expr</title>\n",
       "<path fill=\"none\" stroke=\"#494744\" d=\"M32.6735,-67.902C45.7217,-62.9241 65.0507,-55.55 80.3716,-49.7051\"/>\n",
       "<polygon fill=\"none\" stroke=\"#494744\" points=\"81.6589,-52.9601 89.7545,-46.1255 79.1637,-46.4199 81.6589,-52.9601\"/>\n",
       "<text text-anchor=\"middle\" x=\"63\" y=\"-62.1\" font-family=\"Helvetica,sans-Serif\" font-size=\"8.00\" fill=\"#000000\">0</text>\n",
       "</g>\n",
       "<!-- B -->\n",
       "<g id=\"node3\" class=\"node\">\n",
       "<title>B</title>\n",
       "<polygon fill=\"#494744\" stroke=\"#494744\" points=\"32.5,-48 3.5,-48 3.5,-33 32.5,-33 32.5,-48\"/>\n",
       "<text text-anchor=\"middle\" x=\"18\" y=\"-38.6\" font-family=\"Helvetica,sans-Serif\" font-size=\"8.00\" fill=\"#ffffff\">B</text>\n",
       "</g>\n",
       "<!-- B&#45;&gt;expr -->\n",
       "<g id=\"edge2\" class=\"edge\">\n",
       "<title>B-&gt;expr</title>\n",
       "<path fill=\"none\" stroke=\"#494744\" d=\"M32.6735,-40.5C45.4731,-40.5 64.3167,-40.5 79.4918,-40.5\"/>\n",
       "<polygon fill=\"none\" stroke=\"#494744\" points=\"79.7545,-44.0001 89.7545,-40.5 79.7544,-37.0001 79.7545,-44.0001\"/>\n",
       "<text text-anchor=\"middle\" x=\"63\" y=\"-43.1\" font-family=\"Helvetica,sans-Serif\" font-size=\"8.00\" fill=\"#000000\">1</text>\n",
       "</g>\n",
       "<!-- choice -->\n",
       "<g id=\"node4\" class=\"node\">\n",
       "<title>choice</title>\n",
       "<polygon fill=\"#494744\" stroke=\"#494744\" points=\"36,-15 0,-15 0,0 36,0 36,-15\"/>\n",
       "<text text-anchor=\"middle\" x=\"18\" y=\"-5.6\" font-family=\"Helvetica,sans-Serif\" font-size=\"8.00\" fill=\"#ffffff\">choice</text>\n",
       "</g>\n",
       "<!-- choice&#45;&gt;expr -->\n",
       "<g id=\"edge3\" class=\"edge\">\n",
       "<title>choice-&gt;expr</title>\n",
       "<path fill=\"none\" stroke=\"#494744\" d=\"M36.1025,-13.4511C47.373,-17.2549 62.1252,-22.4133 75,-27.5 76.8348,-28.2249 78.7237,-28.9967 80.6169,-29.7887\"/>\n",
       "<polygon fill=\"none\" stroke=\"#494744\" points=\"79.3213,-33.0415 89.8894,-33.7935 82.0968,-26.6153 79.3213,-33.0415\"/>\n",
       "<text text-anchor=\"middle\" x=\"63\" y=\"-30.1\" font-family=\"Helvetica,sans-Serif\" font-size=\"8.00\" fill=\"#000000\">choice</text>\n",
       "</g>\n",
       "</g>\n",
       "</svg>"
      ],
      "text/plain": [
       "<IPython.core.display.SVG object>"
      ]
     },
     "metadata": {},
     "output_type": "display_data"
    }
   ],
   "source": [
    "graph.set_task(\"choice\", graphcat.constant(1))\n",
    "\n",
    "print(\"Output:\", graph.output(\"expr\"))\n",
    "graphcat.notebook.display(graph)"
   ]
  },
  {
   "cell_type": "markdown",
   "metadata": {},
   "source": [
    "As we mentioned earlier, an expression task has access to the same arguments as any task, *including the graph object itself*.  What do you think will happen when we execute the expression in the following graph?"
   ]
  },
  {
   "cell_type": "code",
   "execution_count": 9,
   "metadata": {},
   "outputs": [
    {
     "data": {
      "image/svg+xml": [
       "<svg xmlns=\"http://www.w3.org/2000/svg\" xmlns:xlink=\"http://www.w3.org/1999/xlink\" width=\"95pt\" height=\"56pt\" viewBox=\"0.00 0.00 95.00 56.00\">\n",
       "<g id=\"graph0\" class=\"graph\" transform=\"scale(1 1) rotate(0) translate(4 52)\">\n",
       "<polygon fill=\"#ffffff\" stroke=\"transparent\" points=\"-4,4 -4,-52 91,-52 91,4 -4,4\"/>\n",
       "<!-- A -->\n",
       "<g id=\"node1\" class=\"node\">\n",
       "<title>A</title>\n",
       "<polygon fill=\"#ffffff\" stroke=\"#494744\" points=\"29,-15 0,-15 0,0 29,0 29,-15\"/>\n",
       "<text text-anchor=\"middle\" x=\"14.5\" y=\"-5.6\" font-family=\"Helvetica,sans-Serif\" font-size=\"8.00\" fill=\"#494744\">A</text>\n",
       "</g>\n",
       "<!-- expr -->\n",
       "<g id=\"node2\" class=\"node\">\n",
       "<title>expr</title>\n",
       "<polygon fill=\"#ffffff\" stroke=\"#494744\" points=\"87,-15 58,-15 58,0 87,0 87,-15\"/>\n",
       "<text text-anchor=\"middle\" x=\"72.5\" y=\"-5.6\" font-family=\"Helvetica,sans-Serif\" font-size=\"8.00\" fill=\"#494744\">expr</text>\n",
       "</g>\n",
       "<!-- A&#45;&gt;expr -->\n",
       "<g id=\"edge1\" class=\"edge\">\n",
       "<title>A-&gt;expr</title>\n",
       "<path fill=\"none\" stroke=\"#494744\" d=\"M29.1358,-7.5C34.7255,-7.5 41.2676,-7.5 47.5509,-7.5\"/>\n",
       "<polygon fill=\"none\" stroke=\"#494744\" points=\"47.6671,-11.0001 57.6671,-7.5 47.6671,-4.0001 47.6671,-11.0001\"/>\n",
       "</g>\n",
       "<!-- B -->\n",
       "<g id=\"node3\" class=\"node\">\n",
       "<title>B</title>\n",
       "<polygon fill=\"#ffffff\" stroke=\"#494744\" points=\"29,-48 0,-48 0,-33 29,-33 29,-48\"/>\n",
       "<text text-anchor=\"middle\" x=\"14.5\" y=\"-38.6\" font-family=\"Helvetica,sans-Serif\" font-size=\"8.00\" fill=\"#494744\">B</text>\n",
       "</g>\n",
       "</g>\n",
       "</svg>"
      ],
      "text/plain": [
       "<IPython.core.display.SVG object>"
      ]
     },
     "metadata": {},
     "output_type": "display_data"
    }
   ],
   "source": [
    "graph.clear_tasks()\n",
    "graph.set_task(\"A\", graphcat.constant(2))\n",
    "graph.set_task(\"B\", graphcat.constant(3))\n",
    "graph.set_expression(\"expr\", 'inputs.getone(None) * graph.output(\"B\")')\n",
    "graph.set_links(\"A\", \"expr\")\n",
    "\n",
    "graphcat.notebook.display(graph)"
   ]
  },
  {
   "cell_type": "markdown",
   "metadata": {},
   "source": [
    "There isn't a link (dependency) between \"B\" and the expression task, but the expression is using the graph object to directly access the output from \"B\".  If we execute the expression, we will get the expected result:"
   ]
  },
  {
   "cell_type": "code",
   "execution_count": 10,
   "metadata": {},
   "outputs": [
    {
     "name": "stderr",
     "output_type": "stream",
     "text": [
      "INFO:graphcat.common:Task expr updating.\n",
      "INFO:graphcat.common:Task expr executing. Inputs: {None}\n",
      "INFO:graphcat.common:Task A updating.\n",
      "INFO:graphcat.common:Task A executing. Inputs: {}\n",
      "INFO:graphcat.common:Task A finished. Output: 2\n",
      "INFO:graphcat.common:Task B updating.\n",
      "INFO:graphcat.common:Task B executing. Inputs: {}\n",
      "INFO:graphcat.common:Task B finished. Output: 3\n",
      "INFO:graphcat.common:Task expr finished. Output: 6\n"
     ]
    },
    {
     "name": "stdout",
     "output_type": "stream",
     "text": [
      "Output: 6\n"
     ]
    }
   ],
   "source": [
    "print(\"Output:\", graph.output(\"expr\"))"
   ]
  },
  {
   "cell_type": "markdown",
   "metadata": {},
   "source": [
    "Two times three does equal six.  However, you should be concerned that this introduces an implicit dependency between the \"upstream\" tasks \"B\" and the expression task - the point of a computational graph is that dependencies are explicitly captured by the links in the graph.  Without those links, a change to an upstream task won't trigger changes to downstream tasks that depend on it.  Or will it?  Let's change \"B\" and see what happens:"
   ]
  },
  {
   "cell_type": "code",
   "execution_count": 11,
   "metadata": {},
   "outputs": [
    {
     "name": "stderr",
     "output_type": "stream",
     "text": [
      "INFO:graphcat.common:Task expr updating.\n",
      "INFO:graphcat.common:Task expr executing. Inputs: {None, <Input.IMPLICIT: 1>}\n",
      "INFO:graphcat.common:Task A updating.\n",
      "INFO:graphcat.common:Task B updating.\n",
      "INFO:graphcat.common:Task B executing. Inputs: {}\n",
      "INFO:graphcat.common:Task B finished. Output: 5\n",
      "INFO:graphcat.common:Task expr finished. Output: 10\n"
     ]
    },
    {
     "name": "stdout",
     "output_type": "stream",
     "text": [
      "Output: 10\n"
     ]
    }
   ],
   "source": [
    "graph.set_task(\"B\", graphcat.constant(5))\n",
    "print(\"Output:\", graph.output(\"expr\"))"
   ]
  },
  {
   "cell_type": "markdown",
   "metadata": {},
   "source": [
    "Interesting - we got the correct result.  Let's take a look at the graph diagram to see what happened:"
   ]
  },
  {
   "cell_type": "code",
   "execution_count": 12,
   "metadata": {
    "tags": [
     "nbsphinx-thumbnail"
    ]
   },
   "outputs": [
    {
     "data": {
      "image/svg+xml": [
       "<svg xmlns=\"http://www.w3.org/2000/svg\" xmlns:xlink=\"http://www.w3.org/1999/xlink\" width=\"150pt\" height=\"56pt\" viewBox=\"0.00 0.00 150.00 56.00\">\n",
       "<g id=\"graph0\" class=\"graph\" transform=\"scale(1 1) rotate(0) translate(4 52)\">\n",
       "<polygon fill=\"#ffffff\" stroke=\"transparent\" points=\"-4,4 -4,-52 146,-52 146,4 -4,4\"/>\n",
       "<!-- A -->\n",
       "<g id=\"node1\" class=\"node\">\n",
       "<title>A</title>\n",
       "<polygon fill=\"#494744\" stroke=\"#494744\" points=\"29,-48 0,-48 0,-33 29,-33 29,-48\"/>\n",
       "<text text-anchor=\"middle\" x=\"14.5\" y=\"-38.6\" font-family=\"Helvetica,sans-Serif\" font-size=\"8.00\" fill=\"#ffffff\">A</text>\n",
       "</g>\n",
       "<!-- expr -->\n",
       "<g id=\"node2\" class=\"node\">\n",
       "<title>expr</title>\n",
       "<polygon fill=\"#494744\" stroke=\"#494744\" points=\"142,-31 113,-31 113,-16 142,-16 142,-31\"/>\n",
       "<text text-anchor=\"middle\" x=\"127.5\" y=\"-21.6\" font-family=\"Helvetica,sans-Serif\" font-size=\"8.00\" fill=\"#ffffff\">expr</text>\n",
       "</g>\n",
       "<!-- A&#45;&gt;expr -->\n",
       "<g id=\"edge1\" class=\"edge\">\n",
       "<title>A-&gt;expr</title>\n",
       "<path fill=\"none\" stroke=\"#494744\" d=\"M29.2728,-38.2775C47.8837,-35.4777 80.1424,-30.6246 102.593,-27.2471\"/>\n",
       "<polygon fill=\"none\" stroke=\"#494744\" points=\"103.3556,-30.6718 112.7236,-25.723 102.3142,-23.7497 103.3556,-30.6718\"/>\n",
       "</g>\n",
       "<!-- B -->\n",
       "<g id=\"node3\" class=\"node\">\n",
       "<title>B</title>\n",
       "<polygon fill=\"#494744\" stroke=\"#494744\" points=\"29,-15 0,-15 0,0 29,0 29,-15\"/>\n",
       "<text text-anchor=\"middle\" x=\"14.5\" y=\"-5.6\" font-family=\"Helvetica,sans-Serif\" font-size=\"8.00\" fill=\"#ffffff\">B</text>\n",
       "</g>\n",
       "<!-- B&#45;&gt;expr -->\n",
       "<g id=\"edge2\" class=\"edge\">\n",
       "<title>B-&gt;expr</title>\n",
       "<path fill=\"none\" stroke=\"#494744\" d=\"M29.0314,-8.8777C45.7295,-10.5448 73.9289,-13.6173 98,-17.5 99.5157,-17.7445 101.0719,-18.0118 102.6395,-18.2936\"/>\n",
       "<polygon fill=\"none\" stroke=\"#494744\" points=\"102.3543,-21.8035 112.838,-20.2726 103.6879,-14.9317 102.3543,-21.8035\"/>\n",
       "<text text-anchor=\"middle\" x=\"71\" y=\"-20.1\" font-family=\"Helvetica,sans-Serif\" font-size=\"8.00\" fill=\"#000000\">Input.IMPLICIT</text>\n",
       "</g>\n",
       "</g>\n",
       "</svg>"
      ],
      "text/plain": [
       "<IPython.core.display.SVG object>"
      ]
     },
     "metadata": {},
     "output_type": "display_data"
    }
   ],
   "source": [
    "graphcat.notebook.display(graph)"
   ]
  },
  {
   "cell_type": "markdown",
   "metadata": {},
   "source": [
    "The expression task has added an edge to capture the implicit dependency introduced by the code in the expression!  This edge ensures that changes to the upstream task cause affect the expression task."
   ]
  }
 ],
 "metadata": {
  "celltoolbar": "Raw Cell Format",
  "kernelspec": {
   "display_name": "Python 3",
   "language": "python",
   "name": "python3"
  },
  "language_info": {
   "codemirror_mode": {
    "name": "ipython",
    "version": 3
   },
   "file_extension": ".py",
   "mimetype": "text/x-python",
   "name": "python",
   "nbconvert_exporter": "python",
   "pygments_lexer": "ipython3",
   "version": "3.8.2"
  }
 },
 "nbformat": 4,
 "nbformat_minor": 4
}
