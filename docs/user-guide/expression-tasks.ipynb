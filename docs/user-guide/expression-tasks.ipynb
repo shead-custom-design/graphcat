{
 "cells": [
  {
   "cell_type": "raw",
   "metadata": {
    "raw_mimetype": "text/restructuredtext"
   },
   "source": [
    ".. _expression-tasks:\n",
    "\n",
    "Expression Tasks\n",
    "================\n",
    "\n",
    "As your computational graphs grow in complixity, you may find that creating individual task functions for simple operations becomes onerous.  These operations are typically \"computational duct tape\" ... one-offs and special cases including type-conversion, arithmetic, and string formatting that don't lend themselves to dedicated task functions.\n",
    "\n",
    "To address this, Graphcat includes special support for *expression tasks*, which are tasks that execute a Python expression.  Expression tasks are also incredibly useful if you're using Graphcat in a GUI application and your end-users aren't software developers - using expression tasks, they can expand on the domain specific functionality you provide, and create their own custom solutions with minimal coding experience. \n",
    "\n",
    "Let's start with a simple example:"
   ]
  },
  {
   "cell_type": "code",
   "execution_count": 1,
   "metadata": {},
   "outputs": [
    {
     "data": {
      "image/svg+xml": [
       "<svg height=\"22pt\" viewBox=\"0.00 0.00 37.00 22.00\" width=\"37pt\" xmlns=\"http://www.w3.org/2000/svg\" xmlns:xlink=\"http://www.w3.org/1999/xlink\">\n",
       "<g class=\"graph\" id=\"graph0\" transform=\"scale(1 1) rotate(0) translate(4 18)\">\n",
       "<polygon fill=\"white\" points=\"-4,4 -4,-18 33,-18 33,4 -4,4\" stroke=\"transparent\"/>\n",
       "<!-- expr -->\n",
       "<g class=\"node\" id=\"node1\">\n",
       "<title>expr</title>\n",
       "<polygon fill=\"white\" points=\"29,-14 0,-14 0,0 29,0 29,-14\" stroke=\"#494744\"/>\n",
       "<text fill=\"#494744\" font-family=\"Helvetica,sans-Serif\" font-size=\"8.00\" text-anchor=\"middle\" x=\"14.5\" y=\"-4.6\">expr</text>\n",
       "</g>\n",
       "</g>\n",
       "</svg>"
      ],
      "text/plain": [
       "<IPython.core.display.SVG object>"
      ]
     },
     "metadata": {},
     "output_type": "display_data"
    }
   ],
   "source": [
    "import logging\n",
    "logging.basicConfig(level=logging.DEBUG)\n",
    "\n",
    "import graphcat.notebook\n",
    "\n",
    "graph = graphcat.StaticGraph()\n",
    "logger = graphcat.Logger(graph)\n",
    "\n",
    "graph.set_expression(\"expr\", \"3 + 4\")\n",
    "graphcat.notebook.display(graph)"
   ]
  },
  {
   "cell_type": "markdown",
   "metadata": {},
   "source": [
    "Here, we've created a single task that will return the value of the expression `3 + 4`:"
   ]
  },
  {
   "cell_type": "code",
   "execution_count": 2,
   "metadata": {},
   "outputs": [
    {
     "name": "stderr",
     "output_type": "stream",
     "text": [
      "INFO:graphcat.common:Task expr updating.\n",
      "INFO:graphcat.common:Task expr executing. Inputs: {}\n",
      "INFO:graphcat.common:Task expr finished. Output: 7\n"
     ]
    },
    {
     "name": "stdout",
     "output_type": "stream",
     "text": [
      "Output: 7\n"
     ]
    },
    {
     "data": {
      "image/svg+xml": [
       "<svg height=\"22pt\" viewBox=\"0.00 0.00 37.00 22.00\" width=\"37pt\" xmlns=\"http://www.w3.org/2000/svg\" xmlns:xlink=\"http://www.w3.org/1999/xlink\">\n",
       "<g class=\"graph\" id=\"graph0\" transform=\"scale(1 1) rotate(0) translate(4 18)\">\n",
       "<polygon fill=\"white\" points=\"-4,4 -4,-18 33,-18 33,4 -4,4\" stroke=\"transparent\"/>\n",
       "<!-- expr -->\n",
       "<g class=\"node\" id=\"node1\">\n",
       "<title>expr</title>\n",
       "<polygon fill=\"#494744\" points=\"29,-14 0,-14 0,0 29,0 29,-14\" stroke=\"#494744\"/>\n",
       "<text fill=\"white\" font-family=\"Helvetica,sans-Serif\" font-size=\"8.00\" text-anchor=\"middle\" x=\"14.5\" y=\"-4.6\">expr</text>\n",
       "</g>\n",
       "</g>\n",
       "</svg>"
      ],
      "text/plain": [
       "<IPython.core.display.SVG object>"
      ]
     },
     "metadata": {},
     "output_type": "display_data"
    }
   ],
   "source": [
    "print(\"Output:\", graph.output(\"expr\"))\n",
    "graphcat.notebook.display(graph)"
   ]
  },
  {
   "cell_type": "markdown",
   "metadata": {},
   "source": [
    "If we change the expression, the node becomes unfinished until the next time it's executed, just as you'd normally expect:"
   ]
  },
  {
   "cell_type": "code",
   "execution_count": 3,
   "metadata": {},
   "outputs": [
    {
     "data": {
      "image/svg+xml": [
       "<svg height=\"22pt\" viewBox=\"0.00 0.00 37.00 22.00\" width=\"37pt\" xmlns=\"http://www.w3.org/2000/svg\" xmlns:xlink=\"http://www.w3.org/1999/xlink\">\n",
       "<g class=\"graph\" id=\"graph0\" transform=\"scale(1 1) rotate(0) translate(4 18)\">\n",
       "<polygon fill=\"white\" points=\"-4,4 -4,-18 33,-18 33,4 -4,4\" stroke=\"transparent\"/>\n",
       "<!-- expr -->\n",
       "<g class=\"node\" id=\"node1\">\n",
       "<title>expr</title>\n",
       "<polygon fill=\"white\" points=\"29,-14 0,-14 0,0 29,0 29,-14\" stroke=\"#494744\"/>\n",
       "<text fill=\"#494744\" font-family=\"Helvetica,sans-Serif\" font-size=\"8.00\" text-anchor=\"middle\" x=\"14.5\" y=\"-4.6\">expr</text>\n",
       "</g>\n",
       "</g>\n",
       "</svg>"
      ],
      "text/plain": [
       "<IPython.core.display.SVG object>"
      ]
     },
     "metadata": {},
     "output_type": "display_data"
    }
   ],
   "source": [
    "graph.set_expression(\"expr\", \"'Hello' + ' ' + 'World!'\")\n",
    "graphcat.notebook.display(graph)"
   ]
  },
  {
   "cell_type": "code",
   "execution_count": 4,
   "metadata": {},
   "outputs": [
    {
     "name": "stderr",
     "output_type": "stream",
     "text": [
      "INFO:graphcat.common:Task expr updating.\n",
      "INFO:graphcat.common:Task expr executing. Inputs: {}\n",
      "INFO:graphcat.common:Task expr finished. Output: Hello World!\n"
     ]
    },
    {
     "name": "stdout",
     "output_type": "stream",
     "text": [
      "Output: Hello World!\n"
     ]
    }
   ],
   "source": [
    "print(\"Output:\", graph.output(\"expr\"))"
   ]
  },
  {
   "cell_type": "markdown",
   "metadata": {},
   "source": [
    "Of course, an expression task wouldn't be of much use if it didn't have inputs ... let's setup an expression task that converts its input to an integer:"
   ]
  },
  {
   "cell_type": "code",
   "execution_count": 5,
   "metadata": {},
   "outputs": [
    {
     "name": "stderr",
     "output_type": "stream",
     "text": [
      "INFO:graphcat.common:Task A updating.\n",
      "INFO:graphcat.common:Task A executing. Inputs: {}\n",
      "INFO:graphcat.common:Task A finished. Output: 3.141592653589793\n",
      "INFO:graphcat.common:Task expr updating.\n",
      "INFO:graphcat.common:Task expr executing. Inputs: {None: 3.141592653589793}\n",
      "INFO:graphcat.common:Task expr finished. Output: 3\n"
     ]
    },
    {
     "name": "stdout",
     "output_type": "stream",
     "text": [
      "Output: 3\n"
     ]
    },
    {
     "data": {
      "image/svg+xml": [
       "<svg height=\"22pt\" viewBox=\"0.00 0.00 95.00 22.00\" width=\"95pt\" xmlns=\"http://www.w3.org/2000/svg\" xmlns:xlink=\"http://www.w3.org/1999/xlink\">\n",
       "<g class=\"graph\" id=\"graph0\" transform=\"scale(1 1) rotate(0) translate(4 18)\">\n",
       "<polygon fill=\"white\" points=\"-4,4 -4,-18 91,-18 91,4 -4,4\" stroke=\"transparent\"/>\n",
       "<!-- expr -->\n",
       "<g class=\"node\" id=\"node1\">\n",
       "<title>expr</title>\n",
       "<polygon fill=\"#494744\" points=\"87,-14 58,-14 58,0 87,0 87,-14\" stroke=\"#494744\"/>\n",
       "<text fill=\"white\" font-family=\"Helvetica,sans-Serif\" font-size=\"8.00\" text-anchor=\"middle\" x=\"72.5\" y=\"-4.6\">expr</text>\n",
       "</g>\n",
       "<!-- A -->\n",
       "<g class=\"node\" id=\"node2\">\n",
       "<title>A</title>\n",
       "<polygon fill=\"#494744\" points=\"29,-14 0,-14 0,0 29,0 29,-14\" stroke=\"#494744\"/>\n",
       "<text fill=\"white\" font-family=\"Helvetica,sans-Serif\" font-size=\"8.00\" text-anchor=\"middle\" x=\"14.5\" y=\"-4.6\">A</text>\n",
       "</g>\n",
       "<!-- A&#45;&gt;expr -->\n",
       "<g class=\"edge\" id=\"edge1\">\n",
       "<title>A-&gt;expr</title>\n",
       "<path d=\"M29.06,-7C34.61,-7 41.22,-7 47.54,-7\" fill=\"none\" stroke=\"#494744\"/>\n",
       "<polygon fill=\"#494744\" points=\"47.68,-10.5 57.68,-7 47.68,-3.5 47.68,-10.5\" stroke=\"#494744\"/>\n",
       "</g>\n",
       "</g>\n",
       "</svg>"
      ],
      "text/plain": [
       "<IPython.core.display.SVG object>"
      ]
     },
     "metadata": {},
     "output_type": "display_data"
    }
   ],
   "source": [
    "import math\n",
    "\n",
    "graph.set_expression(\"expr\", \"int(inputs.getone(None))\")\n",
    "graph.set_task(\"A\", graphcat.constant(math.pi))\n",
    "graph.set_links(\"A\", \"expr\")\n",
    "\n",
    "print(\"Output:\", graph.output(\"expr\"))\n",
    "graphcat.notebook.display(graph)"
   ]
  },
  {
   "cell_type": "markdown",
   "metadata": {},
   "source": [
    "Note that the expression has access to the same *inputs* argument as any task - in fact, it has access to the same arguments as every task function, including *graph*, *name*, *inputs*, and - for streaming graphs - *extent*.  Here's an expression that converts its input into a nicely formatted string:"
   ]
  },
  {
   "cell_type": "code",
   "execution_count": 6,
   "metadata": {},
   "outputs": [
    {
     "name": "stderr",
     "output_type": "stream",
     "text": [
      "INFO:graphcat.common:Task A updating.\n",
      "INFO:graphcat.common:Task expr updating.\n",
      "INFO:graphcat.common:Task expr executing. Inputs: {None: 3.141592653589793}\n",
      "INFO:graphcat.common:Task expr finished. Output: Task 'expr' input: 3.1416\n"
     ]
    },
    {
     "name": "stdout",
     "output_type": "stream",
     "text": [
      "Output: Task 'expr' input: 3.1416\n"
     ]
    },
    {
     "data": {
      "image/svg+xml": [
       "<svg height=\"22pt\" viewBox=\"0.00 0.00 95.00 22.00\" width=\"95pt\" xmlns=\"http://www.w3.org/2000/svg\" xmlns:xlink=\"http://www.w3.org/1999/xlink\">\n",
       "<g class=\"graph\" id=\"graph0\" transform=\"scale(1 1) rotate(0) translate(4 18)\">\n",
       "<polygon fill=\"white\" points=\"-4,4 -4,-18 91,-18 91,4 -4,4\" stroke=\"transparent\"/>\n",
       "<!-- expr -->\n",
       "<g class=\"node\" id=\"node1\">\n",
       "<title>expr</title>\n",
       "<polygon fill=\"#494744\" points=\"87,-14 58,-14 58,0 87,0 87,-14\" stroke=\"#494744\"/>\n",
       "<text fill=\"white\" font-family=\"Helvetica,sans-Serif\" font-size=\"8.00\" text-anchor=\"middle\" x=\"72.5\" y=\"-4.6\">expr</text>\n",
       "</g>\n",
       "<!-- A -->\n",
       "<g class=\"node\" id=\"node2\">\n",
       "<title>A</title>\n",
       "<polygon fill=\"#494744\" points=\"29,-14 0,-14 0,0 29,0 29,-14\" stroke=\"#494744\"/>\n",
       "<text fill=\"white\" font-family=\"Helvetica,sans-Serif\" font-size=\"8.00\" text-anchor=\"middle\" x=\"14.5\" y=\"-4.6\">A</text>\n",
       "</g>\n",
       "<!-- A&#45;&gt;expr -->\n",
       "<g class=\"edge\" id=\"edge1\">\n",
       "<title>A-&gt;expr</title>\n",
       "<path d=\"M29.06,-7C34.61,-7 41.22,-7 47.54,-7\" fill=\"none\" stroke=\"#494744\"/>\n",
       "<polygon fill=\"#494744\" points=\"47.68,-10.5 57.68,-7 47.68,-3.5 47.68,-10.5\" stroke=\"#494744\"/>\n",
       "</g>\n",
       "</g>\n",
       "</svg>"
      ],
      "text/plain": [
       "<IPython.core.display.SVG object>"
      ]
     },
     "metadata": {},
     "output_type": "display_data"
    }
   ],
   "source": [
    "graph.set_expression(\"expr\", \"f'Task {name!r} input: {inputs.getone(None):.4f}'\")\n",
    "\n",
    "print(\"Output:\", graph.output(\"expr\"))\n",
    "graphcat.notebook.display(graph)"
   ]
  },
  {
   "cell_type": "raw",
   "metadata": {
    "raw_mimetype": "text/restructuredtext"
   },
   "source": [
    "Here's an expression in a dynamic graph that returns one of its inputs - similar to the :func:`passthrough<graphcat.common.passthrough>` function - but the choice of which input is *itself* an input:"
   ]
  },
  {
   "cell_type": "code",
   "execution_count": 7,
   "metadata": {},
   "outputs": [
    {
     "name": "stderr",
     "output_type": "stream",
     "text": [
      "INFO:graphcat.common:Task expr updating.\n",
      "INFO:graphcat.common:Task expr executing. Inputs: {0, 1, 'choice'}\n",
      "INFO:graphcat.common:Task choice updating.\n",
      "INFO:graphcat.common:Task choice executing. Inputs: {}\n",
      "INFO:graphcat.common:Task choice finished. Output: 0\n",
      "INFO:graphcat.common:Task A updating.\n",
      "INFO:graphcat.common:Task A executing. Inputs: {}\n",
      "INFO:graphcat.common:Task A finished. Output: A\n",
      "INFO:graphcat.common:Task expr finished. Output: A\n"
     ]
    },
    {
     "name": "stdout",
     "output_type": "stream",
     "text": [
      "Output: A\n"
     ]
    },
    {
     "data": {
      "image/svg+xml": [
       "<svg height=\"86pt\" viewBox=\"0.00 0.00 125.25 86.00\" width=\"125pt\" xmlns=\"http://www.w3.org/2000/svg\" xmlns:xlink=\"http://www.w3.org/1999/xlink\">\n",
       "<g class=\"graph\" id=\"graph0\" transform=\"scale(1 1) rotate(0) translate(4 82)\">\n",
       "<polygon fill=\"white\" points=\"-4,4 -4,-82 121.25,-82 121.25,4 -4,4\" stroke=\"transparent\"/>\n",
       "<!-- A -->\n",
       "<g class=\"node\" id=\"node1\">\n",
       "<title>A</title>\n",
       "<polygon fill=\"#494744\" points=\"32.06,-78 3.06,-78 3.06,-64 32.06,-64 32.06,-78\" stroke=\"#494744\"/>\n",
       "<text fill=\"white\" font-family=\"Helvetica,sans-Serif\" font-size=\"8.00\" text-anchor=\"middle\" x=\"17.56\" y=\"-68.6\">A</text>\n",
       "</g>\n",
       "<!-- expr -->\n",
       "<g class=\"node\" id=\"node2\">\n",
       "<title>expr</title>\n",
       "<polygon fill=\"#494744\" points=\"117.25,-46 88.25,-46 88.25,-32 117.25,-32 117.25,-46\" stroke=\"#494744\"/>\n",
       "<text fill=\"white\" font-family=\"Helvetica,sans-Serif\" font-size=\"8.00\" text-anchor=\"middle\" x=\"102.75\" y=\"-36.6\">expr</text>\n",
       "</g>\n",
       "<!-- A&#45;&gt;expr -->\n",
       "<g class=\"edge\" id=\"edge1\">\n",
       "<title>A-&gt;expr</title>\n",
       "<path d=\"M32.3,-65.72C44.82,-60.9 63.58,-53.68 78.45,-47.96\" fill=\"none\" stroke=\"#494744\"/>\n",
       "<polygon fill=\"none\" points=\"79.92,-51.15 87.99,-44.29 77.4,-44.62 79.92,-51.15\" stroke=\"#494744\"/>\n",
       "<text font-family=\"Helvetica,sans-Serif\" font-size=\"8.00\" text-anchor=\"middle\" x=\"61.69\" y=\"-59.6\">0</text>\n",
       "</g>\n",
       "<!-- B -->\n",
       "<g class=\"node\" id=\"node3\">\n",
       "<title>B</title>\n",
       "<polygon fill=\"white\" points=\"32.06,-46 3.06,-46 3.06,-32 32.06,-32 32.06,-46\" stroke=\"#494744\"/>\n",
       "<text fill=\"#494744\" font-family=\"Helvetica,sans-Serif\" font-size=\"8.00\" text-anchor=\"middle\" x=\"17.56\" y=\"-36.6\">B</text>\n",
       "</g>\n",
       "<!-- B&#45;&gt;expr -->\n",
       "<g class=\"edge\" id=\"edge2\">\n",
       "<title>B-&gt;expr</title>\n",
       "<path d=\"M32.3,-39C44.58,-39 62.86,-39 77.59,-39\" fill=\"none\" stroke=\"#494744\"/>\n",
       "<polygon fill=\"none\" points=\"77.99,-42.5 87.99,-39 77.99,-35.5 77.99,-42.5\" stroke=\"#494744\"/>\n",
       "<text font-family=\"Helvetica,sans-Serif\" font-size=\"8.00\" text-anchor=\"middle\" x=\"61.69\" y=\"-40.6\">1</text>\n",
       "</g>\n",
       "<!-- choice -->\n",
       "<g class=\"node\" id=\"node4\">\n",
       "<title>choice</title>\n",
       "<polygon fill=\"#494744\" points=\"35.19,-14 -0.06,-14 -0.06,0 35.19,0 35.19,-14\" stroke=\"#494744\"/>\n",
       "<text fill=\"white\" font-family=\"Helvetica,sans-Serif\" font-size=\"8.00\" text-anchor=\"middle\" x=\"17.56\" y=\"-4.6\">choice</text>\n",
       "</g>\n",
       "<!-- choice&#45;&gt;expr -->\n",
       "<g class=\"edge\" id=\"edge3\">\n",
       "<title>choice-&gt;expr</title>\n",
       "<path d=\"M35.4,-12.92C46.25,-16.8 60.64,-22.04 73.25,-27 75.09,-27.72 76.98,-28.48 78.88,-29.26\" fill=\"none\" stroke=\"#494744\"/>\n",
       "<polygon fill=\"none\" points=\"77.6,-32.52 88.18,-33.13 80.29,-26.05 77.6,-32.52\" stroke=\"#494744\"/>\n",
       "<text font-family=\"Helvetica,sans-Serif\" font-size=\"8.00\" text-anchor=\"middle\" x=\"61.69\" y=\"-28.6\">choice</text>\n",
       "</g>\n",
       "</g>\n",
       "</svg>"
      ],
      "text/plain": [
       "<IPython.core.display.SVG object>"
      ]
     },
     "metadata": {},
     "output_type": "display_data"
    }
   ],
   "source": [
    "graph = graphcat.DynamicGraph()\n",
    "logger = graphcat.Logger(graph)\n",
    "\n",
    "graph.set_task(\"A\", graphcat.constant(\"A\"))\n",
    "graph.set_task(\"B\", graphcat.constant(\"B\"))\n",
    "graph.set_task(\"choice\", graphcat.constant(0))\n",
    "graph.set_expression(\"expr\", \"inputs.getone(inputs.getone('choice'))\")\n",
    "\n",
    "graph.add_links(\"A\", (\"expr\", 0))\n",
    "graph.add_links(\"B\", (\"expr\", 1))\n",
    "graph.add_links(\"choice\", (\"expr\", \"choice\"))\n",
    "\n",
    "print(\"Output:\", graph.output(\"expr\"))\n",
    "graphcat.notebook.display(graph)"
   ]
  },
  {
   "cell_type": "markdown",
   "metadata": {},
   "source": [
    "... and if we change the value of the \"choice\" task:"
   ]
  },
  {
   "cell_type": "code",
   "execution_count": 8,
   "metadata": {},
   "outputs": [
    {
     "name": "stderr",
     "output_type": "stream",
     "text": [
      "INFO:graphcat.common:Task expr updating.\n",
      "INFO:graphcat.common:Task expr executing. Inputs: {0, 1, 'choice'}\n",
      "INFO:graphcat.common:Task choice updating.\n",
      "INFO:graphcat.common:Task choice executing. Inputs: {}\n",
      "INFO:graphcat.common:Task choice finished. Output: 1\n",
      "INFO:graphcat.common:Task B updating.\n",
      "INFO:graphcat.common:Task B executing. Inputs: {}\n",
      "INFO:graphcat.common:Task B finished. Output: B\n",
      "INFO:graphcat.common:Task expr finished. Output: B\n"
     ]
    },
    {
     "name": "stdout",
     "output_type": "stream",
     "text": [
      "Output: B\n"
     ]
    },
    {
     "data": {
      "image/svg+xml": [
       "<svg height=\"86pt\" viewBox=\"0.00 0.00 125.25 86.00\" width=\"125pt\" xmlns=\"http://www.w3.org/2000/svg\" xmlns:xlink=\"http://www.w3.org/1999/xlink\">\n",
       "<g class=\"graph\" id=\"graph0\" transform=\"scale(1 1) rotate(0) translate(4 82)\">\n",
       "<polygon fill=\"white\" points=\"-4,4 -4,-82 121.25,-82 121.25,4 -4,4\" stroke=\"transparent\"/>\n",
       "<!-- A -->\n",
       "<g class=\"node\" id=\"node1\">\n",
       "<title>A</title>\n",
       "<polygon fill=\"#494744\" points=\"32.06,-78 3.06,-78 3.06,-64 32.06,-64 32.06,-78\" stroke=\"#494744\"/>\n",
       "<text fill=\"white\" font-family=\"Helvetica,sans-Serif\" font-size=\"8.00\" text-anchor=\"middle\" x=\"17.56\" y=\"-68.6\">A</text>\n",
       "</g>\n",
       "<!-- expr -->\n",
       "<g class=\"node\" id=\"node2\">\n",
       "<title>expr</title>\n",
       "<polygon fill=\"#494744\" points=\"117.25,-46 88.25,-46 88.25,-32 117.25,-32 117.25,-46\" stroke=\"#494744\"/>\n",
       "<text fill=\"white\" font-family=\"Helvetica,sans-Serif\" font-size=\"8.00\" text-anchor=\"middle\" x=\"102.75\" y=\"-36.6\">expr</text>\n",
       "</g>\n",
       "<!-- A&#45;&gt;expr -->\n",
       "<g class=\"edge\" id=\"edge1\">\n",
       "<title>A-&gt;expr</title>\n",
       "<path d=\"M32.3,-65.72C44.82,-60.9 63.58,-53.68 78.45,-47.96\" fill=\"none\" stroke=\"#494744\"/>\n",
       "<polygon fill=\"none\" points=\"79.92,-51.15 87.99,-44.29 77.4,-44.62 79.92,-51.15\" stroke=\"#494744\"/>\n",
       "<text font-family=\"Helvetica,sans-Serif\" font-size=\"8.00\" text-anchor=\"middle\" x=\"61.69\" y=\"-59.6\">0</text>\n",
       "</g>\n",
       "<!-- B -->\n",
       "<g class=\"node\" id=\"node3\">\n",
       "<title>B</title>\n",
       "<polygon fill=\"#494744\" points=\"32.06,-46 3.06,-46 3.06,-32 32.06,-32 32.06,-46\" stroke=\"#494744\"/>\n",
       "<text fill=\"white\" font-family=\"Helvetica,sans-Serif\" font-size=\"8.00\" text-anchor=\"middle\" x=\"17.56\" y=\"-36.6\">B</text>\n",
       "</g>\n",
       "<!-- B&#45;&gt;expr -->\n",
       "<g class=\"edge\" id=\"edge2\">\n",
       "<title>B-&gt;expr</title>\n",
       "<path d=\"M32.3,-39C44.58,-39 62.86,-39 77.59,-39\" fill=\"none\" stroke=\"#494744\"/>\n",
       "<polygon fill=\"none\" points=\"77.99,-42.5 87.99,-39 77.99,-35.5 77.99,-42.5\" stroke=\"#494744\"/>\n",
       "<text font-family=\"Helvetica,sans-Serif\" font-size=\"8.00\" text-anchor=\"middle\" x=\"61.69\" y=\"-40.6\">1</text>\n",
       "</g>\n",
       "<!-- choice -->\n",
       "<g class=\"node\" id=\"node4\">\n",
       "<title>choice</title>\n",
       "<polygon fill=\"#494744\" points=\"35.19,-14 -0.06,-14 -0.06,0 35.19,0 35.19,-14\" stroke=\"#494744\"/>\n",
       "<text fill=\"white\" font-family=\"Helvetica,sans-Serif\" font-size=\"8.00\" text-anchor=\"middle\" x=\"17.56\" y=\"-4.6\">choice</text>\n",
       "</g>\n",
       "<!-- choice&#45;&gt;expr -->\n",
       "<g class=\"edge\" id=\"edge3\">\n",
       "<title>choice-&gt;expr</title>\n",
       "<path d=\"M35.4,-12.92C46.25,-16.8 60.64,-22.04 73.25,-27 75.09,-27.72 76.98,-28.48 78.88,-29.26\" fill=\"none\" stroke=\"#494744\"/>\n",
       "<polygon fill=\"none\" points=\"77.6,-32.52 88.18,-33.13 80.29,-26.05 77.6,-32.52\" stroke=\"#494744\"/>\n",
       "<text font-family=\"Helvetica,sans-Serif\" font-size=\"8.00\" text-anchor=\"middle\" x=\"61.69\" y=\"-28.6\">choice</text>\n",
       "</g>\n",
       "</g>\n",
       "</svg>"
      ],
      "text/plain": [
       "<IPython.core.display.SVG object>"
      ]
     },
     "metadata": {},
     "output_type": "display_data"
    }
   ],
   "source": [
    "graph.set_task(\"choice\", graphcat.constant(1))\n",
    "\n",
    "print(\"Output:\", graph.output(\"expr\"))\n",
    "graphcat.notebook.display(graph)"
   ]
  },
  {
   "cell_type": "markdown",
   "metadata": {},
   "source": [
    "As we mentioned earlier, an expression task has access to the same arguments as any task, *including the graph object itself*.  What do you think will happen when we execute the expression in the following graph?"
   ]
  },
  {
   "cell_type": "code",
   "execution_count": 9,
   "metadata": {},
   "outputs": [
    {
     "data": {
      "image/svg+xml": [
       "<svg height=\"54pt\" viewBox=\"0.00 0.00 95.00 54.00\" width=\"95pt\" xmlns=\"http://www.w3.org/2000/svg\" xmlns:xlink=\"http://www.w3.org/1999/xlink\">\n",
       "<g class=\"graph\" id=\"graph0\" transform=\"scale(1 1) rotate(0) translate(4 50)\">\n",
       "<polygon fill=\"white\" points=\"-4,4 -4,-50 91,-50 91,4 -4,4\" stroke=\"transparent\"/>\n",
       "<!-- A -->\n",
       "<g class=\"node\" id=\"node1\">\n",
       "<title>A</title>\n",
       "<polygon fill=\"white\" points=\"29,-14 0,-14 0,0 29,0 29,-14\" stroke=\"#494744\"/>\n",
       "<text fill=\"#494744\" font-family=\"Helvetica,sans-Serif\" font-size=\"8.00\" text-anchor=\"middle\" x=\"14.5\" y=\"-4.6\">A</text>\n",
       "</g>\n",
       "<!-- expr -->\n",
       "<g class=\"node\" id=\"node2\">\n",
       "<title>expr</title>\n",
       "<polygon fill=\"white\" points=\"87,-14 58,-14 58,0 87,0 87,-14\" stroke=\"#494744\"/>\n",
       "<text fill=\"#494744\" font-family=\"Helvetica,sans-Serif\" font-size=\"8.00\" text-anchor=\"middle\" x=\"72.5\" y=\"-4.6\">expr</text>\n",
       "</g>\n",
       "<!-- A&#45;&gt;expr -->\n",
       "<g class=\"edge\" id=\"edge1\">\n",
       "<title>A-&gt;expr</title>\n",
       "<path d=\"M29.06,-7C34.61,-7 41.22,-7 47.54,-7\" fill=\"none\" stroke=\"#494744\"/>\n",
       "<polygon fill=\"none\" points=\"47.68,-10.5 57.68,-7 47.68,-3.5 47.68,-10.5\" stroke=\"#494744\"/>\n",
       "</g>\n",
       "<!-- B -->\n",
       "<g class=\"node\" id=\"node3\">\n",
       "<title>B</title>\n",
       "<polygon fill=\"white\" points=\"29,-46 0,-46 0,-32 29,-32 29,-46\" stroke=\"#494744\"/>\n",
       "<text fill=\"#494744\" font-family=\"Helvetica,sans-Serif\" font-size=\"8.00\" text-anchor=\"middle\" x=\"14.5\" y=\"-36.6\">B</text>\n",
       "</g>\n",
       "</g>\n",
       "</svg>"
      ],
      "text/plain": [
       "<IPython.core.display.SVG object>"
      ]
     },
     "metadata": {},
     "output_type": "display_data"
    }
   ],
   "source": [
    "graph.clear_tasks()\n",
    "graph.set_task(\"A\", graphcat.constant(2))\n",
    "graph.set_task(\"B\", graphcat.constant(3))\n",
    "graph.set_expression(\"expr\", 'inputs.getone(None) * graph.output(\"B\")')\n",
    "graph.set_links(\"A\", \"expr\")\n",
    "\n",
    "graphcat.notebook.display(graph)"
   ]
  },
  {
   "cell_type": "markdown",
   "metadata": {},
   "source": [
    "There isn't a link (dependency) between \"B\" and the expression task, but the expression is using the graph object to directly access the output from \"B\".  If we execute the expression, we will get the expected result:"
   ]
  },
  {
   "cell_type": "code",
   "execution_count": 10,
   "metadata": {},
   "outputs": [
    {
     "name": "stderr",
     "output_type": "stream",
     "text": [
      "INFO:graphcat.common:Task expr updating.\n",
      "INFO:graphcat.common:Task expr executing. Inputs: {None}\n",
      "INFO:graphcat.common:Task A updating.\n",
      "INFO:graphcat.common:Task A executing. Inputs: {}\n",
      "INFO:graphcat.common:Task A finished. Output: 2\n",
      "INFO:graphcat.common:Task B updating.\n",
      "INFO:graphcat.common:Task B executing. Inputs: {}\n",
      "INFO:graphcat.common:Task B finished. Output: 3\n",
      "INFO:graphcat.common:Task expr finished. Output: 6\n"
     ]
    },
    {
     "name": "stdout",
     "output_type": "stream",
     "text": [
      "Output: 6\n"
     ]
    }
   ],
   "source": [
    "print(\"Output:\", graph.output(\"expr\"))"
   ]
  },
  {
   "cell_type": "markdown",
   "metadata": {},
   "source": [
    "Two times three does equal six.  However, you should be concerned that this introduces an implicit dependency between the \"upstream\" tasks \"B\" and the expression task - the point of a computational graph is that dependencies are explicitly captured by the edges in the graph.  Without those edges, a change to an upstream node won't trigger changes to downstream nodes that depend on it.  Or will it?  Let's change \"B\" and see what happens:"
   ]
  },
  {
   "cell_type": "code",
   "execution_count": 11,
   "metadata": {},
   "outputs": [
    {
     "name": "stderr",
     "output_type": "stream",
     "text": [
      "INFO:graphcat.common:Task expr updating.\n",
      "INFO:graphcat.common:Task expr executing. Inputs: {None, <Input.IMPLICIT: 1>}\n",
      "INFO:graphcat.common:Task A updating.\n",
      "INFO:graphcat.common:Task B updating.\n",
      "INFO:graphcat.common:Task B executing. Inputs: {}\n",
      "INFO:graphcat.common:Task B finished. Output: 5\n",
      "INFO:graphcat.common:Task expr finished. Output: 10\n"
     ]
    },
    {
     "name": "stdout",
     "output_type": "stream",
     "text": [
      "Output: 10\n"
     ]
    }
   ],
   "source": [
    "graph.set_task(\"B\", graphcat.constant(5))\n",
    "print(\"Output:\", graph.output(\"expr\"))"
   ]
  },
  {
   "cell_type": "markdown",
   "metadata": {},
   "source": [
    "Interesting - we got the correct result.  Let's take a look at the graph diagram to see what happened:"
   ]
  },
  {
   "cell_type": "code",
   "execution_count": 12,
   "metadata": {
    "tags": [
     "nbsphinx-thumbnail"
    ]
   },
   "outputs": [
    {
     "data": {
      "image/svg+xml": [
       "<svg height=\"54pt\" viewBox=\"0.00 0.00 149.80 54.00\" width=\"150pt\" xmlns=\"http://www.w3.org/2000/svg\" xmlns:xlink=\"http://www.w3.org/1999/xlink\">\n",
       "<g class=\"graph\" id=\"graph0\" transform=\"scale(1 1) rotate(0) translate(4 50)\">\n",
       "<polygon fill=\"white\" points=\"-4,4 -4,-50 145.8,-50 145.8,4 -4,4\" stroke=\"transparent\"/>\n",
       "<!-- A -->\n",
       "<g class=\"node\" id=\"node1\">\n",
       "<title>A</title>\n",
       "<polygon fill=\"#494744\" points=\"29,-46 0,-46 0,-32 29,-32 29,-46\" stroke=\"#494744\"/>\n",
       "<text fill=\"white\" font-family=\"Helvetica,sans-Serif\" font-size=\"8.00\" text-anchor=\"middle\" x=\"14.5\" y=\"-36.6\">A</text>\n",
       "</g>\n",
       "<!-- expr -->\n",
       "<g class=\"node\" id=\"node2\">\n",
       "<title>expr</title>\n",
       "<polygon fill=\"#494744\" points=\"141.8,-30 112.8,-30 112.8,-16 141.8,-16 141.8,-30\" stroke=\"#494744\"/>\n",
       "<text fill=\"white\" font-family=\"Helvetica,sans-Serif\" font-size=\"8.00\" text-anchor=\"middle\" x=\"127.3\" y=\"-20.6\">expr</text>\n",
       "</g>\n",
       "<!-- A&#45;&gt;expr -->\n",
       "<g class=\"edge\" id=\"edge1\">\n",
       "<title>A-&gt;expr</title>\n",
       "<path d=\"M29.09,-37.04C47.36,-34.4 80.15,-29.66 102.55,-26.43\" fill=\"none\" stroke=\"#494744\"/>\n",
       "<polygon fill=\"none\" points=\"103.2,-29.87 112.6,-24.98 102.2,-22.94 103.2,-29.87\" stroke=\"#494744\"/>\n",
       "</g>\n",
       "<!-- B -->\n",
       "<g class=\"node\" id=\"node3\">\n",
       "<title>B</title>\n",
       "<polygon fill=\"#494744\" points=\"29,-14 0,-14 0,0 29,0 29,-14\" stroke=\"#494744\"/>\n",
       "<text fill=\"white\" font-family=\"Helvetica,sans-Serif\" font-size=\"8.00\" text-anchor=\"middle\" x=\"14.5\" y=\"-4.6\">B</text>\n",
       "</g>\n",
       "<!-- B&#45;&gt;expr -->\n",
       "<g class=\"edge\" id=\"edge2\">\n",
       "<title>B-&gt;expr</title>\n",
       "<path d=\"M29,-7.58C45.39,-8.45 73.81,-10.5 97.8,-15 99.5,-15.32 101.25,-15.69 103,-16.1\" fill=\"none\" stroke=\"#494744\"/>\n",
       "<polygon fill=\"none\" points=\"102.22,-19.52 112.79,-18.68 104.01,-12.75 102.22,-19.52\" stroke=\"#494744\"/>\n",
       "<text font-family=\"Helvetica,sans-Serif\" font-size=\"8.00\" text-anchor=\"middle\" x=\"70.9\" y=\"-16.6\">Input.IMPLICIT</text>\n",
       "</g>\n",
       "</g>\n",
       "</svg>"
      ],
      "text/plain": [
       "<IPython.core.display.SVG object>"
      ]
     },
     "metadata": {},
     "output_type": "display_data"
    }
   ],
   "source": [
    "graphcat.notebook.display(graph)"
   ]
  },
  {
   "cell_type": "markdown",
   "metadata": {},
   "source": [
    "The expression task has added an edge to capture the implicit dependency introduced by the code in the expression!  This edge ensures that changes to the upstream task cause affect the expression task."
   ]
  }
 ],
 "metadata": {
  "celltoolbar": "Tags",
  "kernelspec": {
   "display_name": "Python 3",
   "language": "python",
   "name": "python3"
  },
  "language_info": {
   "codemirror_mode": {
    "name": "ipython",
    "version": 3
   },
   "file_extension": ".py",
   "mimetype": "text/x-python",
   "name": "python",
   "nbconvert_exporter": "python",
   "pygments_lexer": "ipython3",
   "version": "3.7.7"
  }
 },
 "nbformat": 4,
 "nbformat_minor": 4
}
