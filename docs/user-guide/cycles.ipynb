{
 "cells": [
  {
   "cell_type": "raw",
   "metadata": {
    "raw_mimetype": "text/restructuredtext"
   },
   "source": [
    ".. _cycles:\n",
    "\n",
    "Cycles\n",
    "======\n",
    "\n",
    "Take a close look at the following static computational graph:"
   ]
  },
  {
   "cell_type": "code",
   "execution_count": 1,
   "metadata": {},
   "outputs": [],
   "source": [
    "import logging\n",
    "logging.basicConfig(level=logging.DEBUG)\n",
    "\n",
    "import graphcat.notebook\n",
    "\n",
    "graph = graphcat.StaticGraph()\n",
    "logger = graphcat.Logger(graph)\n",
    "\n",
    "graph.add_task(\"A\")\n",
    "graph.add_task(\"B\")\n",
    "\n",
    "graph.add_links(\"A\", \"B\")\n",
    "graph.add_links(\"B\", \"A\")"
   ]
  },
  {
   "cell_type": "markdown",
   "metadata": {},
   "source": [
    "Do you see a problem?  Let's look at the diagram:"
   ]
  },
  {
   "cell_type": "code",
   "execution_count": 2,
   "metadata": {
    "scrolled": false
   },
   "outputs": [
    {
     "data": {
      "image/svg+xml": [
       "<svg height=\"22pt\" viewBox=\"0.00 0.00 95.00 22.00\" width=\"95pt\" xmlns=\"http://www.w3.org/2000/svg\" xmlns:xlink=\"http://www.w3.org/1999/xlink\">\n",
       "<g class=\"graph\" id=\"graph0\" transform=\"scale(1 1) rotate(0) translate(4 18)\">\n",
       "<polygon fill=\"white\" points=\"-4,4 -4,-18 91,-18 91,4 -4,4\" stroke=\"transparent\"/>\n",
       "<!-- A -->\n",
       "<g class=\"node\" id=\"node1\">\n",
       "<title>A</title>\n",
       "<polygon fill=\"white\" points=\"29,-14 0,-14 0,0 29,0 29,-14\" stroke=\"#494744\"/>\n",
       "<text fill=\"#494744\" font-family=\"Helvetica,sans-Serif\" font-size=\"8.00\" text-anchor=\"middle\" x=\"14.5\" y=\"-4.6\">A</text>\n",
       "</g>\n",
       "<!-- B -->\n",
       "<g class=\"node\" id=\"node2\">\n",
       "<title>B</title>\n",
       "<polygon fill=\"white\" points=\"87,-14 58,-14 58,0 87,0 87,-14\" stroke=\"#494744\"/>\n",
       "<text fill=\"#494744\" font-family=\"Helvetica,sans-Serif\" font-size=\"8.00\" text-anchor=\"middle\" x=\"72.5\" y=\"-4.6\">B</text>\n",
       "</g>\n",
       "<!-- A&#45;&gt;B -->\n",
       "<g class=\"edge\" id=\"edge1\">\n",
       "<title>A-&gt;B</title>\n",
       "<path d=\"M29.06,-1.12C34.61,-0.38 41.22,-0.11 47.54,-0.31\" fill=\"none\" stroke=\"#494744\"/>\n",
       "<polygon fill=\"#494744\" points=\"47.44,-3.82 57.68,-1.09 47.98,3.16 47.44,-3.82\" stroke=\"#494744\"/>\n",
       "</g>\n",
       "<!-- B&#45;&gt;A -->\n",
       "<g class=\"edge\" id=\"edge2\">\n",
       "<title>B-&gt;A</title>\n",
       "<path d=\"M57.68,-12.91C52.09,-13.64 45.47,-13.89 39.16,-13.68\" fill=\"none\" stroke=\"#494744\"/>\n",
       "<polygon fill=\"#494744\" points=\"39.3,-10.18 29.06,-12.88 38.75,-17.16 39.3,-10.18\" stroke=\"#494744\"/>\n",
       "</g>\n",
       "</g>\n",
       "</svg>"
      ],
      "text/plain": [
       "<IPython.core.display.SVG object>"
      ]
     },
     "metadata": {},
     "output_type": "display_data"
    }
   ],
   "source": [
    "graphcat.notebook.display(graph)"
   ]
  },
  {
   "cell_type": "markdown",
   "metadata": {},
   "source": [
    "Notice the cycle in the graph - \"B\" depends on \"A\", but \"A\" depends on \"B\". This is a problem, because it means that both tasks depend on each other.  This begs the question: what should happen when we execute either task, when it's impossible to define *which one should be executed first?*  You could imagine the computation getting stuck in an infinite loop, but as always this is Graphcat, and Graphcat always has your back.  Let's see what happens when we update one of the tasks - keep your hand close to the power switch:"
   ]
  },
  {
   "cell_type": "code",
   "execution_count": 3,
   "metadata": {},
   "outputs": [
    {
     "name": "stderr",
     "output_type": "stream",
     "text": [
      "INFO:graphcat.common:Task B cycle detected.\n",
      "INFO:graphcat.common:Task A updating.\n",
      "INFO:graphcat.common:Task A executing. Inputs: {None: None}\n",
      "INFO:graphcat.common:Task A finished. Output: None\n",
      "INFO:graphcat.common:Task B updating.\n",
      "INFO:graphcat.common:Task B executing. Inputs: {None: None}\n",
      "INFO:graphcat.common:Task B finished. Output: None\n"
     ]
    },
    {
     "data": {
      "image/svg+xml": [
       "<svg height=\"22pt\" viewBox=\"0.00 0.00 95.00 22.00\" width=\"95pt\" xmlns=\"http://www.w3.org/2000/svg\" xmlns:xlink=\"http://www.w3.org/1999/xlink\">\n",
       "<g class=\"graph\" id=\"graph0\" transform=\"scale(1 1) rotate(0) translate(4 18)\">\n",
       "<polygon fill=\"white\" points=\"-4,4 -4,-18 91,-18 91,4 -4,4\" stroke=\"transparent\"/>\n",
       "<!-- A -->\n",
       "<g class=\"node\" id=\"node1\">\n",
       "<title>A</title>\n",
       "<polygon fill=\"#494744\" points=\"29,-14 0,-14 0,0 29,0 29,-14\" stroke=\"#494744\"/>\n",
       "<text fill=\"white\" font-family=\"Helvetica,sans-Serif\" font-size=\"8.00\" text-anchor=\"middle\" x=\"14.5\" y=\"-4.6\">A</text>\n",
       "</g>\n",
       "<!-- B -->\n",
       "<g class=\"node\" id=\"node2\">\n",
       "<title>B</title>\n",
       "<polygon fill=\"#494744\" points=\"87,-14 58,-14 58,0 87,0 87,-14\" stroke=\"#494744\"/>\n",
       "<text fill=\"white\" font-family=\"Helvetica,sans-Serif\" font-size=\"8.00\" text-anchor=\"middle\" x=\"72.5\" y=\"-4.6\">B</text>\n",
       "</g>\n",
       "<!-- A&#45;&gt;B -->\n",
       "<g class=\"edge\" id=\"edge1\">\n",
       "<title>A-&gt;B</title>\n",
       "<path d=\"M29.06,-1.12C34.61,-0.38 41.22,-0.11 47.54,-0.31\" fill=\"none\" stroke=\"#494744\"/>\n",
       "<polygon fill=\"#494744\" points=\"47.44,-3.82 57.68,-1.09 47.98,3.16 47.44,-3.82\" stroke=\"#494744\"/>\n",
       "</g>\n",
       "<!-- B&#45;&gt;A -->\n",
       "<g class=\"edge\" id=\"edge2\">\n",
       "<title>B-&gt;A</title>\n",
       "<path d=\"M57.68,-12.91C52.09,-13.64 45.47,-13.89 39.16,-13.68\" fill=\"none\" stroke=\"#494744\"/>\n",
       "<polygon fill=\"#494744\" points=\"39.3,-10.18 29.06,-12.88 38.75,-17.16 39.3,-10.18\" stroke=\"#494744\"/>\n",
       "</g>\n",
       "</g>\n",
       "</svg>"
      ],
      "text/plain": [
       "<IPython.core.display.SVG object>"
      ]
     },
     "metadata": {},
     "output_type": "display_data"
    }
   ],
   "source": [
    "graph.update(\"B\")\n",
    "graphcat.notebook.display(graph)"
   ]
  },
  {
   "cell_type": "markdown",
   "metadata": {},
   "source": [
    "Well, that wasn't very exciting. Notice the first log message, where Graphcat has detected a cycle originating from task \"B\" (the task we executed).  Graphcat detects the cycle and \"breaks\" it, so that the network executes in the same order that it would have if there wasn't an edge from \"B\" to \"A\", and both tasks are finished.\n",
    "\n",
    "Let's see what happens when we reset one of the tasks:"
   ]
  },
  {
   "cell_type": "code",
   "execution_count": 4,
   "metadata": {},
   "outputs": [
    {
     "data": {
      "image/svg+xml": [
       "<svg height=\"22pt\" viewBox=\"0.00 0.00 95.00 22.00\" width=\"95pt\" xmlns=\"http://www.w3.org/2000/svg\" xmlns:xlink=\"http://www.w3.org/1999/xlink\">\n",
       "<g class=\"graph\" id=\"graph0\" transform=\"scale(1 1) rotate(0) translate(4 18)\">\n",
       "<polygon fill=\"white\" points=\"-4,4 -4,-18 91,-18 91,4 -4,4\" stroke=\"transparent\"/>\n",
       "<!-- A -->\n",
       "<g class=\"node\" id=\"node1\">\n",
       "<title>A</title>\n",
       "<polygon fill=\"white\" points=\"29,-14 0,-14 0,0 29,0 29,-14\" stroke=\"#494744\"/>\n",
       "<text fill=\"#494744\" font-family=\"Helvetica,sans-Serif\" font-size=\"8.00\" text-anchor=\"middle\" x=\"14.5\" y=\"-4.6\">A</text>\n",
       "</g>\n",
       "<!-- B -->\n",
       "<g class=\"node\" id=\"node2\">\n",
       "<title>B</title>\n",
       "<polygon fill=\"white\" points=\"87,-14 58,-14 58,0 87,0 87,-14\" stroke=\"#494744\"/>\n",
       "<text fill=\"#494744\" font-family=\"Helvetica,sans-Serif\" font-size=\"8.00\" text-anchor=\"middle\" x=\"72.5\" y=\"-4.6\">B</text>\n",
       "</g>\n",
       "<!-- A&#45;&gt;B -->\n",
       "<g class=\"edge\" id=\"edge1\">\n",
       "<title>A-&gt;B</title>\n",
       "<path d=\"M29.06,-1.12C34.61,-0.38 41.22,-0.11 47.54,-0.31\" fill=\"none\" stroke=\"#494744\"/>\n",
       "<polygon fill=\"#494744\" points=\"47.44,-3.82 57.68,-1.09 47.98,3.16 47.44,-3.82\" stroke=\"#494744\"/>\n",
       "</g>\n",
       "<!-- B&#45;&gt;A -->\n",
       "<g class=\"edge\" id=\"edge2\">\n",
       "<title>B-&gt;A</title>\n",
       "<path d=\"M57.68,-12.91C52.09,-13.64 45.47,-13.89 39.16,-13.68\" fill=\"none\" stroke=\"#494744\"/>\n",
       "<polygon fill=\"#494744\" points=\"39.3,-10.18 29.06,-12.88 38.75,-17.16 39.3,-10.18\" stroke=\"#494744\"/>\n",
       "</g>\n",
       "</g>\n",
       "</svg>"
      ],
      "text/plain": [
       "<IPython.core.display.SVG object>"
      ]
     },
     "metadata": {},
     "output_type": "display_data"
    }
   ],
   "source": [
    "graph.mark_unfinished(\"A\")\n",
    "graphcat.notebook.display(graph)"
   ]
  },
  {
   "cell_type": "markdown",
   "metadata": {},
   "source": [
    "Hmmm ... as you might expect, Graphcat marked both tasks as unfinished, since they both depend on each other.  Let's try updating the other task:"
   ]
  },
  {
   "cell_type": "code",
   "execution_count": 5,
   "metadata": {},
   "outputs": [
    {
     "name": "stderr",
     "output_type": "stream",
     "text": [
      "INFO:graphcat.common:Task A cycle detected.\n",
      "INFO:graphcat.common:Task B updating.\n",
      "INFO:graphcat.common:Task B executing. Inputs: {None: None}\n",
      "INFO:graphcat.common:Task B finished. Output: None\n",
      "INFO:graphcat.common:Task A updating.\n",
      "INFO:graphcat.common:Task A executing. Inputs: {None: None}\n",
      "INFO:graphcat.common:Task A finished. Output: None\n"
     ]
    },
    {
     "data": {
      "image/svg+xml": [
       "<svg height=\"22pt\" viewBox=\"0.00 0.00 95.00 22.00\" width=\"95pt\" xmlns=\"http://www.w3.org/2000/svg\" xmlns:xlink=\"http://www.w3.org/1999/xlink\">\n",
       "<g class=\"graph\" id=\"graph0\" transform=\"scale(1 1) rotate(0) translate(4 18)\">\n",
       "<polygon fill=\"white\" points=\"-4,4 -4,-18 91,-18 91,4 -4,4\" stroke=\"transparent\"/>\n",
       "<!-- A -->\n",
       "<g class=\"node\" id=\"node1\">\n",
       "<title>A</title>\n",
       "<polygon fill=\"#494744\" points=\"29,-14 0,-14 0,0 29,0 29,-14\" stroke=\"#494744\"/>\n",
       "<text fill=\"white\" font-family=\"Helvetica,sans-Serif\" font-size=\"8.00\" text-anchor=\"middle\" x=\"14.5\" y=\"-4.6\">A</text>\n",
       "</g>\n",
       "<!-- B -->\n",
       "<g class=\"node\" id=\"node2\">\n",
       "<title>B</title>\n",
       "<polygon fill=\"#494744\" points=\"87,-14 58,-14 58,0 87,0 87,-14\" stroke=\"#494744\"/>\n",
       "<text fill=\"white\" font-family=\"Helvetica,sans-Serif\" font-size=\"8.00\" text-anchor=\"middle\" x=\"72.5\" y=\"-4.6\">B</text>\n",
       "</g>\n",
       "<!-- A&#45;&gt;B -->\n",
       "<g class=\"edge\" id=\"edge1\">\n",
       "<title>A-&gt;B</title>\n",
       "<path d=\"M29.06,-1.12C34.61,-0.38 41.22,-0.11 47.54,-0.31\" fill=\"none\" stroke=\"#494744\"/>\n",
       "<polygon fill=\"#494744\" points=\"47.44,-3.82 57.68,-1.09 47.98,3.16 47.44,-3.82\" stroke=\"#494744\"/>\n",
       "</g>\n",
       "<!-- B&#45;&gt;A -->\n",
       "<g class=\"edge\" id=\"edge2\">\n",
       "<title>B-&gt;A</title>\n",
       "<path d=\"M57.68,-12.91C52.09,-13.64 45.47,-13.89 39.16,-13.68\" fill=\"none\" stroke=\"#494744\"/>\n",
       "<polygon fill=\"#494744\" points=\"39.3,-10.18 29.06,-12.88 38.75,-17.16 39.3,-10.18\" stroke=\"#494744\"/>\n",
       "</g>\n",
       "</g>\n",
       "</svg>"
      ],
      "text/plain": [
       "<IPython.core.display.SVG object>"
      ]
     },
     "metadata": {},
     "output_type": "display_data"
    }
   ],
   "source": [
    "graph.update(\"A\")\n",
    "graphcat.notebook.display(graph)"
   ]
  },
  {
   "cell_type": "markdown",
   "metadata": {},
   "source": [
    "This time the cycle is detected, but originating from task \"A\" (since that's the task we executed).  Execution proceeds in the same order that it would have if there wasn't an edge from \"A\" to \"B\".\n",
    "\n",
    "What happens when our graph is more complex than just one cycle?  Let's add another task and see:"
   ]
  },
  {
   "cell_type": "code",
   "execution_count": 6,
   "metadata": {},
   "outputs": [
    {
     "data": {
      "image/svg+xml": [
       "<svg height=\"22pt\" viewBox=\"0.00 0.00 153.00 22.00\" width=\"153pt\" xmlns=\"http://www.w3.org/2000/svg\" xmlns:xlink=\"http://www.w3.org/1999/xlink\">\n",
       "<g class=\"graph\" id=\"graph0\" transform=\"scale(1 1) rotate(0) translate(4 18)\">\n",
       "<polygon fill=\"white\" points=\"-4,4 -4,-18 149,-18 149,4 -4,4\" stroke=\"transparent\"/>\n",
       "<!-- A -->\n",
       "<g class=\"node\" id=\"node1\">\n",
       "<title>A</title>\n",
       "<polygon fill=\"white\" points=\"29,-14 0,-14 0,0 29,0 29,-14\" stroke=\"#494744\"/>\n",
       "<text fill=\"#494744\" font-family=\"Helvetica,sans-Serif\" font-size=\"8.00\" text-anchor=\"middle\" x=\"14.5\" y=\"-4.6\">A</text>\n",
       "</g>\n",
       "<!-- B -->\n",
       "<g class=\"node\" id=\"node2\">\n",
       "<title>B</title>\n",
       "<polygon fill=\"white\" points=\"87,-14 58,-14 58,0 87,0 87,-14\" stroke=\"#494744\"/>\n",
       "<text fill=\"#494744\" font-family=\"Helvetica,sans-Serif\" font-size=\"8.00\" text-anchor=\"middle\" x=\"72.5\" y=\"-4.6\">B</text>\n",
       "</g>\n",
       "<!-- A&#45;&gt;B -->\n",
       "<g class=\"edge\" id=\"edge1\">\n",
       "<title>A-&gt;B</title>\n",
       "<path d=\"M29.06,-1.12C34.61,-0.38 41.22,-0.11 47.54,-0.31\" fill=\"none\" stroke=\"#494744\"/>\n",
       "<polygon fill=\"#494744\" points=\"47.44,-3.82 57.68,-1.09 47.98,3.16 47.44,-3.82\" stroke=\"#494744\"/>\n",
       "</g>\n",
       "<!-- B&#45;&gt;A -->\n",
       "<g class=\"edge\" id=\"edge2\">\n",
       "<title>B-&gt;A</title>\n",
       "<path d=\"M57.68,-12.91C52.09,-13.64 45.47,-13.89 39.16,-13.68\" fill=\"none\" stroke=\"#494744\"/>\n",
       "<polygon fill=\"#494744\" points=\"39.3,-10.18 29.06,-12.88 38.75,-17.16 39.3,-10.18\" stroke=\"#494744\"/>\n",
       "</g>\n",
       "<!-- C -->\n",
       "<g class=\"node\" id=\"node3\">\n",
       "<title>C</title>\n",
       "<polygon fill=\"white\" points=\"145,-14 116,-14 116,0 145,0 145,-14\" stroke=\"#494744\"/>\n",
       "<text fill=\"#494744\" font-family=\"Helvetica,sans-Serif\" font-size=\"8.00\" text-anchor=\"middle\" x=\"130.5\" y=\"-4.6\">C</text>\n",
       "</g>\n",
       "<!-- B&#45;&gt;C -->\n",
       "<g class=\"edge\" id=\"edge3\">\n",
       "<title>B-&gt;C</title>\n",
       "<path d=\"M87.06,-7C92.61,-7 99.22,-7 105.54,-7\" fill=\"none\" stroke=\"#494744\"/>\n",
       "<polygon fill=\"#494744\" points=\"105.68,-10.5 115.68,-7 105.68,-3.5 105.68,-10.5\" stroke=\"#494744\"/>\n",
       "</g>\n",
       "</g>\n",
       "</svg>"
      ],
      "text/plain": [
       "<IPython.core.display.SVG object>"
      ]
     },
     "metadata": {},
     "output_type": "display_data"
    }
   ],
   "source": [
    "graph.mark_unfinished(\"A\")\n",
    "graph.add_task(\"C\")\n",
    "graph.add_links(\"B\", \"C\")\n",
    "graphcat.notebook.display(graph)"
   ]
  },
  {
   "cell_type": "markdown",
   "metadata": {},
   "source": [
    "Now, when we execute \"C\":"
   ]
  },
  {
   "cell_type": "code",
   "execution_count": 7,
   "metadata": {},
   "outputs": [
    {
     "name": "stderr",
     "output_type": "stream",
     "text": [
      "INFO:graphcat.common:Task B cycle detected.\n",
      "INFO:graphcat.common:Task A updating.\n",
      "INFO:graphcat.common:Task A executing. Inputs: {None: None}\n",
      "INFO:graphcat.common:Task A finished. Output: None\n",
      "INFO:graphcat.common:Task B updating.\n",
      "INFO:graphcat.common:Task B executing. Inputs: {None: None}\n",
      "INFO:graphcat.common:Task B finished. Output: None\n",
      "INFO:graphcat.common:Task C updating.\n",
      "INFO:graphcat.common:Task C executing. Inputs: {None: None}\n",
      "INFO:graphcat.common:Task C finished. Output: None\n"
     ]
    },
    {
     "data": {
      "image/svg+xml": [
       "<svg height=\"22pt\" viewBox=\"0.00 0.00 153.00 22.00\" width=\"153pt\" xmlns=\"http://www.w3.org/2000/svg\" xmlns:xlink=\"http://www.w3.org/1999/xlink\">\n",
       "<g class=\"graph\" id=\"graph0\" transform=\"scale(1 1) rotate(0) translate(4 18)\">\n",
       "<polygon fill=\"white\" points=\"-4,4 -4,-18 149,-18 149,4 -4,4\" stroke=\"transparent\"/>\n",
       "<!-- A -->\n",
       "<g class=\"node\" id=\"node1\">\n",
       "<title>A</title>\n",
       "<polygon fill=\"#494744\" points=\"29,-14 0,-14 0,0 29,0 29,-14\" stroke=\"#494744\"/>\n",
       "<text fill=\"white\" font-family=\"Helvetica,sans-Serif\" font-size=\"8.00\" text-anchor=\"middle\" x=\"14.5\" y=\"-4.6\">A</text>\n",
       "</g>\n",
       "<!-- B -->\n",
       "<g class=\"node\" id=\"node2\">\n",
       "<title>B</title>\n",
       "<polygon fill=\"#494744\" points=\"87,-14 58,-14 58,0 87,0 87,-14\" stroke=\"#494744\"/>\n",
       "<text fill=\"white\" font-family=\"Helvetica,sans-Serif\" font-size=\"8.00\" text-anchor=\"middle\" x=\"72.5\" y=\"-4.6\">B</text>\n",
       "</g>\n",
       "<!-- A&#45;&gt;B -->\n",
       "<g class=\"edge\" id=\"edge1\">\n",
       "<title>A-&gt;B</title>\n",
       "<path d=\"M29.06,-1.12C34.61,-0.38 41.22,-0.11 47.54,-0.31\" fill=\"none\" stroke=\"#494744\"/>\n",
       "<polygon fill=\"#494744\" points=\"47.44,-3.82 57.68,-1.09 47.98,3.16 47.44,-3.82\" stroke=\"#494744\"/>\n",
       "</g>\n",
       "<!-- B&#45;&gt;A -->\n",
       "<g class=\"edge\" id=\"edge2\">\n",
       "<title>B-&gt;A</title>\n",
       "<path d=\"M57.68,-12.91C52.09,-13.64 45.47,-13.89 39.16,-13.68\" fill=\"none\" stroke=\"#494744\"/>\n",
       "<polygon fill=\"#494744\" points=\"39.3,-10.18 29.06,-12.88 38.75,-17.16 39.3,-10.18\" stroke=\"#494744\"/>\n",
       "</g>\n",
       "<!-- C -->\n",
       "<g class=\"node\" id=\"node3\">\n",
       "<title>C</title>\n",
       "<polygon fill=\"#494744\" points=\"145,-14 116,-14 116,0 145,0 145,-14\" stroke=\"#494744\"/>\n",
       "<text fill=\"white\" font-family=\"Helvetica,sans-Serif\" font-size=\"8.00\" text-anchor=\"middle\" x=\"130.5\" y=\"-4.6\">C</text>\n",
       "</g>\n",
       "<!-- B&#45;&gt;C -->\n",
       "<g class=\"edge\" id=\"edge3\">\n",
       "<title>B-&gt;C</title>\n",
       "<path d=\"M87.06,-7C92.61,-7 99.22,-7 105.54,-7\" fill=\"none\" stroke=\"#494744\"/>\n",
       "<polygon fill=\"#494744\" points=\"105.68,-10.5 115.68,-7 105.68,-3.5 105.68,-10.5\" stroke=\"#494744\"/>\n",
       "</g>\n",
       "</g>\n",
       "</svg>"
      ],
      "text/plain": [
       "<IPython.core.display.SVG object>"
      ]
     },
     "metadata": {},
     "output_type": "display_data"
    }
   ],
   "source": [
    "graph.update(\"C\")\n",
    "graphcat.notebook.display(graph)"
   ]
  },
  {
   "cell_type": "raw",
   "metadata": {
    "raw_mimetype": "text/restructuredtext"
   },
   "source": [
    "... the cycle is detected as originating at \"B\", because it's the first task on the cycle that's upstream from \"C\".  From there, the graph executes as if there's no edge from \"B\" to \"A\".\n",
    "\n",
    "So far, we've only been looking at static graphs.  What about :ref:`dynamic<dynamic-graphs>`?  Let's recreate the same example using a dynamic graph:"
   ]
  },
  {
   "cell_type": "code",
   "execution_count": 8,
   "metadata": {
    "tags": [
     "nbsphinx-thumbnail"
    ]
   },
   "outputs": [
    {
     "data": {
      "image/svg+xml": [
       "<svg height=\"22pt\" viewBox=\"0.00 0.00 153.00 22.00\" width=\"153pt\" xmlns=\"http://www.w3.org/2000/svg\" xmlns:xlink=\"http://www.w3.org/1999/xlink\">\n",
       "<g class=\"graph\" id=\"graph0\" transform=\"scale(1 1) rotate(0) translate(4 18)\">\n",
       "<polygon fill=\"white\" points=\"-4,4 -4,-18 149,-18 149,4 -4,4\" stroke=\"transparent\"/>\n",
       "<!-- A -->\n",
       "<g class=\"node\" id=\"node1\">\n",
       "<title>A</title>\n",
       "<polygon fill=\"white\" points=\"29,-14 0,-14 0,0 29,0 29,-14\" stroke=\"#494744\"/>\n",
       "<text fill=\"#494744\" font-family=\"Helvetica,sans-Serif\" font-size=\"8.00\" text-anchor=\"middle\" x=\"14.5\" y=\"-4.6\">A</text>\n",
       "</g>\n",
       "<!-- B -->\n",
       "<g class=\"node\" id=\"node2\">\n",
       "<title>B</title>\n",
       "<polygon fill=\"white\" points=\"87,-14 58,-14 58,0 87,0 87,-14\" stroke=\"#494744\"/>\n",
       "<text fill=\"#494744\" font-family=\"Helvetica,sans-Serif\" font-size=\"8.00\" text-anchor=\"middle\" x=\"72.5\" y=\"-4.6\">B</text>\n",
       "</g>\n",
       "<!-- A&#45;&gt;B -->\n",
       "<g class=\"edge\" id=\"edge1\">\n",
       "<title>A-&gt;B</title>\n",
       "<path d=\"M29.06,-1.12C34.61,-0.38 41.22,-0.11 47.54,-0.31\" fill=\"none\" stroke=\"#494744\"/>\n",
       "<polygon fill=\"none\" points=\"47.44,-3.82 57.68,-1.09 47.98,3.16 47.44,-3.82\" stroke=\"#494744\"/>\n",
       "</g>\n",
       "<!-- B&#45;&gt;A -->\n",
       "<g class=\"edge\" id=\"edge2\">\n",
       "<title>B-&gt;A</title>\n",
       "<path d=\"M57.68,-12.91C52.09,-13.64 45.47,-13.89 39.16,-13.68\" fill=\"none\" stroke=\"#494744\"/>\n",
       "<polygon fill=\"none\" points=\"39.3,-10.18 29.06,-12.88 38.75,-17.16 39.3,-10.18\" stroke=\"#494744\"/>\n",
       "</g>\n",
       "<!-- C -->\n",
       "<g class=\"node\" id=\"node3\">\n",
       "<title>C</title>\n",
       "<polygon fill=\"white\" points=\"145,-14 116,-14 116,0 145,0 145,-14\" stroke=\"#494744\"/>\n",
       "<text fill=\"#494744\" font-family=\"Helvetica,sans-Serif\" font-size=\"8.00\" text-anchor=\"middle\" x=\"130.5\" y=\"-4.6\">C</text>\n",
       "</g>\n",
       "<!-- B&#45;&gt;C -->\n",
       "<g class=\"edge\" id=\"edge3\">\n",
       "<title>B-&gt;C</title>\n",
       "<path d=\"M87.06,-7C92.61,-7 99.22,-7 105.54,-7\" fill=\"none\" stroke=\"#494744\"/>\n",
       "<polygon fill=\"none\" points=\"105.68,-10.5 115.68,-7 105.68,-3.5 105.68,-10.5\" stroke=\"#494744\"/>\n",
       "</g>\n",
       "</g>\n",
       "</svg>"
      ],
      "text/plain": [
       "<IPython.core.display.SVG object>"
      ]
     },
     "metadata": {},
     "output_type": "display_data"
    }
   ],
   "source": [
    "graph = graphcat.DynamicGraph()\n",
    "logger = graphcat.Logger(graph)\n",
    "\n",
    "graph.add_task(\"A\", graphcat.consume)\n",
    "graph.add_task(\"B\", graphcat.consume)\n",
    "graph.add_task(\"C\", graphcat.consume)\n",
    "graph.add_links(\"A\", \"B\")\n",
    "graph.add_links(\"B\", \"A\")\n",
    "graph.add_links(\"B\", \"C\")\n",
    "\n",
    "graphcat.notebook.display(graph)"
   ]
  },
  {
   "cell_type": "raw",
   "metadata": {
    "raw_mimetype": "text/restructuredtext"
   },
   "source": [
    "Note that we've assigned :func:`graphcat.consume<graphcat.common.consume>` as our task functions because this is a dynamic graph - without it, none of the tasks would use any of their inputs, and we wouldn't actually cause a cycle.\n",
    "\n",
    "Now, let's update \"C\" again and see what happens:"
   ]
  },
  {
   "cell_type": "code",
   "execution_count": 9,
   "metadata": {},
   "outputs": [
    {
     "name": "stderr",
     "output_type": "stream",
     "text": [
      "INFO:graphcat.common:Task C updating.\n",
      "INFO:graphcat.common:Task C executing. Inputs: {None}\n",
      "INFO:graphcat.common:Task B updating.\n",
      "INFO:graphcat.common:Task B executing. Inputs: {None}\n",
      "INFO:graphcat.common:Task A updating.\n",
      "INFO:graphcat.common:Task A executing. Inputs: {None}\n",
      "INFO:graphcat.common:Task B cycle detected.\n",
      "INFO:graphcat.common:Task A finished. Output: None\n",
      "INFO:graphcat.common:Task B finished. Output: None\n",
      "INFO:graphcat.common:Task C finished. Output: None\n"
     ]
    },
    {
     "data": {
      "image/svg+xml": [
       "<svg height=\"22pt\" viewBox=\"0.00 0.00 153.00 22.00\" width=\"153pt\" xmlns=\"http://www.w3.org/2000/svg\" xmlns:xlink=\"http://www.w3.org/1999/xlink\">\n",
       "<g class=\"graph\" id=\"graph0\" transform=\"scale(1 1) rotate(0) translate(4 18)\">\n",
       "<polygon fill=\"white\" points=\"-4,4 -4,-18 149,-18 149,4 -4,4\" stroke=\"transparent\"/>\n",
       "<!-- A -->\n",
       "<g class=\"node\" id=\"node1\">\n",
       "<title>A</title>\n",
       "<polygon fill=\"#494744\" points=\"29,-14 0,-14 0,0 29,0 29,-14\" stroke=\"#494744\"/>\n",
       "<text fill=\"white\" font-family=\"Helvetica,sans-Serif\" font-size=\"8.00\" text-anchor=\"middle\" x=\"14.5\" y=\"-4.6\">A</text>\n",
       "</g>\n",
       "<!-- B -->\n",
       "<g class=\"node\" id=\"node2\">\n",
       "<title>B</title>\n",
       "<polygon fill=\"#494744\" points=\"87,-14 58,-14 58,0 87,0 87,-14\" stroke=\"#494744\"/>\n",
       "<text fill=\"white\" font-family=\"Helvetica,sans-Serif\" font-size=\"8.00\" text-anchor=\"middle\" x=\"72.5\" y=\"-4.6\">B</text>\n",
       "</g>\n",
       "<!-- A&#45;&gt;B -->\n",
       "<g class=\"edge\" id=\"edge1\">\n",
       "<title>A-&gt;B</title>\n",
       "<path d=\"M29.06,-1.12C34.61,-0.38 41.22,-0.11 47.54,-0.31\" fill=\"none\" stroke=\"#494744\"/>\n",
       "<polygon fill=\"none\" points=\"47.44,-3.82 57.68,-1.09 47.98,3.16 47.44,-3.82\" stroke=\"#494744\"/>\n",
       "</g>\n",
       "<!-- B&#45;&gt;A -->\n",
       "<g class=\"edge\" id=\"edge2\">\n",
       "<title>B-&gt;A</title>\n",
       "<path d=\"M57.68,-12.91C52.09,-13.64 45.47,-13.89 39.16,-13.68\" fill=\"none\" stroke=\"#494744\"/>\n",
       "<polygon fill=\"none\" points=\"39.3,-10.18 29.06,-12.88 38.75,-17.16 39.3,-10.18\" stroke=\"#494744\"/>\n",
       "</g>\n",
       "<!-- C -->\n",
       "<g class=\"node\" id=\"node3\">\n",
       "<title>C</title>\n",
       "<polygon fill=\"#494744\" points=\"145,-14 116,-14 116,0 145,0 145,-14\" stroke=\"#494744\"/>\n",
       "<text fill=\"white\" font-family=\"Helvetica,sans-Serif\" font-size=\"8.00\" text-anchor=\"middle\" x=\"130.5\" y=\"-4.6\">C</text>\n",
       "</g>\n",
       "<!-- B&#45;&gt;C -->\n",
       "<g class=\"edge\" id=\"edge3\">\n",
       "<title>B-&gt;C</title>\n",
       "<path d=\"M87.06,-7C92.61,-7 99.22,-7 105.54,-7\" fill=\"none\" stroke=\"#494744\"/>\n",
       "<polygon fill=\"none\" points=\"105.68,-10.5 115.68,-7 105.68,-3.5 105.68,-10.5\" stroke=\"#494744\"/>\n",
       "</g>\n",
       "</g>\n",
       "</svg>"
      ],
      "text/plain": [
       "<IPython.core.display.SVG object>"
      ]
     },
     "metadata": {},
     "output_type": "display_data"
    }
   ],
   "source": [
    "graph.update(\"C\")\n",
    "graphcat.notebook.display(graph)"
   ]
  },
  {
   "cell_type": "markdown",
   "metadata": {},
   "source": [
    "Although the *order* of the logged messages is different because this is a dynamic graph, the cycle originating at \"B\" is detected, and the graph is executed as if the link from \"B\" to \"A\" doesn't exist, just like the static version."
   ]
  },
  {
   "cell_type": "markdown",
   "metadata": {},
   "source": [
    "**Final Thoughts**\n",
    "\n",
    "As you can see, Graphcat will never misbehave or hang due to a cycle in your graphs, and we've put in real effort to ensure that its behavior when cycles are encountered is consistent and well defined.  This is to ensure that you can work confidently with Graphcat, never having to worry that an experiment or a misconfiguration will cause an infinite loop or a crash.  Having said that, there is little reason to ever *intentionally* put cycles in a graph, because cycles are almost always the product of an ill-posed problem.  When you have tasks with mutual dependencies, it typically means that you need to further decompose your problem into smaller sub-tasks, gradually teasing them apart until the interdependencies disappear.\n",
    "\n",
    "If you want to enforce a \"no cycles\" policy, you can tap into the same signal mechanism used for logging to raise an exception or implement other behavior when a cycle occurs.  For example:"
   ]
  },
  {
   "cell_type": "code",
   "execution_count": 10,
   "metadata": {},
   "outputs": [
    {
     "name": "stderr",
     "output_type": "stream",
     "text": [
      "INFO:graphcat.common:Task C updating.\n",
      "INFO:graphcat.common:Task C executing. Inputs: {None}\n",
      "INFO:graphcat.common:Task B updating.\n",
      "INFO:graphcat.common:Task B executing. Inputs: {None}\n",
      "INFO:graphcat.common:Task A updating.\n",
      "INFO:graphcat.common:Task A executing. Inputs: {None}\n",
      "ERROR:graphcat.common:Task A failed. Exception: Illegal cycle detected originating with task B!\n",
      "ERROR:graphcat.common:Task B failed. Exception: Illegal cycle detected originating with task B!\n",
      "ERROR:graphcat.common:Task C failed. Exception: Illegal cycle detected originating with task B!\n"
     ]
    },
    {
     "name": "stdout",
     "output_type": "stream",
     "text": [
      "Unhandled exception: Illegal cycle detected originating with task B!\n"
     ]
    }
   ],
   "source": [
    "def no_cycles_allowed(graph, name):\n",
    "    raise RuntimeError(f\"Illegal cycle detected originating with task {name}!\")\n",
    "    \n",
    "graph.on_cycle.connect(no_cycles_allowed)\n",
    "\n",
    "graph.mark_unfinished(\"A\")\n",
    "\n",
    "try:\n",
    "    graph.update(\"C\")\n",
    "except Exception as e:\n",
    "    print(f\"Unhandled exception: {e}\")"
   ]
  }
 ],
 "metadata": {
  "celltoolbar": "Tags",
  "kernelspec": {
   "display_name": "Python 3",
   "language": "python",
   "name": "python3"
  },
  "language_info": {
   "codemirror_mode": {
    "name": "ipython",
    "version": 3
   },
   "file_extension": ".py",
   "mimetype": "text/x-python",
   "name": "python",
   "nbconvert_exporter": "python",
   "pygments_lexer": "ipython3",
   "version": "3.8.2"
  }
 },
 "nbformat": 4,
 "nbformat_minor": 4
}
