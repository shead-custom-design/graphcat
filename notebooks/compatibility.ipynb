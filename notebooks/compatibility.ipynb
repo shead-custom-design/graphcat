{
 "cells": [
  {
   "cell_type": "code",
   "execution_count": 1,
   "metadata": {},
   "outputs": [
    {
     "name": "stdout",
     "output_type": "stream",
     "text": [
      "[]\n"
     ]
    },
    {
     "name": "stderr",
     "output_type": "stream",
     "text": [
      "/Users/tshead/miniconda3/lib/python3.7/site-packages/ipykernel_launcher.py:7: DeprecationWarning: NamedInputs.__getitem__() is deprecated, use NamedInputs.get(), NamedInputs.getone(), or NamedInputs.getall() instead.\n",
      "  import sys\n"
     ]
    }
   ],
   "source": [
    "import logging\n",
    "logging.basicConfig(level=logging.DEBUG)\n",
    "\n",
    "import graphcat\n",
    "\n",
    "def test(graph, name, inputs):\n",
    "    print(inputs[\"foo\"])\n",
    "    \n",
    "graph = graphcat.StaticGraph()\n",
    "graph.add_task(\"A\", test)\n",
    "graph.output(\"A\")"
   ]
  }
 ],
 "metadata": {
  "kernelspec": {
   "display_name": "Python 3",
   "language": "python",
   "name": "python3"
  },
  "language_info": {
   "codemirror_mode": {
    "name": "ipython",
    "version": 3
   },
   "file_extension": ".py",
   "mimetype": "text/x-python",
   "name": "python",
   "nbconvert_exporter": "python",
   "pygments_lexer": "ipython3",
   "version": "3.7.7"
  }
 },
 "nbformat": 4,
 "nbformat_minor": 4
}
