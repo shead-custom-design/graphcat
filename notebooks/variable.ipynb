{
 "cells": [
  {
   "cell_type": "code",
   "execution_count": 1,
   "metadata": {},
   "outputs": [],
   "source": [
    "import logging\n",
    "\n",
    "import graphcat.notebook\n",
    "\n",
    "logging.basicConfig(level=logging.DEBUG)"
   ]
  },
  {
   "cell_type": "code",
   "execution_count": 2,
   "metadata": {},
   "outputs": [],
   "source": [
    "def add(name, inputs):\n",
    "    return sum([value for values in inputs.values() for value in values])"
   ]
  },
  {
   "cell_type": "code",
   "execution_count": 3,
   "metadata": {},
   "outputs": [
    {
     "name": "stderr",
     "output_type": "stream",
     "text": [
      "DEBUG:graphcat:Task pa updating.\n",
      "INFO:graphcat:Task pa executing. Inputs: {}\n",
      "INFO:graphcat:Task pa finished. Output: 1\n",
      "DEBUG:graphcat:Task pb updating.\n",
      "INFO:graphcat:Task pb executing. Inputs: {}\n",
      "INFO:graphcat:Task pb finished. Output: 2\n",
      "DEBUG:graphcat:Task a updating.\n",
      "INFO:graphcat:Task a executing. Inputs: {'pa': [1], 'pb': [2]}\n",
      "INFO:graphcat:Task a finished. Output: 3\n"
     ]
    },
    {
     "name": "stdout",
     "output_type": "stream",
     "text": [
      "3\n"
     ]
    },
    {
     "data": {
      "image/svg+xml": [
       "<svg height=\"90pt\" viewBox=\"0.00 0.00 85.57 90.00\" width=\"86pt\" xmlns=\"http://www.w3.org/2000/svg\" xmlns:xlink=\"http://www.w3.org/1999/xlink\">\n",
       "<g class=\"graph\" id=\"graph0\" transform=\"scale(1 1) rotate(0) translate(4 86)\">\n",
       "<title>%3</title>\n",
       "<polygon fill=\"white\" points=\"-4,4 -4,-86 81.5723,-86 81.5723,4 -4,4\" stroke=\"none\"/>\n",
       "<!-- pa -->\n",
       "<g class=\"node\" id=\"node1\"><title>pa</title>\n",
       "<polygon fill=\"#494744\" points=\"29.3614,-82 0.210818,-82 0.210818,-60 29.3614,-60 29.3614,-82\" stroke=\"#494744\"/>\n",
       "<text fill=\"white\" font-family=\"Helvetica,sans-Serif\" font-size=\"14.00\" text-anchor=\"middle\" x=\"14.7861\" y=\"-66.8\">pa</text>\n",
       "</g>\n",
       "<!-- a -->\n",
       "<g class=\"node\" id=\"node2\"><title>a</title>\n",
       "<polygon fill=\"#494744\" points=\"53.2861,-22 24.2861,-22 24.2861,-0 53.2861,-0 53.2861,-22\" stroke=\"#494744\"/>\n",
       "<text fill=\"white\" font-family=\"Helvetica,sans-Serif\" font-size=\"14.00\" text-anchor=\"middle\" x=\"38.7861\" y=\"-6.8\">a</text>\n",
       "</g>\n",
       "<!-- pa&#45;&gt;a -->\n",
       "<g class=\"edge\" id=\"edge1\"><title>pa-&gt;a</title>\n",
       "<path d=\"M18.9666,-59.8972C22.1621,-52.1747 26.6679,-41.2857 30.5761,-31.841\" fill=\"none\" stroke=\"#494744\"/>\n",
       "<polygon fill=\"#494744\" points=\"33.9024,-32.956 34.492,-22.3776 27.4343,-30.2795 33.9024,-32.956\" stroke=\"#494744\"/>\n",
       "<text font-family=\"Helvetica,sans-Serif\" font-size=\"8.00\" text-anchor=\"middle\" x=\"33.2354\" y=\"-38.6\">pa</text>\n",
       "</g>\n",
       "<!-- pb -->\n",
       "<g class=\"node\" id=\"node3\"><title>pb</title>\n",
       "<polygon fill=\"#494744\" points=\"77.3614,-82 48.2108,-82 48.2108,-60 77.3614,-60 77.3614,-82\" stroke=\"#494744\"/>\n",
       "<text fill=\"white\" font-family=\"Helvetica,sans-Serif\" font-size=\"14.00\" text-anchor=\"middle\" x=\"62.7861\" y=\"-66.8\">pb</text>\n",
       "</g>\n",
       "<!-- pb&#45;&gt;a -->\n",
       "<g class=\"edge\" id=\"edge2\"><title>pb-&gt;a</title>\n",
       "<path d=\"M58.6057,-59.8972C55.4102,-52.1747 50.9043,-41.2857 46.9962,-31.841\" fill=\"none\" stroke=\"#494744\"/>\n",
       "<polygon fill=\"#494744\" points=\"50.138,-30.2795 43.0803,-22.3776 43.6698,-32.956 50.138,-30.2795\" stroke=\"#494744\"/>\n",
       "<text font-family=\"Helvetica,sans-Serif\" font-size=\"8.00\" text-anchor=\"middle\" x=\"57.2354\" y=\"-38.6\">pb</text>\n",
       "</g>\n",
       "</g>\n",
       "</svg>"
      ],
      "text/plain": [
       "<IPython.core.display.SVG object>"
      ]
     },
     "metadata": {},
     "output_type": "display_data"
    }
   ],
   "source": [
    "graph = graphcat.Graph()\n",
    "logger = graphcat.Logger(graph)\n",
    "\n",
    "pa = graphcat.VariableTask(graph, \"pa\", 1)\n",
    "pb = graphcat.VariableTask(graph, \"pb\", 2)\n",
    "\n",
    "graph.add_task(\"a\", add)\n",
    "\n",
    "graph.add_links(\"pa\", (\"a\", \"pa\"))\n",
    "graph.add_links(\"pb\", (\"a\", \"pb\"))\n",
    "\n",
    "print(graph.output(\"a\"))\n",
    "graphcat.notebook.display(graph)"
   ]
  },
  {
   "cell_type": "code",
   "execution_count": 4,
   "metadata": {},
   "outputs": [
    {
     "data": {
      "image/svg+xml": [
       "<svg height=\"90pt\" viewBox=\"0.00 0.00 85.57 90.00\" width=\"86pt\" xmlns=\"http://www.w3.org/2000/svg\" xmlns:xlink=\"http://www.w3.org/1999/xlink\">\n",
       "<g class=\"graph\" id=\"graph0\" transform=\"scale(1 1) rotate(0) translate(4 86)\">\n",
       "<title>%3</title>\n",
       "<polygon fill=\"white\" points=\"-4,4 -4,-86 81.5723,-86 81.5723,4 -4,4\" stroke=\"none\"/>\n",
       "<!-- pa -->\n",
       "<g class=\"node\" id=\"node1\"><title>pa</title>\n",
       "<polygon fill=\"white\" points=\"29.3614,-82 0.210818,-82 0.210818,-60 29.3614,-60 29.3614,-82\" stroke=\"#494744\"/>\n",
       "<text fill=\"#494744\" font-family=\"Helvetica,sans-Serif\" font-size=\"14.00\" text-anchor=\"middle\" x=\"14.7861\" y=\"-66.8\">pa</text>\n",
       "</g>\n",
       "<!-- a -->\n",
       "<g class=\"node\" id=\"node2\"><title>a</title>\n",
       "<polygon fill=\"white\" points=\"53.2861,-22 24.2861,-22 24.2861,-0 53.2861,-0 53.2861,-22\" stroke=\"#494744\"/>\n",
       "<text fill=\"#494744\" font-family=\"Helvetica,sans-Serif\" font-size=\"14.00\" text-anchor=\"middle\" x=\"38.7861\" y=\"-6.8\">a</text>\n",
       "</g>\n",
       "<!-- pa&#45;&gt;a -->\n",
       "<g class=\"edge\" id=\"edge1\"><title>pa-&gt;a</title>\n",
       "<path d=\"M18.9666,-59.8972C22.1621,-52.1747 26.6679,-41.2857 30.5761,-31.841\" fill=\"none\" stroke=\"#494744\"/>\n",
       "<polygon fill=\"#494744\" points=\"33.9024,-32.956 34.492,-22.3776 27.4343,-30.2795 33.9024,-32.956\" stroke=\"#494744\"/>\n",
       "<text font-family=\"Helvetica,sans-Serif\" font-size=\"8.00\" text-anchor=\"middle\" x=\"33.2354\" y=\"-38.6\">pa</text>\n",
       "</g>\n",
       "<!-- pb -->\n",
       "<g class=\"node\" id=\"node3\"><title>pb</title>\n",
       "<polygon fill=\"#494744\" points=\"77.3614,-82 48.2108,-82 48.2108,-60 77.3614,-60 77.3614,-82\" stroke=\"#494744\"/>\n",
       "<text fill=\"white\" font-family=\"Helvetica,sans-Serif\" font-size=\"14.00\" text-anchor=\"middle\" x=\"62.7861\" y=\"-66.8\">pb</text>\n",
       "</g>\n",
       "<!-- pb&#45;&gt;a -->\n",
       "<g class=\"edge\" id=\"edge2\"><title>pb-&gt;a</title>\n",
       "<path d=\"M58.6057,-59.8972C55.4102,-52.1747 50.9043,-41.2857 46.9962,-31.841\" fill=\"none\" stroke=\"#494744\"/>\n",
       "<polygon fill=\"#494744\" points=\"50.138,-30.2795 43.0803,-22.3776 43.6698,-32.956 50.138,-30.2795\" stroke=\"#494744\"/>\n",
       "<text font-family=\"Helvetica,sans-Serif\" font-size=\"8.00\" text-anchor=\"middle\" x=\"57.2354\" y=\"-38.6\">pb</text>\n",
       "</g>\n",
       "</g>\n",
       "</svg>"
      ],
      "text/plain": [
       "<IPython.core.display.SVG object>"
      ]
     },
     "metadata": {},
     "output_type": "display_data"
    }
   ],
   "source": [
    "pa.set(3)\n",
    "graphcat.notebook.display(graph)"
   ]
  },
  {
   "cell_type": "code",
   "execution_count": 5,
   "metadata": {},
   "outputs": [
    {
     "name": "stderr",
     "output_type": "stream",
     "text": [
      "DEBUG:graphcat:Task pa updating.\n",
      "INFO:graphcat:Task pa executing. Inputs: {}\n",
      "INFO:graphcat:Task pa finished. Output: 3\n",
      "DEBUG:graphcat:Task pb updating.\n",
      "DEBUG:graphcat:Task a updating.\n",
      "INFO:graphcat:Task a executing. Inputs: {'pa': [3], 'pb': [2]}\n",
      "INFO:graphcat:Task a finished. Output: 5\n"
     ]
    },
    {
     "name": "stdout",
     "output_type": "stream",
     "text": [
      "5\n"
     ]
    },
    {
     "data": {
      "image/svg+xml": [
       "<svg height=\"90pt\" viewBox=\"0.00 0.00 85.57 90.00\" width=\"86pt\" xmlns=\"http://www.w3.org/2000/svg\" xmlns:xlink=\"http://www.w3.org/1999/xlink\">\n",
       "<g class=\"graph\" id=\"graph0\" transform=\"scale(1 1) rotate(0) translate(4 86)\">\n",
       "<title>%3</title>\n",
       "<polygon fill=\"white\" points=\"-4,4 -4,-86 81.5723,-86 81.5723,4 -4,4\" stroke=\"none\"/>\n",
       "<!-- pa -->\n",
       "<g class=\"node\" id=\"node1\"><title>pa</title>\n",
       "<polygon fill=\"#494744\" points=\"29.3614,-82 0.210818,-82 0.210818,-60 29.3614,-60 29.3614,-82\" stroke=\"#494744\"/>\n",
       "<text fill=\"white\" font-family=\"Helvetica,sans-Serif\" font-size=\"14.00\" text-anchor=\"middle\" x=\"14.7861\" y=\"-66.8\">pa</text>\n",
       "</g>\n",
       "<!-- a -->\n",
       "<g class=\"node\" id=\"node2\"><title>a</title>\n",
       "<polygon fill=\"#494744\" points=\"53.2861,-22 24.2861,-22 24.2861,-0 53.2861,-0 53.2861,-22\" stroke=\"#494744\"/>\n",
       "<text fill=\"white\" font-family=\"Helvetica,sans-Serif\" font-size=\"14.00\" text-anchor=\"middle\" x=\"38.7861\" y=\"-6.8\">a</text>\n",
       "</g>\n",
       "<!-- pa&#45;&gt;a -->\n",
       "<g class=\"edge\" id=\"edge1\"><title>pa-&gt;a</title>\n",
       "<path d=\"M18.9666,-59.8972C22.1621,-52.1747 26.6679,-41.2857 30.5761,-31.841\" fill=\"none\" stroke=\"#494744\"/>\n",
       "<polygon fill=\"#494744\" points=\"33.9024,-32.956 34.492,-22.3776 27.4343,-30.2795 33.9024,-32.956\" stroke=\"#494744\"/>\n",
       "<text font-family=\"Helvetica,sans-Serif\" font-size=\"8.00\" text-anchor=\"middle\" x=\"33.2354\" y=\"-38.6\">pa</text>\n",
       "</g>\n",
       "<!-- pb -->\n",
       "<g class=\"node\" id=\"node3\"><title>pb</title>\n",
       "<polygon fill=\"#494744\" points=\"77.3614,-82 48.2108,-82 48.2108,-60 77.3614,-60 77.3614,-82\" stroke=\"#494744\"/>\n",
       "<text fill=\"white\" font-family=\"Helvetica,sans-Serif\" font-size=\"14.00\" text-anchor=\"middle\" x=\"62.7861\" y=\"-66.8\">pb</text>\n",
       "</g>\n",
       "<!-- pb&#45;&gt;a -->\n",
       "<g class=\"edge\" id=\"edge2\"><title>pb-&gt;a</title>\n",
       "<path d=\"M58.6057,-59.8972C55.4102,-52.1747 50.9043,-41.2857 46.9962,-31.841\" fill=\"none\" stroke=\"#494744\"/>\n",
       "<polygon fill=\"#494744\" points=\"50.138,-30.2795 43.0803,-22.3776 43.6698,-32.956 50.138,-30.2795\" stroke=\"#494744\"/>\n",
       "<text font-family=\"Helvetica,sans-Serif\" font-size=\"8.00\" text-anchor=\"middle\" x=\"57.2354\" y=\"-38.6\">pb</text>\n",
       "</g>\n",
       "</g>\n",
       "</svg>"
      ],
      "text/plain": [
       "<IPython.core.display.SVG object>"
      ]
     },
     "metadata": {},
     "output_type": "display_data"
    }
   ],
   "source": [
    "print(graph.output(\"a\"))\n",
    "graphcat.notebook.display(graph)"
   ]
  },
  {
   "cell_type": "code",
   "execution_count": 6,
   "metadata": {},
   "outputs": [
    {
     "data": {
      "image/svg+xml": [
       "<svg height=\"90pt\" viewBox=\"0.00 0.00 85.57 90.00\" width=\"86pt\" xmlns=\"http://www.w3.org/2000/svg\" xmlns:xlink=\"http://www.w3.org/1999/xlink\">\n",
       "<g class=\"graph\" id=\"graph0\" transform=\"scale(1 1) rotate(0) translate(4 86)\">\n",
       "<title>%3</title>\n",
       "<polygon fill=\"white\" points=\"-4,4 -4,-86 81.5723,-86 81.5723,4 -4,4\" stroke=\"none\"/>\n",
       "<!-- pa -->\n",
       "<g class=\"node\" id=\"node1\"><title>pa</title>\n",
       "<polygon fill=\"#494744\" points=\"29.3614,-82 0.210818,-82 0.210818,-60 29.3614,-60 29.3614,-82\" stroke=\"#494744\"/>\n",
       "<text fill=\"white\" font-family=\"Helvetica,sans-Serif\" font-size=\"14.00\" text-anchor=\"middle\" x=\"14.7861\" y=\"-66.8\">pa</text>\n",
       "</g>\n",
       "<!-- a -->\n",
       "<g class=\"node\" id=\"node2\"><title>a</title>\n",
       "<polygon fill=\"white\" points=\"53.2861,-22 24.2861,-22 24.2861,-0 53.2861,-0 53.2861,-22\" stroke=\"#494744\"/>\n",
       "<text fill=\"#494744\" font-family=\"Helvetica,sans-Serif\" font-size=\"14.00\" text-anchor=\"middle\" x=\"38.7861\" y=\"-6.8\">a</text>\n",
       "</g>\n",
       "<!-- pa&#45;&gt;a -->\n",
       "<g class=\"edge\" id=\"edge1\"><title>pa-&gt;a</title>\n",
       "<path d=\"M18.9666,-59.8972C22.1621,-52.1747 26.6679,-41.2857 30.5761,-31.841\" fill=\"none\" stroke=\"#494744\"/>\n",
       "<polygon fill=\"#494744\" points=\"33.9024,-32.956 34.492,-22.3776 27.4343,-30.2795 33.9024,-32.956\" stroke=\"#494744\"/>\n",
       "<text font-family=\"Helvetica,sans-Serif\" font-size=\"8.00\" text-anchor=\"middle\" x=\"33.2354\" y=\"-38.6\">pa</text>\n",
       "</g>\n",
       "<!-- pb -->\n",
       "<g class=\"node\" id=\"node3\"><title>pb</title>\n",
       "<polygon fill=\"white\" points=\"77.3614,-82 48.2108,-82 48.2108,-60 77.3614,-60 77.3614,-82\" stroke=\"#494744\"/>\n",
       "<text fill=\"#494744\" font-family=\"Helvetica,sans-Serif\" font-size=\"14.00\" text-anchor=\"middle\" x=\"62.7861\" y=\"-66.8\">pb</text>\n",
       "</g>\n",
       "<!-- pb&#45;&gt;a -->\n",
       "<g class=\"edge\" id=\"edge2\"><title>pb-&gt;a</title>\n",
       "<path d=\"M58.6057,-59.8972C55.4102,-52.1747 50.9043,-41.2857 46.9962,-31.841\" fill=\"none\" stroke=\"#494744\"/>\n",
       "<polygon fill=\"#494744\" points=\"50.138,-30.2795 43.0803,-22.3776 43.6698,-32.956 50.138,-30.2795\" stroke=\"#494744\"/>\n",
       "<text font-family=\"Helvetica,sans-Serif\" font-size=\"8.00\" text-anchor=\"middle\" x=\"57.2354\" y=\"-38.6\">pb</text>\n",
       "</g>\n",
       "</g>\n",
       "</svg>"
      ],
      "text/plain": [
       "<IPython.core.display.SVG object>"
      ]
     },
     "metadata": {},
     "output_type": "display_data"
    }
   ],
   "source": [
    "pb.set(4)\n",
    "graphcat.notebook.display(graph)"
   ]
  },
  {
   "cell_type": "code",
   "execution_count": 7,
   "metadata": {},
   "outputs": [
    {
     "name": "stderr",
     "output_type": "stream",
     "text": [
      "DEBUG:graphcat:Task pa updating.\n",
      "DEBUG:graphcat:Task pb updating.\n",
      "INFO:graphcat:Task pb executing. Inputs: {}\n",
      "INFO:graphcat:Task pb finished. Output: 4\n",
      "DEBUG:graphcat:Task a updating.\n",
      "INFO:graphcat:Task a executing. Inputs: {'pa': [3], 'pb': [4]}\n",
      "INFO:graphcat:Task a finished. Output: 7\n"
     ]
    },
    {
     "name": "stdout",
     "output_type": "stream",
     "text": [
      "7\n"
     ]
    },
    {
     "data": {
      "image/svg+xml": [
       "<svg height=\"90pt\" viewBox=\"0.00 0.00 85.57 90.00\" width=\"86pt\" xmlns=\"http://www.w3.org/2000/svg\" xmlns:xlink=\"http://www.w3.org/1999/xlink\">\n",
       "<g class=\"graph\" id=\"graph0\" transform=\"scale(1 1) rotate(0) translate(4 86)\">\n",
       "<title>%3</title>\n",
       "<polygon fill=\"white\" points=\"-4,4 -4,-86 81.5723,-86 81.5723,4 -4,4\" stroke=\"none\"/>\n",
       "<!-- pa -->\n",
       "<g class=\"node\" id=\"node1\"><title>pa</title>\n",
       "<polygon fill=\"#494744\" points=\"29.3614,-82 0.210818,-82 0.210818,-60 29.3614,-60 29.3614,-82\" stroke=\"#494744\"/>\n",
       "<text fill=\"white\" font-family=\"Helvetica,sans-Serif\" font-size=\"14.00\" text-anchor=\"middle\" x=\"14.7861\" y=\"-66.8\">pa</text>\n",
       "</g>\n",
       "<!-- a -->\n",
       "<g class=\"node\" id=\"node2\"><title>a</title>\n",
       "<polygon fill=\"#494744\" points=\"53.2861,-22 24.2861,-22 24.2861,-0 53.2861,-0 53.2861,-22\" stroke=\"#494744\"/>\n",
       "<text fill=\"white\" font-family=\"Helvetica,sans-Serif\" font-size=\"14.00\" text-anchor=\"middle\" x=\"38.7861\" y=\"-6.8\">a</text>\n",
       "</g>\n",
       "<!-- pa&#45;&gt;a -->\n",
       "<g class=\"edge\" id=\"edge1\"><title>pa-&gt;a</title>\n",
       "<path d=\"M18.9666,-59.8972C22.1621,-52.1747 26.6679,-41.2857 30.5761,-31.841\" fill=\"none\" stroke=\"#494744\"/>\n",
       "<polygon fill=\"#494744\" points=\"33.9024,-32.956 34.492,-22.3776 27.4343,-30.2795 33.9024,-32.956\" stroke=\"#494744\"/>\n",
       "<text font-family=\"Helvetica,sans-Serif\" font-size=\"8.00\" text-anchor=\"middle\" x=\"33.2354\" y=\"-38.6\">pa</text>\n",
       "</g>\n",
       "<!-- pb -->\n",
       "<g class=\"node\" id=\"node3\"><title>pb</title>\n",
       "<polygon fill=\"#494744\" points=\"77.3614,-82 48.2108,-82 48.2108,-60 77.3614,-60 77.3614,-82\" stroke=\"#494744\"/>\n",
       "<text fill=\"white\" font-family=\"Helvetica,sans-Serif\" font-size=\"14.00\" text-anchor=\"middle\" x=\"62.7861\" y=\"-66.8\">pb</text>\n",
       "</g>\n",
       "<!-- pb&#45;&gt;a -->\n",
       "<g class=\"edge\" id=\"edge2\"><title>pb-&gt;a</title>\n",
       "<path d=\"M58.6057,-59.8972C55.4102,-52.1747 50.9043,-41.2857 46.9962,-31.841\" fill=\"none\" stroke=\"#494744\"/>\n",
       "<polygon fill=\"#494744\" points=\"50.138,-30.2795 43.0803,-22.3776 43.6698,-32.956 50.138,-30.2795\" stroke=\"#494744\"/>\n",
       "<text font-family=\"Helvetica,sans-Serif\" font-size=\"8.00\" text-anchor=\"middle\" x=\"57.2354\" y=\"-38.6\">pb</text>\n",
       "</g>\n",
       "</g>\n",
       "</svg>"
      ],
      "text/plain": [
       "<IPython.core.display.SVG object>"
      ]
     },
     "metadata": {},
     "output_type": "display_data"
    }
   ],
   "source": [
    "print(graph.output(\"a\"))\n",
    "graphcat.notebook.display(graph)"
   ]
  }
 ],
 "metadata": {
  "kernelspec": {
   "display_name": "Python 3",
   "language": "python",
   "name": "python3"
  },
  "language_info": {
   "codemirror_mode": {
    "name": "ipython",
    "version": 3
   },
   "file_extension": ".py",
   "mimetype": "text/x-python",
   "name": "python",
   "nbconvert_exporter": "python",
   "pygments_lexer": "ipython3",
   "version": "3.7.7"
  }
 },
 "nbformat": 4,
 "nbformat_minor": 4
}
