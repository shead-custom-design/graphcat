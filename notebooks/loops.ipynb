{
 "cells": [
  {
   "cell_type": "code",
   "execution_count": 1,
   "metadata": {},
   "outputs": [],
   "source": [
    "import logging\n",
    "\n",
    "import graphcat.notebook\n",
    "\n",
    "logging.basicConfig(level=logging.DEBUG)"
   ]
  },
  {
   "cell_type": "code",
   "execution_count": 2,
   "metadata": {},
   "outputs": [],
   "source": [
    "def on_execute(sender, name, inputs):\n",
    "    logging.debug(f\"Executing '{name}'. Inputs: {inputs}\")"
   ]
  },
  {
   "cell_type": "code",
   "execution_count": 3,
   "metadata": {},
   "outputs": [],
   "source": [
    "class LoopBlock(object):\n",
    "    def __init__(self, graph, iteration=\"loop-iteration\", begin=\"loop-begin\", end=\"loop-end\", gather=\"loop-gather\"):\n",
    "        self._graph = graph\n",
    "        self._iteration = iteration\n",
    "        self._begin = begin\n",
    "        self._end = end\n",
    "        self._gather = gather\n",
    "        \n",
    "        graph.set_task(iteration, graphcat.null)\n",
    "        graph.set_task(begin, self.loop_begin)\n",
    "        graph.set_task(end, self.loop_end)\n",
    "        graph.set_task(gather, self.loop_gather)\n",
    "\n",
    "        graph.set_links(end, (gather, 0))\n",
    "        \n",
    "        self._iterating = False\n",
    "        self._loop_output = []\n",
    "\n",
    "    def loop_begin(self, name, inputs):\n",
    "        if not self._iterating:\n",
    "            self._iterating = True\n",
    "            self._loop_output = []\n",
    "            for i in range(3):\n",
    "                logging.debug(f\"Loop iteration {i}\")\n",
    "                self._graph.set_task(self._iteration, graphcat.constant(i))\n",
    "                self._graph.mark_unfinished(name)\n",
    "                self._loop_output.append(self._graph.output(self._end))\n",
    "            self._iterating = False\n",
    "        return inputs.get(0, [None])[0]\n",
    "        \n",
    "    def loop_end(self, name, inputs):\n",
    "        return inputs.get(0, [None])[0]\n",
    "        \n",
    "    def loop_gather(self, name, inputs):\n",
    "        return self._loop_output\n"
   ]
  },
  {
   "cell_type": "code",
   "execution_count": 4,
   "metadata": {},
   "outputs": [],
   "source": [
    "graph = graphcat.Graph()\n",
    "logger = graphcat.Logger(graph)\n",
    "graph.on_execute.connect(on_execute);"
   ]
  },
  {
   "cell_type": "code",
   "execution_count": 5,
   "metadata": {},
   "outputs": [
    {
     "name": "stderr",
     "output_type": "stream",
     "text": [
      "DEBUG:graphcat:Task A updating.\n",
      "DEBUG:root:Executing 'A'. Inputs: {}\n",
      "INFO:graphcat:Task A executing. Inputs: {}\n",
      "INFO:graphcat:Task A finished. Output: foo\n",
      "DEBUG:graphcat:Task loop-begin updating.\n",
      "DEBUG:root:Executing 'loop-begin'. Inputs: {0: ['foo']}\n",
      "INFO:graphcat:Task loop-begin executing. Inputs: {0: ['foo']}\n",
      "DEBUG:root:Loop iteration 0\n",
      "DEBUG:graphcat:Task A updating.\n",
      "DEBUG:graphcat:Task loop-begin updating.\n",
      "DEBUG:root:Executing 'loop-begin'. Inputs: {0: ['foo']}\n",
      "INFO:graphcat:Task loop-begin executing. Inputs: {0: ['foo']}\n",
      "INFO:graphcat:Task loop-begin finished. Output: foo\n",
      "DEBUG:graphcat:Task B updating.\n",
      "DEBUG:root:Executing 'B'. Inputs: {None: ['foo']}\n",
      "INFO:graphcat:Task B executing. Inputs: {None: ['foo']}\n",
      "INFO:graphcat:Task B finished. Output: bar\n",
      "DEBUG:graphcat:Task loop-end updating.\n",
      "DEBUG:root:Executing 'loop-end'. Inputs: {0: ['bar']}\n",
      "INFO:graphcat:Task loop-end executing. Inputs: {0: ['bar']}\n",
      "INFO:graphcat:Task loop-end finished. Output: bar\n",
      "DEBUG:root:Loop iteration 1\n",
      "DEBUG:graphcat:Task A updating.\n",
      "DEBUG:graphcat:Task loop-begin updating.\n",
      "DEBUG:root:Executing 'loop-begin'. Inputs: {0: ['foo']}\n",
      "INFO:graphcat:Task loop-begin executing. Inputs: {0: ['foo']}\n",
      "INFO:graphcat:Task loop-begin finished. Output: foo\n",
      "DEBUG:graphcat:Task B updating.\n",
      "DEBUG:root:Executing 'B'. Inputs: {None: ['foo']}\n",
      "INFO:graphcat:Task B executing. Inputs: {None: ['foo']}\n",
      "INFO:graphcat:Task B finished. Output: bar\n",
      "DEBUG:graphcat:Task loop-end updating.\n",
      "DEBUG:root:Executing 'loop-end'. Inputs: {0: ['bar']}\n",
      "INFO:graphcat:Task loop-end executing. Inputs: {0: ['bar']}\n",
      "INFO:graphcat:Task loop-end finished. Output: bar\n",
      "DEBUG:root:Loop iteration 2\n",
      "DEBUG:graphcat:Task A updating.\n",
      "DEBUG:graphcat:Task loop-begin updating.\n",
      "DEBUG:root:Executing 'loop-begin'. Inputs: {0: ['foo']}\n",
      "INFO:graphcat:Task loop-begin executing. Inputs: {0: ['foo']}\n",
      "INFO:graphcat:Task loop-begin finished. Output: foo\n",
      "DEBUG:graphcat:Task B updating.\n",
      "DEBUG:root:Executing 'B'. Inputs: {None: ['foo']}\n",
      "INFO:graphcat:Task B executing. Inputs: {None: ['foo']}\n",
      "INFO:graphcat:Task B finished. Output: bar\n",
      "DEBUG:graphcat:Task loop-end updating.\n",
      "DEBUG:root:Executing 'loop-end'. Inputs: {0: ['bar']}\n",
      "INFO:graphcat:Task loop-end executing. Inputs: {0: ['bar']}\n",
      "INFO:graphcat:Task loop-end finished. Output: bar\n",
      "INFO:graphcat:Task loop-begin finished. Output: foo\n",
      "DEBUG:graphcat:Task B updating.\n",
      "DEBUG:graphcat:Task loop-end updating.\n",
      "DEBUG:graphcat:Task loop-gather updating.\n",
      "DEBUG:root:Executing 'loop-gather'. Inputs: {0: ['bar']}\n",
      "INFO:graphcat:Task loop-gather executing. Inputs: {0: ['bar']}\n",
      "INFO:graphcat:Task loop-gather finished. Output: ['bar', 'bar', 'bar']\n"
     ]
    },
    {
     "data": {
      "image/svg+xml": [
       "<svg height=\"223pt\" viewBox=\"0.00 0.00 125.36 223.00\" width=\"125pt\" xmlns=\"http://www.w3.org/2000/svg\" xmlns:xlink=\"http://www.w3.org/1999/xlink\">\n",
       "<g class=\"graph\" id=\"graph0\" transform=\"scale(1 1) rotate(0) translate(4 219)\">\n",
       "<title>%3</title>\n",
       "<polygon fill=\"white\" points=\"-4,4 -4,-219 121.361,-219 121.361,4 -4,4\" stroke=\"none\"/>\n",
       "<!-- loop&#45;iteration -->\n",
       "<g class=\"node\" id=\"node1\"><title>loop-iteration</title>\n",
       "<polygon fill=\"white\" points=\"58.3755,-215 -0.125539,-215 -0.125539,-201 58.3755,-201 58.3755,-215\" stroke=\"#494744\"/>\n",
       "<text fill=\"#494744\" font-family=\"Helvetica,sans-Serif\" font-size=\"8.00\" text-anchor=\"middle\" x=\"29.125\" y=\"-205.6\">loop-iteration</text>\n",
       "</g>\n",
       "<!-- loop&#45;begin -->\n",
       "<g class=\"node\" id=\"node2\"><title>loop-begin</title>\n",
       "<polygon fill=\"#494744\" points=\"115.99,-163 66.2604,-163 66.2604,-149 115.99,-149 115.99,-163\" stroke=\"#494744\"/>\n",
       "<text fill=\"white\" font-family=\"Helvetica,sans-Serif\" font-size=\"8.00\" text-anchor=\"middle\" x=\"91.125\" y=\"-153.6\">loop-begin</text>\n",
       "</g>\n",
       "<!-- B -->\n",
       "<g class=\"node\" id=\"node3\"><title>B</title>\n",
       "<polygon fill=\"#494744\" points=\"105.625,-118 76.625,-118 76.625,-104 105.625,-104 105.625,-118\" stroke=\"#494744\"/>\n",
       "<text fill=\"white\" font-family=\"Helvetica,sans-Serif\" font-size=\"8.00\" text-anchor=\"middle\" x=\"91.125\" y=\"-108.6\">B</text>\n",
       "</g>\n",
       "<!-- loop&#45;begin&#45;&gt;B -->\n",
       "<g class=\"edge\" id=\"edge1\"><title>loop-begin-&gt;B</title>\n",
       "<path d=\"M91.125,-148.655C91.125,-143.259 91.125,-135.27 91.125,-128.127\" fill=\"none\" stroke=\"#494744\"/>\n",
       "<polygon fill=\"#494744\" points=\"94.6251,-128.092 91.125,-118.092 87.6251,-128.092 94.6251,-128.092\" stroke=\"#494744\"/>\n",
       "</g>\n",
       "<!-- loop&#45;end -->\n",
       "<g class=\"node\" id=\"node4\"><title>loop-end</title>\n",
       "<polygon fill=\"#494744\" points=\"112.762,-66 69.4881,-66 69.4881,-52 112.762,-52 112.762,-66\" stroke=\"#494744\"/>\n",
       "<text fill=\"white\" font-family=\"Helvetica,sans-Serif\" font-size=\"8.00\" text-anchor=\"middle\" x=\"91.125\" y=\"-56.6\">loop-end</text>\n",
       "</g>\n",
       "<!-- B&#45;&gt;loop&#45;end -->\n",
       "<g class=\"edge\" id=\"edge4\"><title>B-&gt;loop-end</title>\n",
       "<path d=\"M91.125,-103.869C91.125,-97.0466 91.125,-85.742 91.125,-76.3173\" fill=\"none\" stroke=\"#494744\"/>\n",
       "<polygon fill=\"#494744\" points=\"94.6251,-76.1811 91.125,-66.1811 87.6251,-76.1812 94.6251,-76.1811\" stroke=\"#494744\"/>\n",
       "<text font-family=\"Helvetica,sans-Serif\" font-size=\"8.00\" text-anchor=\"middle\" x=\"93.3496\" y=\"-82.6\">0</text>\n",
       "</g>\n",
       "<!-- loop&#45;gather -->\n",
       "<g class=\"node\" id=\"node5\"><title>loop-gather</title>\n",
       "<polygon fill=\"#494744\" points=\"117.6,-14 64.6502,-14 64.6502,-0 117.6,-0 117.6,-14\" stroke=\"#494744\"/>\n",
       "<text fill=\"white\" font-family=\"Helvetica,sans-Serif\" font-size=\"8.00\" text-anchor=\"middle\" x=\"91.125\" y=\"-4.6\">loop-gather</text>\n",
       "</g>\n",
       "<!-- loop&#45;end&#45;&gt;loop&#45;gather -->\n",
       "<g class=\"edge\" id=\"edge2\"><title>loop-end-&gt;loop-gather</title>\n",
       "<path d=\"M91.125,-51.869C91.125,-45.0466 91.125,-33.742 91.125,-24.3173\" fill=\"none\" stroke=\"#494744\"/>\n",
       "<polygon fill=\"#494744\" points=\"94.6251,-24.1811 91.125,-14.1811 87.6251,-24.1812 94.6251,-24.1811\" stroke=\"#494744\"/>\n",
       "<text font-family=\"Helvetica,sans-Serif\" font-size=\"8.00\" text-anchor=\"middle\" x=\"93.3496\" y=\"-30.6\">0</text>\n",
       "</g>\n",
       "<!-- A -->\n",
       "<g class=\"node\" id=\"node6\"><title>A</title>\n",
       "<polygon fill=\"#494744\" points=\"105.625,-215 76.625,-215 76.625,-201 105.625,-201 105.625,-215\" stroke=\"#494744\"/>\n",
       "<text fill=\"white\" font-family=\"Helvetica,sans-Serif\" font-size=\"8.00\" text-anchor=\"middle\" x=\"91.125\" y=\"-205.6\">A</text>\n",
       "</g>\n",
       "<!-- A&#45;&gt;loop&#45;begin -->\n",
       "<g class=\"edge\" id=\"edge3\"><title>A-&gt;loop-begin</title>\n",
       "<path d=\"M91.125,-200.869C91.125,-194.047 91.125,-182.742 91.125,-173.317\" fill=\"none\" stroke=\"#494744\"/>\n",
       "<polygon fill=\"#494744\" points=\"94.6251,-173.181 91.125,-163.181 87.6251,-173.181 94.6251,-173.181\" stroke=\"#494744\"/>\n",
       "<text font-family=\"Helvetica,sans-Serif\" font-size=\"8.00\" text-anchor=\"middle\" x=\"93.3496\" y=\"-179.6\">0</text>\n",
       "</g>\n",
       "</g>\n",
       "</svg>"
      ],
      "text/plain": [
       "<IPython.core.display.SVG object>"
      ]
     },
     "metadata": {},
     "output_type": "display_data"
    },
    {
     "name": "stderr",
     "output_type": "stream",
     "text": [
      "DEBUG:graphcat:Task A updating.\n",
      "DEBUG:graphcat:Task loop-begin updating.\n",
      "DEBUG:graphcat:Task B updating.\n",
      "DEBUG:graphcat:Task loop-end updating.\n",
      "DEBUG:graphcat:Task loop-gather updating.\n"
     ]
    },
    {
     "data": {
      "text/plain": [
       "['bar', 'bar', 'bar']"
      ]
     },
     "execution_count": 5,
     "metadata": {},
     "output_type": "execute_result"
    }
   ],
   "source": [
    "loop = LoopBlock(graph)\n",
    "\n",
    "graph.add_task(\"A\", graphcat.constant(\"foo\"))\n",
    "graph.set_links(\"A\", (\"loop-begin\", 0))\n",
    "\n",
    "graph.add_task(\"B\", graphcat.constant(\"bar\"))\n",
    "graph.set_links(\"loop-begin\", \"B\")\n",
    "graph.set_links(\"B\", (\"loop-end\", 0))\n",
    "\n",
    "graph.update(\"loop-gather\")\n",
    "graphcat.notebook.display(graph)\n",
    "graph.output(\"loop-gather\")"
   ]
  },
  {
   "cell_type": "code",
   "execution_count": null,
   "metadata": {},
   "outputs": [],
   "source": []
  }
 ],
 "metadata": {
  "kernelspec": {
   "display_name": "Python 3",
   "language": "python",
   "name": "python3"
  },
  "language_info": {
   "codemirror_mode": {
    "name": "ipython",
    "version": 3
   },
   "file_extension": ".py",
   "mimetype": "text/x-python",
   "name": "python",
   "nbconvert_exporter": "python",
   "pygments_lexer": "ipython3",
   "version": "3.7.7"
  }
 },
 "nbformat": 4,
 "nbformat_minor": 4
}
