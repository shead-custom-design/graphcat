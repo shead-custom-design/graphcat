{
 "cells": [
  {
   "cell_type": "code",
   "execution_count": 1,
   "metadata": {},
   "outputs": [],
   "source": [
    "import logging\n",
    "\n",
    "import graphcat.notebook\n",
    "\n",
    "logging.basicConfig(level=logging.DEBUG)"
   ]
  },
  {
   "cell_type": "code",
   "execution_count": 2,
   "metadata": {},
   "outputs": [],
   "source": [
    "def on_execute(sender, name, inputs):\n",
    "    logging.debug(f\"Executing '{name}'. Inputs: {inputs}\")"
   ]
  },
  {
   "cell_type": "code",
   "execution_count": 3,
   "metadata": {},
   "outputs": [],
   "source": [
    "class LoopBlock(object):\n",
    "    def __init__(self, graph, iteration=\"loop-iteration\", begin=\"loop-begin\", end=\"loop-end\", gather=\"loop-gather\"):\n",
    "        self._graph = graph\n",
    "        self._iteration = iteration\n",
    "        self._begin = begin\n",
    "        self._end = end\n",
    "        self._gather = gather\n",
    "        \n",
    "        graph.set_task(iteration, graphcat.null)\n",
    "        graph.set_task(begin, self.loop_begin)\n",
    "        graph.set_task(end, self.loop_end)\n",
    "        graph.set_task(gather, self.loop_gather)\n",
    "\n",
    "        graph.set_links(end, (gather, 0))\n",
    "        \n",
    "        self._iterating = False\n",
    "        self._loop_output = []\n",
    "\n",
    "    def loop_begin(self, graph, name, inputs):\n",
    "        if not self._iterating:\n",
    "            self._iterating = True\n",
    "            self._loop_output = []\n",
    "            for i in range(3):\n",
    "                logging.debug(f\"Loop iteration {i}\")\n",
    "                self._graph.set_task(self._iteration, graphcat.constant(i))\n",
    "                self._graph.mark_unfinished(name)\n",
    "                self._loop_output.append(self._graph.output(self._end))\n",
    "            self._iterating = False\n",
    "        return inputs.get(0, [None])[0]\n",
    "        \n",
    "    def loop_end(self, graph, name, inputs):\n",
    "        return inputs.get(0, [None])[0]\n",
    "        \n",
    "    def loop_gather(self, graph, name, inputs):\n",
    "        return self._loop_output\n"
   ]
  },
  {
   "cell_type": "code",
   "execution_count": 4,
   "metadata": {},
   "outputs": [],
   "source": [
    "graph = graphcat.StaticGraph()\n",
    "logger = graphcat.Logger(graph)\n",
    "graph.on_execute.connect(on_execute);"
   ]
  },
  {
   "cell_type": "code",
   "execution_count": 5,
   "metadata": {},
   "outputs": [
    {
     "name": "stderr",
     "output_type": "stream",
     "text": [
      "DEBUG:graphcat.common:Task A updating.\n",
      "DEBUG:root:Executing 'A'. Inputs: {}\n",
      "INFO:graphcat.common:Task A executing. Inputs: {}\n",
      "INFO:graphcat.common:Task A finished. Output: foo\n",
      "DEBUG:graphcat.common:Task loop-begin updating.\n",
      "DEBUG:root:Executing 'loop-begin'. Inputs: {0: foo}\n",
      "INFO:graphcat.common:Task loop-begin executing. Inputs: {0: foo}\n",
      "DEBUG:root:Loop iteration 0\n",
      "DEBUG:graphcat.common:Task A updating.\n",
      "DEBUG:graphcat.common:Task loop-begin updating.\n",
      "DEBUG:root:Executing 'loop-begin'. Inputs: {0: foo}\n",
      "INFO:graphcat.common:Task loop-begin executing. Inputs: {0: foo}\n",
      "INFO:graphcat.common:Task loop-begin finished. Output: f\n",
      "DEBUG:graphcat.common:Task B updating.\n",
      "DEBUG:root:Executing 'B'. Inputs: {None: f}\n",
      "INFO:graphcat.common:Task B executing. Inputs: {None: f}\n",
      "INFO:graphcat.common:Task B finished. Output: bar\n",
      "DEBUG:graphcat.common:Task loop-end updating.\n",
      "DEBUG:root:Executing 'loop-end'. Inputs: {0: bar}\n",
      "INFO:graphcat.common:Task loop-end executing. Inputs: {0: bar}\n",
      "INFO:graphcat.common:Task loop-end finished. Output: b\n",
      "DEBUG:root:Loop iteration 1\n",
      "DEBUG:graphcat.common:Task A updating.\n",
      "DEBUG:graphcat.common:Task loop-begin updating.\n",
      "DEBUG:root:Executing 'loop-begin'. Inputs: {0: foo}\n",
      "INFO:graphcat.common:Task loop-begin executing. Inputs: {0: foo}\n",
      "INFO:graphcat.common:Task loop-begin finished. Output: f\n",
      "DEBUG:graphcat.common:Task B updating.\n",
      "DEBUG:root:Executing 'B'. Inputs: {None: f}\n",
      "INFO:graphcat.common:Task B executing. Inputs: {None: f}\n",
      "INFO:graphcat.common:Task B finished. Output: bar\n",
      "DEBUG:graphcat.common:Task loop-end updating.\n",
      "DEBUG:root:Executing 'loop-end'. Inputs: {0: bar}\n",
      "INFO:graphcat.common:Task loop-end executing. Inputs: {0: bar}\n",
      "INFO:graphcat.common:Task loop-end finished. Output: b\n",
      "DEBUG:root:Loop iteration 2\n",
      "DEBUG:graphcat.common:Task A updating.\n",
      "DEBUG:graphcat.common:Task loop-begin updating.\n",
      "DEBUG:root:Executing 'loop-begin'. Inputs: {0: foo}\n",
      "INFO:graphcat.common:Task loop-begin executing. Inputs: {0: foo}\n",
      "INFO:graphcat.common:Task loop-begin finished. Output: f\n",
      "DEBUG:graphcat.common:Task B updating.\n",
      "DEBUG:root:Executing 'B'. Inputs: {None: f}\n",
      "INFO:graphcat.common:Task B executing. Inputs: {None: f}\n",
      "INFO:graphcat.common:Task B finished. Output: bar\n",
      "DEBUG:graphcat.common:Task loop-end updating.\n",
      "DEBUG:root:Executing 'loop-end'. Inputs: {0: bar}\n",
      "INFO:graphcat.common:Task loop-end executing. Inputs: {0: bar}\n",
      "INFO:graphcat.common:Task loop-end finished. Output: b\n",
      "INFO:graphcat.common:Task loop-begin finished. Output: f\n",
      "DEBUG:graphcat.common:Task B updating.\n",
      "DEBUG:graphcat.common:Task loop-end updating.\n",
      "DEBUG:graphcat.common:Task loop-gather updating.\n",
      "DEBUG:root:Executing 'loop-gather'. Inputs: {0: b}\n",
      "INFO:graphcat.common:Task loop-gather executing. Inputs: {0: b}\n",
      "INFO:graphcat.common:Task loop-gather finished. Output: ['b', 'b', 'b']\n"
     ]
    },
    {
     "data": {
      "image/svg+xml": [
       "<svg height=\"55pt\" viewBox=\"0.00 0.00 374.57 55.00\" width=\"375pt\" xmlns=\"http://www.w3.org/2000/svg\" xmlns:xlink=\"http://www.w3.org/1999/xlink\">\n",
       "<g class=\"graph\" id=\"graph0\" transform=\"scale(1 1) rotate(0) translate(4 51)\">\n",
       "<title>%3</title>\n",
       "<polygon fill=\"white\" points=\"-4,4 -4,-51 370.57,-51 370.57,4 -4,4\" stroke=\"none\"/>\n",
       "<!-- loop&#45;iteration -->\n",
       "<g class=\"node\" id=\"node1\"><title>loop-iteration</title>\n",
       "<polygon fill=\"white\" points=\"58.3755,-14 -0.125539,-14 -0.125539,-0 58.3755,-0 58.3755,-14\" stroke=\"#494744\"/>\n",
       "<text fill=\"#494744\" font-family=\"Helvetica,sans-Serif\" font-size=\"8.00\" text-anchor=\"middle\" x=\"29.125\" y=\"-4.6\">loop-iteration</text>\n",
       "</g>\n",
       "<!-- loop&#45;begin -->\n",
       "<g class=\"node\" id=\"node2\"><title>loop-begin</title>\n",
       "<polygon fill=\"#494744\" points=\"142.245,-46 92.5162,-46 92.5162,-32 142.245,-32 142.245,-46\" stroke=\"#494744\"/>\n",
       "<text fill=\"white\" font-family=\"Helvetica,sans-Serif\" font-size=\"8.00\" text-anchor=\"middle\" x=\"117.381\" y=\"-36.6\">loop-begin</text>\n",
       "</g>\n",
       "<!-- B -->\n",
       "<g class=\"node\" id=\"node3\"><title>B</title>\n",
       "<polygon fill=\"#494744\" points=\"202.062,-46 173.062,-46 173.062,-32 202.062,-32 202.062,-46\" stroke=\"#494744\"/>\n",
       "<text fill=\"white\" font-family=\"Helvetica,sans-Serif\" font-size=\"8.00\" text-anchor=\"middle\" x=\"187.562\" y=\"-36.6\">B</text>\n",
       "</g>\n",
       "<!-- loop&#45;begin&#45;&gt;B -->\n",
       "<g class=\"edge\" id=\"edge1\"><title>loop-begin-&gt;B</title>\n",
       "<path d=\"M142.227,-39C148.821,-39 155.977,-39 162.578,-39\" fill=\"none\" stroke=\"#494744\"/>\n",
       "<polygon fill=\"#494744\" points=\"162.965,-42.5001 172.965,-39 162.965,-35.5001 162.965,-42.5001\" stroke=\"#494744\"/>\n",
       "</g>\n",
       "<!-- loop&#45;end -->\n",
       "<g class=\"node\" id=\"node4\"><title>loop-end</title>\n",
       "<polygon fill=\"#494744\" points=\"279.717,-46 236.443,-46 236.443,-32 279.717,-32 279.717,-46\" stroke=\"#494744\"/>\n",
       "<text fill=\"white\" font-family=\"Helvetica,sans-Serif\" font-size=\"8.00\" text-anchor=\"middle\" x=\"258.08\" y=\"-36.6\">loop-end</text>\n",
       "</g>\n",
       "<!-- B&#45;&gt;loop&#45;end -->\n",
       "<g class=\"edge\" id=\"edge4\"><title>B-&gt;loop-end</title>\n",
       "<path d=\"M202.099,-39C209.031,-39 217.776,-39 226.239,-39\" fill=\"none\" stroke=\"#494744\"/>\n",
       "<polygon fill=\"#494744\" points=\"226.283,-42.5001 236.283,-39 226.283,-35.5001 226.283,-42.5001\" stroke=\"#494744\"/>\n",
       "<text font-family=\"Helvetica,sans-Serif\" font-size=\"8.00\" text-anchor=\"middle\" x=\"219.287\" y=\"-40.6\">0</text>\n",
       "</g>\n",
       "<!-- loop&#45;gather -->\n",
       "<g class=\"node\" id=\"node5\"><title>loop-gather</title>\n",
       "<polygon fill=\"#494744\" points=\"366.809,-46 313.859,-46 313.859,-32 366.809,-32 366.809,-46\" stroke=\"#494744\"/>\n",
       "<text fill=\"white\" font-family=\"Helvetica,sans-Serif\" font-size=\"8.00\" text-anchor=\"middle\" x=\"340.334\" y=\"-36.6\">loop-gather</text>\n",
       "</g>\n",
       "<!-- loop&#45;end&#45;&gt;loop&#45;gather -->\n",
       "<g class=\"edge\" id=\"edge2\"><title>loop-end-&gt;loop-gather</title>\n",
       "<path d=\"M279.747,-39C287.062,-39 295.515,-39 303.714,-39\" fill=\"none\" stroke=\"#494744\"/>\n",
       "<polygon fill=\"#494744\" points=\"303.858,-42.5001 313.858,-39 303.858,-35.5001 303.858,-42.5001\" stroke=\"#494744\"/>\n",
       "<text font-family=\"Helvetica,sans-Serif\" font-size=\"8.00\" text-anchor=\"middle\" x=\"296.873\" y=\"-40.6\">0</text>\n",
       "</g>\n",
       "<!-- A -->\n",
       "<g class=\"node\" id=\"node6\"><title>A</title>\n",
       "<polygon fill=\"#494744\" points=\"43.625,-46 14.625,-46 14.625,-32 43.625,-32 43.625,-46\" stroke=\"#494744\"/>\n",
       "<text fill=\"white\" font-family=\"Helvetica,sans-Serif\" font-size=\"8.00\" text-anchor=\"middle\" x=\"29.125\" y=\"-36.6\">A</text>\n",
       "</g>\n",
       "<!-- A&#45;&gt;loop&#45;begin -->\n",
       "<g class=\"edge\" id=\"edge3\"><title>A-&gt;loop-begin</title>\n",
       "<path d=\"M43.9835,-39C54.2795,-39 68.7896,-39 82.1187,-39\" fill=\"none\" stroke=\"#494744\"/>\n",
       "<polygon fill=\"#494744\" points=\"82.4523,-42.5001 92.4522,-39 82.4522,-35.5001 82.4523,-42.5001\" stroke=\"#494744\"/>\n",
       "<text font-family=\"Helvetica,sans-Serif\" font-size=\"8.00\" text-anchor=\"middle\" x=\"75.4746\" y=\"-40.6\">0</text>\n",
       "</g>\n",
       "</g>\n",
       "</svg>"
      ],
      "text/plain": [
       "<IPython.core.display.SVG object>"
      ]
     },
     "metadata": {},
     "output_type": "display_data"
    },
    {
     "name": "stderr",
     "output_type": "stream",
     "text": [
      "DEBUG:graphcat.common:Task A updating.\n",
      "DEBUG:graphcat.common:Task loop-begin updating.\n",
      "DEBUG:graphcat.common:Task B updating.\n",
      "DEBUG:graphcat.common:Task loop-end updating.\n",
      "DEBUG:graphcat.common:Task loop-gather updating.\n"
     ]
    },
    {
     "data": {
      "text/plain": [
       "['b', 'b', 'b']"
      ]
     },
     "execution_count": 5,
     "metadata": {},
     "output_type": "execute_result"
    }
   ],
   "source": [
    "loop = LoopBlock(graph)\n",
    "\n",
    "graph.add_task(\"A\", graphcat.constant(\"foo\"))\n",
    "graph.set_links(\"A\", (\"loop-begin\", 0))\n",
    "\n",
    "graph.add_task(\"B\", graphcat.constant(\"bar\"))\n",
    "graph.set_links(\"loop-begin\", \"B\")\n",
    "graph.set_links(\"B\", (\"loop-end\", 0))\n",
    "\n",
    "graph.update(\"loop-gather\")\n",
    "graphcat.notebook.display(graph)\n",
    "graph.output(\"loop-gather\")"
   ]
  },
  {
   "cell_type": "code",
   "execution_count": null,
   "metadata": {},
   "outputs": [],
   "source": []
  }
 ],
 "metadata": {
  "kernelspec": {
   "display_name": "Python 3",
   "language": "python",
   "name": "python3"
  },
  "language_info": {
   "codemirror_mode": {
    "name": "ipython",
    "version": 3
   },
   "file_extension": ".py",
   "mimetype": "text/x-python",
   "name": "python",
   "nbconvert_exporter": "python",
   "pygments_lexer": "ipython3",
   "version": "3.7.7"
  }
 },
 "nbformat": 4,
 "nbformat_minor": 4
}
