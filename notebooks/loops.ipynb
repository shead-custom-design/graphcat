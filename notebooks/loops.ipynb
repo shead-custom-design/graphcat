{
 "cells": [
  {
   "cell_type": "code",
   "execution_count": 1,
   "metadata": {},
   "outputs": [],
   "source": [
    "import logging\n",
    "\n",
    "import graphcat.notebook\n",
    "\n",
    "logging.basicConfig(level=logging.DEBUG)"
   ]
  },
  {
   "cell_type": "code",
   "execution_count": 2,
   "metadata": {},
   "outputs": [],
   "source": [
    "def on_execute(sender, label, inputs):\n",
    "    logging.debug(f\"Executing '{label}'. Inputs: {inputs}\")"
   ]
  },
  {
   "cell_type": "code",
   "execution_count": 3,
   "metadata": {},
   "outputs": [],
   "source": [
    "class LoopBlock(object):\n",
    "    def __init__(self, graph, iteration=\"loop-iteration\", begin=\"loop-begin\", end=\"loop-end\", gather=\"loop-gather\"):\n",
    "        self._graph = graph\n",
    "        self._iteration = iteration\n",
    "        self._begin = begin\n",
    "        self._end = end\n",
    "        self._gather = gather\n",
    "        \n",
    "        graph.add_task(iteration)\n",
    "        graph.add_task(begin, self.loop_begin)\n",
    "        graph.add_task(end, self.loop_end)\n",
    "        graph.add_task(gather, self.loop_gather)\n",
    "\n",
    "        graph.add_relationship(end, gather, 0)\n",
    "        \n",
    "        self._iterating = False\n",
    "        self._loop_output = []\n",
    "\n",
    "    def loop_begin(self, label, inputs):\n",
    "        if not self._iterating:\n",
    "            self._iterating = True\n",
    "            self._loop_output = []\n",
    "            for i in range(3):\n",
    "                logging.debug(f\"Loop iteration {i}\")\n",
    "                self._graph.set_task_fn(self._iteration, graphcat.constant(i))\n",
    "                self._graph.mark_unfinished(label)\n",
    "                self._loop_output.append(self._graph.output(self._end))\n",
    "            self._iterating = False\n",
    "        return inputs.get(0, [None])[0]\n",
    "        \n",
    "    def loop_end(self, label, inputs):\n",
    "        return inputs.get(0, [None])[0]\n",
    "        \n",
    "    def loop_gather(self, label, inputs):\n",
    "        return self._loop_output\n"
   ]
  },
  {
   "cell_type": "code",
   "execution_count": 4,
   "metadata": {},
   "outputs": [],
   "source": [
    "graph = graphcat.Graph()\n",
    "#logger = graphcat.Logger(graph)\n",
    "graph.on_execute.connect(on_execute);"
   ]
  },
  {
   "cell_type": "code",
   "execution_count": 5,
   "metadata": {},
   "outputs": [
    {
     "name": "stderr",
     "output_type": "stream",
     "text": [
      "DEBUG:root:Executing 'A'. Inputs: {}\n",
      "DEBUG:root:Executing 'loop-begin'. Inputs: {0: ['foo']}\n",
      "DEBUG:root:Loop iteration 0\n",
      "DEBUG:root:Executing 'loop-begin'. Inputs: {0: ['foo']}\n",
      "DEBUG:root:Executing 'B'. Inputs: {<Input.DEFAULT: 1>: ['foo']}\n",
      "DEBUG:root:Executing 'loop-end'. Inputs: {0: ['bar']}\n",
      "DEBUG:root:Loop iteration 1\n",
      "DEBUG:root:Executing 'loop-begin'. Inputs: {0: ['foo']}\n",
      "DEBUG:root:Executing 'B'. Inputs: {<Input.DEFAULT: 1>: ['foo']}\n",
      "DEBUG:root:Executing 'loop-end'. Inputs: {0: ['bar']}\n",
      "DEBUG:root:Loop iteration 2\n",
      "DEBUG:root:Executing 'loop-begin'. Inputs: {0: ['foo']}\n",
      "DEBUG:root:Executing 'B'. Inputs: {<Input.DEFAULT: 1>: ['foo']}\n",
      "DEBUG:root:Executing 'loop-end'. Inputs: {0: ['bar']}\n",
      "DEBUG:root:Executing 'loop-gather'. Inputs: {0: ['bar']}\n"
     ]
    },
    {
     "data": {
      "image/svg+xml": [
       "<svg height=\"263pt\" viewBox=\"0.00 0.00 177.88 263.00\" width=\"178pt\" xmlns=\"http://www.w3.org/2000/svg\" xmlns:xlink=\"http://www.w3.org/1999/xlink\">\n",
       "<g class=\"graph\" id=\"graph0\" transform=\"scale(1 1) rotate(0) translate(4 259)\">\n",
       "<title>%3</title>\n",
       "<polygon fill=\"white\" points=\"-4,4 -4,-259 173.882,-259 173.882,4 -4,4\" stroke=\"none\"/>\n",
       "<!-- loop&#45;iteration -->\n",
       "<g class=\"node\" id=\"node1\"><title>loop-iteration</title>\n",
       "<polygon fill=\"white\" points=\"94.9063,-255 0.0312294,-255 0.0312294,-233 94.9063,-233 94.9063,-255\" stroke=\"#494744\"/>\n",
       "<text fill=\"#494744\" font-family=\"Helvetica,sans-Serif\" font-size=\"14.00\" text-anchor=\"middle\" x=\"47.4688\" y=\"-239.8\">loop-iteration</text>\n",
       "</g>\n",
       "<!-- loop&#45;begin -->\n",
       "<g class=\"node\" id=\"node2\"><title>loop-begin</title>\n",
       "<polygon fill=\"#494744\" points=\"167.355,-195 87.5821,-195 87.5821,-173 167.355,-173 167.355,-195\" stroke=\"#494744\"/>\n",
       "<text fill=\"white\" font-family=\"Helvetica,sans-Serif\" font-size=\"14.00\" text-anchor=\"middle\" x=\"127.469\" y=\"-179.8\">loop-begin</text>\n",
       "</g>\n",
       "<!-- B -->\n",
       "<g class=\"node\" id=\"node3\"><title>B</title>\n",
       "<polygon fill=\"#494744\" points=\"141.969,-142 112.969,-142 112.969,-120 141.969,-120 141.969,-142\" stroke=\"#494744\"/>\n",
       "<text fill=\"white\" font-family=\"Helvetica,sans-Serif\" font-size=\"14.00\" text-anchor=\"middle\" x=\"127.469\" y=\"-126.8\">B</text>\n",
       "</g>\n",
       "<!-- loop&#45;begin&#45;&gt;B -->\n",
       "<g class=\"edge\" id=\"edge1\"><title>loop-begin-&gt;B</title>\n",
       "<path d=\"M127.469,-172.679C127.469,-166.873 127.469,-159.415 127.469,-152.474\" fill=\"none\" stroke=\"#494744\"/>\n",
       "<polygon fill=\"#494744\" points=\"130.969,-152.305 127.469,-142.305 123.969,-152.305 130.969,-152.305\" stroke=\"#494744\"/>\n",
       "</g>\n",
       "<!-- loop&#45;end -->\n",
       "<g class=\"node\" id=\"node4\"><title>loop-end</title>\n",
       "<polygon fill=\"#494744\" points=\"161.96,-82 92.9777,-82 92.9777,-60 161.96,-60 161.96,-82\" stroke=\"#494744\"/>\n",
       "<text fill=\"white\" font-family=\"Helvetica,sans-Serif\" font-size=\"14.00\" text-anchor=\"middle\" x=\"127.469\" y=\"-66.8\">loop-end</text>\n",
       "</g>\n",
       "<!-- B&#45;&gt;loop&#45;end -->\n",
       "<g class=\"edge\" id=\"edge4\"><title>B-&gt;loop-end</title>\n",
       "<path d=\"M127.469,-119.897C127.469,-112.339 127.469,-101.748 127.469,-92.4458\" fill=\"none\" stroke=\"#494744\"/>\n",
       "<polygon fill=\"#494744\" points=\"130.969,-92.3776 127.469,-82.3776 123.969,-92.3776 130.969,-92.3776\" stroke=\"#494744\"/>\n",
       "<text font-family=\"Helvetica,sans-Serif\" font-size=\"8.00\" text-anchor=\"middle\" x=\"129.693\" y=\"-98.6\">0</text>\n",
       "</g>\n",
       "<!-- loop&#45;gather -->\n",
       "<g class=\"node\" id=\"node5\"><title>loop-gather</title>\n",
       "<polygon fill=\"#494744\" points=\"169.796,-22 85.1414,-22 85.1414,-0 169.796,-0 169.796,-22\" stroke=\"#494744\"/>\n",
       "<text fill=\"white\" font-family=\"Helvetica,sans-Serif\" font-size=\"14.00\" text-anchor=\"middle\" x=\"127.469\" y=\"-6.8\">loop-gather</text>\n",
       "</g>\n",
       "<!-- loop&#45;end&#45;&gt;loop&#45;gather -->\n",
       "<g class=\"edge\" id=\"edge2\"><title>loop-end-&gt;loop-gather</title>\n",
       "<path d=\"M127.469,-59.8972C127.469,-52.339 127.469,-41.7476 127.469,-32.4458\" fill=\"none\" stroke=\"#494744\"/>\n",
       "<polygon fill=\"#494744\" points=\"130.969,-32.3776 127.469,-22.3776 123.969,-32.3776 130.969,-32.3776\" stroke=\"#494744\"/>\n",
       "<text font-family=\"Helvetica,sans-Serif\" font-size=\"8.00\" text-anchor=\"middle\" x=\"129.693\" y=\"-38.6\">0</text>\n",
       "</g>\n",
       "<!-- A -->\n",
       "<g class=\"node\" id=\"node6\"><title>A</title>\n",
       "<polygon fill=\"#494744\" points=\"141.969,-255 112.969,-255 112.969,-233 141.969,-233 141.969,-255\" stroke=\"#494744\"/>\n",
       "<text fill=\"white\" font-family=\"Helvetica,sans-Serif\" font-size=\"14.00\" text-anchor=\"middle\" x=\"127.469\" y=\"-239.8\">A</text>\n",
       "</g>\n",
       "<!-- A&#45;&gt;loop&#45;begin -->\n",
       "<g class=\"edge\" id=\"edge3\"><title>A-&gt;loop-begin</title>\n",
       "<path d=\"M127.469,-232.897C127.469,-225.339 127.469,-214.748 127.469,-205.446\" fill=\"none\" stroke=\"#494744\"/>\n",
       "<polygon fill=\"#494744\" points=\"130.969,-205.378 127.469,-195.378 123.969,-205.378 130.969,-205.378\" stroke=\"#494744\"/>\n",
       "<text font-family=\"Helvetica,sans-Serif\" font-size=\"8.00\" text-anchor=\"middle\" x=\"129.693\" y=\"-211.6\">0</text>\n",
       "</g>\n",
       "</g>\n",
       "</svg>"
      ],
      "text/plain": [
       "<IPython.core.display.SVG object>"
      ]
     },
     "metadata": {},
     "output_type": "display_data"
    },
    {
     "data": {
      "text/plain": [
       "['bar', 'bar', 'bar']"
      ]
     },
     "execution_count": 5,
     "metadata": {},
     "output_type": "execute_result"
    }
   ],
   "source": [
    "loop = LoopBlock(graph)\n",
    "\n",
    "graph.add_task(\"A\", graphcat.constant(\"foo\"))\n",
    "graph.add_relationship(\"A\", \"loop-begin\", 0)\n",
    "\n",
    "graph.add_task(\"B\", graphcat.constant(\"bar\"))\n",
    "graph.add_relationship(\"loop-begin\", \"B\")\n",
    "graph.add_relationship(\"B\", \"loop-end\", 0)\n",
    "\n",
    "graph.update(\"loop-gather\")\n",
    "graphcat.notebook.display(graph)\n",
    "graph.output(\"loop-gather\")"
   ]
  }
 ],
 "metadata": {
  "kernelspec": {
   "display_name": "Python 3",
   "language": "python",
   "name": "python3"
  },
  "language_info": {
   "codemirror_mode": {
    "name": "ipython",
    "version": 3
   },
   "file_extension": ".py",
   "mimetype": "text/x-python",
   "name": "python",
   "nbconvert_exporter": "python",
   "pygments_lexer": "ipython3",
   "version": "3.7.7"
  }
 },
 "nbformat": 4,
 "nbformat_minor": 4
}
