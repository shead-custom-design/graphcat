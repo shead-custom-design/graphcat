{
 "cells": [
  {
   "cell_type": "code",
   "execution_count": 1,
   "metadata": {},
   "outputs": [],
   "source": [
    "import functools\n",
    "import logging\n",
    "\n",
    "import graphcat.notebook\n",
    "\n",
    "logging.basicConfig(level=logging.DEBUG)"
   ]
  },
  {
   "cell_type": "code",
   "execution_count": 2,
   "metadata": {},
   "outputs": [
    {
     "data": {
      "image/svg+xml": [
       "<svg height=\"65pt\" viewBox=\"0.00 0.00 84.00 65.00\" width=\"84pt\" xmlns=\"http://www.w3.org/2000/svg\" xmlns:xlink=\"http://www.w3.org/1999/xlink\">\n",
       "<g class=\"graph\" id=\"graph0\" transform=\"scale(1 1) rotate(0) translate(4 61)\">\n",
       "<title>%3</title>\n",
       "<polygon fill=\"white\" points=\"-4,4 -4,-61 80,-61 80,4 -4,4\" stroke=\"none\"/>\n",
       "<!-- a -->\n",
       "<g class=\"node\" id=\"node1\"><title>a</title>\n",
       "<polygon fill=\"white\" points=\"52,-57 23,-57 23,-43 52,-43 52,-57\" stroke=\"#494744\"/>\n",
       "<text fill=\"#494744\" font-family=\"Helvetica,sans-Serif\" font-size=\"8.00\" text-anchor=\"middle\" x=\"37.5\" y=\"-47.6\">a</text>\n",
       "</g>\n",
       "<!-- b -->\n",
       "<g class=\"node\" id=\"node2\"><title>b</title>\n",
       "<polygon fill=\"white\" points=\"29,-14 0,-14 0,-0 29,-0 29,-14\" stroke=\"#494744\"/>\n",
       "<text fill=\"#494744\" font-family=\"Helvetica,sans-Serif\" font-size=\"8.00\" text-anchor=\"middle\" x=\"14.5\" y=\"-4.6\">b</text>\n",
       "</g>\n",
       "<!-- a&#45;&gt;b -->\n",
       "<g class=\"edge\" id=\"edge1\"><title>a-&gt;b</title>\n",
       "<path d=\"M34.1063,-42.9503C31.1846,-37.7421 26.8426,-30.0021 22.9869,-23.1287\" fill=\"none\" stroke=\"#494744\"/>\n",
       "<polygon fill=\"#494744\" points=\"25.8527,-21.0836 17.9077,-14.0745 19.7477,-24.5083 25.8527,-21.0836\" stroke=\"#494744\"/>\n",
       "</g>\n",
       "<!-- c -->\n",
       "<g class=\"node\" id=\"node3\"><title>c</title>\n",
       "<polygon fill=\"white\" points=\"76,-14 47,-14 47,-0 76,-0 76,-14\" stroke=\"#494744\"/>\n",
       "<text fill=\"#494744\" font-family=\"Helvetica,sans-Serif\" font-size=\"8.00\" text-anchor=\"middle\" x=\"61.5\" y=\"-4.6\">c</text>\n",
       "</g>\n",
       "<!-- a&#45;&gt;c -->\n",
       "<g class=\"edge\" id=\"edge2\"><title>a-&gt;c</title>\n",
       "<path d=\"M41.0413,-42.9503C44.09,-37.7421 48.6207,-30.0021 52.6441,-23.1287\" fill=\"none\" stroke=\"#494744\"/>\n",
       "<polygon fill=\"#494744\" points=\"55.9129,-24.4728 57.9442,-14.0745 49.8718,-20.9365 55.9129,-24.4728\" stroke=\"#494744\"/>\n",
       "</g>\n",
       "</g>\n",
       "</svg>"
      ],
      "text/plain": [
       "<IPython.core.display.SVG object>"
      ]
     },
     "metadata": {},
     "output_type": "display_data"
    }
   ],
   "source": [
    "graph = graphcat.Graph()\n",
    "logger = graphcat.Logger(graph)\n",
    "\n",
    "graph.add_task(\"a\")\n",
    "graph.add_task(\"b\")\n",
    "graph.add_task(\"c\")\n",
    "\n",
    "graph.add_links(\"a\", \"b\")\n",
    "graph.add_links(\"a\", \"c\")\n",
    "\n",
    "graphcat.notebook.display(graph)"
   ]
  },
  {
   "cell_type": "code",
   "execution_count": 3,
   "metadata": {},
   "outputs": [
    {
     "name": "stderr",
     "output_type": "stream",
     "text": [
      "DEBUG:graphcat:Task a updating.\n",
      "INFO:graphcat:Task a executing. Inputs: {}\n",
      "INFO:graphcat:Task a finished. Output: None\n",
      "DEBUG:graphcat:Task b updating.\n",
      "INFO:graphcat:Task b executing. Inputs: {None: [None]}\n",
      "INFO:graphcat:Task b finished. Output: None\n"
     ]
    },
    {
     "name": "stdout",
     "output_type": "stream",
     "text": [
      "{'b', 'a'}\n"
     ]
    },
    {
     "data": {
      "image/svg+xml": [
       "<svg height=\"65pt\" viewBox=\"0.00 0.00 84.00 65.00\" width=\"84pt\" xmlns=\"http://www.w3.org/2000/svg\" xmlns:xlink=\"http://www.w3.org/1999/xlink\">\n",
       "<g class=\"graph\" id=\"graph0\" transform=\"scale(1 1) rotate(0) translate(4 61)\">\n",
       "<title>%3</title>\n",
       "<polygon fill=\"white\" points=\"-4,4 -4,-61 80,-61 80,4 -4,4\" stroke=\"none\"/>\n",
       "<!-- a -->\n",
       "<g class=\"node\" id=\"node1\"><title>a</title>\n",
       "<polygon fill=\"#494744\" points=\"52,-57 23,-57 23,-43 52,-43 52,-57\" stroke=\"#494744\"/>\n",
       "<text fill=\"white\" font-family=\"Helvetica,sans-Serif\" font-size=\"8.00\" text-anchor=\"middle\" x=\"37.5\" y=\"-47.6\">a</text>\n",
       "</g>\n",
       "<!-- b -->\n",
       "<g class=\"node\" id=\"node2\"><title>b</title>\n",
       "<polygon fill=\"#494744\" points=\"29,-14 0,-14 0,-0 29,-0 29,-14\" stroke=\"#494744\"/>\n",
       "<text fill=\"white\" font-family=\"Helvetica,sans-Serif\" font-size=\"8.00\" text-anchor=\"middle\" x=\"14.5\" y=\"-4.6\">b</text>\n",
       "</g>\n",
       "<!-- a&#45;&gt;b -->\n",
       "<g class=\"edge\" id=\"edge1\"><title>a-&gt;b</title>\n",
       "<path d=\"M34.1063,-42.9503C31.1846,-37.7421 26.8426,-30.0021 22.9869,-23.1287\" fill=\"none\" stroke=\"#494744\"/>\n",
       "<polygon fill=\"#494744\" points=\"25.8527,-21.0836 17.9077,-14.0745 19.7477,-24.5083 25.8527,-21.0836\" stroke=\"#494744\"/>\n",
       "</g>\n",
       "<!-- c -->\n",
       "<g class=\"node\" id=\"node3\"><title>c</title>\n",
       "<polygon fill=\"white\" points=\"76,-14 47,-14 47,-0 76,-0 76,-14\" stroke=\"#494744\"/>\n",
       "<text fill=\"#494744\" font-family=\"Helvetica,sans-Serif\" font-size=\"8.00\" text-anchor=\"middle\" x=\"61.5\" y=\"-4.6\">c</text>\n",
       "</g>\n",
       "<!-- a&#45;&gt;c -->\n",
       "<g class=\"edge\" id=\"edge2\"><title>a-&gt;c</title>\n",
       "<path d=\"M41.0413,-42.9503C44.09,-37.7421 48.6207,-30.0021 52.6441,-23.1287\" fill=\"none\" stroke=\"#494744\"/>\n",
       "<polygon fill=\"#494744\" points=\"55.9129,-24.4728 57.9442,-14.0745 49.8718,-20.9365 55.9129,-24.4728\" stroke=\"#494744\"/>\n",
       "</g>\n",
       "</g>\n",
       "</svg>"
      ],
      "text/plain": [
       "<IPython.core.display.SVG object>"
      ]
     },
     "metadata": {},
     "output_type": "display_data"
    }
   ],
   "source": [
    "updated = graphcat.UpdatedTasks(graph)\n",
    "graph.update(\"b\")\n",
    "print(updated.tasks)\n",
    "\n",
    "graphcat.notebook.display(graph)"
   ]
  }
 ],
 "metadata": {
  "kernelspec": {
   "display_name": "Python 3",
   "language": "python",
   "name": "python3"
  },
  "language_info": {
   "codemirror_mode": {
    "name": "ipython",
    "version": 3
   },
   "file_extension": ".py",
   "mimetype": "text/x-python",
   "name": "python",
   "nbconvert_exporter": "python",
   "pygments_lexer": "ipython3",
   "version": "3.7.7"
  }
 },
 "nbformat": 4,
 "nbformat_minor": 4
}
