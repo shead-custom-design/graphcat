{
 "cells": [
  {
   "cell_type": "code",
   "execution_count": 1,
   "metadata": {},
   "outputs": [],
   "source": [
    "import functools\n",
    "import logging\n",
    "\n",
    "import graphcat.notebook\n",
    "\n",
    "logging.basicConfig(level=logging.DEBUG)"
   ]
  },
  {
   "cell_type": "code",
   "execution_count": 2,
   "metadata": {},
   "outputs": [
    {
     "name": "stderr",
     "output_type": "stream",
     "text": [
      "/Users/tshead/miniconda3/lib/python3.7/site-packages/ipykernel_launcher.py:8: DeprecationWarning: graphcat.Graph.add_relationship is deprecated, use graphcat.Graph.add_links or graphcat.Graph.set_links instead.\n",
      "  \n",
      "/Users/tshead/miniconda3/lib/python3.7/site-packages/ipykernel_launcher.py:9: DeprecationWarning: graphcat.Graph.add_relationship is deprecated, use graphcat.Graph.add_links or graphcat.Graph.set_links instead.\n",
      "  if __name__ == '__main__':\n"
     ]
    },
    {
     "data": {
      "image/svg+xml": [
       "<svg height=\"81pt\" viewBox=\"0.00 0.00 84.00 81.00\" width=\"84pt\" xmlns=\"http://www.w3.org/2000/svg\" xmlns:xlink=\"http://www.w3.org/1999/xlink\">\n",
       "<g class=\"graph\" id=\"graph0\" transform=\"scale(1 1) rotate(0) translate(4 77)\">\n",
       "<title>%3</title>\n",
       "<polygon fill=\"white\" points=\"-4,4 -4,-77 80,-77 80,4 -4,4\" stroke=\"none\"/>\n",
       "<!-- a -->\n",
       "<g class=\"node\" id=\"node1\"><title>a</title>\n",
       "<polygon fill=\"white\" points=\"52,-73 23,-73 23,-51 52,-51 52,-73\" stroke=\"#494744\"/>\n",
       "<text fill=\"#494744\" font-family=\"Helvetica,sans-Serif\" font-size=\"14.00\" text-anchor=\"middle\" x=\"37.5\" y=\"-57.8\">a</text>\n",
       "</g>\n",
       "<!-- b -->\n",
       "<g class=\"node\" id=\"node2\"><title>b</title>\n",
       "<polygon fill=\"white\" points=\"29,-22 0,-22 0,-0 29,-0 29,-22\" stroke=\"#494744\"/>\n",
       "<text fill=\"#494744\" font-family=\"Helvetica,sans-Serif\" font-size=\"14.00\" text-anchor=\"middle\" x=\"14.5\" y=\"-6.8\">b</text>\n",
       "</g>\n",
       "<!-- a&#45;&gt;b -->\n",
       "<g class=\"edge\" id=\"edge1\"><title>a-&gt;b</title>\n",
       "<path d=\"M32.6223,-50.6084C29.9644,-44.9459 26.5906,-37.7582 23.4765,-31.1238\" fill=\"none\" stroke=\"#494744\"/>\n",
       "<polygon fill=\"#494744\" points=\"26.6308,-29.6067 19.2134,-22.0415 20.2942,-32.5811 26.6308,-29.6067\" stroke=\"#494744\"/>\n",
       "</g>\n",
       "<!-- c -->\n",
       "<g class=\"node\" id=\"node3\"><title>c</title>\n",
       "<polygon fill=\"white\" points=\"76,-22 47,-22 47,-0 76,-0 76,-22\" stroke=\"#494744\"/>\n",
       "<text fill=\"#494744\" font-family=\"Helvetica,sans-Serif\" font-size=\"14.00\" text-anchor=\"middle\" x=\"61.5\" y=\"-6.8\">c</text>\n",
       "</g>\n",
       "<!-- a&#45;&gt;c -->\n",
       "<g class=\"edge\" id=\"edge2\"><title>a-&gt;c</title>\n",
       "<path d=\"M42.5898,-50.6084C45.3632,-44.9459 48.8837,-37.7582 52.1332,-31.1238\" fill=\"none\" stroke=\"#494744\"/>\n",
       "<polygon fill=\"#494744\" points=\"55.3262,-32.5617 56.5817,-22.0415 49.0397,-29.4826 55.3262,-32.5617\" stroke=\"#494744\"/>\n",
       "</g>\n",
       "</g>\n",
       "</svg>"
      ],
      "text/plain": [
       "<IPython.core.display.SVG object>"
      ]
     },
     "metadata": {},
     "output_type": "display_data"
    }
   ],
   "source": [
    "graph = graphcat.Graph()\n",
    "logger = graphcat.Logger(graph)\n",
    "\n",
    "graph.add_task(\"a\")\n",
    "graph.add_task(\"b\")\n",
    "graph.add_task(\"c\")\n",
    "\n",
    "graph.add_relationship(\"a\", \"b\")\n",
    "graph.add_relationship(\"a\", \"c\")\n",
    "\n",
    "graphcat.notebook.display(graph)"
   ]
  },
  {
   "cell_type": "code",
   "execution_count": 3,
   "metadata": {},
   "outputs": [
    {
     "name": "stderr",
     "output_type": "stream",
     "text": [
      "DEBUG:graphcat:Task a updating.\n",
      "INFO:graphcat:Task a executing. Inputs: {}\n",
      "INFO:graphcat:Task a finished. Output: None\n",
      "DEBUG:graphcat:Task b updating.\n",
      "INFO:graphcat:Task b executing. Inputs: {None: [None]}\n",
      "INFO:graphcat:Task b finished. Output: None\n"
     ]
    },
    {
     "name": "stdout",
     "output_type": "stream",
     "text": [
      "{'b', 'a'}\n"
     ]
    },
    {
     "data": {
      "image/svg+xml": [
       "<svg height=\"81pt\" viewBox=\"0.00 0.00 84.00 81.00\" width=\"84pt\" xmlns=\"http://www.w3.org/2000/svg\" xmlns:xlink=\"http://www.w3.org/1999/xlink\">\n",
       "<g class=\"graph\" id=\"graph0\" transform=\"scale(1 1) rotate(0) translate(4 77)\">\n",
       "<title>%3</title>\n",
       "<polygon fill=\"white\" points=\"-4,4 -4,-77 80,-77 80,4 -4,4\" stroke=\"none\"/>\n",
       "<!-- a -->\n",
       "<g class=\"node\" id=\"node1\"><title>a</title>\n",
       "<polygon fill=\"#494744\" points=\"52,-73 23,-73 23,-51 52,-51 52,-73\" stroke=\"#494744\"/>\n",
       "<text fill=\"white\" font-family=\"Helvetica,sans-Serif\" font-size=\"14.00\" text-anchor=\"middle\" x=\"37.5\" y=\"-57.8\">a</text>\n",
       "</g>\n",
       "<!-- b -->\n",
       "<g class=\"node\" id=\"node2\"><title>b</title>\n",
       "<polygon fill=\"#494744\" points=\"29,-22 0,-22 0,-0 29,-0 29,-22\" stroke=\"#494744\"/>\n",
       "<text fill=\"white\" font-family=\"Helvetica,sans-Serif\" font-size=\"14.00\" text-anchor=\"middle\" x=\"14.5\" y=\"-6.8\">b</text>\n",
       "</g>\n",
       "<!-- a&#45;&gt;b -->\n",
       "<g class=\"edge\" id=\"edge1\"><title>a-&gt;b</title>\n",
       "<path d=\"M32.6223,-50.6084C29.9644,-44.9459 26.5906,-37.7582 23.4765,-31.1238\" fill=\"none\" stroke=\"#494744\"/>\n",
       "<polygon fill=\"#494744\" points=\"26.6308,-29.6067 19.2134,-22.0415 20.2942,-32.5811 26.6308,-29.6067\" stroke=\"#494744\"/>\n",
       "</g>\n",
       "<!-- c -->\n",
       "<g class=\"node\" id=\"node3\"><title>c</title>\n",
       "<polygon fill=\"white\" points=\"76,-22 47,-22 47,-0 76,-0 76,-22\" stroke=\"#494744\"/>\n",
       "<text fill=\"#494744\" font-family=\"Helvetica,sans-Serif\" font-size=\"14.00\" text-anchor=\"middle\" x=\"61.5\" y=\"-6.8\">c</text>\n",
       "</g>\n",
       "<!-- a&#45;&gt;c -->\n",
       "<g class=\"edge\" id=\"edge2\"><title>a-&gt;c</title>\n",
       "<path d=\"M42.5898,-50.6084C45.3632,-44.9459 48.8837,-37.7582 52.1332,-31.1238\" fill=\"none\" stroke=\"#494744\"/>\n",
       "<polygon fill=\"#494744\" points=\"55.3262,-32.5617 56.5817,-22.0415 49.0397,-29.4826 55.3262,-32.5617\" stroke=\"#494744\"/>\n",
       "</g>\n",
       "</g>\n",
       "</svg>"
      ],
      "text/plain": [
       "<IPython.core.display.SVG object>"
      ]
     },
     "metadata": {},
     "output_type": "display_data"
    }
   ],
   "source": [
    "updated = graphcat.UpdatedTasks(graph)\n",
    "graph.update(\"b\")\n",
    "print(updated.tasks)\n",
    "\n",
    "graphcat.notebook.display(graph)"
   ]
  }
 ],
 "metadata": {
  "kernelspec": {
   "display_name": "Python 3",
   "language": "python",
   "name": "python3"
  },
  "language_info": {
   "codemirror_mode": {
    "name": "ipython",
    "version": 3
   },
   "file_extension": ".py",
   "mimetype": "text/x-python",
   "name": "python",
   "nbconvert_exporter": "python",
   "pygments_lexer": "ipython3",
   "version": "3.7.7"
  }
 },
 "nbformat": 4,
 "nbformat_minor": 4
}
