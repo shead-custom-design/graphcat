{
 "cells": [
  {
   "cell_type": "code",
   "execution_count": 1,
   "metadata": {},
   "outputs": [],
   "source": [
    "import logging\n",
    "\n",
    "import graphcat.notebook\n",
    "\n",
    "logging.basicConfig(level=logging.INFO)"
   ]
  },
  {
   "cell_type": "code",
   "execution_count": 2,
   "metadata": {},
   "outputs": [
    {
     "name": "stderr",
     "output_type": "stream",
     "text": [
      "INFO:graphcat:Task c executing. Inputs: {}\n",
      "INFO:graphcat:Task c finished. Output: None\n"
     ]
    },
    {
     "data": {
      "image/svg+xml": [
       "<svg height=\"234pt\" viewBox=\"0.00 0.00 84.00 234.00\" width=\"84pt\" xmlns=\"http://www.w3.org/2000/svg\" xmlns:xlink=\"http://www.w3.org/1999/xlink\">\n",
       "<g class=\"graph\" id=\"graph0\" transform=\"scale(1 1) rotate(0) translate(4 230)\">\n",
       "<title>%3</title>\n",
       "<polygon fill=\"white\" points=\"-4,4 -4,-230 80,-230 80,4 -4,4\" stroke=\"none\"/>\n",
       "<!-- a -->\n",
       "<g class=\"node\" id=\"node1\"><title>a</title>\n",
       "<polygon fill=\"white\" points=\"29,-226 0,-226 0,-204 29,-204 29,-226\" stroke=\"#494744\"/>\n",
       "<text fill=\"#494744\" font-family=\"Helvetica,sans-Serif\" font-size=\"14.00\" text-anchor=\"middle\" x=\"14.5\" y=\"-210.8\">a</text>\n",
       "</g>\n",
       "<!-- b -->\n",
       "<g class=\"node\" id=\"node2\"><title>b</title>\n",
       "<polygon fill=\"white\" points=\"29,-175 0,-175 0,-153 29,-153 29,-175\" stroke=\"#494744\"/>\n",
       "<text fill=\"#494744\" font-family=\"Helvetica,sans-Serif\" font-size=\"14.00\" text-anchor=\"middle\" x=\"14.5\" y=\"-159.8\">b</text>\n",
       "</g>\n",
       "<!-- a&#45;&gt;b -->\n",
       "<g class=\"edge\" id=\"edge1\"><title>a-&gt;b</title>\n",
       "<path d=\"M14.5,-203.608C14.5,-198.209 14.5,-191.424 14.5,-185.053\" fill=\"none\" stroke=\"#494744\"/>\n",
       "<polygon fill=\"#494744\" points=\"18.0001,-185.041 14.5,-175.042 11.0001,-185.042 18.0001,-185.041\" stroke=\"#494744\"/>\n",
       "</g>\n",
       "<!-- d -->\n",
       "<g class=\"node\" id=\"node3\"><title>d</title>\n",
       "<polygon fill=\"white\" points=\"52,-124 23,-124 23,-102 52,-102 52,-124\" stroke=\"#494744\"/>\n",
       "<text fill=\"#494744\" font-family=\"Helvetica,sans-Serif\" font-size=\"14.00\" text-anchor=\"middle\" x=\"37.5\" y=\"-108.8\">d</text>\n",
       "</g>\n",
       "<!-- b&#45;&gt;d -->\n",
       "<g class=\"edge\" id=\"edge2\"><title>b-&gt;d</title>\n",
       "<path d=\"M19.3777,-152.608C22.0356,-146.946 25.4094,-139.758 28.5235,-133.124\" fill=\"none\" stroke=\"#494744\"/>\n",
       "<polygon fill=\"#494744\" points=\"31.7058,-134.581 32.7866,-124.042 25.3692,-131.607 31.7058,-134.581\" stroke=\"#494744\"/>\n",
       "</g>\n",
       "<!-- e -->\n",
       "<g class=\"node\" id=\"node5\"><title>e</title>\n",
       "<polygon fill=\"white\" points=\"29,-73 0,-73 0,-51 29,-51 29,-73\" stroke=\"#494744\"/>\n",
       "<text fill=\"#494744\" font-family=\"Helvetica,sans-Serif\" font-size=\"14.00\" text-anchor=\"middle\" x=\"14.5\" y=\"-57.8\">e</text>\n",
       "</g>\n",
       "<!-- d&#45;&gt;e -->\n",
       "<g class=\"edge\" id=\"edge4\"><title>d-&gt;e</title>\n",
       "<path d=\"M32.6223,-101.608C29.9644,-95.9459 26.5906,-88.7582 23.4765,-82.1238\" fill=\"none\" stroke=\"#494744\"/>\n",
       "<polygon fill=\"#494744\" points=\"26.6308,-80.6067 19.2134,-73.0415 20.2942,-83.5811 26.6308,-80.6067\" stroke=\"#494744\"/>\n",
       "</g>\n",
       "<!-- g -->\n",
       "<g class=\"node\" id=\"node6\"><title>g</title>\n",
       "<polygon fill=\"white\" points=\"76,-73 47,-73 47,-51 76,-51 76,-73\" stroke=\"#494744\"/>\n",
       "<text fill=\"#494744\" font-family=\"Helvetica,sans-Serif\" font-size=\"14.00\" text-anchor=\"middle\" x=\"61.5\" y=\"-57.8\">g</text>\n",
       "</g>\n",
       "<!-- d&#45;&gt;g -->\n",
       "<g class=\"edge\" id=\"edge5\"><title>d-&gt;g</title>\n",
       "<path d=\"M42.5898,-101.608C45.3632,-95.9459 48.8837,-88.7582 52.1332,-82.1238\" fill=\"none\" stroke=\"#494744\"/>\n",
       "<polygon fill=\"#494744\" points=\"55.3262,-83.5617 56.5817,-73.0415 49.0397,-80.4826 55.3262,-83.5617\" stroke=\"#494744\"/>\n",
       "</g>\n",
       "<!-- c -->\n",
       "<g class=\"node\" id=\"node4\"><title>c</title>\n",
       "<polygon fill=\"#494744\" points=\"76,-175 47,-175 47,-153 76,-153 76,-175\" stroke=\"#494744\"/>\n",
       "<text fill=\"white\" font-family=\"Helvetica,sans-Serif\" font-size=\"14.00\" text-anchor=\"middle\" x=\"61.5\" y=\"-159.8\">c</text>\n",
       "</g>\n",
       "<!-- c&#45;&gt;d -->\n",
       "<g class=\"edge\" id=\"edge3\"><title>c-&gt;d</title>\n",
       "<path d=\"M56.4102,-152.608C53.6368,-146.946 50.1163,-139.758 46.8668,-133.124\" fill=\"none\" stroke=\"#494744\"/>\n",
       "<polygon fill=\"#494744\" points=\"49.9603,-131.483 42.4183,-124.042 43.6738,-134.562 49.9603,-131.483\" stroke=\"#494744\"/>\n",
       "</g>\n",
       "<!-- f -->\n",
       "<g class=\"node\" id=\"node7\"><title>f</title>\n",
       "<polygon fill=\"white\" points=\"29,-22 0,-22 0,-0 29,-0 29,-22\" stroke=\"#494744\"/>\n",
       "<text fill=\"#494744\" font-family=\"Helvetica,sans-Serif\" font-size=\"14.00\" text-anchor=\"middle\" x=\"14.5\" y=\"-6.8\">f</text>\n",
       "</g>\n",
       "<!-- e&#45;&gt;f -->\n",
       "<g class=\"edge\" id=\"edge6\"><title>e-&gt;f</title>\n",
       "<path d=\"M14.5,-50.6084C14.5,-45.2093 14.5,-38.4236 14.5,-32.0529\" fill=\"none\" stroke=\"#494744\"/>\n",
       "<polygon fill=\"#494744\" points=\"18.0001,-32.0415 14.5,-22.0415 11.0001,-32.0416 18.0001,-32.0415\" stroke=\"#494744\"/>\n",
       "</g>\n",
       "</g>\n",
       "</svg>"
      ],
      "text/plain": [
       "<IPython.core.display.SVG object>"
      ]
     },
     "metadata": {},
     "output_type": "display_data"
    }
   ],
   "source": [
    "graph = graphcat.Graph()\n",
    "logger = graphcat.Logger(graph)\n",
    "\n",
    "graph.add_task(\"a\")\n",
    "graph.add_task(\"b\", graphcat.raise_exception(RuntimeError(\"whoops!\")))\n",
    "graph.add_task(\"c\")\n",
    "graph.add_task(\"d\")\n",
    "graph.add_task(\"e\")\n",
    "graph.add_task(\"f\")\n",
    "graph.add_task(\"g\")\n",
    "\n",
    "graph.set_links(\"a\", \"b\")\n",
    "graph.set_links(\"b\", \"d\")\n",
    "graph.set_links(\"c\", \"d\")\n",
    "graph.set_links(\"d\", [\"e\", \"g\"])\n",
    "graph.set_links(\"e\", \"f\")\n",
    "\n",
    "graph.update(\"c\")\n",
    "\n",
    "graphcat.notebook.display(graph)"
   ]
  },
  {
   "cell_type": "code",
   "execution_count": 3,
   "metadata": {},
   "outputs": [
    {
     "name": "stderr",
     "output_type": "stream",
     "text": [
      "INFO:graphcat:Task a executing. Inputs: {}\n",
      "INFO:graphcat:Task a finished. Output: None\n",
      "INFO:graphcat:Task b executing. Inputs: {None: [None]}\n",
      "ERROR:graphcat:Task b failed. Exception: whoops!\n"
     ]
    },
    {
     "name": "stdout",
     "output_type": "stream",
     "text": [
      "RuntimeError('whoops!')\n"
     ]
    },
    {
     "data": {
      "image/svg+xml": [
       "<svg height=\"234pt\" viewBox=\"0.00 0.00 84.00 234.00\" width=\"84pt\" xmlns=\"http://www.w3.org/2000/svg\" xmlns:xlink=\"http://www.w3.org/1999/xlink\">\n",
       "<g class=\"graph\" id=\"graph0\" transform=\"scale(1 1) rotate(0) translate(4 230)\">\n",
       "<title>%3</title>\n",
       "<polygon fill=\"white\" points=\"-4,4 -4,-230 80,-230 80,4 -4,4\" stroke=\"none\"/>\n",
       "<!-- a -->\n",
       "<g class=\"node\" id=\"node1\"><title>a</title>\n",
       "<polygon fill=\"#494744\" points=\"29,-226 0,-226 0,-204 29,-204 29,-226\" stroke=\"#494744\"/>\n",
       "<text fill=\"white\" font-family=\"Helvetica,sans-Serif\" font-size=\"14.00\" text-anchor=\"middle\" x=\"14.5\" y=\"-210.8\">a</text>\n",
       "</g>\n",
       "<!-- b -->\n",
       "<g class=\"node\" id=\"node2\"><title>b</title>\n",
       "<polygon fill=\"crimson\" points=\"29,-175 0,-175 0,-153 29,-153 29,-175\" stroke=\"crimson\"/>\n",
       "<text fill=\"white\" font-family=\"Helvetica,sans-Serif\" font-size=\"14.00\" text-anchor=\"middle\" x=\"14.5\" y=\"-159.8\">b</text>\n",
       "</g>\n",
       "<!-- a&#45;&gt;b -->\n",
       "<g class=\"edge\" id=\"edge1\"><title>a-&gt;b</title>\n",
       "<path d=\"M14.5,-203.608C14.5,-198.209 14.5,-191.424 14.5,-185.053\" fill=\"none\" stroke=\"#494744\"/>\n",
       "<polygon fill=\"#494744\" points=\"18.0001,-185.041 14.5,-175.042 11.0001,-185.042 18.0001,-185.041\" stroke=\"#494744\"/>\n",
       "</g>\n",
       "<!-- d -->\n",
       "<g class=\"node\" id=\"node3\"><title>d</title>\n",
       "<polygon fill=\"crimson\" points=\"52,-124 23,-124 23,-102 52,-102 52,-124\" stroke=\"crimson\"/>\n",
       "<text fill=\"white\" font-family=\"Helvetica,sans-Serif\" font-size=\"14.00\" text-anchor=\"middle\" x=\"37.5\" y=\"-108.8\">d</text>\n",
       "</g>\n",
       "<!-- b&#45;&gt;d -->\n",
       "<g class=\"edge\" id=\"edge2\"><title>b-&gt;d</title>\n",
       "<path d=\"M19.3777,-152.608C22.0356,-146.946 25.4094,-139.758 28.5235,-133.124\" fill=\"none\" stroke=\"#494744\"/>\n",
       "<polygon fill=\"#494744\" points=\"31.7058,-134.581 32.7866,-124.042 25.3692,-131.607 31.7058,-134.581\" stroke=\"#494744\"/>\n",
       "</g>\n",
       "<!-- e -->\n",
       "<g class=\"node\" id=\"node5\"><title>e</title>\n",
       "<polygon fill=\"crimson\" points=\"29,-73 0,-73 0,-51 29,-51 29,-73\" stroke=\"crimson\"/>\n",
       "<text fill=\"white\" font-family=\"Helvetica,sans-Serif\" font-size=\"14.00\" text-anchor=\"middle\" x=\"14.5\" y=\"-57.8\">e</text>\n",
       "</g>\n",
       "<!-- d&#45;&gt;e -->\n",
       "<g class=\"edge\" id=\"edge4\"><title>d-&gt;e</title>\n",
       "<path d=\"M32.6223,-101.608C29.9644,-95.9459 26.5906,-88.7582 23.4765,-82.1238\" fill=\"none\" stroke=\"#494744\"/>\n",
       "<polygon fill=\"#494744\" points=\"26.6308,-80.6067 19.2134,-73.0415 20.2942,-83.5811 26.6308,-80.6067\" stroke=\"#494744\"/>\n",
       "</g>\n",
       "<!-- g -->\n",
       "<g class=\"node\" id=\"node6\"><title>g</title>\n",
       "<polygon fill=\"crimson\" points=\"76,-73 47,-73 47,-51 76,-51 76,-73\" stroke=\"crimson\"/>\n",
       "<text fill=\"white\" font-family=\"Helvetica,sans-Serif\" font-size=\"14.00\" text-anchor=\"middle\" x=\"61.5\" y=\"-57.8\">g</text>\n",
       "</g>\n",
       "<!-- d&#45;&gt;g -->\n",
       "<g class=\"edge\" id=\"edge5\"><title>d-&gt;g</title>\n",
       "<path d=\"M42.5898,-101.608C45.3632,-95.9459 48.8837,-88.7582 52.1332,-82.1238\" fill=\"none\" stroke=\"#494744\"/>\n",
       "<polygon fill=\"#494744\" points=\"55.3262,-83.5617 56.5817,-73.0415 49.0397,-80.4826 55.3262,-83.5617\" stroke=\"#494744\"/>\n",
       "</g>\n",
       "<!-- c -->\n",
       "<g class=\"node\" id=\"node4\"><title>c</title>\n",
       "<polygon fill=\"#494744\" points=\"76,-175 47,-175 47,-153 76,-153 76,-175\" stroke=\"#494744\"/>\n",
       "<text fill=\"white\" font-family=\"Helvetica,sans-Serif\" font-size=\"14.00\" text-anchor=\"middle\" x=\"61.5\" y=\"-159.8\">c</text>\n",
       "</g>\n",
       "<!-- c&#45;&gt;d -->\n",
       "<g class=\"edge\" id=\"edge3\"><title>c-&gt;d</title>\n",
       "<path d=\"M56.4102,-152.608C53.6368,-146.946 50.1163,-139.758 46.8668,-133.124\" fill=\"none\" stroke=\"#494744\"/>\n",
       "<polygon fill=\"#494744\" points=\"49.9603,-131.483 42.4183,-124.042 43.6738,-134.562 49.9603,-131.483\" stroke=\"#494744\"/>\n",
       "</g>\n",
       "<!-- f -->\n",
       "<g class=\"node\" id=\"node7\"><title>f</title>\n",
       "<polygon fill=\"crimson\" points=\"29,-22 0,-22 0,-0 29,-0 29,-22\" stroke=\"crimson\"/>\n",
       "<text fill=\"white\" font-family=\"Helvetica,sans-Serif\" font-size=\"14.00\" text-anchor=\"middle\" x=\"14.5\" y=\"-6.8\">f</text>\n",
       "</g>\n",
       "<!-- e&#45;&gt;f -->\n",
       "<g class=\"edge\" id=\"edge6\"><title>e-&gt;f</title>\n",
       "<path d=\"M14.5,-50.6084C14.5,-45.2093 14.5,-38.4236 14.5,-32.0529\" fill=\"none\" stroke=\"#494744\"/>\n",
       "<polygon fill=\"#494744\" points=\"18.0001,-32.0415 14.5,-22.0415 11.0001,-32.0416 18.0001,-32.0415\" stroke=\"#494744\"/>\n",
       "</g>\n",
       "</g>\n",
       "</svg>"
      ],
      "text/plain": [
       "<IPython.core.display.SVG object>"
      ]
     },
     "metadata": {},
     "output_type": "display_data"
    }
   ],
   "source": [
    "try:\n",
    "    graph.update(\"f\")\n",
    "except Exception as e:\n",
    "    print(f\"{e!r}\")\n",
    "graphcat.notebook.display(graph)"
   ]
  },
  {
   "cell_type": "code",
   "execution_count": 4,
   "metadata": {},
   "outputs": [
    {
     "name": "stderr",
     "output_type": "stream",
     "text": [
      "INFO:graphcat:Task b executing. Inputs: {None: [None]}\n",
      "ERROR:graphcat:Task b failed. Exception: whoops!\n"
     ]
    },
    {
     "name": "stdout",
     "output_type": "stream",
     "text": [
      "RuntimeError('whoops!')\n"
     ]
    },
    {
     "data": {
      "image/svg+xml": [
       "<svg height=\"234pt\" viewBox=\"0.00 0.00 84.00 234.00\" width=\"84pt\" xmlns=\"http://www.w3.org/2000/svg\" xmlns:xlink=\"http://www.w3.org/1999/xlink\">\n",
       "<g class=\"graph\" id=\"graph0\" transform=\"scale(1 1) rotate(0) translate(4 230)\">\n",
       "<title>%3</title>\n",
       "<polygon fill=\"white\" points=\"-4,4 -4,-230 80,-230 80,4 -4,4\" stroke=\"none\"/>\n",
       "<!-- a -->\n",
       "<g class=\"node\" id=\"node1\"><title>a</title>\n",
       "<polygon fill=\"#494744\" points=\"29,-226 0,-226 0,-204 29,-204 29,-226\" stroke=\"#494744\"/>\n",
       "<text fill=\"white\" font-family=\"Helvetica,sans-Serif\" font-size=\"14.00\" text-anchor=\"middle\" x=\"14.5\" y=\"-210.8\">a</text>\n",
       "</g>\n",
       "<!-- b -->\n",
       "<g class=\"node\" id=\"node2\"><title>b</title>\n",
       "<polygon fill=\"crimson\" points=\"29,-175 0,-175 0,-153 29,-153 29,-175\" stroke=\"crimson\"/>\n",
       "<text fill=\"white\" font-family=\"Helvetica,sans-Serif\" font-size=\"14.00\" text-anchor=\"middle\" x=\"14.5\" y=\"-159.8\">b</text>\n",
       "</g>\n",
       "<!-- a&#45;&gt;b -->\n",
       "<g class=\"edge\" id=\"edge1\"><title>a-&gt;b</title>\n",
       "<path d=\"M14.5,-203.608C14.5,-198.209 14.5,-191.424 14.5,-185.053\" fill=\"none\" stroke=\"#494744\"/>\n",
       "<polygon fill=\"#494744\" points=\"18.0001,-185.041 14.5,-175.042 11.0001,-185.042 18.0001,-185.041\" stroke=\"#494744\"/>\n",
       "</g>\n",
       "<!-- d -->\n",
       "<g class=\"node\" id=\"node3\"><title>d</title>\n",
       "<polygon fill=\"crimson\" points=\"52,-124 23,-124 23,-102 52,-102 52,-124\" stroke=\"crimson\"/>\n",
       "<text fill=\"white\" font-family=\"Helvetica,sans-Serif\" font-size=\"14.00\" text-anchor=\"middle\" x=\"37.5\" y=\"-108.8\">d</text>\n",
       "</g>\n",
       "<!-- b&#45;&gt;d -->\n",
       "<g class=\"edge\" id=\"edge2\"><title>b-&gt;d</title>\n",
       "<path d=\"M19.3777,-152.608C22.0356,-146.946 25.4094,-139.758 28.5235,-133.124\" fill=\"none\" stroke=\"#494744\"/>\n",
       "<polygon fill=\"#494744\" points=\"31.7058,-134.581 32.7866,-124.042 25.3692,-131.607 31.7058,-134.581\" stroke=\"#494744\"/>\n",
       "</g>\n",
       "<!-- e -->\n",
       "<g class=\"node\" id=\"node5\"><title>e</title>\n",
       "<polygon fill=\"crimson\" points=\"29,-73 0,-73 0,-51 29,-51 29,-73\" stroke=\"crimson\"/>\n",
       "<text fill=\"white\" font-family=\"Helvetica,sans-Serif\" font-size=\"14.00\" text-anchor=\"middle\" x=\"14.5\" y=\"-57.8\">e</text>\n",
       "</g>\n",
       "<!-- d&#45;&gt;e -->\n",
       "<g class=\"edge\" id=\"edge4\"><title>d-&gt;e</title>\n",
       "<path d=\"M32.6223,-101.608C29.9644,-95.9459 26.5906,-88.7582 23.4765,-82.1238\" fill=\"none\" stroke=\"#494744\"/>\n",
       "<polygon fill=\"#494744\" points=\"26.6308,-80.6067 19.2134,-73.0415 20.2942,-83.5811 26.6308,-80.6067\" stroke=\"#494744\"/>\n",
       "</g>\n",
       "<!-- g -->\n",
       "<g class=\"node\" id=\"node6\"><title>g</title>\n",
       "<polygon fill=\"crimson\" points=\"76,-73 47,-73 47,-51 76,-51 76,-73\" stroke=\"crimson\"/>\n",
       "<text fill=\"white\" font-family=\"Helvetica,sans-Serif\" font-size=\"14.00\" text-anchor=\"middle\" x=\"61.5\" y=\"-57.8\">g</text>\n",
       "</g>\n",
       "<!-- d&#45;&gt;g -->\n",
       "<g class=\"edge\" id=\"edge5\"><title>d-&gt;g</title>\n",
       "<path d=\"M42.5898,-101.608C45.3632,-95.9459 48.8837,-88.7582 52.1332,-82.1238\" fill=\"none\" stroke=\"#494744\"/>\n",
       "<polygon fill=\"#494744\" points=\"55.3262,-83.5617 56.5817,-73.0415 49.0397,-80.4826 55.3262,-83.5617\" stroke=\"#494744\"/>\n",
       "</g>\n",
       "<!-- c -->\n",
       "<g class=\"node\" id=\"node4\"><title>c</title>\n",
       "<polygon fill=\"#494744\" points=\"76,-175 47,-175 47,-153 76,-153 76,-175\" stroke=\"#494744\"/>\n",
       "<text fill=\"white\" font-family=\"Helvetica,sans-Serif\" font-size=\"14.00\" text-anchor=\"middle\" x=\"61.5\" y=\"-159.8\">c</text>\n",
       "</g>\n",
       "<!-- c&#45;&gt;d -->\n",
       "<g class=\"edge\" id=\"edge3\"><title>c-&gt;d</title>\n",
       "<path d=\"M56.4102,-152.608C53.6368,-146.946 50.1163,-139.758 46.8668,-133.124\" fill=\"none\" stroke=\"#494744\"/>\n",
       "<polygon fill=\"#494744\" points=\"49.9603,-131.483 42.4183,-124.042 43.6738,-134.562 49.9603,-131.483\" stroke=\"#494744\"/>\n",
       "</g>\n",
       "<!-- f -->\n",
       "<g class=\"node\" id=\"node7\"><title>f</title>\n",
       "<polygon fill=\"crimson\" points=\"29,-22 0,-22 0,-0 29,-0 29,-22\" stroke=\"crimson\"/>\n",
       "<text fill=\"white\" font-family=\"Helvetica,sans-Serif\" font-size=\"14.00\" text-anchor=\"middle\" x=\"14.5\" y=\"-6.8\">f</text>\n",
       "</g>\n",
       "<!-- e&#45;&gt;f -->\n",
       "<g class=\"edge\" id=\"edge6\"><title>e-&gt;f</title>\n",
       "<path d=\"M14.5,-50.6084C14.5,-45.2093 14.5,-38.4236 14.5,-32.0529\" fill=\"none\" stroke=\"#494744\"/>\n",
       "<polygon fill=\"#494744\" points=\"18.0001,-32.0415 14.5,-22.0415 11.0001,-32.0416 18.0001,-32.0415\" stroke=\"#494744\"/>\n",
       "</g>\n",
       "</g>\n",
       "</svg>"
      ],
      "text/plain": [
       "<IPython.core.display.SVG object>"
      ]
     },
     "metadata": {},
     "output_type": "display_data"
    }
   ],
   "source": [
    "try:\n",
    "    graph.output(\"g\")\n",
    "except Exception as e:\n",
    "    print(f\"{e!r}\")\n",
    "graphcat.notebook.display(graph)"
   ]
  },
  {
   "cell_type": "code",
   "execution_count": 5,
   "metadata": {},
   "outputs": [
    {
     "name": "stderr",
     "output_type": "stream",
     "text": [
      "INFO:graphcat:Task b executing. Inputs: {None: [None]}\n",
      "INFO:graphcat:Task b finished. Output: None\n",
      "INFO:graphcat:Task d executing. Inputs: {None: [None, None]}\n",
      "INFO:graphcat:Task d finished. Output: None\n",
      "INFO:graphcat:Task g executing. Inputs: {None: [None]}\n",
      "INFO:graphcat:Task g finished. Output: None\n"
     ]
    },
    {
     "data": {
      "image/svg+xml": [
       "<svg height=\"234pt\" viewBox=\"0.00 0.00 84.00 234.00\" width=\"84pt\" xmlns=\"http://www.w3.org/2000/svg\" xmlns:xlink=\"http://www.w3.org/1999/xlink\">\n",
       "<g class=\"graph\" id=\"graph0\" transform=\"scale(1 1) rotate(0) translate(4 230)\">\n",
       "<title>%3</title>\n",
       "<polygon fill=\"white\" points=\"-4,4 -4,-230 80,-230 80,4 -4,4\" stroke=\"none\"/>\n",
       "<!-- a -->\n",
       "<g class=\"node\" id=\"node1\"><title>a</title>\n",
       "<polygon fill=\"#494744\" points=\"29,-226 0,-226 0,-204 29,-204 29,-226\" stroke=\"#494744\"/>\n",
       "<text fill=\"white\" font-family=\"Helvetica,sans-Serif\" font-size=\"14.00\" text-anchor=\"middle\" x=\"14.5\" y=\"-210.8\">a</text>\n",
       "</g>\n",
       "<!-- b -->\n",
       "<g class=\"node\" id=\"node2\"><title>b</title>\n",
       "<polygon fill=\"#494744\" points=\"29,-175 0,-175 0,-153 29,-153 29,-175\" stroke=\"#494744\"/>\n",
       "<text fill=\"white\" font-family=\"Helvetica,sans-Serif\" font-size=\"14.00\" text-anchor=\"middle\" x=\"14.5\" y=\"-159.8\">b</text>\n",
       "</g>\n",
       "<!-- a&#45;&gt;b -->\n",
       "<g class=\"edge\" id=\"edge1\"><title>a-&gt;b</title>\n",
       "<path d=\"M14.5,-203.608C14.5,-198.209 14.5,-191.424 14.5,-185.053\" fill=\"none\" stroke=\"#494744\"/>\n",
       "<polygon fill=\"#494744\" points=\"18.0001,-185.041 14.5,-175.042 11.0001,-185.042 18.0001,-185.041\" stroke=\"#494744\"/>\n",
       "</g>\n",
       "<!-- d -->\n",
       "<g class=\"node\" id=\"node3\"><title>d</title>\n",
       "<polygon fill=\"#494744\" points=\"52,-124 23,-124 23,-102 52,-102 52,-124\" stroke=\"#494744\"/>\n",
       "<text fill=\"white\" font-family=\"Helvetica,sans-Serif\" font-size=\"14.00\" text-anchor=\"middle\" x=\"37.5\" y=\"-108.8\">d</text>\n",
       "</g>\n",
       "<!-- b&#45;&gt;d -->\n",
       "<g class=\"edge\" id=\"edge2\"><title>b-&gt;d</title>\n",
       "<path d=\"M19.3777,-152.608C22.0356,-146.946 25.4094,-139.758 28.5235,-133.124\" fill=\"none\" stroke=\"#494744\"/>\n",
       "<polygon fill=\"#494744\" points=\"31.7058,-134.581 32.7866,-124.042 25.3692,-131.607 31.7058,-134.581\" stroke=\"#494744\"/>\n",
       "</g>\n",
       "<!-- e -->\n",
       "<g class=\"node\" id=\"node5\"><title>e</title>\n",
       "<polygon fill=\"white\" points=\"29,-73 0,-73 0,-51 29,-51 29,-73\" stroke=\"#494744\"/>\n",
       "<text fill=\"#494744\" font-family=\"Helvetica,sans-Serif\" font-size=\"14.00\" text-anchor=\"middle\" x=\"14.5\" y=\"-57.8\">e</text>\n",
       "</g>\n",
       "<!-- d&#45;&gt;e -->\n",
       "<g class=\"edge\" id=\"edge4\"><title>d-&gt;e</title>\n",
       "<path d=\"M32.6223,-101.608C29.9644,-95.9459 26.5906,-88.7582 23.4765,-82.1238\" fill=\"none\" stroke=\"#494744\"/>\n",
       "<polygon fill=\"#494744\" points=\"26.6308,-80.6067 19.2134,-73.0415 20.2942,-83.5811 26.6308,-80.6067\" stroke=\"#494744\"/>\n",
       "</g>\n",
       "<!-- g -->\n",
       "<g class=\"node\" id=\"node6\"><title>g</title>\n",
       "<polygon fill=\"#494744\" points=\"76,-73 47,-73 47,-51 76,-51 76,-73\" stroke=\"#494744\"/>\n",
       "<text fill=\"white\" font-family=\"Helvetica,sans-Serif\" font-size=\"14.00\" text-anchor=\"middle\" x=\"61.5\" y=\"-57.8\">g</text>\n",
       "</g>\n",
       "<!-- d&#45;&gt;g -->\n",
       "<g class=\"edge\" id=\"edge5\"><title>d-&gt;g</title>\n",
       "<path d=\"M42.5898,-101.608C45.3632,-95.9459 48.8837,-88.7582 52.1332,-82.1238\" fill=\"none\" stroke=\"#494744\"/>\n",
       "<polygon fill=\"#494744\" points=\"55.3262,-83.5617 56.5817,-73.0415 49.0397,-80.4826 55.3262,-83.5617\" stroke=\"#494744\"/>\n",
       "</g>\n",
       "<!-- c -->\n",
       "<g class=\"node\" id=\"node4\"><title>c</title>\n",
       "<polygon fill=\"#494744\" points=\"76,-175 47,-175 47,-153 76,-153 76,-175\" stroke=\"#494744\"/>\n",
       "<text fill=\"white\" font-family=\"Helvetica,sans-Serif\" font-size=\"14.00\" text-anchor=\"middle\" x=\"61.5\" y=\"-159.8\">c</text>\n",
       "</g>\n",
       "<!-- c&#45;&gt;d -->\n",
       "<g class=\"edge\" id=\"edge3\"><title>c-&gt;d</title>\n",
       "<path d=\"M56.4102,-152.608C53.6368,-146.946 50.1163,-139.758 46.8668,-133.124\" fill=\"none\" stroke=\"#494744\"/>\n",
       "<polygon fill=\"#494744\" points=\"49.9603,-131.483 42.4183,-124.042 43.6738,-134.562 49.9603,-131.483\" stroke=\"#494744\"/>\n",
       "</g>\n",
       "<!-- f -->\n",
       "<g class=\"node\" id=\"node7\"><title>f</title>\n",
       "<polygon fill=\"white\" points=\"29,-22 0,-22 0,-0 29,-0 29,-22\" stroke=\"#494744\"/>\n",
       "<text fill=\"#494744\" font-family=\"Helvetica,sans-Serif\" font-size=\"14.00\" text-anchor=\"middle\" x=\"14.5\" y=\"-6.8\">f</text>\n",
       "</g>\n",
       "<!-- e&#45;&gt;f -->\n",
       "<g class=\"edge\" id=\"edge6\"><title>e-&gt;f</title>\n",
       "<path d=\"M14.5,-50.6084C14.5,-45.2093 14.5,-38.4236 14.5,-32.0529\" fill=\"none\" stroke=\"#494744\"/>\n",
       "<polygon fill=\"#494744\" points=\"18.0001,-32.0415 14.5,-22.0415 11.0001,-32.0416 18.0001,-32.0415\" stroke=\"#494744\"/>\n",
       "</g>\n",
       "</g>\n",
       "</svg>"
      ],
      "text/plain": [
       "<IPython.core.display.SVG object>"
      ]
     },
     "metadata": {},
     "output_type": "display_data"
    }
   ],
   "source": [
    "graph.set_task(\"b\", graphcat.null)\n",
    "graph.update(\"g\")\n",
    "graphcat.notebook.display(graph)"
   ]
  }
 ],
 "metadata": {
  "kernelspec": {
   "display_name": "Python 3",
   "language": "python",
   "name": "python3"
  },
  "language_info": {
   "codemirror_mode": {
    "name": "ipython",
    "version": 3
   },
   "file_extension": ".py",
   "mimetype": "text/x-python",
   "name": "python",
   "nbconvert_exporter": "python",
   "pygments_lexer": "ipython3",
   "version": "3.7.7"
  }
 },
 "nbformat": 4,
 "nbformat_minor": 4
}
