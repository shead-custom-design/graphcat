{
 "cells": [
  {
   "cell_type": "code",
   "execution_count": 1,
   "metadata": {},
   "outputs": [],
   "source": [
    "import logging\n",
    "\n",
    "import graphcat.notebook\n",
    "\n",
    "logging.basicConfig(level=logging.INFO)"
   ]
  },
  {
   "cell_type": "code",
   "execution_count": 2,
   "metadata": {},
   "outputs": [
    {
     "name": "stderr",
     "output_type": "stream",
     "text": [
      "INFO:graphcat:Task c executing. Inputs: {}\n",
      "INFO:graphcat:Task c finished. Output: None\n"
     ]
    },
    {
     "data": {
      "image/svg+xml": [
       "<svg height=\"54pt\" viewBox=\"0.00 0.00 269.00 54.00\" width=\"269pt\" xmlns=\"http://www.w3.org/2000/svg\" xmlns:xlink=\"http://www.w3.org/1999/xlink\">\n",
       "<g class=\"graph\" id=\"graph0\" transform=\"scale(1 1) rotate(0) translate(4 50)\">\n",
       "<title>%3</title>\n",
       "<polygon fill=\"white\" points=\"-4,4 -4,-50 265,-50 265,4 -4,4\" stroke=\"none\"/>\n",
       "<!-- a -->\n",
       "<g class=\"node\" id=\"node1\"><title>a</title>\n",
       "<polygon fill=\"white\" points=\"29,-46 0,-46 0,-32 29,-32 29,-46\" stroke=\"#494744\"/>\n",
       "<text fill=\"#494744\" font-family=\"Helvetica,sans-Serif\" font-size=\"8.00\" text-anchor=\"middle\" x=\"14.5\" y=\"-36.6\">a</text>\n",
       "</g>\n",
       "<!-- b -->\n",
       "<g class=\"node\" id=\"node2\"><title>b</title>\n",
       "<polygon fill=\"white\" points=\"87,-46 58,-46 58,-32 87,-32 87,-46\" stroke=\"#494744\"/>\n",
       "<text fill=\"#494744\" font-family=\"Helvetica,sans-Serif\" font-size=\"8.00\" text-anchor=\"middle\" x=\"72.5\" y=\"-36.6\">b</text>\n",
       "</g>\n",
       "<!-- a&#45;&gt;b -->\n",
       "<g class=\"edge\" id=\"edge1\"><title>a-&gt;b</title>\n",
       "<path d=\"M29.056,-39C34.6135,-39 41.2165,-39 47.5388,-39\" fill=\"none\" stroke=\"#494744\"/>\n",
       "<polygon fill=\"#494744\" points=\"47.6798,-42.5001 57.6798,-39 47.6797,-35.5001 47.6798,-42.5001\" stroke=\"#494744\"/>\n",
       "</g>\n",
       "<!-- d -->\n",
       "<g class=\"node\" id=\"node3\"><title>d</title>\n",
       "<polygon fill=\"white\" points=\"145,-30 116,-30 116,-16 145,-16 145,-30\" stroke=\"#494744\"/>\n",
       "<text fill=\"#494744\" font-family=\"Helvetica,sans-Serif\" font-size=\"8.00\" text-anchor=\"middle\" x=\"130.5\" y=\"-20.6\">d</text>\n",
       "</g>\n",
       "<!-- b&#45;&gt;d -->\n",
       "<g class=\"edge\" id=\"edge2\"><title>b-&gt;d</title>\n",
       "<path d=\"M87.056,-35.1268C92.7491,-33.5003 99.5392,-31.5602 106.001,-29.714\" fill=\"none\" stroke=\"#494744\"/>\n",
       "<polygon fill=\"#494744\" points=\"107.026,-33.0613 115.68,-26.9486 105.103,-26.3306 107.026,-33.0613\" stroke=\"#494744\"/>\n",
       "</g>\n",
       "<!-- e -->\n",
       "<g class=\"node\" id=\"node5\"><title>e</title>\n",
       "<polygon fill=\"white\" points=\"203,-46 174,-46 174,-32 203,-32 203,-46\" stroke=\"#494744\"/>\n",
       "<text fill=\"#494744\" font-family=\"Helvetica,sans-Serif\" font-size=\"8.00\" text-anchor=\"middle\" x=\"188.5\" y=\"-36.6\">e</text>\n",
       "</g>\n",
       "<!-- d&#45;&gt;e -->\n",
       "<g class=\"edge\" id=\"edge4\"><title>d-&gt;e</title>\n",
       "<path d=\"M145.056,-26.8732C150.749,-28.4997 157.539,-30.4398 164.001,-32.286\" fill=\"none\" stroke=\"#494744\"/>\n",
       "<polygon fill=\"#494744\" points=\"163.103,-35.6694 173.68,-35.0514 165.026,-28.9387 163.103,-35.6694\" stroke=\"#494744\"/>\n",
       "</g>\n",
       "<!-- g -->\n",
       "<g class=\"node\" id=\"node6\"><title>g</title>\n",
       "<polygon fill=\"white\" points=\"203,-14 174,-14 174,-0 203,-0 203,-14\" stroke=\"#494744\"/>\n",
       "<text fill=\"#494744\" font-family=\"Helvetica,sans-Serif\" font-size=\"8.00\" text-anchor=\"middle\" x=\"188.5\" y=\"-4.6\">g</text>\n",
       "</g>\n",
       "<!-- d&#45;&gt;g -->\n",
       "<g class=\"edge\" id=\"edge5\"><title>d-&gt;g</title>\n",
       "<path d=\"M145.056,-19.1268C150.749,-17.5003 157.539,-15.5602 164.001,-13.714\" fill=\"none\" stroke=\"#494744\"/>\n",
       "<polygon fill=\"#494744\" points=\"165.026,-17.0613 173.68,-10.9486 163.103,-10.3306 165.026,-17.0613\" stroke=\"#494744\"/>\n",
       "</g>\n",
       "<!-- c -->\n",
       "<g class=\"node\" id=\"node4\"><title>c</title>\n",
       "<polygon fill=\"#494744\" points=\"87,-14 58,-14 58,-0 87,-0 87,-14\" stroke=\"#494744\"/>\n",
       "<text fill=\"white\" font-family=\"Helvetica,sans-Serif\" font-size=\"8.00\" text-anchor=\"middle\" x=\"72.5\" y=\"-4.6\">c</text>\n",
       "</g>\n",
       "<!-- c&#45;&gt;d -->\n",
       "<g class=\"edge\" id=\"edge3\"><title>c-&gt;d</title>\n",
       "<path d=\"M87.056,-10.8732C92.7491,-12.4997 99.5392,-14.4398 106.001,-16.286\" fill=\"none\" stroke=\"#494744\"/>\n",
       "<polygon fill=\"#494744\" points=\"105.103,-19.6694 115.68,-19.0514 107.026,-12.9387 105.103,-19.6694\" stroke=\"#494744\"/>\n",
       "</g>\n",
       "<!-- f -->\n",
       "<g class=\"node\" id=\"node7\"><title>f</title>\n",
       "<polygon fill=\"white\" points=\"261,-46 232,-46 232,-32 261,-32 261,-46\" stroke=\"#494744\"/>\n",
       "<text fill=\"#494744\" font-family=\"Helvetica,sans-Serif\" font-size=\"8.00\" text-anchor=\"middle\" x=\"246.5\" y=\"-36.6\">f</text>\n",
       "</g>\n",
       "<!-- e&#45;&gt;f -->\n",
       "<g class=\"edge\" id=\"edge6\"><title>e-&gt;f</title>\n",
       "<path d=\"M203.056,-39C208.614,-39 215.216,-39 221.539,-39\" fill=\"none\" stroke=\"#494744\"/>\n",
       "<polygon fill=\"#494744\" points=\"221.68,-42.5001 231.68,-39 221.68,-35.5001 221.68,-42.5001\" stroke=\"#494744\"/>\n",
       "</g>\n",
       "</g>\n",
       "</svg>"
      ],
      "text/plain": [
       "<IPython.core.display.SVG object>"
      ]
     },
     "metadata": {},
     "output_type": "display_data"
    }
   ],
   "source": [
    "graph = graphcat.StaticGraph()\n",
    "logger = graphcat.Logger(graph)\n",
    "\n",
    "graph.add_task(\"a\")\n",
    "graph.add_task(\"b\", graphcat.raise_exception(RuntimeError(\"whoops!\")))\n",
    "graph.add_task(\"c\")\n",
    "graph.add_task(\"d\")\n",
    "graph.add_task(\"e\")\n",
    "graph.add_task(\"f\")\n",
    "graph.add_task(\"g\")\n",
    "\n",
    "graph.set_links(\"a\", \"b\")\n",
    "graph.set_links(\"b\", \"d\")\n",
    "graph.set_links(\"c\", \"d\")\n",
    "graph.set_links(\"d\", [\"e\", \"g\"])\n",
    "graph.set_links(\"e\", \"f\")\n",
    "\n",
    "graph.update(\"c\")\n",
    "\n",
    "graphcat.notebook.display(graph)"
   ]
  },
  {
   "cell_type": "code",
   "execution_count": 3,
   "metadata": {},
   "outputs": [
    {
     "name": "stderr",
     "output_type": "stream",
     "text": [
      "INFO:graphcat:Task a executing. Inputs: {}\n",
      "INFO:graphcat:Task a finished. Output: None\n",
      "INFO:graphcat:Task b executing. Inputs: {None: [None]}\n",
      "ERROR:graphcat:Task b failed. Exception: whoops!\n"
     ]
    },
    {
     "name": "stdout",
     "output_type": "stream",
     "text": [
      "Exception: RuntimeError('whoops!')\n"
     ]
    },
    {
     "data": {
      "image/svg+xml": [
       "<svg height=\"54pt\" viewBox=\"0.00 0.00 269.00 54.00\" width=\"269pt\" xmlns=\"http://www.w3.org/2000/svg\" xmlns:xlink=\"http://www.w3.org/1999/xlink\">\n",
       "<g class=\"graph\" id=\"graph0\" transform=\"scale(1 1) rotate(0) translate(4 50)\">\n",
       "<title>%3</title>\n",
       "<polygon fill=\"white\" points=\"-4,4 -4,-50 265,-50 265,4 -4,4\" stroke=\"none\"/>\n",
       "<!-- a -->\n",
       "<g class=\"node\" id=\"node1\"><title>a</title>\n",
       "<polygon fill=\"#494744\" points=\"29,-46 0,-46 0,-32 29,-32 29,-46\" stroke=\"#494744\"/>\n",
       "<text fill=\"white\" font-family=\"Helvetica,sans-Serif\" font-size=\"8.00\" text-anchor=\"middle\" x=\"14.5\" y=\"-36.6\">a</text>\n",
       "</g>\n",
       "<!-- b -->\n",
       "<g class=\"node\" id=\"node2\"><title>b</title>\n",
       "<polygon fill=\"crimson\" points=\"87,-46 58,-46 58,-32 87,-32 87,-46\" stroke=\"crimson\"/>\n",
       "<text fill=\"white\" font-family=\"Helvetica,sans-Serif\" font-size=\"8.00\" text-anchor=\"middle\" x=\"72.5\" y=\"-36.6\">b</text>\n",
       "</g>\n",
       "<!-- a&#45;&gt;b -->\n",
       "<g class=\"edge\" id=\"edge1\"><title>a-&gt;b</title>\n",
       "<path d=\"M29.056,-39C34.6135,-39 41.2165,-39 47.5388,-39\" fill=\"none\" stroke=\"#494744\"/>\n",
       "<polygon fill=\"#494744\" points=\"47.6798,-42.5001 57.6798,-39 47.6797,-35.5001 47.6798,-42.5001\" stroke=\"#494744\"/>\n",
       "</g>\n",
       "<!-- d -->\n",
       "<g class=\"node\" id=\"node3\"><title>d</title>\n",
       "<polygon fill=\"crimson\" points=\"145,-30 116,-30 116,-16 145,-16 145,-30\" stroke=\"crimson\"/>\n",
       "<text fill=\"white\" font-family=\"Helvetica,sans-Serif\" font-size=\"8.00\" text-anchor=\"middle\" x=\"130.5\" y=\"-20.6\">d</text>\n",
       "</g>\n",
       "<!-- b&#45;&gt;d -->\n",
       "<g class=\"edge\" id=\"edge2\"><title>b-&gt;d</title>\n",
       "<path d=\"M87.056,-35.1268C92.7491,-33.5003 99.5392,-31.5602 106.001,-29.714\" fill=\"none\" stroke=\"#494744\"/>\n",
       "<polygon fill=\"#494744\" points=\"107.026,-33.0613 115.68,-26.9486 105.103,-26.3306 107.026,-33.0613\" stroke=\"#494744\"/>\n",
       "</g>\n",
       "<!-- e -->\n",
       "<g class=\"node\" id=\"node5\"><title>e</title>\n",
       "<polygon fill=\"crimson\" points=\"203,-46 174,-46 174,-32 203,-32 203,-46\" stroke=\"crimson\"/>\n",
       "<text fill=\"white\" font-family=\"Helvetica,sans-Serif\" font-size=\"8.00\" text-anchor=\"middle\" x=\"188.5\" y=\"-36.6\">e</text>\n",
       "</g>\n",
       "<!-- d&#45;&gt;e -->\n",
       "<g class=\"edge\" id=\"edge4\"><title>d-&gt;e</title>\n",
       "<path d=\"M145.056,-26.8732C150.749,-28.4997 157.539,-30.4398 164.001,-32.286\" fill=\"none\" stroke=\"#494744\"/>\n",
       "<polygon fill=\"#494744\" points=\"163.103,-35.6694 173.68,-35.0514 165.026,-28.9387 163.103,-35.6694\" stroke=\"#494744\"/>\n",
       "</g>\n",
       "<!-- g -->\n",
       "<g class=\"node\" id=\"node6\"><title>g</title>\n",
       "<polygon fill=\"crimson\" points=\"203,-14 174,-14 174,-0 203,-0 203,-14\" stroke=\"crimson\"/>\n",
       "<text fill=\"white\" font-family=\"Helvetica,sans-Serif\" font-size=\"8.00\" text-anchor=\"middle\" x=\"188.5\" y=\"-4.6\">g</text>\n",
       "</g>\n",
       "<!-- d&#45;&gt;g -->\n",
       "<g class=\"edge\" id=\"edge5\"><title>d-&gt;g</title>\n",
       "<path d=\"M145.056,-19.1268C150.749,-17.5003 157.539,-15.5602 164.001,-13.714\" fill=\"none\" stroke=\"#494744\"/>\n",
       "<polygon fill=\"#494744\" points=\"165.026,-17.0613 173.68,-10.9486 163.103,-10.3306 165.026,-17.0613\" stroke=\"#494744\"/>\n",
       "</g>\n",
       "<!-- c -->\n",
       "<g class=\"node\" id=\"node4\"><title>c</title>\n",
       "<polygon fill=\"#494744\" points=\"87,-14 58,-14 58,-0 87,-0 87,-14\" stroke=\"#494744\"/>\n",
       "<text fill=\"white\" font-family=\"Helvetica,sans-Serif\" font-size=\"8.00\" text-anchor=\"middle\" x=\"72.5\" y=\"-4.6\">c</text>\n",
       "</g>\n",
       "<!-- c&#45;&gt;d -->\n",
       "<g class=\"edge\" id=\"edge3\"><title>c-&gt;d</title>\n",
       "<path d=\"M87.056,-10.8732C92.7491,-12.4997 99.5392,-14.4398 106.001,-16.286\" fill=\"none\" stroke=\"#494744\"/>\n",
       "<polygon fill=\"#494744\" points=\"105.103,-19.6694 115.68,-19.0514 107.026,-12.9387 105.103,-19.6694\" stroke=\"#494744\"/>\n",
       "</g>\n",
       "<!-- f -->\n",
       "<g class=\"node\" id=\"node7\"><title>f</title>\n",
       "<polygon fill=\"crimson\" points=\"261,-46 232,-46 232,-32 261,-32 261,-46\" stroke=\"crimson\"/>\n",
       "<text fill=\"white\" font-family=\"Helvetica,sans-Serif\" font-size=\"8.00\" text-anchor=\"middle\" x=\"246.5\" y=\"-36.6\">f</text>\n",
       "</g>\n",
       "<!-- e&#45;&gt;f -->\n",
       "<g class=\"edge\" id=\"edge6\"><title>e-&gt;f</title>\n",
       "<path d=\"M203.056,-39C208.614,-39 215.216,-39 221.539,-39\" fill=\"none\" stroke=\"#494744\"/>\n",
       "<polygon fill=\"#494744\" points=\"221.68,-42.5001 231.68,-39 221.68,-35.5001 221.68,-42.5001\" stroke=\"#494744\"/>\n",
       "</g>\n",
       "</g>\n",
       "</svg>"
      ],
      "text/plain": [
       "<IPython.core.display.SVG object>"
      ]
     },
     "metadata": {},
     "output_type": "display_data"
    }
   ],
   "source": [
    "try:\n",
    "    graph.update(\"f\")\n",
    "except Exception as e:\n",
    "    print(f\"Exception: {e!r}\")\n",
    "graphcat.notebook.display(graph)"
   ]
  },
  {
   "cell_type": "code",
   "execution_count": 4,
   "metadata": {},
   "outputs": [
    {
     "name": "stderr",
     "output_type": "stream",
     "text": [
      "INFO:graphcat:Task b executing. Inputs: {None: [None]}\n",
      "ERROR:graphcat:Task b failed. Exception: whoops!\n"
     ]
    },
    {
     "name": "stdout",
     "output_type": "stream",
     "text": [
      "Exception: RuntimeError('whoops!')\n"
     ]
    },
    {
     "data": {
      "image/svg+xml": [
       "<svg height=\"54pt\" viewBox=\"0.00 0.00 269.00 54.00\" width=\"269pt\" xmlns=\"http://www.w3.org/2000/svg\" xmlns:xlink=\"http://www.w3.org/1999/xlink\">\n",
       "<g class=\"graph\" id=\"graph0\" transform=\"scale(1 1) rotate(0) translate(4 50)\">\n",
       "<title>%3</title>\n",
       "<polygon fill=\"white\" points=\"-4,4 -4,-50 265,-50 265,4 -4,4\" stroke=\"none\"/>\n",
       "<!-- a -->\n",
       "<g class=\"node\" id=\"node1\"><title>a</title>\n",
       "<polygon fill=\"#494744\" points=\"29,-46 0,-46 0,-32 29,-32 29,-46\" stroke=\"#494744\"/>\n",
       "<text fill=\"white\" font-family=\"Helvetica,sans-Serif\" font-size=\"8.00\" text-anchor=\"middle\" x=\"14.5\" y=\"-36.6\">a</text>\n",
       "</g>\n",
       "<!-- b -->\n",
       "<g class=\"node\" id=\"node2\"><title>b</title>\n",
       "<polygon fill=\"crimson\" points=\"87,-46 58,-46 58,-32 87,-32 87,-46\" stroke=\"crimson\"/>\n",
       "<text fill=\"white\" font-family=\"Helvetica,sans-Serif\" font-size=\"8.00\" text-anchor=\"middle\" x=\"72.5\" y=\"-36.6\">b</text>\n",
       "</g>\n",
       "<!-- a&#45;&gt;b -->\n",
       "<g class=\"edge\" id=\"edge1\"><title>a-&gt;b</title>\n",
       "<path d=\"M29.056,-39C34.6135,-39 41.2165,-39 47.5388,-39\" fill=\"none\" stroke=\"#494744\"/>\n",
       "<polygon fill=\"#494744\" points=\"47.6798,-42.5001 57.6798,-39 47.6797,-35.5001 47.6798,-42.5001\" stroke=\"#494744\"/>\n",
       "</g>\n",
       "<!-- d -->\n",
       "<g class=\"node\" id=\"node3\"><title>d</title>\n",
       "<polygon fill=\"crimson\" points=\"145,-30 116,-30 116,-16 145,-16 145,-30\" stroke=\"crimson\"/>\n",
       "<text fill=\"white\" font-family=\"Helvetica,sans-Serif\" font-size=\"8.00\" text-anchor=\"middle\" x=\"130.5\" y=\"-20.6\">d</text>\n",
       "</g>\n",
       "<!-- b&#45;&gt;d -->\n",
       "<g class=\"edge\" id=\"edge2\"><title>b-&gt;d</title>\n",
       "<path d=\"M87.056,-35.1268C92.7491,-33.5003 99.5392,-31.5602 106.001,-29.714\" fill=\"none\" stroke=\"#494744\"/>\n",
       "<polygon fill=\"#494744\" points=\"107.026,-33.0613 115.68,-26.9486 105.103,-26.3306 107.026,-33.0613\" stroke=\"#494744\"/>\n",
       "</g>\n",
       "<!-- e -->\n",
       "<g class=\"node\" id=\"node5\"><title>e</title>\n",
       "<polygon fill=\"crimson\" points=\"203,-46 174,-46 174,-32 203,-32 203,-46\" stroke=\"crimson\"/>\n",
       "<text fill=\"white\" font-family=\"Helvetica,sans-Serif\" font-size=\"8.00\" text-anchor=\"middle\" x=\"188.5\" y=\"-36.6\">e</text>\n",
       "</g>\n",
       "<!-- d&#45;&gt;e -->\n",
       "<g class=\"edge\" id=\"edge4\"><title>d-&gt;e</title>\n",
       "<path d=\"M145.056,-26.8732C150.749,-28.4997 157.539,-30.4398 164.001,-32.286\" fill=\"none\" stroke=\"#494744\"/>\n",
       "<polygon fill=\"#494744\" points=\"163.103,-35.6694 173.68,-35.0514 165.026,-28.9387 163.103,-35.6694\" stroke=\"#494744\"/>\n",
       "</g>\n",
       "<!-- g -->\n",
       "<g class=\"node\" id=\"node6\"><title>g</title>\n",
       "<polygon fill=\"crimson\" points=\"203,-14 174,-14 174,-0 203,-0 203,-14\" stroke=\"crimson\"/>\n",
       "<text fill=\"white\" font-family=\"Helvetica,sans-Serif\" font-size=\"8.00\" text-anchor=\"middle\" x=\"188.5\" y=\"-4.6\">g</text>\n",
       "</g>\n",
       "<!-- d&#45;&gt;g -->\n",
       "<g class=\"edge\" id=\"edge5\"><title>d-&gt;g</title>\n",
       "<path d=\"M145.056,-19.1268C150.749,-17.5003 157.539,-15.5602 164.001,-13.714\" fill=\"none\" stroke=\"#494744\"/>\n",
       "<polygon fill=\"#494744\" points=\"165.026,-17.0613 173.68,-10.9486 163.103,-10.3306 165.026,-17.0613\" stroke=\"#494744\"/>\n",
       "</g>\n",
       "<!-- c -->\n",
       "<g class=\"node\" id=\"node4\"><title>c</title>\n",
       "<polygon fill=\"#494744\" points=\"87,-14 58,-14 58,-0 87,-0 87,-14\" stroke=\"#494744\"/>\n",
       "<text fill=\"white\" font-family=\"Helvetica,sans-Serif\" font-size=\"8.00\" text-anchor=\"middle\" x=\"72.5\" y=\"-4.6\">c</text>\n",
       "</g>\n",
       "<!-- c&#45;&gt;d -->\n",
       "<g class=\"edge\" id=\"edge3\"><title>c-&gt;d</title>\n",
       "<path d=\"M87.056,-10.8732C92.7491,-12.4997 99.5392,-14.4398 106.001,-16.286\" fill=\"none\" stroke=\"#494744\"/>\n",
       "<polygon fill=\"#494744\" points=\"105.103,-19.6694 115.68,-19.0514 107.026,-12.9387 105.103,-19.6694\" stroke=\"#494744\"/>\n",
       "</g>\n",
       "<!-- f -->\n",
       "<g class=\"node\" id=\"node7\"><title>f</title>\n",
       "<polygon fill=\"crimson\" points=\"261,-46 232,-46 232,-32 261,-32 261,-46\" stroke=\"crimson\"/>\n",
       "<text fill=\"white\" font-family=\"Helvetica,sans-Serif\" font-size=\"8.00\" text-anchor=\"middle\" x=\"246.5\" y=\"-36.6\">f</text>\n",
       "</g>\n",
       "<!-- e&#45;&gt;f -->\n",
       "<g class=\"edge\" id=\"edge6\"><title>e-&gt;f</title>\n",
       "<path d=\"M203.056,-39C208.614,-39 215.216,-39 221.539,-39\" fill=\"none\" stroke=\"#494744\"/>\n",
       "<polygon fill=\"#494744\" points=\"221.68,-42.5001 231.68,-39 221.68,-35.5001 221.68,-42.5001\" stroke=\"#494744\"/>\n",
       "</g>\n",
       "</g>\n",
       "</svg>"
      ],
      "text/plain": [
       "<IPython.core.display.SVG object>"
      ]
     },
     "metadata": {},
     "output_type": "display_data"
    }
   ],
   "source": [
    "try:\n",
    "    graph.output(\"g\")\n",
    "except Exception as e:\n",
    "    print(f\"Exception: {e!r}\")\n",
    "graphcat.notebook.display(graph)"
   ]
  },
  {
   "cell_type": "code",
   "execution_count": 5,
   "metadata": {},
   "outputs": [
    {
     "name": "stderr",
     "output_type": "stream",
     "text": [
      "INFO:graphcat:Task b executing. Inputs: {None: [None]}\n",
      "INFO:graphcat:Task b finished. Output: None\n",
      "INFO:graphcat:Task d executing. Inputs: {None: [None, None]}\n",
      "INFO:graphcat:Task d finished. Output: None\n",
      "INFO:graphcat:Task g executing. Inputs: {None: [None]}\n",
      "INFO:graphcat:Task g finished. Output: None\n"
     ]
    },
    {
     "data": {
      "image/svg+xml": [
       "<svg height=\"54pt\" viewBox=\"0.00 0.00 269.00 54.00\" width=\"269pt\" xmlns=\"http://www.w3.org/2000/svg\" xmlns:xlink=\"http://www.w3.org/1999/xlink\">\n",
       "<g class=\"graph\" id=\"graph0\" transform=\"scale(1 1) rotate(0) translate(4 50)\">\n",
       "<title>%3</title>\n",
       "<polygon fill=\"white\" points=\"-4,4 -4,-50 265,-50 265,4 -4,4\" stroke=\"none\"/>\n",
       "<!-- a -->\n",
       "<g class=\"node\" id=\"node1\"><title>a</title>\n",
       "<polygon fill=\"#494744\" points=\"29,-46 0,-46 0,-32 29,-32 29,-46\" stroke=\"#494744\"/>\n",
       "<text fill=\"white\" font-family=\"Helvetica,sans-Serif\" font-size=\"8.00\" text-anchor=\"middle\" x=\"14.5\" y=\"-36.6\">a</text>\n",
       "</g>\n",
       "<!-- b -->\n",
       "<g class=\"node\" id=\"node2\"><title>b</title>\n",
       "<polygon fill=\"#494744\" points=\"87,-46 58,-46 58,-32 87,-32 87,-46\" stroke=\"#494744\"/>\n",
       "<text fill=\"white\" font-family=\"Helvetica,sans-Serif\" font-size=\"8.00\" text-anchor=\"middle\" x=\"72.5\" y=\"-36.6\">b</text>\n",
       "</g>\n",
       "<!-- a&#45;&gt;b -->\n",
       "<g class=\"edge\" id=\"edge1\"><title>a-&gt;b</title>\n",
       "<path d=\"M29.056,-39C34.6135,-39 41.2165,-39 47.5388,-39\" fill=\"none\" stroke=\"#494744\"/>\n",
       "<polygon fill=\"#494744\" points=\"47.6798,-42.5001 57.6798,-39 47.6797,-35.5001 47.6798,-42.5001\" stroke=\"#494744\"/>\n",
       "</g>\n",
       "<!-- d -->\n",
       "<g class=\"node\" id=\"node3\"><title>d</title>\n",
       "<polygon fill=\"#494744\" points=\"145,-30 116,-30 116,-16 145,-16 145,-30\" stroke=\"#494744\"/>\n",
       "<text fill=\"white\" font-family=\"Helvetica,sans-Serif\" font-size=\"8.00\" text-anchor=\"middle\" x=\"130.5\" y=\"-20.6\">d</text>\n",
       "</g>\n",
       "<!-- b&#45;&gt;d -->\n",
       "<g class=\"edge\" id=\"edge2\"><title>b-&gt;d</title>\n",
       "<path d=\"M87.056,-35.1268C92.7491,-33.5003 99.5392,-31.5602 106.001,-29.714\" fill=\"none\" stroke=\"#494744\"/>\n",
       "<polygon fill=\"#494744\" points=\"107.026,-33.0613 115.68,-26.9486 105.103,-26.3306 107.026,-33.0613\" stroke=\"#494744\"/>\n",
       "</g>\n",
       "<!-- e -->\n",
       "<g class=\"node\" id=\"node5\"><title>e</title>\n",
       "<polygon fill=\"white\" points=\"203,-46 174,-46 174,-32 203,-32 203,-46\" stroke=\"#494744\"/>\n",
       "<text fill=\"#494744\" font-family=\"Helvetica,sans-Serif\" font-size=\"8.00\" text-anchor=\"middle\" x=\"188.5\" y=\"-36.6\">e</text>\n",
       "</g>\n",
       "<!-- d&#45;&gt;e -->\n",
       "<g class=\"edge\" id=\"edge4\"><title>d-&gt;e</title>\n",
       "<path d=\"M145.056,-26.8732C150.749,-28.4997 157.539,-30.4398 164.001,-32.286\" fill=\"none\" stroke=\"#494744\"/>\n",
       "<polygon fill=\"#494744\" points=\"163.103,-35.6694 173.68,-35.0514 165.026,-28.9387 163.103,-35.6694\" stroke=\"#494744\"/>\n",
       "</g>\n",
       "<!-- g -->\n",
       "<g class=\"node\" id=\"node6\"><title>g</title>\n",
       "<polygon fill=\"#494744\" points=\"203,-14 174,-14 174,-0 203,-0 203,-14\" stroke=\"#494744\"/>\n",
       "<text fill=\"white\" font-family=\"Helvetica,sans-Serif\" font-size=\"8.00\" text-anchor=\"middle\" x=\"188.5\" y=\"-4.6\">g</text>\n",
       "</g>\n",
       "<!-- d&#45;&gt;g -->\n",
       "<g class=\"edge\" id=\"edge5\"><title>d-&gt;g</title>\n",
       "<path d=\"M145.056,-19.1268C150.749,-17.5003 157.539,-15.5602 164.001,-13.714\" fill=\"none\" stroke=\"#494744\"/>\n",
       "<polygon fill=\"#494744\" points=\"165.026,-17.0613 173.68,-10.9486 163.103,-10.3306 165.026,-17.0613\" stroke=\"#494744\"/>\n",
       "</g>\n",
       "<!-- c -->\n",
       "<g class=\"node\" id=\"node4\"><title>c</title>\n",
       "<polygon fill=\"#494744\" points=\"87,-14 58,-14 58,-0 87,-0 87,-14\" stroke=\"#494744\"/>\n",
       "<text fill=\"white\" font-family=\"Helvetica,sans-Serif\" font-size=\"8.00\" text-anchor=\"middle\" x=\"72.5\" y=\"-4.6\">c</text>\n",
       "</g>\n",
       "<!-- c&#45;&gt;d -->\n",
       "<g class=\"edge\" id=\"edge3\"><title>c-&gt;d</title>\n",
       "<path d=\"M87.056,-10.8732C92.7491,-12.4997 99.5392,-14.4398 106.001,-16.286\" fill=\"none\" stroke=\"#494744\"/>\n",
       "<polygon fill=\"#494744\" points=\"105.103,-19.6694 115.68,-19.0514 107.026,-12.9387 105.103,-19.6694\" stroke=\"#494744\"/>\n",
       "</g>\n",
       "<!-- f -->\n",
       "<g class=\"node\" id=\"node7\"><title>f</title>\n",
       "<polygon fill=\"white\" points=\"261,-46 232,-46 232,-32 261,-32 261,-46\" stroke=\"#494744\"/>\n",
       "<text fill=\"#494744\" font-family=\"Helvetica,sans-Serif\" font-size=\"8.00\" text-anchor=\"middle\" x=\"246.5\" y=\"-36.6\">f</text>\n",
       "</g>\n",
       "<!-- e&#45;&gt;f -->\n",
       "<g class=\"edge\" id=\"edge6\"><title>e-&gt;f</title>\n",
       "<path d=\"M203.056,-39C208.614,-39 215.216,-39 221.539,-39\" fill=\"none\" stroke=\"#494744\"/>\n",
       "<polygon fill=\"#494744\" points=\"221.68,-42.5001 231.68,-39 221.68,-35.5001 221.68,-42.5001\" stroke=\"#494744\"/>\n",
       "</g>\n",
       "</g>\n",
       "</svg>"
      ],
      "text/plain": [
       "<IPython.core.display.SVG object>"
      ]
     },
     "metadata": {},
     "output_type": "display_data"
    }
   ],
   "source": [
    "graph.set_task(\"b\", graphcat.null)\n",
    "graph.update(\"g\")\n",
    "graphcat.notebook.display(graph)"
   ]
  }
 ],
 "metadata": {
  "kernelspec": {
   "display_name": "Python 3",
   "language": "python",
   "name": "python3"
  },
  "language_info": {
   "codemirror_mode": {
    "name": "ipython",
    "version": 3
   },
   "file_extension": ".py",
   "mimetype": "text/x-python",
   "name": "python",
   "nbconvert_exporter": "python",
   "pygments_lexer": "ipython3",
   "version": "3.7.7"
  }
 },
 "nbformat": 4,
 "nbformat_minor": 4
}
