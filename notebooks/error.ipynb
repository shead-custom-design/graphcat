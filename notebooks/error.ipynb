{
 "cells": [
  {
   "cell_type": "code",
   "execution_count": 1,
   "metadata": {},
   "outputs": [],
   "source": [
    "import logging\n",
    "\n",
    "import IPython.display\n",
    "import graphcat.diagram\n",
    "\n",
    "logging.basicConfig(level=logging.INFO)"
   ]
  },
  {
   "cell_type": "code",
   "execution_count": 2,
   "metadata": {},
   "outputs": [],
   "source": [
    "def draw_graph(graph):\n",
    "    agraph = graphcat.diagram.draw(graph)\n",
    "    agraph.graph_attr[\"rankdir\"] = \"TB\";\n",
    "    IPython.display.display(IPython.display.SVG(data=agraph.draw(prog=\"dot\", format=\"svg\")))"
   ]
  },
  {
   "cell_type": "code",
   "execution_count": 3,
   "metadata": {},
   "outputs": [
    {
     "name": "stderr",
     "output_type": "stream",
     "text": [
      "INFO:graphcat.common:Task c executing. Inputs: {}\n",
      "INFO:graphcat.common:Task c finished. Output: None\n"
     ]
    },
    {
     "data": {
      "image/svg+xml": [
       "<svg height=\"194pt\" viewBox=\"0.00 0.00 84.00 194.00\" width=\"84pt\" xmlns=\"http://www.w3.org/2000/svg\" xmlns:xlink=\"http://www.w3.org/1999/xlink\">\n",
       "<g class=\"graph\" id=\"graph0\" transform=\"scale(1 1) rotate(0) translate(4 190)\">\n",
       "<polygon fill=\"white\" points=\"-4,4 -4,-190 80,-190 80,4 -4,4\" stroke=\"transparent\"/>\n",
       "<!-- a -->\n",
       "<g class=\"node\" id=\"node1\">\n",
       "<title>a</title>\n",
       "<polygon fill=\"white\" points=\"29,-186 0,-186 0,-172 29,-172 29,-186\" stroke=\"#494744\"/>\n",
       "<text fill=\"#494744\" font-family=\"Helvetica,sans-Serif\" font-size=\"8.00\" text-anchor=\"middle\" x=\"14.5\" y=\"-176.6\">a</text>\n",
       "</g>\n",
       "<!-- b -->\n",
       "<g class=\"node\" id=\"node2\">\n",
       "<title>b</title>\n",
       "<polygon fill=\"white\" points=\"29,-143 0,-143 0,-129 29,-129 29,-143\" stroke=\"#494744\"/>\n",
       "<text fill=\"#494744\" font-family=\"Helvetica,sans-Serif\" font-size=\"8.00\" text-anchor=\"middle\" x=\"14.5\" y=\"-133.6\">b</text>\n",
       "</g>\n",
       "<!-- a&#45;&gt;b -->\n",
       "<g class=\"edge\" id=\"edge1\">\n",
       "<title>a-&gt;b</title>\n",
       "<path d=\"M14.5,-171.95C14.5,-166.98 14.5,-159.72 14.5,-153.09\" fill=\"none\" stroke=\"#494744\"/>\n",
       "<polygon fill=\"#494744\" points=\"18,-153.07 14.5,-143.07 11,-153.07 18,-153.07\" stroke=\"#494744\"/>\n",
       "</g>\n",
       "<!-- d -->\n",
       "<g class=\"node\" id=\"node3\">\n",
       "<title>d</title>\n",
       "<polygon fill=\"white\" points=\"52,-100 23,-100 23,-86 52,-86 52,-100\" stroke=\"#494744\"/>\n",
       "<text fill=\"#494744\" font-family=\"Helvetica,sans-Serif\" font-size=\"8.00\" text-anchor=\"middle\" x=\"37.5\" y=\"-90.6\">d</text>\n",
       "</g>\n",
       "<!-- b&#45;&gt;d -->\n",
       "<g class=\"edge\" id=\"edge2\">\n",
       "<title>b-&gt;d</title>\n",
       "<path d=\"M17.89,-128.95C20.82,-123.74 25.16,-116 29.01,-109.13\" fill=\"none\" stroke=\"#494744\"/>\n",
       "<polygon fill=\"#494744\" points=\"32.25,-110.51 34.09,-100.07 26.15,-107.08 32.25,-110.51\" stroke=\"#494744\"/>\n",
       "</g>\n",
       "<!-- e -->\n",
       "<g class=\"node\" id=\"node5\">\n",
       "<title>e</title>\n",
       "<polygon fill=\"white\" points=\"29,-57 0,-57 0,-43 29,-43 29,-57\" stroke=\"#494744\"/>\n",
       "<text fill=\"#494744\" font-family=\"Helvetica,sans-Serif\" font-size=\"8.00\" text-anchor=\"middle\" x=\"14.5\" y=\"-47.6\">e</text>\n",
       "</g>\n",
       "<!-- d&#45;&gt;e -->\n",
       "<g class=\"edge\" id=\"edge4\">\n",
       "<title>d-&gt;e</title>\n",
       "<path d=\"M34.11,-85.95C31.18,-80.74 26.84,-73 22.99,-66.13\" fill=\"none\" stroke=\"#494744\"/>\n",
       "<polygon fill=\"#494744\" points=\"25.85,-64.08 17.91,-57.07 19.75,-67.51 25.85,-64.08\" stroke=\"#494744\"/>\n",
       "</g>\n",
       "<!-- g -->\n",
       "<g class=\"node\" id=\"node6\">\n",
       "<title>g</title>\n",
       "<polygon fill=\"white\" points=\"76,-57 47,-57 47,-43 76,-43 76,-57\" stroke=\"#494744\"/>\n",
       "<text fill=\"#494744\" font-family=\"Helvetica,sans-Serif\" font-size=\"8.00\" text-anchor=\"middle\" x=\"61.5\" y=\"-47.6\">g</text>\n",
       "</g>\n",
       "<!-- d&#45;&gt;g -->\n",
       "<g class=\"edge\" id=\"edge5\">\n",
       "<title>d-&gt;g</title>\n",
       "<path d=\"M41.04,-85.95C44.09,-80.74 48.62,-73 52.64,-66.13\" fill=\"none\" stroke=\"#494744\"/>\n",
       "<polygon fill=\"#494744\" points=\"55.91,-67.47 57.94,-57.07 49.87,-63.94 55.91,-67.47\" stroke=\"#494744\"/>\n",
       "</g>\n",
       "<!-- c -->\n",
       "<g class=\"node\" id=\"node4\">\n",
       "<title>c</title>\n",
       "<polygon fill=\"#494744\" points=\"76,-143 47,-143 47,-129 76,-129 76,-143\" stroke=\"#494744\"/>\n",
       "<text fill=\"white\" font-family=\"Helvetica,sans-Serif\" font-size=\"8.00\" text-anchor=\"middle\" x=\"61.5\" y=\"-133.6\">c</text>\n",
       "</g>\n",
       "<!-- c&#45;&gt;d -->\n",
       "<g class=\"edge\" id=\"edge3\">\n",
       "<title>c-&gt;d</title>\n",
       "<path d=\"M57.96,-128.95C54.91,-123.74 50.38,-116 46.36,-109.13\" fill=\"none\" stroke=\"#494744\"/>\n",
       "<polygon fill=\"#494744\" points=\"49.13,-106.94 41.06,-100.07 43.09,-110.47 49.13,-106.94\" stroke=\"#494744\"/>\n",
       "</g>\n",
       "<!-- f -->\n",
       "<g class=\"node\" id=\"node7\">\n",
       "<title>f</title>\n",
       "<polygon fill=\"white\" points=\"29,-14 0,-14 0,0 29,0 29,-14\" stroke=\"#494744\"/>\n",
       "<text fill=\"#494744\" font-family=\"Helvetica,sans-Serif\" font-size=\"8.00\" text-anchor=\"middle\" x=\"14.5\" y=\"-4.6\">f</text>\n",
       "</g>\n",
       "<!-- e&#45;&gt;f -->\n",
       "<g class=\"edge\" id=\"edge6\">\n",
       "<title>e-&gt;f</title>\n",
       "<path d=\"M14.5,-42.95C14.5,-37.98 14.5,-30.72 14.5,-24.09\" fill=\"none\" stroke=\"#494744\"/>\n",
       "<polygon fill=\"#494744\" points=\"18,-24.07 14.5,-14.07 11,-24.07 18,-24.07\" stroke=\"#494744\"/>\n",
       "</g>\n",
       "</g>\n",
       "</svg>"
      ],
      "text/plain": [
       "<IPython.core.display.SVG object>"
      ]
     },
     "metadata": {},
     "output_type": "display_data"
    }
   ],
   "source": [
    "graph = graphcat.StaticGraph()\n",
    "logger = graphcat.Logger(graph)\n",
    "\n",
    "graph.add_task(\"a\")\n",
    "graph.add_task(\"b\", graphcat.raise_exception(RuntimeError(\"whoops!\")))\n",
    "graph.add_task(\"c\")\n",
    "graph.add_task(\"d\")\n",
    "graph.add_task(\"e\")\n",
    "graph.add_task(\"f\")\n",
    "graph.add_task(\"g\")\n",
    "\n",
    "graph.set_links(\"a\", \"b\")\n",
    "graph.set_links(\"b\", \"d\")\n",
    "graph.set_links(\"c\", \"d\")\n",
    "graph.set_links(\"d\", [\"e\", \"g\"])\n",
    "graph.set_links(\"e\", \"f\")\n",
    "\n",
    "graph.update(\"c\")\n",
    "\n",
    "draw_graph(graph)"
   ]
  },
  {
   "cell_type": "code",
   "execution_count": 4,
   "metadata": {},
   "outputs": [
    {
     "name": "stderr",
     "output_type": "stream",
     "text": [
      "INFO:graphcat.common:Task a executing. Inputs: {}\n",
      "INFO:graphcat.common:Task a finished. Output: None\n",
      "INFO:graphcat.common:Task b executing. Inputs: {None: None}\n",
      "ERROR:graphcat.common:Task b failed. Exception: whoops!\n"
     ]
    },
    {
     "name": "stdout",
     "output_type": "stream",
     "text": [
      "Exception: RuntimeError('whoops!')\n"
     ]
    },
    {
     "data": {
      "image/svg+xml": [
       "<svg height=\"194pt\" viewBox=\"0.00 0.00 84.00 194.00\" width=\"84pt\" xmlns=\"http://www.w3.org/2000/svg\" xmlns:xlink=\"http://www.w3.org/1999/xlink\">\n",
       "<g class=\"graph\" id=\"graph0\" transform=\"scale(1 1) rotate(0) translate(4 190)\">\n",
       "<polygon fill=\"white\" points=\"-4,4 -4,-190 80,-190 80,4 -4,4\" stroke=\"transparent\"/>\n",
       "<!-- a -->\n",
       "<g class=\"node\" id=\"node1\">\n",
       "<title>a</title>\n",
       "<polygon fill=\"#494744\" points=\"29,-186 0,-186 0,-172 29,-172 29,-186\" stroke=\"#494744\"/>\n",
       "<text fill=\"white\" font-family=\"Helvetica,sans-Serif\" font-size=\"8.00\" text-anchor=\"middle\" x=\"14.5\" y=\"-176.6\">a</text>\n",
       "</g>\n",
       "<!-- b -->\n",
       "<g class=\"node\" id=\"node2\">\n",
       "<title>b</title>\n",
       "<polygon fill=\"crimson\" points=\"29,-143 0,-143 0,-129 29,-129 29,-143\" stroke=\"crimson\"/>\n",
       "<text fill=\"white\" font-family=\"Helvetica,sans-Serif\" font-size=\"8.00\" text-anchor=\"middle\" x=\"14.5\" y=\"-133.6\">b</text>\n",
       "</g>\n",
       "<!-- a&#45;&gt;b -->\n",
       "<g class=\"edge\" id=\"edge1\">\n",
       "<title>a-&gt;b</title>\n",
       "<path d=\"M14.5,-171.95C14.5,-166.98 14.5,-159.72 14.5,-153.09\" fill=\"none\" stroke=\"#494744\"/>\n",
       "<polygon fill=\"#494744\" points=\"18,-153.07 14.5,-143.07 11,-153.07 18,-153.07\" stroke=\"#494744\"/>\n",
       "</g>\n",
       "<!-- d -->\n",
       "<g class=\"node\" id=\"node3\">\n",
       "<title>d</title>\n",
       "<polygon fill=\"crimson\" points=\"52,-100 23,-100 23,-86 52,-86 52,-100\" stroke=\"crimson\"/>\n",
       "<text fill=\"white\" font-family=\"Helvetica,sans-Serif\" font-size=\"8.00\" text-anchor=\"middle\" x=\"37.5\" y=\"-90.6\">d</text>\n",
       "</g>\n",
       "<!-- b&#45;&gt;d -->\n",
       "<g class=\"edge\" id=\"edge2\">\n",
       "<title>b-&gt;d</title>\n",
       "<path d=\"M17.89,-128.95C20.82,-123.74 25.16,-116 29.01,-109.13\" fill=\"none\" stroke=\"#494744\"/>\n",
       "<polygon fill=\"#494744\" points=\"32.25,-110.51 34.09,-100.07 26.15,-107.08 32.25,-110.51\" stroke=\"#494744\"/>\n",
       "</g>\n",
       "<!-- e -->\n",
       "<g class=\"node\" id=\"node5\">\n",
       "<title>e</title>\n",
       "<polygon fill=\"crimson\" points=\"29,-57 0,-57 0,-43 29,-43 29,-57\" stroke=\"crimson\"/>\n",
       "<text fill=\"white\" font-family=\"Helvetica,sans-Serif\" font-size=\"8.00\" text-anchor=\"middle\" x=\"14.5\" y=\"-47.6\">e</text>\n",
       "</g>\n",
       "<!-- d&#45;&gt;e -->\n",
       "<g class=\"edge\" id=\"edge4\">\n",
       "<title>d-&gt;e</title>\n",
       "<path d=\"M34.11,-85.95C31.18,-80.74 26.84,-73 22.99,-66.13\" fill=\"none\" stroke=\"#494744\"/>\n",
       "<polygon fill=\"#494744\" points=\"25.85,-64.08 17.91,-57.07 19.75,-67.51 25.85,-64.08\" stroke=\"#494744\"/>\n",
       "</g>\n",
       "<!-- g -->\n",
       "<g class=\"node\" id=\"node6\">\n",
       "<title>g</title>\n",
       "<polygon fill=\"crimson\" points=\"76,-57 47,-57 47,-43 76,-43 76,-57\" stroke=\"crimson\"/>\n",
       "<text fill=\"white\" font-family=\"Helvetica,sans-Serif\" font-size=\"8.00\" text-anchor=\"middle\" x=\"61.5\" y=\"-47.6\">g</text>\n",
       "</g>\n",
       "<!-- d&#45;&gt;g -->\n",
       "<g class=\"edge\" id=\"edge5\">\n",
       "<title>d-&gt;g</title>\n",
       "<path d=\"M41.04,-85.95C44.09,-80.74 48.62,-73 52.64,-66.13\" fill=\"none\" stroke=\"#494744\"/>\n",
       "<polygon fill=\"#494744\" points=\"55.91,-67.47 57.94,-57.07 49.87,-63.94 55.91,-67.47\" stroke=\"#494744\"/>\n",
       "</g>\n",
       "<!-- c -->\n",
       "<g class=\"node\" id=\"node4\">\n",
       "<title>c</title>\n",
       "<polygon fill=\"#494744\" points=\"76,-143 47,-143 47,-129 76,-129 76,-143\" stroke=\"#494744\"/>\n",
       "<text fill=\"white\" font-family=\"Helvetica,sans-Serif\" font-size=\"8.00\" text-anchor=\"middle\" x=\"61.5\" y=\"-133.6\">c</text>\n",
       "</g>\n",
       "<!-- c&#45;&gt;d -->\n",
       "<g class=\"edge\" id=\"edge3\">\n",
       "<title>c-&gt;d</title>\n",
       "<path d=\"M57.96,-128.95C54.91,-123.74 50.38,-116 46.36,-109.13\" fill=\"none\" stroke=\"#494744\"/>\n",
       "<polygon fill=\"#494744\" points=\"49.13,-106.94 41.06,-100.07 43.09,-110.47 49.13,-106.94\" stroke=\"#494744\"/>\n",
       "</g>\n",
       "<!-- f -->\n",
       "<g class=\"node\" id=\"node7\">\n",
       "<title>f</title>\n",
       "<polygon fill=\"crimson\" points=\"29,-14 0,-14 0,0 29,0 29,-14\" stroke=\"crimson\"/>\n",
       "<text fill=\"white\" font-family=\"Helvetica,sans-Serif\" font-size=\"8.00\" text-anchor=\"middle\" x=\"14.5\" y=\"-4.6\">f</text>\n",
       "</g>\n",
       "<!-- e&#45;&gt;f -->\n",
       "<g class=\"edge\" id=\"edge6\">\n",
       "<title>e-&gt;f</title>\n",
       "<path d=\"M14.5,-42.95C14.5,-37.98 14.5,-30.72 14.5,-24.09\" fill=\"none\" stroke=\"#494744\"/>\n",
       "<polygon fill=\"#494744\" points=\"18,-24.07 14.5,-14.07 11,-24.07 18,-24.07\" stroke=\"#494744\"/>\n",
       "</g>\n",
       "</g>\n",
       "</svg>"
      ],
      "text/plain": [
       "<IPython.core.display.SVG object>"
      ]
     },
     "metadata": {},
     "output_type": "display_data"
    }
   ],
   "source": [
    "try:\n",
    "    graph.update(\"f\")\n",
    "except Exception as e:\n",
    "    print(f\"Exception: {e!r}\")\n",
    "draw_graph(graph)"
   ]
  }
 ],
 "metadata": {
  "kernelspec": {
   "display_name": "Python 3",
   "language": "python",
   "name": "python3"
  },
  "language_info": {
   "codemirror_mode": {
    "name": "ipython",
    "version": 3
   },
   "file_extension": ".py",
   "mimetype": "text/x-python",
   "name": "python",
   "nbconvert_exporter": "python",
   "pygments_lexer": "ipython3",
   "version": "3.7.7"
  }
 },
 "nbformat": 4,
 "nbformat_minor": 4
}
