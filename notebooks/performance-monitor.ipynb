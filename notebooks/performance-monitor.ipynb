{
 "cells": [
  {
   "cell_type": "code",
   "execution_count": 1,
   "metadata": {},
   "outputs": [],
   "source": [
    "import time\n",
    "\n",
    "import graphcat"
   ]
  },
  {
   "cell_type": "code",
   "execution_count": 2,
   "metadata": {},
   "outputs": [
    {
     "data": {
      "text/plain": [
       "{'A': [2.0042970180511475],\n",
       " 'B': [1.0048730373382568],\n",
       " 'C': [0.10282397270202637]}"
      ]
     },
     "execution_count": 2,
     "metadata": {},
     "output_type": "execute_result"
    }
   ],
   "source": [
    "graph = graphcat.Graph()\n",
    "graph.set_task(\"A\", graphcat.delay(2))\n",
    "graph.set_task(\"B\", graphcat.delay(1))\n",
    "graph.set_task(\"C\", graphcat.delay(0.1))\n",
    "graph.set_links(\"A\", \"B\")\n",
    "graph.set_links(\"B\", \"C\")\n",
    "\n",
    "monitor = graphcat.PerformanceMonitor(graph)\n",
    "\n",
    "graph.update(\"C\")\n",
    "monitor.tasks"
   ]
  },
  {
   "cell_type": "code",
   "execution_count": 3,
   "metadata": {},
   "outputs": [
    {
     "data": {
      "text/plain": [
       "{'A': [2.0042970180511475],\n",
       " 'B': [1.0048730373382568],\n",
       " 'C': [0.10282397270202637, 0.10204601287841797]}"
      ]
     },
     "execution_count": 3,
     "metadata": {},
     "output_type": "execute_result"
    }
   ],
   "source": [
    "graph.mark_unfinished(\"C\")\n",
    "graph.update(\"C\")\n",
    "monitor.tasks"
   ]
  },
  {
   "cell_type": "code",
   "execution_count": 4,
   "metadata": {},
   "outputs": [
    {
     "data": {
      "text/plain": [
       "{'C': [0.10454106330871582]}"
      ]
     },
     "execution_count": 4,
     "metadata": {},
     "output_type": "execute_result"
    }
   ],
   "source": [
    "monitor.reset()\n",
    "graph.mark_unfinished(\"C\")\n",
    "graph.update(\"C\")\n",
    "monitor.tasks"
   ]
  }
 ],
 "metadata": {
  "kernelspec": {
   "display_name": "Python 3",
   "language": "python",
   "name": "python3"
  },
  "language_info": {
   "codemirror_mode": {
    "name": "ipython",
    "version": 3
   },
   "file_extension": ".py",
   "mimetype": "text/x-python",
   "name": "python",
   "nbconvert_exporter": "python",
   "pygments_lexer": "ipython3",
   "version": "3.7.7"
  }
 },
 "nbformat": 4,
 "nbformat_minor": 4
}
