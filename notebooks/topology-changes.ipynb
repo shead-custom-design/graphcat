{
 "cells": [
  {
   "cell_type": "code",
   "execution_count": 1,
   "metadata": {},
   "outputs": [],
   "source": [
    "import logging\n",
    "\n",
    "import graphcat.notebook\n",
    "\n",
    "logging.basicConfig(level=logging.DEBUG)"
   ]
  },
  {
   "cell_type": "markdown",
   "metadata": {},
   "source": [
    "# Adding relationships"
   ]
  },
  {
   "cell_type": "code",
   "execution_count": 2,
   "metadata": {},
   "outputs": [
    {
     "name": "stderr",
     "output_type": "stream",
     "text": [
      "DEBUG:graphcat:Task a updating.\n",
      "INFO:graphcat:Task a executing. Inputs: {}\n",
      "INFO:graphcat:Task a finished. Output: None\n",
      "DEBUG:graphcat:Task b updating.\n",
      "INFO:graphcat:Task b executing. Inputs: {None: [None]}\n",
      "INFO:graphcat:Task b finished. Output: None\n"
     ]
    },
    {
     "data": {
      "image/svg+xml": [
       "<svg height=\"81pt\" viewBox=\"0.00 0.00 37.00 81.00\" width=\"37pt\" xmlns=\"http://www.w3.org/2000/svg\" xmlns:xlink=\"http://www.w3.org/1999/xlink\">\n",
       "<g class=\"graph\" id=\"graph0\" transform=\"scale(1 1) rotate(0) translate(4 77)\">\n",
       "<title>%3</title>\n",
       "<polygon fill=\"white\" points=\"-4,4 -4,-77 33,-77 33,4 -4,4\" stroke=\"none\"/>\n",
       "<!-- a -->\n",
       "<g class=\"node\" id=\"node1\"><title>a</title>\n",
       "<polygon fill=\"#494744\" points=\"29,-73 0,-73 0,-51 29,-51 29,-73\" stroke=\"#494744\"/>\n",
       "<text fill=\"white\" font-family=\"Helvetica,sans-Serif\" font-size=\"14.00\" text-anchor=\"middle\" x=\"14.5\" y=\"-57.8\">a</text>\n",
       "</g>\n",
       "<!-- b -->\n",
       "<g class=\"node\" id=\"node2\"><title>b</title>\n",
       "<polygon fill=\"#494744\" points=\"29,-22 0,-22 0,-0 29,-0 29,-22\" stroke=\"#494744\"/>\n",
       "<text fill=\"white\" font-family=\"Helvetica,sans-Serif\" font-size=\"14.00\" text-anchor=\"middle\" x=\"14.5\" y=\"-6.8\">b</text>\n",
       "</g>\n",
       "<!-- a&#45;&gt;b -->\n",
       "<g class=\"edge\" id=\"edge1\"><title>a-&gt;b</title>\n",
       "<path d=\"M14.5,-50.6084C14.5,-45.2093 14.5,-38.4236 14.5,-32.0529\" fill=\"none\" stroke=\"#494744\"/>\n",
       "<polygon fill=\"#494744\" points=\"18.0001,-32.0415 14.5,-22.0415 11.0001,-32.0416 18.0001,-32.0415\" stroke=\"#494744\"/>\n",
       "</g>\n",
       "</g>\n",
       "</svg>"
      ],
      "text/plain": [
       "<IPython.core.display.SVG object>"
      ]
     },
     "metadata": {},
     "output_type": "display_data"
    }
   ],
   "source": [
    "graph = graphcat.Graph()\n",
    "logger = graphcat.Logger(graph)\n",
    "\n",
    "graph.add_task(\"a\")\n",
    "graph.add_task(\"b\")\n",
    "graph.add_links(\"a\", \"b\")\n",
    "\n",
    "graph.update(\"b\")\n",
    "graphcat.notebook.display(graph)"
   ]
  },
  {
   "cell_type": "code",
   "execution_count": 3,
   "metadata": {},
   "outputs": [
    {
     "data": {
      "image/svg+xml": [
       "<svg height=\"81pt\" viewBox=\"0.00 0.00 84.00 81.00\" width=\"84pt\" xmlns=\"http://www.w3.org/2000/svg\" xmlns:xlink=\"http://www.w3.org/1999/xlink\">\n",
       "<g class=\"graph\" id=\"graph0\" transform=\"scale(1 1) rotate(0) translate(4 77)\">\n",
       "<title>%3</title>\n",
       "<polygon fill=\"white\" points=\"-4,4 -4,-77 80,-77 80,4 -4,4\" stroke=\"none\"/>\n",
       "<!-- a -->\n",
       "<g class=\"node\" id=\"node1\"><title>a</title>\n",
       "<polygon fill=\"#494744\" points=\"29,-73 0,-73 0,-51 29,-51 29,-73\" stroke=\"#494744\"/>\n",
       "<text fill=\"white\" font-family=\"Helvetica,sans-Serif\" font-size=\"14.00\" text-anchor=\"middle\" x=\"14.5\" y=\"-57.8\">a</text>\n",
       "</g>\n",
       "<!-- b -->\n",
       "<g class=\"node\" id=\"node2\"><title>b</title>\n",
       "<polygon fill=\"#494744\" points=\"29,-22 0,-22 0,-0 29,-0 29,-22\" stroke=\"#494744\"/>\n",
       "<text fill=\"white\" font-family=\"Helvetica,sans-Serif\" font-size=\"14.00\" text-anchor=\"middle\" x=\"14.5\" y=\"-6.8\">b</text>\n",
       "</g>\n",
       "<!-- a&#45;&gt;b -->\n",
       "<g class=\"edge\" id=\"edge1\"><title>a-&gt;b</title>\n",
       "<path d=\"M14.5,-50.6084C14.5,-45.2093 14.5,-38.4236 14.5,-32.0529\" fill=\"none\" stroke=\"#494744\"/>\n",
       "<polygon fill=\"#494744\" points=\"18.0001,-32.0415 14.5,-22.0415 11.0001,-32.0416 18.0001,-32.0415\" stroke=\"#494744\"/>\n",
       "</g>\n",
       "<!-- c -->\n",
       "<g class=\"node\" id=\"node3\"><title>c</title>\n",
       "<polygon fill=\"white\" points=\"76,-73 47,-73 47,-51 76,-51 76,-73\" stroke=\"#494744\"/>\n",
       "<text fill=\"#494744\" font-family=\"Helvetica,sans-Serif\" font-size=\"14.00\" text-anchor=\"middle\" x=\"61.5\" y=\"-57.8\">c</text>\n",
       "</g>\n",
       "</g>\n",
       "</svg>"
      ],
      "text/plain": [
       "<IPython.core.display.SVG object>"
      ]
     },
     "metadata": {},
     "output_type": "display_data"
    },
    {
     "data": {
      "image/svg+xml": [
       "<svg height=\"81pt\" viewBox=\"0.00 0.00 84.00 81.00\" width=\"84pt\" xmlns=\"http://www.w3.org/2000/svg\" xmlns:xlink=\"http://www.w3.org/1999/xlink\">\n",
       "<g class=\"graph\" id=\"graph0\" transform=\"scale(1 1) rotate(0) translate(4 77)\">\n",
       "<title>%3</title>\n",
       "<polygon fill=\"white\" points=\"-4,4 -4,-77 80,-77 80,4 -4,4\" stroke=\"none\"/>\n",
       "<!-- a -->\n",
       "<g class=\"node\" id=\"node1\"><title>a</title>\n",
       "<polygon fill=\"#494744\" points=\"29,-73 0,-73 0,-51 29,-51 29,-73\" stroke=\"#494744\"/>\n",
       "<text fill=\"white\" font-family=\"Helvetica,sans-Serif\" font-size=\"14.00\" text-anchor=\"middle\" x=\"14.5\" y=\"-57.8\">a</text>\n",
       "</g>\n",
       "<!-- b -->\n",
       "<g class=\"node\" id=\"node2\"><title>b</title>\n",
       "<polygon fill=\"white\" points=\"52,-22 23,-22 23,-0 52,-0 52,-22\" stroke=\"#494744\"/>\n",
       "<text fill=\"#494744\" font-family=\"Helvetica,sans-Serif\" font-size=\"14.00\" text-anchor=\"middle\" x=\"37.5\" y=\"-6.8\">b</text>\n",
       "</g>\n",
       "<!-- a&#45;&gt;b -->\n",
       "<g class=\"edge\" id=\"edge1\"><title>a-&gt;b</title>\n",
       "<path d=\"M19.3777,-50.6084C22.0356,-44.9459 25.4094,-37.7582 28.5235,-31.1238\" fill=\"none\" stroke=\"#494744\"/>\n",
       "<polygon fill=\"#494744\" points=\"31.7058,-32.5811 32.7866,-22.0415 25.3692,-29.6067 31.7058,-32.5811\" stroke=\"#494744\"/>\n",
       "</g>\n",
       "<!-- c -->\n",
       "<g class=\"node\" id=\"node3\"><title>c</title>\n",
       "<polygon fill=\"white\" points=\"76,-73 47,-73 47,-51 76,-51 76,-73\" stroke=\"#494744\"/>\n",
       "<text fill=\"#494744\" font-family=\"Helvetica,sans-Serif\" font-size=\"14.00\" text-anchor=\"middle\" x=\"61.5\" y=\"-57.8\">c</text>\n",
       "</g>\n",
       "<!-- c&#45;&gt;b -->\n",
       "<g class=\"edge\" id=\"edge2\"><title>c-&gt;b</title>\n",
       "<path d=\"M56.4102,-50.6084C53.6368,-44.9459 50.1163,-37.7582 46.8668,-31.1238\" fill=\"none\" stroke=\"#494744\"/>\n",
       "<polygon fill=\"#494744\" points=\"49.9603,-29.4826 42.4183,-22.0415 43.6738,-32.5617 49.9603,-29.4826\" stroke=\"#494744\"/>\n",
       "</g>\n",
       "</g>\n",
       "</svg>"
      ],
      "text/plain": [
       "<IPython.core.display.SVG object>"
      ]
     },
     "metadata": {},
     "output_type": "display_data"
    },
    {
     "name": "stderr",
     "output_type": "stream",
     "text": [
      "DEBUG:graphcat:Task a updating.\n",
      "DEBUG:graphcat:Task c updating.\n",
      "INFO:graphcat:Task c executing. Inputs: {}\n",
      "INFO:graphcat:Task c finished. Output: None\n",
      "DEBUG:graphcat:Task b updating.\n",
      "INFO:graphcat:Task b executing. Inputs: {None: [None, None]}\n",
      "INFO:graphcat:Task b finished. Output: None\n"
     ]
    }
   ],
   "source": [
    "graph.add_task(\"c\")\n",
    "graphcat.notebook.display(graph)\n",
    "\n",
    "graph.add_links(\"c\", \"b\")\n",
    "\n",
    "graphcat.notebook.display(graph)\n",
    "graph.update(\"b\")"
   ]
  },
  {
   "cell_type": "markdown",
   "metadata": {},
   "source": [
    "# Removing tasks"
   ]
  },
  {
   "cell_type": "code",
   "execution_count": 4,
   "metadata": {},
   "outputs": [
    {
     "name": "stderr",
     "output_type": "stream",
     "text": [
      "DEBUG:graphcat:Task a updating.\n",
      "INFO:graphcat:Task a executing. Inputs: {}\n",
      "INFO:graphcat:Task a finished. Output: None\n",
      "DEBUG:graphcat:Task c updating.\n",
      "INFO:graphcat:Task c executing. Inputs: {}\n",
      "INFO:graphcat:Task c finished. Output: None\n",
      "DEBUG:graphcat:Task b updating.\n",
      "INFO:graphcat:Task b executing. Inputs: {None: [None, None]}\n",
      "INFO:graphcat:Task b finished. Output: None\n"
     ]
    },
    {
     "data": {
      "image/svg+xml": [
       "<svg height=\"81pt\" viewBox=\"0.00 0.00 84.00 81.00\" width=\"84pt\" xmlns=\"http://www.w3.org/2000/svg\" xmlns:xlink=\"http://www.w3.org/1999/xlink\">\n",
       "<g class=\"graph\" id=\"graph0\" transform=\"scale(1 1) rotate(0) translate(4 77)\">\n",
       "<title>%3</title>\n",
       "<polygon fill=\"white\" points=\"-4,4 -4,-77 80,-77 80,4 -4,4\" stroke=\"none\"/>\n",
       "<!-- a -->\n",
       "<g class=\"node\" id=\"node1\"><title>a</title>\n",
       "<polygon fill=\"#494744\" points=\"29,-73 0,-73 0,-51 29,-51 29,-73\" stroke=\"#494744\"/>\n",
       "<text fill=\"white\" font-family=\"Helvetica,sans-Serif\" font-size=\"14.00\" text-anchor=\"middle\" x=\"14.5\" y=\"-57.8\">a</text>\n",
       "</g>\n",
       "<!-- b -->\n",
       "<g class=\"node\" id=\"node2\"><title>b</title>\n",
       "<polygon fill=\"#494744\" points=\"52,-22 23,-22 23,-0 52,-0 52,-22\" stroke=\"#494744\"/>\n",
       "<text fill=\"white\" font-family=\"Helvetica,sans-Serif\" font-size=\"14.00\" text-anchor=\"middle\" x=\"37.5\" y=\"-6.8\">b</text>\n",
       "</g>\n",
       "<!-- a&#45;&gt;b -->\n",
       "<g class=\"edge\" id=\"edge1\"><title>a-&gt;b</title>\n",
       "<path d=\"M19.3777,-50.6084C22.0356,-44.9459 25.4094,-37.7582 28.5235,-31.1238\" fill=\"none\" stroke=\"#494744\"/>\n",
       "<polygon fill=\"#494744\" points=\"31.7058,-32.5811 32.7866,-22.0415 25.3692,-29.6067 31.7058,-32.5811\" stroke=\"#494744\"/>\n",
       "</g>\n",
       "<!-- c -->\n",
       "<g class=\"node\" id=\"node3\"><title>c</title>\n",
       "<polygon fill=\"#494744\" points=\"76,-73 47,-73 47,-51 76,-51 76,-73\" stroke=\"#494744\"/>\n",
       "<text fill=\"white\" font-family=\"Helvetica,sans-Serif\" font-size=\"14.00\" text-anchor=\"middle\" x=\"61.5\" y=\"-57.8\">c</text>\n",
       "</g>\n",
       "<!-- c&#45;&gt;b -->\n",
       "<g class=\"edge\" id=\"edge2\"><title>c-&gt;b</title>\n",
       "<path d=\"M56.4102,-50.6084C53.6368,-44.9459 50.1163,-37.7582 46.8668,-31.1238\" fill=\"none\" stroke=\"#494744\"/>\n",
       "<polygon fill=\"#494744\" points=\"49.9603,-29.4826 42.4183,-22.0415 43.6738,-32.5617 49.9603,-29.4826\" stroke=\"#494744\"/>\n",
       "</g>\n",
       "</g>\n",
       "</svg>"
      ],
      "text/plain": [
       "<IPython.core.display.SVG object>"
      ]
     },
     "metadata": {},
     "output_type": "display_data"
    }
   ],
   "source": [
    "graph = graphcat.Graph()\n",
    "logger = graphcat.Logger(graph)\n",
    "\n",
    "graph.add_task(\"a\")\n",
    "graph.add_task(\"b\")\n",
    "graph.add_task(\"c\")\n",
    "graph.add_links(\"a\", \"b\")\n",
    "graph.add_links(\"c\", \"b\")\n",
    "\n",
    "graph.update(\"b\")\n",
    "graphcat.notebook.display(graph)"
   ]
  },
  {
   "cell_type": "code",
   "execution_count": 5,
   "metadata": {},
   "outputs": [
    {
     "data": {
      "image/svg+xml": [
       "<svg height=\"81pt\" viewBox=\"0.00 0.00 37.00 81.00\" width=\"37pt\" xmlns=\"http://www.w3.org/2000/svg\" xmlns:xlink=\"http://www.w3.org/1999/xlink\">\n",
       "<g class=\"graph\" id=\"graph0\" transform=\"scale(1 1) rotate(0) translate(4 77)\">\n",
       "<title>%3</title>\n",
       "<polygon fill=\"white\" points=\"-4,4 -4,-77 33,-77 33,4 -4,4\" stroke=\"none\"/>\n",
       "<!-- b -->\n",
       "<g class=\"node\" id=\"node1\"><title>b</title>\n",
       "<polygon fill=\"white\" points=\"29,-22 0,-22 0,-0 29,-0 29,-22\" stroke=\"#494744\"/>\n",
       "<text fill=\"#494744\" font-family=\"Helvetica,sans-Serif\" font-size=\"14.00\" text-anchor=\"middle\" x=\"14.5\" y=\"-6.8\">b</text>\n",
       "</g>\n",
       "<!-- c -->\n",
       "<g class=\"node\" id=\"node2\"><title>c</title>\n",
       "<polygon fill=\"#494744\" points=\"29,-73 0,-73 0,-51 29,-51 29,-73\" stroke=\"#494744\"/>\n",
       "<text fill=\"white\" font-family=\"Helvetica,sans-Serif\" font-size=\"14.00\" text-anchor=\"middle\" x=\"14.5\" y=\"-57.8\">c</text>\n",
       "</g>\n",
       "<!-- c&#45;&gt;b -->\n",
       "<g class=\"edge\" id=\"edge1\"><title>c-&gt;b</title>\n",
       "<path d=\"M14.5,-50.6084C14.5,-45.2093 14.5,-38.4236 14.5,-32.0529\" fill=\"none\" stroke=\"#494744\"/>\n",
       "<polygon fill=\"#494744\" points=\"18.0001,-32.0415 14.5,-22.0415 11.0001,-32.0416 18.0001,-32.0415\" stroke=\"#494744\"/>\n",
       "</g>\n",
       "</g>\n",
       "</svg>"
      ],
      "text/plain": [
       "<IPython.core.display.SVG object>"
      ]
     },
     "metadata": {},
     "output_type": "display_data"
    },
    {
     "name": "stderr",
     "output_type": "stream",
     "text": [
      "DEBUG:graphcat:Task c updating.\n",
      "DEBUG:graphcat:Task b updating.\n",
      "INFO:graphcat:Task b executing. Inputs: {None: [None]}\n",
      "INFO:graphcat:Task b finished. Output: None\n"
     ]
    }
   ],
   "source": [
    "graph.clear_tasks(\"a\")\n",
    "\n",
    "graphcat.notebook.display(graph)\n",
    "graph.update(\"b\")"
   ]
  },
  {
   "cell_type": "markdown",
   "metadata": {},
   "source": [
    "# Removing relationships"
   ]
  },
  {
   "cell_type": "code",
   "execution_count": 6,
   "metadata": {},
   "outputs": [
    {
     "name": "stderr",
     "output_type": "stream",
     "text": [
      "DEBUG:graphcat:Task a updating.\n",
      "INFO:graphcat:Task a executing. Inputs: {}\n",
      "INFO:graphcat:Task a finished. Output: None\n",
      "DEBUG:graphcat:Task b updating.\n",
      "INFO:graphcat:Task b executing. Inputs: {None: [None]}\n",
      "INFO:graphcat:Task b finished. Output: None\n",
      "DEBUG:graphcat:Task a updating.\n",
      "DEBUG:graphcat:Task c updating.\n",
      "INFO:graphcat:Task c executing. Inputs: {None: [None]}\n",
      "INFO:graphcat:Task c finished. Output: None\n"
     ]
    },
    {
     "data": {
      "image/svg+xml": [
       "<svg height=\"81pt\" viewBox=\"0.00 0.00 84.00 81.00\" width=\"84pt\" xmlns=\"http://www.w3.org/2000/svg\" xmlns:xlink=\"http://www.w3.org/1999/xlink\">\n",
       "<g class=\"graph\" id=\"graph0\" transform=\"scale(1 1) rotate(0) translate(4 77)\">\n",
       "<title>%3</title>\n",
       "<polygon fill=\"white\" points=\"-4,4 -4,-77 80,-77 80,4 -4,4\" stroke=\"none\"/>\n",
       "<!-- a -->\n",
       "<g class=\"node\" id=\"node1\"><title>a</title>\n",
       "<polygon fill=\"#494744\" points=\"52,-73 23,-73 23,-51 52,-51 52,-73\" stroke=\"#494744\"/>\n",
       "<text fill=\"white\" font-family=\"Helvetica,sans-Serif\" font-size=\"14.00\" text-anchor=\"middle\" x=\"37.5\" y=\"-57.8\">a</text>\n",
       "</g>\n",
       "<!-- b -->\n",
       "<g class=\"node\" id=\"node2\"><title>b</title>\n",
       "<polygon fill=\"#494744\" points=\"29,-22 0,-22 0,-0 29,-0 29,-22\" stroke=\"#494744\"/>\n",
       "<text fill=\"white\" font-family=\"Helvetica,sans-Serif\" font-size=\"14.00\" text-anchor=\"middle\" x=\"14.5\" y=\"-6.8\">b</text>\n",
       "</g>\n",
       "<!-- a&#45;&gt;b -->\n",
       "<g class=\"edge\" id=\"edge1\"><title>a-&gt;b</title>\n",
       "<path d=\"M32.6223,-50.6084C29.9644,-44.9459 26.5906,-37.7582 23.4765,-31.1238\" fill=\"none\" stroke=\"#494744\"/>\n",
       "<polygon fill=\"#494744\" points=\"26.6308,-29.6067 19.2134,-22.0415 20.2942,-32.5811 26.6308,-29.6067\" stroke=\"#494744\"/>\n",
       "</g>\n",
       "<!-- c -->\n",
       "<g class=\"node\" id=\"node3\"><title>c</title>\n",
       "<polygon fill=\"#494744\" points=\"76,-22 47,-22 47,-0 76,-0 76,-22\" stroke=\"#494744\"/>\n",
       "<text fill=\"white\" font-family=\"Helvetica,sans-Serif\" font-size=\"14.00\" text-anchor=\"middle\" x=\"61.5\" y=\"-6.8\">c</text>\n",
       "</g>\n",
       "<!-- a&#45;&gt;c -->\n",
       "<g class=\"edge\" id=\"edge2\"><title>a-&gt;c</title>\n",
       "<path d=\"M42.5898,-50.6084C45.3632,-44.9459 48.8837,-37.7582 52.1332,-31.1238\" fill=\"none\" stroke=\"#494744\"/>\n",
       "<polygon fill=\"#494744\" points=\"55.3262,-32.5617 56.5817,-22.0415 49.0397,-29.4826 55.3262,-32.5617\" stroke=\"#494744\"/>\n",
       "</g>\n",
       "</g>\n",
       "</svg>"
      ],
      "text/plain": [
       "<IPython.core.display.SVG object>"
      ]
     },
     "metadata": {},
     "output_type": "display_data"
    }
   ],
   "source": [
    "graph = graphcat.Graph()\n",
    "logger = graphcat.Logger(graph)\n",
    "\n",
    "graph.add_task(\"a\")\n",
    "graph.add_task(\"b\")\n",
    "graph.add_task(\"c\")\n",
    "graph.add_links(\"a\", \"b\")\n",
    "graph.add_links(\"a\", \"c\")\n",
    "graph.update(\"b\")\n",
    "graph.update(\"c\")\n",
    "graphcat.notebook.display(graph)"
   ]
  },
  {
   "cell_type": "code",
   "execution_count": 7,
   "metadata": {},
   "outputs": [
    {
     "data": {
      "image/svg+xml": [
       "<svg height=\"81pt\" viewBox=\"0.00 0.00 84.00 81.00\" width=\"84pt\" xmlns=\"http://www.w3.org/2000/svg\" xmlns:xlink=\"http://www.w3.org/1999/xlink\">\n",
       "<g class=\"graph\" id=\"graph0\" transform=\"scale(1 1) rotate(0) translate(4 77)\">\n",
       "<title>%3</title>\n",
       "<polygon fill=\"white\" points=\"-4,4 -4,-77 80,-77 80,4 -4,4\" stroke=\"none\"/>\n",
       "<!-- a -->\n",
       "<g class=\"node\" id=\"node1\"><title>a</title>\n",
       "<polygon fill=\"white\" points=\"29,-73 0,-73 0,-51 29,-51 29,-73\" stroke=\"#494744\"/>\n",
       "<text fill=\"#494744\" font-family=\"Helvetica,sans-Serif\" font-size=\"14.00\" text-anchor=\"middle\" x=\"14.5\" y=\"-57.8\">a</text>\n",
       "</g>\n",
       "<!-- c -->\n",
       "<g class=\"node\" id=\"node2\"><title>c</title>\n",
       "<polygon fill=\"white\" points=\"29,-22 0,-22 0,-0 29,-0 29,-22\" stroke=\"#494744\"/>\n",
       "<text fill=\"#494744\" font-family=\"Helvetica,sans-Serif\" font-size=\"14.00\" text-anchor=\"middle\" x=\"14.5\" y=\"-6.8\">c</text>\n",
       "</g>\n",
       "<!-- a&#45;&gt;c -->\n",
       "<g class=\"edge\" id=\"edge1\"><title>a-&gt;c</title>\n",
       "<path d=\"M14.5,-50.6084C14.5,-45.2093 14.5,-38.4236 14.5,-32.0529\" fill=\"none\" stroke=\"#494744\"/>\n",
       "<polygon fill=\"#494744\" points=\"18.0001,-32.0415 14.5,-22.0415 11.0001,-32.0416 18.0001,-32.0415\" stroke=\"#494744\"/>\n",
       "</g>\n",
       "<!-- b -->\n",
       "<g class=\"node\" id=\"node3\"><title>b</title>\n",
       "<polygon fill=\"white\" points=\"76,-73 47,-73 47,-51 76,-51 76,-73\" stroke=\"#494744\"/>\n",
       "<text fill=\"#494744\" font-family=\"Helvetica,sans-Serif\" font-size=\"14.00\" text-anchor=\"middle\" x=\"61.5\" y=\"-57.8\">b</text>\n",
       "</g>\n",
       "</g>\n",
       "</svg>"
      ],
      "text/plain": [
       "<IPython.core.display.SVG object>"
      ]
     },
     "metadata": {},
     "output_type": "display_data"
    },
    {
     "name": "stderr",
     "output_type": "stream",
     "text": [
      "DEBUG:graphcat:Task b updating.\n",
      "INFO:graphcat:Task b executing. Inputs: {}\n",
      "INFO:graphcat:Task b finished. Output: None\n"
     ]
    }
   ],
   "source": [
    "graph.clear_links(\"a\", \"b\")\n",
    "graphcat.notebook.display(graph)\n",
    "\n",
    "graph.update(\"b\")"
   ]
  },
  {
   "cell_type": "markdown",
   "metadata": {},
   "source": [
    "# Changing functions"
   ]
  },
  {
   "cell_type": "code",
   "execution_count": 8,
   "metadata": {},
   "outputs": [
    {
     "name": "stderr",
     "output_type": "stream",
     "text": [
      "DEBUG:graphcat:Task a updating.\n",
      "INFO:graphcat:Task a executing. Inputs: {}\n",
      "INFO:graphcat:Task a finished. Output: None\n",
      "DEBUG:graphcat:Task c updating.\n",
      "INFO:graphcat:Task c executing. Inputs: {}\n",
      "INFO:graphcat:Task c finished. Output: None\n",
      "DEBUG:graphcat:Task b updating.\n",
      "INFO:graphcat:Task b executing. Inputs: {None: [None, None]}\n",
      "INFO:graphcat:Task b finished. Output: None\n"
     ]
    },
    {
     "data": {
      "image/svg+xml": [
       "<svg height=\"81pt\" viewBox=\"0.00 0.00 84.00 81.00\" width=\"84pt\" xmlns=\"http://www.w3.org/2000/svg\" xmlns:xlink=\"http://www.w3.org/1999/xlink\">\n",
       "<g class=\"graph\" id=\"graph0\" transform=\"scale(1 1) rotate(0) translate(4 77)\">\n",
       "<title>%3</title>\n",
       "<polygon fill=\"white\" points=\"-4,4 -4,-77 80,-77 80,4 -4,4\" stroke=\"none\"/>\n",
       "<!-- a -->\n",
       "<g class=\"node\" id=\"node1\"><title>a</title>\n",
       "<polygon fill=\"#494744\" points=\"29,-73 0,-73 0,-51 29,-51 29,-73\" stroke=\"#494744\"/>\n",
       "<text fill=\"white\" font-family=\"Helvetica,sans-Serif\" font-size=\"14.00\" text-anchor=\"middle\" x=\"14.5\" y=\"-57.8\">a</text>\n",
       "</g>\n",
       "<!-- b -->\n",
       "<g class=\"node\" id=\"node2\"><title>b</title>\n",
       "<polygon fill=\"#494744\" points=\"52,-22 23,-22 23,-0 52,-0 52,-22\" stroke=\"#494744\"/>\n",
       "<text fill=\"white\" font-family=\"Helvetica,sans-Serif\" font-size=\"14.00\" text-anchor=\"middle\" x=\"37.5\" y=\"-6.8\">b</text>\n",
       "</g>\n",
       "<!-- a&#45;&gt;b -->\n",
       "<g class=\"edge\" id=\"edge1\"><title>a-&gt;b</title>\n",
       "<path d=\"M19.3777,-50.6084C22.0356,-44.9459 25.4094,-37.7582 28.5235,-31.1238\" fill=\"none\" stroke=\"#494744\"/>\n",
       "<polygon fill=\"#494744\" points=\"31.7058,-32.5811 32.7866,-22.0415 25.3692,-29.6067 31.7058,-32.5811\" stroke=\"#494744\"/>\n",
       "</g>\n",
       "<!-- c -->\n",
       "<g class=\"node\" id=\"node3\"><title>c</title>\n",
       "<polygon fill=\"#494744\" points=\"76,-73 47,-73 47,-51 76,-51 76,-73\" stroke=\"#494744\"/>\n",
       "<text fill=\"white\" font-family=\"Helvetica,sans-Serif\" font-size=\"14.00\" text-anchor=\"middle\" x=\"61.5\" y=\"-57.8\">c</text>\n",
       "</g>\n",
       "<!-- c&#45;&gt;b -->\n",
       "<g class=\"edge\" id=\"edge2\"><title>c-&gt;b</title>\n",
       "<path d=\"M56.4102,-50.6084C53.6368,-44.9459 50.1163,-37.7582 46.8668,-31.1238\" fill=\"none\" stroke=\"#494744\"/>\n",
       "<polygon fill=\"#494744\" points=\"49.9603,-29.4826 42.4183,-22.0415 43.6738,-32.5617 49.9603,-29.4826\" stroke=\"#494744\"/>\n",
       "</g>\n",
       "</g>\n",
       "</svg>"
      ],
      "text/plain": [
       "<IPython.core.display.SVG object>"
      ]
     },
     "metadata": {},
     "output_type": "display_data"
    }
   ],
   "source": [
    "graph = graphcat.Graph()\n",
    "logger = graphcat.Logger(graph)\n",
    "\n",
    "graph.add_task(\"a\")\n",
    "graph.add_task(\"b\")\n",
    "graph.add_task(\"c\")\n",
    "graph.add_links(\"a\", \"b\")\n",
    "graph.add_links(\"c\", \"b\")\n",
    "graph.update(\"b\")\n",
    "graphcat.notebook.display(graph)"
   ]
  },
  {
   "cell_type": "code",
   "execution_count": 9,
   "metadata": {},
   "outputs": [
    {
     "data": {
      "image/svg+xml": [
       "<svg height=\"81pt\" viewBox=\"0.00 0.00 84.00 81.00\" width=\"84pt\" xmlns=\"http://www.w3.org/2000/svg\" xmlns:xlink=\"http://www.w3.org/1999/xlink\">\n",
       "<g class=\"graph\" id=\"graph0\" transform=\"scale(1 1) rotate(0) translate(4 77)\">\n",
       "<title>%3</title>\n",
       "<polygon fill=\"white\" points=\"-4,4 -4,-77 80,-77 80,4 -4,4\" stroke=\"none\"/>\n",
       "<!-- a -->\n",
       "<g class=\"node\" id=\"node1\"><title>a</title>\n",
       "<polygon fill=\"white\" points=\"29,-73 0,-73 0,-51 29,-51 29,-73\" stroke=\"#494744\"/>\n",
       "<text fill=\"#494744\" font-family=\"Helvetica,sans-Serif\" font-size=\"14.00\" text-anchor=\"middle\" x=\"14.5\" y=\"-57.8\">a</text>\n",
       "</g>\n",
       "<!-- b -->\n",
       "<g class=\"node\" id=\"node2\"><title>b</title>\n",
       "<polygon fill=\"white\" points=\"52,-22 23,-22 23,-0 52,-0 52,-22\" stroke=\"#494744\"/>\n",
       "<text fill=\"#494744\" font-family=\"Helvetica,sans-Serif\" font-size=\"14.00\" text-anchor=\"middle\" x=\"37.5\" y=\"-6.8\">b</text>\n",
       "</g>\n",
       "<!-- a&#45;&gt;b -->\n",
       "<g class=\"edge\" id=\"edge1\"><title>a-&gt;b</title>\n",
       "<path d=\"M19.3777,-50.6084C22.0356,-44.9459 25.4094,-37.7582 28.5235,-31.1238\" fill=\"none\" stroke=\"#494744\"/>\n",
       "<polygon fill=\"#494744\" points=\"31.7058,-32.5811 32.7866,-22.0415 25.3692,-29.6067 31.7058,-32.5811\" stroke=\"#494744\"/>\n",
       "</g>\n",
       "<!-- c -->\n",
       "<g class=\"node\" id=\"node3\"><title>c</title>\n",
       "<polygon fill=\"#494744\" points=\"76,-73 47,-73 47,-51 76,-51 76,-73\" stroke=\"#494744\"/>\n",
       "<text fill=\"white\" font-family=\"Helvetica,sans-Serif\" font-size=\"14.00\" text-anchor=\"middle\" x=\"61.5\" y=\"-57.8\">c</text>\n",
       "</g>\n",
       "<!-- c&#45;&gt;b -->\n",
       "<g class=\"edge\" id=\"edge2\"><title>c-&gt;b</title>\n",
       "<path d=\"M56.4102,-50.6084C53.6368,-44.9459 50.1163,-37.7582 46.8668,-31.1238\" fill=\"none\" stroke=\"#494744\"/>\n",
       "<polygon fill=\"#494744\" points=\"49.9603,-29.4826 42.4183,-22.0415 43.6738,-32.5617 49.9603,-29.4826\" stroke=\"#494744\"/>\n",
       "</g>\n",
       "</g>\n",
       "</svg>"
      ],
      "text/plain": [
       "<IPython.core.display.SVG object>"
      ]
     },
     "metadata": {},
     "output_type": "display_data"
    },
    {
     "name": "stderr",
     "output_type": "stream",
     "text": [
      "DEBUG:graphcat:Task a updating.\n",
      "INFO:graphcat:Task a executing. Inputs: {}\n",
      "INFO:graphcat:Task a finished. Output: None\n",
      "DEBUG:graphcat:Task c updating.\n",
      "DEBUG:graphcat:Task b updating.\n",
      "INFO:graphcat:Task b executing. Inputs: {None: [None, None]}\n",
      "INFO:graphcat:Task b finished. Output: None\n"
     ]
    }
   ],
   "source": [
    "graph.set_task(\"a\", graphcat.null)\n",
    "graphcat.notebook.display(graph)\n",
    "\n",
    "graph.update(\"b\")"
   ]
  },
  {
   "cell_type": "markdown",
   "metadata": {},
   "source": [
    "# Relabelling Tasks"
   ]
  },
  {
   "cell_type": "code",
   "execution_count": 10,
   "metadata": {},
   "outputs": [
    {
     "name": "stderr",
     "output_type": "stream",
     "text": [
      "DEBUG:graphcat:Task a updating.\n",
      "INFO:graphcat:Task a executing. Inputs: {}\n",
      "INFO:graphcat:Task a finished. Output: None\n",
      "DEBUG:graphcat:Task c updating.\n",
      "INFO:graphcat:Task c executing. Inputs: {}\n",
      "INFO:graphcat:Task c finished. Output: None\n",
      "DEBUG:graphcat:Task b updating.\n",
      "INFO:graphcat:Task b executing. Inputs: {None: [None, None]}\n",
      "INFO:graphcat:Task b finished. Output: None\n"
     ]
    },
    {
     "data": {
      "image/svg+xml": [
       "<svg height=\"81pt\" viewBox=\"0.00 0.00 84.00 81.00\" width=\"84pt\" xmlns=\"http://www.w3.org/2000/svg\" xmlns:xlink=\"http://www.w3.org/1999/xlink\">\n",
       "<g class=\"graph\" id=\"graph0\" transform=\"scale(1 1) rotate(0) translate(4 77)\">\n",
       "<title>%3</title>\n",
       "<polygon fill=\"white\" points=\"-4,4 -4,-77 80,-77 80,4 -4,4\" stroke=\"none\"/>\n",
       "<!-- a -->\n",
       "<g class=\"node\" id=\"node1\"><title>a</title>\n",
       "<polygon fill=\"#494744\" points=\"29,-73 0,-73 0,-51 29,-51 29,-73\" stroke=\"#494744\"/>\n",
       "<text fill=\"white\" font-family=\"Helvetica,sans-Serif\" font-size=\"14.00\" text-anchor=\"middle\" x=\"14.5\" y=\"-57.8\">a</text>\n",
       "</g>\n",
       "<!-- b -->\n",
       "<g class=\"node\" id=\"node2\"><title>b</title>\n",
       "<polygon fill=\"#494744\" points=\"52,-22 23,-22 23,-0 52,-0 52,-22\" stroke=\"#494744\"/>\n",
       "<text fill=\"white\" font-family=\"Helvetica,sans-Serif\" font-size=\"14.00\" text-anchor=\"middle\" x=\"37.5\" y=\"-6.8\">b</text>\n",
       "</g>\n",
       "<!-- a&#45;&gt;b -->\n",
       "<g class=\"edge\" id=\"edge1\"><title>a-&gt;b</title>\n",
       "<path d=\"M19.3777,-50.6084C22.0356,-44.9459 25.4094,-37.7582 28.5235,-31.1238\" fill=\"none\" stroke=\"#494744\"/>\n",
       "<polygon fill=\"#494744\" points=\"31.7058,-32.5811 32.7866,-22.0415 25.3692,-29.6067 31.7058,-32.5811\" stroke=\"#494744\"/>\n",
       "</g>\n",
       "<!-- c -->\n",
       "<g class=\"node\" id=\"node3\"><title>c</title>\n",
       "<polygon fill=\"#494744\" points=\"76,-73 47,-73 47,-51 76,-51 76,-73\" stroke=\"#494744\"/>\n",
       "<text fill=\"white\" font-family=\"Helvetica,sans-Serif\" font-size=\"14.00\" text-anchor=\"middle\" x=\"61.5\" y=\"-57.8\">c</text>\n",
       "</g>\n",
       "<!-- c&#45;&gt;b -->\n",
       "<g class=\"edge\" id=\"edge2\"><title>c-&gt;b</title>\n",
       "<path d=\"M56.4102,-50.6084C53.6368,-44.9459 50.1163,-37.7582 46.8668,-31.1238\" fill=\"none\" stroke=\"#494744\"/>\n",
       "<polygon fill=\"#494744\" points=\"49.9603,-29.4826 42.4183,-22.0415 43.6738,-32.5617 49.9603,-29.4826\" stroke=\"#494744\"/>\n",
       "</g>\n",
       "</g>\n",
       "</svg>"
      ],
      "text/plain": [
       "<IPython.core.display.SVG object>"
      ]
     },
     "metadata": {},
     "output_type": "display_data"
    }
   ],
   "source": [
    "graph = graphcat.Graph()\n",
    "logger = graphcat.Logger(graph)\n",
    "\n",
    "graph.add_task(\"a\")\n",
    "graph.add_task(\"b\")\n",
    "graph.add_task(\"c\")\n",
    "graph.add_links(\"a\", \"b\")\n",
    "graph.add_links(\"c\", \"b\")\n",
    "graph.update(\"b\")\n",
    "graphcat.notebook.display(graph)"
   ]
  },
  {
   "cell_type": "code",
   "execution_count": 11,
   "metadata": {},
   "outputs": [
    {
     "data": {
      "image/svg+xml": [
       "<svg height=\"81pt\" viewBox=\"0.00 0.00 84.00 81.00\" width=\"84pt\" xmlns=\"http://www.w3.org/2000/svg\" xmlns:xlink=\"http://www.w3.org/1999/xlink\">\n",
       "<g class=\"graph\" id=\"graph0\" transform=\"scale(1 1) rotate(0) translate(4 77)\">\n",
       "<title>%3</title>\n",
       "<polygon fill=\"white\" points=\"-4,4 -4,-77 80,-77 80,4 -4,4\" stroke=\"none\"/>\n",
       "<!-- a -->\n",
       "<g class=\"node\" id=\"node1\"><title>a</title>\n",
       "<polygon fill=\"#494744\" points=\"29,-73 0,-73 0,-51 29,-51 29,-73\" stroke=\"#494744\"/>\n",
       "<text fill=\"white\" font-family=\"Helvetica,sans-Serif\" font-size=\"14.00\" text-anchor=\"middle\" x=\"14.5\" y=\"-57.8\">a</text>\n",
       "</g>\n",
       "<!-- foo -->\n",
       "<g class=\"node\" id=\"node2\"><title>foo</title>\n",
       "<polygon fill=\"white\" points=\"54.4651,-22 20.5349,-22 20.5349,-0 54.4651,-0 54.4651,-22\" stroke=\"#494744\"/>\n",
       "<text fill=\"#494744\" font-family=\"Helvetica,sans-Serif\" font-size=\"14.00\" text-anchor=\"middle\" x=\"37.5\" y=\"-6.8\">foo</text>\n",
       "</g>\n",
       "<!-- a&#45;&gt;foo -->\n",
       "<g class=\"edge\" id=\"edge1\"><title>a-&gt;foo</title>\n",
       "<path d=\"M19.3777,-50.6084C22.0356,-44.9459 25.4094,-37.7582 28.5235,-31.1238\" fill=\"none\" stroke=\"#494744\"/>\n",
       "<polygon fill=\"#494744\" points=\"31.7058,-32.5811 32.7866,-22.0415 25.3692,-29.6067 31.7058,-32.5811\" stroke=\"#494744\"/>\n",
       "</g>\n",
       "<!-- c -->\n",
       "<g class=\"node\" id=\"node3\"><title>c</title>\n",
       "<polygon fill=\"#494744\" points=\"76,-73 47,-73 47,-51 76,-51 76,-73\" stroke=\"#494744\"/>\n",
       "<text fill=\"white\" font-family=\"Helvetica,sans-Serif\" font-size=\"14.00\" text-anchor=\"middle\" x=\"61.5\" y=\"-57.8\">c</text>\n",
       "</g>\n",
       "<!-- c&#45;&gt;foo -->\n",
       "<g class=\"edge\" id=\"edge2\"><title>c-&gt;foo</title>\n",
       "<path d=\"M56.4102,-50.6084C53.6368,-44.9459 50.1163,-37.7582 46.8668,-31.1238\" fill=\"none\" stroke=\"#494744\"/>\n",
       "<polygon fill=\"#494744\" points=\"49.9603,-29.4826 42.4183,-22.0415 43.6738,-32.5617 49.9603,-29.4826\" stroke=\"#494744\"/>\n",
       "</g>\n",
       "</g>\n",
       "</svg>"
      ],
      "text/plain": [
       "<IPython.core.display.SVG object>"
      ]
     },
     "metadata": {},
     "output_type": "display_data"
    }
   ],
   "source": [
    "graph.move_task(\"b\", \"foo\")\n",
    "graphcat.notebook.display(graph)"
   ]
  },
  {
   "cell_type": "code",
   "execution_count": 12,
   "metadata": {},
   "outputs": [
    {
     "name": "stderr",
     "output_type": "stream",
     "text": [
      "DEBUG:graphcat:Task a updating.\n",
      "DEBUG:graphcat:Task c updating.\n",
      "DEBUG:graphcat:Task foo updating.\n",
      "INFO:graphcat:Task foo executing. Inputs: {None: [None, None]}\n",
      "INFO:graphcat:Task foo finished. Output: None\n"
     ]
    },
    {
     "data": {
      "image/svg+xml": [
       "<svg height=\"81pt\" viewBox=\"0.00 0.00 84.00 81.00\" width=\"84pt\" xmlns=\"http://www.w3.org/2000/svg\" xmlns:xlink=\"http://www.w3.org/1999/xlink\">\n",
       "<g class=\"graph\" id=\"graph0\" transform=\"scale(1 1) rotate(0) translate(4 77)\">\n",
       "<title>%3</title>\n",
       "<polygon fill=\"white\" points=\"-4,4 -4,-77 80,-77 80,4 -4,4\" stroke=\"none\"/>\n",
       "<!-- a -->\n",
       "<g class=\"node\" id=\"node1\"><title>a</title>\n",
       "<polygon fill=\"#494744\" points=\"29,-73 0,-73 0,-51 29,-51 29,-73\" stroke=\"#494744\"/>\n",
       "<text fill=\"white\" font-family=\"Helvetica,sans-Serif\" font-size=\"14.00\" text-anchor=\"middle\" x=\"14.5\" y=\"-57.8\">a</text>\n",
       "</g>\n",
       "<!-- foo -->\n",
       "<g class=\"node\" id=\"node2\"><title>foo</title>\n",
       "<polygon fill=\"#494744\" points=\"54.4651,-22 20.5349,-22 20.5349,-0 54.4651,-0 54.4651,-22\" stroke=\"#494744\"/>\n",
       "<text fill=\"white\" font-family=\"Helvetica,sans-Serif\" font-size=\"14.00\" text-anchor=\"middle\" x=\"37.5\" y=\"-6.8\">foo</text>\n",
       "</g>\n",
       "<!-- a&#45;&gt;foo -->\n",
       "<g class=\"edge\" id=\"edge1\"><title>a-&gt;foo</title>\n",
       "<path d=\"M19.3777,-50.6084C22.0356,-44.9459 25.4094,-37.7582 28.5235,-31.1238\" fill=\"none\" stroke=\"#494744\"/>\n",
       "<polygon fill=\"#494744\" points=\"31.7058,-32.5811 32.7866,-22.0415 25.3692,-29.6067 31.7058,-32.5811\" stroke=\"#494744\"/>\n",
       "</g>\n",
       "<!-- c -->\n",
       "<g class=\"node\" id=\"node3\"><title>c</title>\n",
       "<polygon fill=\"#494744\" points=\"76,-73 47,-73 47,-51 76,-51 76,-73\" stroke=\"#494744\"/>\n",
       "<text fill=\"white\" font-family=\"Helvetica,sans-Serif\" font-size=\"14.00\" text-anchor=\"middle\" x=\"61.5\" y=\"-57.8\">c</text>\n",
       "</g>\n",
       "<!-- c&#45;&gt;foo -->\n",
       "<g class=\"edge\" id=\"edge2\"><title>c-&gt;foo</title>\n",
       "<path d=\"M56.4102,-50.6084C53.6368,-44.9459 50.1163,-37.7582 46.8668,-31.1238\" fill=\"none\" stroke=\"#494744\"/>\n",
       "<polygon fill=\"#494744\" points=\"49.9603,-29.4826 42.4183,-22.0415 43.6738,-32.5617 49.9603,-29.4826\" stroke=\"#494744\"/>\n",
       "</g>\n",
       "</g>\n",
       "</svg>"
      ],
      "text/plain": [
       "<IPython.core.display.SVG object>"
      ]
     },
     "metadata": {},
     "output_type": "display_data"
    }
   ],
   "source": [
    "graph.update(\"foo\")\n",
    "graphcat.notebook.display(graph)"
   ]
  }
 ],
 "metadata": {
  "kernelspec": {
   "display_name": "Python 3",
   "language": "python",
   "name": "python3"
  },
  "language_info": {
   "codemirror_mode": {
    "name": "ipython",
    "version": 3
   },
   "file_extension": ".py",
   "mimetype": "text/x-python",
   "name": "python",
   "nbconvert_exporter": "python",
   "pygments_lexer": "ipython3",
   "version": "3.7.7"
  }
 },
 "nbformat": 4,
 "nbformat_minor": 4
}
