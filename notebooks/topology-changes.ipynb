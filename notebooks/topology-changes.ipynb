{
 "cells": [
  {
   "cell_type": "code",
   "execution_count": 1,
   "metadata": {},
   "outputs": [],
   "source": [
    "import logging\n",
    "\n",
    "import graphcat.notebook\n",
    "\n",
    "logging.basicConfig(level=logging.DEBUG)"
   ]
  },
  {
   "cell_type": "markdown",
   "metadata": {},
   "source": [
    "# Adding relationships"
   ]
  },
  {
   "cell_type": "code",
   "execution_count": 2,
   "metadata": {},
   "outputs": [
    {
     "name": "stderr",
     "output_type": "stream",
     "text": [
      "DEBUG:graphcat.common:Task a updating.\n",
      "INFO:graphcat.common:Task a executing. Inputs: {}\n",
      "INFO:graphcat.common:Task a finished. Output: None\n",
      "DEBUG:graphcat.common:Task b updating.\n",
      "INFO:graphcat.common:Task b executing. Inputs: {None: None}\n",
      "INFO:graphcat.common:Task b finished. Output: None\n"
     ]
    },
    {
     "data": {
      "image/svg+xml": [
       "<svg height=\"22pt\" viewBox=\"0.00 0.00 95.00 22.00\" width=\"95pt\" xmlns=\"http://www.w3.org/2000/svg\" xmlns:xlink=\"http://www.w3.org/1999/xlink\">\n",
       "<g class=\"graph\" id=\"graph0\" transform=\"scale(1 1) rotate(0) translate(4 18)\">\n",
       "<title>%3</title>\n",
       "<polygon fill=\"white\" points=\"-4,4 -4,-18 91,-18 91,4 -4,4\" stroke=\"none\"/>\n",
       "<!-- a -->\n",
       "<g class=\"node\" id=\"node1\"><title>a</title>\n",
       "<polygon fill=\"#494744\" points=\"29,-14 0,-14 0,-0 29,-0 29,-14\" stroke=\"#494744\"/>\n",
       "<text fill=\"white\" font-family=\"Helvetica,sans-Serif\" font-size=\"8.00\" text-anchor=\"middle\" x=\"14.5\" y=\"-4.6\">a</text>\n",
       "</g>\n",
       "<!-- b -->\n",
       "<g class=\"node\" id=\"node2\"><title>b</title>\n",
       "<polygon fill=\"#494744\" points=\"87,-14 58,-14 58,-0 87,-0 87,-14\" stroke=\"#494744\"/>\n",
       "<text fill=\"white\" font-family=\"Helvetica,sans-Serif\" font-size=\"8.00\" text-anchor=\"middle\" x=\"72.5\" y=\"-4.6\">b</text>\n",
       "</g>\n",
       "<!-- a&#45;&gt;b -->\n",
       "<g class=\"edge\" id=\"edge1\"><title>a-&gt;b</title>\n",
       "<path d=\"M29.056,-7C34.6135,-7 41.2165,-7 47.5388,-7\" fill=\"none\" stroke=\"#494744\"/>\n",
       "<polygon fill=\"#494744\" points=\"47.6798,-10.5001 57.6798,-7 47.6797,-3.5001 47.6798,-10.5001\" stroke=\"#494744\"/>\n",
       "</g>\n",
       "</g>\n",
       "</svg>"
      ],
      "text/plain": [
       "<IPython.core.display.SVG object>"
      ]
     },
     "metadata": {},
     "output_type": "display_data"
    }
   ],
   "source": [
    "graph = graphcat.StaticGraph()\n",
    "logger = graphcat.Logger(graph)\n",
    "\n",
    "graph.add_task(\"a\")\n",
    "graph.add_task(\"b\")\n",
    "graph.add_links(\"a\", \"b\")\n",
    "\n",
    "graph.update(\"b\")\n",
    "graphcat.notebook.display(graph)"
   ]
  },
  {
   "cell_type": "code",
   "execution_count": 3,
   "metadata": {},
   "outputs": [
    {
     "data": {
      "image/svg+xml": [
       "<svg height=\"54pt\" viewBox=\"0.00 0.00 95.00 54.00\" width=\"95pt\" xmlns=\"http://www.w3.org/2000/svg\" xmlns:xlink=\"http://www.w3.org/1999/xlink\">\n",
       "<g class=\"graph\" id=\"graph0\" transform=\"scale(1 1) rotate(0) translate(4 50)\">\n",
       "<title>%3</title>\n",
       "<polygon fill=\"white\" points=\"-4,4 -4,-50 91,-50 91,4 -4,4\" stroke=\"none\"/>\n",
       "<!-- a -->\n",
       "<g class=\"node\" id=\"node1\"><title>a</title>\n",
       "<polygon fill=\"#494744\" points=\"29,-14 0,-14 0,-0 29,-0 29,-14\" stroke=\"#494744\"/>\n",
       "<text fill=\"white\" font-family=\"Helvetica,sans-Serif\" font-size=\"8.00\" text-anchor=\"middle\" x=\"14.5\" y=\"-4.6\">a</text>\n",
       "</g>\n",
       "<!-- b -->\n",
       "<g class=\"node\" id=\"node2\"><title>b</title>\n",
       "<polygon fill=\"#494744\" points=\"87,-14 58,-14 58,-0 87,-0 87,-14\" stroke=\"#494744\"/>\n",
       "<text fill=\"white\" font-family=\"Helvetica,sans-Serif\" font-size=\"8.00\" text-anchor=\"middle\" x=\"72.5\" y=\"-4.6\">b</text>\n",
       "</g>\n",
       "<!-- a&#45;&gt;b -->\n",
       "<g class=\"edge\" id=\"edge1\"><title>a-&gt;b</title>\n",
       "<path d=\"M29.056,-7C34.6135,-7 41.2165,-7 47.5388,-7\" fill=\"none\" stroke=\"#494744\"/>\n",
       "<polygon fill=\"#494744\" points=\"47.6798,-10.5001 57.6798,-7 47.6797,-3.5001 47.6798,-10.5001\" stroke=\"#494744\"/>\n",
       "</g>\n",
       "<!-- c -->\n",
       "<g class=\"node\" id=\"node3\"><title>c</title>\n",
       "<polygon fill=\"white\" points=\"29,-46 0,-46 0,-32 29,-32 29,-46\" stroke=\"#494744\"/>\n",
       "<text fill=\"#494744\" font-family=\"Helvetica,sans-Serif\" font-size=\"8.00\" text-anchor=\"middle\" x=\"14.5\" y=\"-36.6\">c</text>\n",
       "</g>\n",
       "</g>\n",
       "</svg>"
      ],
      "text/plain": [
       "<IPython.core.display.SVG object>"
      ]
     },
     "metadata": {},
     "output_type": "display_data"
    },
    {
     "data": {
      "image/svg+xml": [
       "<svg height=\"54pt\" viewBox=\"0.00 0.00 95.00 54.00\" width=\"95pt\" xmlns=\"http://www.w3.org/2000/svg\" xmlns:xlink=\"http://www.w3.org/1999/xlink\">\n",
       "<g class=\"graph\" id=\"graph0\" transform=\"scale(1 1) rotate(0) translate(4 50)\">\n",
       "<title>%3</title>\n",
       "<polygon fill=\"white\" points=\"-4,4 -4,-50 91,-50 91,4 -4,4\" stroke=\"none\"/>\n",
       "<!-- a -->\n",
       "<g class=\"node\" id=\"node1\"><title>a</title>\n",
       "<polygon fill=\"#494744\" points=\"29,-46 0,-46 0,-32 29,-32 29,-46\" stroke=\"#494744\"/>\n",
       "<text fill=\"white\" font-family=\"Helvetica,sans-Serif\" font-size=\"8.00\" text-anchor=\"middle\" x=\"14.5\" y=\"-36.6\">a</text>\n",
       "</g>\n",
       "<!-- b -->\n",
       "<g class=\"node\" id=\"node2\"><title>b</title>\n",
       "<polygon fill=\"white\" points=\"87,-30 58,-30 58,-16 87,-16 87,-30\" stroke=\"#494744\"/>\n",
       "<text fill=\"#494744\" font-family=\"Helvetica,sans-Serif\" font-size=\"8.00\" text-anchor=\"middle\" x=\"72.5\" y=\"-20.6\">b</text>\n",
       "</g>\n",
       "<!-- a&#45;&gt;b -->\n",
       "<g class=\"edge\" id=\"edge1\"><title>a-&gt;b</title>\n",
       "<path d=\"M29.056,-35.1268C34.7491,-33.5003 41.5392,-31.5602 48.0009,-29.714\" fill=\"none\" stroke=\"#494744\"/>\n",
       "<polygon fill=\"#494744\" points=\"49.0261,-33.0613 57.6798,-26.9486 47.103,-26.3306 49.0261,-33.0613\" stroke=\"#494744\"/>\n",
       "</g>\n",
       "<!-- c -->\n",
       "<g class=\"node\" id=\"node3\"><title>c</title>\n",
       "<polygon fill=\"white\" points=\"29,-14 0,-14 0,-0 29,-0 29,-14\" stroke=\"#494744\"/>\n",
       "<text fill=\"#494744\" font-family=\"Helvetica,sans-Serif\" font-size=\"8.00\" text-anchor=\"middle\" x=\"14.5\" y=\"-4.6\">c</text>\n",
       "</g>\n",
       "<!-- c&#45;&gt;b -->\n",
       "<g class=\"edge\" id=\"edge2\"><title>c-&gt;b</title>\n",
       "<path d=\"M29.056,-10.8732C34.7491,-12.4997 41.5392,-14.4398 48.0009,-16.286\" fill=\"none\" stroke=\"#494744\"/>\n",
       "<polygon fill=\"#494744\" points=\"47.103,-19.6694 57.6798,-19.0514 49.0261,-12.9387 47.103,-19.6694\" stroke=\"#494744\"/>\n",
       "</g>\n",
       "</g>\n",
       "</svg>"
      ],
      "text/plain": [
       "<IPython.core.display.SVG object>"
      ]
     },
     "metadata": {},
     "output_type": "display_data"
    },
    {
     "name": "stderr",
     "output_type": "stream",
     "text": [
      "DEBUG:graphcat.common:Task a updating.\n",
      "DEBUG:graphcat.common:Task c updating.\n",
      "INFO:graphcat.common:Task c executing. Inputs: {}\n",
      "INFO:graphcat.common:Task c finished. Output: None\n",
      "DEBUG:graphcat.common:Task b updating.\n",
      "INFO:graphcat.common:Task b executing. Inputs: {None: None, None: None}\n",
      "INFO:graphcat.common:Task b finished. Output: None\n"
     ]
    }
   ],
   "source": [
    "graph.add_task(\"c\")\n",
    "graphcat.notebook.display(graph)\n",
    "\n",
    "graph.add_links(\"c\", \"b\")\n",
    "\n",
    "graphcat.notebook.display(graph)\n",
    "graph.update(\"b\")"
   ]
  },
  {
   "cell_type": "markdown",
   "metadata": {},
   "source": [
    "# Removing tasks"
   ]
  },
  {
   "cell_type": "code",
   "execution_count": 4,
   "metadata": {},
   "outputs": [
    {
     "name": "stderr",
     "output_type": "stream",
     "text": [
      "DEBUG:graphcat.common:Task a updating.\n",
      "INFO:graphcat.common:Task a executing. Inputs: {}\n",
      "INFO:graphcat.common:Task a finished. Output: None\n",
      "DEBUG:graphcat.common:Task c updating.\n",
      "INFO:graphcat.common:Task c executing. Inputs: {}\n",
      "INFO:graphcat.common:Task c finished. Output: None\n",
      "DEBUG:graphcat.common:Task b updating.\n",
      "INFO:graphcat.common:Task b executing. Inputs: {None: None, None: None}\n",
      "INFO:graphcat.common:Task b finished. Output: None\n"
     ]
    },
    {
     "data": {
      "image/svg+xml": [
       "<svg height=\"54pt\" viewBox=\"0.00 0.00 95.00 54.00\" width=\"95pt\" xmlns=\"http://www.w3.org/2000/svg\" xmlns:xlink=\"http://www.w3.org/1999/xlink\">\n",
       "<g class=\"graph\" id=\"graph0\" transform=\"scale(1 1) rotate(0) translate(4 50)\">\n",
       "<title>%3</title>\n",
       "<polygon fill=\"white\" points=\"-4,4 -4,-50 91,-50 91,4 -4,4\" stroke=\"none\"/>\n",
       "<!-- a -->\n",
       "<g class=\"node\" id=\"node1\"><title>a</title>\n",
       "<polygon fill=\"#494744\" points=\"29,-46 0,-46 0,-32 29,-32 29,-46\" stroke=\"#494744\"/>\n",
       "<text fill=\"white\" font-family=\"Helvetica,sans-Serif\" font-size=\"8.00\" text-anchor=\"middle\" x=\"14.5\" y=\"-36.6\">a</text>\n",
       "</g>\n",
       "<!-- b -->\n",
       "<g class=\"node\" id=\"node2\"><title>b</title>\n",
       "<polygon fill=\"#494744\" points=\"87,-30 58,-30 58,-16 87,-16 87,-30\" stroke=\"#494744\"/>\n",
       "<text fill=\"white\" font-family=\"Helvetica,sans-Serif\" font-size=\"8.00\" text-anchor=\"middle\" x=\"72.5\" y=\"-20.6\">b</text>\n",
       "</g>\n",
       "<!-- a&#45;&gt;b -->\n",
       "<g class=\"edge\" id=\"edge1\"><title>a-&gt;b</title>\n",
       "<path d=\"M29.056,-35.1268C34.7491,-33.5003 41.5392,-31.5602 48.0009,-29.714\" fill=\"none\" stroke=\"#494744\"/>\n",
       "<polygon fill=\"#494744\" points=\"49.0261,-33.0613 57.6798,-26.9486 47.103,-26.3306 49.0261,-33.0613\" stroke=\"#494744\"/>\n",
       "</g>\n",
       "<!-- c -->\n",
       "<g class=\"node\" id=\"node3\"><title>c</title>\n",
       "<polygon fill=\"#494744\" points=\"29,-14 0,-14 0,-0 29,-0 29,-14\" stroke=\"#494744\"/>\n",
       "<text fill=\"white\" font-family=\"Helvetica,sans-Serif\" font-size=\"8.00\" text-anchor=\"middle\" x=\"14.5\" y=\"-4.6\">c</text>\n",
       "</g>\n",
       "<!-- c&#45;&gt;b -->\n",
       "<g class=\"edge\" id=\"edge2\"><title>c-&gt;b</title>\n",
       "<path d=\"M29.056,-10.8732C34.7491,-12.4997 41.5392,-14.4398 48.0009,-16.286\" fill=\"none\" stroke=\"#494744\"/>\n",
       "<polygon fill=\"#494744\" points=\"47.103,-19.6694 57.6798,-19.0514 49.0261,-12.9387 47.103,-19.6694\" stroke=\"#494744\"/>\n",
       "</g>\n",
       "</g>\n",
       "</svg>"
      ],
      "text/plain": [
       "<IPython.core.display.SVG object>"
      ]
     },
     "metadata": {},
     "output_type": "display_data"
    }
   ],
   "source": [
    "graph = graphcat.StaticGraph()\n",
    "logger = graphcat.Logger(graph)\n",
    "\n",
    "graph.add_task(\"a\")\n",
    "graph.add_task(\"b\")\n",
    "graph.add_task(\"c\")\n",
    "graph.add_links(\"a\", \"b\")\n",
    "graph.add_links(\"c\", \"b\")\n",
    "\n",
    "graph.update(\"b\")\n",
    "graphcat.notebook.display(graph)"
   ]
  },
  {
   "cell_type": "code",
   "execution_count": 5,
   "metadata": {},
   "outputs": [
    {
     "data": {
      "image/svg+xml": [
       "<svg height=\"22pt\" viewBox=\"0.00 0.00 95.00 22.00\" width=\"95pt\" xmlns=\"http://www.w3.org/2000/svg\" xmlns:xlink=\"http://www.w3.org/1999/xlink\">\n",
       "<g class=\"graph\" id=\"graph0\" transform=\"scale(1 1) rotate(0) translate(4 18)\">\n",
       "<title>%3</title>\n",
       "<polygon fill=\"white\" points=\"-4,4 -4,-18 91,-18 91,4 -4,4\" stroke=\"none\"/>\n",
       "<!-- b -->\n",
       "<g class=\"node\" id=\"node1\"><title>b</title>\n",
       "<polygon fill=\"white\" points=\"87,-14 58,-14 58,-0 87,-0 87,-14\" stroke=\"#494744\"/>\n",
       "<text fill=\"#494744\" font-family=\"Helvetica,sans-Serif\" font-size=\"8.00\" text-anchor=\"middle\" x=\"72.5\" y=\"-4.6\">b</text>\n",
       "</g>\n",
       "<!-- c -->\n",
       "<g class=\"node\" id=\"node2\"><title>c</title>\n",
       "<polygon fill=\"#494744\" points=\"29,-14 0,-14 0,-0 29,-0 29,-14\" stroke=\"#494744\"/>\n",
       "<text fill=\"white\" font-family=\"Helvetica,sans-Serif\" font-size=\"8.00\" text-anchor=\"middle\" x=\"14.5\" y=\"-4.6\">c</text>\n",
       "</g>\n",
       "<!-- c&#45;&gt;b -->\n",
       "<g class=\"edge\" id=\"edge1\"><title>c-&gt;b</title>\n",
       "<path d=\"M29.056,-7C34.6135,-7 41.2165,-7 47.5388,-7\" fill=\"none\" stroke=\"#494744\"/>\n",
       "<polygon fill=\"#494744\" points=\"47.6798,-10.5001 57.6798,-7 47.6797,-3.5001 47.6798,-10.5001\" stroke=\"#494744\"/>\n",
       "</g>\n",
       "</g>\n",
       "</svg>"
      ],
      "text/plain": [
       "<IPython.core.display.SVG object>"
      ]
     },
     "metadata": {},
     "output_type": "display_data"
    },
    {
     "name": "stderr",
     "output_type": "stream",
     "text": [
      "DEBUG:graphcat.common:Task c updating.\n",
      "DEBUG:graphcat.common:Task b updating.\n",
      "INFO:graphcat.common:Task b executing. Inputs: {None: None}\n",
      "INFO:graphcat.common:Task b finished. Output: None\n"
     ]
    }
   ],
   "source": [
    "graph.clear_tasks(\"a\")\n",
    "\n",
    "graphcat.notebook.display(graph)\n",
    "graph.update(\"b\")"
   ]
  },
  {
   "cell_type": "markdown",
   "metadata": {},
   "source": [
    "# Removing relationships"
   ]
  },
  {
   "cell_type": "code",
   "execution_count": 6,
   "metadata": {},
   "outputs": [
    {
     "name": "stderr",
     "output_type": "stream",
     "text": [
      "DEBUG:graphcat.common:Task a updating.\n",
      "INFO:graphcat.common:Task a executing. Inputs: {}\n",
      "INFO:graphcat.common:Task a finished. Output: None\n",
      "DEBUG:graphcat.common:Task b updating.\n",
      "INFO:graphcat.common:Task b executing. Inputs: {None: None}\n",
      "INFO:graphcat.common:Task b finished. Output: None\n",
      "DEBUG:graphcat.common:Task a updating.\n",
      "DEBUG:graphcat.common:Task c updating.\n",
      "INFO:graphcat.common:Task c executing. Inputs: {None: None}\n",
      "INFO:graphcat.common:Task c finished. Output: None\n"
     ]
    },
    {
     "data": {
      "image/svg+xml": [
       "<svg height=\"54pt\" viewBox=\"0.00 0.00 95.00 54.00\" width=\"95pt\" xmlns=\"http://www.w3.org/2000/svg\" xmlns:xlink=\"http://www.w3.org/1999/xlink\">\n",
       "<g class=\"graph\" id=\"graph0\" transform=\"scale(1 1) rotate(0) translate(4 50)\">\n",
       "<title>%3</title>\n",
       "<polygon fill=\"white\" points=\"-4,4 -4,-50 91,-50 91,4 -4,4\" stroke=\"none\"/>\n",
       "<!-- a -->\n",
       "<g class=\"node\" id=\"node1\"><title>a</title>\n",
       "<polygon fill=\"#494744\" points=\"29,-30 0,-30 0,-16 29,-16 29,-30\" stroke=\"#494744\"/>\n",
       "<text fill=\"white\" font-family=\"Helvetica,sans-Serif\" font-size=\"8.00\" text-anchor=\"middle\" x=\"14.5\" y=\"-20.6\">a</text>\n",
       "</g>\n",
       "<!-- b -->\n",
       "<g class=\"node\" id=\"node2\"><title>b</title>\n",
       "<polygon fill=\"#494744\" points=\"87,-46 58,-46 58,-32 87,-32 87,-46\" stroke=\"#494744\"/>\n",
       "<text fill=\"white\" font-family=\"Helvetica,sans-Serif\" font-size=\"8.00\" text-anchor=\"middle\" x=\"72.5\" y=\"-36.6\">b</text>\n",
       "</g>\n",
       "<!-- a&#45;&gt;b -->\n",
       "<g class=\"edge\" id=\"edge1\"><title>a-&gt;b</title>\n",
       "<path d=\"M29.056,-26.8732C34.7491,-28.4997 41.5392,-30.4398 48.0009,-32.286\" fill=\"none\" stroke=\"#494744\"/>\n",
       "<polygon fill=\"#494744\" points=\"47.103,-35.6694 57.6798,-35.0514 49.0261,-28.9387 47.103,-35.6694\" stroke=\"#494744\"/>\n",
       "</g>\n",
       "<!-- c -->\n",
       "<g class=\"node\" id=\"node3\"><title>c</title>\n",
       "<polygon fill=\"#494744\" points=\"87,-14 58,-14 58,-0 87,-0 87,-14\" stroke=\"#494744\"/>\n",
       "<text fill=\"white\" font-family=\"Helvetica,sans-Serif\" font-size=\"8.00\" text-anchor=\"middle\" x=\"72.5\" y=\"-4.6\">c</text>\n",
       "</g>\n",
       "<!-- a&#45;&gt;c -->\n",
       "<g class=\"edge\" id=\"edge2\"><title>a-&gt;c</title>\n",
       "<path d=\"M29.056,-19.1268C34.7491,-17.5003 41.5392,-15.5602 48.0009,-13.714\" fill=\"none\" stroke=\"#494744\"/>\n",
       "<polygon fill=\"#494744\" points=\"49.0261,-17.0613 57.6798,-10.9486 47.103,-10.3306 49.0261,-17.0613\" stroke=\"#494744\"/>\n",
       "</g>\n",
       "</g>\n",
       "</svg>"
      ],
      "text/plain": [
       "<IPython.core.display.SVG object>"
      ]
     },
     "metadata": {},
     "output_type": "display_data"
    }
   ],
   "source": [
    "graph = graphcat.StaticGraph()\n",
    "logger = graphcat.Logger(graph)\n",
    "\n",
    "graph.add_task(\"a\")\n",
    "graph.add_task(\"b\")\n",
    "graph.add_task(\"c\")\n",
    "graph.add_links(\"a\", \"b\")\n",
    "graph.add_links(\"a\", \"c\")\n",
    "graph.update(\"b\")\n",
    "graph.update(\"c\")\n",
    "graphcat.notebook.display(graph)"
   ]
  },
  {
   "cell_type": "code",
   "execution_count": 7,
   "metadata": {},
   "outputs": [
    {
     "data": {
      "image/svg+xml": [
       "<svg height=\"54pt\" viewBox=\"0.00 0.00 95.00 54.00\" width=\"95pt\" xmlns=\"http://www.w3.org/2000/svg\" xmlns:xlink=\"http://www.w3.org/1999/xlink\">\n",
       "<g class=\"graph\" id=\"graph0\" transform=\"scale(1 1) rotate(0) translate(4 50)\">\n",
       "<title>%3</title>\n",
       "<polygon fill=\"white\" points=\"-4,4 -4,-50 91,-50 91,4 -4,4\" stroke=\"none\"/>\n",
       "<!-- a -->\n",
       "<g class=\"node\" id=\"node1\"><title>a</title>\n",
       "<polygon fill=\"white\" points=\"29,-14 0,-14 0,-0 29,-0 29,-14\" stroke=\"#494744\"/>\n",
       "<text fill=\"#494744\" font-family=\"Helvetica,sans-Serif\" font-size=\"8.00\" text-anchor=\"middle\" x=\"14.5\" y=\"-4.6\">a</text>\n",
       "</g>\n",
       "<!-- c -->\n",
       "<g class=\"node\" id=\"node2\"><title>c</title>\n",
       "<polygon fill=\"white\" points=\"87,-14 58,-14 58,-0 87,-0 87,-14\" stroke=\"#494744\"/>\n",
       "<text fill=\"#494744\" font-family=\"Helvetica,sans-Serif\" font-size=\"8.00\" text-anchor=\"middle\" x=\"72.5\" y=\"-4.6\">c</text>\n",
       "</g>\n",
       "<!-- a&#45;&gt;c -->\n",
       "<g class=\"edge\" id=\"edge1\"><title>a-&gt;c</title>\n",
       "<path d=\"M29.056,-7C34.6135,-7 41.2165,-7 47.5388,-7\" fill=\"none\" stroke=\"#494744\"/>\n",
       "<polygon fill=\"#494744\" points=\"47.6798,-10.5001 57.6798,-7 47.6797,-3.5001 47.6798,-10.5001\" stroke=\"#494744\"/>\n",
       "</g>\n",
       "<!-- b -->\n",
       "<g class=\"node\" id=\"node3\"><title>b</title>\n",
       "<polygon fill=\"white\" points=\"29,-46 0,-46 0,-32 29,-32 29,-46\" stroke=\"#494744\"/>\n",
       "<text fill=\"#494744\" font-family=\"Helvetica,sans-Serif\" font-size=\"8.00\" text-anchor=\"middle\" x=\"14.5\" y=\"-36.6\">b</text>\n",
       "</g>\n",
       "</g>\n",
       "</svg>"
      ],
      "text/plain": [
       "<IPython.core.display.SVG object>"
      ]
     },
     "metadata": {},
     "output_type": "display_data"
    },
    {
     "name": "stderr",
     "output_type": "stream",
     "text": [
      "DEBUG:graphcat.common:Task b updating.\n",
      "INFO:graphcat.common:Task b executing. Inputs: {}\n",
      "INFO:graphcat.common:Task b finished. Output: None\n"
     ]
    }
   ],
   "source": [
    "graph.clear_links(\"a\", \"b\")\n",
    "graphcat.notebook.display(graph)\n",
    "\n",
    "graph.update(\"b\")"
   ]
  },
  {
   "cell_type": "markdown",
   "metadata": {},
   "source": [
    "# Changing functions"
   ]
  },
  {
   "cell_type": "code",
   "execution_count": 8,
   "metadata": {},
   "outputs": [
    {
     "name": "stderr",
     "output_type": "stream",
     "text": [
      "DEBUG:graphcat.common:Task a updating.\n",
      "INFO:graphcat.common:Task a executing. Inputs: {}\n",
      "INFO:graphcat.common:Task a finished. Output: None\n",
      "DEBUG:graphcat.common:Task c updating.\n",
      "INFO:graphcat.common:Task c executing. Inputs: {}\n",
      "INFO:graphcat.common:Task c finished. Output: None\n",
      "DEBUG:graphcat.common:Task b updating.\n",
      "INFO:graphcat.common:Task b executing. Inputs: {None: None, None: None}\n",
      "INFO:graphcat.common:Task b finished. Output: None\n"
     ]
    },
    {
     "data": {
      "image/svg+xml": [
       "<svg height=\"54pt\" viewBox=\"0.00 0.00 95.00 54.00\" width=\"95pt\" xmlns=\"http://www.w3.org/2000/svg\" xmlns:xlink=\"http://www.w3.org/1999/xlink\">\n",
       "<g class=\"graph\" id=\"graph0\" transform=\"scale(1 1) rotate(0) translate(4 50)\">\n",
       "<title>%3</title>\n",
       "<polygon fill=\"white\" points=\"-4,4 -4,-50 91,-50 91,4 -4,4\" stroke=\"none\"/>\n",
       "<!-- a -->\n",
       "<g class=\"node\" id=\"node1\"><title>a</title>\n",
       "<polygon fill=\"#494744\" points=\"29,-46 0,-46 0,-32 29,-32 29,-46\" stroke=\"#494744\"/>\n",
       "<text fill=\"white\" font-family=\"Helvetica,sans-Serif\" font-size=\"8.00\" text-anchor=\"middle\" x=\"14.5\" y=\"-36.6\">a</text>\n",
       "</g>\n",
       "<!-- b -->\n",
       "<g class=\"node\" id=\"node2\"><title>b</title>\n",
       "<polygon fill=\"#494744\" points=\"87,-30 58,-30 58,-16 87,-16 87,-30\" stroke=\"#494744\"/>\n",
       "<text fill=\"white\" font-family=\"Helvetica,sans-Serif\" font-size=\"8.00\" text-anchor=\"middle\" x=\"72.5\" y=\"-20.6\">b</text>\n",
       "</g>\n",
       "<!-- a&#45;&gt;b -->\n",
       "<g class=\"edge\" id=\"edge1\"><title>a-&gt;b</title>\n",
       "<path d=\"M29.056,-35.1268C34.7491,-33.5003 41.5392,-31.5602 48.0009,-29.714\" fill=\"none\" stroke=\"#494744\"/>\n",
       "<polygon fill=\"#494744\" points=\"49.0261,-33.0613 57.6798,-26.9486 47.103,-26.3306 49.0261,-33.0613\" stroke=\"#494744\"/>\n",
       "</g>\n",
       "<!-- c -->\n",
       "<g class=\"node\" id=\"node3\"><title>c</title>\n",
       "<polygon fill=\"#494744\" points=\"29,-14 0,-14 0,-0 29,-0 29,-14\" stroke=\"#494744\"/>\n",
       "<text fill=\"white\" font-family=\"Helvetica,sans-Serif\" font-size=\"8.00\" text-anchor=\"middle\" x=\"14.5\" y=\"-4.6\">c</text>\n",
       "</g>\n",
       "<!-- c&#45;&gt;b -->\n",
       "<g class=\"edge\" id=\"edge2\"><title>c-&gt;b</title>\n",
       "<path d=\"M29.056,-10.8732C34.7491,-12.4997 41.5392,-14.4398 48.0009,-16.286\" fill=\"none\" stroke=\"#494744\"/>\n",
       "<polygon fill=\"#494744\" points=\"47.103,-19.6694 57.6798,-19.0514 49.0261,-12.9387 47.103,-19.6694\" stroke=\"#494744\"/>\n",
       "</g>\n",
       "</g>\n",
       "</svg>"
      ],
      "text/plain": [
       "<IPython.core.display.SVG object>"
      ]
     },
     "metadata": {},
     "output_type": "display_data"
    }
   ],
   "source": [
    "graph = graphcat.StaticGraph()\n",
    "logger = graphcat.Logger(graph)\n",
    "\n",
    "graph.add_task(\"a\")\n",
    "graph.add_task(\"b\")\n",
    "graph.add_task(\"c\")\n",
    "graph.add_links(\"a\", \"b\")\n",
    "graph.add_links(\"c\", \"b\")\n",
    "graph.update(\"b\")\n",
    "graphcat.notebook.display(graph)"
   ]
  },
  {
   "cell_type": "code",
   "execution_count": 9,
   "metadata": {},
   "outputs": [
    {
     "data": {
      "image/svg+xml": [
       "<svg height=\"54pt\" viewBox=\"0.00 0.00 95.00 54.00\" width=\"95pt\" xmlns=\"http://www.w3.org/2000/svg\" xmlns:xlink=\"http://www.w3.org/1999/xlink\">\n",
       "<g class=\"graph\" id=\"graph0\" transform=\"scale(1 1) rotate(0) translate(4 50)\">\n",
       "<title>%3</title>\n",
       "<polygon fill=\"white\" points=\"-4,4 -4,-50 91,-50 91,4 -4,4\" stroke=\"none\"/>\n",
       "<!-- a -->\n",
       "<g class=\"node\" id=\"node1\"><title>a</title>\n",
       "<polygon fill=\"white\" points=\"29,-46 0,-46 0,-32 29,-32 29,-46\" stroke=\"#494744\"/>\n",
       "<text fill=\"#494744\" font-family=\"Helvetica,sans-Serif\" font-size=\"8.00\" text-anchor=\"middle\" x=\"14.5\" y=\"-36.6\">a</text>\n",
       "</g>\n",
       "<!-- b -->\n",
       "<g class=\"node\" id=\"node2\"><title>b</title>\n",
       "<polygon fill=\"white\" points=\"87,-30 58,-30 58,-16 87,-16 87,-30\" stroke=\"#494744\"/>\n",
       "<text fill=\"#494744\" font-family=\"Helvetica,sans-Serif\" font-size=\"8.00\" text-anchor=\"middle\" x=\"72.5\" y=\"-20.6\">b</text>\n",
       "</g>\n",
       "<!-- a&#45;&gt;b -->\n",
       "<g class=\"edge\" id=\"edge1\"><title>a-&gt;b</title>\n",
       "<path d=\"M29.056,-35.1268C34.7491,-33.5003 41.5392,-31.5602 48.0009,-29.714\" fill=\"none\" stroke=\"#494744\"/>\n",
       "<polygon fill=\"#494744\" points=\"49.0261,-33.0613 57.6798,-26.9486 47.103,-26.3306 49.0261,-33.0613\" stroke=\"#494744\"/>\n",
       "</g>\n",
       "<!-- c -->\n",
       "<g class=\"node\" id=\"node3\"><title>c</title>\n",
       "<polygon fill=\"#494744\" points=\"29,-14 0,-14 0,-0 29,-0 29,-14\" stroke=\"#494744\"/>\n",
       "<text fill=\"white\" font-family=\"Helvetica,sans-Serif\" font-size=\"8.00\" text-anchor=\"middle\" x=\"14.5\" y=\"-4.6\">c</text>\n",
       "</g>\n",
       "<!-- c&#45;&gt;b -->\n",
       "<g class=\"edge\" id=\"edge2\"><title>c-&gt;b</title>\n",
       "<path d=\"M29.056,-10.8732C34.7491,-12.4997 41.5392,-14.4398 48.0009,-16.286\" fill=\"none\" stroke=\"#494744\"/>\n",
       "<polygon fill=\"#494744\" points=\"47.103,-19.6694 57.6798,-19.0514 49.0261,-12.9387 47.103,-19.6694\" stroke=\"#494744\"/>\n",
       "</g>\n",
       "</g>\n",
       "</svg>"
      ],
      "text/plain": [
       "<IPython.core.display.SVG object>"
      ]
     },
     "metadata": {},
     "output_type": "display_data"
    },
    {
     "name": "stderr",
     "output_type": "stream",
     "text": [
      "DEBUG:graphcat.common:Task a updating.\n",
      "INFO:graphcat.common:Task a executing. Inputs: {}\n",
      "INFO:graphcat.common:Task a finished. Output: None\n",
      "DEBUG:graphcat.common:Task c updating.\n",
      "DEBUG:graphcat.common:Task b updating.\n",
      "INFO:graphcat.common:Task b executing. Inputs: {None: None, None: None}\n",
      "INFO:graphcat.common:Task b finished. Output: None\n"
     ]
    }
   ],
   "source": [
    "graph.set_task(\"a\", graphcat.null)\n",
    "graphcat.notebook.display(graph)\n",
    "\n",
    "graph.update(\"b\")"
   ]
  },
  {
   "cell_type": "markdown",
   "metadata": {},
   "source": [
    "# Renaming Tasks"
   ]
  },
  {
   "cell_type": "code",
   "execution_count": 10,
   "metadata": {},
   "outputs": [
    {
     "name": "stderr",
     "output_type": "stream",
     "text": [
      "DEBUG:graphcat.common:Task a updating.\n",
      "INFO:graphcat.common:Task a executing. Inputs: {}\n",
      "INFO:graphcat.common:Task a finished. Output: None\n",
      "DEBUG:graphcat.common:Task c updating.\n",
      "INFO:graphcat.common:Task c executing. Inputs: {}\n",
      "INFO:graphcat.common:Task c finished. Output: None\n",
      "DEBUG:graphcat.common:Task b updating.\n",
      "INFO:graphcat.common:Task b executing. Inputs: {None: None, None: None}\n",
      "INFO:graphcat.common:Task b finished. Output: None\n"
     ]
    },
    {
     "data": {
      "image/svg+xml": [
       "<svg height=\"54pt\" viewBox=\"0.00 0.00 95.00 54.00\" width=\"95pt\" xmlns=\"http://www.w3.org/2000/svg\" xmlns:xlink=\"http://www.w3.org/1999/xlink\">\n",
       "<g class=\"graph\" id=\"graph0\" transform=\"scale(1 1) rotate(0) translate(4 50)\">\n",
       "<title>%3</title>\n",
       "<polygon fill=\"white\" points=\"-4,4 -4,-50 91,-50 91,4 -4,4\" stroke=\"none\"/>\n",
       "<!-- a -->\n",
       "<g class=\"node\" id=\"node1\"><title>a</title>\n",
       "<polygon fill=\"#494744\" points=\"29,-46 0,-46 0,-32 29,-32 29,-46\" stroke=\"#494744\"/>\n",
       "<text fill=\"white\" font-family=\"Helvetica,sans-Serif\" font-size=\"8.00\" text-anchor=\"middle\" x=\"14.5\" y=\"-36.6\">a</text>\n",
       "</g>\n",
       "<!-- b -->\n",
       "<g class=\"node\" id=\"node2\"><title>b</title>\n",
       "<polygon fill=\"#494744\" points=\"87,-30 58,-30 58,-16 87,-16 87,-30\" stroke=\"#494744\"/>\n",
       "<text fill=\"white\" font-family=\"Helvetica,sans-Serif\" font-size=\"8.00\" text-anchor=\"middle\" x=\"72.5\" y=\"-20.6\">b</text>\n",
       "</g>\n",
       "<!-- a&#45;&gt;b -->\n",
       "<g class=\"edge\" id=\"edge1\"><title>a-&gt;b</title>\n",
       "<path d=\"M29.056,-35.1268C34.7491,-33.5003 41.5392,-31.5602 48.0009,-29.714\" fill=\"none\" stroke=\"#494744\"/>\n",
       "<polygon fill=\"#494744\" points=\"49.0261,-33.0613 57.6798,-26.9486 47.103,-26.3306 49.0261,-33.0613\" stroke=\"#494744\"/>\n",
       "</g>\n",
       "<!-- c -->\n",
       "<g class=\"node\" id=\"node3\"><title>c</title>\n",
       "<polygon fill=\"#494744\" points=\"29,-14 0,-14 0,-0 29,-0 29,-14\" stroke=\"#494744\"/>\n",
       "<text fill=\"white\" font-family=\"Helvetica,sans-Serif\" font-size=\"8.00\" text-anchor=\"middle\" x=\"14.5\" y=\"-4.6\">c</text>\n",
       "</g>\n",
       "<!-- c&#45;&gt;b -->\n",
       "<g class=\"edge\" id=\"edge2\"><title>c-&gt;b</title>\n",
       "<path d=\"M29.056,-10.8732C34.7491,-12.4997 41.5392,-14.4398 48.0009,-16.286\" fill=\"none\" stroke=\"#494744\"/>\n",
       "<polygon fill=\"#494744\" points=\"47.103,-19.6694 57.6798,-19.0514 49.0261,-12.9387 47.103,-19.6694\" stroke=\"#494744\"/>\n",
       "</g>\n",
       "</g>\n",
       "</svg>"
      ],
      "text/plain": [
       "<IPython.core.display.SVG object>"
      ]
     },
     "metadata": {},
     "output_type": "display_data"
    }
   ],
   "source": [
    "graph = graphcat.StaticGraph()\n",
    "logger = graphcat.Logger(graph)\n",
    "\n",
    "graph.add_task(\"a\")\n",
    "graph.add_task(\"b\")\n",
    "graph.add_task(\"c\")\n",
    "graph.add_links(\"a\", \"b\")\n",
    "graph.add_links(\"c\", \"b\")\n",
    "graph.update(\"b\")\n",
    "graphcat.notebook.display(graph)"
   ]
  },
  {
   "cell_type": "code",
   "execution_count": 11,
   "metadata": {},
   "outputs": [
    {
     "data": {
      "image/svg+xml": [
       "<svg height=\"54pt\" viewBox=\"0.00 0.00 95.00 54.00\" width=\"95pt\" xmlns=\"http://www.w3.org/2000/svg\" xmlns:xlink=\"http://www.w3.org/1999/xlink\">\n",
       "<g class=\"graph\" id=\"graph0\" transform=\"scale(1 1) rotate(0) translate(4 50)\">\n",
       "<title>%3</title>\n",
       "<polygon fill=\"white\" points=\"-4,4 -4,-50 91,-50 91,4 -4,4\" stroke=\"none\"/>\n",
       "<!-- a -->\n",
       "<g class=\"node\" id=\"node1\"><title>a</title>\n",
       "<polygon fill=\"#494744\" points=\"29,-46 0,-46 0,-32 29,-32 29,-46\" stroke=\"#494744\"/>\n",
       "<text fill=\"white\" font-family=\"Helvetica,sans-Serif\" font-size=\"8.00\" text-anchor=\"middle\" x=\"14.5\" y=\"-36.6\">a</text>\n",
       "</g>\n",
       "<!-- foo -->\n",
       "<g class=\"node\" id=\"node2\"><title>foo</title>\n",
       "<polygon fill=\"white\" points=\"87,-30 58,-30 58,-16 87,-16 87,-30\" stroke=\"#494744\"/>\n",
       "<text fill=\"#494744\" font-family=\"Helvetica,sans-Serif\" font-size=\"8.00\" text-anchor=\"middle\" x=\"72.5\" y=\"-20.6\">foo</text>\n",
       "</g>\n",
       "<!-- a&#45;&gt;foo -->\n",
       "<g class=\"edge\" id=\"edge1\"><title>a-&gt;foo</title>\n",
       "<path d=\"M29.056,-35.1268C34.7491,-33.5003 41.5392,-31.5602 48.0009,-29.714\" fill=\"none\" stroke=\"#494744\"/>\n",
       "<polygon fill=\"#494744\" points=\"49.0261,-33.0613 57.6798,-26.9486 47.103,-26.3306 49.0261,-33.0613\" stroke=\"#494744\"/>\n",
       "</g>\n",
       "<!-- c -->\n",
       "<g class=\"node\" id=\"node3\"><title>c</title>\n",
       "<polygon fill=\"#494744\" points=\"29,-14 0,-14 0,-0 29,-0 29,-14\" stroke=\"#494744\"/>\n",
       "<text fill=\"white\" font-family=\"Helvetica,sans-Serif\" font-size=\"8.00\" text-anchor=\"middle\" x=\"14.5\" y=\"-4.6\">c</text>\n",
       "</g>\n",
       "<!-- c&#45;&gt;foo -->\n",
       "<g class=\"edge\" id=\"edge2\"><title>c-&gt;foo</title>\n",
       "<path d=\"M29.056,-10.8732C34.7491,-12.4997 41.5392,-14.4398 48.0009,-16.286\" fill=\"none\" stroke=\"#494744\"/>\n",
       "<polygon fill=\"#494744\" points=\"47.103,-19.6694 57.6798,-19.0514 49.0261,-12.9387 47.103,-19.6694\" stroke=\"#494744\"/>\n",
       "</g>\n",
       "</g>\n",
       "</svg>"
      ],
      "text/plain": [
       "<IPython.core.display.SVG object>"
      ]
     },
     "metadata": {},
     "output_type": "display_data"
    }
   ],
   "source": [
    "graph.rename_task(\"b\", \"foo\")\n",
    "graphcat.notebook.display(graph)"
   ]
  },
  {
   "cell_type": "code",
   "execution_count": 12,
   "metadata": {},
   "outputs": [
    {
     "name": "stderr",
     "output_type": "stream",
     "text": [
      "DEBUG:graphcat.common:Task a updating.\n",
      "DEBUG:graphcat.common:Task c updating.\n",
      "DEBUG:graphcat.common:Task foo updating.\n",
      "INFO:graphcat.common:Task foo executing. Inputs: {None: None, None: None}\n",
      "INFO:graphcat.common:Task foo finished. Output: None\n"
     ]
    },
    {
     "data": {
      "image/svg+xml": [
       "<svg height=\"54pt\" viewBox=\"0.00 0.00 95.00 54.00\" width=\"95pt\" xmlns=\"http://www.w3.org/2000/svg\" xmlns:xlink=\"http://www.w3.org/1999/xlink\">\n",
       "<g class=\"graph\" id=\"graph0\" transform=\"scale(1 1) rotate(0) translate(4 50)\">\n",
       "<title>%3</title>\n",
       "<polygon fill=\"white\" points=\"-4,4 -4,-50 91,-50 91,4 -4,4\" stroke=\"none\"/>\n",
       "<!-- a -->\n",
       "<g class=\"node\" id=\"node1\"><title>a</title>\n",
       "<polygon fill=\"#494744\" points=\"29,-46 0,-46 0,-32 29,-32 29,-46\" stroke=\"#494744\"/>\n",
       "<text fill=\"white\" font-family=\"Helvetica,sans-Serif\" font-size=\"8.00\" text-anchor=\"middle\" x=\"14.5\" y=\"-36.6\">a</text>\n",
       "</g>\n",
       "<!-- foo -->\n",
       "<g class=\"node\" id=\"node2\"><title>foo</title>\n",
       "<polygon fill=\"#494744\" points=\"87,-30 58,-30 58,-16 87,-16 87,-30\" stroke=\"#494744\"/>\n",
       "<text fill=\"white\" font-family=\"Helvetica,sans-Serif\" font-size=\"8.00\" text-anchor=\"middle\" x=\"72.5\" y=\"-20.6\">foo</text>\n",
       "</g>\n",
       "<!-- a&#45;&gt;foo -->\n",
       "<g class=\"edge\" id=\"edge1\"><title>a-&gt;foo</title>\n",
       "<path d=\"M29.056,-35.1268C34.7491,-33.5003 41.5392,-31.5602 48.0009,-29.714\" fill=\"none\" stroke=\"#494744\"/>\n",
       "<polygon fill=\"#494744\" points=\"49.0261,-33.0613 57.6798,-26.9486 47.103,-26.3306 49.0261,-33.0613\" stroke=\"#494744\"/>\n",
       "</g>\n",
       "<!-- c -->\n",
       "<g class=\"node\" id=\"node3\"><title>c</title>\n",
       "<polygon fill=\"#494744\" points=\"29,-14 0,-14 0,-0 29,-0 29,-14\" stroke=\"#494744\"/>\n",
       "<text fill=\"white\" font-family=\"Helvetica,sans-Serif\" font-size=\"8.00\" text-anchor=\"middle\" x=\"14.5\" y=\"-4.6\">c</text>\n",
       "</g>\n",
       "<!-- c&#45;&gt;foo -->\n",
       "<g class=\"edge\" id=\"edge2\"><title>c-&gt;foo</title>\n",
       "<path d=\"M29.056,-10.8732C34.7491,-12.4997 41.5392,-14.4398 48.0009,-16.286\" fill=\"none\" stroke=\"#494744\"/>\n",
       "<polygon fill=\"#494744\" points=\"47.103,-19.6694 57.6798,-19.0514 49.0261,-12.9387 47.103,-19.6694\" stroke=\"#494744\"/>\n",
       "</g>\n",
       "</g>\n",
       "</svg>"
      ],
      "text/plain": [
       "<IPython.core.display.SVG object>"
      ]
     },
     "metadata": {},
     "output_type": "display_data"
    }
   ],
   "source": [
    "graph.update(\"foo\")\n",
    "graphcat.notebook.display(graph)"
   ]
  }
 ],
 "metadata": {
  "kernelspec": {
   "display_name": "Python 3",
   "language": "python",
   "name": "python3"
  },
  "language_info": {
   "codemirror_mode": {
    "name": "ipython",
    "version": 3
   },
   "file_extension": ".py",
   "mimetype": "text/x-python",
   "name": "python",
   "nbconvert_exporter": "python",
   "pygments_lexer": "ipython3",
   "version": "3.7.7"
  }
 },
 "nbformat": 4,
 "nbformat_minor": 4
}
