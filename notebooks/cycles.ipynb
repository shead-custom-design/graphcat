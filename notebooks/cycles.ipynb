{
 "cells": [
  {
   "cell_type": "code",
   "execution_count": 1,
   "metadata": {},
   "outputs": [],
   "source": [
    "import logging\n",
    "\n",
    "import graphcat.notebook\n",
    "\n",
    "logging.basicConfig(level=logging.DEBUG)"
   ]
  },
  {
   "cell_type": "code",
   "execution_count": 2,
   "metadata": {},
   "outputs": [
    {
     "name": "stderr",
     "output_type": "stream",
     "text": [
      "DEBUG:graphcat:Task foo updating.\n",
      "INFO:graphcat:Task foo executing. Inputs: {None: [None]}\n",
      "INFO:graphcat:Task foo finished. Output: foo\n",
      "DEBUG:graphcat:Task bar updating.\n",
      "INFO:graphcat:Task bar executing. Inputs: {None: ['foo']}\n",
      "INFO:graphcat:Task bar finished. Output: bar\n",
      "DEBUG:graphcat:Task baz updating.\n",
      "INFO:graphcat:Task baz executing. Inputs: {None: ['bar']}\n",
      "INFO:graphcat:Task baz finished. Output: baz\n"
     ]
    },
    {
     "data": {
      "image/svg+xml": [
       "<svg height=\"40pt\" viewBox=\"0.00 0.00 153.00 40.00\" width=\"153pt\" xmlns=\"http://www.w3.org/2000/svg\" xmlns:xlink=\"http://www.w3.org/1999/xlink\">\n",
       "<g class=\"graph\" id=\"graph0\" transform=\"scale(1 1) rotate(0) translate(4 36)\">\n",
       "<title>%3</title>\n",
       "<polygon fill=\"white\" points=\"-4,4 -4,-36 149,-36 149,4 -4,4\" stroke=\"none\"/>\n",
       "<!-- foo -->\n",
       "<g class=\"node\" id=\"node1\"><title>foo</title>\n",
       "<polygon fill=\"#494744\" points=\"29,-14 0,-14 0,-0 29,-0 29,-14\" stroke=\"#494744\"/>\n",
       "<text fill=\"white\" font-family=\"Helvetica,sans-Serif\" font-size=\"8.00\" text-anchor=\"middle\" x=\"14.5\" y=\"-4.6\">foo</text>\n",
       "</g>\n",
       "<!-- bar -->\n",
       "<g class=\"node\" id=\"node2\"><title>bar</title>\n",
       "<polygon fill=\"#494744\" points=\"87,-32 58,-32 58,-18 87,-18 87,-32\" stroke=\"#494744\"/>\n",
       "<text fill=\"white\" font-family=\"Helvetica,sans-Serif\" font-size=\"8.00\" text-anchor=\"middle\" x=\"72.5\" y=\"-22.6\">bar</text>\n",
       "</g>\n",
       "<!-- foo&#45;&gt;bar -->\n",
       "<g class=\"edge\" id=\"edge1\"><title>foo-&gt;bar</title>\n",
       "<path d=\"M29.056,-11.3573C34.7491,-13.1872 41.5392,-15.3697 48.0009,-17.4467\" fill=\"none\" stroke=\"#494744\"/>\n",
       "<polygon fill=\"#494744\" points=\"47.0884,-20.8297 57.6798,-20.5578 49.2305,-14.1655 47.0884,-20.8297\" stroke=\"#494744\"/>\n",
       "</g>\n",
       "<!-- baz -->\n",
       "<g class=\"node\" id=\"node3\"><title>baz</title>\n",
       "<polygon fill=\"#494744\" points=\"145,-14 116,-14 116,-0 145,-0 145,-14\" stroke=\"#494744\"/>\n",
       "<text fill=\"white\" font-family=\"Helvetica,sans-Serif\" font-size=\"8.00\" text-anchor=\"middle\" x=\"130.5\" y=\"-4.6\">baz</text>\n",
       "</g>\n",
       "<!-- bar&#45;&gt;baz -->\n",
       "<g class=\"edge\" id=\"edge2\"><title>bar-&gt;baz</title>\n",
       "<path d=\"M87.056,-20.6427C92.7491,-18.8128 99.5392,-16.6303 106.001,-14.5533\" fill=\"none\" stroke=\"#494744\"/>\n",
       "<polygon fill=\"#494744\" points=\"107.231,-17.8345 115.68,-11.4422 105.088,-11.1703 107.231,-17.8345\" stroke=\"#494744\"/>\n",
       "</g>\n",
       "<!-- baz&#45;&gt;foo -->\n",
       "<g class=\"edge\" id=\"edge3\"><title>baz-&gt;foo</title>\n",
       "<path d=\"M115.993,-7C97.0618,-7 62.3543,-7 39.1022,-7\" fill=\"none\" stroke=\"#494744\"/>\n",
       "<polygon fill=\"#494744\" points=\"39.025,-3.5001 29.025,-7 39.0249,-10.5001 39.025,-3.5001\" stroke=\"#494744\"/>\n",
       "</g>\n",
       "</g>\n",
       "</svg>"
      ],
      "text/plain": [
       "<IPython.core.display.SVG object>"
      ]
     },
     "metadata": {},
     "output_type": "display_data"
    }
   ],
   "source": [
    "graph = graphcat.StaticGraph()\n",
    "logger = graphcat.Logger(graph)\n",
    "\n",
    "graph.set_task(\"foo\", graphcat.constant(\"foo\"))\n",
    "graph.set_task(\"bar\", graphcat.constant(\"bar\"))\n",
    "graph.set_task(\"baz\", graphcat.constant(\"baz\"))\n",
    "\n",
    "graph.set_links(\"foo\", \"bar\")\n",
    "graph.set_links(\"bar\", \"baz\")\n",
    "graph.set_links(\"baz\", \"foo\")\n",
    "\n",
    "graph.update(\"baz\")\n",
    "graphcat.notebook.display(graph)"
   ]
  },
  {
   "cell_type": "code",
   "execution_count": 3,
   "metadata": {},
   "outputs": [
    {
     "data": {
      "image/svg+xml": [
       "<svg height=\"40pt\" viewBox=\"0.00 0.00 153.00 40.00\" width=\"153pt\" xmlns=\"http://www.w3.org/2000/svg\" xmlns:xlink=\"http://www.w3.org/1999/xlink\">\n",
       "<g class=\"graph\" id=\"graph0\" transform=\"scale(1 1) rotate(0) translate(4 36)\">\n",
       "<title>%3</title>\n",
       "<polygon fill=\"white\" points=\"-4,4 -4,-36 149,-36 149,4 -4,4\" stroke=\"none\"/>\n",
       "<!-- foo -->\n",
       "<g class=\"node\" id=\"node1\"><title>foo</title>\n",
       "<polygon fill=\"white\" points=\"29,-14 0,-14 0,-0 29,-0 29,-14\" stroke=\"#494744\"/>\n",
       "<text fill=\"#494744\" font-family=\"Helvetica,sans-Serif\" font-size=\"8.00\" text-anchor=\"middle\" x=\"14.5\" y=\"-4.6\">foo</text>\n",
       "</g>\n",
       "<!-- bar -->\n",
       "<g class=\"node\" id=\"node2\"><title>bar</title>\n",
       "<polygon fill=\"white\" points=\"87,-32 58,-32 58,-18 87,-18 87,-32\" stroke=\"#494744\"/>\n",
       "<text fill=\"#494744\" font-family=\"Helvetica,sans-Serif\" font-size=\"8.00\" text-anchor=\"middle\" x=\"72.5\" y=\"-22.6\">bar</text>\n",
       "</g>\n",
       "<!-- foo&#45;&gt;bar -->\n",
       "<g class=\"edge\" id=\"edge1\"><title>foo-&gt;bar</title>\n",
       "<path d=\"M29.056,-11.3573C34.7491,-13.1872 41.5392,-15.3697 48.0009,-17.4467\" fill=\"none\" stroke=\"#494744\"/>\n",
       "<polygon fill=\"#494744\" points=\"47.0884,-20.8297 57.6798,-20.5578 49.2305,-14.1655 47.0884,-20.8297\" stroke=\"#494744\"/>\n",
       "</g>\n",
       "<!-- baz -->\n",
       "<g class=\"node\" id=\"node3\"><title>baz</title>\n",
       "<polygon fill=\"white\" points=\"145,-14 116,-14 116,-0 145,-0 145,-14\" stroke=\"#494744\"/>\n",
       "<text fill=\"#494744\" font-family=\"Helvetica,sans-Serif\" font-size=\"8.00\" text-anchor=\"middle\" x=\"130.5\" y=\"-4.6\">baz</text>\n",
       "</g>\n",
       "<!-- bar&#45;&gt;baz -->\n",
       "<g class=\"edge\" id=\"edge2\"><title>bar-&gt;baz</title>\n",
       "<path d=\"M87.056,-20.6427C92.7491,-18.8128 99.5392,-16.6303 106.001,-14.5533\" fill=\"none\" stroke=\"#494744\"/>\n",
       "<polygon fill=\"#494744\" points=\"107.231,-17.8345 115.68,-11.4422 105.088,-11.1703 107.231,-17.8345\" stroke=\"#494744\"/>\n",
       "</g>\n",
       "<!-- baz&#45;&gt;foo -->\n",
       "<g class=\"edge\" id=\"edge3\"><title>baz-&gt;foo</title>\n",
       "<path d=\"M115.993,-7C97.0618,-7 62.3543,-7 39.1022,-7\" fill=\"none\" stroke=\"#494744\"/>\n",
       "<polygon fill=\"#494744\" points=\"39.025,-3.5001 29.025,-7 39.0249,-10.5001 39.025,-3.5001\" stroke=\"#494744\"/>\n",
       "</g>\n",
       "</g>\n",
       "</svg>"
      ],
      "text/plain": [
       "<IPython.core.display.SVG object>"
      ]
     },
     "metadata": {},
     "output_type": "display_data"
    }
   ],
   "source": [
    "graph.mark_unfinished(\"foo\")\n",
    "graphcat.notebook.display(graph)"
   ]
  },
  {
   "cell_type": "code",
   "execution_count": 4,
   "metadata": {},
   "outputs": [
    {
     "name": "stderr",
     "output_type": "stream",
     "text": [
      "DEBUG:graphcat:Task bar updating.\n",
      "INFO:graphcat:Task bar executing. Inputs: {None: [None]}\n",
      "INFO:graphcat:Task bar finished. Output: bar\n",
      "DEBUG:graphcat:Task baz updating.\n",
      "INFO:graphcat:Task baz executing. Inputs: {None: ['bar']}\n",
      "INFO:graphcat:Task baz finished. Output: baz\n",
      "DEBUG:graphcat:Task foo updating.\n",
      "INFO:graphcat:Task foo executing. Inputs: {None: ['baz']}\n",
      "INFO:graphcat:Task foo finished. Output: foo\n"
     ]
    },
    {
     "data": {
      "image/svg+xml": [
       "<svg height=\"40pt\" viewBox=\"0.00 0.00 153.00 40.00\" width=\"153pt\" xmlns=\"http://www.w3.org/2000/svg\" xmlns:xlink=\"http://www.w3.org/1999/xlink\">\n",
       "<g class=\"graph\" id=\"graph0\" transform=\"scale(1 1) rotate(0) translate(4 36)\">\n",
       "<title>%3</title>\n",
       "<polygon fill=\"white\" points=\"-4,4 -4,-36 149,-36 149,4 -4,4\" stroke=\"none\"/>\n",
       "<!-- foo -->\n",
       "<g class=\"node\" id=\"node1\"><title>foo</title>\n",
       "<polygon fill=\"#494744\" points=\"29,-14 0,-14 0,-0 29,-0 29,-14\" stroke=\"#494744\"/>\n",
       "<text fill=\"white\" font-family=\"Helvetica,sans-Serif\" font-size=\"8.00\" text-anchor=\"middle\" x=\"14.5\" y=\"-4.6\">foo</text>\n",
       "</g>\n",
       "<!-- bar -->\n",
       "<g class=\"node\" id=\"node2\"><title>bar</title>\n",
       "<polygon fill=\"#494744\" points=\"87,-32 58,-32 58,-18 87,-18 87,-32\" stroke=\"#494744\"/>\n",
       "<text fill=\"white\" font-family=\"Helvetica,sans-Serif\" font-size=\"8.00\" text-anchor=\"middle\" x=\"72.5\" y=\"-22.6\">bar</text>\n",
       "</g>\n",
       "<!-- foo&#45;&gt;bar -->\n",
       "<g class=\"edge\" id=\"edge1\"><title>foo-&gt;bar</title>\n",
       "<path d=\"M29.056,-11.3573C34.7491,-13.1872 41.5392,-15.3697 48.0009,-17.4467\" fill=\"none\" stroke=\"#494744\"/>\n",
       "<polygon fill=\"#494744\" points=\"47.0884,-20.8297 57.6798,-20.5578 49.2305,-14.1655 47.0884,-20.8297\" stroke=\"#494744\"/>\n",
       "</g>\n",
       "<!-- baz -->\n",
       "<g class=\"node\" id=\"node3\"><title>baz</title>\n",
       "<polygon fill=\"#494744\" points=\"145,-14 116,-14 116,-0 145,-0 145,-14\" stroke=\"#494744\"/>\n",
       "<text fill=\"white\" font-family=\"Helvetica,sans-Serif\" font-size=\"8.00\" text-anchor=\"middle\" x=\"130.5\" y=\"-4.6\">baz</text>\n",
       "</g>\n",
       "<!-- bar&#45;&gt;baz -->\n",
       "<g class=\"edge\" id=\"edge2\"><title>bar-&gt;baz</title>\n",
       "<path d=\"M87.056,-20.6427C92.7491,-18.8128 99.5392,-16.6303 106.001,-14.5533\" fill=\"none\" stroke=\"#494744\"/>\n",
       "<polygon fill=\"#494744\" points=\"107.231,-17.8345 115.68,-11.4422 105.088,-11.1703 107.231,-17.8345\" stroke=\"#494744\"/>\n",
       "</g>\n",
       "<!-- baz&#45;&gt;foo -->\n",
       "<g class=\"edge\" id=\"edge3\"><title>baz-&gt;foo</title>\n",
       "<path d=\"M115.993,-7C97.0618,-7 62.3543,-7 39.1022,-7\" fill=\"none\" stroke=\"#494744\"/>\n",
       "<polygon fill=\"#494744\" points=\"39.025,-3.5001 29.025,-7 39.0249,-10.5001 39.025,-3.5001\" stroke=\"#494744\"/>\n",
       "</g>\n",
       "</g>\n",
       "</svg>"
      ],
      "text/plain": [
       "<IPython.core.display.SVG object>"
      ]
     },
     "metadata": {},
     "output_type": "display_data"
    }
   ],
   "source": [
    "graph.update(\"foo\")\n",
    "graphcat.notebook.display(graph)"
   ]
  },
  {
   "cell_type": "code",
   "execution_count": 5,
   "metadata": {},
   "outputs": [
    {
     "data": {
      "image/svg+xml": [
       "<svg height=\"40pt\" viewBox=\"0.00 0.00 153.00 40.00\" width=\"153pt\" xmlns=\"http://www.w3.org/2000/svg\" xmlns:xlink=\"http://www.w3.org/1999/xlink\">\n",
       "<g class=\"graph\" id=\"graph0\" transform=\"scale(1 1) rotate(0) translate(4 36)\">\n",
       "<title>%3</title>\n",
       "<polygon fill=\"white\" points=\"-4,4 -4,-36 149,-36 149,4 -4,4\" stroke=\"none\"/>\n",
       "<!-- foo -->\n",
       "<g class=\"node\" id=\"node1\"><title>foo</title>\n",
       "<polygon fill=\"white\" points=\"29,-14 0,-14 0,-0 29,-0 29,-14\" stroke=\"#494744\"/>\n",
       "<text fill=\"#494744\" font-family=\"Helvetica,sans-Serif\" font-size=\"8.00\" text-anchor=\"middle\" x=\"14.5\" y=\"-4.6\">foo</text>\n",
       "</g>\n",
       "<!-- bar -->\n",
       "<g class=\"node\" id=\"node2\"><title>bar</title>\n",
       "<polygon fill=\"white\" points=\"87,-32 58,-32 58,-18 87,-18 87,-32\" stroke=\"#494744\"/>\n",
       "<text fill=\"#494744\" font-family=\"Helvetica,sans-Serif\" font-size=\"8.00\" text-anchor=\"middle\" x=\"72.5\" y=\"-22.6\">bar</text>\n",
       "</g>\n",
       "<!-- foo&#45;&gt;bar -->\n",
       "<g class=\"edge\" id=\"edge1\"><title>foo-&gt;bar</title>\n",
       "<path d=\"M29.056,-11.3573C34.7491,-13.1872 41.5392,-15.3697 48.0009,-17.4467\" fill=\"none\" stroke=\"#494744\"/>\n",
       "<polygon fill=\"#494744\" points=\"47.0884,-20.8297 57.6798,-20.5578 49.2305,-14.1655 47.0884,-20.8297\" stroke=\"#494744\"/>\n",
       "</g>\n",
       "<!-- baz -->\n",
       "<g class=\"node\" id=\"node3\"><title>baz</title>\n",
       "<polygon fill=\"white\" points=\"145,-14 116,-14 116,-0 145,-0 145,-14\" stroke=\"#494744\"/>\n",
       "<text fill=\"#494744\" font-family=\"Helvetica,sans-Serif\" font-size=\"8.00\" text-anchor=\"middle\" x=\"130.5\" y=\"-4.6\">baz</text>\n",
       "</g>\n",
       "<!-- bar&#45;&gt;baz -->\n",
       "<g class=\"edge\" id=\"edge2\"><title>bar-&gt;baz</title>\n",
       "<path d=\"M87.056,-20.6427C92.7491,-18.8128 99.5392,-16.6303 106.001,-14.5533\" fill=\"none\" stroke=\"#494744\"/>\n",
       "<polygon fill=\"#494744\" points=\"107.231,-17.8345 115.68,-11.4422 105.088,-11.1703 107.231,-17.8345\" stroke=\"#494744\"/>\n",
       "</g>\n",
       "<!-- baz&#45;&gt;foo -->\n",
       "<g class=\"edge\" id=\"edge3\"><title>baz-&gt;foo</title>\n",
       "<path d=\"M115.993,-7C97.0618,-7 62.3543,-7 39.1022,-7\" fill=\"none\" stroke=\"#494744\"/>\n",
       "<polygon fill=\"#494744\" points=\"39.025,-3.5001 29.025,-7 39.0249,-10.5001 39.025,-3.5001\" stroke=\"#494744\"/>\n",
       "</g>\n",
       "</g>\n",
       "</svg>"
      ],
      "text/plain": [
       "<IPython.core.display.SVG object>"
      ]
     },
     "metadata": {},
     "output_type": "display_data"
    }
   ],
   "source": [
    "graph.mark_unfinished(\"bar\")\n",
    "graphcat.notebook.display(graph)"
   ]
  },
  {
   "cell_type": "code",
   "execution_count": 6,
   "metadata": {},
   "outputs": [
    {
     "data": {
      "text/plain": [
       "[('baz', ('foo', None)), ('foo', ('bar', None)), ('bar', ('baz', None))]"
      ]
     },
     "execution_count": 6,
     "metadata": {},
     "output_type": "execute_result"
    }
   ],
   "source": [
    "graph.links()"
   ]
  }
 ],
 "metadata": {
  "kernelspec": {
   "display_name": "Python 3",
   "language": "python",
   "name": "python3"
  },
  "language_info": {
   "codemirror_mode": {
    "name": "ipython",
    "version": 3
   },
   "file_extension": ".py",
   "mimetype": "text/x-python",
   "name": "python",
   "nbconvert_exporter": "python",
   "pygments_lexer": "ipython3",
   "version": "3.7.7"
  }
 },
 "nbformat": 4,
 "nbformat_minor": 4
}
