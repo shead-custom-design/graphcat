{
 "cells": [
  {
   "cell_type": "code",
   "execution_count": 1,
   "metadata": {},
   "outputs": [],
   "source": [
    "import logging\n",
    "\n",
    "import graphcat.notebook\n",
    "\n",
    "logging.basicConfig(level=logging.DEBUG)"
   ]
  },
  {
   "cell_type": "code",
   "execution_count": 2,
   "metadata": {},
   "outputs": [
    {
     "name": "stderr",
     "output_type": "stream",
     "text": [
      "DEBUG:graphcat:Task foo updating.\n",
      "INFO:graphcat:Task foo executing. Inputs: {None: [None]}\n",
      "INFO:graphcat:Task foo finished. Output: foo\n",
      "DEBUG:graphcat:Task bar updating.\n",
      "INFO:graphcat:Task bar executing. Inputs: {None: ['foo']}\n",
      "INFO:graphcat:Task bar finished. Output: bar\n",
      "DEBUG:graphcat:Task baz updating.\n",
      "INFO:graphcat:Task baz executing. Inputs: {None: ['bar']}\n",
      "INFO:graphcat:Task baz finished. Output: baz\n"
     ]
    },
    {
     "data": {
      "image/svg+xml": [
       "<svg height=\"132pt\" viewBox=\"0.00 0.00 65.40 132.00\" width=\"65pt\" xmlns=\"http://www.w3.org/2000/svg\" xmlns:xlink=\"http://www.w3.org/1999/xlink\">\n",
       "<g class=\"graph\" id=\"graph0\" transform=\"scale(1 1) rotate(0) translate(4 128)\">\n",
       "<title>%3</title>\n",
       "<polygon fill=\"white\" points=\"-4,4 -4,-128 61.4033,-128 61.4033,4 -4,4\" stroke=\"none\"/>\n",
       "<!-- foo -->\n",
       "<g class=\"node\" id=\"node1\"><title>foo</title>\n",
       "<polygon fill=\"#494744\" points=\"56.0823,-124 22.152,-124 22.152,-102 56.0823,-102 56.0823,-124\" stroke=\"#494744\"/>\n",
       "<text fill=\"white\" font-family=\"Helvetica,sans-Serif\" font-size=\"14.00\" text-anchor=\"middle\" x=\"39.1172\" y=\"-108.8\">foo</text>\n",
       "</g>\n",
       "<!-- bar -->\n",
       "<g class=\"node\" id=\"node2\"><title>bar</title>\n",
       "<polygon fill=\"#494744\" points=\"34.3524,-73 -0.117995,-73 -0.117995,-51 34.3524,-51 34.3524,-73\" stroke=\"#494744\"/>\n",
       "<text fill=\"white\" font-family=\"Helvetica,sans-Serif\" font-size=\"14.00\" text-anchor=\"middle\" x=\"17.1172\" y=\"-57.8\">bar</text>\n",
       "</g>\n",
       "<!-- foo&#45;&gt;bar -->\n",
       "<g class=\"edge\" id=\"edge1\"><title>foo-&gt;bar</title>\n",
       "<path d=\"M34.4516,-101.608C31.9684,-96.0776 28.8318,-89.0917 25.9116,-82.5875\" fill=\"none\" stroke=\"#494744\"/>\n",
       "<polygon fill=\"#494744\" points=\"28.9145,-80.7306 21.6256,-73.0415 22.5286,-83.5978 28.9145,-80.7306\" stroke=\"#494744\"/>\n",
       "</g>\n",
       "<!-- baz -->\n",
       "<g class=\"node\" id=\"node3\"><title>baz</title>\n",
       "<polygon fill=\"#494744\" points=\"57.1919,-22 21.0424,-22 21.0424,-0 57.1919,-0 57.1919,-22\" stroke=\"#494744\"/>\n",
       "<text fill=\"white\" font-family=\"Helvetica,sans-Serif\" font-size=\"14.00\" text-anchor=\"middle\" x=\"39.1172\" y=\"-6.8\">baz</text>\n",
       "</g>\n",
       "<!-- bar&#45;&gt;baz -->\n",
       "<g class=\"edge\" id=\"edge2\"><title>bar-&gt;baz</title>\n",
       "<path d=\"M21.7828,-50.6084C24.266,-45.0776 27.4025,-38.0917 30.3228,-31.5875\" fill=\"none\" stroke=\"#494744\"/>\n",
       "<polygon fill=\"#494744\" points=\"33.7057,-32.5978 34.6087,-22.0415 27.3198,-29.7306 33.7057,-32.5978\" stroke=\"#494744\"/>\n",
       "</g>\n",
       "<!-- baz&#45;&gt;foo -->\n",
       "<g class=\"edge\" id=\"edge3\"><title>baz-&gt;foo</title>\n",
       "<path d=\"M40.4567,-22.2421C41.4135,-30.0953 42.6165,-41.2116 43.1172,-51 43.6166,-60.765 43.6166,-63.235 43.1172,-73 42.8043,-79.1177 42.217,-85.7542 41.5869,-91.7885\" fill=\"none\" stroke=\"#494744\"/>\n",
       "<polygon fill=\"#494744\" points=\"38.1056,-91.4272 40.4567,-101.758 45.061,-92.2158 38.1056,-91.4272\" stroke=\"#494744\"/>\n",
       "</g>\n",
       "</g>\n",
       "</svg>"
      ],
      "text/plain": [
       "<IPython.core.display.SVG object>"
      ]
     },
     "metadata": {},
     "output_type": "display_data"
    }
   ],
   "source": [
    "graph = graphcat.Graph()\n",
    "logger = graphcat.Logger(graph)\n",
    "\n",
    "graph.set_task(\"foo\", graphcat.constant(\"foo\"))\n",
    "graph.set_task(\"bar\", graphcat.constant(\"bar\"))\n",
    "graph.set_task(\"baz\", graphcat.constant(\"baz\"))\n",
    "\n",
    "graph.set_links(\"foo\", \"bar\")\n",
    "graph.set_links(\"bar\", \"baz\")\n",
    "graph.set_links(\"baz\", \"foo\")\n",
    "\n",
    "graph.update(\"baz\")\n",
    "graphcat.notebook.display(graph)"
   ]
  },
  {
   "cell_type": "code",
   "execution_count": 3,
   "metadata": {},
   "outputs": [
    {
     "data": {
      "image/svg+xml": [
       "<svg height=\"132pt\" viewBox=\"0.00 0.00 65.40 132.00\" width=\"65pt\" xmlns=\"http://www.w3.org/2000/svg\" xmlns:xlink=\"http://www.w3.org/1999/xlink\">\n",
       "<g class=\"graph\" id=\"graph0\" transform=\"scale(1 1) rotate(0) translate(4 128)\">\n",
       "<title>%3</title>\n",
       "<polygon fill=\"white\" points=\"-4,4 -4,-128 61.4033,-128 61.4033,4 -4,4\" stroke=\"none\"/>\n",
       "<!-- foo -->\n",
       "<g class=\"node\" id=\"node1\"><title>foo</title>\n",
       "<polygon fill=\"white\" points=\"56.0823,-124 22.152,-124 22.152,-102 56.0823,-102 56.0823,-124\" stroke=\"#494744\"/>\n",
       "<text fill=\"#494744\" font-family=\"Helvetica,sans-Serif\" font-size=\"14.00\" text-anchor=\"middle\" x=\"39.1172\" y=\"-108.8\">foo</text>\n",
       "</g>\n",
       "<!-- bar -->\n",
       "<g class=\"node\" id=\"node2\"><title>bar</title>\n",
       "<polygon fill=\"white\" points=\"34.3524,-73 -0.117995,-73 -0.117995,-51 34.3524,-51 34.3524,-73\" stroke=\"#494744\"/>\n",
       "<text fill=\"#494744\" font-family=\"Helvetica,sans-Serif\" font-size=\"14.00\" text-anchor=\"middle\" x=\"17.1172\" y=\"-57.8\">bar</text>\n",
       "</g>\n",
       "<!-- foo&#45;&gt;bar -->\n",
       "<g class=\"edge\" id=\"edge1\"><title>foo-&gt;bar</title>\n",
       "<path d=\"M34.4516,-101.608C31.9684,-96.0776 28.8318,-89.0917 25.9116,-82.5875\" fill=\"none\" stroke=\"#494744\"/>\n",
       "<polygon fill=\"#494744\" points=\"28.9145,-80.7306 21.6256,-73.0415 22.5286,-83.5978 28.9145,-80.7306\" stroke=\"#494744\"/>\n",
       "</g>\n",
       "<!-- baz -->\n",
       "<g class=\"node\" id=\"node3\"><title>baz</title>\n",
       "<polygon fill=\"white\" points=\"57.1919,-22 21.0424,-22 21.0424,-0 57.1919,-0 57.1919,-22\" stroke=\"#494744\"/>\n",
       "<text fill=\"#494744\" font-family=\"Helvetica,sans-Serif\" font-size=\"14.00\" text-anchor=\"middle\" x=\"39.1172\" y=\"-6.8\">baz</text>\n",
       "</g>\n",
       "<!-- bar&#45;&gt;baz -->\n",
       "<g class=\"edge\" id=\"edge2\"><title>bar-&gt;baz</title>\n",
       "<path d=\"M21.7828,-50.6084C24.266,-45.0776 27.4025,-38.0917 30.3228,-31.5875\" fill=\"none\" stroke=\"#494744\"/>\n",
       "<polygon fill=\"#494744\" points=\"33.7057,-32.5978 34.6087,-22.0415 27.3198,-29.7306 33.7057,-32.5978\" stroke=\"#494744\"/>\n",
       "</g>\n",
       "<!-- baz&#45;&gt;foo -->\n",
       "<g class=\"edge\" id=\"edge3\"><title>baz-&gt;foo</title>\n",
       "<path d=\"M40.4567,-22.2421C41.4135,-30.0953 42.6165,-41.2116 43.1172,-51 43.6166,-60.765 43.6166,-63.235 43.1172,-73 42.8043,-79.1177 42.217,-85.7542 41.5869,-91.7885\" fill=\"none\" stroke=\"#494744\"/>\n",
       "<polygon fill=\"#494744\" points=\"38.1056,-91.4272 40.4567,-101.758 45.061,-92.2158 38.1056,-91.4272\" stroke=\"#494744\"/>\n",
       "</g>\n",
       "</g>\n",
       "</svg>"
      ],
      "text/plain": [
       "<IPython.core.display.SVG object>"
      ]
     },
     "metadata": {},
     "output_type": "display_data"
    }
   ],
   "source": [
    "graph.mark_unfinished(\"foo\")\n",
    "graphcat.notebook.display(graph)"
   ]
  },
  {
   "cell_type": "code",
   "execution_count": 4,
   "metadata": {},
   "outputs": [
    {
     "name": "stderr",
     "output_type": "stream",
     "text": [
      "DEBUG:graphcat:Task bar updating.\n",
      "INFO:graphcat:Task bar executing. Inputs: {None: [None]}\n",
      "INFO:graphcat:Task bar finished. Output: bar\n",
      "DEBUG:graphcat:Task baz updating.\n",
      "INFO:graphcat:Task baz executing. Inputs: {None: ['bar']}\n",
      "INFO:graphcat:Task baz finished. Output: baz\n",
      "DEBUG:graphcat:Task foo updating.\n",
      "INFO:graphcat:Task foo executing. Inputs: {None: ['baz']}\n",
      "INFO:graphcat:Task foo finished. Output: foo\n"
     ]
    },
    {
     "data": {
      "image/svg+xml": [
       "<svg height=\"132pt\" viewBox=\"0.00 0.00 65.40 132.00\" width=\"65pt\" xmlns=\"http://www.w3.org/2000/svg\" xmlns:xlink=\"http://www.w3.org/1999/xlink\">\n",
       "<g class=\"graph\" id=\"graph0\" transform=\"scale(1 1) rotate(0) translate(4 128)\">\n",
       "<title>%3</title>\n",
       "<polygon fill=\"white\" points=\"-4,4 -4,-128 61.4033,-128 61.4033,4 -4,4\" stroke=\"none\"/>\n",
       "<!-- foo -->\n",
       "<g class=\"node\" id=\"node1\"><title>foo</title>\n",
       "<polygon fill=\"#494744\" points=\"56.0823,-124 22.152,-124 22.152,-102 56.0823,-102 56.0823,-124\" stroke=\"#494744\"/>\n",
       "<text fill=\"white\" font-family=\"Helvetica,sans-Serif\" font-size=\"14.00\" text-anchor=\"middle\" x=\"39.1172\" y=\"-108.8\">foo</text>\n",
       "</g>\n",
       "<!-- bar -->\n",
       "<g class=\"node\" id=\"node2\"><title>bar</title>\n",
       "<polygon fill=\"#494744\" points=\"34.3524,-73 -0.117995,-73 -0.117995,-51 34.3524,-51 34.3524,-73\" stroke=\"#494744\"/>\n",
       "<text fill=\"white\" font-family=\"Helvetica,sans-Serif\" font-size=\"14.00\" text-anchor=\"middle\" x=\"17.1172\" y=\"-57.8\">bar</text>\n",
       "</g>\n",
       "<!-- foo&#45;&gt;bar -->\n",
       "<g class=\"edge\" id=\"edge1\"><title>foo-&gt;bar</title>\n",
       "<path d=\"M34.4516,-101.608C31.9684,-96.0776 28.8318,-89.0917 25.9116,-82.5875\" fill=\"none\" stroke=\"#494744\"/>\n",
       "<polygon fill=\"#494744\" points=\"28.9145,-80.7306 21.6256,-73.0415 22.5286,-83.5978 28.9145,-80.7306\" stroke=\"#494744\"/>\n",
       "</g>\n",
       "<!-- baz -->\n",
       "<g class=\"node\" id=\"node3\"><title>baz</title>\n",
       "<polygon fill=\"#494744\" points=\"57.1919,-22 21.0424,-22 21.0424,-0 57.1919,-0 57.1919,-22\" stroke=\"#494744\"/>\n",
       "<text fill=\"white\" font-family=\"Helvetica,sans-Serif\" font-size=\"14.00\" text-anchor=\"middle\" x=\"39.1172\" y=\"-6.8\">baz</text>\n",
       "</g>\n",
       "<!-- bar&#45;&gt;baz -->\n",
       "<g class=\"edge\" id=\"edge2\"><title>bar-&gt;baz</title>\n",
       "<path d=\"M21.7828,-50.6084C24.266,-45.0776 27.4025,-38.0917 30.3228,-31.5875\" fill=\"none\" stroke=\"#494744\"/>\n",
       "<polygon fill=\"#494744\" points=\"33.7057,-32.5978 34.6087,-22.0415 27.3198,-29.7306 33.7057,-32.5978\" stroke=\"#494744\"/>\n",
       "</g>\n",
       "<!-- baz&#45;&gt;foo -->\n",
       "<g class=\"edge\" id=\"edge3\"><title>baz-&gt;foo</title>\n",
       "<path d=\"M40.4567,-22.2421C41.4135,-30.0953 42.6165,-41.2116 43.1172,-51 43.6166,-60.765 43.6166,-63.235 43.1172,-73 42.8043,-79.1177 42.217,-85.7542 41.5869,-91.7885\" fill=\"none\" stroke=\"#494744\"/>\n",
       "<polygon fill=\"#494744\" points=\"38.1056,-91.4272 40.4567,-101.758 45.061,-92.2158 38.1056,-91.4272\" stroke=\"#494744\"/>\n",
       "</g>\n",
       "</g>\n",
       "</svg>"
      ],
      "text/plain": [
       "<IPython.core.display.SVG object>"
      ]
     },
     "metadata": {},
     "output_type": "display_data"
    }
   ],
   "source": [
    "graph.update(\"foo\")\n",
    "graphcat.notebook.display(graph)"
   ]
  },
  {
   "cell_type": "code",
   "execution_count": 5,
   "metadata": {},
   "outputs": [
    {
     "data": {
      "image/svg+xml": [
       "<svg height=\"132pt\" viewBox=\"0.00 0.00 65.40 132.00\" width=\"65pt\" xmlns=\"http://www.w3.org/2000/svg\" xmlns:xlink=\"http://www.w3.org/1999/xlink\">\n",
       "<g class=\"graph\" id=\"graph0\" transform=\"scale(1 1) rotate(0) translate(4 128)\">\n",
       "<title>%3</title>\n",
       "<polygon fill=\"white\" points=\"-4,4 -4,-128 61.4033,-128 61.4033,4 -4,4\" stroke=\"none\"/>\n",
       "<!-- foo -->\n",
       "<g class=\"node\" id=\"node1\"><title>foo</title>\n",
       "<polygon fill=\"white\" points=\"56.0823,-124 22.152,-124 22.152,-102 56.0823,-102 56.0823,-124\" stroke=\"#494744\"/>\n",
       "<text fill=\"#494744\" font-family=\"Helvetica,sans-Serif\" font-size=\"14.00\" text-anchor=\"middle\" x=\"39.1172\" y=\"-108.8\">foo</text>\n",
       "</g>\n",
       "<!-- bar -->\n",
       "<g class=\"node\" id=\"node2\"><title>bar</title>\n",
       "<polygon fill=\"white\" points=\"34.3524,-73 -0.117995,-73 -0.117995,-51 34.3524,-51 34.3524,-73\" stroke=\"#494744\"/>\n",
       "<text fill=\"#494744\" font-family=\"Helvetica,sans-Serif\" font-size=\"14.00\" text-anchor=\"middle\" x=\"17.1172\" y=\"-57.8\">bar</text>\n",
       "</g>\n",
       "<!-- foo&#45;&gt;bar -->\n",
       "<g class=\"edge\" id=\"edge1\"><title>foo-&gt;bar</title>\n",
       "<path d=\"M34.4516,-101.608C31.9684,-96.0776 28.8318,-89.0917 25.9116,-82.5875\" fill=\"none\" stroke=\"#494744\"/>\n",
       "<polygon fill=\"#494744\" points=\"28.9145,-80.7306 21.6256,-73.0415 22.5286,-83.5978 28.9145,-80.7306\" stroke=\"#494744\"/>\n",
       "</g>\n",
       "<!-- baz -->\n",
       "<g class=\"node\" id=\"node3\"><title>baz</title>\n",
       "<polygon fill=\"white\" points=\"57.1919,-22 21.0424,-22 21.0424,-0 57.1919,-0 57.1919,-22\" stroke=\"#494744\"/>\n",
       "<text fill=\"#494744\" font-family=\"Helvetica,sans-Serif\" font-size=\"14.00\" text-anchor=\"middle\" x=\"39.1172\" y=\"-6.8\">baz</text>\n",
       "</g>\n",
       "<!-- bar&#45;&gt;baz -->\n",
       "<g class=\"edge\" id=\"edge2\"><title>bar-&gt;baz</title>\n",
       "<path d=\"M21.7828,-50.6084C24.266,-45.0776 27.4025,-38.0917 30.3228,-31.5875\" fill=\"none\" stroke=\"#494744\"/>\n",
       "<polygon fill=\"#494744\" points=\"33.7057,-32.5978 34.6087,-22.0415 27.3198,-29.7306 33.7057,-32.5978\" stroke=\"#494744\"/>\n",
       "</g>\n",
       "<!-- baz&#45;&gt;foo -->\n",
       "<g class=\"edge\" id=\"edge3\"><title>baz-&gt;foo</title>\n",
       "<path d=\"M40.4567,-22.2421C41.4135,-30.0953 42.6165,-41.2116 43.1172,-51 43.6166,-60.765 43.6166,-63.235 43.1172,-73 42.8043,-79.1177 42.217,-85.7542 41.5869,-91.7885\" fill=\"none\" stroke=\"#494744\"/>\n",
       "<polygon fill=\"#494744\" points=\"38.1056,-91.4272 40.4567,-101.758 45.061,-92.2158 38.1056,-91.4272\" stroke=\"#494744\"/>\n",
       "</g>\n",
       "</g>\n",
       "</svg>"
      ],
      "text/plain": [
       "<IPython.core.display.SVG object>"
      ]
     },
     "metadata": {},
     "output_type": "display_data"
    }
   ],
   "source": [
    "graph.mark_unfinished(\"bar\")\n",
    "graphcat.notebook.display(graph)"
   ]
  },
  {
   "cell_type": "code",
   "execution_count": 6,
   "metadata": {},
   "outputs": [
    {
     "data": {
      "text/plain": [
       "[('baz', ('foo', None)), ('foo', ('bar', None)), ('bar', ('baz', None))]"
      ]
     },
     "execution_count": 6,
     "metadata": {},
     "output_type": "execute_result"
    }
   ],
   "source": [
    "graph.links()"
   ]
  }
 ],
 "metadata": {
  "kernelspec": {
   "display_name": "Python 3",
   "language": "python",
   "name": "python3"
  },
  "language_info": {
   "codemirror_mode": {
    "name": "ipython",
    "version": 3
   },
   "file_extension": ".py",
   "mimetype": "text/x-python",
   "name": "python",
   "nbconvert_exporter": "python",
   "pygments_lexer": "ipython3",
   "version": "3.7.7"
  }
 },
 "nbformat": 4,
 "nbformat_minor": 4
}
