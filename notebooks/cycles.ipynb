{
 "cells": [
  {
   "cell_type": "code",
   "execution_count": 1,
   "metadata": {},
   "outputs": [],
   "source": [
    "import logging\n",
    "\n",
    "import graphcat.notebook\n",
    "\n",
    "logging.basicConfig(level=logging.DEBUG)"
   ]
  },
  {
   "cell_type": "code",
   "execution_count": 2,
   "metadata": {
    "scrolled": false
   },
   "outputs": [
    {
     "name": "stderr",
     "output_type": "stream",
     "text": [
      "INFO:graphcat.common:Task baz updating.\n",
      "INFO:graphcat.common:Task baz executing. Inputs: {None}\n",
      "INFO:graphcat.common:Task bar updating.\n",
      "INFO:graphcat.common:Task bar executing. Inputs: {None}\n",
      "INFO:graphcat.common:Task foo updating.\n",
      "INFO:graphcat.common:Task foo executing. Inputs: {None}\n",
      "INFO:graphcat.common:Task baz cycle detected.\n",
      "INFO:graphcat.common:Task foo finished. Output: None\n",
      "INFO:graphcat.common:Task bar finished. Output: None\n",
      "INFO:graphcat.common:Task baz finished. Output: None\n"
     ]
    },
    {
     "name": "stdout",
     "output_type": "stream",
     "text": [
      "Output: None\n"
     ]
    },
    {
     "data": {
      "image/svg+xml": [
       "<svg height=\"40pt\" viewBox=\"0.00 0.00 153.00 40.00\" width=\"153pt\" xmlns=\"http://www.w3.org/2000/svg\" xmlns:xlink=\"http://www.w3.org/1999/xlink\">\n",
       "<g class=\"graph\" id=\"graph0\" transform=\"scale(1 1) rotate(0) translate(4 36)\">\n",
       "<polygon fill=\"white\" points=\"-4,4 -4,-36 149,-36 149,4 -4,4\" stroke=\"transparent\"/>\n",
       "<!-- foo -->\n",
       "<g class=\"node\" id=\"node1\">\n",
       "<title>foo</title>\n",
       "<polygon fill=\"#494744\" points=\"29,-14 0,-14 0,0 29,0 29,-14\" stroke=\"#494744\"/>\n",
       "<text fill=\"white\" font-family=\"Helvetica,sans-Serif\" font-size=\"8.00\" text-anchor=\"middle\" x=\"14.5\" y=\"-4.6\">foo</text>\n",
       "</g>\n",
       "<!-- bar -->\n",
       "<g class=\"node\" id=\"node2\">\n",
       "<title>bar</title>\n",
       "<polygon fill=\"#494744\" points=\"87,-32 58,-32 58,-18 87,-18 87,-32\" stroke=\"#494744\"/>\n",
       "<text fill=\"white\" font-family=\"Helvetica,sans-Serif\" font-size=\"8.00\" text-anchor=\"middle\" x=\"72.5\" y=\"-22.6\">bar</text>\n",
       "</g>\n",
       "<!-- foo&#45;&gt;bar -->\n",
       "<g class=\"edge\" id=\"edge1\">\n",
       "<title>foo-&gt;bar</title>\n",
       "<path d=\"M29.06,-11.36C34.75,-13.19 41.54,-15.37 48,-17.45\" fill=\"none\" stroke=\"#494744\"/>\n",
       "<polygon fill=\"#494744\" points=\"47.09,-20.83 57.68,-20.56 49.23,-14.17 47.09,-20.83\" stroke=\"#494744\"/>\n",
       "</g>\n",
       "<!-- baz -->\n",
       "<g class=\"node\" id=\"node3\">\n",
       "<title>baz</title>\n",
       "<polygon fill=\"#494744\" points=\"145,-14 116,-14 116,0 145,0 145,-14\" stroke=\"#494744\"/>\n",
       "<text fill=\"white\" font-family=\"Helvetica,sans-Serif\" font-size=\"8.00\" text-anchor=\"middle\" x=\"130.5\" y=\"-4.6\">baz</text>\n",
       "</g>\n",
       "<!-- bar&#45;&gt;baz -->\n",
       "<g class=\"edge\" id=\"edge2\">\n",
       "<title>bar-&gt;baz</title>\n",
       "<path d=\"M87.06,-20.64C92.75,-18.81 99.54,-16.63 106,-14.55\" fill=\"none\" stroke=\"#494744\"/>\n",
       "<polygon fill=\"#494744\" points=\"107.23,-17.83 115.68,-11.44 105.09,-11.17 107.23,-17.83\" stroke=\"#494744\"/>\n",
       "</g>\n",
       "<!-- baz&#45;&gt;foo -->\n",
       "<g class=\"edge\" id=\"edge3\">\n",
       "<title>baz-&gt;foo</title>\n",
       "<path d=\"M115.99,-7C97.06,-7 62.35,-7 39.1,-7\" fill=\"none\" stroke=\"#494744\"/>\n",
       "<polygon fill=\"#494744\" points=\"39.03,-3.5 29.02,-7 39.02,-10.5 39.03,-3.5\" stroke=\"#494744\"/>\n",
       "</g>\n",
       "</g>\n",
       "</svg>"
      ],
      "text/plain": [
       "<IPython.core.display.SVG object>"
      ]
     },
     "metadata": {},
     "output_type": "display_data"
    }
   ],
   "source": [
    "graph = graphcat.DynamicGraph()\n",
    "logger = graphcat.Logger(graph)\n",
    "\n",
    "graph.set_task(\"foo\", graphcat.consume)\n",
    "graph.set_task(\"bar\", graphcat.consume)\n",
    "graph.set_task(\"baz\", graphcat.consume)\n",
    "\n",
    "graph.set_links(\"foo\", \"bar\")\n",
    "graph.set_links(\"bar\", \"baz\")\n",
    "graph.set_links(\"baz\", \"foo\")\n",
    "\n",
    "print(\"Output:\", graph.output(\"baz\"))\n",
    "graphcat.notebook.display(graph)"
   ]
  },
  {
   "cell_type": "code",
   "execution_count": 3,
   "metadata": {},
   "outputs": [
    {
     "data": {
      "image/svg+xml": [
       "<svg height=\"40pt\" viewBox=\"0.00 0.00 153.00 40.00\" width=\"153pt\" xmlns=\"http://www.w3.org/2000/svg\" xmlns:xlink=\"http://www.w3.org/1999/xlink\">\n",
       "<g class=\"graph\" id=\"graph0\" transform=\"scale(1 1) rotate(0) translate(4 36)\">\n",
       "<polygon fill=\"white\" points=\"-4,4 -4,-36 149,-36 149,4 -4,4\" stroke=\"transparent\"/>\n",
       "<!-- foo -->\n",
       "<g class=\"node\" id=\"node1\">\n",
       "<title>foo</title>\n",
       "<polygon fill=\"white\" points=\"29,-14 0,-14 0,0 29,0 29,-14\" stroke=\"#494744\"/>\n",
       "<text fill=\"#494744\" font-family=\"Helvetica,sans-Serif\" font-size=\"8.00\" text-anchor=\"middle\" x=\"14.5\" y=\"-4.6\">foo</text>\n",
       "</g>\n",
       "<!-- bar -->\n",
       "<g class=\"node\" id=\"node2\">\n",
       "<title>bar</title>\n",
       "<polygon fill=\"white\" points=\"87,-32 58,-32 58,-18 87,-18 87,-32\" stroke=\"#494744\"/>\n",
       "<text fill=\"#494744\" font-family=\"Helvetica,sans-Serif\" font-size=\"8.00\" text-anchor=\"middle\" x=\"72.5\" y=\"-22.6\">bar</text>\n",
       "</g>\n",
       "<!-- foo&#45;&gt;bar -->\n",
       "<g class=\"edge\" id=\"edge1\">\n",
       "<title>foo-&gt;bar</title>\n",
       "<path d=\"M29.06,-11.36C34.75,-13.19 41.54,-15.37 48,-17.45\" fill=\"none\" stroke=\"#494744\"/>\n",
       "<polygon fill=\"#494744\" points=\"47.09,-20.83 57.68,-20.56 49.23,-14.17 47.09,-20.83\" stroke=\"#494744\"/>\n",
       "</g>\n",
       "<!-- baz -->\n",
       "<g class=\"node\" id=\"node3\">\n",
       "<title>baz</title>\n",
       "<polygon fill=\"white\" points=\"145,-14 116,-14 116,0 145,0 145,-14\" stroke=\"#494744\"/>\n",
       "<text fill=\"#494744\" font-family=\"Helvetica,sans-Serif\" font-size=\"8.00\" text-anchor=\"middle\" x=\"130.5\" y=\"-4.6\">baz</text>\n",
       "</g>\n",
       "<!-- bar&#45;&gt;baz -->\n",
       "<g class=\"edge\" id=\"edge2\">\n",
       "<title>bar-&gt;baz</title>\n",
       "<path d=\"M87.06,-20.64C92.75,-18.81 99.54,-16.63 106,-14.55\" fill=\"none\" stroke=\"#494744\"/>\n",
       "<polygon fill=\"#494744\" points=\"107.23,-17.83 115.68,-11.44 105.09,-11.17 107.23,-17.83\" stroke=\"#494744\"/>\n",
       "</g>\n",
       "<!-- baz&#45;&gt;foo -->\n",
       "<g class=\"edge\" id=\"edge3\">\n",
       "<title>baz-&gt;foo</title>\n",
       "<path d=\"M115.99,-7C97.06,-7 62.35,-7 39.1,-7\" fill=\"none\" stroke=\"#494744\"/>\n",
       "<polygon fill=\"#494744\" points=\"39.03,-3.5 29.02,-7 39.02,-10.5 39.03,-3.5\" stroke=\"#494744\"/>\n",
       "</g>\n",
       "</g>\n",
       "</svg>"
      ],
      "text/plain": [
       "<IPython.core.display.SVG object>"
      ]
     },
     "metadata": {},
     "output_type": "display_data"
    },
    {
     "name": "stderr",
     "output_type": "stream",
     "text": [
      "INFO:graphcat.common:Task foo updating.\n",
      "INFO:graphcat.common:Task foo executing. Inputs: {None}\n",
      "INFO:graphcat.common:Task baz updating.\n",
      "INFO:graphcat.common:Task baz executing. Inputs: {None}\n",
      "INFO:graphcat.common:Task bar updating.\n",
      "INFO:graphcat.common:Task bar executing. Inputs: {None}\n",
      "INFO:graphcat.common:Task foo cycle detected.\n",
      "INFO:graphcat.common:Task bar finished. Output: None\n",
      "INFO:graphcat.common:Task baz finished. Output: None\n",
      "INFO:graphcat.common:Task foo finished. Output: None\n"
     ]
    },
    {
     "name": "stdout",
     "output_type": "stream",
     "text": [
      "Output: None\n"
     ]
    }
   ],
   "source": [
    "graph.mark_unfinished(\"foo\")\n",
    "graphcat.notebook.display(graph)\n",
    "print(\"Output:\", graph.output(\"foo\"))"
   ]
  }
 ],
 "metadata": {
  "kernelspec": {
   "display_name": "Python 3",
   "language": "python",
   "name": "python3"
  },
  "language_info": {
   "codemirror_mode": {
    "name": "ipython",
    "version": 3
   },
   "file_extension": ".py",
   "mimetype": "text/x-python",
   "name": "python",
   "nbconvert_exporter": "python",
   "pygments_lexer": "ipython3",
   "version": "3.7.7"
  }
 },
 "nbformat": 4,
 "nbformat_minor": 4
}
