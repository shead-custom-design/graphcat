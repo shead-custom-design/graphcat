{
 "cells": [
  {
   "cell_type": "code",
   "execution_count": 1,
   "metadata": {},
   "outputs": [],
   "source": [
    "import logging\n",
    "\n",
    "import graphcat.notebook\n",
    "\n",
    "logging.basicConfig(level=logging.DEBUG)"
   ]
  },
  {
   "cell_type": "code",
   "execution_count": 2,
   "metadata": {},
   "outputs": [
    {
     "name": "stderr",
     "output_type": "stream",
     "text": [
      "DEBUG:graphcat:Task foo updating.\n",
      "INFO:graphcat:Task foo executing. Inputs: {None: [None]}\n",
      "INFO:graphcat:Task foo finished. Output: foo\n",
      "DEBUG:graphcat:Task bar updating.\n",
      "INFO:graphcat:Task bar executing. Inputs: {None: ['foo']}\n",
      "INFO:graphcat:Task bar finished. Output: bar\n",
      "DEBUG:graphcat:Task baz updating.\n",
      "INFO:graphcat:Task baz executing. Inputs: {None: ['bar']}\n",
      "INFO:graphcat:Task baz finished. Output: baz\n"
     ]
    },
    {
     "data": {
      "image/svg+xml": [
       "<svg height=\"108pt\" viewBox=\"0.00 0.00 58.00 108.00\" width=\"58pt\" xmlns=\"http://www.w3.org/2000/svg\" xmlns:xlink=\"http://www.w3.org/1999/xlink\">\n",
       "<g class=\"graph\" id=\"graph0\" transform=\"scale(1 1) rotate(0) translate(4 104)\">\n",
       "<title>%3</title>\n",
       "<polygon fill=\"white\" points=\"-4,4 -4,-104 54,-104 54,4 -4,4\" stroke=\"none\"/>\n",
       "<!-- foo -->\n",
       "<g class=\"node\" id=\"node1\"><title>foo</title>\n",
       "<polygon fill=\"#494744\" points=\"50,-100 21,-100 21,-86 50,-86 50,-100\" stroke=\"#494744\"/>\n",
       "<text fill=\"white\" font-family=\"Helvetica,sans-Serif\" font-size=\"8.00\" text-anchor=\"middle\" x=\"35.5\" y=\"-90.6\">foo</text>\n",
       "</g>\n",
       "<!-- bar -->\n",
       "<g class=\"node\" id=\"node2\"><title>bar</title>\n",
       "<polygon fill=\"#494744\" points=\"29,-57 0,-57 0,-43 29,-43 29,-57\" stroke=\"#494744\"/>\n",
       "<text fill=\"white\" font-family=\"Helvetica,sans-Serif\" font-size=\"8.00\" text-anchor=\"middle\" x=\"14.5\" y=\"-47.6\">bar</text>\n",
       "</g>\n",
       "<!-- foo&#45;&gt;bar -->\n",
       "<g class=\"edge\" id=\"edge1\"><title>foo-&gt;bar</title>\n",
       "<path d=\"M32.4014,-85.9503C29.7338,-80.7421 25.7694,-73.0021 22.2489,-66.1287\" fill=\"none\" stroke=\"#494744\"/>\n",
       "<polygon fill=\"#494744\" points=\"25.2853,-64.3794 17.6113,-57.0745 19.055,-67.5705 25.2853,-64.3794\" stroke=\"#494744\"/>\n",
       "</g>\n",
       "<!-- baz -->\n",
       "<g class=\"node\" id=\"node3\"><title>baz</title>\n",
       "<polygon fill=\"#494744\" points=\"50,-14 21,-14 21,-0 50,-0 50,-14\" stroke=\"#494744\"/>\n",
       "<text fill=\"white\" font-family=\"Helvetica,sans-Serif\" font-size=\"8.00\" text-anchor=\"middle\" x=\"35.5\" y=\"-4.6\">baz</text>\n",
       "</g>\n",
       "<!-- bar&#45;&gt;baz -->\n",
       "<g class=\"edge\" id=\"edge2\"><title>bar-&gt;baz</title>\n",
       "<path d=\"M17.5986,-42.9503C20.2662,-37.7421 24.2306,-30.0021 27.7511,-23.1287\" fill=\"none\" stroke=\"#494744\"/>\n",
       "<polygon fill=\"#494744\" points=\"30.945,-24.5705 32.3887,-14.0745 24.7147,-21.3794 30.945,-24.5705\" stroke=\"#494744\"/>\n",
       "</g>\n",
       "<!-- baz&#45;&gt;foo -->\n",
       "<g class=\"edge\" id=\"edge3\"><title>baz-&gt;foo</title>\n",
       "<path d=\"M36.1912,-14.1856C36.9344,-21.1717 38.0673,-32.8855 38.5,-43 38.9713,-54.0177 38.1998,-66.4156 37.3214,-75.984\" fill=\"none\" stroke=\"#494744\"/>\n",
       "<polygon fill=\"#494744\" points=\"33.8365,-75.6581 36.2733,-85.9689 40.7982,-76.389 33.8365,-75.6581\" stroke=\"#494744\"/>\n",
       "</g>\n",
       "</g>\n",
       "</svg>"
      ],
      "text/plain": [
       "<IPython.core.display.SVG object>"
      ]
     },
     "metadata": {},
     "output_type": "display_data"
    }
   ],
   "source": [
    "graph = graphcat.Graph()\n",
    "logger = graphcat.Logger(graph)\n",
    "\n",
    "graph.set_task(\"foo\", graphcat.constant(\"foo\"))\n",
    "graph.set_task(\"bar\", graphcat.constant(\"bar\"))\n",
    "graph.set_task(\"baz\", graphcat.constant(\"baz\"))\n",
    "\n",
    "graph.set_links(\"foo\", \"bar\")\n",
    "graph.set_links(\"bar\", \"baz\")\n",
    "graph.set_links(\"baz\", \"foo\")\n",
    "\n",
    "graph.update(\"baz\")\n",
    "graphcat.notebook.display(graph)"
   ]
  },
  {
   "cell_type": "code",
   "execution_count": 3,
   "metadata": {},
   "outputs": [
    {
     "data": {
      "image/svg+xml": [
       "<svg height=\"108pt\" viewBox=\"0.00 0.00 58.00 108.00\" width=\"58pt\" xmlns=\"http://www.w3.org/2000/svg\" xmlns:xlink=\"http://www.w3.org/1999/xlink\">\n",
       "<g class=\"graph\" id=\"graph0\" transform=\"scale(1 1) rotate(0) translate(4 104)\">\n",
       "<title>%3</title>\n",
       "<polygon fill=\"white\" points=\"-4,4 -4,-104 54,-104 54,4 -4,4\" stroke=\"none\"/>\n",
       "<!-- foo -->\n",
       "<g class=\"node\" id=\"node1\"><title>foo</title>\n",
       "<polygon fill=\"white\" points=\"50,-100 21,-100 21,-86 50,-86 50,-100\" stroke=\"#494744\"/>\n",
       "<text fill=\"#494744\" font-family=\"Helvetica,sans-Serif\" font-size=\"8.00\" text-anchor=\"middle\" x=\"35.5\" y=\"-90.6\">foo</text>\n",
       "</g>\n",
       "<!-- bar -->\n",
       "<g class=\"node\" id=\"node2\"><title>bar</title>\n",
       "<polygon fill=\"white\" points=\"29,-57 0,-57 0,-43 29,-43 29,-57\" stroke=\"#494744\"/>\n",
       "<text fill=\"#494744\" font-family=\"Helvetica,sans-Serif\" font-size=\"8.00\" text-anchor=\"middle\" x=\"14.5\" y=\"-47.6\">bar</text>\n",
       "</g>\n",
       "<!-- foo&#45;&gt;bar -->\n",
       "<g class=\"edge\" id=\"edge1\"><title>foo-&gt;bar</title>\n",
       "<path d=\"M32.4014,-85.9503C29.7338,-80.7421 25.7694,-73.0021 22.2489,-66.1287\" fill=\"none\" stroke=\"#494744\"/>\n",
       "<polygon fill=\"#494744\" points=\"25.2853,-64.3794 17.6113,-57.0745 19.055,-67.5705 25.2853,-64.3794\" stroke=\"#494744\"/>\n",
       "</g>\n",
       "<!-- baz -->\n",
       "<g class=\"node\" id=\"node3\"><title>baz</title>\n",
       "<polygon fill=\"white\" points=\"50,-14 21,-14 21,-0 50,-0 50,-14\" stroke=\"#494744\"/>\n",
       "<text fill=\"#494744\" font-family=\"Helvetica,sans-Serif\" font-size=\"8.00\" text-anchor=\"middle\" x=\"35.5\" y=\"-4.6\">baz</text>\n",
       "</g>\n",
       "<!-- bar&#45;&gt;baz -->\n",
       "<g class=\"edge\" id=\"edge2\"><title>bar-&gt;baz</title>\n",
       "<path d=\"M17.5986,-42.9503C20.2662,-37.7421 24.2306,-30.0021 27.7511,-23.1287\" fill=\"none\" stroke=\"#494744\"/>\n",
       "<polygon fill=\"#494744\" points=\"30.945,-24.5705 32.3887,-14.0745 24.7147,-21.3794 30.945,-24.5705\" stroke=\"#494744\"/>\n",
       "</g>\n",
       "<!-- baz&#45;&gt;foo -->\n",
       "<g class=\"edge\" id=\"edge3\"><title>baz-&gt;foo</title>\n",
       "<path d=\"M36.1912,-14.1856C36.9344,-21.1717 38.0673,-32.8855 38.5,-43 38.9713,-54.0177 38.1998,-66.4156 37.3214,-75.984\" fill=\"none\" stroke=\"#494744\"/>\n",
       "<polygon fill=\"#494744\" points=\"33.8365,-75.6581 36.2733,-85.9689 40.7982,-76.389 33.8365,-75.6581\" stroke=\"#494744\"/>\n",
       "</g>\n",
       "</g>\n",
       "</svg>"
      ],
      "text/plain": [
       "<IPython.core.display.SVG object>"
      ]
     },
     "metadata": {},
     "output_type": "display_data"
    }
   ],
   "source": [
    "graph.mark_unfinished(\"foo\")\n",
    "graphcat.notebook.display(graph)"
   ]
  },
  {
   "cell_type": "code",
   "execution_count": 4,
   "metadata": {},
   "outputs": [
    {
     "name": "stderr",
     "output_type": "stream",
     "text": [
      "DEBUG:graphcat:Task bar updating.\n",
      "INFO:graphcat:Task bar executing. Inputs: {None: [None]}\n",
      "INFO:graphcat:Task bar finished. Output: bar\n",
      "DEBUG:graphcat:Task baz updating.\n",
      "INFO:graphcat:Task baz executing. Inputs: {None: ['bar']}\n",
      "INFO:graphcat:Task baz finished. Output: baz\n",
      "DEBUG:graphcat:Task foo updating.\n",
      "INFO:graphcat:Task foo executing. Inputs: {None: ['baz']}\n",
      "INFO:graphcat:Task foo finished. Output: foo\n"
     ]
    },
    {
     "data": {
      "image/svg+xml": [
       "<svg height=\"108pt\" viewBox=\"0.00 0.00 58.00 108.00\" width=\"58pt\" xmlns=\"http://www.w3.org/2000/svg\" xmlns:xlink=\"http://www.w3.org/1999/xlink\">\n",
       "<g class=\"graph\" id=\"graph0\" transform=\"scale(1 1) rotate(0) translate(4 104)\">\n",
       "<title>%3</title>\n",
       "<polygon fill=\"white\" points=\"-4,4 -4,-104 54,-104 54,4 -4,4\" stroke=\"none\"/>\n",
       "<!-- foo -->\n",
       "<g class=\"node\" id=\"node1\"><title>foo</title>\n",
       "<polygon fill=\"#494744\" points=\"50,-100 21,-100 21,-86 50,-86 50,-100\" stroke=\"#494744\"/>\n",
       "<text fill=\"white\" font-family=\"Helvetica,sans-Serif\" font-size=\"8.00\" text-anchor=\"middle\" x=\"35.5\" y=\"-90.6\">foo</text>\n",
       "</g>\n",
       "<!-- bar -->\n",
       "<g class=\"node\" id=\"node2\"><title>bar</title>\n",
       "<polygon fill=\"#494744\" points=\"29,-57 0,-57 0,-43 29,-43 29,-57\" stroke=\"#494744\"/>\n",
       "<text fill=\"white\" font-family=\"Helvetica,sans-Serif\" font-size=\"8.00\" text-anchor=\"middle\" x=\"14.5\" y=\"-47.6\">bar</text>\n",
       "</g>\n",
       "<!-- foo&#45;&gt;bar -->\n",
       "<g class=\"edge\" id=\"edge1\"><title>foo-&gt;bar</title>\n",
       "<path d=\"M32.4014,-85.9503C29.7338,-80.7421 25.7694,-73.0021 22.2489,-66.1287\" fill=\"none\" stroke=\"#494744\"/>\n",
       "<polygon fill=\"#494744\" points=\"25.2853,-64.3794 17.6113,-57.0745 19.055,-67.5705 25.2853,-64.3794\" stroke=\"#494744\"/>\n",
       "</g>\n",
       "<!-- baz -->\n",
       "<g class=\"node\" id=\"node3\"><title>baz</title>\n",
       "<polygon fill=\"#494744\" points=\"50,-14 21,-14 21,-0 50,-0 50,-14\" stroke=\"#494744\"/>\n",
       "<text fill=\"white\" font-family=\"Helvetica,sans-Serif\" font-size=\"8.00\" text-anchor=\"middle\" x=\"35.5\" y=\"-4.6\">baz</text>\n",
       "</g>\n",
       "<!-- bar&#45;&gt;baz -->\n",
       "<g class=\"edge\" id=\"edge2\"><title>bar-&gt;baz</title>\n",
       "<path d=\"M17.5986,-42.9503C20.2662,-37.7421 24.2306,-30.0021 27.7511,-23.1287\" fill=\"none\" stroke=\"#494744\"/>\n",
       "<polygon fill=\"#494744\" points=\"30.945,-24.5705 32.3887,-14.0745 24.7147,-21.3794 30.945,-24.5705\" stroke=\"#494744\"/>\n",
       "</g>\n",
       "<!-- baz&#45;&gt;foo -->\n",
       "<g class=\"edge\" id=\"edge3\"><title>baz-&gt;foo</title>\n",
       "<path d=\"M36.1912,-14.1856C36.9344,-21.1717 38.0673,-32.8855 38.5,-43 38.9713,-54.0177 38.1998,-66.4156 37.3214,-75.984\" fill=\"none\" stroke=\"#494744\"/>\n",
       "<polygon fill=\"#494744\" points=\"33.8365,-75.6581 36.2733,-85.9689 40.7982,-76.389 33.8365,-75.6581\" stroke=\"#494744\"/>\n",
       "</g>\n",
       "</g>\n",
       "</svg>"
      ],
      "text/plain": [
       "<IPython.core.display.SVG object>"
      ]
     },
     "metadata": {},
     "output_type": "display_data"
    }
   ],
   "source": [
    "graph.update(\"foo\")\n",
    "graphcat.notebook.display(graph)"
   ]
  },
  {
   "cell_type": "code",
   "execution_count": 5,
   "metadata": {},
   "outputs": [
    {
     "data": {
      "image/svg+xml": [
       "<svg height=\"108pt\" viewBox=\"0.00 0.00 58.00 108.00\" width=\"58pt\" xmlns=\"http://www.w3.org/2000/svg\" xmlns:xlink=\"http://www.w3.org/1999/xlink\">\n",
       "<g class=\"graph\" id=\"graph0\" transform=\"scale(1 1) rotate(0) translate(4 104)\">\n",
       "<title>%3</title>\n",
       "<polygon fill=\"white\" points=\"-4,4 -4,-104 54,-104 54,4 -4,4\" stroke=\"none\"/>\n",
       "<!-- foo -->\n",
       "<g class=\"node\" id=\"node1\"><title>foo</title>\n",
       "<polygon fill=\"white\" points=\"50,-100 21,-100 21,-86 50,-86 50,-100\" stroke=\"#494744\"/>\n",
       "<text fill=\"#494744\" font-family=\"Helvetica,sans-Serif\" font-size=\"8.00\" text-anchor=\"middle\" x=\"35.5\" y=\"-90.6\">foo</text>\n",
       "</g>\n",
       "<!-- bar -->\n",
       "<g class=\"node\" id=\"node2\"><title>bar</title>\n",
       "<polygon fill=\"white\" points=\"29,-57 0,-57 0,-43 29,-43 29,-57\" stroke=\"#494744\"/>\n",
       "<text fill=\"#494744\" font-family=\"Helvetica,sans-Serif\" font-size=\"8.00\" text-anchor=\"middle\" x=\"14.5\" y=\"-47.6\">bar</text>\n",
       "</g>\n",
       "<!-- foo&#45;&gt;bar -->\n",
       "<g class=\"edge\" id=\"edge1\"><title>foo-&gt;bar</title>\n",
       "<path d=\"M32.4014,-85.9503C29.7338,-80.7421 25.7694,-73.0021 22.2489,-66.1287\" fill=\"none\" stroke=\"#494744\"/>\n",
       "<polygon fill=\"#494744\" points=\"25.2853,-64.3794 17.6113,-57.0745 19.055,-67.5705 25.2853,-64.3794\" stroke=\"#494744\"/>\n",
       "</g>\n",
       "<!-- baz -->\n",
       "<g class=\"node\" id=\"node3\"><title>baz</title>\n",
       "<polygon fill=\"white\" points=\"50,-14 21,-14 21,-0 50,-0 50,-14\" stroke=\"#494744\"/>\n",
       "<text fill=\"#494744\" font-family=\"Helvetica,sans-Serif\" font-size=\"8.00\" text-anchor=\"middle\" x=\"35.5\" y=\"-4.6\">baz</text>\n",
       "</g>\n",
       "<!-- bar&#45;&gt;baz -->\n",
       "<g class=\"edge\" id=\"edge2\"><title>bar-&gt;baz</title>\n",
       "<path d=\"M17.5986,-42.9503C20.2662,-37.7421 24.2306,-30.0021 27.7511,-23.1287\" fill=\"none\" stroke=\"#494744\"/>\n",
       "<polygon fill=\"#494744\" points=\"30.945,-24.5705 32.3887,-14.0745 24.7147,-21.3794 30.945,-24.5705\" stroke=\"#494744\"/>\n",
       "</g>\n",
       "<!-- baz&#45;&gt;foo -->\n",
       "<g class=\"edge\" id=\"edge3\"><title>baz-&gt;foo</title>\n",
       "<path d=\"M36.1912,-14.1856C36.9344,-21.1717 38.0673,-32.8855 38.5,-43 38.9713,-54.0177 38.1998,-66.4156 37.3214,-75.984\" fill=\"none\" stroke=\"#494744\"/>\n",
       "<polygon fill=\"#494744\" points=\"33.8365,-75.6581 36.2733,-85.9689 40.7982,-76.389 33.8365,-75.6581\" stroke=\"#494744\"/>\n",
       "</g>\n",
       "</g>\n",
       "</svg>"
      ],
      "text/plain": [
       "<IPython.core.display.SVG object>"
      ]
     },
     "metadata": {},
     "output_type": "display_data"
    }
   ],
   "source": [
    "graph.mark_unfinished(\"bar\")\n",
    "graphcat.notebook.display(graph)"
   ]
  },
  {
   "cell_type": "code",
   "execution_count": 6,
   "metadata": {},
   "outputs": [
    {
     "data": {
      "text/plain": [
       "[('baz', ('foo', None)), ('foo', ('bar', None)), ('bar', ('baz', None))]"
      ]
     },
     "execution_count": 6,
     "metadata": {},
     "output_type": "execute_result"
    }
   ],
   "source": [
    "graph.links()"
   ]
  }
 ],
 "metadata": {
  "kernelspec": {
   "display_name": "Python 3",
   "language": "python",
   "name": "python3"
  },
  "language_info": {
   "codemirror_mode": {
    "name": "ipython",
    "version": 3
   },
   "file_extension": ".py",
   "mimetype": "text/x-python",
   "name": "python",
   "nbconvert_exporter": "python",
   "pygments_lexer": "ipython3",
   "version": "3.7.7"
  }
 },
 "nbformat": 4,
 "nbformat_minor": 4
}
