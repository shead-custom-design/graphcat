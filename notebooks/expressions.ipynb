{
 "cells": [
  {
   "cell_type": "code",
   "execution_count": 1,
   "metadata": {},
   "outputs": [],
   "source": [
    "import logging\n",
    "\n",
    "import graphcat.notebook\n",
    "\n",
    "logging.basicConfig(level=logging.DEBUG)"
   ]
  },
  {
   "cell_type": "code",
   "execution_count": 2,
   "metadata": {},
   "outputs": [
    {
     "data": {
      "image/svg+xml": [
       "<svg height=\"22pt\" viewBox=\"0.00 0.00 184.00 22.00\" width=\"184pt\" xmlns=\"http://www.w3.org/2000/svg\" xmlns:xlink=\"http://www.w3.org/1999/xlink\">\n",
       "<g class=\"graph\" id=\"graph0\" transform=\"scale(1 1) rotate(0) translate(4 18)\">\n",
       "<title>%3</title>\n",
       "<polygon fill=\"white\" points=\"-4,4 -4,-18 180,-18 180,4 -4,4\" stroke=\"none\"/>\n",
       "<!-- A -->\n",
       "<g class=\"node\" id=\"node1\"><title>A</title>\n",
       "<polygon fill=\"white\" points=\"29,-14 0,-14 0,-0 29,-0 29,-14\" stroke=\"#494744\"/>\n",
       "<text fill=\"#494744\" font-family=\"Helvetica,sans-Serif\" font-size=\"8.00\" text-anchor=\"middle\" x=\"14.5\" y=\"-4.6\">A</text>\n",
       "</g>\n",
       "<!-- B -->\n",
       "<g class=\"node\" id=\"node2\"><title>B</title>\n",
       "<polygon fill=\"white\" points=\"76,-14 47,-14 47,-0 76,-0 76,-14\" stroke=\"#494744\"/>\n",
       "<text fill=\"#494744\" font-family=\"Helvetica,sans-Serif\" font-size=\"8.00\" text-anchor=\"middle\" x=\"61.5\" y=\"-4.6\">B</text>\n",
       "</g>\n",
       "<!-- choice -->\n",
       "<g class=\"node\" id=\"node3\"><title>choice</title>\n",
       "<polygon fill=\"white\" points=\"129.125,-14 93.8748,-14 93.8748,-0 129.125,-0 129.125,-14\" stroke=\"#494744\"/>\n",
       "<text fill=\"#494744\" font-family=\"Helvetica,sans-Serif\" font-size=\"8.00\" text-anchor=\"middle\" x=\"111.5\" y=\"-4.6\">choice</text>\n",
       "</g>\n",
       "<!-- expr -->\n",
       "<g class=\"node\" id=\"node4\"><title>expr</title>\n",
       "<polygon fill=\"white\" points=\"176,-14 147,-14 147,-0 176,-0 176,-14\" stroke=\"#494744\"/>\n",
       "<text fill=\"#494744\" font-family=\"Helvetica,sans-Serif\" font-size=\"8.00\" text-anchor=\"middle\" x=\"161.5\" y=\"-4.6\">expr</text>\n",
       "</g>\n",
       "</g>\n",
       "</svg>"
      ],
      "text/plain": [
       "<IPython.core.display.SVG object>"
      ]
     },
     "metadata": {},
     "output_type": "display_data"
    },
    {
     "name": "stdout",
     "output_type": "stream",
     "text": [
      "Output: 7\n"
     ]
    },
    {
     "data": {
      "image/svg+xml": [
       "<svg height=\"22pt\" viewBox=\"0.00 0.00 184.00 22.00\" width=\"184pt\" xmlns=\"http://www.w3.org/2000/svg\" xmlns:xlink=\"http://www.w3.org/1999/xlink\">\n",
       "<g class=\"graph\" id=\"graph0\" transform=\"scale(1 1) rotate(0) translate(4 18)\">\n",
       "<title>%3</title>\n",
       "<polygon fill=\"white\" points=\"-4,4 -4,-18 180,-18 180,4 -4,4\" stroke=\"none\"/>\n",
       "<!-- A -->\n",
       "<g class=\"node\" id=\"node1\"><title>A</title>\n",
       "<polygon fill=\"white\" points=\"29,-14 0,-14 0,-0 29,-0 29,-14\" stroke=\"#494744\"/>\n",
       "<text fill=\"#494744\" font-family=\"Helvetica,sans-Serif\" font-size=\"8.00\" text-anchor=\"middle\" x=\"14.5\" y=\"-4.6\">A</text>\n",
       "</g>\n",
       "<!-- B -->\n",
       "<g class=\"node\" id=\"node2\"><title>B</title>\n",
       "<polygon fill=\"white\" points=\"76,-14 47,-14 47,-0 76,-0 76,-14\" stroke=\"#494744\"/>\n",
       "<text fill=\"#494744\" font-family=\"Helvetica,sans-Serif\" font-size=\"8.00\" text-anchor=\"middle\" x=\"61.5\" y=\"-4.6\">B</text>\n",
       "</g>\n",
       "<!-- choice -->\n",
       "<g class=\"node\" id=\"node3\"><title>choice</title>\n",
       "<polygon fill=\"white\" points=\"129.125,-14 93.8748,-14 93.8748,-0 129.125,-0 129.125,-14\" stroke=\"#494744\"/>\n",
       "<text fill=\"#494744\" font-family=\"Helvetica,sans-Serif\" font-size=\"8.00\" text-anchor=\"middle\" x=\"111.5\" y=\"-4.6\">choice</text>\n",
       "</g>\n",
       "<!-- expr -->\n",
       "<g class=\"node\" id=\"node4\"><title>expr</title>\n",
       "<polygon fill=\"#494744\" points=\"176,-14 147,-14 147,-0 176,-0 176,-14\" stroke=\"#494744\"/>\n",
       "<text fill=\"white\" font-family=\"Helvetica,sans-Serif\" font-size=\"8.00\" text-anchor=\"middle\" x=\"161.5\" y=\"-4.6\">expr</text>\n",
       "</g>\n",
       "</g>\n",
       "</svg>"
      ],
      "text/plain": [
       "<IPython.core.display.SVG object>"
      ]
     },
     "metadata": {},
     "output_type": "display_data"
    }
   ],
   "source": [
    "graph = graphcat.Graph()\n",
    "\n",
    "graph.set_task(\"A\", graphcat.constant(1))\n",
    "graph.set_task(\"B\", graphcat.constant(2))\n",
    "graph.set_task(\"choice\", graphcat.constant(True))\n",
    "graph.set_expression(\"expr\", \"3 + 4\")\n",
    "graphcat.notebook.display(graph)\n",
    "print(\"Output:\", graph.output(\"expr\"))\n",
    "graphcat.notebook.display(graph)"
   ]
  },
  {
   "cell_type": "code",
   "execution_count": 3,
   "metadata": {},
   "outputs": [],
   "source": [
    "def out(graph):\n",
    "    def implementation(label):\n",
    "        if label not in graph:\n",
    "            raise ValueError(f\"No task named {label!r}.\")\n",
    "        return graph.output(label)\n",
    "    return implementation\n",
    "\n",
    "locals = {\"out\": out(graph)}"
   ]
  },
  {
   "cell_type": "code",
   "execution_count": 4,
   "metadata": {},
   "outputs": [
    {
     "data": {
      "image/svg+xml": [
       "<svg height=\"22pt\" viewBox=\"0.00 0.00 184.00 22.00\" width=\"184pt\" xmlns=\"http://www.w3.org/2000/svg\" xmlns:xlink=\"http://www.w3.org/1999/xlink\">\n",
       "<g class=\"graph\" id=\"graph0\" transform=\"scale(1 1) rotate(0) translate(4 18)\">\n",
       "<title>%3</title>\n",
       "<polygon fill=\"white\" points=\"-4,4 -4,-18 180,-18 180,4 -4,4\" stroke=\"none\"/>\n",
       "<!-- A -->\n",
       "<g class=\"node\" id=\"node1\"><title>A</title>\n",
       "<polygon fill=\"white\" points=\"29,-14 0,-14 0,-0 29,-0 29,-14\" stroke=\"#494744\"/>\n",
       "<text fill=\"#494744\" font-family=\"Helvetica,sans-Serif\" font-size=\"8.00\" text-anchor=\"middle\" x=\"14.5\" y=\"-4.6\">A</text>\n",
       "</g>\n",
       "<!-- B -->\n",
       "<g class=\"node\" id=\"node2\"><title>B</title>\n",
       "<polygon fill=\"white\" points=\"76,-14 47,-14 47,-0 76,-0 76,-14\" stroke=\"#494744\"/>\n",
       "<text fill=\"#494744\" font-family=\"Helvetica,sans-Serif\" font-size=\"8.00\" text-anchor=\"middle\" x=\"61.5\" y=\"-4.6\">B</text>\n",
       "</g>\n",
       "<!-- choice -->\n",
       "<g class=\"node\" id=\"node3\"><title>choice</title>\n",
       "<polygon fill=\"white\" points=\"129.125,-14 93.8748,-14 93.8748,-0 129.125,-0 129.125,-14\" stroke=\"#494744\"/>\n",
       "<text fill=\"#494744\" font-family=\"Helvetica,sans-Serif\" font-size=\"8.00\" text-anchor=\"middle\" x=\"111.5\" y=\"-4.6\">choice</text>\n",
       "</g>\n",
       "<!-- expr -->\n",
       "<g class=\"node\" id=\"node4\"><title>expr</title>\n",
       "<polygon fill=\"white\" points=\"176,-14 147,-14 147,-0 176,-0 176,-14\" stroke=\"#494744\"/>\n",
       "<text fill=\"#494744\" font-family=\"Helvetica,sans-Serif\" font-size=\"8.00\" text-anchor=\"middle\" x=\"161.5\" y=\"-4.6\">expr</text>\n",
       "</g>\n",
       "</g>\n",
       "</svg>"
      ],
      "text/plain": [
       "<IPython.core.display.SVG object>"
      ]
     },
     "metadata": {},
     "output_type": "display_data"
    },
    {
     "name": "stdout",
     "output_type": "stream",
     "text": [
      "Output: 1\n"
     ]
    },
    {
     "data": {
      "image/svg+xml": [
       "<svg height=\"74pt\" viewBox=\"0.00 0.00 227.16 74.00\" width=\"227pt\" xmlns=\"http://www.w3.org/2000/svg\" xmlns:xlink=\"http://www.w3.org/1999/xlink\">\n",
       "<g class=\"graph\" id=\"graph0\" transform=\"scale(1 1) rotate(0) translate(4 70)\">\n",
       "<title>%3</title>\n",
       "<polygon fill=\"white\" points=\"-4,4 -4,-70 223.164,-70 223.164,4 -4,4\" stroke=\"none\"/>\n",
       "<!-- A -->\n",
       "<g class=\"node\" id=\"node1\"><title>A</title>\n",
       "<polygon fill=\"#494744\" points=\"29,-66 0,-66 0,-52 29,-52 29,-66\" stroke=\"#494744\"/>\n",
       "<text fill=\"white\" font-family=\"Helvetica,sans-Serif\" font-size=\"8.00\" text-anchor=\"middle\" x=\"14.5\" y=\"-56.6\">A</text>\n",
       "</g>\n",
       "<!-- expr -->\n",
       "<g class=\"node\" id=\"node2\"><title>expr</title>\n",
       "<polygon fill=\"#494744\" points=\"89,-14 60,-14 60,-0 89,-0 89,-14\" stroke=\"#494744\"/>\n",
       "<text fill=\"white\" font-family=\"Helvetica,sans-Serif\" font-size=\"8.00\" text-anchor=\"middle\" x=\"74.5\" y=\"-4.6\">expr</text>\n",
       "</g>\n",
       "<!-- A&#45;&gt;expr -->\n",
       "<g class=\"edge\" id=\"edge1\"><title>A-&gt;expr</title>\n",
       "<path d=\"M12.9005,-51.56C11.719,-45.1917 11.0425,-35.4848 15.8359,-29 23.6938,-18.3694 37.4173,-13.1028 49.616,-10.5014\" fill=\"none\" stroke=\"#494744\"/>\n",
       "<polygon fill=\"#494744\" points=\"50.4582,-13.91 59.7577,-8.83358 49.3223,-7.00274 50.4582,-13.91\" stroke=\"#494744\"/>\n",
       "<text font-family=\"Helvetica,sans-Serif\" font-size=\"8.00\" text-anchor=\"middle\" x=\"65.332\" y=\"-30.6\">Input.AUTODEPENDENCY</text>\n",
       "</g>\n",
       "<!-- B -->\n",
       "<g class=\"node\" id=\"node3\"><title>B</title>\n",
       "<polygon fill=\"white\" points=\"200,-66 171,-66 171,-52 200,-52 200,-66\" stroke=\"#494744\"/>\n",
       "<text fill=\"#494744\" font-family=\"Helvetica,sans-Serif\" font-size=\"8.00\" text-anchor=\"middle\" x=\"185.5\" y=\"-56.6\">B</text>\n",
       "</g>\n",
       "<!-- choice -->\n",
       "<g class=\"node\" id=\"node4\"><title>choice</title>\n",
       "<polygon fill=\"#494744\" points=\"153.125,-66 117.875,-66 117.875,-52 153.125,-52 153.125,-66\" stroke=\"#494744\"/>\n",
       "<text fill=\"white\" font-family=\"Helvetica,sans-Serif\" font-size=\"8.00\" text-anchor=\"middle\" x=\"135.5\" y=\"-56.6\">choice</text>\n",
       "</g>\n",
       "<!-- choice&#45;&gt;expr -->\n",
       "<g class=\"edge\" id=\"edge2\"><title>choice-&gt;expr</title>\n",
       "<path d=\"M131.78,-51.5978C127.855,-45.259 121.182,-35.5745 113.5,-29 108.972,-25.1249 103.611,-21.6714 98.3371,-18.7394\" fill=\"none\" stroke=\"#494744\"/>\n",
       "<polygon fill=\"#494744\" points=\"99.6339,-15.4719 89.1354,-14.0467 96.4537,-21.7078 99.6339,-15.4719\" stroke=\"#494744\"/>\n",
       "<text font-family=\"Helvetica,sans-Serif\" font-size=\"8.00\" text-anchor=\"middle\" x=\"170.332\" y=\"-30.6\">Input.AUTODEPENDENCY</text>\n",
       "</g>\n",
       "</g>\n",
       "</svg>"
      ],
      "text/plain": [
       "<IPython.core.display.SVG object>"
      ]
     },
     "metadata": {},
     "output_type": "display_data"
    }
   ],
   "source": [
    "graph.set_expression(\"expr\", \"out('A') if out('choice') else out('B')\", locals)\n",
    "graphcat.notebook.display(graph)\n",
    "print(\"Output:\", graph.output(\"expr\"))\n",
    "graphcat.notebook.display(graph)"
   ]
  },
  {
   "cell_type": "code",
   "execution_count": 5,
   "metadata": {},
   "outputs": [
    {
     "data": {
      "image/svg+xml": [
       "<svg height=\"74pt\" viewBox=\"0.00 0.00 227.16 74.00\" width=\"227pt\" xmlns=\"http://www.w3.org/2000/svg\" xmlns:xlink=\"http://www.w3.org/1999/xlink\">\n",
       "<g class=\"graph\" id=\"graph0\" transform=\"scale(1 1) rotate(0) translate(4 70)\">\n",
       "<title>%3</title>\n",
       "<polygon fill=\"white\" points=\"-4,4 -4,-70 223.164,-70 223.164,4 -4,4\" stroke=\"none\"/>\n",
       "<!-- A -->\n",
       "<g class=\"node\" id=\"node1\"><title>A</title>\n",
       "<polygon fill=\"white\" points=\"29,-66 0,-66 0,-52 29,-52 29,-66\" stroke=\"#494744\"/>\n",
       "<text fill=\"#494744\" font-family=\"Helvetica,sans-Serif\" font-size=\"8.00\" text-anchor=\"middle\" x=\"14.5\" y=\"-56.6\">A</text>\n",
       "</g>\n",
       "<!-- expr -->\n",
       "<g class=\"node\" id=\"node2\"><title>expr</title>\n",
       "<polygon fill=\"white\" points=\"89,-14 60,-14 60,-0 89,-0 89,-14\" stroke=\"#494744\"/>\n",
       "<text fill=\"#494744\" font-family=\"Helvetica,sans-Serif\" font-size=\"8.00\" text-anchor=\"middle\" x=\"74.5\" y=\"-4.6\">expr</text>\n",
       "</g>\n",
       "<!-- A&#45;&gt;expr -->\n",
       "<g class=\"edge\" id=\"edge1\"><title>A-&gt;expr</title>\n",
       "<path d=\"M12.9005,-51.56C11.719,-45.1917 11.0425,-35.4848 15.8359,-29 23.6938,-18.3694 37.4173,-13.1028 49.616,-10.5014\" fill=\"none\" stroke=\"#494744\"/>\n",
       "<polygon fill=\"#494744\" points=\"50.4582,-13.91 59.7577,-8.83358 49.3223,-7.00274 50.4582,-13.91\" stroke=\"#494744\"/>\n",
       "<text font-family=\"Helvetica,sans-Serif\" font-size=\"8.00\" text-anchor=\"middle\" x=\"65.332\" y=\"-30.6\">Input.AUTODEPENDENCY</text>\n",
       "</g>\n",
       "<!-- B -->\n",
       "<g class=\"node\" id=\"node3\"><title>B</title>\n",
       "<polygon fill=\"white\" points=\"200,-66 171,-66 171,-52 200,-52 200,-66\" stroke=\"#494744\"/>\n",
       "<text fill=\"#494744\" font-family=\"Helvetica,sans-Serif\" font-size=\"8.00\" text-anchor=\"middle\" x=\"185.5\" y=\"-56.6\">B</text>\n",
       "</g>\n",
       "<!-- choice -->\n",
       "<g class=\"node\" id=\"node4\"><title>choice</title>\n",
       "<polygon fill=\"#494744\" points=\"153.125,-66 117.875,-66 117.875,-52 153.125,-52 153.125,-66\" stroke=\"#494744\"/>\n",
       "<text fill=\"white\" font-family=\"Helvetica,sans-Serif\" font-size=\"8.00\" text-anchor=\"middle\" x=\"135.5\" y=\"-56.6\">choice</text>\n",
       "</g>\n",
       "<!-- choice&#45;&gt;expr -->\n",
       "<g class=\"edge\" id=\"edge2\"><title>choice-&gt;expr</title>\n",
       "<path d=\"M131.78,-51.5978C127.855,-45.259 121.182,-35.5745 113.5,-29 108.972,-25.1249 103.611,-21.6714 98.3371,-18.7394\" fill=\"none\" stroke=\"#494744\"/>\n",
       "<polygon fill=\"#494744\" points=\"99.6339,-15.4719 89.1354,-14.0467 96.4537,-21.7078 99.6339,-15.4719\" stroke=\"#494744\"/>\n",
       "<text font-family=\"Helvetica,sans-Serif\" font-size=\"8.00\" text-anchor=\"middle\" x=\"170.332\" y=\"-30.6\">Input.AUTODEPENDENCY</text>\n",
       "</g>\n",
       "</g>\n",
       "</svg>"
      ],
      "text/plain": [
       "<IPython.core.display.SVG object>"
      ]
     },
     "metadata": {},
     "output_type": "display_data"
    },
    {
     "name": "stdout",
     "output_type": "stream",
     "text": [
      "Output: 3\n"
     ]
    },
    {
     "data": {
      "image/svg+xml": [
       "<svg height=\"74pt\" viewBox=\"0.00 0.00 227.16 74.00\" width=\"227pt\" xmlns=\"http://www.w3.org/2000/svg\" xmlns:xlink=\"http://www.w3.org/1999/xlink\">\n",
       "<g class=\"graph\" id=\"graph0\" transform=\"scale(1 1) rotate(0) translate(4 70)\">\n",
       "<title>%3</title>\n",
       "<polygon fill=\"white\" points=\"-4,4 -4,-70 223.164,-70 223.164,4 -4,4\" stroke=\"none\"/>\n",
       "<!-- A -->\n",
       "<g class=\"node\" id=\"node1\"><title>A</title>\n",
       "<polygon fill=\"#494744\" points=\"29,-66 0,-66 0,-52 29,-52 29,-66\" stroke=\"#494744\"/>\n",
       "<text fill=\"white\" font-family=\"Helvetica,sans-Serif\" font-size=\"8.00\" text-anchor=\"middle\" x=\"14.5\" y=\"-56.6\">A</text>\n",
       "</g>\n",
       "<!-- expr -->\n",
       "<g class=\"node\" id=\"node2\"><title>expr</title>\n",
       "<polygon fill=\"#494744\" points=\"89,-14 60,-14 60,-0 89,-0 89,-14\" stroke=\"#494744\"/>\n",
       "<text fill=\"white\" font-family=\"Helvetica,sans-Serif\" font-size=\"8.00\" text-anchor=\"middle\" x=\"74.5\" y=\"-4.6\">expr</text>\n",
       "</g>\n",
       "<!-- A&#45;&gt;expr -->\n",
       "<g class=\"edge\" id=\"edge1\"><title>A-&gt;expr</title>\n",
       "<path d=\"M12.9005,-51.56C11.719,-45.1917 11.0425,-35.4848 15.8359,-29 23.6938,-18.3694 37.4173,-13.1028 49.616,-10.5014\" fill=\"none\" stroke=\"#494744\"/>\n",
       "<polygon fill=\"#494744\" points=\"50.4582,-13.91 59.7577,-8.83358 49.3223,-7.00274 50.4582,-13.91\" stroke=\"#494744\"/>\n",
       "<text font-family=\"Helvetica,sans-Serif\" font-size=\"8.00\" text-anchor=\"middle\" x=\"65.332\" y=\"-30.6\">Input.AUTODEPENDENCY</text>\n",
       "</g>\n",
       "<!-- B -->\n",
       "<g class=\"node\" id=\"node3\"><title>B</title>\n",
       "<polygon fill=\"white\" points=\"200,-66 171,-66 171,-52 200,-52 200,-66\" stroke=\"#494744\"/>\n",
       "<text fill=\"#494744\" font-family=\"Helvetica,sans-Serif\" font-size=\"8.00\" text-anchor=\"middle\" x=\"185.5\" y=\"-56.6\">B</text>\n",
       "</g>\n",
       "<!-- choice -->\n",
       "<g class=\"node\" id=\"node4\"><title>choice</title>\n",
       "<polygon fill=\"#494744\" points=\"153.125,-66 117.875,-66 117.875,-52 153.125,-52 153.125,-66\" stroke=\"#494744\"/>\n",
       "<text fill=\"white\" font-family=\"Helvetica,sans-Serif\" font-size=\"8.00\" text-anchor=\"middle\" x=\"135.5\" y=\"-56.6\">choice</text>\n",
       "</g>\n",
       "<!-- choice&#45;&gt;expr -->\n",
       "<g class=\"edge\" id=\"edge2\"><title>choice-&gt;expr</title>\n",
       "<path d=\"M131.78,-51.5978C127.855,-45.259 121.182,-35.5745 113.5,-29 108.972,-25.1249 103.611,-21.6714 98.3371,-18.7394\" fill=\"none\" stroke=\"#494744\"/>\n",
       "<polygon fill=\"#494744\" points=\"99.6339,-15.4719 89.1354,-14.0467 96.4537,-21.7078 99.6339,-15.4719\" stroke=\"#494744\"/>\n",
       "<text font-family=\"Helvetica,sans-Serif\" font-size=\"8.00\" text-anchor=\"middle\" x=\"170.332\" y=\"-30.6\">Input.AUTODEPENDENCY</text>\n",
       "</g>\n",
       "</g>\n",
       "</svg>"
      ],
      "text/plain": [
       "<IPython.core.display.SVG object>"
      ]
     },
     "metadata": {},
     "output_type": "display_data"
    }
   ],
   "source": [
    "graph.set_task(\"A\", graphcat.constant(3))\n",
    "graphcat.notebook.display(graph)\n",
    "print(\"Output:\", graph.output(\"expr\"))\n",
    "graphcat.notebook.display(graph)"
   ]
  },
  {
   "cell_type": "code",
   "execution_count": 6,
   "metadata": {},
   "outputs": [
    {
     "data": {
      "image/svg+xml": [
       "<svg height=\"74pt\" viewBox=\"0.00 0.00 227.16 74.00\" width=\"227pt\" xmlns=\"http://www.w3.org/2000/svg\" xmlns:xlink=\"http://www.w3.org/1999/xlink\">\n",
       "<g class=\"graph\" id=\"graph0\" transform=\"scale(1 1) rotate(0) translate(4 70)\">\n",
       "<title>%3</title>\n",
       "<polygon fill=\"white\" points=\"-4,4 -4,-70 223.164,-70 223.164,4 -4,4\" stroke=\"none\"/>\n",
       "<!-- A -->\n",
       "<g class=\"node\" id=\"node1\"><title>A</title>\n",
       "<polygon fill=\"#494744\" points=\"29,-66 0,-66 0,-52 29,-52 29,-66\" stroke=\"#494744\"/>\n",
       "<text fill=\"white\" font-family=\"Helvetica,sans-Serif\" font-size=\"8.00\" text-anchor=\"middle\" x=\"14.5\" y=\"-56.6\">A</text>\n",
       "</g>\n",
       "<!-- expr -->\n",
       "<g class=\"node\" id=\"node2\"><title>expr</title>\n",
       "<polygon fill=\"white\" points=\"89,-14 60,-14 60,-0 89,-0 89,-14\" stroke=\"#494744\"/>\n",
       "<text fill=\"#494744\" font-family=\"Helvetica,sans-Serif\" font-size=\"8.00\" text-anchor=\"middle\" x=\"74.5\" y=\"-4.6\">expr</text>\n",
       "</g>\n",
       "<!-- A&#45;&gt;expr -->\n",
       "<g class=\"edge\" id=\"edge1\"><title>A-&gt;expr</title>\n",
       "<path d=\"M12.9005,-51.56C11.719,-45.1917 11.0425,-35.4848 15.8359,-29 23.6938,-18.3694 37.4173,-13.1028 49.616,-10.5014\" fill=\"none\" stroke=\"#494744\"/>\n",
       "<polygon fill=\"#494744\" points=\"50.4582,-13.91 59.7577,-8.83358 49.3223,-7.00274 50.4582,-13.91\" stroke=\"#494744\"/>\n",
       "<text font-family=\"Helvetica,sans-Serif\" font-size=\"8.00\" text-anchor=\"middle\" x=\"65.332\" y=\"-30.6\">Input.AUTODEPENDENCY</text>\n",
       "</g>\n",
       "<!-- B -->\n",
       "<g class=\"node\" id=\"node3\"><title>B</title>\n",
       "<polygon fill=\"white\" points=\"200,-66 171,-66 171,-52 200,-52 200,-66\" stroke=\"#494744\"/>\n",
       "<text fill=\"#494744\" font-family=\"Helvetica,sans-Serif\" font-size=\"8.00\" text-anchor=\"middle\" x=\"185.5\" y=\"-56.6\">B</text>\n",
       "</g>\n",
       "<!-- choice -->\n",
       "<g class=\"node\" id=\"node4\"><title>choice</title>\n",
       "<polygon fill=\"white\" points=\"153.125,-66 117.875,-66 117.875,-52 153.125,-52 153.125,-66\" stroke=\"#494744\"/>\n",
       "<text fill=\"#494744\" font-family=\"Helvetica,sans-Serif\" font-size=\"8.00\" text-anchor=\"middle\" x=\"135.5\" y=\"-56.6\">choice</text>\n",
       "</g>\n",
       "<!-- choice&#45;&gt;expr -->\n",
       "<g class=\"edge\" id=\"edge2\"><title>choice-&gt;expr</title>\n",
       "<path d=\"M131.78,-51.5978C127.855,-45.259 121.182,-35.5745 113.5,-29 108.972,-25.1249 103.611,-21.6714 98.3371,-18.7394\" fill=\"none\" stroke=\"#494744\"/>\n",
       "<polygon fill=\"#494744\" points=\"99.6339,-15.4719 89.1354,-14.0467 96.4537,-21.7078 99.6339,-15.4719\" stroke=\"#494744\"/>\n",
       "<text font-family=\"Helvetica,sans-Serif\" font-size=\"8.00\" text-anchor=\"middle\" x=\"170.332\" y=\"-30.6\">Input.AUTODEPENDENCY</text>\n",
       "</g>\n",
       "</g>\n",
       "</svg>"
      ],
      "text/plain": [
       "<IPython.core.display.SVG object>"
      ]
     },
     "metadata": {},
     "output_type": "display_data"
    },
    {
     "name": "stdout",
     "output_type": "stream",
     "text": [
      "Output: 2\n"
     ]
    },
    {
     "data": {
      "image/svg+xml": [
       "<svg height=\"74pt\" viewBox=\"0.00 0.00 274.16 74.00\" width=\"274pt\" xmlns=\"http://www.w3.org/2000/svg\" xmlns:xlink=\"http://www.w3.org/1999/xlink\">\n",
       "<g class=\"graph\" id=\"graph0\" transform=\"scale(1 1) rotate(0) translate(4 70)\">\n",
       "<title>%3</title>\n",
       "<polygon fill=\"white\" points=\"-4,4 -4,-70 270.164,-70 270.164,4 -4,4\" stroke=\"none\"/>\n",
       "<!-- A -->\n",
       "<g class=\"node\" id=\"node1\"><title>A</title>\n",
       "<polygon fill=\"#494744\" points=\"29,-66 0,-66 0,-52 29,-52 29,-66\" stroke=\"#494744\"/>\n",
       "<text fill=\"white\" font-family=\"Helvetica,sans-Serif\" font-size=\"8.00\" text-anchor=\"middle\" x=\"14.5\" y=\"-56.6\">A</text>\n",
       "</g>\n",
       "<!-- B -->\n",
       "<g class=\"node\" id=\"node2\"><title>B</title>\n",
       "<polygon fill=\"#494744\" points=\"76,-66 47,-66 47,-52 76,-52 76,-66\" stroke=\"#494744\"/>\n",
       "<text fill=\"white\" font-family=\"Helvetica,sans-Serif\" font-size=\"8.00\" text-anchor=\"middle\" x=\"61.5\" y=\"-56.6\">B</text>\n",
       "</g>\n",
       "<!-- expr -->\n",
       "<g class=\"node\" id=\"node3\"><title>expr</title>\n",
       "<polygon fill=\"#494744\" points=\"136,-14 107,-14 107,-0 136,-0 136,-14\" stroke=\"#494744\"/>\n",
       "<text fill=\"white\" font-family=\"Helvetica,sans-Serif\" font-size=\"8.00\" text-anchor=\"middle\" x=\"121.5\" y=\"-4.6\">expr</text>\n",
       "</g>\n",
       "<!-- B&#45;&gt;expr -->\n",
       "<g class=\"edge\" id=\"edge1\"><title>B-&gt;expr</title>\n",
       "<path d=\"M59.9005,-51.56C58.719,-45.1917 58.0425,-35.4848 62.8359,-29 70.6938,-18.3694 84.4173,-13.1028 96.616,-10.5014\" fill=\"none\" stroke=\"#494744\"/>\n",
       "<polygon fill=\"#494744\" points=\"97.4582,-13.91 106.758,-8.83358 96.3223,-7.00274 97.4582,-13.91\" stroke=\"#494744\"/>\n",
       "<text font-family=\"Helvetica,sans-Serif\" font-size=\"8.00\" text-anchor=\"middle\" x=\"112.332\" y=\"-30.6\">Input.AUTODEPENDENCY</text>\n",
       "</g>\n",
       "<!-- choice -->\n",
       "<g class=\"node\" id=\"node4\"><title>choice</title>\n",
       "<polygon fill=\"#494744\" points=\"200.125,-66 164.875,-66 164.875,-52 200.125,-52 200.125,-66\" stroke=\"#494744\"/>\n",
       "<text fill=\"white\" font-family=\"Helvetica,sans-Serif\" font-size=\"8.00\" text-anchor=\"middle\" x=\"182.5\" y=\"-56.6\">choice</text>\n",
       "</g>\n",
       "<!-- choice&#45;&gt;expr -->\n",
       "<g class=\"edge\" id=\"edge2\"><title>choice-&gt;expr</title>\n",
       "<path d=\"M178.78,-51.5978C174.855,-45.259 168.182,-35.5745 160.5,-29 155.972,-25.1249 150.611,-21.6714 145.337,-18.7394\" fill=\"none\" stroke=\"#494744\"/>\n",
       "<polygon fill=\"#494744\" points=\"146.634,-15.4719 136.135,-14.0467 143.454,-21.7078 146.634,-15.4719\" stroke=\"#494744\"/>\n",
       "<text font-family=\"Helvetica,sans-Serif\" font-size=\"8.00\" text-anchor=\"middle\" x=\"217.332\" y=\"-30.6\">Input.AUTODEPENDENCY</text>\n",
       "</g>\n",
       "</g>\n",
       "</svg>"
      ],
      "text/plain": [
       "<IPython.core.display.SVG object>"
      ]
     },
     "metadata": {},
     "output_type": "display_data"
    }
   ],
   "source": [
    "graph.set_task(\"choice\", graphcat.constant(False))\n",
    "graphcat.notebook.display(graph)\n",
    "print(\"Output:\", graph.output(\"expr\"))\n",
    "graphcat.notebook.display(graph)"
   ]
  },
  {
   "cell_type": "code",
   "execution_count": 7,
   "metadata": {},
   "outputs": [
    {
     "data": {
      "image/svg+xml": [
       "<svg height=\"74pt\" viewBox=\"0.00 0.00 274.16 74.00\" width=\"274pt\" xmlns=\"http://www.w3.org/2000/svg\" xmlns:xlink=\"http://www.w3.org/1999/xlink\">\n",
       "<g class=\"graph\" id=\"graph0\" transform=\"scale(1 1) rotate(0) translate(4 70)\">\n",
       "<title>%3</title>\n",
       "<polygon fill=\"white\" points=\"-4,4 -4,-70 270.164,-70 270.164,4 -4,4\" stroke=\"none\"/>\n",
       "<!-- A -->\n",
       "<g class=\"node\" id=\"node1\"><title>A</title>\n",
       "<polygon fill=\"#494744\" points=\"29,-66 0,-66 0,-52 29,-52 29,-66\" stroke=\"#494744\"/>\n",
       "<text fill=\"white\" font-family=\"Helvetica,sans-Serif\" font-size=\"8.00\" text-anchor=\"middle\" x=\"14.5\" y=\"-56.6\">A</text>\n",
       "</g>\n",
       "<!-- B -->\n",
       "<g class=\"node\" id=\"node2\"><title>B</title>\n",
       "<polygon fill=\"white\" points=\"76,-66 47,-66 47,-52 76,-52 76,-66\" stroke=\"#494744\"/>\n",
       "<text fill=\"#494744\" font-family=\"Helvetica,sans-Serif\" font-size=\"8.00\" text-anchor=\"middle\" x=\"61.5\" y=\"-56.6\">B</text>\n",
       "</g>\n",
       "<!-- expr -->\n",
       "<g class=\"node\" id=\"node3\"><title>expr</title>\n",
       "<polygon fill=\"white\" points=\"136,-14 107,-14 107,-0 136,-0 136,-14\" stroke=\"#494744\"/>\n",
       "<text fill=\"#494744\" font-family=\"Helvetica,sans-Serif\" font-size=\"8.00\" text-anchor=\"middle\" x=\"121.5\" y=\"-4.6\">expr</text>\n",
       "</g>\n",
       "<!-- B&#45;&gt;expr -->\n",
       "<g class=\"edge\" id=\"edge1\"><title>B-&gt;expr</title>\n",
       "<path d=\"M59.9005,-51.56C58.719,-45.1917 58.0425,-35.4848 62.8359,-29 70.6938,-18.3694 84.4173,-13.1028 96.616,-10.5014\" fill=\"none\" stroke=\"#494744\"/>\n",
       "<polygon fill=\"#494744\" points=\"97.4582,-13.91 106.758,-8.83358 96.3223,-7.00274 97.4582,-13.91\" stroke=\"#494744\"/>\n",
       "<text font-family=\"Helvetica,sans-Serif\" font-size=\"8.00\" text-anchor=\"middle\" x=\"112.332\" y=\"-30.6\">Input.AUTODEPENDENCY</text>\n",
       "</g>\n",
       "<!-- choice -->\n",
       "<g class=\"node\" id=\"node4\"><title>choice</title>\n",
       "<polygon fill=\"#494744\" points=\"200.125,-66 164.875,-66 164.875,-52 200.125,-52 200.125,-66\" stroke=\"#494744\"/>\n",
       "<text fill=\"white\" font-family=\"Helvetica,sans-Serif\" font-size=\"8.00\" text-anchor=\"middle\" x=\"182.5\" y=\"-56.6\">choice</text>\n",
       "</g>\n",
       "<!-- choice&#45;&gt;expr -->\n",
       "<g class=\"edge\" id=\"edge2\"><title>choice-&gt;expr</title>\n",
       "<path d=\"M178.78,-51.5978C174.855,-45.259 168.182,-35.5745 160.5,-29 155.972,-25.1249 150.611,-21.6714 145.337,-18.7394\" fill=\"none\" stroke=\"#494744\"/>\n",
       "<polygon fill=\"#494744\" points=\"146.634,-15.4719 136.135,-14.0467 143.454,-21.7078 146.634,-15.4719\" stroke=\"#494744\"/>\n",
       "<text font-family=\"Helvetica,sans-Serif\" font-size=\"8.00\" text-anchor=\"middle\" x=\"217.332\" y=\"-30.6\">Input.AUTODEPENDENCY</text>\n",
       "</g>\n",
       "</g>\n",
       "</svg>"
      ],
      "text/plain": [
       "<IPython.core.display.SVG object>"
      ]
     },
     "metadata": {},
     "output_type": "display_data"
    },
    {
     "name": "stdout",
     "output_type": "stream",
     "text": [
      "Output: 4\n"
     ]
    },
    {
     "data": {
      "image/svg+xml": [
       "<svg height=\"74pt\" viewBox=\"0.00 0.00 274.16 74.00\" width=\"274pt\" xmlns=\"http://www.w3.org/2000/svg\" xmlns:xlink=\"http://www.w3.org/1999/xlink\">\n",
       "<g class=\"graph\" id=\"graph0\" transform=\"scale(1 1) rotate(0) translate(4 70)\">\n",
       "<title>%3</title>\n",
       "<polygon fill=\"white\" points=\"-4,4 -4,-70 270.164,-70 270.164,4 -4,4\" stroke=\"none\"/>\n",
       "<!-- A -->\n",
       "<g class=\"node\" id=\"node1\"><title>A</title>\n",
       "<polygon fill=\"#494744\" points=\"29,-66 0,-66 0,-52 29,-52 29,-66\" stroke=\"#494744\"/>\n",
       "<text fill=\"white\" font-family=\"Helvetica,sans-Serif\" font-size=\"8.00\" text-anchor=\"middle\" x=\"14.5\" y=\"-56.6\">A</text>\n",
       "</g>\n",
       "<!-- B -->\n",
       "<g class=\"node\" id=\"node2\"><title>B</title>\n",
       "<polygon fill=\"#494744\" points=\"76,-66 47,-66 47,-52 76,-52 76,-66\" stroke=\"#494744\"/>\n",
       "<text fill=\"white\" font-family=\"Helvetica,sans-Serif\" font-size=\"8.00\" text-anchor=\"middle\" x=\"61.5\" y=\"-56.6\">B</text>\n",
       "</g>\n",
       "<!-- expr -->\n",
       "<g class=\"node\" id=\"node3\"><title>expr</title>\n",
       "<polygon fill=\"#494744\" points=\"136,-14 107,-14 107,-0 136,-0 136,-14\" stroke=\"#494744\"/>\n",
       "<text fill=\"white\" font-family=\"Helvetica,sans-Serif\" font-size=\"8.00\" text-anchor=\"middle\" x=\"121.5\" y=\"-4.6\">expr</text>\n",
       "</g>\n",
       "<!-- B&#45;&gt;expr -->\n",
       "<g class=\"edge\" id=\"edge1\"><title>B-&gt;expr</title>\n",
       "<path d=\"M59.9005,-51.56C58.719,-45.1917 58.0425,-35.4848 62.8359,-29 70.6938,-18.3694 84.4173,-13.1028 96.616,-10.5014\" fill=\"none\" stroke=\"#494744\"/>\n",
       "<polygon fill=\"#494744\" points=\"97.4582,-13.91 106.758,-8.83358 96.3223,-7.00274 97.4582,-13.91\" stroke=\"#494744\"/>\n",
       "<text font-family=\"Helvetica,sans-Serif\" font-size=\"8.00\" text-anchor=\"middle\" x=\"112.332\" y=\"-30.6\">Input.AUTODEPENDENCY</text>\n",
       "</g>\n",
       "<!-- choice -->\n",
       "<g class=\"node\" id=\"node4\"><title>choice</title>\n",
       "<polygon fill=\"#494744\" points=\"200.125,-66 164.875,-66 164.875,-52 200.125,-52 200.125,-66\" stroke=\"#494744\"/>\n",
       "<text fill=\"white\" font-family=\"Helvetica,sans-Serif\" font-size=\"8.00\" text-anchor=\"middle\" x=\"182.5\" y=\"-56.6\">choice</text>\n",
       "</g>\n",
       "<!-- choice&#45;&gt;expr -->\n",
       "<g class=\"edge\" id=\"edge2\"><title>choice-&gt;expr</title>\n",
       "<path d=\"M178.78,-51.5978C174.855,-45.259 168.182,-35.5745 160.5,-29 155.972,-25.1249 150.611,-21.6714 145.337,-18.7394\" fill=\"none\" stroke=\"#494744\"/>\n",
       "<polygon fill=\"#494744\" points=\"146.634,-15.4719 136.135,-14.0467 143.454,-21.7078 146.634,-15.4719\" stroke=\"#494744\"/>\n",
       "<text font-family=\"Helvetica,sans-Serif\" font-size=\"8.00\" text-anchor=\"middle\" x=\"217.332\" y=\"-30.6\">Input.AUTODEPENDENCY</text>\n",
       "</g>\n",
       "</g>\n",
       "</svg>"
      ],
      "text/plain": [
       "<IPython.core.display.SVG object>"
      ]
     },
     "metadata": {},
     "output_type": "display_data"
    }
   ],
   "source": [
    "graph.set_task(\"B\", graphcat.constant(4))\n",
    "graphcat.notebook.display(graph)\n",
    "print(\"Output:\", graph.output(\"expr\"))\n",
    "graphcat.notebook.display(graph)"
   ]
  },
  {
   "cell_type": "code",
   "execution_count": 8,
   "metadata": {},
   "outputs": [
    {
     "name": "stderr",
     "output_type": "stream",
     "text": [
      "/Users/tshead/miniconda3/lib/python3.7/site-packages/ipykernel_launcher.py:1: DeprecationWarning: graphcat.Graph.move_task() is deprecated, use graphcat.Graph.rename_task() isntead.\n",
      "  \"\"\"Entry point for launching an IPython kernel.\n"
     ]
    },
    {
     "data": {
      "image/svg+xml": [
       "<svg height=\"74pt\" viewBox=\"0.00 0.00 277.16 74.00\" width=\"277pt\" xmlns=\"http://www.w3.org/2000/svg\" xmlns:xlink=\"http://www.w3.org/1999/xlink\">\n",
       "<g class=\"graph\" id=\"graph0\" transform=\"scale(1 1) rotate(0) translate(4 70)\">\n",
       "<title>%3</title>\n",
       "<polygon fill=\"white\" points=\"-4,4 -4,-70 273.164,-70 273.164,4 -4,4\" stroke=\"none\"/>\n",
       "<!-- A -->\n",
       "<g class=\"node\" id=\"node1\"><title>A</title>\n",
       "<polygon fill=\"#494744\" points=\"29,-66 0,-66 0,-52 29,-52 29,-66\" stroke=\"#494744\"/>\n",
       "<text fill=\"white\" font-family=\"Helvetica,sans-Serif\" font-size=\"8.00\" text-anchor=\"middle\" x=\"14.5\" y=\"-56.6\">A</text>\n",
       "</g>\n",
       "<!-- choice -->\n",
       "<g class=\"node\" id=\"node2\"><title>choice</title>\n",
       "<polygon fill=\"#494744\" points=\"82.1252,-66 46.8748,-66 46.8748,-52 82.1252,-52 82.1252,-66\" stroke=\"#494744\"/>\n",
       "<text fill=\"white\" font-family=\"Helvetica,sans-Serif\" font-size=\"8.00\" text-anchor=\"middle\" x=\"64.5\" y=\"-56.6\">choice</text>\n",
       "</g>\n",
       "<!-- expr -->\n",
       "<g class=\"node\" id=\"node3\"><title>expr</title>\n",
       "<polygon fill=\"white\" points=\"139,-14 110,-14 110,-0 139,-0 139,-14\" stroke=\"#494744\"/>\n",
       "<text fill=\"#494744\" font-family=\"Helvetica,sans-Serif\" font-size=\"8.00\" text-anchor=\"middle\" x=\"124.5\" y=\"-4.6\">expr</text>\n",
       "</g>\n",
       "<!-- choice&#45;&gt;expr -->\n",
       "<g class=\"edge\" id=\"edge1\"><title>choice-&gt;expr</title>\n",
       "<path d=\"M62.9005,-51.56C61.719,-45.1917 61.0425,-35.4848 65.8359,-29 73.6938,-18.3694 87.4173,-13.1028 99.616,-10.5014\" fill=\"none\" stroke=\"#494744\"/>\n",
       "<polygon fill=\"#494744\" points=\"100.458,-13.91 109.758,-8.83358 99.3223,-7.00274 100.458,-13.91\" stroke=\"#494744\"/>\n",
       "<text font-family=\"Helvetica,sans-Serif\" font-size=\"8.00\" text-anchor=\"middle\" x=\"115.332\" y=\"-30.6\">Input.AUTODEPENDENCY</text>\n",
       "</g>\n",
       "<!-- C -->\n",
       "<g class=\"node\" id=\"node4\"><title>C</title>\n",
       "<polygon fill=\"white\" points=\"200,-66 171,-66 171,-52 200,-52 200,-66\" stroke=\"#494744\"/>\n",
       "<text fill=\"#494744\" font-family=\"Helvetica,sans-Serif\" font-size=\"8.00\" text-anchor=\"middle\" x=\"185.5\" y=\"-56.6\">C</text>\n",
       "</g>\n",
       "<!-- C&#45;&gt;expr -->\n",
       "<g class=\"edge\" id=\"edge2\"><title>C-&gt;expr</title>\n",
       "<path d=\"M181.78,-51.5978C177.855,-45.259 171.182,-35.5745 163.5,-29 158.972,-25.1249 153.611,-21.6714 148.337,-18.7394\" fill=\"none\" stroke=\"#494744\"/>\n",
       "<polygon fill=\"#494744\" points=\"149.634,-15.4719 139.135,-14.0467 146.454,-21.7078 149.634,-15.4719\" stroke=\"#494744\"/>\n",
       "<text font-family=\"Helvetica,sans-Serif\" font-size=\"8.00\" text-anchor=\"middle\" x=\"220.332\" y=\"-30.6\">Input.AUTODEPENDENCY</text>\n",
       "</g>\n",
       "</g>\n",
       "</svg>"
      ],
      "text/plain": [
       "<IPython.core.display.SVG object>"
      ]
     },
     "metadata": {},
     "output_type": "display_data"
    }
   ],
   "source": [
    "graph.move_task(\"B\", \"C\")\n",
    "graphcat.notebook.display(graph)\n"
   ]
  },
  {
   "cell_type": "code",
   "execution_count": 9,
   "metadata": {},
   "outputs": [
    {
     "data": {
      "image/svg+xml": [
       "<svg height=\"74pt\" viewBox=\"0.00 0.00 277.16 74.00\" width=\"277pt\" xmlns=\"http://www.w3.org/2000/svg\" xmlns:xlink=\"http://www.w3.org/1999/xlink\">\n",
       "<g class=\"graph\" id=\"graph0\" transform=\"scale(1 1) rotate(0) translate(4 70)\">\n",
       "<title>%3</title>\n",
       "<polygon fill=\"white\" points=\"-4,4 -4,-70 273.164,-70 273.164,4 -4,4\" stroke=\"none\"/>\n",
       "<!-- A -->\n",
       "<g class=\"node\" id=\"node1\"><title>A</title>\n",
       "<polygon fill=\"#494744\" points=\"29,-66 0,-66 0,-52 29,-52 29,-66\" stroke=\"#494744\"/>\n",
       "<text fill=\"white\" font-family=\"Helvetica,sans-Serif\" font-size=\"8.00\" text-anchor=\"middle\" x=\"14.5\" y=\"-56.6\">A</text>\n",
       "</g>\n",
       "<!-- choice -->\n",
       "<g class=\"node\" id=\"node2\"><title>choice</title>\n",
       "<polygon fill=\"#494744\" points=\"82.1252,-66 46.8748,-66 46.8748,-52 82.1252,-52 82.1252,-66\" stroke=\"#494744\"/>\n",
       "<text fill=\"white\" font-family=\"Helvetica,sans-Serif\" font-size=\"8.00\" text-anchor=\"middle\" x=\"64.5\" y=\"-56.6\">choice</text>\n",
       "</g>\n",
       "<!-- expr -->\n",
       "<g class=\"node\" id=\"node3\"><title>expr</title>\n",
       "<polygon fill=\"white\" points=\"139,-14 110,-14 110,-0 139,-0 139,-14\" stroke=\"#494744\"/>\n",
       "<text fill=\"#494744\" font-family=\"Helvetica,sans-Serif\" font-size=\"8.00\" text-anchor=\"middle\" x=\"124.5\" y=\"-4.6\">expr</text>\n",
       "</g>\n",
       "<!-- choice&#45;&gt;expr -->\n",
       "<g class=\"edge\" id=\"edge1\"><title>choice-&gt;expr</title>\n",
       "<path d=\"M62.9005,-51.56C61.719,-45.1917 61.0425,-35.4848 65.8359,-29 73.6938,-18.3694 87.4173,-13.1028 99.616,-10.5014\" fill=\"none\" stroke=\"#494744\"/>\n",
       "<polygon fill=\"#494744\" points=\"100.458,-13.91 109.758,-8.83358 99.3223,-7.00274 100.458,-13.91\" stroke=\"#494744\"/>\n",
       "<text font-family=\"Helvetica,sans-Serif\" font-size=\"8.00\" text-anchor=\"middle\" x=\"115.332\" y=\"-30.6\">Input.AUTODEPENDENCY</text>\n",
       "</g>\n",
       "<!-- C -->\n",
       "<g class=\"node\" id=\"node4\"><title>C</title>\n",
       "<polygon fill=\"white\" points=\"200,-66 171,-66 171,-52 200,-52 200,-66\" stroke=\"#494744\"/>\n",
       "<text fill=\"#494744\" font-family=\"Helvetica,sans-Serif\" font-size=\"8.00\" text-anchor=\"middle\" x=\"185.5\" y=\"-56.6\">C</text>\n",
       "</g>\n",
       "<!-- C&#45;&gt;expr -->\n",
       "<g class=\"edge\" id=\"edge2\"><title>C-&gt;expr</title>\n",
       "<path d=\"M181.78,-51.5978C177.855,-45.259 171.182,-35.5745 163.5,-29 158.972,-25.1249 153.611,-21.6714 148.337,-18.7394\" fill=\"none\" stroke=\"#494744\"/>\n",
       "<polygon fill=\"#494744\" points=\"149.634,-15.4719 139.135,-14.0467 146.454,-21.7078 149.634,-15.4719\" stroke=\"#494744\"/>\n",
       "<text font-family=\"Helvetica,sans-Serif\" font-size=\"8.00\" text-anchor=\"middle\" x=\"220.332\" y=\"-30.6\">Input.AUTODEPENDENCY</text>\n",
       "</g>\n",
       "</g>\n",
       "</svg>"
      ],
      "text/plain": [
       "<IPython.core.display.SVG object>"
      ]
     },
     "metadata": {},
     "output_type": "display_data"
    },
    {
     "name": "stdout",
     "output_type": "stream",
     "text": [
      "Output: 4\n"
     ]
    },
    {
     "data": {
      "image/svg+xml": [
       "<svg height=\"74pt\" viewBox=\"0.00 0.00 277.16 74.00\" width=\"277pt\" xmlns=\"http://www.w3.org/2000/svg\" xmlns:xlink=\"http://www.w3.org/1999/xlink\">\n",
       "<g class=\"graph\" id=\"graph0\" transform=\"scale(1 1) rotate(0) translate(4 70)\">\n",
       "<title>%3</title>\n",
       "<polygon fill=\"white\" points=\"-4,4 -4,-70 273.164,-70 273.164,4 -4,4\" stroke=\"none\"/>\n",
       "<!-- A -->\n",
       "<g class=\"node\" id=\"node1\"><title>A</title>\n",
       "<polygon fill=\"#494744\" points=\"29,-66 0,-66 0,-52 29,-52 29,-66\" stroke=\"#494744\"/>\n",
       "<text fill=\"white\" font-family=\"Helvetica,sans-Serif\" font-size=\"8.00\" text-anchor=\"middle\" x=\"14.5\" y=\"-56.6\">A</text>\n",
       "</g>\n",
       "<!-- choice -->\n",
       "<g class=\"node\" id=\"node2\"><title>choice</title>\n",
       "<polygon fill=\"#494744\" points=\"82.1252,-66 46.8748,-66 46.8748,-52 82.1252,-52 82.1252,-66\" stroke=\"#494744\"/>\n",
       "<text fill=\"white\" font-family=\"Helvetica,sans-Serif\" font-size=\"8.00\" text-anchor=\"middle\" x=\"64.5\" y=\"-56.6\">choice</text>\n",
       "</g>\n",
       "<!-- expr -->\n",
       "<g class=\"node\" id=\"node3\"><title>expr</title>\n",
       "<polygon fill=\"#494744\" points=\"139,-14 110,-14 110,-0 139,-0 139,-14\" stroke=\"#494744\"/>\n",
       "<text fill=\"white\" font-family=\"Helvetica,sans-Serif\" font-size=\"8.00\" text-anchor=\"middle\" x=\"124.5\" y=\"-4.6\">expr</text>\n",
       "</g>\n",
       "<!-- choice&#45;&gt;expr -->\n",
       "<g class=\"edge\" id=\"edge1\"><title>choice-&gt;expr</title>\n",
       "<path d=\"M62.9005,-51.56C61.719,-45.1917 61.0425,-35.4848 65.8359,-29 73.6938,-18.3694 87.4173,-13.1028 99.616,-10.5014\" fill=\"none\" stroke=\"#494744\"/>\n",
       "<polygon fill=\"#494744\" points=\"100.458,-13.91 109.758,-8.83358 99.3223,-7.00274 100.458,-13.91\" stroke=\"#494744\"/>\n",
       "<text font-family=\"Helvetica,sans-Serif\" font-size=\"8.00\" text-anchor=\"middle\" x=\"115.332\" y=\"-30.6\">Input.AUTODEPENDENCY</text>\n",
       "</g>\n",
       "<!-- C -->\n",
       "<g class=\"node\" id=\"node4\"><title>C</title>\n",
       "<polygon fill=\"#494744\" points=\"200,-66 171,-66 171,-52 200,-52 200,-66\" stroke=\"#494744\"/>\n",
       "<text fill=\"white\" font-family=\"Helvetica,sans-Serif\" font-size=\"8.00\" text-anchor=\"middle\" x=\"185.5\" y=\"-56.6\">C</text>\n",
       "</g>\n",
       "<!-- C&#45;&gt;expr -->\n",
       "<g class=\"edge\" id=\"edge2\"><title>C-&gt;expr</title>\n",
       "<path d=\"M181.78,-51.5978C177.855,-45.259 171.182,-35.5745 163.5,-29 158.972,-25.1249 153.611,-21.6714 148.337,-18.7394\" fill=\"none\" stroke=\"#494744\"/>\n",
       "<polygon fill=\"#494744\" points=\"149.634,-15.4719 139.135,-14.0467 146.454,-21.7078 149.634,-15.4719\" stroke=\"#494744\"/>\n",
       "<text font-family=\"Helvetica,sans-Serif\" font-size=\"8.00\" text-anchor=\"middle\" x=\"220.332\" y=\"-30.6\">Input.AUTODEPENDENCY</text>\n",
       "</g>\n",
       "</g>\n",
       "</svg>"
      ],
      "text/plain": [
       "<IPython.core.display.SVG object>"
      ]
     },
     "metadata": {},
     "output_type": "display_data"
    }
   ],
   "source": [
    "graph.set_expression(\"expr\", \"out('A') if out('choice') else out('C')\", locals)\n",
    "graphcat.notebook.display(graph)\n",
    "print(\"Output:\", graph.output(\"expr\"))\n",
    "graphcat.notebook.display(graph)"
   ]
  },
  {
   "cell_type": "code",
   "execution_count": 10,
   "metadata": {},
   "outputs": [
    {
     "data": {
      "image/svg+xml": [
       "<svg height=\"74pt\" viewBox=\"0.00 0.00 277.16 74.00\" width=\"277pt\" xmlns=\"http://www.w3.org/2000/svg\" xmlns:xlink=\"http://www.w3.org/1999/xlink\">\n",
       "<g class=\"graph\" id=\"graph0\" transform=\"scale(1 1) rotate(0) translate(4 70)\">\n",
       "<title>%3</title>\n",
       "<polygon fill=\"white\" points=\"-4,4 -4,-70 273.164,-70 273.164,4 -4,4\" stroke=\"none\"/>\n",
       "<!-- A -->\n",
       "<g class=\"node\" id=\"node1\"><title>A</title>\n",
       "<polygon fill=\"#494744\" points=\"29,-66 0,-66 0,-52 29,-52 29,-66\" stroke=\"#494744\"/>\n",
       "<text fill=\"white\" font-family=\"Helvetica,sans-Serif\" font-size=\"8.00\" text-anchor=\"middle\" x=\"14.5\" y=\"-56.6\">A</text>\n",
       "</g>\n",
       "<!-- choice -->\n",
       "<g class=\"node\" id=\"node2\"><title>choice</title>\n",
       "<polygon fill=\"#494744\" points=\"82.1252,-66 46.8748,-66 46.8748,-52 82.1252,-52 82.1252,-66\" stroke=\"#494744\"/>\n",
       "<text fill=\"white\" font-family=\"Helvetica,sans-Serif\" font-size=\"8.00\" text-anchor=\"middle\" x=\"64.5\" y=\"-56.6\">choice</text>\n",
       "</g>\n",
       "<!-- expression -->\n",
       "<g class=\"node\" id=\"node3\"><title>expression</title>\n",
       "<polygon fill=\"white\" points=\"149.688,-14 99.3115,-14 99.3115,-0 149.688,-0 149.688,-14\" stroke=\"#494744\"/>\n",
       "<text fill=\"#494744\" font-family=\"Helvetica,sans-Serif\" font-size=\"8.00\" text-anchor=\"middle\" x=\"124.5\" y=\"-4.6\">expression</text>\n",
       "</g>\n",
       "<!-- choice&#45;&gt;expression -->\n",
       "<g class=\"edge\" id=\"edge1\"><title>choice-&gt;expression</title>\n",
       "<path d=\"M62.9005,-51.56C61.719,-45.1917 61.0425,-35.4848 65.8359,-29 71.5497,-21.27 80.365,-16.3762 89.4401,-13.2809\" fill=\"none\" stroke=\"#494744\"/>\n",
       "<polygon fill=\"#494744\" points=\"90.5429,-16.6076 99.2553,-10.579 88.685,-9.85865 90.5429,-16.6076\" stroke=\"#494744\"/>\n",
       "<text font-family=\"Helvetica,sans-Serif\" font-size=\"8.00\" text-anchor=\"middle\" x=\"115.332\" y=\"-30.6\">Input.AUTODEPENDENCY</text>\n",
       "</g>\n",
       "<!-- C -->\n",
       "<g class=\"node\" id=\"node4\"><title>C</title>\n",
       "<polygon fill=\"#494744\" points=\"200,-66 171,-66 171,-52 200,-52 200,-66\" stroke=\"#494744\"/>\n",
       "<text fill=\"white\" font-family=\"Helvetica,sans-Serif\" font-size=\"8.00\" text-anchor=\"middle\" x=\"185.5\" y=\"-56.6\">C</text>\n",
       "</g>\n",
       "<!-- C&#45;&gt;expression -->\n",
       "<g class=\"edge\" id=\"edge2\"><title>C-&gt;expression</title>\n",
       "<path d=\"M181.78,-51.5978C177.855,-45.259 171.182,-35.5745 163.5,-29 158.972,-25.1249 153.611,-21.6714 148.337,-18.7394\" fill=\"none\" stroke=\"#494744\"/>\n",
       "<polygon fill=\"#494744\" points=\"149.634,-15.4719 139.135,-14.0467 146.454,-21.7078 149.634,-15.4719\" stroke=\"#494744\"/>\n",
       "<text font-family=\"Helvetica,sans-Serif\" font-size=\"8.00\" text-anchor=\"middle\" x=\"220.332\" y=\"-30.6\">Input.AUTODEPENDENCY</text>\n",
       "</g>\n",
       "</g>\n",
       "</svg>"
      ],
      "text/plain": [
       "<IPython.core.display.SVG object>"
      ]
     },
     "metadata": {},
     "output_type": "display_data"
    },
    {
     "name": "stdout",
     "output_type": "stream",
     "text": [
      "Output: 4\n"
     ]
    },
    {
     "data": {
      "image/svg+xml": [
       "<svg height=\"74pt\" viewBox=\"0.00 0.00 277.16 74.00\" width=\"277pt\" xmlns=\"http://www.w3.org/2000/svg\" xmlns:xlink=\"http://www.w3.org/1999/xlink\">\n",
       "<g class=\"graph\" id=\"graph0\" transform=\"scale(1 1) rotate(0) translate(4 70)\">\n",
       "<title>%3</title>\n",
       "<polygon fill=\"white\" points=\"-4,4 -4,-70 273.164,-70 273.164,4 -4,4\" stroke=\"none\"/>\n",
       "<!-- A -->\n",
       "<g class=\"node\" id=\"node1\"><title>A</title>\n",
       "<polygon fill=\"#494744\" points=\"29,-66 0,-66 0,-52 29,-52 29,-66\" stroke=\"#494744\"/>\n",
       "<text fill=\"white\" font-family=\"Helvetica,sans-Serif\" font-size=\"8.00\" text-anchor=\"middle\" x=\"14.5\" y=\"-56.6\">A</text>\n",
       "</g>\n",
       "<!-- choice -->\n",
       "<g class=\"node\" id=\"node2\"><title>choice</title>\n",
       "<polygon fill=\"#494744\" points=\"82.1252,-66 46.8748,-66 46.8748,-52 82.1252,-52 82.1252,-66\" stroke=\"#494744\"/>\n",
       "<text fill=\"white\" font-family=\"Helvetica,sans-Serif\" font-size=\"8.00\" text-anchor=\"middle\" x=\"64.5\" y=\"-56.6\">choice</text>\n",
       "</g>\n",
       "<!-- expression -->\n",
       "<g class=\"node\" id=\"node3\"><title>expression</title>\n",
       "<polygon fill=\"#494744\" points=\"149.688,-14 99.3115,-14 99.3115,-0 149.688,-0 149.688,-14\" stroke=\"#494744\"/>\n",
       "<text fill=\"white\" font-family=\"Helvetica,sans-Serif\" font-size=\"8.00\" text-anchor=\"middle\" x=\"124.5\" y=\"-4.6\">expression</text>\n",
       "</g>\n",
       "<!-- choice&#45;&gt;expression -->\n",
       "<g class=\"edge\" id=\"edge1\"><title>choice-&gt;expression</title>\n",
       "<path d=\"M62.9005,-51.56C61.719,-45.1917 61.0425,-35.4848 65.8359,-29 71.5497,-21.27 80.365,-16.3762 89.4401,-13.2809\" fill=\"none\" stroke=\"#494744\"/>\n",
       "<polygon fill=\"#494744\" points=\"90.5429,-16.6076 99.2553,-10.579 88.685,-9.85865 90.5429,-16.6076\" stroke=\"#494744\"/>\n",
       "<text font-family=\"Helvetica,sans-Serif\" font-size=\"8.00\" text-anchor=\"middle\" x=\"115.332\" y=\"-30.6\">Input.AUTODEPENDENCY</text>\n",
       "</g>\n",
       "<!-- C -->\n",
       "<g class=\"node\" id=\"node4\"><title>C</title>\n",
       "<polygon fill=\"#494744\" points=\"200,-66 171,-66 171,-52 200,-52 200,-66\" stroke=\"#494744\"/>\n",
       "<text fill=\"white\" font-family=\"Helvetica,sans-Serif\" font-size=\"8.00\" text-anchor=\"middle\" x=\"185.5\" y=\"-56.6\">C</text>\n",
       "</g>\n",
       "<!-- C&#45;&gt;expression -->\n",
       "<g class=\"edge\" id=\"edge2\"><title>C-&gt;expression</title>\n",
       "<path d=\"M181.78,-51.5978C177.855,-45.259 171.182,-35.5745 163.5,-29 158.972,-25.1249 153.611,-21.6714 148.337,-18.7394\" fill=\"none\" stroke=\"#494744\"/>\n",
       "<polygon fill=\"#494744\" points=\"149.634,-15.4719 139.135,-14.0467 146.454,-21.7078 149.634,-15.4719\" stroke=\"#494744\"/>\n",
       "<text font-family=\"Helvetica,sans-Serif\" font-size=\"8.00\" text-anchor=\"middle\" x=\"220.332\" y=\"-30.6\">Input.AUTODEPENDENCY</text>\n",
       "</g>\n",
       "</g>\n",
       "</svg>"
      ],
      "text/plain": [
       "<IPython.core.display.SVG object>"
      ]
     },
     "metadata": {},
     "output_type": "display_data"
    }
   ],
   "source": [
    "graph.rename_task(\"expr\", \"expression\")\n",
    "graphcat.notebook.display(graph)\n",
    "print(\"Output:\", graph.output(\"expression\"))\n",
    "graphcat.notebook.display(graph)"
   ]
  },
  {
   "cell_type": "code",
   "execution_count": null,
   "metadata": {},
   "outputs": [],
   "source": []
  }
 ],
 "metadata": {
  "kernelspec": {
   "display_name": "Python 3",
   "language": "python",
   "name": "python3"
  },
  "language_info": {
   "codemirror_mode": {
    "name": "ipython",
    "version": 3
   },
   "file_extension": ".py",
   "mimetype": "text/x-python",
   "name": "python",
   "nbconvert_exporter": "python",
   "pygments_lexer": "ipython3",
   "version": "3.7.7"
  }
 },
 "nbformat": 4,
 "nbformat_minor": 4
}
