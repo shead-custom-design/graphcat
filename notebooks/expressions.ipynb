{
 "cells": [
  {
   "cell_type": "code",
   "execution_count": 1,
   "metadata": {},
   "outputs": [],
   "source": [
    "import logging\n",
    "\n",
    "import graphcat.notebook\n",
    "\n",
    "logging.basicConfig(level=logging.DEBUG)"
   ]
  },
  {
   "cell_type": "code",
   "execution_count": 2,
   "metadata": {},
   "outputs": [],
   "source": [
    "graph = graphcat.Graph()\n",
    "#logger = graphcat.Logger(graph)"
   ]
  },
  {
   "cell_type": "code",
   "execution_count": 3,
   "metadata": {},
   "outputs": [
    {
     "name": "stdout",
     "output_type": "stream",
     "text": [
      "Output: 7\n"
     ]
    },
    {
     "data": {
      "image/svg+xml": [
       "<svg height=\"30pt\" viewBox=\"0.00 0.00 143.12 30.00\" width=\"143pt\" xmlns=\"http://www.w3.org/2000/svg\" xmlns:xlink=\"http://www.w3.org/1999/xlink\">\n",
       "<g class=\"graph\" id=\"graph0\" transform=\"scale(1 1) rotate(0) translate(4 26)\">\n",
       "<title>%3</title>\n",
       "<polygon fill=\"white\" points=\"-4,4 -4,-26 139.117,-26 139.117,4 -4,4\" stroke=\"none\"/>\n",
       "<!-- a -->\n",
       "<g class=\"node\" id=\"node1\"><title>a</title>\n",
       "<polygon fill=\"white\" points=\"29,-22 0,-22 0,-0 29,-0 29,-22\" stroke=\"#494744\"/>\n",
       "<text fill=\"#494744\" font-family=\"Helvetica,sans-Serif\" font-size=\"14.00\" text-anchor=\"middle\" x=\"14.5\" y=\"-6.8\">a</text>\n",
       "</g>\n",
       "<!-- b -->\n",
       "<g class=\"node\" id=\"node2\"><title>b</title>\n",
       "<polygon fill=\"white\" points=\"76,-22 47,-22 47,-0 76,-0 76,-22\" stroke=\"#494744\"/>\n",
       "<text fill=\"#494744\" font-family=\"Helvetica,sans-Serif\" font-size=\"14.00\" text-anchor=\"middle\" x=\"61.5\" y=\"-6.8\">b</text>\n",
       "</g>\n",
       "<!-- expr -->\n",
       "<g class=\"node\" id=\"node3\"><title>expr</title>\n",
       "<polygon fill=\"#494744\" points=\"135.235,-22 93.765,-22 93.765,-0 135.235,-0 135.235,-22\" stroke=\"#494744\"/>\n",
       "<text fill=\"white\" font-family=\"Helvetica,sans-Serif\" font-size=\"14.00\" text-anchor=\"middle\" x=\"114.5\" y=\"-6.8\">expr</text>\n",
       "</g>\n",
       "</g>\n",
       "</svg>"
      ],
      "text/plain": [
       "<IPython.core.display.SVG object>"
      ]
     },
     "metadata": {},
     "output_type": "display_data"
    }
   ],
   "source": [
    "graph.add_task(\"a\", graphcat.constant(1))\n",
    "graph.add_task(\"b\", graphcat.constant(2))\n",
    "expr = graphcat.ExpressionTask(graph, \"expr\", \"3 + 4\")\n",
    "\n",
    "print(\"Output:\", graph.output(\"expr\"))\n",
    "graphcat.notebook.display(graph)"
   ]
  },
  {
   "cell_type": "code",
   "execution_count": 4,
   "metadata": {},
   "outputs": [],
   "source": [
    "def out(graph):\n",
    "    def implementation(label):\n",
    "        return graph.output(label)\n",
    "    return implementation\n",
    "\n",
    "locals = {\"out\": out(graph)}"
   ]
  },
  {
   "cell_type": "code",
   "execution_count": 5,
   "metadata": {},
   "outputs": [
    {
     "data": {
      "image/svg+xml": [
       "<svg height=\"90pt\" viewBox=\"0.00 0.00 104.20 90.00\" width=\"104pt\" xmlns=\"http://www.w3.org/2000/svg\" xmlns:xlink=\"http://www.w3.org/1999/xlink\">\n",
       "<g class=\"graph\" id=\"graph0\" transform=\"scale(1 1) rotate(0) translate(4 86)\">\n",
       "<title>%3</title>\n",
       "<polygon fill=\"white\" points=\"-4,4 -4,-86 100.199,-86 100.199,4 -4,4\" stroke=\"none\"/>\n",
       "<!-- a -->\n",
       "<g class=\"node\" id=\"node1\"><title>a</title>\n",
       "<polygon fill=\"#494744\" points=\"35.1172,-82 6.11719,-82 6.11719,-60 35.1172,-60 35.1172,-82\" stroke=\"#494744\"/>\n",
       "<text fill=\"white\" font-family=\"Helvetica,sans-Serif\" font-size=\"14.00\" text-anchor=\"middle\" x=\"20.6172\" y=\"-66.8\">a</text>\n",
       "</g>\n",
       "<!-- expr -->\n",
       "<g class=\"node\" id=\"node2\"><title>expr</title>\n",
       "<polygon fill=\"#494744\" points=\"41.3522,-22 -0.117857,-22 -0.117857,-0 41.3522,-0 41.3522,-22\" stroke=\"#494744\"/>\n",
       "<text fill=\"white\" font-family=\"Helvetica,sans-Serif\" font-size=\"14.00\" text-anchor=\"middle\" x=\"20.6172\" y=\"-6.8\">expr</text>\n",
       "</g>\n",
       "<!-- a&#45;&gt;expr -->\n",
       "<g class=\"edge\" id=\"edge1\"><title>a-&gt;expr</title>\n",
       "<path d=\"M20.6172,-59.8972C20.6172,-52.339 20.6172,-41.7476 20.6172,-32.4458\" fill=\"none\" stroke=\"#494744\"/>\n",
       "<polygon fill=\"#494744\" points=\"24.1173,-32.3776 20.6172,-22.3776 17.1173,-32.3776 24.1173,-32.3776\" stroke=\"#494744\"/>\n",
       "<text font-family=\"Helvetica,sans-Serif\" font-size=\"8.00\" text-anchor=\"middle\" x=\"58.4082\" y=\"-38.6\">Input.DEPENDENCY</text>\n",
       "</g>\n",
       "<!-- b -->\n",
       "<g class=\"node\" id=\"node3\"><title>b</title>\n",
       "<polygon fill=\"white\" points=\"82.1172,-82 53.1172,-82 53.1172,-60 82.1172,-60 82.1172,-82\" stroke=\"#494744\"/>\n",
       "<text fill=\"#494744\" font-family=\"Helvetica,sans-Serif\" font-size=\"14.00\" text-anchor=\"middle\" x=\"67.6172\" y=\"-66.8\">b</text>\n",
       "</g>\n",
       "</g>\n",
       "</svg>"
      ],
      "text/plain": [
       "<IPython.core.display.SVG object>"
      ]
     },
     "metadata": {},
     "output_type": "display_data"
    },
    {
     "name": "stdout",
     "output_type": "stream",
     "text": [
      "Output: 4\n"
     ]
    },
    {
     "data": {
      "image/svg+xml": [
       "<svg height=\"90pt\" viewBox=\"0.00 0.00 104.20 90.00\" width=\"104pt\" xmlns=\"http://www.w3.org/2000/svg\" xmlns:xlink=\"http://www.w3.org/1999/xlink\">\n",
       "<g class=\"graph\" id=\"graph0\" transform=\"scale(1 1) rotate(0) translate(4 86)\">\n",
       "<title>%3</title>\n",
       "<polygon fill=\"white\" points=\"-4,4 -4,-86 100.199,-86 100.199,4 -4,4\" stroke=\"none\"/>\n",
       "<!-- a -->\n",
       "<g class=\"node\" id=\"node1\"><title>a</title>\n",
       "<polygon fill=\"#494744\" points=\"35.1172,-82 6.11719,-82 6.11719,-60 35.1172,-60 35.1172,-82\" stroke=\"#494744\"/>\n",
       "<text fill=\"white\" font-family=\"Helvetica,sans-Serif\" font-size=\"14.00\" text-anchor=\"middle\" x=\"20.6172\" y=\"-66.8\">a</text>\n",
       "</g>\n",
       "<!-- expr -->\n",
       "<g class=\"node\" id=\"node2\"><title>expr</title>\n",
       "<polygon fill=\"#494744\" points=\"41.3522,-22 -0.117857,-22 -0.117857,-0 41.3522,-0 41.3522,-22\" stroke=\"#494744\"/>\n",
       "<text fill=\"white\" font-family=\"Helvetica,sans-Serif\" font-size=\"14.00\" text-anchor=\"middle\" x=\"20.6172\" y=\"-6.8\">expr</text>\n",
       "</g>\n",
       "<!-- a&#45;&gt;expr -->\n",
       "<g class=\"edge\" id=\"edge1\"><title>a-&gt;expr</title>\n",
       "<path d=\"M20.6172,-59.8972C20.6172,-52.339 20.6172,-41.7476 20.6172,-32.4458\" fill=\"none\" stroke=\"#494744\"/>\n",
       "<polygon fill=\"#494744\" points=\"24.1173,-32.3776 20.6172,-22.3776 17.1173,-32.3776 24.1173,-32.3776\" stroke=\"#494744\"/>\n",
       "<text font-family=\"Helvetica,sans-Serif\" font-size=\"8.00\" text-anchor=\"middle\" x=\"58.4082\" y=\"-38.6\">Input.DEPENDENCY</text>\n",
       "</g>\n",
       "<!-- b -->\n",
       "<g class=\"node\" id=\"node3\"><title>b</title>\n",
       "<polygon fill=\"white\" points=\"82.1172,-82 53.1172,-82 53.1172,-60 82.1172,-60 82.1172,-82\" stroke=\"#494744\"/>\n",
       "<text fill=\"#494744\" font-family=\"Helvetica,sans-Serif\" font-size=\"14.00\" text-anchor=\"middle\" x=\"67.6172\" y=\"-66.8\">b</text>\n",
       "</g>\n",
       "</g>\n",
       "</svg>"
      ],
      "text/plain": [
       "<IPython.core.display.SVG object>"
      ]
     },
     "metadata": {},
     "output_type": "display_data"
    }
   ],
   "source": [
    "expr.set(\"out('a') + 3\", locals)\n",
    "graphcat.notebook.display(graph)\n",
    "print(\"Output:\", graph.output(\"expr\"))\n",
    "graphcat.notebook.display(graph)"
   ]
  },
  {
   "cell_type": "code",
   "execution_count": 6,
   "metadata": {},
   "outputs": [
    {
     "name": "stdout",
     "output_type": "stream",
     "text": [
      "Output: 8\n"
     ]
    },
    {
     "data": {
      "image/svg+xml": [
       "<svg height=\"90pt\" viewBox=\"0.00 0.00 104.20 90.00\" width=\"104pt\" xmlns=\"http://www.w3.org/2000/svg\" xmlns:xlink=\"http://www.w3.org/1999/xlink\">\n",
       "<g class=\"graph\" id=\"graph0\" transform=\"scale(1 1) rotate(0) translate(4 86)\">\n",
       "<title>%3</title>\n",
       "<polygon fill=\"white\" points=\"-4,4 -4,-86 100.199,-86 100.199,4 -4,4\" stroke=\"none\"/>\n",
       "<!-- a -->\n",
       "<g class=\"node\" id=\"node1\"><title>a</title>\n",
       "<polygon fill=\"#494744\" points=\"35.1172,-82 6.11719,-82 6.11719,-60 35.1172,-60 35.1172,-82\" stroke=\"#494744\"/>\n",
       "<text fill=\"white\" font-family=\"Helvetica,sans-Serif\" font-size=\"14.00\" text-anchor=\"middle\" x=\"20.6172\" y=\"-66.8\">a</text>\n",
       "</g>\n",
       "<!-- expr -->\n",
       "<g class=\"node\" id=\"node2\"><title>expr</title>\n",
       "<polygon fill=\"#494744\" points=\"41.3522,-22 -0.117857,-22 -0.117857,-0 41.3522,-0 41.3522,-22\" stroke=\"#494744\"/>\n",
       "<text fill=\"white\" font-family=\"Helvetica,sans-Serif\" font-size=\"14.00\" text-anchor=\"middle\" x=\"20.6172\" y=\"-6.8\">expr</text>\n",
       "</g>\n",
       "<!-- a&#45;&gt;expr -->\n",
       "<g class=\"edge\" id=\"edge1\"><title>a-&gt;expr</title>\n",
       "<path d=\"M20.6172,-59.8972C20.6172,-52.339 20.6172,-41.7476 20.6172,-32.4458\" fill=\"none\" stroke=\"#494744\"/>\n",
       "<polygon fill=\"#494744\" points=\"24.1173,-32.3776 20.6172,-22.3776 17.1173,-32.3776 24.1173,-32.3776\" stroke=\"#494744\"/>\n",
       "<text font-family=\"Helvetica,sans-Serif\" font-size=\"8.00\" text-anchor=\"middle\" x=\"58.4082\" y=\"-38.6\">Input.DEPENDENCY</text>\n",
       "</g>\n",
       "<!-- b -->\n",
       "<g class=\"node\" id=\"node3\"><title>b</title>\n",
       "<polygon fill=\"white\" points=\"82.1172,-82 53.1172,-82 53.1172,-60 82.1172,-60 82.1172,-82\" stroke=\"#494744\"/>\n",
       "<text fill=\"#494744\" font-family=\"Helvetica,sans-Serif\" font-size=\"14.00\" text-anchor=\"middle\" x=\"67.6172\" y=\"-66.8\">b</text>\n",
       "</g>\n",
       "</g>\n",
       "</svg>"
      ],
      "text/plain": [
       "<IPython.core.display.SVG object>"
      ]
     },
     "metadata": {},
     "output_type": "display_data"
    }
   ],
   "source": [
    "graph.set_task(\"a\", graphcat.constant(5))\n",
    "print(\"Output:\", graph.output(\"expr\"))\n",
    "graphcat.notebook.display(graph)"
   ]
  },
  {
   "cell_type": "code",
   "execution_count": 7,
   "metadata": {},
   "outputs": [
    {
     "name": "stdout",
     "output_type": "stream",
     "text": [
      "Output: 5\n"
     ]
    },
    {
     "data": {
      "image/svg+xml": [
       "<svg height=\"90pt\" viewBox=\"0.00 0.00 145.08 90.00\" width=\"145pt\" xmlns=\"http://www.w3.org/2000/svg\" xmlns:xlink=\"http://www.w3.org/1999/xlink\">\n",
       "<g class=\"graph\" id=\"graph0\" transform=\"scale(1 1) rotate(0) translate(4 86)\">\n",
       "<title>%3</title>\n",
       "<polygon fill=\"white\" points=\"-4,4 -4,-86 141.082,-86 141.082,4 -4,4\" stroke=\"none\"/>\n",
       "<!-- a -->\n",
       "<g class=\"node\" id=\"node1\"><title>a</title>\n",
       "<polygon fill=\"#494744\" points=\"29,-82 0,-82 0,-60 29,-60 29,-82\" stroke=\"#494744\"/>\n",
       "<text fill=\"white\" font-family=\"Helvetica,sans-Serif\" font-size=\"14.00\" text-anchor=\"middle\" x=\"14.5\" y=\"-66.8\">a</text>\n",
       "</g>\n",
       "<!-- b -->\n",
       "<g class=\"node\" id=\"node2\"><title>b</title>\n",
       "<polygon fill=\"#494744\" points=\"76,-82 47,-82 47,-60 76,-60 76,-82\" stroke=\"#494744\"/>\n",
       "<text fill=\"white\" font-family=\"Helvetica,sans-Serif\" font-size=\"14.00\" text-anchor=\"middle\" x=\"61.5\" y=\"-66.8\">b</text>\n",
       "</g>\n",
       "<!-- expr -->\n",
       "<g class=\"node\" id=\"node3\"><title>expr</title>\n",
       "<polygon fill=\"#494744\" points=\"82.235,-22 40.765,-22 40.765,-0 82.235,-0 82.235,-22\" stroke=\"#494744\"/>\n",
       "<text fill=\"white\" font-family=\"Helvetica,sans-Serif\" font-size=\"14.00\" text-anchor=\"middle\" x=\"61.5\" y=\"-6.8\">expr</text>\n",
       "</g>\n",
       "<!-- b&#45;&gt;expr -->\n",
       "<g class=\"edge\" id=\"edge1\"><title>b-&gt;expr</title>\n",
       "<path d=\"M61.5,-59.8972C61.5,-52.339 61.5,-41.7476 61.5,-32.4458\" fill=\"none\" stroke=\"#494744\"/>\n",
       "<polygon fill=\"#494744\" points=\"65.0001,-32.3776 61.5,-22.3776 58.0001,-32.3776 65.0001,-32.3776\" stroke=\"#494744\"/>\n",
       "<text font-family=\"Helvetica,sans-Serif\" font-size=\"8.00\" text-anchor=\"middle\" x=\"99.291\" y=\"-38.6\">Input.DEPENDENCY</text>\n",
       "</g>\n",
       "</g>\n",
       "</svg>"
      ],
      "text/plain": [
       "<IPython.core.display.SVG object>"
      ]
     },
     "metadata": {},
     "output_type": "display_data"
    }
   ],
   "source": [
    "expr.set(\"out('b') + 3\", locals)\n",
    "\n",
    "print(\"Output:\", graph.output(\"expr\"))\n",
    "graphcat.notebook.display(graph)"
   ]
  },
  {
   "cell_type": "code",
   "execution_count": 8,
   "metadata": {},
   "outputs": [
    {
     "name": "stdout",
     "output_type": "stream",
     "text": [
      "Output: 24\n"
     ]
    },
    {
     "data": {
      "image/svg+xml": [
       "<svg height=\"30pt\" viewBox=\"0.00 0.00 143.12 30.00\" width=\"143pt\" xmlns=\"http://www.w3.org/2000/svg\" xmlns:xlink=\"http://www.w3.org/1999/xlink\">\n",
       "<g class=\"graph\" id=\"graph0\" transform=\"scale(1 1) rotate(0) translate(4 26)\">\n",
       "<title>%3</title>\n",
       "<polygon fill=\"white\" points=\"-4,4 -4,-26 139.117,-26 139.117,4 -4,4\" stroke=\"none\"/>\n",
       "<!-- a -->\n",
       "<g class=\"node\" id=\"node1\"><title>a</title>\n",
       "<polygon fill=\"#494744\" points=\"29,-22 0,-22 0,-0 29,-0 29,-22\" stroke=\"#494744\"/>\n",
       "<text fill=\"white\" font-family=\"Helvetica,sans-Serif\" font-size=\"14.00\" text-anchor=\"middle\" x=\"14.5\" y=\"-6.8\">a</text>\n",
       "</g>\n",
       "<!-- b -->\n",
       "<g class=\"node\" id=\"node2\"><title>b</title>\n",
       "<polygon fill=\"#494744\" points=\"76,-22 47,-22 47,-0 76,-0 76,-22\" stroke=\"#494744\"/>\n",
       "<text fill=\"white\" font-family=\"Helvetica,sans-Serif\" font-size=\"14.00\" text-anchor=\"middle\" x=\"61.5\" y=\"-6.8\">b</text>\n",
       "</g>\n",
       "<!-- expr -->\n",
       "<g class=\"node\" id=\"node3\"><title>expr</title>\n",
       "<polygon fill=\"#494744\" points=\"135.235,-22 93.765,-22 93.765,-0 135.235,-0 135.235,-22\" stroke=\"#494744\"/>\n",
       "<text fill=\"white\" font-family=\"Helvetica,sans-Serif\" font-size=\"14.00\" text-anchor=\"middle\" x=\"114.5\" y=\"-6.8\">expr</text>\n",
       "</g>\n",
       "</g>\n",
       "</svg>"
      ],
      "text/plain": [
       "<IPython.core.display.SVG object>"
      ]
     },
     "metadata": {},
     "output_type": "display_data"
    }
   ],
   "source": [
    "expr.set(\"6 * 4\")\n",
    "print(\"Output:\", graph.output(\"expr\"))\n",
    "graphcat.notebook.display(graph)"
   ]
  },
  {
   "cell_type": "code",
   "execution_count": null,
   "metadata": {},
   "outputs": [],
   "source": []
  }
 ],
 "metadata": {
  "kernelspec": {
   "display_name": "Python 3",
   "language": "python",
   "name": "python3"
  },
  "language_info": {
   "codemirror_mode": {
    "name": "ipython",
    "version": 3
   },
   "file_extension": ".py",
   "mimetype": "text/x-python",
   "name": "python",
   "nbconvert_exporter": "python",
   "pygments_lexer": "ipython3",
   "version": "3.7.7"
  }
 },
 "nbformat": 4,
 "nbformat_minor": 4
}
