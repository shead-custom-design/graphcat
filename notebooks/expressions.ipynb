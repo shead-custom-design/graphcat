{
 "cells": [
  {
   "cell_type": "code",
   "execution_count": 1,
   "metadata": {},
   "outputs": [],
   "source": [
    "import logging\n",
    "\n",
    "import graphcat.notebook\n",
    "\n",
    "logging.basicConfig(level=logging.DEBUG)"
   ]
  },
  {
   "cell_type": "code",
   "execution_count": 2,
   "metadata": {},
   "outputs": [
    {
     "data": {
      "image/svg+xml": [
       "<svg height=\"22pt\" viewBox=\"0.00 0.00 184.00 22.00\" width=\"184pt\" xmlns=\"http://www.w3.org/2000/svg\" xmlns:xlink=\"http://www.w3.org/1999/xlink\">\n",
       "<g class=\"graph\" id=\"graph0\" transform=\"scale(1 1) rotate(0) translate(4 18)\">\n",
       "<title>%3</title>\n",
       "<polygon fill=\"white\" points=\"-4,4 -4,-18 180,-18 180,4 -4,4\" stroke=\"none\"/>\n",
       "<!-- a -->\n",
       "<g class=\"node\" id=\"node1\"><title>a</title>\n",
       "<polygon fill=\"white\" points=\"29,-14 0,-14 0,-0 29,-0 29,-14\" stroke=\"#494744\"/>\n",
       "<text fill=\"#494744\" font-family=\"Helvetica,sans-Serif\" font-size=\"8.00\" text-anchor=\"middle\" x=\"14.5\" y=\"-4.6\">a</text>\n",
       "</g>\n",
       "<!-- b -->\n",
       "<g class=\"node\" id=\"node2\"><title>b</title>\n",
       "<polygon fill=\"white\" points=\"76,-14 47,-14 47,-0 76,-0 76,-14\" stroke=\"#494744\"/>\n",
       "<text fill=\"#494744\" font-family=\"Helvetica,sans-Serif\" font-size=\"8.00\" text-anchor=\"middle\" x=\"61.5\" y=\"-4.6\">b</text>\n",
       "</g>\n",
       "<!-- choice -->\n",
       "<g class=\"node\" id=\"node3\"><title>choice</title>\n",
       "<polygon fill=\"white\" points=\"129.125,-14 93.8748,-14 93.8748,-0 129.125,-0 129.125,-14\" stroke=\"#494744\"/>\n",
       "<text fill=\"#494744\" font-family=\"Helvetica,sans-Serif\" font-size=\"8.00\" text-anchor=\"middle\" x=\"111.5\" y=\"-4.6\">choice</text>\n",
       "</g>\n",
       "<!-- expr -->\n",
       "<g class=\"node\" id=\"node4\"><title>expr</title>\n",
       "<polygon fill=\"white\" points=\"176,-14 147,-14 147,-0 176,-0 176,-14\" stroke=\"#494744\"/>\n",
       "<text fill=\"#494744\" font-family=\"Helvetica,sans-Serif\" font-size=\"8.00\" text-anchor=\"middle\" x=\"161.5\" y=\"-4.6\">expr</text>\n",
       "</g>\n",
       "</g>\n",
       "</svg>"
      ],
      "text/plain": [
       "<IPython.core.display.SVG object>"
      ]
     },
     "metadata": {},
     "output_type": "display_data"
    },
    {
     "name": "stdout",
     "output_type": "stream",
     "text": [
      "Output: 7\n"
     ]
    },
    {
     "data": {
      "image/svg+xml": [
       "<svg height=\"22pt\" viewBox=\"0.00 0.00 184.00 22.00\" width=\"184pt\" xmlns=\"http://www.w3.org/2000/svg\" xmlns:xlink=\"http://www.w3.org/1999/xlink\">\n",
       "<g class=\"graph\" id=\"graph0\" transform=\"scale(1 1) rotate(0) translate(4 18)\">\n",
       "<title>%3</title>\n",
       "<polygon fill=\"white\" points=\"-4,4 -4,-18 180,-18 180,4 -4,4\" stroke=\"none\"/>\n",
       "<!-- a -->\n",
       "<g class=\"node\" id=\"node1\"><title>a</title>\n",
       "<polygon fill=\"white\" points=\"29,-14 0,-14 0,-0 29,-0 29,-14\" stroke=\"#494744\"/>\n",
       "<text fill=\"#494744\" font-family=\"Helvetica,sans-Serif\" font-size=\"8.00\" text-anchor=\"middle\" x=\"14.5\" y=\"-4.6\">a</text>\n",
       "</g>\n",
       "<!-- b -->\n",
       "<g class=\"node\" id=\"node2\"><title>b</title>\n",
       "<polygon fill=\"white\" points=\"76,-14 47,-14 47,-0 76,-0 76,-14\" stroke=\"#494744\"/>\n",
       "<text fill=\"#494744\" font-family=\"Helvetica,sans-Serif\" font-size=\"8.00\" text-anchor=\"middle\" x=\"61.5\" y=\"-4.6\">b</text>\n",
       "</g>\n",
       "<!-- choice -->\n",
       "<g class=\"node\" id=\"node3\"><title>choice</title>\n",
       "<polygon fill=\"white\" points=\"129.125,-14 93.8748,-14 93.8748,-0 129.125,-0 129.125,-14\" stroke=\"#494744\"/>\n",
       "<text fill=\"#494744\" font-family=\"Helvetica,sans-Serif\" font-size=\"8.00\" text-anchor=\"middle\" x=\"111.5\" y=\"-4.6\">choice</text>\n",
       "</g>\n",
       "<!-- expr -->\n",
       "<g class=\"node\" id=\"node4\"><title>expr</title>\n",
       "<polygon fill=\"#494744\" points=\"176,-14 147,-14 147,-0 176,-0 176,-14\" stroke=\"#494744\"/>\n",
       "<text fill=\"white\" font-family=\"Helvetica,sans-Serif\" font-size=\"8.00\" text-anchor=\"middle\" x=\"161.5\" y=\"-4.6\">expr</text>\n",
       "</g>\n",
       "</g>\n",
       "</svg>"
      ],
      "text/plain": [
       "<IPython.core.display.SVG object>"
      ]
     },
     "metadata": {},
     "output_type": "display_data"
    }
   ],
   "source": [
    "graph = graphcat.Graph()\n",
    "\n",
    "graph.set_task(\"a\", graphcat.constant(1))\n",
    "graph.set_task(\"b\", graphcat.constant(2))\n",
    "graph.set_task(\"choice\", graphcat.constant(True))\n",
    "graph.set_expression(\"expr\", \"3 + 4\")\n",
    "graphcat.notebook.display(graph)\n",
    "print(\"Output:\", graph.output(\"expr\"))\n",
    "graphcat.notebook.display(graph)"
   ]
  },
  {
   "cell_type": "code",
   "execution_count": 3,
   "metadata": {},
   "outputs": [],
   "source": [
    "def out(graph):\n",
    "    def implementation(label):\n",
    "        if label not in graph:\n",
    "            raise ValueError(f\"No task named {label!r}.\")\n",
    "        return graph.output(label)\n",
    "    return implementation\n",
    "\n",
    "locals = {\"out\": out(graph)}"
   ]
  },
  {
   "cell_type": "code",
   "execution_count": 4,
   "metadata": {},
   "outputs": [
    {
     "data": {
      "image/svg+xml": [
       "<svg height=\"22pt\" viewBox=\"0.00 0.00 184.00 22.00\" width=\"184pt\" xmlns=\"http://www.w3.org/2000/svg\" xmlns:xlink=\"http://www.w3.org/1999/xlink\">\n",
       "<g class=\"graph\" id=\"graph0\" transform=\"scale(1 1) rotate(0) translate(4 18)\">\n",
       "<title>%3</title>\n",
       "<polygon fill=\"white\" points=\"-4,4 -4,-18 180,-18 180,4 -4,4\" stroke=\"none\"/>\n",
       "<!-- a -->\n",
       "<g class=\"node\" id=\"node1\"><title>a</title>\n",
       "<polygon fill=\"white\" points=\"29,-14 0,-14 0,-0 29,-0 29,-14\" stroke=\"#494744\"/>\n",
       "<text fill=\"#494744\" font-family=\"Helvetica,sans-Serif\" font-size=\"8.00\" text-anchor=\"middle\" x=\"14.5\" y=\"-4.6\">a</text>\n",
       "</g>\n",
       "<!-- b -->\n",
       "<g class=\"node\" id=\"node2\"><title>b</title>\n",
       "<polygon fill=\"white\" points=\"76,-14 47,-14 47,-0 76,-0 76,-14\" stroke=\"#494744\"/>\n",
       "<text fill=\"#494744\" font-family=\"Helvetica,sans-Serif\" font-size=\"8.00\" text-anchor=\"middle\" x=\"61.5\" y=\"-4.6\">b</text>\n",
       "</g>\n",
       "<!-- choice -->\n",
       "<g class=\"node\" id=\"node3\"><title>choice</title>\n",
       "<polygon fill=\"white\" points=\"129.125,-14 93.8748,-14 93.8748,-0 129.125,-0 129.125,-14\" stroke=\"#494744\"/>\n",
       "<text fill=\"#494744\" font-family=\"Helvetica,sans-Serif\" font-size=\"8.00\" text-anchor=\"middle\" x=\"111.5\" y=\"-4.6\">choice</text>\n",
       "</g>\n",
       "<!-- expr -->\n",
       "<g class=\"node\" id=\"node4\"><title>expr</title>\n",
       "<polygon fill=\"white\" points=\"176,-14 147,-14 147,-0 176,-0 176,-14\" stroke=\"#494744\"/>\n",
       "<text fill=\"#494744\" font-family=\"Helvetica,sans-Serif\" font-size=\"8.00\" text-anchor=\"middle\" x=\"161.5\" y=\"-4.6\">expr</text>\n",
       "</g>\n",
       "</g>\n",
       "</svg>"
      ],
      "text/plain": [
       "<IPython.core.display.SVG object>"
      ]
     },
     "metadata": {},
     "output_type": "display_data"
    },
    {
     "name": "stdout",
     "output_type": "stream",
     "text": [
      "Output: 1\n"
     ]
    },
    {
     "data": {
      "image/svg+xml": [
       "<svg height=\"74pt\" viewBox=\"0.00 0.00 227.16 74.00\" width=\"227pt\" xmlns=\"http://www.w3.org/2000/svg\" xmlns:xlink=\"http://www.w3.org/1999/xlink\">\n",
       "<g class=\"graph\" id=\"graph0\" transform=\"scale(1 1) rotate(0) translate(4 70)\">\n",
       "<title>%3</title>\n",
       "<polygon fill=\"white\" points=\"-4,4 -4,-70 223.164,-70 223.164,4 -4,4\" stroke=\"none\"/>\n",
       "<!-- a -->\n",
       "<g class=\"node\" id=\"node1\"><title>a</title>\n",
       "<polygon fill=\"#494744\" points=\"29,-66 0,-66 0,-52 29,-52 29,-66\" stroke=\"#494744\"/>\n",
       "<text fill=\"white\" font-family=\"Helvetica,sans-Serif\" font-size=\"8.00\" text-anchor=\"middle\" x=\"14.5\" y=\"-56.6\">a</text>\n",
       "</g>\n",
       "<!-- expr -->\n",
       "<g class=\"node\" id=\"node2\"><title>expr</title>\n",
       "<polygon fill=\"#494744\" points=\"89,-14 60,-14 60,-0 89,-0 89,-14\" stroke=\"#494744\"/>\n",
       "<text fill=\"white\" font-family=\"Helvetica,sans-Serif\" font-size=\"8.00\" text-anchor=\"middle\" x=\"74.5\" y=\"-4.6\">expr</text>\n",
       "</g>\n",
       "<!-- a&#45;&gt;expr -->\n",
       "<g class=\"edge\" id=\"edge1\"><title>a-&gt;expr</title>\n",
       "<path d=\"M12.9005,-51.56C11.719,-45.1917 11.0425,-35.4848 15.8359,-29 23.6938,-18.3694 37.4173,-13.1028 49.616,-10.5014\" fill=\"none\" stroke=\"#494744\"/>\n",
       "<polygon fill=\"#494744\" points=\"50.4582,-13.91 59.7577,-8.83358 49.3223,-7.00274 50.4582,-13.91\" stroke=\"#494744\"/>\n",
       "<text font-family=\"Helvetica,sans-Serif\" font-size=\"8.00\" text-anchor=\"middle\" x=\"65.332\" y=\"-30.6\">Input.AUTODEPENDENCY</text>\n",
       "</g>\n",
       "<!-- b -->\n",
       "<g class=\"node\" id=\"node3\"><title>b</title>\n",
       "<polygon fill=\"white\" points=\"200,-66 171,-66 171,-52 200,-52 200,-66\" stroke=\"#494744\"/>\n",
       "<text fill=\"#494744\" font-family=\"Helvetica,sans-Serif\" font-size=\"8.00\" text-anchor=\"middle\" x=\"185.5\" y=\"-56.6\">b</text>\n",
       "</g>\n",
       "<!-- choice -->\n",
       "<g class=\"node\" id=\"node4\"><title>choice</title>\n",
       "<polygon fill=\"#494744\" points=\"153.125,-66 117.875,-66 117.875,-52 153.125,-52 153.125,-66\" stroke=\"#494744\"/>\n",
       "<text fill=\"white\" font-family=\"Helvetica,sans-Serif\" font-size=\"8.00\" text-anchor=\"middle\" x=\"135.5\" y=\"-56.6\">choice</text>\n",
       "</g>\n",
       "<!-- choice&#45;&gt;expr -->\n",
       "<g class=\"edge\" id=\"edge2\"><title>choice-&gt;expr</title>\n",
       "<path d=\"M131.78,-51.5978C127.855,-45.259 121.182,-35.5745 113.5,-29 108.972,-25.1249 103.611,-21.6714 98.3371,-18.7394\" fill=\"none\" stroke=\"#494744\"/>\n",
       "<polygon fill=\"#494744\" points=\"99.6339,-15.4719 89.1354,-14.0467 96.4537,-21.7078 99.6339,-15.4719\" stroke=\"#494744\"/>\n",
       "<text font-family=\"Helvetica,sans-Serif\" font-size=\"8.00\" text-anchor=\"middle\" x=\"170.332\" y=\"-30.6\">Input.AUTODEPENDENCY</text>\n",
       "</g>\n",
       "</g>\n",
       "</svg>"
      ],
      "text/plain": [
       "<IPython.core.display.SVG object>"
      ]
     },
     "metadata": {},
     "output_type": "display_data"
    }
   ],
   "source": [
    "graph.set_expression(\"expr\", \"out('a') if out('choice') else out('b')\", locals)\n",
    "graphcat.notebook.display(graph)\n",
    "print(\"Output:\", graph.output(\"expr\"))\n",
    "graphcat.notebook.display(graph)"
   ]
  },
  {
   "cell_type": "code",
   "execution_count": 5,
   "metadata": {},
   "outputs": [
    {
     "data": {
      "image/svg+xml": [
       "<svg height=\"74pt\" viewBox=\"0.00 0.00 227.16 74.00\" width=\"227pt\" xmlns=\"http://www.w3.org/2000/svg\" xmlns:xlink=\"http://www.w3.org/1999/xlink\">\n",
       "<g class=\"graph\" id=\"graph0\" transform=\"scale(1 1) rotate(0) translate(4 70)\">\n",
       "<title>%3</title>\n",
       "<polygon fill=\"white\" points=\"-4,4 -4,-70 223.164,-70 223.164,4 -4,4\" stroke=\"none\"/>\n",
       "<!-- a -->\n",
       "<g class=\"node\" id=\"node1\"><title>a</title>\n",
       "<polygon fill=\"white\" points=\"29,-66 0,-66 0,-52 29,-52 29,-66\" stroke=\"#494744\"/>\n",
       "<text fill=\"#494744\" font-family=\"Helvetica,sans-Serif\" font-size=\"8.00\" text-anchor=\"middle\" x=\"14.5\" y=\"-56.6\">a</text>\n",
       "</g>\n",
       "<!-- expr -->\n",
       "<g class=\"node\" id=\"node2\"><title>expr</title>\n",
       "<polygon fill=\"white\" points=\"89,-14 60,-14 60,-0 89,-0 89,-14\" stroke=\"#494744\"/>\n",
       "<text fill=\"#494744\" font-family=\"Helvetica,sans-Serif\" font-size=\"8.00\" text-anchor=\"middle\" x=\"74.5\" y=\"-4.6\">expr</text>\n",
       "</g>\n",
       "<!-- a&#45;&gt;expr -->\n",
       "<g class=\"edge\" id=\"edge1\"><title>a-&gt;expr</title>\n",
       "<path d=\"M12.9005,-51.56C11.719,-45.1917 11.0425,-35.4848 15.8359,-29 23.6938,-18.3694 37.4173,-13.1028 49.616,-10.5014\" fill=\"none\" stroke=\"#494744\"/>\n",
       "<polygon fill=\"#494744\" points=\"50.4582,-13.91 59.7577,-8.83358 49.3223,-7.00274 50.4582,-13.91\" stroke=\"#494744\"/>\n",
       "<text font-family=\"Helvetica,sans-Serif\" font-size=\"8.00\" text-anchor=\"middle\" x=\"65.332\" y=\"-30.6\">Input.AUTODEPENDENCY</text>\n",
       "</g>\n",
       "<!-- b -->\n",
       "<g class=\"node\" id=\"node3\"><title>b</title>\n",
       "<polygon fill=\"white\" points=\"200,-66 171,-66 171,-52 200,-52 200,-66\" stroke=\"#494744\"/>\n",
       "<text fill=\"#494744\" font-family=\"Helvetica,sans-Serif\" font-size=\"8.00\" text-anchor=\"middle\" x=\"185.5\" y=\"-56.6\">b</text>\n",
       "</g>\n",
       "<!-- choice -->\n",
       "<g class=\"node\" id=\"node4\"><title>choice</title>\n",
       "<polygon fill=\"#494744\" points=\"153.125,-66 117.875,-66 117.875,-52 153.125,-52 153.125,-66\" stroke=\"#494744\"/>\n",
       "<text fill=\"white\" font-family=\"Helvetica,sans-Serif\" font-size=\"8.00\" text-anchor=\"middle\" x=\"135.5\" y=\"-56.6\">choice</text>\n",
       "</g>\n",
       "<!-- choice&#45;&gt;expr -->\n",
       "<g class=\"edge\" id=\"edge2\"><title>choice-&gt;expr</title>\n",
       "<path d=\"M131.78,-51.5978C127.855,-45.259 121.182,-35.5745 113.5,-29 108.972,-25.1249 103.611,-21.6714 98.3371,-18.7394\" fill=\"none\" stroke=\"#494744\"/>\n",
       "<polygon fill=\"#494744\" points=\"99.6339,-15.4719 89.1354,-14.0467 96.4537,-21.7078 99.6339,-15.4719\" stroke=\"#494744\"/>\n",
       "<text font-family=\"Helvetica,sans-Serif\" font-size=\"8.00\" text-anchor=\"middle\" x=\"170.332\" y=\"-30.6\">Input.AUTODEPENDENCY</text>\n",
       "</g>\n",
       "</g>\n",
       "</svg>"
      ],
      "text/plain": [
       "<IPython.core.display.SVG object>"
      ]
     },
     "metadata": {},
     "output_type": "display_data"
    },
    {
     "name": "stdout",
     "output_type": "stream",
     "text": [
      "Output: 3\n"
     ]
    },
    {
     "data": {
      "image/svg+xml": [
       "<svg height=\"74pt\" viewBox=\"0.00 0.00 227.16 74.00\" width=\"227pt\" xmlns=\"http://www.w3.org/2000/svg\" xmlns:xlink=\"http://www.w3.org/1999/xlink\">\n",
       "<g class=\"graph\" id=\"graph0\" transform=\"scale(1 1) rotate(0) translate(4 70)\">\n",
       "<title>%3</title>\n",
       "<polygon fill=\"white\" points=\"-4,4 -4,-70 223.164,-70 223.164,4 -4,4\" stroke=\"none\"/>\n",
       "<!-- a -->\n",
       "<g class=\"node\" id=\"node1\"><title>a</title>\n",
       "<polygon fill=\"#494744\" points=\"29,-66 0,-66 0,-52 29,-52 29,-66\" stroke=\"#494744\"/>\n",
       "<text fill=\"white\" font-family=\"Helvetica,sans-Serif\" font-size=\"8.00\" text-anchor=\"middle\" x=\"14.5\" y=\"-56.6\">a</text>\n",
       "</g>\n",
       "<!-- expr -->\n",
       "<g class=\"node\" id=\"node2\"><title>expr</title>\n",
       "<polygon fill=\"#494744\" points=\"89,-14 60,-14 60,-0 89,-0 89,-14\" stroke=\"#494744\"/>\n",
       "<text fill=\"white\" font-family=\"Helvetica,sans-Serif\" font-size=\"8.00\" text-anchor=\"middle\" x=\"74.5\" y=\"-4.6\">expr</text>\n",
       "</g>\n",
       "<!-- a&#45;&gt;expr -->\n",
       "<g class=\"edge\" id=\"edge1\"><title>a-&gt;expr</title>\n",
       "<path d=\"M12.9005,-51.56C11.719,-45.1917 11.0425,-35.4848 15.8359,-29 23.6938,-18.3694 37.4173,-13.1028 49.616,-10.5014\" fill=\"none\" stroke=\"#494744\"/>\n",
       "<polygon fill=\"#494744\" points=\"50.4582,-13.91 59.7577,-8.83358 49.3223,-7.00274 50.4582,-13.91\" stroke=\"#494744\"/>\n",
       "<text font-family=\"Helvetica,sans-Serif\" font-size=\"8.00\" text-anchor=\"middle\" x=\"65.332\" y=\"-30.6\">Input.AUTODEPENDENCY</text>\n",
       "</g>\n",
       "<!-- b -->\n",
       "<g class=\"node\" id=\"node3\"><title>b</title>\n",
       "<polygon fill=\"white\" points=\"200,-66 171,-66 171,-52 200,-52 200,-66\" stroke=\"#494744\"/>\n",
       "<text fill=\"#494744\" font-family=\"Helvetica,sans-Serif\" font-size=\"8.00\" text-anchor=\"middle\" x=\"185.5\" y=\"-56.6\">b</text>\n",
       "</g>\n",
       "<!-- choice -->\n",
       "<g class=\"node\" id=\"node4\"><title>choice</title>\n",
       "<polygon fill=\"#494744\" points=\"153.125,-66 117.875,-66 117.875,-52 153.125,-52 153.125,-66\" stroke=\"#494744\"/>\n",
       "<text fill=\"white\" font-family=\"Helvetica,sans-Serif\" font-size=\"8.00\" text-anchor=\"middle\" x=\"135.5\" y=\"-56.6\">choice</text>\n",
       "</g>\n",
       "<!-- choice&#45;&gt;expr -->\n",
       "<g class=\"edge\" id=\"edge2\"><title>choice-&gt;expr</title>\n",
       "<path d=\"M131.78,-51.5978C127.855,-45.259 121.182,-35.5745 113.5,-29 108.972,-25.1249 103.611,-21.6714 98.3371,-18.7394\" fill=\"none\" stroke=\"#494744\"/>\n",
       "<polygon fill=\"#494744\" points=\"99.6339,-15.4719 89.1354,-14.0467 96.4537,-21.7078 99.6339,-15.4719\" stroke=\"#494744\"/>\n",
       "<text font-family=\"Helvetica,sans-Serif\" font-size=\"8.00\" text-anchor=\"middle\" x=\"170.332\" y=\"-30.6\">Input.AUTODEPENDENCY</text>\n",
       "</g>\n",
       "</g>\n",
       "</svg>"
      ],
      "text/plain": [
       "<IPython.core.display.SVG object>"
      ]
     },
     "metadata": {},
     "output_type": "display_data"
    }
   ],
   "source": [
    "graph.set_task(\"a\", graphcat.constant(3))\n",
    "graphcat.notebook.display(graph)\n",
    "print(\"Output:\", graph.output(\"expr\"))\n",
    "graphcat.notebook.display(graph)"
   ]
  },
  {
   "cell_type": "code",
   "execution_count": 6,
   "metadata": {},
   "outputs": [
    {
     "data": {
      "image/svg+xml": [
       "<svg height=\"74pt\" viewBox=\"0.00 0.00 227.16 74.00\" width=\"227pt\" xmlns=\"http://www.w3.org/2000/svg\" xmlns:xlink=\"http://www.w3.org/1999/xlink\">\n",
       "<g class=\"graph\" id=\"graph0\" transform=\"scale(1 1) rotate(0) translate(4 70)\">\n",
       "<title>%3</title>\n",
       "<polygon fill=\"white\" points=\"-4,4 -4,-70 223.164,-70 223.164,4 -4,4\" stroke=\"none\"/>\n",
       "<!-- a -->\n",
       "<g class=\"node\" id=\"node1\"><title>a</title>\n",
       "<polygon fill=\"#494744\" points=\"29,-66 0,-66 0,-52 29,-52 29,-66\" stroke=\"#494744\"/>\n",
       "<text fill=\"white\" font-family=\"Helvetica,sans-Serif\" font-size=\"8.00\" text-anchor=\"middle\" x=\"14.5\" y=\"-56.6\">a</text>\n",
       "</g>\n",
       "<!-- expr -->\n",
       "<g class=\"node\" id=\"node2\"><title>expr</title>\n",
       "<polygon fill=\"white\" points=\"89,-14 60,-14 60,-0 89,-0 89,-14\" stroke=\"#494744\"/>\n",
       "<text fill=\"#494744\" font-family=\"Helvetica,sans-Serif\" font-size=\"8.00\" text-anchor=\"middle\" x=\"74.5\" y=\"-4.6\">expr</text>\n",
       "</g>\n",
       "<!-- a&#45;&gt;expr -->\n",
       "<g class=\"edge\" id=\"edge1\"><title>a-&gt;expr</title>\n",
       "<path d=\"M12.9005,-51.56C11.719,-45.1917 11.0425,-35.4848 15.8359,-29 23.6938,-18.3694 37.4173,-13.1028 49.616,-10.5014\" fill=\"none\" stroke=\"#494744\"/>\n",
       "<polygon fill=\"#494744\" points=\"50.4582,-13.91 59.7577,-8.83358 49.3223,-7.00274 50.4582,-13.91\" stroke=\"#494744\"/>\n",
       "<text font-family=\"Helvetica,sans-Serif\" font-size=\"8.00\" text-anchor=\"middle\" x=\"65.332\" y=\"-30.6\">Input.AUTODEPENDENCY</text>\n",
       "</g>\n",
       "<!-- b -->\n",
       "<g class=\"node\" id=\"node3\"><title>b</title>\n",
       "<polygon fill=\"white\" points=\"200,-66 171,-66 171,-52 200,-52 200,-66\" stroke=\"#494744\"/>\n",
       "<text fill=\"#494744\" font-family=\"Helvetica,sans-Serif\" font-size=\"8.00\" text-anchor=\"middle\" x=\"185.5\" y=\"-56.6\">b</text>\n",
       "</g>\n",
       "<!-- choice -->\n",
       "<g class=\"node\" id=\"node4\"><title>choice</title>\n",
       "<polygon fill=\"white\" points=\"153.125,-66 117.875,-66 117.875,-52 153.125,-52 153.125,-66\" stroke=\"#494744\"/>\n",
       "<text fill=\"#494744\" font-family=\"Helvetica,sans-Serif\" font-size=\"8.00\" text-anchor=\"middle\" x=\"135.5\" y=\"-56.6\">choice</text>\n",
       "</g>\n",
       "<!-- choice&#45;&gt;expr -->\n",
       "<g class=\"edge\" id=\"edge2\"><title>choice-&gt;expr</title>\n",
       "<path d=\"M131.78,-51.5978C127.855,-45.259 121.182,-35.5745 113.5,-29 108.972,-25.1249 103.611,-21.6714 98.3371,-18.7394\" fill=\"none\" stroke=\"#494744\"/>\n",
       "<polygon fill=\"#494744\" points=\"99.6339,-15.4719 89.1354,-14.0467 96.4537,-21.7078 99.6339,-15.4719\" stroke=\"#494744\"/>\n",
       "<text font-family=\"Helvetica,sans-Serif\" font-size=\"8.00\" text-anchor=\"middle\" x=\"170.332\" y=\"-30.6\">Input.AUTODEPENDENCY</text>\n",
       "</g>\n",
       "</g>\n",
       "</svg>"
      ],
      "text/plain": [
       "<IPython.core.display.SVG object>"
      ]
     },
     "metadata": {},
     "output_type": "display_data"
    },
    {
     "name": "stdout",
     "output_type": "stream",
     "text": [
      "Output: 2\n"
     ]
    },
    {
     "data": {
      "image/svg+xml": [
       "<svg height=\"74pt\" viewBox=\"0.00 0.00 274.16 74.00\" width=\"274pt\" xmlns=\"http://www.w3.org/2000/svg\" xmlns:xlink=\"http://www.w3.org/1999/xlink\">\n",
       "<g class=\"graph\" id=\"graph0\" transform=\"scale(1 1) rotate(0) translate(4 70)\">\n",
       "<title>%3</title>\n",
       "<polygon fill=\"white\" points=\"-4,4 -4,-70 270.164,-70 270.164,4 -4,4\" stroke=\"none\"/>\n",
       "<!-- a -->\n",
       "<g class=\"node\" id=\"node1\"><title>a</title>\n",
       "<polygon fill=\"#494744\" points=\"29,-66 0,-66 0,-52 29,-52 29,-66\" stroke=\"#494744\"/>\n",
       "<text fill=\"white\" font-family=\"Helvetica,sans-Serif\" font-size=\"8.00\" text-anchor=\"middle\" x=\"14.5\" y=\"-56.6\">a</text>\n",
       "</g>\n",
       "<!-- b -->\n",
       "<g class=\"node\" id=\"node2\"><title>b</title>\n",
       "<polygon fill=\"#494744\" points=\"76,-66 47,-66 47,-52 76,-52 76,-66\" stroke=\"#494744\"/>\n",
       "<text fill=\"white\" font-family=\"Helvetica,sans-Serif\" font-size=\"8.00\" text-anchor=\"middle\" x=\"61.5\" y=\"-56.6\">b</text>\n",
       "</g>\n",
       "<!-- expr -->\n",
       "<g class=\"node\" id=\"node3\"><title>expr</title>\n",
       "<polygon fill=\"#494744\" points=\"136,-14 107,-14 107,-0 136,-0 136,-14\" stroke=\"#494744\"/>\n",
       "<text fill=\"white\" font-family=\"Helvetica,sans-Serif\" font-size=\"8.00\" text-anchor=\"middle\" x=\"121.5\" y=\"-4.6\">expr</text>\n",
       "</g>\n",
       "<!-- b&#45;&gt;expr -->\n",
       "<g class=\"edge\" id=\"edge1\"><title>b-&gt;expr</title>\n",
       "<path d=\"M59.9005,-51.56C58.719,-45.1917 58.0425,-35.4848 62.8359,-29 70.6938,-18.3694 84.4173,-13.1028 96.616,-10.5014\" fill=\"none\" stroke=\"#494744\"/>\n",
       "<polygon fill=\"#494744\" points=\"97.4582,-13.91 106.758,-8.83358 96.3223,-7.00274 97.4582,-13.91\" stroke=\"#494744\"/>\n",
       "<text font-family=\"Helvetica,sans-Serif\" font-size=\"8.00\" text-anchor=\"middle\" x=\"112.332\" y=\"-30.6\">Input.AUTODEPENDENCY</text>\n",
       "</g>\n",
       "<!-- choice -->\n",
       "<g class=\"node\" id=\"node4\"><title>choice</title>\n",
       "<polygon fill=\"#494744\" points=\"200.125,-66 164.875,-66 164.875,-52 200.125,-52 200.125,-66\" stroke=\"#494744\"/>\n",
       "<text fill=\"white\" font-family=\"Helvetica,sans-Serif\" font-size=\"8.00\" text-anchor=\"middle\" x=\"182.5\" y=\"-56.6\">choice</text>\n",
       "</g>\n",
       "<!-- choice&#45;&gt;expr -->\n",
       "<g class=\"edge\" id=\"edge2\"><title>choice-&gt;expr</title>\n",
       "<path d=\"M178.78,-51.5978C174.855,-45.259 168.182,-35.5745 160.5,-29 155.972,-25.1249 150.611,-21.6714 145.337,-18.7394\" fill=\"none\" stroke=\"#494744\"/>\n",
       "<polygon fill=\"#494744\" points=\"146.634,-15.4719 136.135,-14.0467 143.454,-21.7078 146.634,-15.4719\" stroke=\"#494744\"/>\n",
       "<text font-family=\"Helvetica,sans-Serif\" font-size=\"8.00\" text-anchor=\"middle\" x=\"217.332\" y=\"-30.6\">Input.AUTODEPENDENCY</text>\n",
       "</g>\n",
       "</g>\n",
       "</svg>"
      ],
      "text/plain": [
       "<IPython.core.display.SVG object>"
      ]
     },
     "metadata": {},
     "output_type": "display_data"
    }
   ],
   "source": [
    "graph.set_task(\"choice\", graphcat.constant(False))\n",
    "graphcat.notebook.display(graph)\n",
    "print(\"Output:\", graph.output(\"expr\"))\n",
    "graphcat.notebook.display(graph)"
   ]
  },
  {
   "cell_type": "code",
   "execution_count": 7,
   "metadata": {},
   "outputs": [
    {
     "data": {
      "image/svg+xml": [
       "<svg height=\"74pt\" viewBox=\"0.00 0.00 274.16 74.00\" width=\"274pt\" xmlns=\"http://www.w3.org/2000/svg\" xmlns:xlink=\"http://www.w3.org/1999/xlink\">\n",
       "<g class=\"graph\" id=\"graph0\" transform=\"scale(1 1) rotate(0) translate(4 70)\">\n",
       "<title>%3</title>\n",
       "<polygon fill=\"white\" points=\"-4,4 -4,-70 270.164,-70 270.164,4 -4,4\" stroke=\"none\"/>\n",
       "<!-- a -->\n",
       "<g class=\"node\" id=\"node1\"><title>a</title>\n",
       "<polygon fill=\"#494744\" points=\"29,-66 0,-66 0,-52 29,-52 29,-66\" stroke=\"#494744\"/>\n",
       "<text fill=\"white\" font-family=\"Helvetica,sans-Serif\" font-size=\"8.00\" text-anchor=\"middle\" x=\"14.5\" y=\"-56.6\">a</text>\n",
       "</g>\n",
       "<!-- b -->\n",
       "<g class=\"node\" id=\"node2\"><title>b</title>\n",
       "<polygon fill=\"white\" points=\"76,-66 47,-66 47,-52 76,-52 76,-66\" stroke=\"#494744\"/>\n",
       "<text fill=\"#494744\" font-family=\"Helvetica,sans-Serif\" font-size=\"8.00\" text-anchor=\"middle\" x=\"61.5\" y=\"-56.6\">b</text>\n",
       "</g>\n",
       "<!-- expr -->\n",
       "<g class=\"node\" id=\"node3\"><title>expr</title>\n",
       "<polygon fill=\"white\" points=\"136,-14 107,-14 107,-0 136,-0 136,-14\" stroke=\"#494744\"/>\n",
       "<text fill=\"#494744\" font-family=\"Helvetica,sans-Serif\" font-size=\"8.00\" text-anchor=\"middle\" x=\"121.5\" y=\"-4.6\">expr</text>\n",
       "</g>\n",
       "<!-- b&#45;&gt;expr -->\n",
       "<g class=\"edge\" id=\"edge1\"><title>b-&gt;expr</title>\n",
       "<path d=\"M59.9005,-51.56C58.719,-45.1917 58.0425,-35.4848 62.8359,-29 70.6938,-18.3694 84.4173,-13.1028 96.616,-10.5014\" fill=\"none\" stroke=\"#494744\"/>\n",
       "<polygon fill=\"#494744\" points=\"97.4582,-13.91 106.758,-8.83358 96.3223,-7.00274 97.4582,-13.91\" stroke=\"#494744\"/>\n",
       "<text font-family=\"Helvetica,sans-Serif\" font-size=\"8.00\" text-anchor=\"middle\" x=\"112.332\" y=\"-30.6\">Input.AUTODEPENDENCY</text>\n",
       "</g>\n",
       "<!-- choice -->\n",
       "<g class=\"node\" id=\"node4\"><title>choice</title>\n",
       "<polygon fill=\"#494744\" points=\"200.125,-66 164.875,-66 164.875,-52 200.125,-52 200.125,-66\" stroke=\"#494744\"/>\n",
       "<text fill=\"white\" font-family=\"Helvetica,sans-Serif\" font-size=\"8.00\" text-anchor=\"middle\" x=\"182.5\" y=\"-56.6\">choice</text>\n",
       "</g>\n",
       "<!-- choice&#45;&gt;expr -->\n",
       "<g class=\"edge\" id=\"edge2\"><title>choice-&gt;expr</title>\n",
       "<path d=\"M178.78,-51.5978C174.855,-45.259 168.182,-35.5745 160.5,-29 155.972,-25.1249 150.611,-21.6714 145.337,-18.7394\" fill=\"none\" stroke=\"#494744\"/>\n",
       "<polygon fill=\"#494744\" points=\"146.634,-15.4719 136.135,-14.0467 143.454,-21.7078 146.634,-15.4719\" stroke=\"#494744\"/>\n",
       "<text font-family=\"Helvetica,sans-Serif\" font-size=\"8.00\" text-anchor=\"middle\" x=\"217.332\" y=\"-30.6\">Input.AUTODEPENDENCY</text>\n",
       "</g>\n",
       "</g>\n",
       "</svg>"
      ],
      "text/plain": [
       "<IPython.core.display.SVG object>"
      ]
     },
     "metadata": {},
     "output_type": "display_data"
    },
    {
     "name": "stdout",
     "output_type": "stream",
     "text": [
      "Output: 4\n"
     ]
    },
    {
     "data": {
      "image/svg+xml": [
       "<svg height=\"74pt\" viewBox=\"0.00 0.00 274.16 74.00\" width=\"274pt\" xmlns=\"http://www.w3.org/2000/svg\" xmlns:xlink=\"http://www.w3.org/1999/xlink\">\n",
       "<g class=\"graph\" id=\"graph0\" transform=\"scale(1 1) rotate(0) translate(4 70)\">\n",
       "<title>%3</title>\n",
       "<polygon fill=\"white\" points=\"-4,4 -4,-70 270.164,-70 270.164,4 -4,4\" stroke=\"none\"/>\n",
       "<!-- a -->\n",
       "<g class=\"node\" id=\"node1\"><title>a</title>\n",
       "<polygon fill=\"#494744\" points=\"29,-66 0,-66 0,-52 29,-52 29,-66\" stroke=\"#494744\"/>\n",
       "<text fill=\"white\" font-family=\"Helvetica,sans-Serif\" font-size=\"8.00\" text-anchor=\"middle\" x=\"14.5\" y=\"-56.6\">a</text>\n",
       "</g>\n",
       "<!-- b -->\n",
       "<g class=\"node\" id=\"node2\"><title>b</title>\n",
       "<polygon fill=\"#494744\" points=\"76,-66 47,-66 47,-52 76,-52 76,-66\" stroke=\"#494744\"/>\n",
       "<text fill=\"white\" font-family=\"Helvetica,sans-Serif\" font-size=\"8.00\" text-anchor=\"middle\" x=\"61.5\" y=\"-56.6\">b</text>\n",
       "</g>\n",
       "<!-- expr -->\n",
       "<g class=\"node\" id=\"node3\"><title>expr</title>\n",
       "<polygon fill=\"#494744\" points=\"136,-14 107,-14 107,-0 136,-0 136,-14\" stroke=\"#494744\"/>\n",
       "<text fill=\"white\" font-family=\"Helvetica,sans-Serif\" font-size=\"8.00\" text-anchor=\"middle\" x=\"121.5\" y=\"-4.6\">expr</text>\n",
       "</g>\n",
       "<!-- b&#45;&gt;expr -->\n",
       "<g class=\"edge\" id=\"edge1\"><title>b-&gt;expr</title>\n",
       "<path d=\"M59.9005,-51.56C58.719,-45.1917 58.0425,-35.4848 62.8359,-29 70.6938,-18.3694 84.4173,-13.1028 96.616,-10.5014\" fill=\"none\" stroke=\"#494744\"/>\n",
       "<polygon fill=\"#494744\" points=\"97.4582,-13.91 106.758,-8.83358 96.3223,-7.00274 97.4582,-13.91\" stroke=\"#494744\"/>\n",
       "<text font-family=\"Helvetica,sans-Serif\" font-size=\"8.00\" text-anchor=\"middle\" x=\"112.332\" y=\"-30.6\">Input.AUTODEPENDENCY</text>\n",
       "</g>\n",
       "<!-- choice -->\n",
       "<g class=\"node\" id=\"node4\"><title>choice</title>\n",
       "<polygon fill=\"#494744\" points=\"200.125,-66 164.875,-66 164.875,-52 200.125,-52 200.125,-66\" stroke=\"#494744\"/>\n",
       "<text fill=\"white\" font-family=\"Helvetica,sans-Serif\" font-size=\"8.00\" text-anchor=\"middle\" x=\"182.5\" y=\"-56.6\">choice</text>\n",
       "</g>\n",
       "<!-- choice&#45;&gt;expr -->\n",
       "<g class=\"edge\" id=\"edge2\"><title>choice-&gt;expr</title>\n",
       "<path d=\"M178.78,-51.5978C174.855,-45.259 168.182,-35.5745 160.5,-29 155.972,-25.1249 150.611,-21.6714 145.337,-18.7394\" fill=\"none\" stroke=\"#494744\"/>\n",
       "<polygon fill=\"#494744\" points=\"146.634,-15.4719 136.135,-14.0467 143.454,-21.7078 146.634,-15.4719\" stroke=\"#494744\"/>\n",
       "<text font-family=\"Helvetica,sans-Serif\" font-size=\"8.00\" text-anchor=\"middle\" x=\"217.332\" y=\"-30.6\">Input.AUTODEPENDENCY</text>\n",
       "</g>\n",
       "</g>\n",
       "</svg>"
      ],
      "text/plain": [
       "<IPython.core.display.SVG object>"
      ]
     },
     "metadata": {},
     "output_type": "display_data"
    }
   ],
   "source": [
    "graph.set_task(\"b\", graphcat.constant(4))\n",
    "graphcat.notebook.display(graph)\n",
    "print(\"Output:\", graph.output(\"expr\"))\n",
    "graphcat.notebook.display(graph)"
   ]
  },
  {
   "cell_type": "code",
   "execution_count": 8,
   "metadata": {},
   "outputs": [
    {
     "data": {
      "image/svg+xml": [
       "<svg height=\"74pt\" viewBox=\"0.00 0.00 277.16 74.00\" width=\"277pt\" xmlns=\"http://www.w3.org/2000/svg\" xmlns:xlink=\"http://www.w3.org/1999/xlink\">\n",
       "<g class=\"graph\" id=\"graph0\" transform=\"scale(1 1) rotate(0) translate(4 70)\">\n",
       "<title>%3</title>\n",
       "<polygon fill=\"white\" points=\"-4,4 -4,-70 273.164,-70 273.164,4 -4,4\" stroke=\"none\"/>\n",
       "<!-- a -->\n",
       "<g class=\"node\" id=\"node1\"><title>a</title>\n",
       "<polygon fill=\"#494744\" points=\"29,-66 0,-66 0,-52 29,-52 29,-66\" stroke=\"#494744\"/>\n",
       "<text fill=\"white\" font-family=\"Helvetica,sans-Serif\" font-size=\"8.00\" text-anchor=\"middle\" x=\"14.5\" y=\"-56.6\">a</text>\n",
       "</g>\n",
       "<!-- choice -->\n",
       "<g class=\"node\" id=\"node2\"><title>choice</title>\n",
       "<polygon fill=\"#494744\" points=\"82.1252,-66 46.8748,-66 46.8748,-52 82.1252,-52 82.1252,-66\" stroke=\"#494744\"/>\n",
       "<text fill=\"white\" font-family=\"Helvetica,sans-Serif\" font-size=\"8.00\" text-anchor=\"middle\" x=\"64.5\" y=\"-56.6\">choice</text>\n",
       "</g>\n",
       "<!-- expr -->\n",
       "<g class=\"node\" id=\"node3\"><title>expr</title>\n",
       "<polygon fill=\"white\" points=\"139,-14 110,-14 110,-0 139,-0 139,-14\" stroke=\"#494744\"/>\n",
       "<text fill=\"#494744\" font-family=\"Helvetica,sans-Serif\" font-size=\"8.00\" text-anchor=\"middle\" x=\"124.5\" y=\"-4.6\">expr</text>\n",
       "</g>\n",
       "<!-- choice&#45;&gt;expr -->\n",
       "<g class=\"edge\" id=\"edge1\"><title>choice-&gt;expr</title>\n",
       "<path d=\"M62.9005,-51.56C61.719,-45.1917 61.0425,-35.4848 65.8359,-29 73.6938,-18.3694 87.4173,-13.1028 99.616,-10.5014\" fill=\"none\" stroke=\"#494744\"/>\n",
       "<polygon fill=\"#494744\" points=\"100.458,-13.91 109.758,-8.83358 99.3223,-7.00274 100.458,-13.91\" stroke=\"#494744\"/>\n",
       "<text font-family=\"Helvetica,sans-Serif\" font-size=\"8.00\" text-anchor=\"middle\" x=\"115.332\" y=\"-30.6\">Input.AUTODEPENDENCY</text>\n",
       "</g>\n",
       "<!-- c -->\n",
       "<g class=\"node\" id=\"node4\"><title>c</title>\n",
       "<polygon fill=\"white\" points=\"200,-66 171,-66 171,-52 200,-52 200,-66\" stroke=\"#494744\"/>\n",
       "<text fill=\"#494744\" font-family=\"Helvetica,sans-Serif\" font-size=\"8.00\" text-anchor=\"middle\" x=\"185.5\" y=\"-56.6\">c</text>\n",
       "</g>\n",
       "<!-- c&#45;&gt;expr -->\n",
       "<g class=\"edge\" id=\"edge2\"><title>c-&gt;expr</title>\n",
       "<path d=\"M181.78,-51.5978C177.855,-45.259 171.182,-35.5745 163.5,-29 158.972,-25.1249 153.611,-21.6714 148.337,-18.7394\" fill=\"none\" stroke=\"#494744\"/>\n",
       "<polygon fill=\"#494744\" points=\"149.634,-15.4719 139.135,-14.0467 146.454,-21.7078 149.634,-15.4719\" stroke=\"#494744\"/>\n",
       "<text font-family=\"Helvetica,sans-Serif\" font-size=\"8.00\" text-anchor=\"middle\" x=\"220.332\" y=\"-30.6\">Input.AUTODEPENDENCY</text>\n",
       "</g>\n",
       "</g>\n",
       "</svg>"
      ],
      "text/plain": [
       "<IPython.core.display.SVG object>"
      ]
     },
     "metadata": {},
     "output_type": "display_data"
    },
    {
     "ename": "RuntimeError",
     "evalue": "Uncaught exception executing expression \"out('a') if out('choice') else out('b')\": No task named 'b'.",
     "output_type": "error",
     "traceback": [
      "\u001b[0;31m---------------------------------------------------------------------------\u001b[0m",
      "\u001b[0;31mValueError\u001b[0m                                Traceback (most recent call last)",
      "\u001b[0;32m~/src/graphcat/graphcat/__init__.py\u001b[0m in \u001b[0;36mimplementation\u001b[0;34m(name, inputs)\u001b[0m\n\u001b[1;32m    776\u001b[0m         \u001b[0;32mtry\u001b[0m\u001b[0;34m:\u001b[0m\u001b[0;34m\u001b[0m\u001b[0;34m\u001b[0m\u001b[0m\n\u001b[0;32m--> 777\u001b[0;31m             \u001b[0;32mreturn\u001b[0m \u001b[0meval\u001b[0m\u001b[0;34m(\u001b[0m\u001b[0mcode\u001b[0m\u001b[0;34m,\u001b[0m \u001b[0;34m{\u001b[0m\u001b[0;34m}\u001b[0m\u001b[0;34m,\u001b[0m \u001b[0mdict\u001b[0m\u001b[0;34m(\u001b[0m\u001b[0mlocals\u001b[0m\u001b[0;34m)\u001b[0m\u001b[0;34m)\u001b[0m\u001b[0;34m\u001b[0m\u001b[0;34m\u001b[0m\u001b[0m\n\u001b[0m\u001b[1;32m    778\u001b[0m         \u001b[0;32mexcept\u001b[0m \u001b[0mException\u001b[0m \u001b[0;32mas\u001b[0m \u001b[0me\u001b[0m\u001b[0;34m:\u001b[0m\u001b[0;34m\u001b[0m\u001b[0;34m\u001b[0m\u001b[0m\n",
      "\u001b[0;32m<string>\u001b[0m in \u001b[0;36m<module>\u001b[0;34m\u001b[0m\n",
      "\u001b[0;32m<ipython-input-3-0813e2c99f16>\u001b[0m in \u001b[0;36mimplementation\u001b[0;34m(label)\u001b[0m\n\u001b[1;32m      3\u001b[0m         \u001b[0;32mif\u001b[0m \u001b[0mlabel\u001b[0m \u001b[0;32mnot\u001b[0m \u001b[0;32min\u001b[0m \u001b[0mgraph\u001b[0m\u001b[0;34m:\u001b[0m\u001b[0;34m\u001b[0m\u001b[0;34m\u001b[0m\u001b[0m\n\u001b[0;32m----> 4\u001b[0;31m             \u001b[0;32mraise\u001b[0m \u001b[0mValueError\u001b[0m\u001b[0;34m(\u001b[0m\u001b[0;34mf\"No task named {label!r}.\"\u001b[0m\u001b[0;34m)\u001b[0m\u001b[0;34m\u001b[0m\u001b[0;34m\u001b[0m\u001b[0m\n\u001b[0m\u001b[1;32m      5\u001b[0m         \u001b[0;32mreturn\u001b[0m \u001b[0mgraph\u001b[0m\u001b[0;34m.\u001b[0m\u001b[0moutput\u001b[0m\u001b[0;34m(\u001b[0m\u001b[0mlabel\u001b[0m\u001b[0;34m)\u001b[0m\u001b[0;34m\u001b[0m\u001b[0;34m\u001b[0m\u001b[0m\n",
      "\u001b[0;31mValueError\u001b[0m: No task named 'b'.",
      "\nDuring handling of the above exception, another exception occurred:\n",
      "\u001b[0;31mRuntimeError\u001b[0m                              Traceback (most recent call last)",
      "\u001b[0;32m<ipython-input-8-f3b37ce6e4ba>\u001b[0m in \u001b[0;36m<module>\u001b[0;34m\u001b[0m\n\u001b[1;32m      1\u001b[0m \u001b[0mgraph\u001b[0m\u001b[0;34m.\u001b[0m\u001b[0mmove_task\u001b[0m\u001b[0;34m(\u001b[0m\u001b[0;34m\"b\"\u001b[0m\u001b[0;34m,\u001b[0m \u001b[0;34m\"c\"\u001b[0m\u001b[0;34m)\u001b[0m\u001b[0;34m\u001b[0m\u001b[0;34m\u001b[0m\u001b[0m\n\u001b[1;32m      2\u001b[0m \u001b[0mgraphcat\u001b[0m\u001b[0;34m.\u001b[0m\u001b[0mnotebook\u001b[0m\u001b[0;34m.\u001b[0m\u001b[0mdisplay\u001b[0m\u001b[0;34m(\u001b[0m\u001b[0mgraph\u001b[0m\u001b[0;34m)\u001b[0m\u001b[0;34m\u001b[0m\u001b[0;34m\u001b[0m\u001b[0m\n\u001b[0;32m----> 3\u001b[0;31m \u001b[0mprint\u001b[0m\u001b[0;34m(\u001b[0m\u001b[0;34m\"Output:\"\u001b[0m\u001b[0;34m,\u001b[0m \u001b[0mgraph\u001b[0m\u001b[0;34m.\u001b[0m\u001b[0moutput\u001b[0m\u001b[0;34m(\u001b[0m\u001b[0;34m\"expr\"\u001b[0m\u001b[0;34m)\u001b[0m\u001b[0;34m)\u001b[0m\u001b[0;34m\u001b[0m\u001b[0;34m\u001b[0m\u001b[0m\n\u001b[0m",
      "\u001b[0;32m~/src/graphcat/graphcat/__init__.py\u001b[0m in \u001b[0;36moutput\u001b[0;34m(self, name)\u001b[0m\n\u001b[1;32m    407\u001b[0m         \"\"\"\n\u001b[1;32m    408\u001b[0m         \u001b[0mself\u001b[0m\u001b[0;34m.\u001b[0m\u001b[0m_require_task_present\u001b[0m\u001b[0;34m(\u001b[0m\u001b[0mname\u001b[0m\u001b[0;34m)\u001b[0m\u001b[0;34m\u001b[0m\u001b[0;34m\u001b[0m\u001b[0m\n\u001b[0;32m--> 409\u001b[0;31m         \u001b[0mself\u001b[0m\u001b[0;34m.\u001b[0m\u001b[0mupdate\u001b[0m\u001b[0;34m(\u001b[0m\u001b[0mname\u001b[0m\u001b[0;34m)\u001b[0m\u001b[0;34m\u001b[0m\u001b[0;34m\u001b[0m\u001b[0m\n\u001b[0m\u001b[1;32m    410\u001b[0m         \u001b[0;32mreturn\u001b[0m \u001b[0mself\u001b[0m\u001b[0;34m.\u001b[0m\u001b[0m_graph\u001b[0m\u001b[0;34m.\u001b[0m\u001b[0mnodes\u001b[0m\u001b[0;34m[\u001b[0m\u001b[0mname\u001b[0m\u001b[0;34m]\u001b[0m\u001b[0;34m[\u001b[0m\u001b[0;34m\"output\"\u001b[0m\u001b[0;34m]\u001b[0m\u001b[0;34m\u001b[0m\u001b[0;34m\u001b[0m\u001b[0m\n\u001b[1;32m    411\u001b[0m \u001b[0;34m\u001b[0m\u001b[0m\n",
      "\u001b[0;32m~/src/graphcat/graphcat/__init__.py\u001b[0m in \u001b[0;36mupdate\u001b[0;34m(self, name)\u001b[0m\n\u001b[1;32m    611\u001b[0m         \u001b[0;32mif\u001b[0m \u001b[0mfailed\u001b[0m \u001b[0;32mis\u001b[0m \u001b[0;32mnot\u001b[0m \u001b[0;32mNone\u001b[0m\u001b[0;34m:\u001b[0m\u001b[0;34m\u001b[0m\u001b[0;34m\u001b[0m\u001b[0m\n\u001b[1;32m    612\u001b[0m             \u001b[0mself\u001b[0m\u001b[0;34m.\u001b[0m\u001b[0mmark_failed\u001b[0m\u001b[0;34m(\u001b[0m\u001b[0mfailed\u001b[0m\u001b[0;34m)\u001b[0m\u001b[0;34m\u001b[0m\u001b[0;34m\u001b[0m\u001b[0m\n\u001b[0;32m--> 613\u001b[0;31m             \u001b[0;32mraise\u001b[0m \u001b[0mexception\u001b[0m\u001b[0;34m\u001b[0m\u001b[0;34m\u001b[0m\u001b[0m\n\u001b[0m\u001b[1;32m    614\u001b[0m \u001b[0;34m\u001b[0m\u001b[0m\n\u001b[1;32m    615\u001b[0m \u001b[0;34m\u001b[0m\u001b[0m\n",
      "\u001b[0;32m~/src/graphcat/graphcat/__init__.py\u001b[0m in \u001b[0;36mupdate\u001b[0;34m(self, name)\u001b[0m\n\u001b[1;32m    599\u001b[0m                     \u001b[0;31m# Execute the function and store the output.\u001b[0m\u001b[0;34m\u001b[0m\u001b[0;34m\u001b[0m\u001b[0;34m\u001b[0m\u001b[0m\n\u001b[1;32m    600\u001b[0m                     \u001b[0mself\u001b[0m\u001b[0;34m.\u001b[0m\u001b[0m_on_execute\u001b[0m\u001b[0;34m.\u001b[0m\u001b[0msend\u001b[0m\u001b[0;34m(\u001b[0m\u001b[0mself\u001b[0m\u001b[0;34m,\u001b[0m \u001b[0mname\u001b[0m\u001b[0;34m=\u001b[0m\u001b[0mname\u001b[0m\u001b[0;34m,\u001b[0m \u001b[0minputs\u001b[0m\u001b[0;34m=\u001b[0m\u001b[0minputs\u001b[0m\u001b[0;34m)\u001b[0m\u001b[0;34m\u001b[0m\u001b[0;34m\u001b[0m\u001b[0m\n\u001b[0;32m--> 601\u001b[0;31m                     \u001b[0mtask\u001b[0m\u001b[0;34m[\u001b[0m\u001b[0;34m\"output\"\u001b[0m\u001b[0;34m]\u001b[0m \u001b[0;34m=\u001b[0m \u001b[0mtask\u001b[0m\u001b[0;34m[\u001b[0m\u001b[0;34m\"fn\"\u001b[0m\u001b[0;34m]\u001b[0m\u001b[0;34m(\u001b[0m\u001b[0mname\u001b[0m\u001b[0;34m=\u001b[0m\u001b[0mname\u001b[0m\u001b[0;34m,\u001b[0m \u001b[0minputs\u001b[0m\u001b[0;34m=\u001b[0m\u001b[0minputs\u001b[0m\u001b[0;34m)\u001b[0m\u001b[0;34m\u001b[0m\u001b[0;34m\u001b[0m\u001b[0m\n\u001b[0m\u001b[1;32m    602\u001b[0m                     \u001b[0mtask\u001b[0m\u001b[0;34m[\u001b[0m\u001b[0;34m\"state\"\u001b[0m\u001b[0;34m]\u001b[0m \u001b[0;34m=\u001b[0m \u001b[0mTaskState\u001b[0m\u001b[0;34m.\u001b[0m\u001b[0mFINISHED\u001b[0m\u001b[0;34m\u001b[0m\u001b[0;34m\u001b[0m\u001b[0m\n\u001b[1;32m    603\u001b[0m                     \u001b[0mself\u001b[0m\u001b[0;34m.\u001b[0m\u001b[0m_on_finished\u001b[0m\u001b[0;34m.\u001b[0m\u001b[0msend\u001b[0m\u001b[0;34m(\u001b[0m\u001b[0mself\u001b[0m\u001b[0;34m,\u001b[0m \u001b[0mname\u001b[0m\u001b[0;34m=\u001b[0m\u001b[0mname\u001b[0m\u001b[0;34m,\u001b[0m \u001b[0moutput\u001b[0m\u001b[0;34m=\u001b[0m\u001b[0mtask\u001b[0m\u001b[0;34m[\u001b[0m\u001b[0;34m\"output\"\u001b[0m\u001b[0;34m]\u001b[0m\u001b[0;34m)\u001b[0m\u001b[0;34m\u001b[0m\u001b[0;34m\u001b[0m\u001b[0m\n",
      "\u001b[0;32m~/src/graphcat/graphcat/__init__.py\u001b[0m in \u001b[0;36m__call__\u001b[0;34m(self, *args, **kwargs)\u001b[0m\n\u001b[1;32m     47\u001b[0m         \u001b[0;31m# Keep track of dependencies while the task executes.\u001b[0m\u001b[0;34m\u001b[0m\u001b[0;34m\u001b[0m\u001b[0;34m\u001b[0m\u001b[0m\n\u001b[1;32m     48\u001b[0m         \u001b[0mupdated\u001b[0m \u001b[0;34m=\u001b[0m \u001b[0mUpdatedTasks\u001b[0m\u001b[0;34m(\u001b[0m\u001b[0mself\u001b[0m\u001b[0;34m.\u001b[0m\u001b[0mgraph\u001b[0m\u001b[0;34m)\u001b[0m\u001b[0;34m\u001b[0m\u001b[0;34m\u001b[0m\u001b[0m\n\u001b[0;32m---> 49\u001b[0;31m         \u001b[0mresult\u001b[0m \u001b[0;34m=\u001b[0m \u001b[0mself\u001b[0m\u001b[0;34m.\u001b[0m\u001b[0mfn\u001b[0m\u001b[0;34m(\u001b[0m\u001b[0;34m*\u001b[0m\u001b[0margs\u001b[0m\u001b[0;34m,\u001b[0m \u001b[0;34m**\u001b[0m\u001b[0mkwargs\u001b[0m\u001b[0;34m)\u001b[0m\u001b[0;34m\u001b[0m\u001b[0;34m\u001b[0m\u001b[0m\n\u001b[0m\u001b[1;32m     50\u001b[0m \u001b[0;34m\u001b[0m\u001b[0m\n\u001b[1;32m     51\u001b[0m         \u001b[0;31m# Create new dependencies.\u001b[0m\u001b[0;34m\u001b[0m\u001b[0;34m\u001b[0m\u001b[0;34m\u001b[0m\u001b[0m\n",
      "\u001b[0;32m~/src/graphcat/graphcat/__init__.py\u001b[0m in \u001b[0;36mimplementation\u001b[0;34m(name, inputs)\u001b[0m\n\u001b[1;32m    777\u001b[0m             \u001b[0;32mreturn\u001b[0m \u001b[0meval\u001b[0m\u001b[0;34m(\u001b[0m\u001b[0mcode\u001b[0m\u001b[0;34m,\u001b[0m \u001b[0;34m{\u001b[0m\u001b[0;34m}\u001b[0m\u001b[0;34m,\u001b[0m \u001b[0mdict\u001b[0m\u001b[0;34m(\u001b[0m\u001b[0mlocals\u001b[0m\u001b[0;34m)\u001b[0m\u001b[0;34m)\u001b[0m\u001b[0;34m\u001b[0m\u001b[0;34m\u001b[0m\u001b[0m\n\u001b[1;32m    778\u001b[0m         \u001b[0;32mexcept\u001b[0m \u001b[0mException\u001b[0m \u001b[0;32mas\u001b[0m \u001b[0me\u001b[0m\u001b[0;34m:\u001b[0m\u001b[0;34m\u001b[0m\u001b[0;34m\u001b[0m\u001b[0m\n\u001b[0;32m--> 779\u001b[0;31m             \u001b[0;32mraise\u001b[0m \u001b[0mRuntimeError\u001b[0m\u001b[0;34m(\u001b[0m\u001b[0;34mf\"Uncaught exception executing expression {code!r}: {e}\"\u001b[0m\u001b[0;34m)\u001b[0m\u001b[0;34m\u001b[0m\u001b[0;34m\u001b[0m\u001b[0m\n\u001b[0m\u001b[1;32m    780\u001b[0m     \u001b[0;32mreturn\u001b[0m \u001b[0mimplementation\u001b[0m\u001b[0;34m\u001b[0m\u001b[0;34m\u001b[0m\u001b[0m\n\u001b[1;32m    781\u001b[0m \u001b[0;34m\u001b[0m\u001b[0m\n",
      "\u001b[0;31mRuntimeError\u001b[0m: Uncaught exception executing expression \"out('a') if out('choice') else out('b')\": No task named 'b'."
     ]
    }
   ],
   "source": [
    "graph.move_task(\"b\", \"c\")\n",
    "graphcat.notebook.display(graph)\n",
    "print(\"Output:\", graph.output(\"expr\"))"
   ]
  },
  {
   "cell_type": "code",
   "execution_count": 9,
   "metadata": {},
   "outputs": [
    {
     "data": {
      "image/svg+xml": [
       "<svg height=\"22pt\" viewBox=\"0.00 0.00 184.00 22.00\" width=\"184pt\" xmlns=\"http://www.w3.org/2000/svg\" xmlns:xlink=\"http://www.w3.org/1999/xlink\">\n",
       "<g class=\"graph\" id=\"graph0\" transform=\"scale(1 1) rotate(0) translate(4 18)\">\n",
       "<title>%3</title>\n",
       "<polygon fill=\"white\" points=\"-4,4 -4,-18 180,-18 180,4 -4,4\" stroke=\"none\"/>\n",
       "<!-- a -->\n",
       "<g class=\"node\" id=\"node1\"><title>a</title>\n",
       "<polygon fill=\"#494744\" points=\"29,-14 0,-14 0,-0 29,-0 29,-14\" stroke=\"#494744\"/>\n",
       "<text fill=\"white\" font-family=\"Helvetica,sans-Serif\" font-size=\"8.00\" text-anchor=\"middle\" x=\"14.5\" y=\"-4.6\">a</text>\n",
       "</g>\n",
       "<!-- choice -->\n",
       "<g class=\"node\" id=\"node2\"><title>choice</title>\n",
       "<polygon fill=\"#494744\" points=\"82.1252,-14 46.8748,-14 46.8748,-0 82.1252,-0 82.1252,-14\" stroke=\"#494744\"/>\n",
       "<text fill=\"white\" font-family=\"Helvetica,sans-Serif\" font-size=\"8.00\" text-anchor=\"middle\" x=\"64.5\" y=\"-4.6\">choice</text>\n",
       "</g>\n",
       "<!-- expr -->\n",
       "<g class=\"node\" id=\"node3\"><title>expr</title>\n",
       "<polygon fill=\"crimson\" points=\"129,-14 100,-14 100,-0 129,-0 129,-14\" stroke=\"crimson\"/>\n",
       "<text fill=\"white\" font-family=\"Helvetica,sans-Serif\" font-size=\"8.00\" text-anchor=\"middle\" x=\"114.5\" y=\"-4.6\">expr</text>\n",
       "</g>\n",
       "<!-- c -->\n",
       "<g class=\"node\" id=\"node4\"><title>c</title>\n",
       "<polygon fill=\"#494744\" points=\"176,-14 147,-14 147,-0 176,-0 176,-14\" stroke=\"#494744\"/>\n",
       "<text fill=\"white\" font-family=\"Helvetica,sans-Serif\" font-size=\"8.00\" text-anchor=\"middle\" x=\"161.5\" y=\"-4.6\">c</text>\n",
       "</g>\n",
       "</g>\n",
       "</svg>"
      ],
      "text/plain": [
       "<IPython.core.display.SVG object>"
      ]
     },
     "metadata": {},
     "output_type": "display_data"
    }
   ],
   "source": [
    "graphcat.notebook.display(graph)"
   ]
  },
  {
   "cell_type": "code",
   "execution_count": 11,
   "metadata": {},
   "outputs": [
    {
     "data": {
      "image/svg+xml": [
       "<svg height=\"22pt\" viewBox=\"0.00 0.00 184.00 22.00\" width=\"184pt\" xmlns=\"http://www.w3.org/2000/svg\" xmlns:xlink=\"http://www.w3.org/1999/xlink\">\n",
       "<g class=\"graph\" id=\"graph0\" transform=\"scale(1 1) rotate(0) translate(4 18)\">\n",
       "<title>%3</title>\n",
       "<polygon fill=\"white\" points=\"-4,4 -4,-18 180,-18 180,4 -4,4\" stroke=\"none\"/>\n",
       "<!-- a -->\n",
       "<g class=\"node\" id=\"node1\"><title>a</title>\n",
       "<polygon fill=\"#494744\" points=\"29,-14 0,-14 0,-0 29,-0 29,-14\" stroke=\"#494744\"/>\n",
       "<text fill=\"white\" font-family=\"Helvetica,sans-Serif\" font-size=\"8.00\" text-anchor=\"middle\" x=\"14.5\" y=\"-4.6\">a</text>\n",
       "</g>\n",
       "<!-- choice -->\n",
       "<g class=\"node\" id=\"node2\"><title>choice</title>\n",
       "<polygon fill=\"#494744\" points=\"82.1252,-14 46.8748,-14 46.8748,-0 82.1252,-0 82.1252,-14\" stroke=\"#494744\"/>\n",
       "<text fill=\"white\" font-family=\"Helvetica,sans-Serif\" font-size=\"8.00\" text-anchor=\"middle\" x=\"64.5\" y=\"-4.6\">choice</text>\n",
       "</g>\n",
       "<!-- expr -->\n",
       "<g class=\"node\" id=\"node3\"><title>expr</title>\n",
       "<polygon fill=\"white\" points=\"129,-14 100,-14 100,-0 129,-0 129,-14\" stroke=\"#494744\"/>\n",
       "<text fill=\"#494744\" font-family=\"Helvetica,sans-Serif\" font-size=\"8.00\" text-anchor=\"middle\" x=\"114.5\" y=\"-4.6\">expr</text>\n",
       "</g>\n",
       "<!-- c -->\n",
       "<g class=\"node\" id=\"node4\"><title>c</title>\n",
       "<polygon fill=\"#494744\" points=\"176,-14 147,-14 147,-0 176,-0 176,-14\" stroke=\"#494744\"/>\n",
       "<text fill=\"white\" font-family=\"Helvetica,sans-Serif\" font-size=\"8.00\" text-anchor=\"middle\" x=\"161.5\" y=\"-4.6\">c</text>\n",
       "</g>\n",
       "</g>\n",
       "</svg>"
      ],
      "text/plain": [
       "<IPython.core.display.SVG object>"
      ]
     },
     "metadata": {},
     "output_type": "display_data"
    },
    {
     "name": "stdout",
     "output_type": "stream",
     "text": [
      "Output: 4\n"
     ]
    },
    {
     "data": {
      "image/svg+xml": [
       "<svg height=\"74pt\" viewBox=\"0.00 0.00 277.16 74.00\" width=\"277pt\" xmlns=\"http://www.w3.org/2000/svg\" xmlns:xlink=\"http://www.w3.org/1999/xlink\">\n",
       "<g class=\"graph\" id=\"graph0\" transform=\"scale(1 1) rotate(0) translate(4 70)\">\n",
       "<title>%3</title>\n",
       "<polygon fill=\"white\" points=\"-4,4 -4,-70 273.164,-70 273.164,4 -4,4\" stroke=\"none\"/>\n",
       "<!-- a -->\n",
       "<g class=\"node\" id=\"node1\"><title>a</title>\n",
       "<polygon fill=\"#494744\" points=\"29,-66 0,-66 0,-52 29,-52 29,-66\" stroke=\"#494744\"/>\n",
       "<text fill=\"white\" font-family=\"Helvetica,sans-Serif\" font-size=\"8.00\" text-anchor=\"middle\" x=\"14.5\" y=\"-56.6\">a</text>\n",
       "</g>\n",
       "<!-- choice -->\n",
       "<g class=\"node\" id=\"node2\"><title>choice</title>\n",
       "<polygon fill=\"#494744\" points=\"82.1252,-66 46.8748,-66 46.8748,-52 82.1252,-52 82.1252,-66\" stroke=\"#494744\"/>\n",
       "<text fill=\"white\" font-family=\"Helvetica,sans-Serif\" font-size=\"8.00\" text-anchor=\"middle\" x=\"64.5\" y=\"-56.6\">choice</text>\n",
       "</g>\n",
       "<!-- expr -->\n",
       "<g class=\"node\" id=\"node3\"><title>expr</title>\n",
       "<polygon fill=\"#494744\" points=\"139,-14 110,-14 110,-0 139,-0 139,-14\" stroke=\"#494744\"/>\n",
       "<text fill=\"white\" font-family=\"Helvetica,sans-Serif\" font-size=\"8.00\" text-anchor=\"middle\" x=\"124.5\" y=\"-4.6\">expr</text>\n",
       "</g>\n",
       "<!-- choice&#45;&gt;expr -->\n",
       "<g class=\"edge\" id=\"edge1\"><title>choice-&gt;expr</title>\n",
       "<path d=\"M62.9005,-51.56C61.719,-45.1917 61.0425,-35.4848 65.8359,-29 73.6938,-18.3694 87.4173,-13.1028 99.616,-10.5014\" fill=\"none\" stroke=\"#494744\"/>\n",
       "<polygon fill=\"#494744\" points=\"100.458,-13.91 109.758,-8.83358 99.3223,-7.00274 100.458,-13.91\" stroke=\"#494744\"/>\n",
       "<text font-family=\"Helvetica,sans-Serif\" font-size=\"8.00\" text-anchor=\"middle\" x=\"115.332\" y=\"-30.6\">Input.AUTODEPENDENCY</text>\n",
       "</g>\n",
       "<!-- c -->\n",
       "<g class=\"node\" id=\"node4\"><title>c</title>\n",
       "<polygon fill=\"#494744\" points=\"200,-66 171,-66 171,-52 200,-52 200,-66\" stroke=\"#494744\"/>\n",
       "<text fill=\"white\" font-family=\"Helvetica,sans-Serif\" font-size=\"8.00\" text-anchor=\"middle\" x=\"185.5\" y=\"-56.6\">c</text>\n",
       "</g>\n",
       "<!-- c&#45;&gt;expr -->\n",
       "<g class=\"edge\" id=\"edge2\"><title>c-&gt;expr</title>\n",
       "<path d=\"M181.78,-51.5978C177.855,-45.259 171.182,-35.5745 163.5,-29 158.972,-25.1249 153.611,-21.6714 148.337,-18.7394\" fill=\"none\" stroke=\"#494744\"/>\n",
       "<polygon fill=\"#494744\" points=\"149.634,-15.4719 139.135,-14.0467 146.454,-21.7078 149.634,-15.4719\" stroke=\"#494744\"/>\n",
       "<text font-family=\"Helvetica,sans-Serif\" font-size=\"8.00\" text-anchor=\"middle\" x=\"220.332\" y=\"-30.6\">Input.AUTODEPENDENCY</text>\n",
       "</g>\n",
       "</g>\n",
       "</svg>"
      ],
      "text/plain": [
       "<IPython.core.display.SVG object>"
      ]
     },
     "metadata": {},
     "output_type": "display_data"
    }
   ],
   "source": [
    "graph.set_expression(\"expr\", \"out('a') if out('choice') else out('c')\", locals)\n",
    "graphcat.notebook.display(graph)\n",
    "print(\"Output:\", graph.output(\"expr\"))\n",
    "graphcat.notebook.display(graph)"
   ]
  }
 ],
 "metadata": {
  "kernelspec": {
   "display_name": "Python 3",
   "language": "python",
   "name": "python3"
  },
  "language_info": {
   "codemirror_mode": {
    "name": "ipython",
    "version": 3
   },
   "file_extension": ".py",
   "mimetype": "text/x-python",
   "name": "python",
   "nbconvert_exporter": "python",
   "pygments_lexer": "ipython3",
   "version": "3.7.7"
  }
 },
 "nbformat": 4,
 "nbformat_minor": 4
}
