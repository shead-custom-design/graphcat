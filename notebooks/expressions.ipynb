{
 "cells": [
  {
   "cell_type": "code",
   "execution_count": 1,
   "metadata": {},
   "outputs": [],
   "source": [
    "import logging\n",
    "\n",
    "import graphcat.notebook\n",
    "\n",
    "logging.basicConfig(level=logging.DEBUG)"
   ]
  },
  {
   "cell_type": "code",
   "execution_count": 2,
   "metadata": {},
   "outputs": [
    {
     "data": {
      "image/svg+xml": [
       "<svg height=\"118pt\" viewBox=\"0.00 0.00 43.12 118.00\" width=\"43pt\" xmlns=\"http://www.w3.org/2000/svg\" xmlns:xlink=\"http://www.w3.org/1999/xlink\">\n",
       "<g class=\"graph\" id=\"graph0\" transform=\"scale(1 1) rotate(0) translate(4 114)\">\n",
       "<title>%3</title>\n",
       "<polygon fill=\"white\" points=\"-4,4 -4,-114 39.125,-114 39.125,4 -4,4\" stroke=\"none\"/>\n",
       "<!-- A -->\n",
       "<g class=\"node\" id=\"node1\"><title>A</title>\n",
       "<polygon fill=\"white\" points=\"32.0625,-14 3.0625,-14 3.0625,-0 32.0625,-0 32.0625,-14\" stroke=\"#494744\"/>\n",
       "<text fill=\"#494744\" font-family=\"Helvetica,sans-Serif\" font-size=\"8.00\" text-anchor=\"middle\" x=\"17.5625\" y=\"-4.6\">A</text>\n",
       "</g>\n",
       "<!-- B -->\n",
       "<g class=\"node\" id=\"node2\"><title>B</title>\n",
       "<polygon fill=\"white\" points=\"32.0625,-46 3.0625,-46 3.0625,-32 32.0625,-32 32.0625,-46\" stroke=\"#494744\"/>\n",
       "<text fill=\"#494744\" font-family=\"Helvetica,sans-Serif\" font-size=\"8.00\" text-anchor=\"middle\" x=\"17.5625\" y=\"-36.6\">B</text>\n",
       "</g>\n",
       "<!-- choice -->\n",
       "<g class=\"node\" id=\"node3\"><title>choice</title>\n",
       "<polygon fill=\"white\" points=\"35.1877,-78 -0.0627232,-78 -0.0627232,-64 35.1877,-64 35.1877,-78\" stroke=\"#494744\"/>\n",
       "<text fill=\"#494744\" font-family=\"Helvetica,sans-Serif\" font-size=\"8.00\" text-anchor=\"middle\" x=\"17.5625\" y=\"-68.6\">choice</text>\n",
       "</g>\n",
       "<!-- expr -->\n",
       "<g class=\"node\" id=\"node4\"><title>expr</title>\n",
       "<polygon fill=\"white\" points=\"32.0625,-110 3.0625,-110 3.0625,-96 32.0625,-96 32.0625,-110\" stroke=\"#494744\"/>\n",
       "<text fill=\"#494744\" font-family=\"Helvetica,sans-Serif\" font-size=\"8.00\" text-anchor=\"middle\" x=\"17.5625\" y=\"-100.6\">expr</text>\n",
       "</g>\n",
       "</g>\n",
       "</svg>"
      ],
      "text/plain": [
       "<IPython.core.display.SVG object>"
      ]
     },
     "metadata": {},
     "output_type": "display_data"
    },
    {
     "name": "stdout",
     "output_type": "stream",
     "text": [
      "Output: 7\n"
     ]
    },
    {
     "data": {
      "image/svg+xml": [
       "<svg height=\"118pt\" viewBox=\"0.00 0.00 43.12 118.00\" width=\"43pt\" xmlns=\"http://www.w3.org/2000/svg\" xmlns:xlink=\"http://www.w3.org/1999/xlink\">\n",
       "<g class=\"graph\" id=\"graph0\" transform=\"scale(1 1) rotate(0) translate(4 114)\">\n",
       "<title>%3</title>\n",
       "<polygon fill=\"white\" points=\"-4,4 -4,-114 39.125,-114 39.125,4 -4,4\" stroke=\"none\"/>\n",
       "<!-- A -->\n",
       "<g class=\"node\" id=\"node1\"><title>A</title>\n",
       "<polygon fill=\"white\" points=\"32.0625,-14 3.0625,-14 3.0625,-0 32.0625,-0 32.0625,-14\" stroke=\"#494744\"/>\n",
       "<text fill=\"#494744\" font-family=\"Helvetica,sans-Serif\" font-size=\"8.00\" text-anchor=\"middle\" x=\"17.5625\" y=\"-4.6\">A</text>\n",
       "</g>\n",
       "<!-- B -->\n",
       "<g class=\"node\" id=\"node2\"><title>B</title>\n",
       "<polygon fill=\"white\" points=\"32.0625,-46 3.0625,-46 3.0625,-32 32.0625,-32 32.0625,-46\" stroke=\"#494744\"/>\n",
       "<text fill=\"#494744\" font-family=\"Helvetica,sans-Serif\" font-size=\"8.00\" text-anchor=\"middle\" x=\"17.5625\" y=\"-36.6\">B</text>\n",
       "</g>\n",
       "<!-- choice -->\n",
       "<g class=\"node\" id=\"node3\"><title>choice</title>\n",
       "<polygon fill=\"white\" points=\"35.1877,-78 -0.0627232,-78 -0.0627232,-64 35.1877,-64 35.1877,-78\" stroke=\"#494744\"/>\n",
       "<text fill=\"#494744\" font-family=\"Helvetica,sans-Serif\" font-size=\"8.00\" text-anchor=\"middle\" x=\"17.5625\" y=\"-68.6\">choice</text>\n",
       "</g>\n",
       "<!-- expr -->\n",
       "<g class=\"node\" id=\"node4\"><title>expr</title>\n",
       "<polygon fill=\"#494744\" points=\"32.0625,-110 3.0625,-110 3.0625,-96 32.0625,-96 32.0625,-110\" stroke=\"#494744\"/>\n",
       "<text fill=\"white\" font-family=\"Helvetica,sans-Serif\" font-size=\"8.00\" text-anchor=\"middle\" x=\"17.5625\" y=\"-100.6\">expr</text>\n",
       "</g>\n",
       "</g>\n",
       "</svg>"
      ],
      "text/plain": [
       "<IPython.core.display.SVG object>"
      ]
     },
     "metadata": {},
     "output_type": "display_data"
    }
   ],
   "source": [
    "graph = graphcat.StaticGraph()\n",
    "\n",
    "graph.set_task(\"A\", graphcat.constant(1))\n",
    "graph.set_task(\"B\", graphcat.constant(2))\n",
    "graph.set_task(\"choice\", graphcat.constant(True))\n",
    "graph.set_expression(\"expr\", \"3 + 4\")\n",
    "graphcat.notebook.display(graph)\n",
    "print(\"Output:\", graph.output(\"expr\"))\n",
    "graphcat.notebook.display(graph)"
   ]
  },
  {
   "cell_type": "code",
   "execution_count": 3,
   "metadata": {},
   "outputs": [],
   "source": [
    "def out(graph):\n",
    "    def implementation(label):\n",
    "        if label not in graph:\n",
    "            raise ValueError(f\"No task named {label!r}.\")\n",
    "        return graph.output(label)\n",
    "    return implementation\n",
    "\n",
    "locals = {\"out\": out(graph)}"
   ]
  },
  {
   "cell_type": "code",
   "execution_count": 4,
   "metadata": {},
   "outputs": [
    {
     "data": {
      "image/svg+xml": [
       "<svg height=\"118pt\" viewBox=\"0.00 0.00 43.12 118.00\" width=\"43pt\" xmlns=\"http://www.w3.org/2000/svg\" xmlns:xlink=\"http://www.w3.org/1999/xlink\">\n",
       "<g class=\"graph\" id=\"graph0\" transform=\"scale(1 1) rotate(0) translate(4 114)\">\n",
       "<title>%3</title>\n",
       "<polygon fill=\"white\" points=\"-4,4 -4,-114 39.125,-114 39.125,4 -4,4\" stroke=\"none\"/>\n",
       "<!-- A -->\n",
       "<g class=\"node\" id=\"node1\"><title>A</title>\n",
       "<polygon fill=\"white\" points=\"32.0625,-14 3.0625,-14 3.0625,-0 32.0625,-0 32.0625,-14\" stroke=\"#494744\"/>\n",
       "<text fill=\"#494744\" font-family=\"Helvetica,sans-Serif\" font-size=\"8.00\" text-anchor=\"middle\" x=\"17.5625\" y=\"-4.6\">A</text>\n",
       "</g>\n",
       "<!-- B -->\n",
       "<g class=\"node\" id=\"node2\"><title>B</title>\n",
       "<polygon fill=\"white\" points=\"32.0625,-46 3.0625,-46 3.0625,-32 32.0625,-32 32.0625,-46\" stroke=\"#494744\"/>\n",
       "<text fill=\"#494744\" font-family=\"Helvetica,sans-Serif\" font-size=\"8.00\" text-anchor=\"middle\" x=\"17.5625\" y=\"-36.6\">B</text>\n",
       "</g>\n",
       "<!-- choice -->\n",
       "<g class=\"node\" id=\"node3\"><title>choice</title>\n",
       "<polygon fill=\"white\" points=\"35.1877,-78 -0.0627232,-78 -0.0627232,-64 35.1877,-64 35.1877,-78\" stroke=\"#494744\"/>\n",
       "<text fill=\"#494744\" font-family=\"Helvetica,sans-Serif\" font-size=\"8.00\" text-anchor=\"middle\" x=\"17.5625\" y=\"-68.6\">choice</text>\n",
       "</g>\n",
       "<!-- expr -->\n",
       "<g class=\"node\" id=\"node4\"><title>expr</title>\n",
       "<polygon fill=\"white\" points=\"32.0625,-110 3.0625,-110 3.0625,-96 32.0625,-96 32.0625,-110\" stroke=\"#494744\"/>\n",
       "<text fill=\"#494744\" font-family=\"Helvetica,sans-Serif\" font-size=\"8.00\" text-anchor=\"middle\" x=\"17.5625\" y=\"-100.6\">expr</text>\n",
       "</g>\n",
       "</g>\n",
       "</svg>"
      ],
      "text/plain": [
       "<IPython.core.display.SVG object>"
      ]
     },
     "metadata": {},
     "output_type": "display_data"
    },
    {
     "name": "stdout",
     "output_type": "stream",
     "text": [
      "Output: 1\n"
     ]
    },
    {
     "data": {
      "image/svg+xml": [
       "<svg height=\"86pt\" viewBox=\"0.00 0.00 199.79 86.00\" width=\"200pt\" xmlns=\"http://www.w3.org/2000/svg\" xmlns:xlink=\"http://www.w3.org/1999/xlink\">\n",
       "<g class=\"graph\" id=\"graph0\" transform=\"scale(1 1) rotate(0) translate(4 82)\">\n",
       "<title>%3</title>\n",
       "<polygon fill=\"white\" points=\"-4,4 -4,-82 195.789,-82 195.789,4 -4,4\" stroke=\"none\"/>\n",
       "<!-- A -->\n",
       "<g class=\"node\" id=\"node1\"><title>A</title>\n",
       "<polygon fill=\"#494744\" points=\"32.0625,-46 3.0625,-46 3.0625,-32 32.0625,-32 32.0625,-46\" stroke=\"#494744\"/>\n",
       "<text fill=\"white\" font-family=\"Helvetica,sans-Serif\" font-size=\"8.00\" text-anchor=\"middle\" x=\"17.5625\" y=\"-36.6\">A</text>\n",
       "</g>\n",
       "<!-- expr -->\n",
       "<g class=\"node\" id=\"node2\"><title>expr</title>\n",
       "<polygon fill=\"#494744\" points=\"191.789,-30 162.789,-30 162.789,-16 191.789,-16 191.789,-30\" stroke=\"#494744\"/>\n",
       "<text fill=\"white\" font-family=\"Helvetica,sans-Serif\" font-size=\"8.00\" text-anchor=\"middle\" x=\"177.289\" y=\"-20.6\">expr</text>\n",
       "</g>\n",
       "<!-- A&#45;&gt;expr -->\n",
       "<g class=\"edge\" id=\"edge1\"><title>A-&gt;expr</title>\n",
       "<path d=\"M32.2838,-37.6081C59.0839,-34.8895 118.689,-28.843 152.206,-25.443\" fill=\"none\" stroke=\"#494744\"/>\n",
       "<polygon fill=\"#494744\" points=\"152.892,-28.8915 162.487,-24.4001 152.185,-21.9273 152.892,-28.8915\" stroke=\"#494744\"/>\n",
       "<text font-family=\"Helvetica,sans-Serif\" font-size=\"8.00\" text-anchor=\"middle\" x=\"98.957\" y=\"-36.6\">Input.AUTODEPENDENCY</text>\n",
       "</g>\n",
       "<!-- B -->\n",
       "<g class=\"node\" id=\"node3\"><title>B</title>\n",
       "<polygon fill=\"white\" points=\"32.0625,-78 3.0625,-78 3.0625,-64 32.0625,-64 32.0625,-78\" stroke=\"#494744\"/>\n",
       "<text fill=\"#494744\" font-family=\"Helvetica,sans-Serif\" font-size=\"8.00\" text-anchor=\"middle\" x=\"17.5625\" y=\"-68.6\">B</text>\n",
       "</g>\n",
       "<!-- choice -->\n",
       "<g class=\"node\" id=\"node4\"><title>choice</title>\n",
       "<polygon fill=\"#494744\" points=\"35.1877,-14 -0.0627232,-14 -0.0627232,-0 35.1877,-0 35.1877,-14\" stroke=\"#494744\"/>\n",
       "<text fill=\"white\" font-family=\"Helvetica,sans-Serif\" font-size=\"8.00\" text-anchor=\"middle\" x=\"17.5625\" y=\"-4.6\">choice</text>\n",
       "</g>\n",
       "<!-- choice&#45;&gt;expr -->\n",
       "<g class=\"edge\" id=\"edge2\"><title>choice-&gt;expr</title>\n",
       "<path d=\"M35.4477,-6.57016C60.2766,-6.24038 108,-6.75971 147.789,-14 149.474,-14.3065 151.198,-14.6836 152.923,-15.1079\" fill=\"none\" stroke=\"#494744\"/>\n",
       "<polygon fill=\"#494744\" points=\"151.971,-18.4761 162.55,-17.8927 153.916,-11.7517 151.971,-18.4761\" stroke=\"#494744\"/>\n",
       "<text font-family=\"Helvetica,sans-Serif\" font-size=\"8.00\" text-anchor=\"middle\" x=\"98.957\" y=\"-15.6\">Input.AUTODEPENDENCY</text>\n",
       "</g>\n",
       "</g>\n",
       "</svg>"
      ],
      "text/plain": [
       "<IPython.core.display.SVG object>"
      ]
     },
     "metadata": {},
     "output_type": "display_data"
    }
   ],
   "source": [
    "graph.set_expression(\"expr\", \"out('A') if out('choice') else out('B')\", locals)\n",
    "graphcat.notebook.display(graph)\n",
    "print(\"Output:\", graph.output(\"expr\"))\n",
    "graphcat.notebook.display(graph)"
   ]
  },
  {
   "cell_type": "code",
   "execution_count": 5,
   "metadata": {},
   "outputs": [
    {
     "data": {
      "image/svg+xml": [
       "<svg height=\"86pt\" viewBox=\"0.00 0.00 199.79 86.00\" width=\"200pt\" xmlns=\"http://www.w3.org/2000/svg\" xmlns:xlink=\"http://www.w3.org/1999/xlink\">\n",
       "<g class=\"graph\" id=\"graph0\" transform=\"scale(1 1) rotate(0) translate(4 82)\">\n",
       "<title>%3</title>\n",
       "<polygon fill=\"white\" points=\"-4,4 -4,-82 195.789,-82 195.789,4 -4,4\" stroke=\"none\"/>\n",
       "<!-- A -->\n",
       "<g class=\"node\" id=\"node1\"><title>A</title>\n",
       "<polygon fill=\"white\" points=\"32.0625,-46 3.0625,-46 3.0625,-32 32.0625,-32 32.0625,-46\" stroke=\"#494744\"/>\n",
       "<text fill=\"#494744\" font-family=\"Helvetica,sans-Serif\" font-size=\"8.00\" text-anchor=\"middle\" x=\"17.5625\" y=\"-36.6\">A</text>\n",
       "</g>\n",
       "<!-- expr -->\n",
       "<g class=\"node\" id=\"node2\"><title>expr</title>\n",
       "<polygon fill=\"white\" points=\"191.789,-30 162.789,-30 162.789,-16 191.789,-16 191.789,-30\" stroke=\"#494744\"/>\n",
       "<text fill=\"#494744\" font-family=\"Helvetica,sans-Serif\" font-size=\"8.00\" text-anchor=\"middle\" x=\"177.289\" y=\"-20.6\">expr</text>\n",
       "</g>\n",
       "<!-- A&#45;&gt;expr -->\n",
       "<g class=\"edge\" id=\"edge1\"><title>A-&gt;expr</title>\n",
       "<path d=\"M32.2838,-37.6081C59.0839,-34.8895 118.689,-28.843 152.206,-25.443\" fill=\"none\" stroke=\"#494744\"/>\n",
       "<polygon fill=\"#494744\" points=\"152.892,-28.8915 162.487,-24.4001 152.185,-21.9273 152.892,-28.8915\" stroke=\"#494744\"/>\n",
       "<text font-family=\"Helvetica,sans-Serif\" font-size=\"8.00\" text-anchor=\"middle\" x=\"98.957\" y=\"-36.6\">Input.AUTODEPENDENCY</text>\n",
       "</g>\n",
       "<!-- B -->\n",
       "<g class=\"node\" id=\"node3\"><title>B</title>\n",
       "<polygon fill=\"white\" points=\"32.0625,-78 3.0625,-78 3.0625,-64 32.0625,-64 32.0625,-78\" stroke=\"#494744\"/>\n",
       "<text fill=\"#494744\" font-family=\"Helvetica,sans-Serif\" font-size=\"8.00\" text-anchor=\"middle\" x=\"17.5625\" y=\"-68.6\">B</text>\n",
       "</g>\n",
       "<!-- choice -->\n",
       "<g class=\"node\" id=\"node4\"><title>choice</title>\n",
       "<polygon fill=\"#494744\" points=\"35.1877,-14 -0.0627232,-14 -0.0627232,-0 35.1877,-0 35.1877,-14\" stroke=\"#494744\"/>\n",
       "<text fill=\"white\" font-family=\"Helvetica,sans-Serif\" font-size=\"8.00\" text-anchor=\"middle\" x=\"17.5625\" y=\"-4.6\">choice</text>\n",
       "</g>\n",
       "<!-- choice&#45;&gt;expr -->\n",
       "<g class=\"edge\" id=\"edge2\"><title>choice-&gt;expr</title>\n",
       "<path d=\"M35.4477,-6.57016C60.2766,-6.24038 108,-6.75971 147.789,-14 149.474,-14.3065 151.198,-14.6836 152.923,-15.1079\" fill=\"none\" stroke=\"#494744\"/>\n",
       "<polygon fill=\"#494744\" points=\"151.971,-18.4761 162.55,-17.8927 153.916,-11.7517 151.971,-18.4761\" stroke=\"#494744\"/>\n",
       "<text font-family=\"Helvetica,sans-Serif\" font-size=\"8.00\" text-anchor=\"middle\" x=\"98.957\" y=\"-15.6\">Input.AUTODEPENDENCY</text>\n",
       "</g>\n",
       "</g>\n",
       "</svg>"
      ],
      "text/plain": [
       "<IPython.core.display.SVG object>"
      ]
     },
     "metadata": {},
     "output_type": "display_data"
    },
    {
     "name": "stdout",
     "output_type": "stream",
     "text": [
      "Output: 3\n"
     ]
    },
    {
     "data": {
      "image/svg+xml": [
       "<svg height=\"86pt\" viewBox=\"0.00 0.00 199.79 86.00\" width=\"200pt\" xmlns=\"http://www.w3.org/2000/svg\" xmlns:xlink=\"http://www.w3.org/1999/xlink\">\n",
       "<g class=\"graph\" id=\"graph0\" transform=\"scale(1 1) rotate(0) translate(4 82)\">\n",
       "<title>%3</title>\n",
       "<polygon fill=\"white\" points=\"-4,4 -4,-82 195.789,-82 195.789,4 -4,4\" stroke=\"none\"/>\n",
       "<!-- A -->\n",
       "<g class=\"node\" id=\"node1\"><title>A</title>\n",
       "<polygon fill=\"#494744\" points=\"32.0625,-46 3.0625,-46 3.0625,-32 32.0625,-32 32.0625,-46\" stroke=\"#494744\"/>\n",
       "<text fill=\"white\" font-family=\"Helvetica,sans-Serif\" font-size=\"8.00\" text-anchor=\"middle\" x=\"17.5625\" y=\"-36.6\">A</text>\n",
       "</g>\n",
       "<!-- expr -->\n",
       "<g class=\"node\" id=\"node2\"><title>expr</title>\n",
       "<polygon fill=\"#494744\" points=\"191.789,-30 162.789,-30 162.789,-16 191.789,-16 191.789,-30\" stroke=\"#494744\"/>\n",
       "<text fill=\"white\" font-family=\"Helvetica,sans-Serif\" font-size=\"8.00\" text-anchor=\"middle\" x=\"177.289\" y=\"-20.6\">expr</text>\n",
       "</g>\n",
       "<!-- A&#45;&gt;expr -->\n",
       "<g class=\"edge\" id=\"edge1\"><title>A-&gt;expr</title>\n",
       "<path d=\"M32.2838,-37.6081C59.0839,-34.8895 118.689,-28.843 152.206,-25.443\" fill=\"none\" stroke=\"#494744\"/>\n",
       "<polygon fill=\"#494744\" points=\"152.892,-28.8915 162.487,-24.4001 152.185,-21.9273 152.892,-28.8915\" stroke=\"#494744\"/>\n",
       "<text font-family=\"Helvetica,sans-Serif\" font-size=\"8.00\" text-anchor=\"middle\" x=\"98.957\" y=\"-36.6\">Input.AUTODEPENDENCY</text>\n",
       "</g>\n",
       "<!-- B -->\n",
       "<g class=\"node\" id=\"node3\"><title>B</title>\n",
       "<polygon fill=\"white\" points=\"32.0625,-78 3.0625,-78 3.0625,-64 32.0625,-64 32.0625,-78\" stroke=\"#494744\"/>\n",
       "<text fill=\"#494744\" font-family=\"Helvetica,sans-Serif\" font-size=\"8.00\" text-anchor=\"middle\" x=\"17.5625\" y=\"-68.6\">B</text>\n",
       "</g>\n",
       "<!-- choice -->\n",
       "<g class=\"node\" id=\"node4\"><title>choice</title>\n",
       "<polygon fill=\"#494744\" points=\"35.1877,-14 -0.0627232,-14 -0.0627232,-0 35.1877,-0 35.1877,-14\" stroke=\"#494744\"/>\n",
       "<text fill=\"white\" font-family=\"Helvetica,sans-Serif\" font-size=\"8.00\" text-anchor=\"middle\" x=\"17.5625\" y=\"-4.6\">choice</text>\n",
       "</g>\n",
       "<!-- choice&#45;&gt;expr -->\n",
       "<g class=\"edge\" id=\"edge2\"><title>choice-&gt;expr</title>\n",
       "<path d=\"M35.4477,-6.57016C60.2766,-6.24038 108,-6.75971 147.789,-14 149.474,-14.3065 151.198,-14.6836 152.923,-15.1079\" fill=\"none\" stroke=\"#494744\"/>\n",
       "<polygon fill=\"#494744\" points=\"151.971,-18.4761 162.55,-17.8927 153.916,-11.7517 151.971,-18.4761\" stroke=\"#494744\"/>\n",
       "<text font-family=\"Helvetica,sans-Serif\" font-size=\"8.00\" text-anchor=\"middle\" x=\"98.957\" y=\"-15.6\">Input.AUTODEPENDENCY</text>\n",
       "</g>\n",
       "</g>\n",
       "</svg>"
      ],
      "text/plain": [
       "<IPython.core.display.SVG object>"
      ]
     },
     "metadata": {},
     "output_type": "display_data"
    }
   ],
   "source": [
    "graph.set_task(\"A\", graphcat.constant(3))\n",
    "graphcat.notebook.display(graph)\n",
    "print(\"Output:\", graph.output(\"expr\"))\n",
    "graphcat.notebook.display(graph)"
   ]
  },
  {
   "cell_type": "code",
   "execution_count": 6,
   "metadata": {},
   "outputs": [
    {
     "data": {
      "image/svg+xml": [
       "<svg height=\"86pt\" viewBox=\"0.00 0.00 199.79 86.00\" width=\"200pt\" xmlns=\"http://www.w3.org/2000/svg\" xmlns:xlink=\"http://www.w3.org/1999/xlink\">\n",
       "<g class=\"graph\" id=\"graph0\" transform=\"scale(1 1) rotate(0) translate(4 82)\">\n",
       "<title>%3</title>\n",
       "<polygon fill=\"white\" points=\"-4,4 -4,-82 195.789,-82 195.789,4 -4,4\" stroke=\"none\"/>\n",
       "<!-- A -->\n",
       "<g class=\"node\" id=\"node1\"><title>A</title>\n",
       "<polygon fill=\"#494744\" points=\"32.0625,-46 3.0625,-46 3.0625,-32 32.0625,-32 32.0625,-46\" stroke=\"#494744\"/>\n",
       "<text fill=\"white\" font-family=\"Helvetica,sans-Serif\" font-size=\"8.00\" text-anchor=\"middle\" x=\"17.5625\" y=\"-36.6\">A</text>\n",
       "</g>\n",
       "<!-- expr -->\n",
       "<g class=\"node\" id=\"node2\"><title>expr</title>\n",
       "<polygon fill=\"white\" points=\"191.789,-30 162.789,-30 162.789,-16 191.789,-16 191.789,-30\" stroke=\"#494744\"/>\n",
       "<text fill=\"#494744\" font-family=\"Helvetica,sans-Serif\" font-size=\"8.00\" text-anchor=\"middle\" x=\"177.289\" y=\"-20.6\">expr</text>\n",
       "</g>\n",
       "<!-- A&#45;&gt;expr -->\n",
       "<g class=\"edge\" id=\"edge1\"><title>A-&gt;expr</title>\n",
       "<path d=\"M32.2838,-37.6081C59.0839,-34.8895 118.689,-28.843 152.206,-25.443\" fill=\"none\" stroke=\"#494744\"/>\n",
       "<polygon fill=\"#494744\" points=\"152.892,-28.8915 162.487,-24.4001 152.185,-21.9273 152.892,-28.8915\" stroke=\"#494744\"/>\n",
       "<text font-family=\"Helvetica,sans-Serif\" font-size=\"8.00\" text-anchor=\"middle\" x=\"98.957\" y=\"-36.6\">Input.AUTODEPENDENCY</text>\n",
       "</g>\n",
       "<!-- B -->\n",
       "<g class=\"node\" id=\"node3\"><title>B</title>\n",
       "<polygon fill=\"white\" points=\"32.0625,-78 3.0625,-78 3.0625,-64 32.0625,-64 32.0625,-78\" stroke=\"#494744\"/>\n",
       "<text fill=\"#494744\" font-family=\"Helvetica,sans-Serif\" font-size=\"8.00\" text-anchor=\"middle\" x=\"17.5625\" y=\"-68.6\">B</text>\n",
       "</g>\n",
       "<!-- choice -->\n",
       "<g class=\"node\" id=\"node4\"><title>choice</title>\n",
       "<polygon fill=\"white\" points=\"35.1877,-14 -0.0627232,-14 -0.0627232,-0 35.1877,-0 35.1877,-14\" stroke=\"#494744\"/>\n",
       "<text fill=\"#494744\" font-family=\"Helvetica,sans-Serif\" font-size=\"8.00\" text-anchor=\"middle\" x=\"17.5625\" y=\"-4.6\">choice</text>\n",
       "</g>\n",
       "<!-- choice&#45;&gt;expr -->\n",
       "<g class=\"edge\" id=\"edge2\"><title>choice-&gt;expr</title>\n",
       "<path d=\"M35.4477,-6.57016C60.2766,-6.24038 108,-6.75971 147.789,-14 149.474,-14.3065 151.198,-14.6836 152.923,-15.1079\" fill=\"none\" stroke=\"#494744\"/>\n",
       "<polygon fill=\"#494744\" points=\"151.971,-18.4761 162.55,-17.8927 153.916,-11.7517 151.971,-18.4761\" stroke=\"#494744\"/>\n",
       "<text font-family=\"Helvetica,sans-Serif\" font-size=\"8.00\" text-anchor=\"middle\" x=\"98.957\" y=\"-15.6\">Input.AUTODEPENDENCY</text>\n",
       "</g>\n",
       "</g>\n",
       "</svg>"
      ],
      "text/plain": [
       "<IPython.core.display.SVG object>"
      ]
     },
     "metadata": {},
     "output_type": "display_data"
    },
    {
     "name": "stdout",
     "output_type": "stream",
     "text": [
      "Output: 2\n"
     ]
    },
    {
     "data": {
      "image/svg+xml": [
       "<svg height=\"86pt\" viewBox=\"0.00 0.00 199.79 86.00\" width=\"200pt\" xmlns=\"http://www.w3.org/2000/svg\" xmlns:xlink=\"http://www.w3.org/1999/xlink\">\n",
       "<g class=\"graph\" id=\"graph0\" transform=\"scale(1 1) rotate(0) translate(4 82)\">\n",
       "<title>%3</title>\n",
       "<polygon fill=\"white\" points=\"-4,4 -4,-82 195.789,-82 195.789,4 -4,4\" stroke=\"none\"/>\n",
       "<!-- A -->\n",
       "<g class=\"node\" id=\"node1\"><title>A</title>\n",
       "<polygon fill=\"#494744\" points=\"32.0625,-14 3.0625,-14 3.0625,-0 32.0625,-0 32.0625,-14\" stroke=\"#494744\"/>\n",
       "<text fill=\"white\" font-family=\"Helvetica,sans-Serif\" font-size=\"8.00\" text-anchor=\"middle\" x=\"17.5625\" y=\"-4.6\">A</text>\n",
       "</g>\n",
       "<!-- B -->\n",
       "<g class=\"node\" id=\"node2\"><title>B</title>\n",
       "<polygon fill=\"#494744\" points=\"32.0625,-78 3.0625,-78 3.0625,-64 32.0625,-64 32.0625,-78\" stroke=\"#494744\"/>\n",
       "<text fill=\"white\" font-family=\"Helvetica,sans-Serif\" font-size=\"8.00\" text-anchor=\"middle\" x=\"17.5625\" y=\"-68.6\">B</text>\n",
       "</g>\n",
       "<!-- expr -->\n",
       "<g class=\"node\" id=\"node3\"><title>expr</title>\n",
       "<polygon fill=\"#494744\" points=\"191.789,-62 162.789,-62 162.789,-48 191.789,-48 191.789,-62\" stroke=\"#494744\"/>\n",
       "<text fill=\"white\" font-family=\"Helvetica,sans-Serif\" font-size=\"8.00\" text-anchor=\"middle\" x=\"177.289\" y=\"-52.6\">expr</text>\n",
       "</g>\n",
       "<!-- B&#45;&gt;expr -->\n",
       "<g class=\"edge\" id=\"edge1\"><title>B-&gt;expr</title>\n",
       "<path d=\"M32.2838,-69.6081C59.0839,-66.8895 118.689,-60.843 152.206,-57.443\" fill=\"none\" stroke=\"#494744\"/>\n",
       "<polygon fill=\"#494744\" points=\"152.892,-60.8915 162.487,-56.4001 152.185,-53.9273 152.892,-60.8915\" stroke=\"#494744\"/>\n",
       "<text font-family=\"Helvetica,sans-Serif\" font-size=\"8.00\" text-anchor=\"middle\" x=\"98.957\" y=\"-68.6\">Input.AUTODEPENDENCY</text>\n",
       "</g>\n",
       "<!-- choice -->\n",
       "<g class=\"node\" id=\"node4\"><title>choice</title>\n",
       "<polygon fill=\"#494744\" points=\"35.1877,-46 -0.0627232,-46 -0.0627232,-32 35.1877,-32 35.1877,-46\" stroke=\"#494744\"/>\n",
       "<text fill=\"white\" font-family=\"Helvetica,sans-Serif\" font-size=\"8.00\" text-anchor=\"middle\" x=\"17.5625\" y=\"-36.6\">choice</text>\n",
       "</g>\n",
       "<!-- choice&#45;&gt;expr -->\n",
       "<g class=\"edge\" id=\"edge2\"><title>choice-&gt;expr</title>\n",
       "<path d=\"M35.4477,-38.5702C60.2766,-38.2404 108,-38.7597 147.789,-46 149.474,-46.3065 151.198,-46.6836 152.923,-47.1079\" fill=\"none\" stroke=\"#494744\"/>\n",
       "<polygon fill=\"#494744\" points=\"151.971,-50.4761 162.55,-49.8927 153.916,-43.7517 151.971,-50.4761\" stroke=\"#494744\"/>\n",
       "<text font-family=\"Helvetica,sans-Serif\" font-size=\"8.00\" text-anchor=\"middle\" x=\"98.957\" y=\"-47.6\">Input.AUTODEPENDENCY</text>\n",
       "</g>\n",
       "</g>\n",
       "</svg>"
      ],
      "text/plain": [
       "<IPython.core.display.SVG object>"
      ]
     },
     "metadata": {},
     "output_type": "display_data"
    }
   ],
   "source": [
    "graph.set_task(\"choice\", graphcat.constant(False))\n",
    "graphcat.notebook.display(graph)\n",
    "print(\"Output:\", graph.output(\"expr\"))\n",
    "graphcat.notebook.display(graph)"
   ]
  },
  {
   "cell_type": "code",
   "execution_count": 7,
   "metadata": {},
   "outputs": [
    {
     "data": {
      "image/svg+xml": [
       "<svg height=\"86pt\" viewBox=\"0.00 0.00 199.79 86.00\" width=\"200pt\" xmlns=\"http://www.w3.org/2000/svg\" xmlns:xlink=\"http://www.w3.org/1999/xlink\">\n",
       "<g class=\"graph\" id=\"graph0\" transform=\"scale(1 1) rotate(0) translate(4 82)\">\n",
       "<title>%3</title>\n",
       "<polygon fill=\"white\" points=\"-4,4 -4,-82 195.789,-82 195.789,4 -4,4\" stroke=\"none\"/>\n",
       "<!-- A -->\n",
       "<g class=\"node\" id=\"node1\"><title>A</title>\n",
       "<polygon fill=\"#494744\" points=\"32.0625,-14 3.0625,-14 3.0625,-0 32.0625,-0 32.0625,-14\" stroke=\"#494744\"/>\n",
       "<text fill=\"white\" font-family=\"Helvetica,sans-Serif\" font-size=\"8.00\" text-anchor=\"middle\" x=\"17.5625\" y=\"-4.6\">A</text>\n",
       "</g>\n",
       "<!-- B -->\n",
       "<g class=\"node\" id=\"node2\"><title>B</title>\n",
       "<polygon fill=\"white\" points=\"32.0625,-78 3.0625,-78 3.0625,-64 32.0625,-64 32.0625,-78\" stroke=\"#494744\"/>\n",
       "<text fill=\"#494744\" font-family=\"Helvetica,sans-Serif\" font-size=\"8.00\" text-anchor=\"middle\" x=\"17.5625\" y=\"-68.6\">B</text>\n",
       "</g>\n",
       "<!-- expr -->\n",
       "<g class=\"node\" id=\"node3\"><title>expr</title>\n",
       "<polygon fill=\"white\" points=\"191.789,-62 162.789,-62 162.789,-48 191.789,-48 191.789,-62\" stroke=\"#494744\"/>\n",
       "<text fill=\"#494744\" font-family=\"Helvetica,sans-Serif\" font-size=\"8.00\" text-anchor=\"middle\" x=\"177.289\" y=\"-52.6\">expr</text>\n",
       "</g>\n",
       "<!-- B&#45;&gt;expr -->\n",
       "<g class=\"edge\" id=\"edge1\"><title>B-&gt;expr</title>\n",
       "<path d=\"M32.2838,-69.6081C59.0839,-66.8895 118.689,-60.843 152.206,-57.443\" fill=\"none\" stroke=\"#494744\"/>\n",
       "<polygon fill=\"#494744\" points=\"152.892,-60.8915 162.487,-56.4001 152.185,-53.9273 152.892,-60.8915\" stroke=\"#494744\"/>\n",
       "<text font-family=\"Helvetica,sans-Serif\" font-size=\"8.00\" text-anchor=\"middle\" x=\"98.957\" y=\"-68.6\">Input.AUTODEPENDENCY</text>\n",
       "</g>\n",
       "<!-- choice -->\n",
       "<g class=\"node\" id=\"node4\"><title>choice</title>\n",
       "<polygon fill=\"#494744\" points=\"35.1877,-46 -0.0627232,-46 -0.0627232,-32 35.1877,-32 35.1877,-46\" stroke=\"#494744\"/>\n",
       "<text fill=\"white\" font-family=\"Helvetica,sans-Serif\" font-size=\"8.00\" text-anchor=\"middle\" x=\"17.5625\" y=\"-36.6\">choice</text>\n",
       "</g>\n",
       "<!-- choice&#45;&gt;expr -->\n",
       "<g class=\"edge\" id=\"edge2\"><title>choice-&gt;expr</title>\n",
       "<path d=\"M35.4477,-38.5702C60.2766,-38.2404 108,-38.7597 147.789,-46 149.474,-46.3065 151.198,-46.6836 152.923,-47.1079\" fill=\"none\" stroke=\"#494744\"/>\n",
       "<polygon fill=\"#494744\" points=\"151.971,-50.4761 162.55,-49.8927 153.916,-43.7517 151.971,-50.4761\" stroke=\"#494744\"/>\n",
       "<text font-family=\"Helvetica,sans-Serif\" font-size=\"8.00\" text-anchor=\"middle\" x=\"98.957\" y=\"-47.6\">Input.AUTODEPENDENCY</text>\n",
       "</g>\n",
       "</g>\n",
       "</svg>"
      ],
      "text/plain": [
       "<IPython.core.display.SVG object>"
      ]
     },
     "metadata": {},
     "output_type": "display_data"
    },
    {
     "name": "stdout",
     "output_type": "stream",
     "text": [
      "Output: 4\n"
     ]
    },
    {
     "data": {
      "image/svg+xml": [
       "<svg height=\"86pt\" viewBox=\"0.00 0.00 199.79 86.00\" width=\"200pt\" xmlns=\"http://www.w3.org/2000/svg\" xmlns:xlink=\"http://www.w3.org/1999/xlink\">\n",
       "<g class=\"graph\" id=\"graph0\" transform=\"scale(1 1) rotate(0) translate(4 82)\">\n",
       "<title>%3</title>\n",
       "<polygon fill=\"white\" points=\"-4,4 -4,-82 195.789,-82 195.789,4 -4,4\" stroke=\"none\"/>\n",
       "<!-- A -->\n",
       "<g class=\"node\" id=\"node1\"><title>A</title>\n",
       "<polygon fill=\"#494744\" points=\"32.0625,-14 3.0625,-14 3.0625,-0 32.0625,-0 32.0625,-14\" stroke=\"#494744\"/>\n",
       "<text fill=\"white\" font-family=\"Helvetica,sans-Serif\" font-size=\"8.00\" text-anchor=\"middle\" x=\"17.5625\" y=\"-4.6\">A</text>\n",
       "</g>\n",
       "<!-- B -->\n",
       "<g class=\"node\" id=\"node2\"><title>B</title>\n",
       "<polygon fill=\"#494744\" points=\"32.0625,-78 3.0625,-78 3.0625,-64 32.0625,-64 32.0625,-78\" stroke=\"#494744\"/>\n",
       "<text fill=\"white\" font-family=\"Helvetica,sans-Serif\" font-size=\"8.00\" text-anchor=\"middle\" x=\"17.5625\" y=\"-68.6\">B</text>\n",
       "</g>\n",
       "<!-- expr -->\n",
       "<g class=\"node\" id=\"node3\"><title>expr</title>\n",
       "<polygon fill=\"#494744\" points=\"191.789,-62 162.789,-62 162.789,-48 191.789,-48 191.789,-62\" stroke=\"#494744\"/>\n",
       "<text fill=\"white\" font-family=\"Helvetica,sans-Serif\" font-size=\"8.00\" text-anchor=\"middle\" x=\"177.289\" y=\"-52.6\">expr</text>\n",
       "</g>\n",
       "<!-- B&#45;&gt;expr -->\n",
       "<g class=\"edge\" id=\"edge1\"><title>B-&gt;expr</title>\n",
       "<path d=\"M32.2838,-69.6081C59.0839,-66.8895 118.689,-60.843 152.206,-57.443\" fill=\"none\" stroke=\"#494744\"/>\n",
       "<polygon fill=\"#494744\" points=\"152.892,-60.8915 162.487,-56.4001 152.185,-53.9273 152.892,-60.8915\" stroke=\"#494744\"/>\n",
       "<text font-family=\"Helvetica,sans-Serif\" font-size=\"8.00\" text-anchor=\"middle\" x=\"98.957\" y=\"-68.6\">Input.AUTODEPENDENCY</text>\n",
       "</g>\n",
       "<!-- choice -->\n",
       "<g class=\"node\" id=\"node4\"><title>choice</title>\n",
       "<polygon fill=\"#494744\" points=\"35.1877,-46 -0.0627232,-46 -0.0627232,-32 35.1877,-32 35.1877,-46\" stroke=\"#494744\"/>\n",
       "<text fill=\"white\" font-family=\"Helvetica,sans-Serif\" font-size=\"8.00\" text-anchor=\"middle\" x=\"17.5625\" y=\"-36.6\">choice</text>\n",
       "</g>\n",
       "<!-- choice&#45;&gt;expr -->\n",
       "<g class=\"edge\" id=\"edge2\"><title>choice-&gt;expr</title>\n",
       "<path d=\"M35.4477,-38.5702C60.2766,-38.2404 108,-38.7597 147.789,-46 149.474,-46.3065 151.198,-46.6836 152.923,-47.1079\" fill=\"none\" stroke=\"#494744\"/>\n",
       "<polygon fill=\"#494744\" points=\"151.971,-50.4761 162.55,-49.8927 153.916,-43.7517 151.971,-50.4761\" stroke=\"#494744\"/>\n",
       "<text font-family=\"Helvetica,sans-Serif\" font-size=\"8.00\" text-anchor=\"middle\" x=\"98.957\" y=\"-47.6\">Input.AUTODEPENDENCY</text>\n",
       "</g>\n",
       "</g>\n",
       "</svg>"
      ],
      "text/plain": [
       "<IPython.core.display.SVG object>"
      ]
     },
     "metadata": {},
     "output_type": "display_data"
    }
   ],
   "source": [
    "graph.set_task(\"B\", graphcat.constant(4))\n",
    "graphcat.notebook.display(graph)\n",
    "print(\"Output:\", graph.output(\"expr\"))\n",
    "graphcat.notebook.display(graph)"
   ]
  },
  {
   "cell_type": "code",
   "execution_count": 8,
   "metadata": {},
   "outputs": [
    {
     "data": {
      "image/svg+xml": [
       "<svg height=\"86pt\" viewBox=\"0.00 0.00 199.79 86.00\" width=\"200pt\" xmlns=\"http://www.w3.org/2000/svg\" xmlns:xlink=\"http://www.w3.org/1999/xlink\">\n",
       "<g class=\"graph\" id=\"graph0\" transform=\"scale(1 1) rotate(0) translate(4 82)\">\n",
       "<title>%3</title>\n",
       "<polygon fill=\"white\" points=\"-4,4 -4,-82 195.789,-82 195.789,4 -4,4\" stroke=\"none\"/>\n",
       "<!-- A -->\n",
       "<g class=\"node\" id=\"node1\"><title>A</title>\n",
       "<polygon fill=\"#494744\" points=\"32.0625,-14 3.0625,-14 3.0625,-0 32.0625,-0 32.0625,-14\" stroke=\"#494744\"/>\n",
       "<text fill=\"white\" font-family=\"Helvetica,sans-Serif\" font-size=\"8.00\" text-anchor=\"middle\" x=\"17.5625\" y=\"-4.6\">A</text>\n",
       "</g>\n",
       "<!-- choice -->\n",
       "<g class=\"node\" id=\"node2\"><title>choice</title>\n",
       "<polygon fill=\"#494744\" points=\"35.1877,-78 -0.0627232,-78 -0.0627232,-64 35.1877,-64 35.1877,-78\" stroke=\"#494744\"/>\n",
       "<text fill=\"white\" font-family=\"Helvetica,sans-Serif\" font-size=\"8.00\" text-anchor=\"middle\" x=\"17.5625\" y=\"-68.6\">choice</text>\n",
       "</g>\n",
       "<!-- expr -->\n",
       "<g class=\"node\" id=\"node3\"><title>expr</title>\n",
       "<polygon fill=\"white\" points=\"191.789,-62 162.789,-62 162.789,-48 191.789,-48 191.789,-62\" stroke=\"#494744\"/>\n",
       "<text fill=\"#494744\" font-family=\"Helvetica,sans-Serif\" font-size=\"8.00\" text-anchor=\"middle\" x=\"177.289\" y=\"-52.6\">expr</text>\n",
       "</g>\n",
       "<!-- choice&#45;&gt;expr -->\n",
       "<g class=\"edge\" id=\"edge1\"><title>choice-&gt;expr</title>\n",
       "<path d=\"M35.1439,-69.318C63.1614,-66.4758 119.973,-60.7128 152.324,-57.431\" fill=\"none\" stroke=\"#494744\"/>\n",
       "<polygon fill=\"#494744\" points=\"153.064,-60.874 162.66,-56.3826 152.358,-53.9097 153.064,-60.874\" stroke=\"#494744\"/>\n",
       "<text font-family=\"Helvetica,sans-Serif\" font-size=\"8.00\" text-anchor=\"middle\" x=\"98.957\" y=\"-68.6\">Input.AUTODEPENDENCY</text>\n",
       "</g>\n",
       "<!-- C -->\n",
       "<g class=\"node\" id=\"node4\"><title>C</title>\n",
       "<polygon fill=\"white\" points=\"32.0625,-46 3.0625,-46 3.0625,-32 32.0625,-32 32.0625,-46\" stroke=\"#494744\"/>\n",
       "<text fill=\"#494744\" font-family=\"Helvetica,sans-Serif\" font-size=\"8.00\" text-anchor=\"middle\" x=\"17.5625\" y=\"-36.6\">C</text>\n",
       "</g>\n",
       "<!-- C&#45;&gt;expr -->\n",
       "<g class=\"edge\" id=\"edge2\"><title>C-&gt;expr</title>\n",
       "<path d=\"M32.2756,-38.6186C56.0189,-38.2075 106.232,-38.4379 147.789,-46 149.474,-46.3065 151.198,-46.6836 152.923,-47.1079\" fill=\"none\" stroke=\"#494744\"/>\n",
       "<polygon fill=\"#494744\" points=\"151.971,-50.4761 162.55,-49.8927 153.916,-43.7517 151.971,-50.4761\" stroke=\"#494744\"/>\n",
       "<text font-family=\"Helvetica,sans-Serif\" font-size=\"8.00\" text-anchor=\"middle\" x=\"98.957\" y=\"-47.6\">Input.AUTODEPENDENCY</text>\n",
       "</g>\n",
       "</g>\n",
       "</svg>"
      ],
      "text/plain": [
       "<IPython.core.display.SVG object>"
      ]
     },
     "metadata": {},
     "output_type": "display_data"
    }
   ],
   "source": [
    "graph.rename_task(\"B\", \"C\")\n",
    "graphcat.notebook.display(graph)\n"
   ]
  },
  {
   "cell_type": "code",
   "execution_count": 9,
   "metadata": {},
   "outputs": [
    {
     "data": {
      "image/svg+xml": [
       "<svg height=\"86pt\" viewBox=\"0.00 0.00 199.79 86.00\" width=\"200pt\" xmlns=\"http://www.w3.org/2000/svg\" xmlns:xlink=\"http://www.w3.org/1999/xlink\">\n",
       "<g class=\"graph\" id=\"graph0\" transform=\"scale(1 1) rotate(0) translate(4 82)\">\n",
       "<title>%3</title>\n",
       "<polygon fill=\"white\" points=\"-4,4 -4,-82 195.789,-82 195.789,4 -4,4\" stroke=\"none\"/>\n",
       "<!-- A -->\n",
       "<g class=\"node\" id=\"node1\"><title>A</title>\n",
       "<polygon fill=\"#494744\" points=\"32.0625,-14 3.0625,-14 3.0625,-0 32.0625,-0 32.0625,-14\" stroke=\"#494744\"/>\n",
       "<text fill=\"white\" font-family=\"Helvetica,sans-Serif\" font-size=\"8.00\" text-anchor=\"middle\" x=\"17.5625\" y=\"-4.6\">A</text>\n",
       "</g>\n",
       "<!-- choice -->\n",
       "<g class=\"node\" id=\"node2\"><title>choice</title>\n",
       "<polygon fill=\"#494744\" points=\"35.1877,-78 -0.0627232,-78 -0.0627232,-64 35.1877,-64 35.1877,-78\" stroke=\"#494744\"/>\n",
       "<text fill=\"white\" font-family=\"Helvetica,sans-Serif\" font-size=\"8.00\" text-anchor=\"middle\" x=\"17.5625\" y=\"-68.6\">choice</text>\n",
       "</g>\n",
       "<!-- expr -->\n",
       "<g class=\"node\" id=\"node3\"><title>expr</title>\n",
       "<polygon fill=\"white\" points=\"191.789,-62 162.789,-62 162.789,-48 191.789,-48 191.789,-62\" stroke=\"#494744\"/>\n",
       "<text fill=\"#494744\" font-family=\"Helvetica,sans-Serif\" font-size=\"8.00\" text-anchor=\"middle\" x=\"177.289\" y=\"-52.6\">expr</text>\n",
       "</g>\n",
       "<!-- choice&#45;&gt;expr -->\n",
       "<g class=\"edge\" id=\"edge1\"><title>choice-&gt;expr</title>\n",
       "<path d=\"M35.1439,-69.318C63.1614,-66.4758 119.973,-60.7128 152.324,-57.431\" fill=\"none\" stroke=\"#494744\"/>\n",
       "<polygon fill=\"#494744\" points=\"153.064,-60.874 162.66,-56.3826 152.358,-53.9097 153.064,-60.874\" stroke=\"#494744\"/>\n",
       "<text font-family=\"Helvetica,sans-Serif\" font-size=\"8.00\" text-anchor=\"middle\" x=\"98.957\" y=\"-68.6\">Input.AUTODEPENDENCY</text>\n",
       "</g>\n",
       "<!-- C -->\n",
       "<g class=\"node\" id=\"node4\"><title>C</title>\n",
       "<polygon fill=\"white\" points=\"32.0625,-46 3.0625,-46 3.0625,-32 32.0625,-32 32.0625,-46\" stroke=\"#494744\"/>\n",
       "<text fill=\"#494744\" font-family=\"Helvetica,sans-Serif\" font-size=\"8.00\" text-anchor=\"middle\" x=\"17.5625\" y=\"-36.6\">C</text>\n",
       "</g>\n",
       "<!-- C&#45;&gt;expr -->\n",
       "<g class=\"edge\" id=\"edge2\"><title>C-&gt;expr</title>\n",
       "<path d=\"M32.2756,-38.6186C56.0189,-38.2075 106.232,-38.4379 147.789,-46 149.474,-46.3065 151.198,-46.6836 152.923,-47.1079\" fill=\"none\" stroke=\"#494744\"/>\n",
       "<polygon fill=\"#494744\" points=\"151.971,-50.4761 162.55,-49.8927 153.916,-43.7517 151.971,-50.4761\" stroke=\"#494744\"/>\n",
       "<text font-family=\"Helvetica,sans-Serif\" font-size=\"8.00\" text-anchor=\"middle\" x=\"98.957\" y=\"-47.6\">Input.AUTODEPENDENCY</text>\n",
       "</g>\n",
       "</g>\n",
       "</svg>"
      ],
      "text/plain": [
       "<IPython.core.display.SVG object>"
      ]
     },
     "metadata": {},
     "output_type": "display_data"
    },
    {
     "name": "stdout",
     "output_type": "stream",
     "text": [
      "Output: 4\n"
     ]
    },
    {
     "data": {
      "image/svg+xml": [
       "<svg height=\"86pt\" viewBox=\"0.00 0.00 199.79 86.00\" width=\"200pt\" xmlns=\"http://www.w3.org/2000/svg\" xmlns:xlink=\"http://www.w3.org/1999/xlink\">\n",
       "<g class=\"graph\" id=\"graph0\" transform=\"scale(1 1) rotate(0) translate(4 82)\">\n",
       "<title>%3</title>\n",
       "<polygon fill=\"white\" points=\"-4,4 -4,-82 195.789,-82 195.789,4 -4,4\" stroke=\"none\"/>\n",
       "<!-- A -->\n",
       "<g class=\"node\" id=\"node1\"><title>A</title>\n",
       "<polygon fill=\"#494744\" points=\"32.0625,-14 3.0625,-14 3.0625,-0 32.0625,-0 32.0625,-14\" stroke=\"#494744\"/>\n",
       "<text fill=\"white\" font-family=\"Helvetica,sans-Serif\" font-size=\"8.00\" text-anchor=\"middle\" x=\"17.5625\" y=\"-4.6\">A</text>\n",
       "</g>\n",
       "<!-- choice -->\n",
       "<g class=\"node\" id=\"node2\"><title>choice</title>\n",
       "<polygon fill=\"#494744\" points=\"35.1877,-78 -0.0627232,-78 -0.0627232,-64 35.1877,-64 35.1877,-78\" stroke=\"#494744\"/>\n",
       "<text fill=\"white\" font-family=\"Helvetica,sans-Serif\" font-size=\"8.00\" text-anchor=\"middle\" x=\"17.5625\" y=\"-68.6\">choice</text>\n",
       "</g>\n",
       "<!-- expr -->\n",
       "<g class=\"node\" id=\"node3\"><title>expr</title>\n",
       "<polygon fill=\"#494744\" points=\"191.789,-62 162.789,-62 162.789,-48 191.789,-48 191.789,-62\" stroke=\"#494744\"/>\n",
       "<text fill=\"white\" font-family=\"Helvetica,sans-Serif\" font-size=\"8.00\" text-anchor=\"middle\" x=\"177.289\" y=\"-52.6\">expr</text>\n",
       "</g>\n",
       "<!-- choice&#45;&gt;expr -->\n",
       "<g class=\"edge\" id=\"edge1\"><title>choice-&gt;expr</title>\n",
       "<path d=\"M35.1439,-69.318C63.1614,-66.4758 119.973,-60.7128 152.324,-57.431\" fill=\"none\" stroke=\"#494744\"/>\n",
       "<polygon fill=\"#494744\" points=\"153.064,-60.874 162.66,-56.3826 152.358,-53.9097 153.064,-60.874\" stroke=\"#494744\"/>\n",
       "<text font-family=\"Helvetica,sans-Serif\" font-size=\"8.00\" text-anchor=\"middle\" x=\"98.957\" y=\"-68.6\">Input.AUTODEPENDENCY</text>\n",
       "</g>\n",
       "<!-- C -->\n",
       "<g class=\"node\" id=\"node4\"><title>C</title>\n",
       "<polygon fill=\"#494744\" points=\"32.0625,-46 3.0625,-46 3.0625,-32 32.0625,-32 32.0625,-46\" stroke=\"#494744\"/>\n",
       "<text fill=\"white\" font-family=\"Helvetica,sans-Serif\" font-size=\"8.00\" text-anchor=\"middle\" x=\"17.5625\" y=\"-36.6\">C</text>\n",
       "</g>\n",
       "<!-- C&#45;&gt;expr -->\n",
       "<g class=\"edge\" id=\"edge2\"><title>C-&gt;expr</title>\n",
       "<path d=\"M32.2756,-38.6186C56.0189,-38.2075 106.232,-38.4379 147.789,-46 149.474,-46.3065 151.198,-46.6836 152.923,-47.1079\" fill=\"none\" stroke=\"#494744\"/>\n",
       "<polygon fill=\"#494744\" points=\"151.971,-50.4761 162.55,-49.8927 153.916,-43.7517 151.971,-50.4761\" stroke=\"#494744\"/>\n",
       "<text font-family=\"Helvetica,sans-Serif\" font-size=\"8.00\" text-anchor=\"middle\" x=\"98.957\" y=\"-47.6\">Input.AUTODEPENDENCY</text>\n",
       "</g>\n",
       "</g>\n",
       "</svg>"
      ],
      "text/plain": [
       "<IPython.core.display.SVG object>"
      ]
     },
     "metadata": {},
     "output_type": "display_data"
    }
   ],
   "source": [
    "graph.set_expression(\"expr\", \"out('A') if out('choice') else out('C')\", locals)\n",
    "graphcat.notebook.display(graph)\n",
    "print(\"Output:\", graph.output(\"expr\"))\n",
    "graphcat.notebook.display(graph)"
   ]
  },
  {
   "cell_type": "code",
   "execution_count": 10,
   "metadata": {},
   "outputs": [
    {
     "data": {
      "image/svg+xml": [
       "<svg height=\"86pt\" viewBox=\"0.00 0.00 221.48 86.00\" width=\"221pt\" xmlns=\"http://www.w3.org/2000/svg\" xmlns:xlink=\"http://www.w3.org/1999/xlink\">\n",
       "<g class=\"graph\" id=\"graph0\" transform=\"scale(1 1) rotate(0) translate(4 82)\">\n",
       "<title>%3</title>\n",
       "<polygon fill=\"white\" points=\"-4,4 -4,-82 217.477,-82 217.477,4 -4,4\" stroke=\"none\"/>\n",
       "<!-- A -->\n",
       "<g class=\"node\" id=\"node1\"><title>A</title>\n",
       "<polygon fill=\"#494744\" points=\"32.0625,-14 3.0625,-14 3.0625,-0 32.0625,-0 32.0625,-14\" stroke=\"#494744\"/>\n",
       "<text fill=\"white\" font-family=\"Helvetica,sans-Serif\" font-size=\"8.00\" text-anchor=\"middle\" x=\"17.5625\" y=\"-4.6\">A</text>\n",
       "</g>\n",
       "<!-- choice -->\n",
       "<g class=\"node\" id=\"node2\"><title>choice</title>\n",
       "<polygon fill=\"#494744\" points=\"35.1877,-78 -0.0627232,-78 -0.0627232,-64 35.1877,-64 35.1877,-78\" stroke=\"#494744\"/>\n",
       "<text fill=\"white\" font-family=\"Helvetica,sans-Serif\" font-size=\"8.00\" text-anchor=\"middle\" x=\"17.5625\" y=\"-68.6\">choice</text>\n",
       "</g>\n",
       "<!-- expression -->\n",
       "<g class=\"node\" id=\"node3\"><title>expression</title>\n",
       "<polygon fill=\"white\" points=\"213.321,-62 162.944,-62 162.944,-48 213.321,-48 213.321,-62\" stroke=\"#494744\"/>\n",
       "<text fill=\"#494744\" font-family=\"Helvetica,sans-Serif\" font-size=\"8.00\" text-anchor=\"middle\" x=\"188.133\" y=\"-52.6\">expression</text>\n",
       "</g>\n",
       "<!-- choice&#45;&gt;expression -->\n",
       "<g class=\"edge\" id=\"edge1\"><title>choice-&gt;expression</title>\n",
       "<path d=\"M35.3419,-69.4074C62.6282,-66.8175 117.155,-61.642 152.882,-58.2509\" fill=\"none\" stroke=\"#494744\"/>\n",
       "<polygon fill=\"#494744\" points=\"153.244,-61.7324 162.869,-57.3031 152.583,-54.7637 153.244,-61.7324\" stroke=\"#494744\"/>\n",
       "<text font-family=\"Helvetica,sans-Serif\" font-size=\"8.00\" text-anchor=\"middle\" x=\"98.957\" y=\"-68.6\">Input.AUTODEPENDENCY</text>\n",
       "</g>\n",
       "<!-- C -->\n",
       "<g class=\"node\" id=\"node4\"><title>C</title>\n",
       "<polygon fill=\"#494744\" points=\"32.0625,-46 3.0625,-46 3.0625,-32 32.0625,-32 32.0625,-46\" stroke=\"#494744\"/>\n",
       "<text fill=\"white\" font-family=\"Helvetica,sans-Serif\" font-size=\"8.00\" text-anchor=\"middle\" x=\"17.5625\" y=\"-36.6\">C</text>\n",
       "</g>\n",
       "<!-- C&#45;&gt;expression -->\n",
       "<g class=\"edge\" id=\"edge2\"><title>C-&gt;expression</title>\n",
       "<path d=\"M32.218,-38.9761C55.8743,-39.1046 105.959,-40.1266 147.789,-46 149.459,-46.2344 151.162,-46.5043 152.878,-46.8009\" fill=\"none\" stroke=\"#494744\"/>\n",
       "<polygon fill=\"#494744\" points=\"152.21,-50.2365 162.698,-48.7308 153.56,-43.3679 152.21,-50.2365\" stroke=\"#494744\"/>\n",
       "<text font-family=\"Helvetica,sans-Serif\" font-size=\"8.00\" text-anchor=\"middle\" x=\"98.957\" y=\"-47.6\">Input.AUTODEPENDENCY</text>\n",
       "</g>\n",
       "</g>\n",
       "</svg>"
      ],
      "text/plain": [
       "<IPython.core.display.SVG object>"
      ]
     },
     "metadata": {},
     "output_type": "display_data"
    },
    {
     "name": "stdout",
     "output_type": "stream",
     "text": [
      "Output: 4\n"
     ]
    },
    {
     "data": {
      "image/svg+xml": [
       "<svg height=\"86pt\" viewBox=\"0.00 0.00 221.48 86.00\" width=\"221pt\" xmlns=\"http://www.w3.org/2000/svg\" xmlns:xlink=\"http://www.w3.org/1999/xlink\">\n",
       "<g class=\"graph\" id=\"graph0\" transform=\"scale(1 1) rotate(0) translate(4 82)\">\n",
       "<title>%3</title>\n",
       "<polygon fill=\"white\" points=\"-4,4 -4,-82 217.477,-82 217.477,4 -4,4\" stroke=\"none\"/>\n",
       "<!-- A -->\n",
       "<g class=\"node\" id=\"node1\"><title>A</title>\n",
       "<polygon fill=\"#494744\" points=\"32.0625,-14 3.0625,-14 3.0625,-0 32.0625,-0 32.0625,-14\" stroke=\"#494744\"/>\n",
       "<text fill=\"white\" font-family=\"Helvetica,sans-Serif\" font-size=\"8.00\" text-anchor=\"middle\" x=\"17.5625\" y=\"-4.6\">A</text>\n",
       "</g>\n",
       "<!-- choice -->\n",
       "<g class=\"node\" id=\"node2\"><title>choice</title>\n",
       "<polygon fill=\"#494744\" points=\"35.1877,-78 -0.0627232,-78 -0.0627232,-64 35.1877,-64 35.1877,-78\" stroke=\"#494744\"/>\n",
       "<text fill=\"white\" font-family=\"Helvetica,sans-Serif\" font-size=\"8.00\" text-anchor=\"middle\" x=\"17.5625\" y=\"-68.6\">choice</text>\n",
       "</g>\n",
       "<!-- expression -->\n",
       "<g class=\"node\" id=\"node3\"><title>expression</title>\n",
       "<polygon fill=\"#494744\" points=\"213.321,-62 162.944,-62 162.944,-48 213.321,-48 213.321,-62\" stroke=\"#494744\"/>\n",
       "<text fill=\"white\" font-family=\"Helvetica,sans-Serif\" font-size=\"8.00\" text-anchor=\"middle\" x=\"188.133\" y=\"-52.6\">expression</text>\n",
       "</g>\n",
       "<!-- choice&#45;&gt;expression -->\n",
       "<g class=\"edge\" id=\"edge1\"><title>choice-&gt;expression</title>\n",
       "<path d=\"M35.3419,-69.4074C62.6282,-66.8175 117.155,-61.642 152.882,-58.2509\" fill=\"none\" stroke=\"#494744\"/>\n",
       "<polygon fill=\"#494744\" points=\"153.244,-61.7324 162.869,-57.3031 152.583,-54.7637 153.244,-61.7324\" stroke=\"#494744\"/>\n",
       "<text font-family=\"Helvetica,sans-Serif\" font-size=\"8.00\" text-anchor=\"middle\" x=\"98.957\" y=\"-68.6\">Input.AUTODEPENDENCY</text>\n",
       "</g>\n",
       "<!-- C -->\n",
       "<g class=\"node\" id=\"node4\"><title>C</title>\n",
       "<polygon fill=\"#494744\" points=\"32.0625,-46 3.0625,-46 3.0625,-32 32.0625,-32 32.0625,-46\" stroke=\"#494744\"/>\n",
       "<text fill=\"white\" font-family=\"Helvetica,sans-Serif\" font-size=\"8.00\" text-anchor=\"middle\" x=\"17.5625\" y=\"-36.6\">C</text>\n",
       "</g>\n",
       "<!-- C&#45;&gt;expression -->\n",
       "<g class=\"edge\" id=\"edge2\"><title>C-&gt;expression</title>\n",
       "<path d=\"M32.218,-38.9761C55.8743,-39.1046 105.959,-40.1266 147.789,-46 149.459,-46.2344 151.162,-46.5043 152.878,-46.8009\" fill=\"none\" stroke=\"#494744\"/>\n",
       "<polygon fill=\"#494744\" points=\"152.21,-50.2365 162.698,-48.7308 153.56,-43.3679 152.21,-50.2365\" stroke=\"#494744\"/>\n",
       "<text font-family=\"Helvetica,sans-Serif\" font-size=\"8.00\" text-anchor=\"middle\" x=\"98.957\" y=\"-47.6\">Input.AUTODEPENDENCY</text>\n",
       "</g>\n",
       "</g>\n",
       "</svg>"
      ],
      "text/plain": [
       "<IPython.core.display.SVG object>"
      ]
     },
     "metadata": {},
     "output_type": "display_data"
    }
   ],
   "source": [
    "graph.rename_task(\"expr\", \"expression\")\n",
    "graphcat.notebook.display(graph)\n",
    "print(\"Output:\", graph.output(\"expression\"))\n",
    "graphcat.notebook.display(graph)"
   ]
  }
 ],
 "metadata": {
  "kernelspec": {
   "display_name": "Python 3",
   "language": "python",
   "name": "python3"
  },
  "language_info": {
   "codemirror_mode": {
    "name": "ipython",
    "version": 3
   },
   "file_extension": ".py",
   "mimetype": "text/x-python",
   "name": "python",
   "nbconvert_exporter": "python",
   "pygments_lexer": "ipython3",
   "version": "3.7.7"
  }
 },
 "nbformat": 4,
 "nbformat_minor": 4
}
