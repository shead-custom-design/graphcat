{
 "cells": [
  {
   "cell_type": "markdown",
   "metadata": {},
   "source": [
    "# Input Use Cases\n",
    "\n",
    "* `inputs.get()` - return value that matches key, default value if there's no match, fail if there's more than one.\n",
    "* `inputs.getone()` - return value that matches key, fail if there's no match or more than one.\n",
    "* `inputs.getall()` - return sequence of values that match key, empty sequence otherwise."
   ]
  },
  {
   "cell_type": "code",
   "execution_count": 1,
   "metadata": {},
   "outputs": [
    {
     "name": "stderr",
     "output_type": "stream",
     "text": [
      "DEBUG:graphcat.common:Task D updating.\n",
      "INFO:graphcat.common:Task D executing. Inputs: {0, 1, 1}\n",
      "DEBUG:graphcat.common:Task A updating.\n",
      "INFO:graphcat.common:Task A executing. Inputs: {}\n",
      "INFO:graphcat.common:Task A finished. Output: 1\n",
      "DEBUG:graphcat.common:Task B updating.\n",
      "INFO:graphcat.common:Task B executing. Inputs: {}\n",
      "INFO:graphcat.common:Task B finished. Output: 2\n",
      "DEBUG:graphcat.common:Task C updating.\n",
      "INFO:graphcat.common:Task C executing. Inputs: {}\n",
      "INFO:graphcat.common:Task C finished. Output: 3\n",
      "INFO:graphcat.common:Task D finished. Output: 6\n"
     ]
    },
    {
     "data": {
      "image/svg+xml": [
       "<svg height=\"86pt\" viewBox=\"0.00 0.00 100.45 86.00\" width=\"100pt\" xmlns=\"http://www.w3.org/2000/svg\" xmlns:xlink=\"http://www.w3.org/1999/xlink\">\n",
       "<g class=\"graph\" id=\"graph0\" transform=\"scale(1 1) rotate(0) translate(4 82)\">\n",
       "<title>%3</title>\n",
       "<polygon fill=\"white\" points=\"-4,4 -4,-82 96.4492,-82 96.4492,4 -4,4\" stroke=\"none\"/>\n",
       "<!-- A -->\n",
       "<g class=\"node\" id=\"node1\"><title>A</title>\n",
       "<polygon fill=\"#494744\" points=\"29,-78 0,-78 0,-64 29,-64 29,-78\" stroke=\"#494744\"/>\n",
       "<text fill=\"white\" font-family=\"Helvetica,sans-Serif\" font-size=\"8.00\" text-anchor=\"middle\" x=\"14.5\" y=\"-68.6\">A</text>\n",
       "</g>\n",
       "<!-- D -->\n",
       "<g class=\"node\" id=\"node2\"><title>D</title>\n",
       "<polygon fill=\"#494744\" points=\"92.4492,-46 63.4492,-46 63.4492,-32 92.4492,-32 92.4492,-46\" stroke=\"#494744\"/>\n",
       "<text fill=\"white\" font-family=\"Helvetica,sans-Serif\" font-size=\"8.00\" text-anchor=\"middle\" x=\"77.9492\" y=\"-36.6\">D</text>\n",
       "</g>\n",
       "<!-- A&#45;&gt;D -->\n",
       "<g class=\"edge\" id=\"edge1\"><title>A-&gt;D</title>\n",
       "<path d=\"M29.1376,-63.8982C36.5363,-60.0452 45.8733,-55.1829 54.3286,-50.7798\" fill=\"none\" stroke=\"#494744\"/>\n",
       "<polygon fill=\"#494744\" points=\"56.0969,-53.8051 63.3498,-46.082 52.8637,-47.5965 56.0969,-53.8051\" stroke=\"#494744\"/>\n",
       "<text font-family=\"Helvetica,sans-Serif\" font-size=\"8.00\" text-anchor=\"middle\" x=\"46.2246\" y=\"-56.6\">0</text>\n",
       "</g>\n",
       "<!-- B -->\n",
       "<g class=\"node\" id=\"node3\"><title>B</title>\n",
       "<polygon fill=\"#494744\" points=\"29,-46 0,-46 0,-32 29,-32 29,-46\" stroke=\"#494744\"/>\n",
       "<text fill=\"white\" font-family=\"Helvetica,sans-Serif\" font-size=\"8.00\" text-anchor=\"middle\" x=\"14.5\" y=\"-36.6\">B</text>\n",
       "</g>\n",
       "<!-- B&#45;&gt;D -->\n",
       "<g class=\"edge\" id=\"edge2\"><title>B-&gt;D</title>\n",
       "<path d=\"M29.1376,-39C36.2181,-39 45.0737,-39 53.2329,-39\" fill=\"none\" stroke=\"#494744\"/>\n",
       "<polygon fill=\"#494744\" points=\"53.3498,-42.5001 63.3498,-39 53.3497,-35.5001 53.3498,-42.5001\" stroke=\"#494744\"/>\n",
       "<text font-family=\"Helvetica,sans-Serif\" font-size=\"8.00\" text-anchor=\"middle\" x=\"46.2246\" y=\"-40.6\">1</text>\n",
       "</g>\n",
       "<!-- C -->\n",
       "<g class=\"node\" id=\"node4\"><title>C</title>\n",
       "<polygon fill=\"#494744\" points=\"29,-14 0,-14 0,-0 29,-0 29,-14\" stroke=\"#494744\"/>\n",
       "<text fill=\"white\" font-family=\"Helvetica,sans-Serif\" font-size=\"8.00\" text-anchor=\"middle\" x=\"14.5\" y=\"-4.6\">C</text>\n",
       "</g>\n",
       "<!-- C&#45;&gt;D -->\n",
       "<g class=\"edge\" id=\"edge3\"><title>C-&gt;D</title>\n",
       "<path d=\"M29.1376,-14.1018C36.5363,-17.9548 45.8733,-22.8171 54.3286,-27.2202\" fill=\"none\" stroke=\"#494744\"/>\n",
       "<polygon fill=\"#494744\" points=\"52.8637,-30.4035 63.3498,-31.918 56.0969,-24.1949 52.8637,-30.4035\" stroke=\"#494744\"/>\n",
       "<text font-family=\"Helvetica,sans-Serif\" font-size=\"8.00\" text-anchor=\"middle\" x=\"46.2246\" y=\"-24.6\">1</text>\n",
       "</g>\n",
       "</g>\n",
       "</svg>"
      ],
      "text/plain": [
       "<IPython.core.display.SVG object>"
      ]
     },
     "metadata": {},
     "output_type": "display_data"
    }
   ],
   "source": [
    "import logging\n",
    "logging.basicConfig(level=logging.DEBUG)\n",
    "\n",
    "import graphcat\n",
    "import graphcat.notebook\n",
    "\n",
    "def test(graph, name, inputs):\n",
    "    return sum([value() for value in inputs.values()])\n",
    "\n",
    "try:\n",
    "    graph = graphcat.DynamicGraph()\n",
    "    logger = graphcat.Logger(graph)\n",
    "    graph.add_task(\"A\", graphcat.constant(1))\n",
    "    graph.add_task(\"B\", graphcat.constant(2))\n",
    "    graph.add_task(\"C\", graphcat.constant(3))\n",
    "    graph.add_task(\"D\", test)\n",
    "    graph.add_links(\"A\", (\"D\", 0))\n",
    "    graph.add_links(\"B\", (\"D\", 1))\n",
    "    graph.add_links(\"C\", (\"D\", 1))\n",
    "    graph.output(\"D\")\n",
    "except Exception as e:\n",
    "    logging.error(f\"Uncaught exception: {e!r}\")\n",
    "\n",
    "graphcat.notebook.display(graph)"
   ]
  },
  {
   "cell_type": "code",
   "execution_count": null,
   "metadata": {},
   "outputs": [],
   "source": []
  }
 ],
 "metadata": {
  "kernelspec": {
   "display_name": "Python 3",
   "language": "python",
   "name": "python3"
  },
  "language_info": {
   "codemirror_mode": {
    "name": "ipython",
    "version": 3
   },
   "file_extension": ".py",
   "mimetype": "text/x-python",
   "name": "python",
   "nbconvert_exporter": "python",
   "pygments_lexer": "ipython3",
   "version": "3.7.7"
  }
 },
 "nbformat": 4,
 "nbformat_minor": 4
}
